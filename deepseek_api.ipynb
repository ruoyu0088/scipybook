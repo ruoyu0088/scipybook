{
 "cells": [
  {
   "cell_type": "code",
   "execution_count": 1,
   "id": "348dc8e5-8238-4ba9-bdf1-d88c8bbf5bbd",
   "metadata": {},
   "outputs": [],
   "source": [
    "from pathlib import Path\n",
    "from dataclasses import dataclass\n",
    "import re\n",
    "import nbformat"
   ]
  },
  {
   "cell_type": "code",
   "execution_count": 53,
   "id": "a5568b22-d0fc-4897-89bb-818e56de8591",
   "metadata": {},
   "outputs": [],
   "source": [
    "folder = Path('scipybook')\n",
    "filename = \"numpy-tmp\""
   ]
  },
  {
   "cell_type": "code",
   "execution_count": 54,
   "id": "cd010963-c7ec-4aa2-a9f1-254a0e473df6",
   "metadata": {},
   "outputs": [],
   "source": [
    "cells = []\n",
    "\n",
    "with open(folder / f'{filename}.ipynb', 'r', encoding=\"utf-8\") as f:\n",
    "    notebook = nbformat.read(f, as_version=4)\n",
    "\n",
    "for cell in notebook.cells:\n",
    "    if cell.cell_type == 'code':\n",
    "        cells.append((\"code\", cell.source))\n",
    "    elif cell.cell_type == 'markdown':\n",
    "        cells.append((\"markdown\", cell.source))\n",
    "    else:\n",
    "        print(f\"Other Cell Type:\\n{cell.source}\\n\")\n",
    "\n",
    "res = []\n",
    "for i, (type, text) in enumerate(cells):\n",
    "    res.append(f\"$$${i}-{type}\\n{text}\")"
   ]
  },
  {
   "cell_type": "code",
   "execution_count": 55,
   "id": "9a9d1e42-ea71-48f1-acb4-17491fa34d16",
   "metadata": {},
   "outputs": [],
   "source": [
    "def get_unused_filename(folder, filename):\n",
    "    for i in range(100):\n",
    "        fn = folder / f\"{filename}_{i:02d}.txt\"\n",
    "        if not fn.exists():\n",
    "            return fn"
   ]
  },
  {
   "cell_type": "code",
   "execution_count": 56,
   "id": "bcaffe43-fc29-4afe-af77-1e464b487da4",
   "metadata": {},
   "outputs": [
    {
     "name": "stdout",
     "output_type": "stream",
     "text": [
      "14 14\n"
     ]
    }
   ],
   "source": [
    "from openai import OpenAI\n",
    "\n",
    "text = \"\\n\".join(res[:])\n",
    "# print(text)\n",
    "\n",
    "key = \"sk-9c886ac68738454185d2cd5966c8cf28\"\n",
    "\n",
    "client = OpenAI(api_key=key, base_url=\"https://api.deepseek.com\")\n",
    "\n",
    "request = \"\"\"\n",
    "You are a helpful Chinese to Japanese translator. \n",
    "Translate the text from Chinese into Japanese. \n",
    "Please use 丁寧語. \n",
    "Keep the original text format. Keep the line starts with $$$ unchanged.\n",
    "don't change the source code, only translate the comments in it.\n",
    "Do not add any unrelated words or comments to the translation.\n",
    "\"\"\"\n",
    "\n",
    "response = client.chat.completions.create(\n",
    "    model=\"deepseek-chat\",\n",
    "    messages=[\n",
    "        {\"role\": \"system\", \"content\": request},\n",
    "        {\"role\": \"user\", \"content\": text},\n",
    "    ],\n",
    "    stream=False\n",
    ")\n",
    "\n",
    "result = response.choices[0].message.content\n",
    "\n",
    "last_trans_id = int(re.findall(r\"\\$\\$\\$(\\d+)\", result)[-1])\n",
    "last_id = int(re.findall(r\"\\$\\$\\$(\\d+)\", text)[-1])\n",
    "print(last_id, last_trans_id)\n",
    "\n",
    "with open(get_unused_filename(folder, filename), \"w\", encoding=\"utf-8\") as f:\n",
    "    f.write(result)"
   ]
  },
  {
   "cell_type": "code",
   "execution_count": 57,
   "id": "517ae551-3af6-42f0-a7bc-a600ae8afb1e",
   "metadata": {},
   "outputs": [],
   "source": [
    "@dataclass\n",
    "class Cell:\n",
    "    type: str\n",
    "    content: list\n",
    "\n",
    "    @property\n",
    "    def text(self):\n",
    "        return \"\".join(self.content).rstrip()\n",
    "\n",
    "trans_cells = {}\n",
    "\n",
    "cell = None\n",
    "for fn in folder.glob(f\"{filename}*.txt\"):\n",
    "    with open(fn, encoding=\"utf-8\") as f:\n",
    "        for line in f:\n",
    "            if line.startswith(\"$$$\"):\n",
    "                num, type = line.strip()[3:].split(\"-\")\n",
    "                cell = Cell(type=type, content=[])\n",
    "                trans_cells[int(num)] = cell\n",
    "            else:\n",
    "                if cell is not None:\n",
    "                    cell.content.append(line)\n",
    "\n",
    "with open(folder / f\"{filename}.ipynb\", 'r', encoding=\"utf-8\") as f:\n",
    "    notebook = nbformat.read(f, as_version=4)\n",
    "\n",
    "for i, cell in enumerate(notebook.cells):\n",
    "    cell.source = trans_cells[i].text\n",
    "\n",
    "nbformat.write(notebook, folder / f\"{filename}-jp.ipynb\")"
   ]
  },
  {
   "cell_type": "code",
   "execution_count": null,
   "id": "e8ffab69-37a5-4067-b6d7-a38a7efeacaa",
   "metadata": {},
   "outputs": [],
   "source": []
  }
 ],
 "metadata": {
  "kernelspec": {
   "display_name": "Python 3 (ipykernel)",
   "language": "python",
   "name": "python3"
  },
  "language_info": {
   "codemirror_mode": {
    "name": "ipython",
    "version": 3
   },
   "file_extension": ".py",
   "mimetype": "text/x-python",
   "name": "python",
   "nbconvert_exporter": "python",
   "pygments_lexer": "ipython3",
   "version": "3.12.2"
  }
 },
 "nbformat": 4,
 "nbformat_minor": 5
}
