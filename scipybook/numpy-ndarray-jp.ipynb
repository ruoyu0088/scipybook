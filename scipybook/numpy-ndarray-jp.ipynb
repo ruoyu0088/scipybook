{
 "cells": [
  {
   "cell_type": "markdown",
   "metadata": {},
   "source": [
    "# NumPyの配列\n",
    "\n",
    "標準のPythonでは、リスト(list)を使用して一連の値を保存し、配列として使用することができます。しかし、リストの要素は任意のオブジェクトであるため、リストにはオブジェクトへのポインタが保存されます。このため、例えば`[1, 2, 3]`のような単純なリストを保存するためには、3つのポインタと3つの整数オブジェクトが必要です。数値計算において、この構造は明らかにメモリとCPUの計算時間を浪費します。\n",
    "\n",
    "さらに、Pythonは`array`モジュールも提供しており、これが提供する`array`オブジェクトはリストとは異なり、数値を直接保存することができ、C言語の1次元配列に似ています。しかし、多次元配列をサポートしておらず、さまざまな演算関数もないため、数値計算には適していません。\n",
    "\n",
    "NumPyの誕生はこれらの欠点を補うもので、NumPyは以下の2つの基本的なオブジェクトを提供します：\n",
    "\n",
    "* ndarray：英語でn-dimensional array objectと呼ばれ、単一のデータ型を保存する多次元配列であり、後で統一して配列と呼びます。\n",
    "* ufunc：英語でuniversal function objectと呼ばれ、配列を処理するための特殊な関数です。\n",
    "\n",
    "本書ではNumPy 1.26バージョンを使用しています。以下のプログラムを実行して、NumPyのバージョン番号を確認してください："
   ]
  },
  {
   "cell_type": "code",
   "execution_count": 5,
   "metadata": {},
   "outputs": [
    {
     "data": {
      "text/plain": [
       "'1.26.4'"
      ]
     },
     "execution_count": 5,
     "metadata": {},
     "output_type": "execute_result"
    }
   ],
   "source": [
    "import helper.magics\n",
    "from matplotlib import pyplot as plt\n",
    "import helper.matplotlib\n",
    "import numpy as np\n",
    "np.__version__"
   ]
  },
  {
   "cell_type": "markdown",
   "metadata": {},
   "source": [
    "## リストとarrayモジュールの配列のメモリ構造\n",
    "\n",
    "このセクションでは、まずNumPy配列とリスト、および`array`モジュールの配列を比較し、NumPy配列のメモリ構造を理解するのに役立ちます。\n",
    "\n",
    "Pythonの標準データ型には配列型がありません。多次元配列を表現する必要がある場合、ネストされたリストを使用するしかありません。しかし、Pythonではすべてがオブジェクトであるため、3×3の2次元配列を表現するには、次のグラフに示すように4つのリストオブジェクトと9つの浮動小数点数オブジェクトが必要です。図中の各リストオブジェクトは固定サイズのメモリ領域であり、その`ob_item`フィールドはリスト内の各要素オブジェクトを指すポインタ配列を指しています。また、Pythonでは浮動小数点数もオブジェクトであるため、実際の数値に加えて、オブジェクトに必要な追加情報（図中のfloat header部分）も保存する必要があります。\n",
    "\n",
    "![ネストされたリストのメモリ構造](images/nested-list.svg \"\")\n",
    "\n",
    "明らかに、ネストされたリスト構造はメモリ空間を浪費するだけでなく、データがメモリ内に分散している可能性があり、キャッシュメカニズムによるメモリアクセス速度の向上には不利です。以下の`iter_all_size(obj)`は`sys.getsizeof()`を使用して、ネストされたリストが占めるメモリバイト数を計算します。"
   ]
  },
  {
   "cell_type": "code",
   "execution_count": 3,
   "metadata": {},
   "outputs": [
    {
     "data": {
      "text/plain": [
       "560"
      ]
     },
     "execution_count": 3,
     "metadata": {},
     "output_type": "execute_result"
    }
   ],
   "source": [
    "import sys\n",
    "alist = [[1.0, 2.0, 3.0], [4.0, 5.0, 6.0], [7.0, 8.0, 9.0]]\n",
    "\n",
    "def iter_all_size(obj):\n",
    "    yield sys.getsizeof(obj)\n",
    "    \n",
    "    if isinstance(obj, list):\n",
    "        for o in obj:\n",
    "            yield from iter_all_size(o)\n",
    "\n",
    "            \n",
    "sum(iter_all_size(alist))"
   ]
  },
  {
   "cell_type": "markdown",
   "metadata": {},
   "source": [
    "Python標準ライブラリの`array`モジュールの`array`配列を使用すると、複数の数値のバイナリデータを連続して保存することができます。`array`配列のメモリ構造は次のグラフに示す通りです。`ob_item`フィールドは配列のバイナリデータを保存するメモリ領域を指し、`ob_descr`フィールドは配列要素の型を記述するオブジェクトを指します。しかし、`array`配列は1次元のみであり、多次元配列を表現することはできません。\n",
    "\n",
    "![array配列のメモリ構造](images/array.svg \"\")"
   ]
  },
  {
   "cell_type": "code",
   "execution_count": 4,
   "metadata": {},
   "outputs": [
    {
     "name": "stdout",
     "output_type": "stream",
     "text": [
      "sys.getsizeof(arr) = 152\n"
     ]
    }
   ],
   "source": [
    "from array import array\n",
    "arr = array('d', [1, 2, 3, 4, 5, 6, 7, 8, 9])\n",
    "print(f'{sys.getsizeof(arr) = }')"
   ]
  },
  {
   "cell_type": "markdown",
   "metadata": {},
   "source": [
    "## NumPy配列のメモリ構造\n",
    "\n",
    "NumPyの`ndarray`配列は、前述の`array`配列と同様に、データストレージ領域に直接配列の各要素の値を保存します。さらに、`ndarray`配列の`dtype`属性は配列要素のデータ型を保存し、`ndim`は配列の次元を保存し、`shape`は配列のサイズを保存し、`strides`は配列要素間のアドレスオフセットを保存し、`flags`は配列のさまざまなストレージフラグを保存します。以下では、ネストされたリスト`alist`を`ndarray`配列に変換し、その占めるメモリを計算します。結果から、`ndarray`はデータをより効率的に保存でき、データ量が大きいほどこの利点が顕著であることがわかります。"
   ]
  },
  {
   "cell_type": "markdown",
   "metadata": {},
   "source": [
    "![NumPy配列のメモリ構造](images/ndarray.svg \"\")"
   ]
  },
  {
   "cell_type": "code",
   "execution_count": 14,
   "metadata": {},
   "outputs": [
    {
     "name": "stdout",
     "output_type": "stream",
     "text": [
      "float64 shape:(3, 3) strides:(24, 8) W|C|O\n",
      "[[1. 2. 3.]\n",
      " [4. 5. 6.]\n",
      " [7. 8. 9.]]\n",
      "sys.getsizeof(ndarr) = 200\n"
     ]
    }
   ],
   "source": [
    "from helper.numpy import array_pretty\n",
    "\n",
    "ndarr = np.asarray(alist)\n",
    "array_pretty(ndarr)\n",
    "print(f'{sys.getsizeof(ndarr) = }')"
   ]
  },
  {
   "cell_type": "markdown",
   "metadata": {},
   "source": [
    "ndarray配列の`tobytes()`メソッドを使用すると、データストレージ領域の生データを取得できます。これはバイト列(bytes)オブジェクト`arr_bytes`を返します。❶は`arr_bytes`の最初の8バイトの内容を表示し、この8バイトは倍精度浮動小数点数1.0のバイナリデータです。❷はPythonの標準ライブラリの`struct`モジュールを使用してこのバイナリデータを解析することができ、\"9d\"はバイナリデータが9つの倍精度浮動小数点数であることを示します。"
   ]
  },
  {
   "cell_type": "code",
   "execution_count": 15,
   "metadata": {},
   "outputs": [
    {
     "name": "stdout",
     "output_type": "stream",
     "text": [
      "00 00 00 00 00 00 f0 3f\n"
     ]
    },
    {
     "data": {
      "text/plain": [
       "(1.0, 2.0, 3.0, 4.0, 5.0, 6.0, 7.0, 8.0, 9.0)"
      ]
     },
     "execution_count": 15,
     "metadata": {},
     "output_type": "execute_result"
    }
   ],
   "source": [
    "import struct\n",
    "\n",
    "arr_bytes = ndarr.tobytes()\n",
    "print(arr_bytes[:8].hex(' '))  #❶\n",
    "struct.unpack(\"9d\", arr_bytes) #❷"
   ]
  },
  {
   "cell_type": "markdown",
   "metadata": {},
   "source": [
    "ndarray配列は他のオブジェクトとデータストレージ領域を共有することもできます。❶は`numpy.asarray()`を使用してarray配列`arr`をndarray配列`ndarr_view1`に変換し、`asarray()`は自動的に要素型を取得できます。❷は`numpy.frombuffer()`を使用してバイト列オブジェクトとデータを共有する配列`ndarr_views2`を作成し、パラメータ`dtype`で配列の要素型を指定します。\"f8\"は8バイトの倍精度浮動小数点数型を示します。\n",
    "\n",
    "プログラムでは、3つの配列の`owndata`と`writeable`フラグを確認します。`owndata`が`True`の場合、その配列はデータストレージ領域を所有しており、`False`の場合、データストレージ領域は他のオブジェクトによって提供されています。`writable`が`True`の場合、データストレージ領域は書き込み可能です。`ndarr`はネストされたリスト`alist`から変換されたものであり、ネストされたリストとメモリを共有できないため、`asarray()`はすべてのデータをコピーし、`arr`はデータストレージ領域を所有しています。`ndarr_view1`はarrayオブジェクト`arr`から変換されたものであり、`arr`とデータストレージ領域を共有しているため、`owndata`フラグは`False`です。`ndarr_view2`は`arr_bytes`とデータストレージ領域を共有しており、bytesオブジェクトは不変であるため、`ndarr_view2`の`writeable`フラグは`False`です。"
   ]
  },
  {
   "cell_type": "code",
   "execution_count": 16,
   "metadata": {},
   "outputs": [
    {
     "name": "stdout",
     "output_type": "stream",
     "text": [
      "ndarr      .flags.owndata =  True, ndarr      .flags.writeable = True\n",
      "ndarr_view1.flags.owndata = False, ndarr_view1.flags.writeable = True\n",
      "ndarr_view2.flags.owndata = False, ndarr_view2.flags.writeable = False\n"
     ]
    }
   ],
   "source": [
    "ndarr_view1 = np.asarray(arr) #❶\n",
    "ndarr_view2 = np.frombuffer(arr_bytes, dtype=\"f8\") #❷\n",
    "print(f'{ndarr      .flags.owndata =  }, {ndarr      .flags.writeable = }')\n",
    "print(f'{ndarr_view1.flags.owndata = }, {ndarr_view1.flags.writeable = }')\n",
    "print(f'{ndarr_view2.flags.owndata = }, {ndarr_view2.flags.writeable = }')"
   ]
  },
  {
   "cell_type": "markdown",
   "metadata": {},
   "source": [
    "他のオブジェクトとデータストレージ領域を共有する場合、参照されているオブジェクトがガベージコレクションされないようにする必要があるため、ndarray配列は`base`属性を使用して参照されているオブジェクトを保存します。次のグラフは、`ndarr_view1`と`ndarr_view2`の2つの配列と、それらが参照するオブジェクトのメモリ内の構造を示しています。\n",
    "\n",
    "![他のオブジェクトとメモリを共有する配列](images/ndarray-view.svg \"\")\n",
    "\n",
    "以下のプログラムを使用してこのグラフを検証できます："
   ]
  },
  {
   "cell_type": "code",
   "execution_count": 17,
   "metadata": {},
   "outputs": [
    {
     "data": {
      "text/plain": [
       "(True, True)"
      ]
     },
     "execution_count": 17,
     "metadata": {},
     "output_type": "execute_result"
    }
   ],
   "source": [
    "ndarr_view1.base.obj is arr, ndarr_view2.base is arr_bytes"
   ]
  },
  {
   "cell_type": "markdown",
   "metadata": {},
   "source": [
    "## shapeとstrides属性\n",
    "\n",
    "配列の`shape`属性は配列の形状を保存し、配列の各軸の長さを記述するタプルです。配列`ndarr`の`shape`属性には2つの要素があるため、これは2次元配列であり、第0軸の長さは3、第1軸の長さも3です。配列の`strides`属性は各軸上の隣接する2つの要素のアドレス差、つまりある軸のインデックスが1増加したときに、データストレージ領域内のポインタが増加するバイト数を保存します。例えば、`ndarr`の`strides`は`(24, 8)`であり、第0軸のインデックスが1増加すると、データのアドレスは24バイト増加します。つまり、`ndarr[1, 0]`のアドレスは`ndarr[0, 0]`のアドレスより24バイト大きく、これは3つの倍精度浮動小数点数の総バイト数に相当します。第1軸のインデックスが1増加すると、データのアドレスは8バイト増加し、これは1つの倍精度浮動小数点数のバイト数に相当します。\n",
    "\n",
    "`strides`属性の値が対応する軸が占めるバイト数と正確に一致する場合、データはメモリ内で連続して保存されます。多次元配列の要素は、データストレージ領域内で2つの形式で配置されます：C言語形式とFortran言語形式です。C言語では、多次元配列の第0軸が最上位であり、第0軸のインデックスが1増加すると、要素のアドレスが最も多く増加します。一方、Fortran言語では、多次元配列の第0軸が最下位であり、第0軸のインデックスが1増加すると、アドレスは1つの要素のバイト数だけ増加します。配列オブジェクトの`T`属性を使用すると、`strides`属性が反転された配列を取得できます。これは元の配列とデータストレージ領域を共有します。以下の例では、`ndarr`配列はデータストレージ領域を所有しており、`ndarr_t`は`ndarr`のビューであり、両者の`strides`属性は正反対です。"
   ]
  },
  {
   "cell_type": "code",
   "execution_count": 19,
   "metadata": {},
   "outputs": [
    {
     "name": "stdout",
     "output_type": "stream",
     "text": [
      "float64 shape:(3, 3) strides:(24, 8) W|C|O\n",
      "[[1. 2. 3.]\n",
      " [4. 5. 6.]\n",
      " [7. 8. 9.]]\n",
      "float64 shape:(3, 3) strides:(8, 24) W|F\n",
      "[[1. 4. 7.]\n",
      " [2. 5. 8.]\n",
      " [3. 6. 9.]]\n"
     ]
    }
   ],
   "source": [
    "ndarr_t =ndarr.T\n",
    "array_pretty(ndarr)\n",
    "array_pretty(ndarr_t)"
   ]
  },
  {
   "cell_type": "markdown",
   "metadata": {},
   "source": [
    "![配列の転置と元の配列の関係](images/ndarray-transpose.svg \"\")"
   ]
  },
  {
   "cell_type": "markdown",
   "metadata": {},
   "source": [
    "`ndarr`の`C_CONTIGUOUS`フラグが`True`の場合、その要素はC言語形式で連続して配置されており、`ndarr_t`の`F_CONTIGUOUS`フラグが`True`の場合、その要素はFortran言語形式で連続して配置されています。"
   ]
  },
  {
   "cell_type": "code",
   "execution_count": 20,
   "metadata": {},
   "outputs": [
    {
     "name": "stdout",
     "output_type": "stream",
     "text": [
      "True True\n"
     ]
    }
   ],
   "source": [
    "print(ndarr.flags['C_CONTIGUOUS'], ndarr_t.flags['F_CONTIGUOUS'])"
   ]
  },
  {
   "cell_type": "markdown",
   "metadata": {},
   "source": [
    "スライスを使用して同じデータブロックから異なる`shape`と`strides`の配列オブジェクトを作成するだけでなく、これらの属性を直接設定することで、スライスでは実現できない効果を得ることができます。例えば："
   ]
  },
  {
   "cell_type": "code",
   "execution_count": 10,
   "metadata": {
    "collapsed": false,
    "jupyter": {
     "outputs_hidden": false
    }
   },
   "outputs": [
    {
     "name": "stdout",
     "output_type": "stream",
     "text": [
      "        a                b     \n",
      "------------------  -----------\n",
      "[0, 1, 2, 3, 4, 5]  [[0, 1, 2],\n",
      "                     [1, 2, 3],\n",
      "                     [2, 3, 4],\n",
      "                     [3, 4, 5]]\n"
     ]
    }
   ],
   "source": [
    "from numpy.lib.stride_tricks import as_strided\n",
    "a = np.arange(6)\n",
    "b = as_strided(a, shape=(4, 3), strides=(4, 4))\n",
    "%C a; b"
   ]
  },
  {
   "cell_type": "markdown",
   "metadata": {},
   "source": [
    "この例では、NumPyの補助モジュールから`as_strided()`関数をインポートしました。そして、長さ6の1次元配列`a`から、形状が`(4, 3)`の2次元配列`b`を作成しました。`strides`パラメータを使用して配列`b`の`strides`属性を直接指定したため、配列`b`と配列`a`はデータブロックを共有し、`b`の前後の行には2つの要素が重複しています。例えば、以下のように`a[2]`の値を変更すると、`b`の前の3行の対応する要素も変更されます："
   ]
  },
  {
   "cell_type": "code",
   "execution_count": 11,
   "metadata": {
    "collapsed": false,
    "jupyter": {
     "outputs_hidden": false
    }
   },
   "outputs": [
    {
     "data": {
      "text/plain": [
       "array([[ 0,  1, 20],\n",
       "       [ 1, 20,  3],\n",
       "       [20,  3,  4],\n",
       "       [ 3,  4,  5]])"
      ]
     },
     "execution_count": 11,
     "metadata": {},
     "output_type": "execute_result"
    }
   ],
   "source": [
    "a[2] = 20\n",
    "b"
   ]
  },
  {
   "cell_type": "markdown",
   "metadata": {},
   "source": [
    "データを処理する際、データをブロック処理する必要があり、平滑化を保つために各ブロック間に一定の重複が必要な場合があります。このような場合、上記の方法を使用してデータを重複させてブロック処理することができます。ただし、`as_strided()`を使用する際、NumPyはメモリ境界チェックを行わないため、`shape`と`strides`の設定が不適切な場合、予期しないエラーが発生する可能性があります。"
   ]
  },
  {
   "cell_type": "markdown",
   "metadata": {},
   "source": [
    "## メモリビュー"
   ]
  },
  {
   "cell_type": "markdown",
   "metadata": {},
   "source": [
    "`ndarray`の`view()`メソッドを使用して、同じデータブロックから異なる`dtype`の配列オブジェクトを作成することができます。つまり、同じメモリ内のバイナリデータを異なる数値型で表示することができます："
   ]
  },
  {
   "cell_type": "code",
   "execution_count": 2,
   "metadata": {
    "collapsed": false,
    "jupyter": {
     "outputs_hidden": false
    }
   },
   "outputs": [
    {
     "name": "stdout",
     "output_type": "stream",
     "text": [
      "            b                                   c                     \n",
      "--------------------------  ------------------------------------------\n",
      "[[         0, 1065353216],  [[  0,   0,   0,   0,   0,   0, 128,  63],\n",
      " [1073741824, 1077936128],   [  0,   0,   0,  64,   0,   0,  64,  64],\n",
      " [1082130432, 1084227584]]   [  0,   0, 128,  64,   0,   0, 160,  64]]\n"
     ]
    }
   ],
   "source": [
    "a = np.array([[0, 1], [2, 3], [4, 5]], dtype=np.float32)\n",
    "b = a.view(np.uint32)\n",
    "c = a.view(np.uint8)\n",
    "%C 2 b; c"
   ]
  },
  {
   "cell_type": "markdown",
   "metadata": {},
   "source": [
    "配列`a`の要素型は単精度浮動小数点数であり、4バイトを占有します。`a.view(np.uint32)`を使用して、新しい配列を作成します。この配列は配列`a`と同じデータメモリを使用しますが、4バイトのデータを符号なし32ビット整数として処理します。一方、`a.view(np.uint8)`は各バイトを単一バイトの符号なし整数として扱うため、形状が`(3, 8)`の配列が得られます。`view()`メソッドを使用して得られた新しい配列は元の配列とメモリを共有し、`a[0, 0]`が変更されると、`b[0, 0]`と`c[0, :4]`も変更されます："
   ]
  },
  {
   "cell_type": "code",
   "execution_count": 3,
   "metadata": {
    "collapsed": false,
    "jupyter": {
     "outputs_hidden": false
    }
   },
   "outputs": [
    {
     "name": "stdout",
     "output_type": "stream",
     "text": [
      " b[0, 0]          c[0, :4]      \n",
      "----------  --------------------\n",
      "1078523331  [195, 245,  72,  64]\n"
     ]
    }
   ],
   "source": [
    "a[0, 0] = 3.14\n",
    "%C 2 b[0, 0]; c[0, :4]"
   ]
  },
  {
   "cell_type": "markdown",
   "metadata": {},
   "source": [
    "次に、`view()`メソッドを使用した興味深い例を見てみましょう。『Quake III Arena』のC言語ソースコードには、平方根の逆数を計算する魔法のような関数`Q_rsqrt()`があります。コードではニュートン法を使用して平方根の逆数を計算していますが、これは特に魔法ではありません。しかし、その中には魔法の数字`0x5f3759df`が含まれており、単精度浮動小数点数を32ビット整数として扱い、理解しがたい演算を行っています："
   ]
  },
  {
   "cell_type": "markdown",
   "metadata": {},
   "source": [
    ":::{seealso}\n",
    "https://en.wikipedia.org/wiki/Fast_inverse_square_root\n",
    "\n",
    "ウィキペディアの『Quake』で`0x5f3759df`を使用して平方根の逆数を計算するアルゴリズムの説明\n",
    ":::"
   ]
  },
  {
   "cell_type": "markdown",
   "metadata": {},
   "source": [
    "```c\n",
    "float Q_rsqrt( float number )\n",
    "{\n",
    "\tlong i;\n",
    "\tfloat x2, y;\n",
    "\tconst float threehalfs = 1.5F;\n",
    " \n",
    "\tx2 = number * 0.5F;\n",
    "\ty  = number;\n",
    "\ti  = * ( long * ) &y;                       // 浮動小数点数のビットレベルハック\n",
    "\ti  = 0x5f3759df - ( i >> 1 );               // これは一体何？\n",
    "\ty  = * ( float * ) &i;\n",
    "\ty  = y * ( threehalfs - ( x2 * y * y ) );   // 最初のニュートン反復\n",
    "\treturn y;\n",
    "}\n",
    "```\n",
    "\n",
    "以下に、NumPyを使用して同じ計算を実装します："
   ]
  },
  {
   "cell_type": "code",
   "execution_count": 6,
   "metadata": {
    "collapsed": false,
    "jupyter": {
     "outputs_hidden": false
    }
   },
   "outputs": [
    {
     "data": {
      "text/plain": [
       "0.005045614041059743"
      ]
     },
     "execution_count": 6,
     "metadata": {},
     "output_type": "execute_result"
    }
   ],
   "source": [
    "number = np.linspace(0.1, 10, 100)\n",
    "y = number.astype(np.float32)  #❶\n",
    "x2 = y * 0.5\n",
    "i = y.view(np.int32)  #❷\n",
    "i[:] = 0x5f3759df - (i >> 1)  #❸\n",
    "y = y * (1.5 - x2 * y * y)  #❹\n",
    "np.max(np.abs(1 / np.sqrt(number) - y))  #❺"
   ]
  },
  {
   "cell_type": "markdown",
   "metadata": {},
   "source": [
    "❶`linspace()`で作成された配列の型は倍精度浮動小数点数であるため、ここではまず`astype()`メソッドを使用して単精度浮動小数点数配列`y`に変換します。❷`view()`メソッドを使用して、`y`とメモリを共有する32ビット整数配列`i`を作成します。❸整数配列`i`に対して理解しがたい演算を行い、結果を配列`i`に再書き込みます。`i`と`y`はメモリを共有しているため、この時点で`y`の値も変化します。ここでの代入は`i = 0x5f3759df - (i >> 1)`のように書くことはできません。もしそう書くと、配列`i`はまったく新しい配列になってしまいます。❹ニュートン反復演算を1回行います。ここでは`y = ...`の書き方を使用しているため、`y`は新しい配列になり、元の`i`とはメモリを共有しなくなります。このコードには多くの配列演算が含まれており、これについては次の節で詳しく説明します。❺最後に、真の値と近似値の間の最大誤差を出力します。`ref:fig-next`は絶対誤差と独立変数の関係を示しており、`number`が小さいときは絶対誤差が大きくなりますが、このときの関数値も大きいため、相対誤差の変化はそれほど大きくありません。"
   ]
  },
  {
   "cell_type": "code",
   "execution_count": 8,
   "metadata": {
    "collapsed": false,
    "jupyter": {
     "outputs_hidden": false
    }
   },
   "outputs": [
    {
     "data": {
      "image/png": "[encoded data removed]",
      "text/plain": [
       "<Figure size 800x400 with 1 Axes>"
      ]
     },
     "metadata": {},
     "output_type": "display_data"
    }
   ],
   "source": [
    "plt.figure(figsize=(8, 4))\n",
    "plt.plot(number, 1/np.sqrt(number) - y, lw=2)\n",
    "plt.ylabel(\"真の値と近似値の誤差\");"
   ]
  },
  {
   "cell_type": "markdown",
   "metadata": {},
   "source": [
    "## 配列の作成"
   ]
  },
  {
   "cell_type": "markdown",
   "metadata": {},
   "source": [
    "### 1次元配列のインデックスアクセス\n",
    "\n",
    "1次元配列の要素にアクセスするために、単一の整数、スライスオブジェクト、整数リスト、整数配列、またはブール配列をインデックスとして使用できます。整数とスライスオブジェクトの使用方法はリストと同じです：\n",
    "\n",
    "* `a[5]`：整数をインデックスとして使用して、配列内の特定の要素を取得します。\n",
    "* `a[3:5]`：スライスをインデックスとして使用して、配列の一部を取得します。`a[3]`を含みますが、`a[5]`は含みません。\n",
    "* `a[:5]`：スライスで開始インデックスを省略すると、`a[0]`から開始します。\n",
    "* `a[:-1]`：インデックスに負の数を使用できます。これは配列の最後から数えることを意味します。"
   ]
  },
  {
   "cell_type": "code",
   "execution_count": 22,
   "metadata": {},
   "outputs": [
    {
     "name": "stdout",
     "output_type": "stream",
     "text": [
      "a[5]  a[3:5]       a[:5]                  a[:-1]          \n",
      "----  ------  ---------------  ---------------------------\n",
      "5     [3, 4]  [0, 1, 2, 3, 4]  [0, 1, 2, 3, 4, 5, 6, 7, 8]\n"
     ]
    }
   ],
   "source": [
    "a = np.asarray([0, 1, 2, 3, 4, 5, 6, 7, 8, 9])\n",
    "%C a[5]; a[3:5]; a[:5]; a[:-1]"
   ]
  },
  {
   "cell_type": "markdown",
   "metadata": {},
   "source": [
    "* `a[1:-1:2]`：スライスの3番目のパラメータはステップを表し、2は1つおきに要素を取得することを意味します。\n",
    "* `a[::-1]`：スライスの開始インデックスと終了インデックスを省略し、ステップを-1にすると、配列全体が逆順になります。\n",
    "* `a[5:1:-2]`：ステップが負の数の場合、開始インデックスは終了インデックスより大きくなければなりません。"
   ]
  },
  {
   "cell_type": "code",
   "execution_count": 23,
   "metadata": {},
   "outputs": [
    {
     "name": "stdout",
     "output_type": "stream",
     "text": [
      " a[1:-1:2]               a[::-1]              a[5:1:-2]\n",
      "------------  ------------------------------  ---------\n",
      "[1, 3, 5, 7]  [9, 8, 7, 6, 5, 4, 3, 2, 1, 0]  [5, 3]   \n"
     ]
    }
   ],
   "source": [
    "%C a[1:-1:2]; a[::-1]; a[5:1:-2]"
   ]
  },
  {
   "cell_type": "markdown",
   "metadata": {},
   "source": [
    "リストとは異なり、スライスを使用して取得した新しい配列は元の配列のビューであり、元の配列と同じデータストレージ領域を共有します。ただし、その`shape`、`strides`、`data`属性は元の配列とは異なります。次のグラフは配列`a`と`b`のメモリ内の構造を示す図です。\n",
    "\n",
    "![配列スライスビュー](images/ndarray-slice.svg \"\")"
   ]
  },
  {
   "cell_type": "code",
   "execution_count": 24,
   "metadata": {},
   "outputs": [
    {
     "name": "stdout",
     "output_type": "stream",
     "text": [
      "b.strides=(8,) b.shape=(5,) True\n"
     ]
    }
   ],
   "source": [
    "b = a[1::2]\n",
    "print(f'{b.strides=} {b.shape=} {b.base is a}')"
   ]
  },
  {
   "cell_type": "markdown",
   "metadata": {},
   "source": [
    "インデックスオブジェクトが整数リストまたは配列の場合、その各要素がインデックスとして使用されます。インデックスオブジェクトがブールリストまたはブール配列の場合、`True`に対応する要素が取得されます。これらのオブジェクトをインデックスとして使用する場合、新しい配列は元の配列とデータを共有しません："
   ]
  },
  {
   "cell_type": "code",
   "execution_count": 25,
   "metadata": {},
   "outputs": [
    {
     "name": "stdout",
     "output_type": "stream",
     "text": [
      "c=array([1, 3, 4, 5]) c.base=None\n",
      "d=array([0, 3, 4, 7, 8, 9]) d.base=None\n"
     ]
    }
   ],
   "source": [
    "c = a[[1, 3, 4, 5]]\n",
    "d = a[[True, False, False, True, True, False, False, True, True, True]]\n",
    "print(f'{c=} {c.base=}')\n",
    "print(f'{d=} {d.base=}')"
   ]
  },
  {
   "cell_type": "markdown",
   "metadata": {},
   "source": [
    "通常、ブール演算のufunc関数を使用してブール配列を生成します。ufunc関数については次のセクションで説明します。以下に、ブール配列インデックスの使用法を示す簡単な例を示します："
   ]
  },
  {
   "cell_type": "code",
   "execution_count": 26,
   "metadata": {},
   "outputs": [
    {
     "name": "stdout",
     "output_type": "stream",
     "text": [
      "        x                             x > 5                   \n",
      "------------------  ------------------------------------------\n",
      "[5, 0, 5, 7, 9, 2]  [False, False, False,  True,  True, False]\n"
     ]
    }
   ],
   "source": [
    "x = np.random.randint(0, 10, 6) # 長さ6で、要素値が0から9のランダムな整数配列を生成\n",
    "%C x; x > 5"
   ]
  },
  {
   "cell_type": "markdown",
   "metadata": {},
   "source": [
    "式`x > 5`は、配列`x`の各要素を5と比較し、ブール配列を取得します。`True`は`x`の対応する値が5より大きいことを示します。`x > 5`で得られたブール配列を使用して、`x`内の5より大きいすべての値を収集できます："
   ]
  },
  {
   "cell_type": "code",
   "execution_count": 27,
   "metadata": {},
   "outputs": [
    {
     "data": {
      "text/plain": [
       "array([7, 9])"
      ]
     },
     "execution_count": 27,
     "metadata": {},
     "output_type": "execute_result"
    }
   ],
   "source": [
    "x[x > 5]"
   ]
  },
  {
   "cell_type": "markdown",
   "metadata": {},
   "source": [
    "### 多次元配列のインデックスアクセス\n",
    "\n",
    "多次元配列のアクセスは1次元配列と似ていますが、多次元配列には複数の軸があるため、そのインデックスは複数の値で表す必要があります。NumPyはタプルを配列のインデックスとして使用し、タプルの各要素は配列の各軸に対応します。次のグラフは形状が(6, 6)の配列aを示しており、図中に各インデックスに対応する選択領域が示されています。図中のインデックスはすべて2つの要素を持つタプルであり、その第0要素は配列の第0軸（縦軸）に対応し、第1要素は配列の第1軸（横軸）に対応します。\n",
    "\n",
    "![多次元配列のスライスインデックス](images/ndarray-multindex.svg \"\")"
   ]
  },
  {
   "cell_type": "markdown",
   "metadata": {},
   "source": [
    ":::{admonition} なぜタプルを添字として使用するのか\n",
    ":class: note\n",
    "Pythonの添字構文（`[]`を使用してシーケンス内の要素にアクセスする）自体は多次元をサポートしていませんが、任意のオブジェクトを添字として使用できるため、NumPyはタプルを添字として使用して配列内の要素にアクセスします。タプルを使用すると、複数の軸の添字を簡単に表現できます。Pythonプログラムでは、タプルの要素を丸括弧で囲むことがよくありますが、実際にはタプルの構文では要素をカンマで区切るだけで十分です。例えば、`x, y = y, x`はタプルを使用して変数の値を交換する例です。したがって、`a[1, 2]`と`a[(1, 2)]`は完全に同じで、どちらもタプル`(1,2)`を配列`a`の添字として使用しています。\n",
    ":::"
   ]
  },
  {
   "cell_type": "code",
   "execution_count": 28,
   "metadata": {},
   "outputs": [
    {
     "name": "stdout",
     "output_type": "stream",
     "text": [
      "a[0, 3:5]  a[4:, 4:]           a[:, 2]            a[2::2, ::2] \n",
      "---------  ----------  ------------------------  --------------\n",
      "[3, 4]     [[44, 45],  [ 2, 12, 22, 32, 42, 52]  [[20, 22, 24],\n",
      "            [54, 55]]                             [40, 42, 44]]\n"
     ]
    }
   ],
   "source": [
    "a = np.arange(0, 60, 10)[:, None] + np.arange(0, 6)\n",
    "%C a[0, 3:5]; a[4:, 4:]; a[:, 2]; a[2::2, ::2]"
   ]
  },
  {
   "cell_type": "markdown",
   "metadata": {},
   "source": [
    "添字タプルに整数とスライスのみが含まれている場合、得られる配列は元の配列とデータを共有し、元の配列のビューとなります："
   ]
  },
  {
   "cell_type": "code",
   "execution_count": 29,
   "metadata": {},
   "outputs": [
    {
     "data": {
      "text/plain": [
       "True"
      ]
     },
     "execution_count": 29,
     "metadata": {},
     "output_type": "execute_result"
    }
   ],
   "source": [
    "b = a[0, 3:5]\n",
    "b.base is a"
   ]
  },
  {
   "cell_type": "markdown",
   "metadata": {},
   "source": [
    "配列の添字はタプルであるため、添字タプルを保存し、同じタプルを使用して複数の配列にアクセスできます。以下の例では、`a[idx]`と`a[::2, 2:]`は同じです。"
   ]
  },
  {
   "cell_type": "code",
   "execution_count": 30,
   "metadata": {},
   "outputs": [
    {
     "data": {
      "text/plain": [
       "array([[ 2,  3,  4,  5],\n",
       "       [22, 23, 24, 25],\n",
       "       [42, 43, 44, 45]])"
      ]
     },
     "execution_count": 30,
     "metadata": {},
     "output_type": "execute_result"
    }
   ],
   "source": [
    "idx = slice(None, None, 2), slice(2, None)\n",
    "a[idx]"
   ]
  },
  {
   "cell_type": "markdown",
   "metadata": {},
   "source": [
    "組み込み関数`slice()`を使用して添字を作成するのは面倒なので、NumPyは`s_`オブジェクトを提供して、配列の添字を作成するのを助けます。`s_`に多次元配列の添字を使用すると、その添字を表すタプルが得られます："
   ]
  },
  {
   "cell_type": "code",
   "execution_count": 31,
   "metadata": {},
   "outputs": [
    {
     "data": {
      "text/plain": [
       "(slice(None, None, 2), slice(2, None, None))"
      ]
     },
     "execution_count": 31,
     "metadata": {},
     "output_type": "execute_result"
    }
   ],
   "source": [
    "np.s_[::2, 2:]"
   ]
  },
  {
   "cell_type": "markdown",
   "metadata": {},
   "source": [
    "多次元配列の添字タプルでは、整数タプルやリスト、整数配列、ブール配列も使用できます。図2-2に示すように、これらのオブジェクトを添字として使用すると、得られるデータは元のデータのコピーとなるため、結果の配列を変更しても元の配列は変更されません。\n",
    "\n",
    "![整数配列とブール配列を使用して多次元配列の要素にアクセスする](images/ndarray-multindex2.svg \"\")"
   ]
  },
  {
   "cell_type": "markdown",
   "metadata": {},
   "source": [
    "以下の式では、添字は2つの要素を持つタプルで、タプルの各要素は整数リストであり、それぞれ配列の第0軸と第1軸に対応しています。2つのシーケンスの対応する位置から2つの整数を取り出して添字を構成し、結果として`a[0, 1]`、`a[1, 2]`、`a[2, 3]`、`a[3, 4]`が得られます。"
   ]
  },
  {
   "cell_type": "code",
   "execution_count": 32,
   "metadata": {},
   "outputs": [
    {
     "data": {
      "text/plain": [
       "array([ 1, 12, 23, 34])"
      ]
     },
     "execution_count": 32,
     "metadata": {},
     "output_type": "execute_result"
    }
   ],
   "source": [
    "a[[0, 1, 2, 3], [1, 2, 3, 4]]"
   ]
  },
  {
   "cell_type": "markdown",
   "metadata": {},
   "source": [
    "以下の式では、第0軸の添字はスライスオブジェクトで、3行目以降のすべての行を選択します。第1軸の添字は整数リストで、0、2、5列を選択します。"
   ]
  },
  {
   "cell_type": "code",
   "execution_count": 33,
   "metadata": {},
   "outputs": [
    {
     "data": {
      "text/plain": [
       "array([[30, 32, 35],\n",
       "       [40, 42, 45],\n",
       "       [50, 52, 55]])"
      ]
     },
     "execution_count": 33,
     "metadata": {},
     "output_type": "execute_result"
    }
   ],
   "source": [
    "a[3:, [0, 2, 5]]"
   ]
  },
  {
   "cell_type": "markdown",
   "metadata": {},
   "source": [
    "以下の式では、第0軸の添字はブール配列で、0、2、5行を選択します。第1軸の添字は整数で、2列を選択します。"
   ]
  },
  {
   "cell_type": "code",
   "execution_count": 35,
   "metadata": {},
   "outputs": [
    {
     "data": {
      "text/plain": [
       "array([ 2, 22, 52])"
      ]
     },
     "execution_count": 35,
     "metadata": {},
     "output_type": "execute_result"
    }
   ],
   "source": [
    "mask = np.array([1, 0, 1, 0, 0, 1], dtype=bool)\n",
    "a[mask, 2]"
   ]
  },
  {
   "cell_type": "markdown",
   "metadata": {},
   "source": [
    "すべての軸で同じ形状の整数配列を添字として使用すると、得られる配列は添字配列と同じ形状になり、以下のプログラムと同じ効果があります：\n",
    "\n",
    "```python\n",
    "a[[0, 1, 2, 3], [-1, -2, -3, -4]].reshape(2, 2)\n",
    "```"
   ]
  },
  {
   "cell_type": "code",
   "execution_count": 36,
   "metadata": {},
   "outputs": [
    {
     "data": {
      "text/plain": [
       "array([[ 5, 14],\n",
       "       [23, 32]])"
      ]
     },
     "execution_count": 36,
     "metadata": {},
     "output_type": "execute_result"
    }
   ],
   "source": [
    "x = np.array([[0, 1], [2, 3]])\n",
    "y = np.array([[-1, -2], [-3, -4]])\n",
    "a[x, y]"
   ]
  },
  {
   "cell_type": "markdown",
   "metadata": {},
   "source": [
    "第1軸の添字が指定されていない場合、`:`を添字として使用するため、3次元配列が得られます："
   ]
  },
  {
   "cell_type": "code",
   "execution_count": 37,
   "metadata": {},
   "outputs": [
    {
     "data": {
      "text/plain": [
       "array([[[ 0,  1,  2,  3,  4,  5],\n",
       "        [10, 11, 12, 13, 14, 15]],\n",
       "\n",
       "       [[20, 21, 22, 23, 24, 25],\n",
       "        [30, 31, 32, 33, 34, 35]]])"
      ]
     },
     "execution_count": 37,
     "metadata": {},
     "output_type": "execute_result"
    }
   ],
   "source": [
    "a[x]"
   ]
  },
  {
   "cell_type": "markdown",
   "metadata": {},
   "source": [
    "このように整数配列を添字として使用して、配列内の各要素を迅速に置き換えることができます。例えば、インデックス画像を表す配列`image`と、パレット配列`palette`がある場合、`palette[image]`を使用してパレットで着色されたカラー画像を得ることができます："
   ]
  },
  {
   "cell_type": "code",
   "execution_count": 38,
   "metadata": {},
   "outputs": [
    {
     "data": {
      "text/plain": [
       "array([[[  0,   0,   0],\n",
       "        [255,   0,   0],\n",
       "        [  0, 255,   0],\n",
       "        [  0,   0,   0]],\n",
       "\n",
       "       [[  0,   0,   0],\n",
       "        [  0,   0, 255],\n",
       "        [255, 255, 255],\n",
       "        [  0,   0,   0]]])"
      ]
     },
     "execution_count": 38,
     "metadata": {},
     "output_type": "execute_result"
    }
   ],
   "source": [
    "palette = np.array([[0, 0, 0],\n",
    "                    [255, 0, 0],\n",
    "                    [0, 255, 0],\n",
    "                    [0, 0, 255],\n",
    "                    [255, 255, 255]])\n",
    "image = np.array([[0, 1, 2, 0],\n",
    "                  [0, 3, 4, 0]])\n",
    "palette[image]"
   ]
  }
 ],
 "metadata": {
  "kernelspec": {
   "display_name": "Python 3 (ipykernel)",
   "language": "python",
   "name": "python3"
  },
  "language_info": {
   "codemirror_mode": {
    "name": "ipython",
    "version": 3
   },
   "file_extension": ".py",
   "mimetype": "text/x-python",
   "name": "python",
   "nbconvert_exporter": "python",
   "pygments_lexer": "ipython3",
   "version": "3.12.2"
  }
 },
 "nbformat": 4,
 "nbformat_minor": 4
}
