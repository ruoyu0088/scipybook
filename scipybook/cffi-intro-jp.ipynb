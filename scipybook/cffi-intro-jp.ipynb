{
 "cells": [
  {
   "cell_type": "markdown",
   "metadata": {},
   "source": [
    "# CFFIで外部関数を呼び出す\n",
    "\n",
    "Pythonの標準ライブラリには、外部関数を呼び出すための`ctypes`モジュールが提供されています。しかし、その使用方法が煩雑であるため、本書ではCFFI拡張ライブラリを使用して外部関数を呼び出す方法を紹介します。CFFIはC言語外部関数インターフェース（C Foreign Function Interface）の略で、C言語と同じ構文を使用してPythonとCの間の呼び出しインターフェースを宣言します。CFFIはダイナミックリンクライブラリを直接ロードしてその中の関数を呼び出すことができ、またC言語コンパイラを使用してインターフェースを拡張モジュールとしてコンパイルすることもできます。"
   ]
  },
  {
   "cell_type": "code",
   "execution_count": 5,
   "metadata": {},
   "outputs": [],
   "source": [
    "import numpy as np\n",
    "import sys\n",
    "from cffi import FFI"
   ]
  },
  {
   "cell_type": "markdown",
   "metadata": {},
   "source": [
    "## 2つの呼び出しモード\n",
    "\n",
    "CFFIは、外部関数を呼び出すための2つのモードを提供しています：ABIモードとAPIモードです。ABIモードでは、CFFIは`ctypes`と同じ機能を実現できます。まず、外部関数の呼び出しインターフェースを宣言し、次にダイナミックリンクライブラリをロードし、最後にC言語のデータを作成して外部関数を呼び出します。APIモードでは、CFFIはC言語コンパイラを使用してC言語コードとその呼び出しインターフェースを一緒にコンパイルし、Pythonの拡張モジュールとして生成します。"
   ]
  },
  {
   "cell_type": "markdown",
   "metadata": {},
   "source": [
    "### ABIモード\n",
    "\n",
    "ABIはアプリケーションバイナリインターフェース（Application Binary Interface）の略で、ユーザープログラムがソースコードなしでダイナミックリンクライブラリ内の関数を使用できることを意味します。以下の例では、`normal.c`に`snd_pdf`と`gnd_pdf()`が定義されており、それぞれ標準正規分布と一般正規分布の確率密度関数を計算します。"
   ]
  },
  {
   "cell_type": "code",
   "execution_count": 2,
   "metadata": {},
   "outputs": [
    {
     "name": "stdout",
     "output_type": "stream",
     "text": [
      "Writing normal.c\n"
     ]
    }
   ],
   "source": [
    "%%writefile normal.c\n",
    "#include <math.h>\n",
    "\n",
    "double snd_pdf(double x)\n",
    "{\n",
    "    return exp(-0.5 * x*x) / sqrt(2*M_PI);\n",
    "}\n",
    "\n",
    "double gnd_pdf(double x, double mu, double sigma)\n",
    "{\n",
    "    return snd_pdf((x - mu) / sigma) / sigma;\n",
    "}"
   ]
  },
  {
   "cell_type": "markdown",
   "metadata": {},
   "source": [
    "ヘッダーファイル`normal.h`には、これらの関数のシグネチャが含まれています："
   ]
  },
  {
   "cell_type": "code",
   "execution_count": 3,
   "metadata": {},
   "outputs": [
    {
     "name": "stdout",
     "output_type": "stream",
     "text": [
      "Writing normal.h\n"
     ]
    }
   ],
   "source": [
    "%%writefile normal.h\n",
    "double snd_pdf(double x);\n",
    "double gnd_pdf(double x, double mu, double sigma);"
   ]
  },
  {
   "cell_type": "markdown",
   "metadata": {},
   "source": [
    "gccコンパイラの`-shared`オプションを使用して、ソースプログラムをダイナミックリンクライブラリとしてコンパイルできます。これにより、ソースプログラム内のすべての非静的関数がエクスポートされ、ユーザーは生成されたダイナミックリンクライブラリを使用してこれらのエクスポートされた関数を呼び出すことができます。"
   ]
  },
  {
   "cell_type": "code",
   "execution_count": 4,
   "metadata": {},
   "outputs": [],
   "source": [
    "!gcc -Ofast -shared -o normal.dll normal.c"
   ]
  },
  {
   "cell_type": "markdown",
   "metadata": {},
   "source": [
    "CFFIを使用してダイナミックリンクライブラリ内の外部関数を呼び出す基本的な手順は以下の通りです：\n",
    "\n",
    "1. `FFI`オブジェクト`ffi`を作成します。\n",
    "2. `ffi.cdef()`を呼び出して、各種の型と関数を宣言します。\n",
    "3. `ffi.dlopen()`を呼び出してダイナミックリンクライブラリをロードし、`DlLibrary`オブジェクト`lib`を取得します。\n",
    "4. `lib`の各属性を通じてダイナミックリンクライブラリ内の関数を呼び出します。\n",
    "\n",
    "以下では、CFFIを使用してダイナミックリンクライブラリをロードし、その中の`gnd_pdf()`関数を呼び出します。❶まず、`FFI`のインスタンス`ffi`を作成します。❷`ffi.cdef()`を使用してダイナミックリンクライブラリ内の関数呼び出しインターフェースを定義します。関数の定義方法はC言語の関数宣言と同じです。❸`ffi.dlopen()`を呼び出してダイナミックリンクライブラリをロードします。これにより、`FFILibrary`のインスタンス`lib`が返されます。❹`lib.gnd_pdf()`を通じてダイナミックリンクライブラリ内の`gnd_pdf()`関数を呼び出します。CFFIはPythonの数値オブジェクトを関数パラメータに対応する数値型に変換し、関数の戻り値をPythonのオブジェクトに変換します。❺最後に、`ffi.dlclose()`を呼び出してロードされたダイナミックリンクライブラリを解放します。解放された後でないと、再度コンパイルコマンドを実行して既存のDLLファイルを上書きすることはできません。"
   ]
  },
  {
   "cell_type": "code",
   "execution_count": 6,
   "metadata": {},
   "outputs": [
    {
     "name": "stdout",
     "output_type": "stream",
     "text": [
      "0.03752403469169379\n"
     ]
    }
   ],
   "source": [
    "from cffi import FFI\n",
    "\n",
    "defines = \"\"\"\n",
    "double snd_pdf(double x);\n",
    "double gnd_pdf(double x, double mu, double sigma);\n",
    "\"\"\"\n",
    "\n",
    "ffi = FFI()  # ❶\n",
    "ffi.cdef(defines)  # ❷\n",
    "lib = ffi.dlopen(\"normal.dll\")  # ❸\n",
    "print(lib.gnd_pdf(1, 4.5, 10))  # ❹\n",
    "ffi.dlclose(lib)  # ❺"
   ]
  },
  {
   "cell_type": "markdown",
   "metadata": {},
   "source": [
    "### APIモード\n",
    "\n",
    "CFFIのAPIモードは、C言語コンパイラを使用してC言語ファイルと関数呼び出しインターフェースをPythonの拡張モジュールとしてコンパイルします。関数呼び出しインターフェースを定義した後、`ffi.set_source()`を使用して拡張モジュールのコンパイルに必要な情報を設定し、`ffi.compile()`を呼び出してコンパイルを実行します。具体的に実行されるコンパイルコマンドを確認したい場合は、`verbose`パラメータを`True`に設定できます。CFFIはdistutilsモジュールを使用して拡張ライブラリをコンパイルします。C言語コンパイラの設定方法については、前章の関連内容を参照してください。\n",
    "\n",
    "`set_source()`の最初のパラメータは出力される拡張モジュール名で、2番目のパラメータは拡張モジュールのソースプログラムに埋め込まれるC言語コードです。`extra_objects`パラメータは、一緒にコンパイルする必要がある他のファイルです。`extra_objects`以外にも、以下のようなよく使用されるパラメータがあります。これらはすべて文字列のリストです：\n",
    "\n",
    "* `include_dirs`: ヘッダーファイルの検索パス\n",
    "* `library_dirs`: 静的リンクライブラリの検索パス\n",
    "* `extra_compile_args`: 追加のコンパイル引数\n",
    "* `extra_link_args`: 追加のリンク引数\n",
    "\n",
    "完全なパラメータの説明は、`%PYTHON%\\Lib\\distutils\\extension.py`にあります。"
   ]
  },
  {
   "cell_type": "code",
   "execution_count": 7,
   "metadata": {},
   "outputs": [],
   "source": [
    "ffi = FFI()\n",
    "ffi.cdef(defines)\n",
    "ffi.set_source(\"normal_math\", '#include \"normal.h\"', extra_objects=[\"normal.c\"])\n",
    "ffi.compile();"
   ]
  },
  {
   "cell_type": "markdown",
   "metadata": {},
   "source": [
    "CFFIでコンパイルされた拡張モジュールには、`ffi`と`lib`の2つのオブジェクトのみが含まれます。これらは、前述のダイナミックリンクライブラリをロードした際に作成された`ffi`と`lib`と同じように使用できます。"
   ]
  },
  {
   "cell_type": "code",
   "execution_count": 8,
   "metadata": {},
   "outputs": [
    {
     "data": {
      "text/plain": [
       "0.03752403469169379"
      ]
     },
     "execution_count": 8,
     "metadata": {},
     "output_type": "execute_result"
    }
   ],
   "source": [
    "from normal_math import ffi, lib\n",
    "\n",
    "lib.gnd_pdf(1, 4.5, 10)"
   ]
  },
  {
   "cell_type": "markdown",
   "metadata": {},
   "source": [
    "また、埋め込まれたC言語コード内で直接C言語関数を定義することもできます。これにより、`extra_objects`を使用して追加のソースファイルを指定する必要がなくなります。例えば、以下のプログラムも`normal_math`拡張モジュールを正しくコンパイルします。\n",
    "\n",
    "```python\n",
    "ffi.set_source(\"normal_math\", \"\"\"\n",
    "#include <math.h>\n",
    "\n",
    "double snd_pdf(double x)\n",
    "{\n",
    "    return exp(-0.5 * x*x) / sqrt(2*M_PI);\n",
    "}\n",
    "...\n",
    "\"\"\")\n",
    "```\n",
    "\n",
    "コンパイラを呼び出して拡張ライブラリをコンパイルする前に、CFFIは自動的に拡張ライブラリのソースファイル`normal_math.c`を生成します。このファイルには、`snd_pdf()`の呼び出しインターフェース関数が含まれています。その内容は以下の通りです：\n",
    "\n",
    "```c\n",
    "static PyObject *\n",
    "_cffi_f_snd_pdf(PyObject *self, PyObject *arg0)\n",
    "{\n",
    "  double x0;\n",
    "  double result;\n",
    "  PyObject *pyresult;\n",
    "\n",
    "  x0 = (double)_cffi_to_c_double(arg0);\n",
    "  if (x0 == (double)-1 && PyErr_Occurred())\n",
    "    return NULL;\n",
    "\n",
    "  Py_BEGIN_ALLOW_THREADS\n",
    "  _cffi_restore_errno();\n",
    "  { result = snd_pdf(x0); }\n",
    "  _cffi_save_errno();\n",
    "  Py_END_ALLOW_THREADS\n",
    "\n",
    "  (void)self; /* unused */\n",
    "  pyresult = _cffi_from_c_double(result);\n",
    "  return pyresult;\n",
    "}\n",
    "```\n",
    "\n",
    "拡張モジュール内の`lib`を使用して`snd_pdf()`関数を呼び出すと、実際にはインターフェース関数`_cffi_f_snd_pdf()`が呼び出されます。そのパラメータ`arg0`はPythonから渡された数値オブジェクトで、`_cffi_to_c_double()`を使用して`double`型の数値`x0`に変換された後、`snd_pdf(x0)`を呼び出して計算結果`result`を取得します。その型は`double`です。最後に、`_cffi_from_c_double()`を呼び出して`double`型の数値をPythonの数値オブジェクトに変換します。\n",
    "\n",
    "CFFIは、`cdef()`で定義された各関数呼び出しインターフェースに対してインターフェース関数を作成します。これらの関数は、PythonオブジェクトをC言語のデータ型に変換し、対応するC言語関数を呼び出し、関数の戻り値をPythonオブジェクトに変換します。実際の計算を行う関数の実行時間が短い場合、インターフェース関数の処理時間が占める割合が増加します。この場合、計算をベクトル化することで実行速度を向上させることができます。"
   ]
  },
  {
   "cell_type": "markdown",
   "metadata": {},
   "source": [
    "### cffiマジックコマンド\n",
    "\n",
    "Notebook環境で`cffi`を使用してC言語関数を呼び出すのを容易にするために、本書では`%%cffi`マジックコマンドを提供しています。まず、`%load_ext helper.cffi`を使用してこのマジックコマンドをロードし、次に`%%cffi`を使用して拡張モジュールとしてコンパイルする必要があるC言語プログラムを記述します。これにより、`cdef()`に必要な呼び出しインターフェースが自動的に生成され、重複しない拡張モジュールとしてコンパイルされます。`ffi`と`lib`のオブジェクトを指定されたグローバル変数にラップして保存します。デフォルトのグローバル変数名は`c`ですが、`%%cffi`の`-n`パラメータを使用してグローバル変数名を指定できます。例えば、`%cffi -n tmp`とします。"
   ]
  },
  {
   "cell_type": "code",
   "execution_count": 1,
   "metadata": {},
   "outputs": [],
   "source": [
    "%load_ext helper.cffi"
   ]
  },
  {
   "cell_type": "code",
   "execution_count": 2,
   "metadata": {},
   "outputs": [],
   "source": [
    "%%cffi\n",
    "#include <math.h>\n",
    "\n",
    "double snd_pdf(double x)\n",
    "{\n",
    "    return exp(-0.5 * x*x) / sqrt(2*M_PI);\n",
    "}\n",
    "\n",
    "double gnd_pdf(double x, double mu, double sigma)\n",
    "{\n",
    "    return snd_pdf((x - mu) / sigma) / sigma;\n",
    "}"
   ]
  },
  {
   "cell_type": "markdown",
   "metadata": {},
   "source": [
    "上記のセルのプログラムを実行すると、グローバル変数`c`はコンパイル結果の`ffi`と`lib`をラップした`FlattenAttr`オブジェクトになります。その`ffi`と`lib`属性を使用して、以前と同じようにC言語で定義された関数を呼び出すことができます："
   ]
  },
  {
   "cell_type": "code",
   "execution_count": 3,
   "metadata": {},
   "outputs": [
    {
     "data": {
      "text/plain": [
       "0.24197072451914337"
      ]
     },
     "execution_count": 3,
     "metadata": {},
     "output_type": "execute_result"
    }
   ],
   "source": [
    "c.lib.snd_pdf(1.0)"
   ]
  },
  {
   "cell_type": "markdown",
   "metadata": {},
   "source": [
    "属性名が`ffi`と`lib`でない場合、`FlattenAttr`オブジェクトは自動的に`ffi`と`lib`から対応する属性名を探します。したがって、以下のように外部関数を呼び出すこともできます："
   ]
  },
  {
   "cell_type": "code",
   "execution_count": 4,
   "metadata": {},
   "outputs": [
    {
     "data": {
      "text/plain": [
       "0.005140929987637018"
      ]
     },
     "execution_count": 4,
     "metadata": {},
     "output_type": "execute_result"
    }
   ],
   "source": [
    "c.gnd_pdf(1.0, 2.0, 0.3)"
   ]
  },
  {
   "cell_type": "markdown",
   "metadata": {},
   "source": [
    "## C言語のデータ型\n",
    "\n",
    "外部関数を呼び出す際、CFFIは自動的にPythonオブジェクトを対応するC言語のデータ型に変換します。例えば、`float`オブジェクトは`double`型に変換されます。より複雑なデータ型を使用する場合は、`ffi.new()`を使用してC言語データをラップするオブジェクトを作成する必要があります。`ffi.new()`は`CData`オブジェクトを返し、作成されたC言語データを解放する責任があります。ガベージコレクション時に、`free()`を呼び出して管理されているC言語データを解放します。"
   ]
  },
  {
   "cell_type": "markdown",
   "metadata": {},
   "source": [
    "### 配列とポインタ\n",
    "\n",
    "C言語の配列は`ffi.new(\"type[]\", init)`を使用して作成します。ここで、`type`は配列の要素型で、`init`は配列の長さまたは初期値を表すシーケンスです。配列要素へのポインタは`ffi.addressof(arr, offset)`を使用して作成します。配列とポインタはどちらも添字演算をサポートし、ステップ1のスライス添字をサポートしますが、負の添字はサポートしません。配列をPythonのリストに変換するには`list()`を使用し、ポインタをリストに変換するには`ffi.unpack()`を使用します。2番目のパラメータは要素の数です。"
   ]
  },
  {
   "cell_type": "code",
   "execution_count": 9,
   "metadata": {},
   "outputs": [
    {
     "name": "stdout",
     "output_type": "stream",
     "text": [
      "[0.0, 1.0, 3.14, 3.0, 4.0]\n",
      "[3.14, 3.0, 4.0]\n"
     ]
    }
   ],
   "source": [
    "buf1 = ffi.new(\"double[]\", 5)\n",
    "buf1[0:5] = range(5)\n",
    "buf2 = ffi.new(\"double[]\", list(range(5)))\n",
    "\n",
    "pbuf1 = ffi.addressof(buf1, 2)\n",
    "pbuf1[0] = 3.14\n",
    "print(list(buf1))\n",
    "print(ffi.unpack(pbuf1, 3))"
   ]
  },
  {
   "cell_type": "markdown",
   "metadata": {},
   "source": [
    "C言語の配列とメモリを共有するNumPy配列を作成できます。まず、`ffi.buffer()`を使用してバッファインターフェースをサポートするオブジェクトを返し、次に`np.frombuffer()`を使用してバッファインターフェースオブジェクトをNumPy配列に変換します。Pythonのバッファインターフェースはデータのメモリアドレスと長さのみを定義し、データ型は定義しないため、`dtype`パラメータを使用して配列要素の型を指定する必要があります。作成されたNumPy配列はC言語の配列とメモリを共有するため、`arr_buf1[0]`と`buf1[0]`はメモリ内で同じアドレスにあります。"
   ]
  },
  {
   "cell_type": "code",
   "execution_count": 10,
   "metadata": {},
   "outputs": [
    {
     "name": "stdout",
     "output_type": "stream",
     "text": [
      "[100.0, 1.0, 3.14, 3.0, 4.0]\n"
     ]
    }
   ],
   "source": [
    "arr_buf1 = np.frombuffer(ffi.buffer(buf1), dtype=np.double)\n",
    "arr_buf1[0] = 100\n",
    "print(list(buf1))"
   ]
  },
  {
   "cell_type": "markdown",
   "metadata": {},
   "source": [
    "`ffi.from_buffer()`を使用して、NumPy配列の先頭アドレスを指すポインタオブジェクトを取得できます。ポインタの型は最初のパラメータによって決定されます。型が`double []`の場合、返されるオブジェクトは配列の長さを保持し、`list()`を使用してリストに変換できます。型が`double *`の場合、`ffi.unpack()`を使用して長さを指定する必要があります。"
   ]
  },
  {
   "cell_type": "code",
   "execution_count": 11,
   "metadata": {},
   "outputs": [
    {
     "name": "stdout",
     "output_type": "stream",
     "text": [
      "[1, 2, 3]\n",
      "[1, 2, 3]\n"
     ]
    }
   ],
   "source": [
    "arr = np.array([1, 2, 3], dtype=np.int16)\n",
    "parr1 = ffi.from_buffer(\"short []\", arr)\n",
    "parr2 = ffi.from_buffer(\"short *\", arr)\n",
    "print(list(parr1))\n",
    "print(ffi.unpack(parr2, 3))"
   ]
  },
  {
   "cell_type": "markdown",
   "metadata": {},
   "source": [
    "型を指定しない場合、返されるオブジェクトの型は`char[]`です。以下は、`arr`のデータストレージ領域内のすべてのバイトを表示します。"
   ]
  },
  {
   "cell_type": "code",
   "execution_count": 12,
   "metadata": {},
   "outputs": [
    {
     "name": "stdout",
     "output_type": "stream",
     "text": [
      "[b'\\x01', b'\\x00', b'\\x02', b'\\x00', b'\\x03', b'\\x00']\n"
     ]
    }
   ],
   "source": [
    "print(list(ffi.from_buffer(arr)))"
   ]
  },
  {
   "cell_type": "markdown",
   "metadata": {},
   "source": [
    "以下の例では、CFFIを使用してMKLライブラリの配列演算関数を呼び出します。MKLはIntel Math Kernel Libraryの略称で、高度に最適化され、マルチスレッド処理された数学ルーチンを提供し、性能が非常に重要な科学、工学、金融などの分野のアプリケーションに向いています。`vmdCos()`には4つのパラメータがあり、それぞれ配列の長さ、入力配列、出力配列、計算モードです。以下ではmkl_rt.dllをロードし、`vmdCos()`の関数呼び出しインターフェースを宣言します。"
   ]
  },
  {
   "cell_type": "markdown",
   "metadata": {},
   "source": [
    ":::{seealso}\n",
    "https://software.intel.com/en-us/mkl-developer-reference-c-v-cos\n",
    "MKLライブラリ関数`v?Cos()`の説明ドキュメント\n",
    ":::"
   ]
  },
  {
   "cell_type": "code",
   "execution_count": 14,
   "metadata": {},
   "outputs": [],
   "source": [
    "ffi = FFI()\n",
    "ffi.cdef(\n",
    "    \"\"\"\n",
    "void vmdCos(int64_t n, double * a, double * y, int64_t mode);\n",
    "\"\"\"\n",
    ")\n",
    "lib = ffi.dlopen(\"mkl_rt.2.dll\")"
   ]
  },
  {
   "cell_type": "markdown",
   "metadata": {},
   "source": [
    "以下では`vmdCos()`と`numpy.cos()`の実行速度を比較します。MKLの演算速度がNumPyよりも大幅に速いことがわかります。"
   ]
  },
  {
   "cell_type": "code",
   "execution_count": 15,
   "metadata": {},
   "outputs": [
    {
     "name": "stdout",
     "output_type": "stream",
     "text": [
      "26.5 μs ± 1.34 μs per loop (mean ± std. dev. of 7 runs, 10,000 loops each)\n",
      "84.8 μs ± 4.21 μs per loop (mean ± std. dev. of 7 runs, 10,000 loops each)\n",
      "True\n"
     ]
    }
   ],
   "source": [
    "n = 10000\n",
    "x = np.linspace(0, 1, n)\n",
    "y1 = np.empty_like(x)\n",
    "y2 = np.empty_like(x)\n",
    "bx = ffi.from_buffer(\"double *\", x)\n",
    "by1 = ffi.from_buffer(\"double *\", y1)\n",
    "%timeit lib.vmdCos(n, bx, by1, 3)\n",
    "%timeit np.cos(x, out=y2)\n",
    "print(np.allclose(y1, y2))"
   ]
  },
  {
   "cell_type": "markdown",
   "metadata": {},
   "source": [
    "### 文字列とバイト列\n",
    "\n",
    "C言語には文字列型がなく、通常は`char *`型のポインタを使用して文字列のデータを指し、文字列はバイト0x00で終了します。`char *`はPythonのバイト列型`bytes`に対応します。以下ではC言語標準ライブラリの`strlen()`関数を呼び出します。そのパラメータはPythonの`bytes`オブジェクトです。"
   ]
  },
  {
   "cell_type": "code",
   "execution_count": 16,
   "metadata": {},
   "outputs": [
    {
     "data": {
      "text/plain": [
       "3"
      ]
     },
     "execution_count": 16,
     "metadata": {},
     "output_type": "execute_result"
    }
   ],
   "source": [
    "ffi = FFI()\n",
    "ffi.cdef(\"size_t strlen(const char *);\")\n",
    "lib = ffi.dlopen(\"msvcrt.dll\")\n",
    "lib.strlen(b\"123\")"
   ]
  },
  {
   "cell_type": "markdown",
   "metadata": {},
   "source": [
    "`wchar_t *`型のポインタはPythonの文字列型`str`に対応します："
   ]
  },
  {
   "cell_type": "code",
   "execution_count": 17,
   "metadata": {},
   "outputs": [
    {
     "data": {
      "text/plain": [
       "3"
      ]
     },
     "execution_count": 17,
     "metadata": {},
     "output_type": "execute_result"
    }
   ],
   "source": [
    "ffi.cdef(\"size_t wcslen(const wchar_t *);\")\n",
    "lib.wcslen(\"abc\")"
   ]
  },
  {
   "cell_type": "markdown",
   "metadata": {},
   "source": [
    "Pythonのバイト列と文字列オブジェクトはどちらも不変であるため、それらを内容を変更する関数に渡すことはできません。例えばC言語の文字列連結関数`strcat()`と`wcscat()`は、その最初のパラメータが指すメモリを変更します。この場合、`ffi.new()`を使用して`char []`型または`wchar_t []`型の配列オブジェクトを作成できます。Pythonで配列の内容を取得する必要がある場合は、`ffi.string()`を使用できます。これは配列の要素型に応じてバイト列オブジェクトまたは文字列オブジェクトを返します。"
   ]
  },
  {
   "cell_type": "code",
   "execution_count": 18,
   "metadata": {},
   "outputs": [
    {
     "name": "stdout",
     "output_type": "stream",
     "text": [
      "b'123abcd' 123abcd\n"
     ]
    }
   ],
   "source": [
    "ffi.cdef(\n",
    "    \"\"\"\n",
    "char * strcat(char *, char *);\n",
    "wchar_t * wcscat(wchar_t *, wchar_t *);\n",
    "\"\"\"\n",
    ")\n",
    "buf_char = ffi.new(\"char []\", 1024)\n",
    "lib.strcat(buf_char, b\"123\")\n",
    "lib.strcat(buf_char, b\"abcd\")\n",
    "\n",
    "buf_wchar = ffi.new(\"wchar_t []\", 1024)\n",
    "lib.wcscat(buf_wchar, \"123\")\n",
    "lib.wcscat(buf_wchar, \"abcd\")\n",
    "\n",
    "print(ffi.string(buf_char), ffi.string(buf_wchar))"
   ]
  },
  {
   "cell_type": "markdown",
   "metadata": {},
   "source": [
    "### 構造体\n",
    "\n",
    "C言語では、構造体を使用して関連するデータのグループを保存し、オブジェクト指向プログラミングのカプセル化機能に似た機能を実現することがよくあります。以下の`iir.h`と`iir.c`は、2次IIRフィルタを実装し、構造体`IIR2`を使用してフィルタの係数と状態を保存します。プログラムでは単精度浮動小数点数`float`を使用して演算を行います。`iir2_init()`はフィルタの状態をリセットし、`iir2_step()`は単一のサンプル値をフィルタリングし、フィルタリング後の結果を返します。`iir2_run()`は配列内の複数のサンプル値をフィルタリングし、結果を出力配列に書き込みます。"
   ]
  },
  {
   "cell_type": "code",
   "execution_count": 20,
   "metadata": {},
   "outputs": [
    {
     "name": "stdout",
     "output_type": "stream",
     "text": [
      "Writing iir.h\n"
     ]
    }
   ],
   "source": [
    "%%writefile iir.h\n",
    "typedef struct _IIR2\n",
    "{\n",
    "    float b0, b1, b2;\n",
    "    float a1, a2;\n",
    "    float z0, z1;\n",
    "} IIR2;\n",
    "\n",
    "void iir2_init(IIR2 * self);\n",
    "float iir2_step(IIR2 * self, float x);\n",
    "void iir2_run(IIR2 * self, float * x, float * y, size_t n);"
   ]
  },
  {
   "cell_type": "code",
   "execution_count": 21,
   "metadata": {},
   "outputs": [
    {
     "name": "stdout",
     "output_type": "stream",
     "text": [
      "Writing iir.c\n"
     ]
    }
   ],
   "source": [
    "%%writefile iir.c\n",
    "#include <stddef.h>\n",
    "#include \"iir.h\"\n",
    "\n",
    "void iir2_init(IIR2 * self)\n",
    "{\n",
    "    self->z0 = 0;\n",
    "    self->z1 = 0;\n",
    "}\n",
    "\n",
    "float iir2_step(IIR2 * self, float x)\n",
    "{\n",
    "    float y;\n",
    "    y = self->b0 * x + self->z0;\n",
    "    self->z0 = self->b1 * x + self->z1 - self->a1 * y;\n",
    "    self->z1 = self->b2 * x - self->a2 * y;\n",
    "    return y;\n",
    "}\n",
    "\n",
    "void iir2_run(IIR2 * self, float * x, float * y, size_t n)\n",
    "{\n",
    "    size_t i;\n",
    "    for(i=0;i<n;i++){\n",
    "        y[i] = iir2_step(self, x[i]);\n",
    "    }\n",
    "}"
   ]
  },
  {
   "cell_type": "markdown",
   "metadata": {},
   "source": [
    "以下ではAPIモードを使用してコードを拡張モジュール`iir_filter`にコンパイルします。ここでは`iir.h`ファイルの内容を直接使用して関数呼び出しインターフェースを定義します。`ffi.cdef()`はほとんどのC言語構文をサポートしているため、ヘッダーファイルを使用して関数呼び出しインターフェースを定義することで、コードの重複を避け、エラーの可能性を減らすことができます。ただし、C言語のマクロのサポートは限られているため、ヘッダーファイルに`#include`、`#ifdef`などのマクロコマンドが含まれている場合、そのヘッダーファイルを直接使用してインターフェースを定義することはできません。"
   ]
  },
  {
   "cell_type": "code",
   "execution_count": 22,
   "metadata": {},
   "outputs": [],
   "source": [
    "ffi = FFI()\n",
    "with open(\"iir.h\") as f:\n",
    "    ffi.cdef(f.read())\n",
    "ffi.set_source(\n",
    "    \"iir_filter\",\n",
    "    '#include \"iir.h\"',\n",
    "    extra_objects=[\"iir.c\"],\n",
    "    extra_compile_args=[\"-Ofast\"],\n",
    ")\n",
    "ffi.compile();"
   ]
  },
  {
   "cell_type": "markdown",
   "metadata": {},
   "source": [
    "使用しやすくするために、以下では`IIR2`クラスを使用して`IIR2`構造体および関連する関数をラップします。❶初期化メソッド`__init__()`では、`IIR2 *`型を使用して`CData`オブジェクトを作成し、辞書を使用して構造体の各フィールドを初期化します。また、リストを使用してフィールドの順序に従って構造体を初期化することもできます。\n",
    "\n",
    "`iir2_run()`がパラメータ`x`と`y`の要素にアクセスする際のインデックスは連続的に変化するため、これらのパラメータに対応するNumPy配列がC言語連続メモリであることを保証する必要があります。❷`numpy.ascontiguousarray()`を呼び出すことで、C言語連続メモリを保証し、`dtype`パラメータを使用して要素型を指定できます。`run()`メソッドを呼び出す際のパラメータ`x`がC言語連続メモリ型でない場合、または要素型が単精度浮動小数点数でない場合、すべてのデータがコピーされます。"
   ]
  },
  {
   "cell_type": "code",
   "execution_count": 23,
   "metadata": {},
   "outputs": [],
   "source": [
    "from iir_filter import ffi, lib\n",
    "\n",
    "\n",
    "class IIR2:\n",
    "    def __init__(self, b, a):\n",
    "        self.iir = ffi.new(\n",
    "            \"IIR2 *\", dict(b0=b[0], b1=b[1], b2=b[2], a1=a[1], a2=a[2])\n",
    "        )  # ❶\n",
    "        lib.iir2_init(self.iir)\n",
    "\n",
    "    def run(self, x):\n",
    "        x = np.ascontiguousarray(x, dtype=np.float32)  # ❷\n",
    "        y = np.zeros_like(x)\n",
    "        lib.iir2_run(\n",
    "            self.iir,\n",
    "            ffi.from_buffer(\"float []\", x),\n",
    "            ffi.from_buffer(\"float []\", y),\n",
    "            len(x),\n",
    "        )\n",
    "        return y"
   ]
  },
  {
   "cell_type": "markdown",
   "metadata": {},
   "source": [
    "以下では`scipy.signal.butter()`を使用して2次のバターワースローパスフィルタを設計し、フィルタの係数を使用して`IIR2`オブジェクトを作成します。`signal.lfilter()`の出力との最大誤差を比較します。結果から、単精度浮動小数点数の演算が十分に正確であることがわかります。フィルタの入力は`numpy.random.normal()`によって作成された正規分布の乱数で、その要素型は倍精度浮動小数点数です。`ascontiguousarray()`によって単精度浮動小数点数配列に変換された後、`lib.iir2_run()`に渡されてフィルタリング演算が行われます。"
   ]
  },
  {
   "cell_type": "code",
   "execution_count": 24,
   "metadata": {},
   "outputs": [
    {
     "data": {
      "text/plain": [
       "4.230975810398663e-07"
      ]
     },
     "execution_count": 24,
     "metadata": {},
     "output_type": "execute_result"
    }
   ],
   "source": [
    "from scipy import signal\n",
    "\n",
    "b, a = signal.butter(2, 0.1)\n",
    "iir = IIR2(b, a)\n",
    "x = np.random.normal(size=200)\n",
    "y = iir.run(x)\n",
    "y2 = signal.lfilter(b, a, x)\n",
    "np.abs(y - y2).max()"
   ]
  },
  {
   "cell_type": "markdown",
   "metadata": {},
   "source": [
    "Pythonでは、構造体のフィールドは属性アクセスを使用してアクセスできます。例えば："
   ]
  },
  {
   "cell_type": "code",
   "execution_count": 25,
   "metadata": {},
   "outputs": [
    {
     "name": "stdout",
     "output_type": "stream",
     "text": [
      "-0.44168874621391296 0.22207050025463104\n"
     ]
    }
   ],
   "source": [
    "st_iir = iir.iir\n",
    "print(st_iir.z0, st_iir.z1)"
   ]
  },
  {
   "cell_type": "markdown",
   "metadata": {},
   "source": [
    "構造体を辞書に変換する必要がある場合、`dir()`を使用して属性リストを取得し、`getattr()`を使用して各属性の値を取得できます。以下では辞書内包表記を使用して`st_iir`を辞書に変換します。"
   ]
  },
  {
   "cell_type": "code",
   "execution_count": 26,
   "metadata": {},
   "outputs": [
    {
     "data": {
      "text/plain": [
       "{'a1': -1.5610181093215942,\n",
       " 'a2': 0.6413515210151672,\n",
       " 'b0': 0.020083365961909294,\n",
       " 'b1': 0.04016673192381859,\n",
       " 'b2': 0.020083365961909294,\n",
       " 'z0': -0.44168874621391296,\n",
       " 'z1': 0.22207050025463104}"
      ]
     },
     "execution_count": 26,
     "metadata": {},
     "output_type": "execute_result"
    }
   ],
   "source": [
    "{name: getattr(st_iir, name) for name in dir(st_iir)}"
   ]
  },
  {
   "cell_type": "markdown",
   "metadata": {},
   "source": [
    "## CFFIのメモリ管理\n",
    "\n",
    "Pythonのガベージコレクション機構により、Pythonプログラムを書く際にメモリの割り当てと解放について注意する必要はありません。しかし、C言語で書かれた外部関数を呼び出す際には、メモリの割り当てと解放に注意する必要があります。CFFIを使用する場合、そのメモリ管理メカニズムを理解することで、メモリリークや不正なポインタアクセスなどのエラーを回避できます。\n",
    "\n",
    "Pythonでは、すべてのC言語データは`CData`オブジェクトを使用して管理されます。このオブジェクトは内部にC言語データのメモリを指すポインタを持っています。これを使用してメモリを管理する場合、以下の3つの状況に分けられます：\n",
    "\n",
    "1. `ffi.new()`を呼び出してC言語データのメモリを割り当て、そのメモリを管理する`CDataOwn`オブジェクトを返します。これがガベージコレクションされると、C言語データも同時に解放されます。したがって、外部関数がまだC言語データを使用している間は、この`CDataOwn`オブジェクトがガベージコレクションされないようにする必要があります。\n",
    "\n",
    "2. 外部関数を呼び出してメモリを割り当て、Pythonに返す場合、割り当てられたメモリのアドレスを保持する`CData`オブジェクトが作成されます。しかし、`CData`オブジェクトがガベージコレクションされても、`malloc()`によって割り当てられたメモリは解放されません。`CData`オブジェクトがガベージコレクションされる前に、メモリを解放する外部関数を呼び出す必要があります。\n",
    "\n",
    "3. `ffi.from_buffer()`を使用して、メモリビュー機能をサポートするPythonオブジェクトからメモリポインタを取得する場合、`CDataOwnGC`オブジェクトが得られます。これはターゲットオブジェクトの参照カウントを増やし、ガベージコレクションされないようにします。\n",
    "\n",
    "以下では`ffi.new()`を使用して整数配列を作成し、返されるオブジェクトの型が`CDataOwn`であることを確認します。これはC言語データの解放権を持っていることを示し、これがガベージコレクションされると、対応するC言語データのメモリも同時に解放されます。"
   ]
  },
  {
   "cell_type": "code",
   "execution_count": 27,
   "metadata": {},
   "outputs": [
    {
     "data": {
      "text/plain": [
       "_cffi_backend.__CDataOwn"
      ]
     },
     "execution_count": 27,
     "metadata": {},
     "output_type": "execute_result"
    }
   ],
   "source": [
    "arr = ffi.new(\"int[]\", 100)\n",
    "type(arr)"
   ]
  },
  {
   "cell_type": "markdown",
   "metadata": {},
   "source": [
    "C言語で`ffi.new()`を使用して作成された配列を使用する場合、対応する`CDataOwn`オブジェクトがメモリ回収されないように注意する必要があります。以下の例では、`Points`構造体は2つのポインタを使用して、2つの1次元配列を指し、それぞれ点のX軸とY軸の座標値を保存します。"
   ]
  },
  {
   "cell_type": "code",
   "execution_count": 28,
   "metadata": {},
   "outputs": [],
   "source": [
    "ffi = FFI()\n",
    "ffi.cdef(\n",
    "    \"\"\"\n",
    "typedef struct _Points{\n",
    "    double * x;\n",
    "    double * y;\n",
    "    int n;\n",
    "} Points;\n",
    "\"\"\"\n",
    ")"
   ]
  },
  {
   "cell_type": "markdown",
   "metadata": {},
   "source": [
    "以下では`Points`構造体を作成し、その`x`と`y`フィールドを`ffi.new()`を使用して作成された2つの配列に設定します。❶`x`フィールドに代入する前後に`x`の参照カウントを表示します。出力から、代入文がこのオブジェクトの参照カウントを増やしていないことがわかります。❷作成された配列はPython変数で参照されていないため、フィールドの代入文が実行された後、この配列のメモリはガベージコレクションされます。`points`構造体の`y`フィールドは不正なポインタになり、それが指すメモリは後続のプログラムで使用される可能性があります。"
   ]
  },
  {
   "cell_type": "code",
   "execution_count": 29,
   "metadata": {},
   "outputs": [
    {
     "name": "stdout",
     "output_type": "stream",
     "text": [
      "refcount before assign: 2\n",
      "refcount after assign: 2\n"
     ]
    }
   ],
   "source": [
    "n = 10\n",
    "points = ffi.new(\"Points *\", {\"n\": n})\n",
    "x = ffi.new(\"double []\", n)\n",
    "print(\"refcount before assign:\", sys.getrefcount(x))\n",
    "points.x = x  # ❶\n",
    "print(\"refcount after assign:\", sys.getrefcount(x))\n",
    "points.y = ffi.new(\"double []\", n)  # ❷ 注意：このように使用しないでください"
   ]
  },
  {
   "cell_type": "markdown",
   "metadata": {},
   "source": [
    "以下ではC言語関数`malloc()`を呼び出してメモリを割り当て、それが返されると、CFFIは割り当てられたメモリのアドレスを保持する`CData`オブジェクトを作成します。このオブジェクトがガベージコレクションされても、`malloc()`によって割り当てられたメモリは解放されません。`free()`を呼び出す必要があります。"
   ]
  },
  {
   "cell_type": "code",
   "execution_count": 30,
   "metadata": {},
   "outputs": [
    {
     "name": "stdout",
     "output_type": "stream",
     "text": [
      "<class '_cffi_backend._CDataBase'>\n"
     ]
    }
   ],
   "source": [
    "ffi = FFI()\n",
    "ffi.cdef(\n",
    "    \"\"\"\n",
    "void * malloc(size_t size);\n",
    "void free(void * ptr);\n",
    "\"\"\"\n",
    ")\n",
    "lib = ffi.dlopen(\"msvcrt.dll\")\n",
    "\n",
    "buf = lib.malloc(100)\n",
    "print(type(buf))\n",
    "lib.free(buf)"
   ]
  },
  {
   "cell_type": "markdown",
   "metadata": {},
   "source": [
    "メモリ解放を忘れないようにするために、`ffi.gc(cdata, destructor)`を使用できます。これは`CDataGCP`オブジェクトを返し、このオブジェクトがガベージコレクションされると自動的に`destructor`が呼び出され、外部関数によって割り当てられたメモリが解放されます。"
   ]
  },
  {
   "cell_type": "code",
   "execution_count": 31,
   "metadata": {},
   "outputs": [
    {
     "data": {
      "text/plain": [
       "_cffi_backend.__CDataGCP"
      ]
     },
     "execution_count": 31,
     "metadata": {},
     "output_type": "execute_result"
    }
   ],
   "source": [
    "buf = ffi.gc(lib.malloc(100), lib.free)\n",
    "type(buf)"
   ]
  },
  {
   "cell_type": "markdown",
   "metadata": {},
   "source": [
    "以下のプログラムは、Pythonオブジェクトからメモリポインタを取得する場合の例を示しています。`ffi.from_buffer()`を呼び出す前、`abytes`の参照カウントは3です。呼び出した後、参照カウントは1増加し、`buf`を削除した後、参照カウントは3に戻ります。"
   ]
  },
  {
   "cell_type": "code",
   "execution_count": 32,
   "metadata": {},
   "outputs": [
    {
     "name": "stdout",
     "output_type": "stream",
     "text": [
      "refcount before call from_buffer(): 3\n",
      "<class '_cffi_backend.__CDataFromBuf'>\n",
      "refcount after call from_buffer(): 4\n",
      "refcount after release buf: 3\n"
     ]
    }
   ],
   "source": [
    "import sys\n",
    "\n",
    "abytes = b\"abcdef\"\n",
    "print(\"refcount before call from_buffer():\", sys.getrefcount(abytes))\n",
    "buf = ffi.from_buffer(abytes)\n",
    "print(type(buf))\n",
    "print(\"refcount after call from_buffer():\", sys.getrefcount(abytes))\n",
    "del buf\n",
    "print(\"refcount after release buf:\", sys.getrefcount(abytes))"
   ]
  },
  {
   "attachments": {},
   "cell_type": "markdown",
   "metadata": {},
   "source": [
    "## 9軸センサー融合アルゴリズム\n",
    "\n",
    "9軸センサーとは、加速度センサー、角速度センサー、および磁気センサーのことで、スマートフォンやVRデバイスで最も一般的なセンサーです。加速度センサーはデバイスの3軸に沿った加速度を検出し、角速度センサーはデバイスの3軸周りの回転速度を検出し、磁気センサーは3軸方向の磁場強度を検出します。センサーの融合アルゴリズムを使用すると、これらのセンサーのデータに基づいて、デバイスの地球座標系における回転姿勢を計算することができます。\n",
    "\n",
    ":::{seealso}\n",
    "https://github.com/xioTechnologies/Fusion\n",
    "9軸センサー融合アルゴリズムライブラリ\n",
    ":::\n",
    "\n",
    "次の `git` コマンドで上記の Fusion プロジェクトをローカルにダウンロードします。`git` コマンドが使えない場合は、ソースコードをダウンロードし、その中の Fusion フォルダをこの Notebook が存在するフォルダにコピーしてください。"
   ]
  },
  {
   "cell_type": "code",
   "execution_count": 1,
   "metadata": {},
   "outputs": [
    {
     "name": "stderr",
     "output_type": "stream",
     "text": [
      "Cloning into 'Fusion'...\n"
     ]
    }
   ],
   "source": [
    "!git clone https://github.com/xioTechnologies/Fusion"
   ]
  },
  {
   "cell_type": "markdown",
   "metadata": {},
   "source": [
    "このセクションでは、C言語で書かれた融合アルゴリズムプログラムをCFFIのABIモードとAPIモードでラッピングする方法を紹介します。"
   ]
  },
  {
   "cell_type": "markdown",
   "metadata": {},
   "source": [
    "### ABIモード\n",
    "\n",
    "以下のコマンドを実行して動的リンクライブラリファイル`fusion.dll`にコンパイルします。"
   ]
  },
  {
   "cell_type": "code",
   "execution_count": 5,
   "metadata": {},
   "outputs": [],
   "source": [
    "!gcc -shared Fusion/Fusion/*.c -I. -o fusion.dll"
   ]
  },
  {
   "cell_type": "markdown",
   "metadata": {},
   "source": [
    "以下は、C言語でFusionを使用する例です。まず、`FusionAhrsInitialise()`を呼び出して構造体を初期化します。次に、`FusionAhrsSetSettings()`を呼び出して各種設定を行います。ループ内で各センサー構造体のデータを設定し、`FusionAhrsUpdate()`を呼び出して融合アルゴリズムの状態を更新します。その計算結果は、四元数を表す`quaternion`フィールドに保存されます。四元数は3次元空間の回転を表すために使用され、回転軸と回転角を簡単に提供することができます。\n",
    "\n",
    "```c\n",
    "#include \"../../Fusion/Fusion.h\"\n",
    "#include <stdbool.h>\n",
    "#include <stdio.h>\n",
    "#include <time.h>\n",
    "\n",
    "#define SAMPLE_RATE (100) // replace this with actual sample rate\n",
    "#define SAMPLE_PERIOD (0.01f) // replace this with actual sample period\n",
    "\n",
    "int main() {\n",
    "    FusionAhrs ahrs;\n",
    "    FusionAhrsInitialise(&ahrs);\n",
    "\n",
    "    // Set AHRS algorithm settings\n",
    "    const FusionAhrsSettings settings = {\n",
    "            .convention = FusionConventionNwu,\n",
    "            .gain = 0.5f,\n",
    "            .gyroscopeRange = 2000.0f, /* replace this with actual gyroscope range in degrees/s */\n",
    "            .accelerationRejection = 10.0f,\n",
    "            .magneticRejection = 10.0f,\n",
    "            .recoveryTriggerPeriod = 5 * SAMPLE_RATE, /* 5 seconds */\n",
    "    };\n",
    "    FusionAhrsSetSettings(&ahrs, &settings);\n",
    "\n",
    "    // This loop should repeat each time new gyroscope data is available\n",
    "    while (true) {\n",
    "        const clock_t timestamp = clock(); // replace this with actual gyroscope timestamp\n",
    "        FusionVector gyroscope = {0.0f, 0.0f, 0.0f}; // replace this with actual gyroscope data in degrees/s\n",
    "        FusionVector accelerometer = {0.0f, 0.0f, 1.0f}; // replace this with actual accelerometer data in g\n",
    "        FusionVector magnetometer = {1.0f, 0.0f, 0.0f}; // replace this with actual magnetometer data in arbitrary units\n",
    "\n",
    "        // Update gyroscope AHRS algorithm\n",
    "        FusionAhrsUpdate(&ahrs, gyroscope, accelerometer, magnetometer, SAMPLE_PERIOD);\n",
    "    }\n",
    "} \n",
    "```\n",
    "\n",
    "C言語のヘッダーファイルでは、`FusionVector`は共用体であり、`array`または`axis`フィールドを通じて3軸のデータにアクセスできます。\n",
    "\n",
    "```c\n",
    "typedef union {\n",
    "    float array[3];\n",
    "\n",
    "    struct {\n",
    "        float x;\n",
    "        float y;\n",
    "        float z;\n",
    "    } axis;\n",
    "} FusionVector;\n",
    "```\n",
    "\n",
    "Pythonでは`x, y, z`フィールドのみを使用してデータにアクセスするため、以下のように簡略化できます。\n",
    "\n",
    "```c\n",
    "typedef struct {\n",
    "    float x;\n",
    "    float y;\n",
    "    float z;\n",
    "} FusionVector;\n",
    "```\n",
    "\n",
    "以下は、ヘッダーファイルでの各データ型および関数の定義です。`FusionAhrsUpdate()`の3つの`FusionVector`型のセンサーパラメータは値渡しパラメータであることに注意してください。"
   ]
  },
  {
   "cell_type": "code",
   "execution_count": 32,
   "metadata": {},
   "outputs": [],
   "source": [
    "fusion_types = \"\"\"\n",
    "typedef struct {\n",
    "    float x;\n",
    "    float y;\n",
    "    float z;\n",
    "} FusionVector;\n",
    "\n",
    "typedef struct {\n",
    "    float w;\n",
    "    float x;\n",
    "    float y;\n",
    "    float z;\n",
    "} FusionQuaternion;\n",
    "\n",
    "typedef enum {\n",
    "    FusionConventionNwu, /* North-West-Up */\n",
    "    FusionConventionEnu, /* East-North-Up */\n",
    "    FusionConventionNed, /* North-East-Down */\n",
    "} FusionConvention;\n",
    "\n",
    "typedef struct {\n",
    "    FusionConvention convention;\n",
    "    float gain;\n",
    "    float gyroscopeRange;\n",
    "    float accelerationRejection;\n",
    "    float magneticRejection;\n",
    "    unsigned int recoveryTriggerPeriod;\n",
    "} FusionAhrsSettings;\n",
    "\n",
    "typedef struct {\n",
    "    FusionAhrsSettings settings;\n",
    "    FusionQuaternion quaternion;\n",
    "    FusionVector accelerometer;\n",
    "    bool initialising;\n",
    "    float rampedGain;\n",
    "    float rampedGainStep;\n",
    "    bool angularRateRecovery;\n",
    "    FusionVector halfAccelerometerFeedback;\n",
    "    FusionVector halfMagnetometerFeedback;\n",
    "    bool accelerometerIgnored;\n",
    "    int accelerationRecoveryTrigger;\n",
    "    int accelerationRecoveryTimeout;\n",
    "    bool magnetometerIgnored;\n",
    "    int magneticRecoveryTrigger;\n",
    "    int magneticRecoveryTimeout;\n",
    "} FusionAhrs;\n",
    "\"\"\"\n",
    "\n",
    "fusion_functions = \"\"\"\n",
    "void FusionAhrsInitialise(FusionAhrs *const ahrs);\n",
    "void FusionAhrsSetSettings(FusionAhrs *const ahrs, const FusionAhrsSettings *const settings);\n",
    "void FusionAhrsUpdate(\n",
    "    FusionAhrs *const ahrs, \n",
    "    const FusionVector gyroscope, \n",
    "    const FusionVector accelerometer, \n",
    "    const FusionVector magnetometer, \n",
    "    const float deltaTime);\n",
    "\"\"\""
   ]
  },
  {
   "cell_type": "markdown",
   "metadata": {},
   "source": [
    "以下で`FFI`オブジェクトを作成し、各種構造体と関数シグネチャを宣言し、動的リンクライブラリfusion.dllをロードします。"
   ]
  },
  {
   "cell_type": "code",
   "execution_count": 33,
   "metadata": {},
   "outputs": [],
   "source": [
    "import cffi\n",
    "\n",
    "ffi = cffi.FFI()\n",
    "ffi.cdef(fusion_types)\n",
    "ffi.cdef(fusion_functions)\n",
    "lib = ffi.dlopen(\"fusion.dll\")"
   ]
  },
  {
   "cell_type": "markdown",
   "metadata": {},
   "source": [
    "使いやすくするために、以下の`Fusion`クラスで外部関数をオブジェクトとしてラッピングします。❶四元数構造体`fusion.quaternion`の値を読み取りやすくするために、構造体をオブジェクトの属性`q`として保存します。この属性は`fusion.quaternion`のメモリアドレスと同じです。❷`FusionAhrsUpdate()`の3つのセンサーパラメータはすべて値渡しで渡されるため、まず添字演算を使用してポインタが指す構造体を取得します。❸`data`パラメータのセンサーの各値を対応する構造体のフィールドに書き込んだ後、`FusionAhrsUpdate()`を呼び出して計算を完了します。❹最後に、四元数構造体の各フィールドを含むタプルオブジェクトを返します。"
   ]
  },
  {
   "cell_type": "code",
   "execution_count": 34,
   "metadata": {},
   "outputs": [],
   "source": [
    "class Fusion:\n",
    "    def __init__(self, period, gain):\n",
    "        self.period = period\n",
    "        self.fusion = ffi.new(\"FusionAhrs *\")\n",
    "        self.settings = ffi.new(\"FusionAhrsSettings *\")\n",
    "        self.settings.gain = gain\n",
    "        lib.FusionAhrsInitialise(self.fusion)\n",
    "        lib.FusionAhrsSetSettings(self.fusion, self.settings)\n",
    "        self.gyroscope = ffi.new(\"FusionVector *\")\n",
    "        self.accelerometer = ffi.new(\"FusionVector *\")\n",
    "        self.magnetometer = ffi.new(\"FusionVector *\")\n",
    "\n",
    "        self.q = self.fusion.quaternion  # ❶\n",
    "        self.gyr = self.gyroscope[0]  # ❷\n",
    "        self.acc = self.accelerometer[0]\n",
    "        self.mag = self.magnetometer[0]\n",
    "\n",
    "    def update(self, data):\n",
    "        self.gyr.x = data[\"gx\"]\n",
    "        self.gyr.y = data[\"gy\"]\n",
    "        self.gyr.z = data[\"gz\"]\n",
    "        self.acc.x = data[\"ax\"]\n",
    "        self.acc.y = data[\"ay\"]\n",
    "        self.acc.z = data[\"az\"]\n",
    "        self.mag.x = data[\"mx\"]\n",
    "        self.mag.y = data[\"my\"]\n",
    "        self.mag.z = data[\"mz\"]\n",
    "        lib.FusionAhrsUpdate(\n",
    "            self.fusion, self.gyr, self.acc, self.mag, self.period  # ❸\n",
    "        )\n",
    "        q = self.q\n",
    "        return (q.w, q.x, q.y, q.z)  # ❹"
   ]
  },
  {
   "cell_type": "markdown",
   "metadata": {},
   "source": [
    "以下でCSVファイルからセンサーデータを読み込み、`update()`メソッドをループしてセンサーの姿勢を計算します。"
   ]
  },
  {
   "cell_type": "code",
   "execution_count": 35,
   "metadata": {},
   "outputs": [
    {
     "data": {
      "text/plain": [
       "array([[ 1.00007558e+00, -3.36902449e-04, -1.18124088e-04,\n",
       "        -9.39859636e-03],\n",
       "       [ 1.00001717e+00, -5.45008166e-04, -2.44000985e-04,\n",
       "        -1.44591173e-02],\n",
       "       [ 9.99948204e-01, -8.69491778e-04, -3.46390007e-04,\n",
       "        -1.86079293e-02],\n",
       "       ...,\n",
       "       [ 9.98859704e-01,  4.99216840e-02, -4.33470076e-03,\n",
       "        -3.36576160e-03],\n",
       "       [ 9.98873293e-01,  4.96541448e-02, -4.23847046e-03,\n",
       "        -3.45249730e-03],\n",
       "       [ 9.98875380e-01,  4.96137887e-02, -4.14189976e-03,\n",
       "        -3.53873521e-03]])"
      ]
     },
     "execution_count": 35,
     "metadata": {},
     "output_type": "execute_result"
    }
   ],
   "source": [
    "import polars as pl\n",
    "import numpy as np\n",
    "\n",
    "df = pl.read_csv(\"data/imu_sample_data.csv\").select(pl.col(\"*\").name.map(str.strip))\n",
    "\n",
    "quaternions = []\n",
    "fusion = Fusion(period=0.01, gain=0.5)\n",
    "for row in df.iter_rows(named=True):\n",
    "    quaternions.append(fusion.update(row))\n",
    "quaternions = np.array(quaternions)\n",
    "quaternions"
   ]
  },
  {
   "cell_type": "markdown",
   "metadata": {},
   "source": [
    "### APIモード\n",
    "\n",
    "Pythonで外部関数をループ呼び出しする場合、PythonオブジェクトをC言語のデータに変換する必要があり、この呼び出しインターフェースは時間がかかります。計算速度を向上させるために、C言語で配列内の各要素に対して`FusionAhrsUpdate()`をループ呼び出しする関数`FusionAhrsUpdateArray()`を記述することができます。以下のプログラムを実行して、APIモードで`FusionAhrsUpdateArray()`とFusionライブラリのC言語コードを一緒にコンパイルし、拡張モジュール_fusionを作成します。\n",
    "\n",
    "❶Pythonでは`FusionAhrs`構造体を作成する必要がありますが、そのフィールドにアクセスする必要はないため、フィールドの宣言を省略できます。C言語コンパイラは、ヘッダーファイルの宣言に基づいてフィールド情報を補完します。❷C言語では、共用体`FusionVector`の`array`フィールドを使用してデータにアクセスできるため、プログラムの記述が容易になります。"
   ]
  },
  {
   "cell_type": "code",
   "execution_count": null,
   "metadata": {},
   "outputs": [],
   "source": [
    "from pathlib import Path\n",
    "\n",
    "ffi = cffi.FFI()\n",
    "ffi.cdef(\n",
    "    \"\"\"\n",
    "typedef enum {\n",
    "    FusionConventionNwu, /* North-West-Up */\n",
    "    FusionConventionEnu, /* East-North-Up */\n",
    "    FusionConventionNed, /* North-East-Down */\n",
    "} FusionConvention;\n",
    "\n",
    "typedef struct {\n",
    "    FusionConvention convention;\n",
    "    float gain;\n",
    "    float gyroscopeRange;\n",
    "    float accelerationRejection;\n",
    "    float magneticRejection;\n",
    "    unsigned int recoveryTriggerPeriod;\n",
    "} FusionAhrsSettings;\n",
    "\n",
    "typedef struct {\n",
    "...;  //{1}\n",
    "} FusionAhrs;\n",
    "\n",
    "void FusionAhrsInitialise(FusionAhrs * fusionAhrs);\n",
    "void FusionAhrsSetSettings(FusionAhrs *const ahrs, const FusionAhrsSettings *const settings);\n",
    "void FusionAhrsUpdateArray(FusionAhrs * fusionAhrs, \n",
    "        float samplePeriod, float * in_data, float * out_data, int length);\n",
    "\"\"\"\n",
    ")\n",
    "\n",
    "ffi.set_source(\n",
    "    \"_fusion\",\n",
    "    \"\"\"\n",
    "#include \"FusionAhrs.h\"\n",
    "\n",
    "void FusionAhrsUpdateArray(FusionAhrs * fusionAhrs, \n",
    "        float samplePeriod, \n",
    "        float * in_data, float * out_data, int length) {\n",
    "    FusionVector gyroscope;\n",
    "    FusionVector accelerometer;\n",
    "    FusionVector magnetometer;\n",
    "    int i=0, j=0, n, k;\n",
    "    for(n=0;n<length;n++){\n",
    "        for(k=0;k<3;k++) gyroscope.array[k] = in_data[i++]; //{2}\n",
    "        for(k=0;k<3;k++) accelerometer.array[k] = in_data[i++];\n",
    "        for(k=0;k<3;k++) magnetometer.array[k] = in_data[i++];\n",
    "        \n",
    "        FusionAhrsUpdate(fusionAhrs, \n",
    "                         gyroscope, accelerometer, magnetometer, \n",
    "                         samplePeriod);\n",
    "\n",
    "        for(k=0;k<4;k++) out_data[j++] = fusionAhrs->quaternion.array[k];\n",
    "    }\n",
    "}\n",
    "\"\"\",\n",
    "    include_dirs=[str(Path(\"Fusion/Fusion\").absolute())],\n",
    "    extra_objects=[\"Fusion/Fusion/*.c\"],\n",
    ")\n",
    "ffi.compile();"
   ]
  },
  {
   "cell_type": "markdown",
   "metadata": {},
   "source": [
    "以下で`Fusion`クラスを使用して、上記の外部関数をオブジェクトとしてラッピングします。`FusionAhrsUpdateArray()`は、入力配列がC言語の連続メモリであり、要素が単精度浮動小数点数である必要があるため、呼び出す前に`np.ascontiguousarray()`を使用して入力配列を指定された形式に変換します。"
   ]
  },
  {
   "cell_type": "code",
   "execution_count": 37,
   "metadata": {},
   "outputs": [],
   "source": [
    "from _fusion import ffi, lib\n",
    "\n",
    "\n",
    "class Fusion2:\n",
    "    def __init__(self, period, gain):\n",
    "        self.period = period\n",
    "        self.fusion = ffi.new(\"FusionAhrs *\")\n",
    "        self.settings = ffi.new(\"FusionAhrsSettings *\")\n",
    "        self.settings.gain = gain\n",
    "        lib.FusionAhrsInitialise(self.fusion)\n",
    "        lib.FusionAhrsSetSettings(self.fusion, self.settings)\n",
    "\n",
    "    def update(self, data):\n",
    "        in_data = np.ascontiguousarray(data, dtype=np.float32)\n",
    "        out_data = np.zeros((len(in_data), 4), dtype=np.float32)\n",
    "        lib.FusionAhrsUpdateArray(\n",
    "            self.fusion,\n",
    "            self.period,\n",
    "            ffi.from_buffer(\"float *\", in_data),\n",
    "            ffi.from_buffer(\"float *\", out_data),\n",
    "            len(in_data),\n",
    "        )\n",
    "        return out_data"
   ]
  },
  {
   "cell_type": "markdown",
   "metadata": {},
   "source": [
    "CSVファイルからセンサーデータを配列`sensor_data`に変換し、この配列を`update()`メソッドに渡します。C言語のループで9軸センサーの姿勢を計算し、その結果をABIモードで計算した結果と比較します。"
   ]
  },
  {
   "cell_type": "code",
   "execution_count": 39,
   "metadata": {},
   "outputs": [
    {
     "data": {
      "text/plain": [
       "True"
      ]
     },
     "execution_count": 39,
     "metadata": {},
     "output_type": "execute_result"
    }
   ],
   "source": [
    "sensor_data = df.select(\"gx\", \"gy\", \"gz\", \"ax\", \"ay\", \"az\", \"mx\", \"my\", \"mz\").to_numpy()\n",
    "\n",
    "f = Fusion2(period=0.01, gain=0.5)\n",
    "quaternion2 = f.update(sensor_data)\n",
    "np.allclose(quaternions, quaternion2)"
   ]
  },
  {
   "cell_type": "markdown",
   "metadata": {},
   "source": [
    "### データの可視化"
   ]
  },
  {
   "cell_type": "markdown",
   "metadata": {},
   "source": [
    "`conda install -c conda-forge quaternion`"
   ]
  },
  {
   "cell_type": "code",
   "execution_count": 59,
   "metadata": {},
   "outputs": [],
   "source": [
    "import quaternion as Q\n",
    "import ipyvolume as ipv\n",
    "\n",
    "q = Q.from_float_array(quaternions)\n",
    "\n",
    "x, y, z = 1.5, 2.0, 0.5\n",
    "points = np.array([(0, 0, 0), (x, 0, 0), (0, y, 0), (0, 0, z)])\n",
    "lines = [(0, 1), (0, 2), (0, 3)]\n",
    "\n",
    "step = 10\n",
    "p = Q.from_float_array(np.hstack((np.zeros((4, 1)), points)))\n",
    "p_res = q[::step, None] * p[None, :] * q[::step, None].conj()\n",
    "points_res = Q.as_float_array(p_res)[:, :, 1:]\n",
    "\n",
    "X, Y, Z = np.rollaxis(points_res, 2)\n",
    "\n",
    "fig = ipv.figure(width=300, height=300)\n",
    "tri = ipv.plot_trisurf(X, Y, Z, lines=lines)\n",
    "ipv.animation_control(tri, interval=20)\n",
    "ipv.xyzlim(-2, 2)\n",
    "ipv.save(\"_static/fusion.html\")"
   ]
  },
  {
   "cell_type": "code",
   "execution_count": 60,
   "metadata": {},
   "outputs": [
    {
     "data": {
      "text/html": [
       "\n",
       "        <iframe\n",
       "            width=\"800\"\n",
       "            height=\"400\"\n",
       "            src=\"_static/fusion.html\"\n",
       "            frameborder=\"0\"\n",
       "            allowfullscreen\n",
       "            scrolling=\"no\"\n",
       "        ></iframe>\n",
       "        "
      ],
      "text/plain": [
       "<IPython.lib.display.IFrame at 0x2786b7fbb90>"
      ]
     },
     "execution_count": 60,
     "metadata": {},
     "output_type": "execute_result"
    }
   ],
   "source": [
    "from IPython import display\n",
    "\n",
    "display.IFrame(\"_static/fusion.html\", width=800, height=400, extras=['scrolling=\"no\"'])"
   ]
  }
 ],
 "metadata": {
  "kernelspec": {
   "display_name": "Python 3 (ipykernel)",
   "language": "python",
   "name": "python3"
  },
  "language_info": {
   "codemirror_mode": {
    "name": "ipython",
    "version": 3
   },
   "file_extension": ".py",
   "mimetype": "text/x-python",
   "name": "python",
   "nbconvert_exporter": "python",
   "pygments_lexer": "ipython3",
   "version": "3.12.2"
  }
 },
 "nbformat": 4,
 "nbformat_minor": 4
}
