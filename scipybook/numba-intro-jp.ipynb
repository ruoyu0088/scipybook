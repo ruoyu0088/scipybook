{
 "cells": [
  {
   "cell_type": "markdown",
   "metadata": {},
   "source": [
    "# JITコンパイラ-Numba\n",
    "\n",
    "前の章で紹介したcffiとCythonは、C言語コンパイラを使用してC言語プログラムを拡張モジュールにコンパイルし、Pythonでその関数を呼び出す必要がありました。一方、NumbaはLLVMコンパイラを使用してPython関数を即座に機械語にコンパイルします。Numbaを使用する際には、コンパイルのステップをほとんど感じることがありません。ユーザーはPython関数に`@jit`デコレータを追加するだけで、Numbaはその関数が呼び出された際に、引数の型に基づいて自動的に効率的に実行されるプログラムをコンパイルします。\n",
    "\n",
    "デフォルト設定では、即時コンパイル関数の内部でPythonオブジェクトが使用される可能性があり、これがプログラムの実行速度に影響を与えることがあります。`@jit`デコレータの`nopython`パラメータを`True`に設定するか、デフォルトでPythonオブジェクトを禁止する`@njit`デコレータを使用することができます。コンパイラがPythonオブジェクトを使用する必要があると判断した場合、コンパイル時に例外をスローし、潜在的なパフォーマンスの損失を捕捉します。コンパイラが引数の型および型推論に基づいてすべての変数の型を決定すると、Pythonオブジェクトを使用せずに、効率的に実行される機械語を生成することができます。"
   ]
  },
  {
   "cell_type": "code",
   "execution_count": 1,
   "metadata": {},
   "outputs": [],
   "source": [
    "import helper.magics\n",
    "import numba as nb\n",
    "from numba import jit, njit, cfunc\n",
    "from numba.types import double, int32, float32, float64, int64, uint8\n",
    "from numba import types as T\n",
    "import numpy as np"
   ]
  },
  {
   "cell_type": "markdown",
   "metadata": {},
   "source": [
    "## データ型\n",
    "\n",
    "Numbaは、効率的な計算を行う機械語を生成するために、計算に参加する各変数のデータ型を知る必要があります。NumbaはC言語の各種数値型、ポインタ型、NumPyの配列型、および構造体型をサポートしています。"
   ]
  },
  {
   "cell_type": "markdown",
   "metadata": {},
   "source": [
    "### 関数シグネチャ\n",
    "\n",
    "関数をより効率的な機械語にコンパイルするために、Numbaは関数の引数の型を知る必要があります。この型情報は関数の型シグネチャ（type signature）と呼ばれます。`@jit`デコレータで関数をデコレートする際、その最初の引数に関数シグネチャを指定することができます。指定されていない場合、その関数が初めて呼び出された際に、渡された値の型に基づいて自動的に作成されます。\n",
    "\n",
    "以下の例では、即時コンパイル関数`dummy_func()`には3つの引数があります。異なる型の実引数でこの関数を2回呼び出すと、この関数に対して2回の即時コンパイルが行われます。その関数シグネチャ属性`signatures`から、2つの関数シグネチャがあることがわかります。最初の関数シグネチャでは、Pythonの整数、浮動小数点数、および文字列に対応する型はそれぞれ`int64`、`float64`、および`unicode_type`です。2番目の関数シグネチャでは、NumPyの各種スカラー値に対応する型はその`dtype`属性と一致し、NumPy配列の型は`array()`で表されます。"
   ]
  },
  {
   "cell_type": "code",
   "execution_count": 2,
   "metadata": {},
   "outputs": [
    {
     "data": {
      "text/plain": [
       "[(int64, float64, unicode_type),\n",
       " (float32, uint8, Array(float64, 1, 'C', False, aligned=True))]"
      ]
     },
     "execution_count": 2,
     "metadata": {},
     "output_type": "execute_result"
    }
   ],
   "source": [
    "import numpy as np\n",
    "from numba import jit\n",
    "\n",
    "@njit\n",
    "def dummy_func(x, y, z):\n",
    "    return (x, y, z)\n",
    "\n",
    "dummy_func(1, 2.0, \"hello\")\n",
    "dummy_func(np.float32(10), np.uint8(1), np.zeros(10))\n",
    "dummy_func.signatures"
   ]
  },
  {
   "cell_type": "markdown",
   "metadata": {},
   "source": [
    "`@jit`の最初の引数に関数シグネチャを指定する必要がある場合、まず型オブジェクトをロードし、これらのオブジェクトを使用して関数シグネチャを作成することができます。Numbaのすべての型は`numba.core.types`モジュールで定義されており、いくつかの一般的な型オブジェクトは`numba`から直接ロードすることもできます。型オブジェクトを呼び出し演算子`()`で呼び出すと、その型を返り値とする関数シグネチャオブジェクトが作成されます。例えば、以下のように定義された関数シグネチャの返り値の型は倍精度浮動小数点数で、その最初の引数は倍精度浮動小数点数、2番目の引数は32ビット整数です。"
   ]
  },
  {
   "cell_type": "code",
   "execution_count": 3,
   "metadata": {},
   "outputs": [
    {
     "data": {
      "text/plain": [
       "(float64, int32) -> float64"
      ]
     },
     "execution_count": 3,
     "metadata": {},
     "output_type": "execute_result"
    }
   ],
   "source": [
    "from numba import float64, int32, int16\n",
    "float64(float64, int32)"
   ]
  },
  {
   "cell_type": "markdown",
   "metadata": {},
   "source": [
    "使いやすさのために、`@jit`は文字列を使用して関数シグネチャを指定することもできます。以下の例では、`dummy_func()`には2つの関数シグネチャがあり、そのうち2番目のシグネチャは文字列で定義されています。"
   ]
  },
  {
   "cell_type": "code",
   "execution_count": 4,
   "metadata": {},
   "outputs": [
    {
     "data": {
      "text/plain": [
       "[(float64, int32), (float32, int16)]"
      ]
     },
     "execution_count": 4,
     "metadata": {},
     "output_type": "execute_result"
    }
   ],
   "source": [
    "@njit([float64(float64, int32), 'float32(float32, int16)'])\n",
    "def dummy_func(arr, n):\n",
    "    return 0\n",
    "\n",
    "dummy_func.signatures"
   ]
  },
  {
   "cell_type": "markdown",
   "metadata": {},
   "source": [
    "`typeof()`を使用すると、Pythonオブジェクトに対応する型を取得できます。以下の例から、整数オブジェクト、浮動小数点数オブジェクト、および複素数に対応する型はそれぞれ`int64`、`float64`、および`complex128`であることがわかります。文字列オブジェクトに対応する型は`unicode_type`で、バイト列オブジェクトは読み取り専用のバイト配列型に対応します。NumPyのスカラー数値を使用すると、さまざまなビット数の数値を取得できます。タプルオブジェクトには2つの対応する型があります。すべての要素の型が同じ場合、それは`UniType`型に対応し、その型は要素の型と長さによって決定され、固定長の配列に相当します。要素の型が異なる場合、それは`Tuple`型に対応し、その型は各要素の型によって決定され、匿名の構造体に相当します。"
   ]
  },
  {
   "cell_type": "code",
   "execution_count": 5,
   "metadata": {},
   "outputs": [
    {
     "name": "stdout",
     "output_type": "stream",
     "text": [
      "typeof( 1                   ) : int64\n",
      "typeof( 2.0                 ) : float64\n",
      "typeof( 1j                  ) : complex128\n",
      "typeof( 'hello'             ) : unicode_type\n",
      "typeof( b'bindata'          ) : readonly bytes(uint8, 1d, C)\n",
      "typeof( 10.0                ) : float32\n",
      "typeof( array([0., 0., 0.]) ) : array(float64, 1d, C)\n",
      "typeof( (1, 2, 3)           ) : UniTuple(int64 x 3)\n",
      "typeof( (1, 2.0)            ) : Tuple(int64, float64)\n"
     ]
    }
   ],
   "source": [
    "import numba as nb\n",
    "values = [1, 2.0, 1j, \n",
    "          \"hello\", b\"bindata\", \n",
    "          np.float32(10), np.zeros(3), \n",
    "          (1, 2, 3), (1, 2.0)\n",
    "         ]\n",
    "for v in values:\n",
    "    print(f'typeof( {repr(v):19s} ) : {nb.typeof(v)}')"
   ]
  },
  {
   "cell_type": "markdown",
   "metadata": {},
   "source": [
    "### 配列型\n",
    "\n",
    "型オブジェクトの添字演算子`[]`を使用して、その型の要素を持つ配列型を作成できます。その使用方法はCythonの配列型と同じで、添字の要素は`:`または`::1`です。添字要素の数は配列の次元数を決定し、`::1`はその次元の要素がメモリ内で連続して保存されることを示します。以下では、異なる要素型を使用して、メモリ内の保存方法が異なる3つの2次元配列型を定義します。配列型は「array(要素型, 次元数, メモリ配置)」と表示されます。メモリの配置方法には3種類あります：CはC言語連続、FはFortran言語連続、Aはメモリ連続に関する情報がないことを示します。連続して保存される配列型を使用すると、配列要素へのアクセス速度が向上します。"
   ]
  },
  {
   "cell_type": "code",
   "execution_count": 8,
   "metadata": {},
   "outputs": [
    {
     "name": "stdout",
     "output_type": "stream",
     "text": [
      "              int32[::1, :]                               float32[:, :]                                double[:, ::1]              \n",
      "-----------------------------------------  -------------------------------------------  -------------------------------------------\n",
      "Array(int32, 2, 'F', False, aligned=True)  Array(float32, 2, 'A', False, aligned=True)  Array(float64, 2, 'C', False, aligned=True)\n"
     ]
    }
   ],
   "source": [
    "from numba.types import int32, float32, float64\n",
    "%C int32[::1, :]; float32[:, :]; double[:, ::1]"
   ]
  },
  {
   "cell_type": "markdown",
   "metadata": {},
   "source": [
    "`Array()`を使用して直接配列型を作成することもできます。以下では、C言語連続の3次元配列型を作成します："
   ]
  },
  {
   "cell_type": "code",
   "execution_count": 9,
   "metadata": {},
   "outputs": [
    {
     "data": {
      "text/plain": [
       "Array(float32, 3, 'C', False, aligned=True)"
      ]
     },
     "execution_count": 9,
     "metadata": {},
     "output_type": "execute_result"
    }
   ],
   "source": [
    "from numba.types import Array\n",
    "\n",
    "Array(float32, 3, \"C\")"
   ]
  },
  {
   "cell_type": "markdown",
   "metadata": {},
   "source": [
    "NumPy配列には、配列の次元数、形状、要素間の間隔など、配列のさまざまな属性が保存されています。一方、C言語では通常、ポインタと長さを渡すことで配列を渡します。Numbaでは`CPointer`を使用してポインタ型を作成できます。以下の例では、`@cfunc`デコレータで`sum1d()`をデコレートし、コンパイルされた関数がC言語の呼び出しインターフェースを使用することを示します。その最初の引数は倍精度浮動小数点数配列の先頭アドレスへのポインタで、2番目の引数は要素の数です。`@cfunc`でコンパイルされた関数は通常、拡張ライブラリ内でコールバック関数として呼び出され、Pythonではその`ctypes`属性を使用してctypeの関数オブジェクトを取得し、それを使用して即時コンパイルされた関数を呼び出すことができます。NumPy配列を`@cfunc`でコンパイルされた関数に渡す際には、その先頭要素へのポインタに変換する必要があります。"
   ]
  },
  {
   "cell_type": "code",
   "execution_count": 13,
   "metadata": {},
   "outputs": [
    {
     "name": "stdout",
     "output_type": "stream",
     "text": [
      "<CFunctionType object at 0x0000020AB1862270>\n"
     ]
    },
    {
     "data": {
      "text/plain": [
       "55.0"
      ]
     },
     "execution_count": 13,
     "metadata": {},
     "output_type": "execute_result"
    }
   ],
   "source": [
    "from numba.types import CPointer\n",
    "\n",
    "@cfunc(float64(CPointer(float64), int64))\n",
    "def sum1d(xs, n):\n",
    "    s = 0.0\n",
    "    for i in range(n):\n",
    "        s += xs[i]\n",
    "    return s\n",
    "\n",
    "print(sum1d.ctypes)\n",
    "from ctypes import POINTER, c_double\n",
    "arr = np.arange(0.0, 11.0)\n",
    "sum1d.ctypes(arr.ctypes.data_as(POINTER(c_double)), len(arr))"
   ]
  },
  {
   "cell_type": "markdown",
   "metadata": {},
   "source": [
    "### 構造体型\n",
    "\n",
    "構造体はPythonには対応するオブジェクトがありませんが、`Record.make_c_struct()`を使用して直接構造体型を定義できます。その引数は、各フィールドの名前と型を記述したリストです。現在、`make_c_struct()`はスカラーデータ型と`NestedArray`で定義された固定形状の配列のみをサポートしています。以下の`Triangle`構造体の`xs`と`ys`フィールドは、形状が`(3,)`の倍精度浮動小数点数配列です。"
   ]
  },
  {
   "cell_type": "code",
   "execution_count": 14,
   "metadata": {},
   "outputs": [],
   "source": [
    "from numba.types import Record, NestedArray\n",
    "\n",
    "Point = Record.make_c_struct([\n",
    "    ('id', int32),\n",
    "    ('x', float64),\n",
    "    ('y', float64),\n",
    "])\n",
    "\n",
    "Triangle = Record.make_c_struct([\n",
    "    ('id', int32),\n",
    "    ('xs', NestedArray(float64, (3,))),\n",
    "    ('ys', NestedArray(float64, (3,)))\n",
    "])"
   ]
  },
  {
   "cell_type": "markdown",
   "metadata": {},
   "source": [
    "`Record`オブジェクトはNumPyの`dtype`オブジェクトと相互に変換できます。`Record`オブジェクトの`dtype`属性を使用して、それに対応する`dtype`オブジェクトを取得できます。また、`numpy_support.from_dtype()`を使用して`dtype`オブジェクトを`Recored`オブジェクトに変換できます。以下では、まず`dtype`オブジェクト`Line_dtype`を作成し、それを`Record`オブジェクトに変換します。その`x`と`y`フィールドは`Point`構造体です。現在、Numbaは要素型が構造体である`NestedArray`配列をサポートしていません。"
   ]
  },
  {
   "cell_type": "code",
   "execution_count": 15,
   "metadata": {},
   "outputs": [],
   "source": [
    "from numba.np import numpy_support\n",
    "Line_dtype = np.dtype([('id', np.int32), ('start', Point.dtype), ('end', Point.dtype)])\n",
    "Line = numpy_support.from_dtype(Line_dtype)"
   ]
  },
  {
   "cell_type": "markdown",
   "metadata": {},
   "source": [
    "以下では、型が`Line.dtype`の構造体配列を作成し、その`.view(np.recarray)`メソッドを呼び出して構造体を`recarray`配列に変換します。`recarray`配列と構造体配列の使用方法は同じですが、`recarray`配列はフィールドに属性でアクセスする機能を追加しています。即時コンパイル関数`length()`は、各構造体配列内の各線分の長さを計算します。引数が構造体配列であっても`recarray`配列であっても、Numbaの即時コンパイル関数内では属性名を使用してそのフィールドにアクセスできます。"
   ]
  },
  {
   "cell_type": "code",
   "execution_count": 16,
   "metadata": {},
   "outputs": [
    {
     "data": {
      "text/plain": [
       "(array([10.81665383,  9.43398113,  8.06225775]),\n",
       " array([10.81665383,  9.43398113,  8.06225775]))"
      ]
     },
     "execution_count": 16,
     "metadata": {},
     "output_type": "execute_result"
    }
   ],
   "source": [
    "@njit\n",
    "def length(lines):\n",
    "    x1 = lines.start.x\n",
    "    x2 = lines.end.x\n",
    "    y1 = lines.start.y\n",
    "    y2 = lines.end.y\n",
    "    return np.hypot(x2-x1, y2-y1)\n",
    "\n",
    "lines = np.zeros(3, dtype=Line.dtype).view(np.recarray)\n",
    "\n",
    "lines.start.x = [1, 2, 3]\n",
    "lines.end.x = [10, 10, 10]\n",
    "lines.start.y = [2, 2, 2]\n",
    "lines.end.y = [8, 7, 6]\n",
    "\n",
    "length(lines), length.py_func(lines)"
   ]
  },
  {
   "cell_type": "markdown",
   "metadata": {},
   "source": [
    "### 関数を引数として\n",
    "\n",
    "Numbaの即時コンパイル関数内では、他の即時コンパイル関数や動的リンクライブラリからロードされた外部関数を呼び出すことができます。さらに、これらの関数を引数として渡すこともサポートされています。以下の例では、`func()`は即時コンパイル関数で、`lib.sin()`は`cffi`モジュールを使用してC言語標準ライブラリからロードされた外部関数です。これら2つの関数を`sum_of_func()`に渡し、配列に対して演算を行った後の和を計算します。"
   ]
  },
  {
   "cell_type": "code",
   "execution_count": 17,
   "metadata": {},
   "outputs": [
    {
     "name": "stdout",
     "output_type": "stream",
     "text": [
      "459.6586935836439 230.0398940446059\n"
     ]
    }
   ],
   "source": [
    "from cffi import FFI\n",
    "\n",
    "@njit\n",
    "def func(x):\n",
    "    return x * np.sin(x**2)\n",
    "\n",
    "@njit\n",
    "def sum_of_func(func, xs):\n",
    "    s = 0.0\n",
    "    for x in xs:\n",
    "        s += func(x)\n",
    "    return s\n",
    "\n",
    "ffi = FFI()\n",
    "ffi.cdef('double sin(double);')\n",
    "lib = ffi.dlopen('msvcrt')\n",
    "\n",
    "xs = np.linspace(0, 1, 1000)\n",
    "print(sum_of_func(lib.sin, xs), sum_of_func(func, xs))"
   ]
  },
  {
   "cell_type": "markdown",
   "metadata": {},
   "source": [
    "以下では、`sum_of_func()`の関数シグネチャを確認します。外部関数と即時コンパイル関数の呼び出し方法が異なるため、2つのシグネチャがあることがわかります。"
   ]
  },
  {
   "cell_type": "code",
   "execution_count": 18,
   "metadata": {},
   "outputs": [
    {
     "name": "stdout",
     "output_type": "stream",
     "text": [
      "(ExternalFunctionPointer((float64,) -> float64), Array(float64, 1, 'C', False, aligned=True))\n",
      "(type(CPUDispatcher(<function func at 0x0000020AB1206CA0>)), Array(float64, 1, 'C', False, aligned=True))\n"
     ]
    }
   ],
   "source": [
    "for sig in sum_of_func.signatures:\n",
    "    print(sig)"
   ]
  },
  {
   "cell_type": "markdown",
   "metadata": {},
   "source": [
    "即時コンパイル関数は実際には`CPUDispatcher`型のディスパッチャオブジェクトです。これは、異なる引数の型に対して異なる処理が必要なためです。即時コンパイル関数の各シグネチャには対応する機械語があり、呼び出し時の引数の型に基づいて適切な機械語を自動的に選択して実行します。この特性は関数のオーバーロードと呼ばれます。ディスパッチャオブジェクトの`overloads`属性には、シグネチャとコンパイルされた機械語の関係が保存されており、それは`OrderedDict`オブジェクトです。`get_overload()`メソッドを使用して、シグネチャに対応する機械語を取得できます。以下では、外部関数引数のシグネチャに対応するオーバーロード関数を取得し、それを呼び出します。"
   ]
  },
  {
   "cell_type": "code",
   "execution_count": 19,
   "metadata": {},
   "outputs": [
    {
     "name": "stdout",
     "output_type": "stream",
     "text": [
      "<class 'numba.core.registry.CPUDispatcher'>\n"
     ]
    },
    {
     "data": {
      "text/plain": [
       "459.6586935836439"
      ]
     },
     "execution_count": 19,
     "metadata": {},
     "output_type": "execute_result"
    }
   ],
   "source": [
    "print(type(sum_of_func))\n",
    "sum_of_func0 = sum_of_func.get_overload(sum_of_func.signatures[0])\n",
    "sum_of_func0(lib.sin, xs)"
   ]
  },
  {
   "cell_type": "markdown",
   "metadata": {},
   "source": [
    "### 局所変数の型\n",
    "\n",
    "即時コンパイル関数内では、局所変数の型は通常、関数の引数の型およびその使用方法に基づいて自動的に推論されます。`inspect_types()`メソッドを使用して、コンパイルされたNumba中間コードを確認できます。Numbaのコンパイルプロセスでは、まずPython関数をNumba中間コードにコンパイルし、次にLLVMの中間コードにコンパイルし、最後にLLVMが機械語にコンパイルします。Numbaの中間コードから、Numbaの型推論プロセスを確認できます。以下のプログラムでは、`float32`型の数値を`dummy_func()`に渡した後、そのNumba中間コードを確認します。"
   ]
  },
  {
   "cell_type": "code",
   "execution_count": 20,
   "metadata": {},
   "outputs": [
    {
     "name": "stdout",
     "output_type": "stream",
     "text": [
      "inc (float32,)\n",
      "--------------------------------------------------------------------------------\n",
      "# File: C:\\Users\\ruoyu\\AppData\\Local\\Temp\\ipykernel_25328\\3683694668.py\n",
      "# --- LINE 1 --- \n",
      "# label 0\n",
      "#   x = arg(0, name=x)  :: float32\n",
      "\n",
      "@njit\n",
      "\n",
      "# --- LINE 2 --- \n",
      "\n",
      "def inc(x):\n",
      "\n",
      "    # --- LINE 3 --- \n",
      "    #   $const6.1 = const(float, 1.0)  :: float64\n",
      "    #   x.1 = inplace_binop(fn=<built-in function iadd>, immutable_fn=<built-in function add>, lhs=x, rhs=$const6.1, static_lhs=Undefined, static_rhs=Undefined)  :: float64\n",
      "    #   del x\n",
      "    #   del $const6.1\n",
      "\n",
      "    x += 1.0\n",
      "\n",
      "    # --- LINE 4 --- \n",
      "    #   $16return_value.4 = cast(value=x.1)  :: float64\n",
      "    #   del x.1\n",
      "    #   return $16return_value.4\n",
      "\n",
      "    return x\n",
      "\n",
      "\n",
      "================================================================================\n"
     ]
    }
   ],
   "source": [
    "@njit\n",
    "def inc(x):\n",
    "    x += 1.0\n",
    "    return x\n",
    "\n",
    "inc(np.float32(0.0))\n",
    "inc.inspect_types()"
   ]
  },
  {
   "cell_type": "markdown",
   "metadata": {},
   "source": [
    "プログラムが出力するNumbaの中間コードによると、`inc()`の引数の型は`float32`ですが、`float64`型の定数`1.0`と演算するため、精度を保つために関数の戻り値の型は`float64`となります。\n",
    "\n",
    "注意深い読者は、`x += 1.0`のコンパイル結果がC言語とは全く異なることに気付くかもしれません。加算代入演算は変数`x`に結果を代入するのではなく、新しい変数`x.1`に代入しています。これは、LLVMでは各変数は一度しか代入できないため、新しい変数を作成して演算結果を保存する必要があり、精度を失わないために新しい変数の型が`float64`に設定されているためです。\n",
    "\n",
    "本書で提供されている`get_local_variables()`を使用すると、ローカル変数の型情報を簡単に取得できます。最初の引数は即時コンパイル関数で、2番目の引数は関数シグネチャのインデックスです。変数名をキー、変数の型を値とする辞書を返します。"
   ]
  },
  {
   "cell_type": "code",
   "execution_count": 21,
   "metadata": {},
   "outputs": [
    {
     "data": {
      "text/plain": [
       "{'arg.x': float32,\n",
       " 'x': float32,\n",
       " 'x.1': float64,\n",
       " '$16return_value.4': float64,\n",
       " '$const6.1': float64}"
      ]
     },
     "execution_count": 21,
     "metadata": {},
     "output_type": "execute_result"
    }
   ],
   "source": [
    "from helper.numba import get_local_variables\n",
    "get_local_variables(inc, 0)"
   ]
  },
  {
   "cell_type": "markdown",
   "metadata": {},
   "source": [
    "即時コンパイル関数では、Numbaの型オブジェクトまたはNumPyのスカラ型を使用して型変換を行うことができます。以下では、定数`1.0`を`float32`型に変換してから変数`x`と加算します。2つの`float32`型の浮動小数点数を加算した結果は`float32`型で表現できるため、関数の戻り値は`float32`型になります。"
   ]
  },
  {
   "cell_type": "code",
   "execution_count": 22,
   "metadata": {},
   "outputs": [
    {
     "data": {
      "text/plain": [
       "{'arg.x': float32,\n",
       " 'x': float32,\n",
       " 'x.1': float32,\n",
       " '$18call.4': float32,\n",
       " '$34return_value.7': float32,\n",
       " '$6load_global.1': class(float32),\n",
       " '$const16.3': float64}"
      ]
     },
     "execution_count": 22,
     "metadata": {},
     "output_type": "execute_result"
    }
   ],
   "source": [
    "@njit\n",
    "def inc(x):\n",
    "    x += float32(1.0)\n",
    "    return x\n",
    "\n",
    "inc(np.float32(0.0))\n",
    "get_local_variables(inc, 0)"
   ]
  },
  {
   "cell_type": "markdown",
   "metadata": {},
   "source": [
    "以下の`checksum()`は、1バイトの符号なし整数配列のチェックサムを計算します。このコードをC言語で実装すると、1バイトの整数を返します。しかし、Numbaでコンパイルされた関数は、配列内のすべての数の合計を返します。これは、2つの`uint8`型の整数を加算すると、その和が`uint8`の範囲を超えるため、Numbaが`uint64`を使用して合計を保存するためです。"
   ]
  },
  {
   "cell_type": "code",
   "execution_count": 23,
   "metadata": {},
   "outputs": [
    {
     "data": {
      "text/plain": [
       "19900"
      ]
     },
     "execution_count": 23,
     "metadata": {},
     "output_type": "execute_result"
    }
   ],
   "source": [
    "@njit\n",
    "def checksum(xs):\n",
    "    s = uint8(0)\n",
    "    for x in xs:\n",
    "        s += uint8(x)\n",
    "    return s\n",
    "\n",
    "arr = np.arange(200).astype(np.uint8)\n",
    "checksum(arr)"
   ]
  },
  {
   "cell_type": "markdown",
   "metadata": {},
   "source": [
    "以下は`checksum()`の各ローカル変数の型です。変数`s`は最初は`uint8`ですが、加算演算の後、その型は`uint64`に変わります："
   ]
  },
  {
   "cell_type": "code",
   "execution_count": 28,
   "metadata": {},
   "outputs": [
    {
     "data": {
      "text/plain": [
       "{'arg.xs': Array(uint8, 1, 'C', False, aligned=True),\n",
       " 's': uint8,\n",
       " 's.1': uint64,\n",
       " 's.2': uint64,\n",
       " 'x': uint8,\n",
       " 'xs': Array(uint8, 1, 'C', False, aligned=True),\n",
       " '$28get_iter.5': iter(array(uint8, 1d, C)),\n",
       " '$30for_iter.1': pair<uint8, bool>,\n",
       " '$30for_iter.2': uint8,\n",
       " '$30for_iter.3': bool,\n",
       " '$38load_global.3': class(uint8),\n",
       " '$4load_global.0': class(uint8),\n",
       " '$50call.6': uint8,\n",
       " '$70return_value.3': uint64,\n",
       " '$binop_iadd58.7': uint64,\n",
       " '$const14.2': Literal[int](0),\n",
       " '$phi30.0': iter(array(uint8, 1d, C)),\n",
       " '$phi34.1': uint8}"
      ]
     },
     "execution_count": 28,
     "metadata": {},
     "output_type": "execute_result"
    }
   ],
   "source": [
    "get_local_variables(checksum, 0)"
   ]
  },
  {
   "cell_type": "markdown",
   "metadata": {},
   "source": [
    "正しいチェックサムを計算するためには、加算演算の結果の型を`uint8`に変換する必要があります："
   ]
  },
  {
   "cell_type": "code",
   "execution_count": 25,
   "metadata": {},
   "outputs": [
    {
     "data": {
      "text/plain": [
       "188"
      ]
     },
     "execution_count": 25,
     "metadata": {},
     "output_type": "execute_result"
    }
   ],
   "source": [
    "@njit\n",
    "def checksum2(xs):\n",
    "    s = uint8(0)\n",
    "    for x in xs:\n",
    "        s = uint8(s + x)\n",
    "    return s\n",
    "\n",
    "checksum2(arr)"
   ]
  },
  {
   "cell_type": "markdown",
   "metadata": {},
   "source": [
    "以下のローカル変数の型から、累積変数`s`のすべてのコピーの型が`uint8`になっていることがわかります。"
   ]
  },
  {
   "cell_type": "code",
   "execution_count": 27,
   "metadata": {},
   "outputs": [
    {
     "data": {
      "text/plain": [
       "{'arg.xs': Array(uint8, 1, 'C', False, aligned=True),\n",
       " 's': uint8,\n",
       " 's.1': uint8,\n",
       " 's.2': uint8,\n",
       " 'x': uint8,\n",
       " 'xs': Array(uint8, 1, 'C', False, aligned=True),\n",
       " '$28get_iter.5': iter(array(uint8, 1d, C)),\n",
       " '$30for_iter.1': pair<uint8, bool>,\n",
       " '$30for_iter.2': uint8,\n",
       " '$30for_iter.3': bool,\n",
       " '$36load_global.2': class(uint8),\n",
       " '$4load_global.0': class(uint8),\n",
       " '$70return_value.3': uint8,\n",
       " '$binop_add50.6': uint64,\n",
       " '$const14.2': Literal[int](0),\n",
       " '$phi30.0': iter(array(uint8, 1d, C)),\n",
       " '$phi34.1': uint8}"
      ]
     },
     "execution_count": 27,
     "metadata": {},
     "output_type": "execute_result"
    }
   ],
   "source": [
    "get_local_variables(checksum2, 0)"
   ]
  },
  {
   "cell_type": "markdown",
   "metadata": {},
   "source": [
    "### コンテナ型\n",
    "\n",
    "Pythonのリストや辞書などのコンテナ型は、プログラムの作成に非常に便利です。これらは任意の型のオブジェクトを保存できますが、大量の同じ型のオブジェクトを処理する場合、不要なパフォーマンスの低下を引き起こすことがあります。Numbaは、型付きのリストコンテナ`List`と辞書コンテナ`Dict`を提供しています。これらのコンテナでは、すべての要素が同じメモリを占有するため、連続したメモリにすべての要素を保存し、コンテナのアクセス速度を向上させることができます。\n",
    "\n",
    "以下の例では、`filter_between()`は`arr`内の`vmin`と`vmax`の間にある要素を収集します。条件を満たす要素の数がわからないため、プログラムでは`List`コンテナを使用して条件を満たす要素を1つずつ追加します。"
   ]
  },
  {
   "cell_type": "code",
   "execution_count": 29,
   "metadata": {},
   "outputs": [],
   "source": [
    "from numba.typed import List\n",
    "\n",
    "@njit\n",
    "def filter_between(arr, vmin, vmax):\n",
    "    r = List()\n",
    "    for v in arr:\n",
    "        if vmin < v < vmax:\n",
    "            r.append(v)\n",
    "    return r"
   ]
  },
  {
   "cell_type": "markdown",
   "metadata": {},
   "source": [
    "以下では、`filter_between()`とPythonのリスト内包表記の速度を比較します。配列の反復処理が遅いため、まず配列をリストに変換してからリスト内包表記を使用して計算します："
   ]
  },
  {
   "cell_type": "code",
   "execution_count": 30,
   "metadata": {},
   "outputs": [
    {
     "name": "stdout",
     "output_type": "stream",
     "text": [
      "660 μs ± 9.79 μs per loop (mean ± std. dev. of 7 runs, 1,000 loops each)\n",
      "6.08 ms ± 148 μs per loop (mean ± std. dev. of 7 runs, 100 loops each)\n"
     ]
    }
   ],
   "source": [
    "values = np.random.randn(100000)\n",
    "lvalues = values.tolist()\n",
    "r1 = filter_between(values, 0.1, 0.11)\n",
    "%timeit filter_between(values, 0.1, 0.11)\n",
    "%timeit [x for x in lvalues if 0.1 < x < 0.11]"
   ]
  },
  {
   "cell_type": "markdown",
   "metadata": {},
   "source": [
    "Python環境では、`List`コンテナオブジェクトと組み込みのリストオブジェクトの使い方は同じです："
   ]
  },
  {
   "cell_type": "code",
   "execution_count": 31,
   "metadata": {},
   "outputs": [
    {
     "name": "stdout",
     "output_type": "stream",
     "text": [
      "<class 'numba.typed.typedlist.List'> 404 42.330876255133646\n"
     ]
    }
   ],
   "source": [
    "print(type(r1), len(r1), sum(r1))"
   ]
  },
  {
   "cell_type": "markdown",
   "metadata": {},
   "source": [
    "`_numba_type_`属性を使用して、Numbaでの型を確認できます。以下の出力から、`r1`の要素型は`float64`であることがわかります："
   ]
  },
  {
   "cell_type": "code",
   "execution_count": 32,
   "metadata": {},
   "outputs": [
    {
     "data": {
      "text/plain": [
       "ListType(float64)"
      ]
     },
     "execution_count": 32,
     "metadata": {},
     "output_type": "execute_result"
    }
   ],
   "source": [
    "r1._numba_type_"
   ]
  },
  {
   "cell_type": "markdown",
   "metadata": {},
   "source": [
    "以下の`group_mean()`は、辞書コンテナ`Dict`を使用して`group`と`arr`のデータをグループ化し、平均値を計算します。❶`List`とは異なり、即時コンパイル関数では`{}`が`Dict`オブジェクトを作成します。Numbaが`Dict`オブジェクトのキーと値の型を正しく推論するために、ここでは`group[0]`と`(0, 0.0)`を使用して辞書を初期化します。辞書のキーは`group`のグループ要素で、値はそのグループの要素数と`arr`内の対応する要素の合計を保存するためのタプルです。`group`と`arr`の各ペアに対してループし、❷辞書オブジェクトの`get()`メソッドを使用してグループに対応するデータを取得します。データがない場合は初期データを返します。❸グループの要素数と合計を更新します。最後に、この辞書を使用して各グループの平均値を計算します。"
   ]
  },
  {
   "cell_type": "code",
   "execution_count": 33,
   "metadata": {},
   "outputs": [],
   "source": [
    "from numba.typed import Dict\n",
    "from numba.types import int64, float64, Tuple\n",
    "@njit\n",
    "def group_mean(group, arr):\n",
    "    d = {group[0]:(0, 0.0)} #❶\n",
    "    for g, v in zip(group, arr):\n",
    "        n, s = d.get(g, (0, 0.0)) #❷\n",
    "        d[g] = n + 1, s + v #❸\n",
    "\n",
    "    r = {}\n",
    "    for key, val in d.items():\n",
    "        r[key] = val[1] / val[0]\n",
    "    return r"
   ]
  },
  {
   "cell_type": "markdown",
   "metadata": {},
   "source": [
    "以下では、`group_mean()`の即時コンパイル関数、元のPython関数、およびPandasのグループ平均演算の速度を比較します。以下の結果から、即時コンパイル関数はPandasの演算速度に近いことがわかります。Pandas内部では、グループ平均演算はCythonで記述されたコンパイル関数を使用して実装されているため、その演算効率は非常に高いです。一部のグループ演算がPandasのコンパイル関数を使用できない場合、この例と同様の方法を使用して演算速度を向上させることができます。"
   ]
  },
  {
   "cell_type": "code",
   "execution_count": 34,
   "metadata": {},
   "outputs": [
    {
     "name": "stdout",
     "output_type": "stream",
     "text": [
      "5.89 ms ± 345 μs per loop (mean ± std. dev. of 7 runs, 100 loops each)\n",
      "24.3 ms ± 984 μs per loop (mean ± std. dev. of 7 runs, 10 loops each)\n",
      "2.41 ms ± 28.6 μs per loop (mean ± std. dev. of 7 runs, 1,000 loops each)\n"
     ]
    }
   ],
   "source": [
    "import pandas as pd\n",
    "\n",
    "values = np.random.randn(100000)\n",
    "group = np.random.randint(0, 100, size=len(values), dtype=np.int16)\n",
    "grp_means = group_mean(group, values)\n",
    "lvalues = values.tolist()\n",
    "lgroup = group.tolist()\n",
    "%timeit group_mean(group, values)\n",
    "%timeit group_mean.py_func(lgroup, lvalues)\n",
    "%timeit pd.Series(values).groupby(group).mean()"
   ]
  },
  {
   "cell_type": "markdown",
   "metadata": {},
   "source": [
    "Python環境では、`Dict`オブジェクトの使い方は組み込みの辞書と同じです。以下では、`grp_means`の型とNumbaでの型を確認します："
   ]
  },
  {
   "cell_type": "code",
   "execution_count": 35,
   "metadata": {},
   "outputs": [
    {
     "name": "stdout",
     "output_type": "stream",
     "text": [
      "<class 'numba.typed.typeddict.Dict'> DictType[int16,float64]<iv=None>\n"
     ]
    }
   ],
   "source": [
    "print(type(grp_means), grp_means._numba_type_)"
   ]
  },
  {
   "cell_type": "markdown",
   "metadata": {},
   "source": [
    "以下では、`items()`メソッドを使用してキーと値のシーケンスを取得し、`sorted()`を使用してキーでソートします："
   ]
  },
  {
   "cell_type": "code",
   "execution_count": 38,
   "metadata": {},
   "outputs": [
    {
     "data": {
      "text/plain": [
       "[(0, -0.03810774637521062),\n",
       " (1, 0.01624853321326956),\n",
       " (2, -0.015715201825220102),\n",
       " (3, 0.016737810027511048)]"
      ]
     },
     "execution_count": 38,
     "metadata": {},
     "output_type": "execute_result"
    }
   ],
   "source": [
    "sorted(grp_means.items())[:4]"
   ]
  },
  {
   "cell_type": "markdown",
   "metadata": {},
   "source": [
    "## NumPy配列演算\n",
    "\n",
    "Numbaは配列型、配列計算式、およびNumPyで定義されたほとんどの関数を認識し、より効率的なコードを生成することができます。また、`@vectorize`デコレータを使用してNumPyのufunc関数を生成したり、`@stencil`デコレータを使用してテンプレートのカーネル関数を処理し、配列全体を処理する関数を生成することもできます。"
   ]
  },
  {
   "cell_type": "markdown",
   "metadata": {},
   "source": [
    "### ブロードキャスト演算の最適化\n",
    "\n",
    "NumPyは配列式を計算する際に、中間計算結果を保存するために多くの一時配列を作成します。演算に参加する配列が大きい場合、これらの一時配列のメモリ割り当てと解放が演算速度に影響を与えます。Numbaは配列演算式をループ演算のコードに変換し、各配列式はufunc関数に似たコードにコンパイルされます。これにより、中間結果を保存するための配列を作成する必要がなくなります。"
   ]
  },
  {
   "cell_type": "code",
   "execution_count": 39,
   "metadata": {},
   "outputs": [],
   "source": [
    "@njit\n",
    "def f1(x, y):\n",
    "    return np.sin(x**2) + np.cos(y**2)\n",
    "\n",
    "@njit\n",
    "def f2(x, y):\n",
    "    a = np.sin(x**2)\n",
    "    b = np.cos(y**2)\n",
    "    return a + b"
   ]
  },
  {
   "cell_type": "markdown",
   "metadata": {},
   "source": [
    "Numbaは配列のブロードキャスト演算をサポートしていますが、ブロードキャスト演算は配列式全体に対して行われるため、この処理がプログラムの演算速度を低下させることがあります。以下の例では、配列`x`と`y`の形状がそれぞれ`(1000, 1)`と`(1, 1000)`であり、NumPyで式`sin(x**2) + cos(y**2)`を計算する場合、ブロードキャスト演算は最後の加算で実行され、`sin()`と`cos()`は1000回だけ計算されます。一方、`f1()`は式全体を1つのufunc関数としてコンパイルするため、ブロードキャスト演算は式全体に対して行われ、`sin()`と`cos()`関数はそれぞれ1000×1000回計算されます。結果からわかるように、NumPyの演算速度と中間結果を配列に保存する`f2()`の速度は同じですが、式全体に対してブロードキャスト演算を行う`f1()`はかなり遅くなります。\n",
    "\n",
    "したがって、Numbaを使用して配列式を計算する際には、演算に参加する配列の形状に応じて最適化されたコードを使用することができます。"
   ]
  },
  {
   "cell_type": "code",
   "execution_count": 40,
   "metadata": {},
   "outputs": [
    {
     "name": "stdout",
     "output_type": "stream",
     "text": [
      "28.8 ms ± 2.6 ms per loop (mean ± std. dev. of 7 runs, 10 loops each)\n",
      "2.95 ms ± 114 μs per loop (mean ± std. dev. of 7 runs, 100 loops each)\n",
      "3.88 ms ± 217 μs per loop (mean ± std. dev. of 7 runs, 100 loops each)\n"
     ]
    }
   ],
   "source": [
    "x, y = np.ogrid[-1:1:1000j, -1:1:1000j]\n",
    "f1(x, y)\n",
    "f2(x, y)\n",
    "%timeit f1(x, y)\n",
    "%timeit f2(x, y)\n",
    "%timeit f1.py_func(x, y)"
   ]
  },
  {
   "cell_type": "markdown",
   "metadata": {},
   "source": [
    "本書で提供されている`display_func_code()`を使用すると、Numbaが内部でサポートしているコンパイル関数のソースコードを確認できます。例えば、以下のように`np.nanmean()`のコードを確認できます："
   ]
  },
  {
   "cell_type": "code",
   "execution_count": 2,
   "metadata": {},
   "outputs": [
    {
     "data": {
      "text/markdown": [
       "```python\n",
       "# C:\\mamba\\envs\\py312\\Lib\\site-packages\\numba\\np\\arraymath.py: 1200\n",
       "@overload(np.nanmean)\n",
       "def np_nanmean(a):\n",
       "    if not isinstance(a, types.Array):\n",
       "        return\n",
       "    isnan = get_isnan(a.dtype)\n",
       "\n",
       "    def nanmean_impl(a):\n",
       "        c = 0.0\n",
       "        count = 0\n",
       "        for view in np.nditer(a):\n",
       "            v = view.item()\n",
       "            if not isnan(v):\n",
       "                c += v.item()\n",
       "                count += 1\n",
       "        # np.divide() doesn't raise ZeroDivisionError\n",
       "        return np.divide(c, count)\n",
       "\n",
       "    return nanmean_impl\n",
       "\n",
       "```"
      ]
     },
     "metadata": {},
     "output_type": "display_data"
    }
   ],
   "source": [
    "from helper.numba import display_func_code\n",
    "\n",
    "@nb.njit\n",
    "def f(x):\n",
    "    return np.nanmean(x)\n",
    "\n",
    "x = np.random.randn(10)\n",
    "f(x)\n",
    "display_func_code(f, np.nanmean)"
   ]
  },
  {
   "cell_type": "markdown",
   "metadata": {},
   "source": [
    "`display_func_code()`は、Pythonの演算子に対応するコンパイルコードを表示するためにも使用できます。例えば、以下のように加算演算に対応するコードを表示できます。プログラムの出力から、整数、浮動小数点数、および文字列の加算がそれぞれ異なる関数に対応していることがわかります。"
   ]
  },
  {
   "cell_type": "code",
   "execution_count": 3,
   "metadata": {},
   "outputs": [
    {
     "data": {
      "text/markdown": [
       "```python\n",
       "# C:\\mamba\\envs\\py312\\Lib\\site-packages\\numba\\cpython\\numbers.py: 35\n",
       "def int_add_impl(context, builder, sig, args):\n",
       "    [va, vb] = args\n",
       "    [ta, tb] = sig.args\n",
       "    a = context.cast(builder, va, ta, sig.return_type)\n",
       "    b = context.cast(builder, vb, tb, sig.return_type)\n",
       "    res = builder.add(a, b, flags=_int_arith_flags(sig.return_type))\n",
       "    return impl_ret_untracked(context, builder, sig.return_type, res)\n",
       "\n",
       "```"
      ]
     },
     "metadata": {},
     "output_type": "display_data"
    },
    {
     "data": {
      "text/markdown": [
       "```python\n",
       "# C:\\mamba\\envs\\py312\\Lib\\site-packages\\numba\\cpython\\numbers.py: 614\n",
       "def real_add_impl(context, builder, sig, args):\n",
       "    res = builder.fadd(*args)\n",
       "    return impl_ret_untracked(context, builder, sig.return_type, res)\n",
       "\n",
       "```"
      ]
     },
     "metadata": {},
     "output_type": "display_data"
    },
    {
     "data": {
      "text/markdown": [
       "```python\n",
       "# C:\\mamba\\envs\\py312\\Lib\\site-packages\\numba\\cpython\\unicode.py: 1878\n",
       "@overload(operator.add)\n",
       "@overload(operator.iadd)\n",
       "def unicode_concat(a, b):\n",
       "    if isinstance(a, types.UnicodeType) and isinstance(b, types.UnicodeType):\n",
       "        def concat_impl(a, b):\n",
       "            new_length = a._length + b._length\n",
       "            new_kind = _pick_kind(a._kind, b._kind)\n",
       "            new_ascii = _pick_ascii(a._is_ascii, b._is_ascii)\n",
       "            result = _empty_string(new_kind, new_length, new_ascii)\n",
       "            for i in range(len(a)):\n",
       "                _set_code_point(result, i, _get_code_point(a, i))\n",
       "            for j in range(len(b)):\n",
       "                _set_code_point(result, len(a) + j, _get_code_point(b, j))\n",
       "            return result\n",
       "        return concat_impl\n",
       "\n",
       "    if isinstance(a, types.UnicodeType) and isinstance(b, types.UnicodeCharSeq):\n",
       "        def concat_impl(a, b):\n",
       "            return a + str(b)\n",
       "        return concat_impl\n",
       "\n",
       "```"
      ]
     },
     "metadata": {},
     "output_type": "display_data"
    },
    {
     "data": {
      "text/markdown": [
       "```python\n",
       "# C:\\mamba\\envs\\py312\\Lib\\site-packages\\numba\\cpython\\charseq.py: 372\n",
       "@overload(operator.add)\n",
       "@overload(operator.iadd)\n",
       "def charseq_concat(a, b):\n",
       "    if not _same_kind(a, b):\n",
       "        return\n",
       "    if (isinstance(a, types.UnicodeCharSeq) and\n",
       "            isinstance(b, types.UnicodeType)):\n",
       "        def impl(a, b):\n",
       "            return str(a) + b\n",
       "        return impl\n",
       "    if (isinstance(b, types.UnicodeCharSeq) and\n",
       "            isinstance(a, types.UnicodeType)):\n",
       "        def impl(a, b):\n",
       "            return a + str(b)\n",
       "        return impl\n",
       "    if (isinstance(a, types.UnicodeCharSeq) and\n",
       "            isinstance(b, types.UnicodeCharSeq)):\n",
       "        def impl(a, b):\n",
       "            return str(a) + str(b)\n",
       "        return impl\n",
       "    if (isinstance(a, (types.CharSeq, types.Bytes)) and\n",
       "            isinstance(b, (types.CharSeq, types.Bytes))):\n",
       "        def impl(a, b):\n",
       "            return (a._to_str() + b._to_str())._to_bytes()\n",
       "        return impl\n",
       "\n",
       "```"
      ]
     },
     "metadata": {},
     "output_type": "display_data"
    }
   ],
   "source": [
    "import operator\n",
    "\n",
    "@nb.njit\n",
    "def f(a, b):\n",
    "    return a + b\n",
    "\n",
    "f(\"a\", \"b\")\n",
    "display_func_code(f, operator.add)"
   ]
  },
  {
   "cell_type": "markdown",
   "metadata": {},
   "source": [
    "### 配列のイテレーション\n",
    "\n",
    "Numbaは、Python標準のイテレーション関数`iter()`や`enumerate()`に加えて、NumPyの3つのイテレーション関数である`np.ndenumerate()`、`np.nditer()`、`np.ndindex()`をサポートしています。NumPyでは大きな配列に対するイテレーションは処理速度が低下しがちですが、Numbaではそのような心配はありません。\n",
    "\n",
    "* `ndenumerate()`は、要素のインデックスと要素の値を同時に取得できます。イテレーション要素は2つの要素を含むタプルで、最初の要素は`UniTuple(int64, ndim)`型のインデックス（`ndim`は配列の次元数）、2番目の要素は配列のdtypeに応じた要素の値となります。\n",
    "\n",
    "* `nditer()`は、複数の配列に対してブロードキャストしながらイテレーションを行うことができます。イテレーションの各値は、次元が0の配列（`array(dtype, 0d, C)`型）として提供され、対応する要素にアクセスするには`item()`や`itemset()`メソッドを使用する必要があります。現在、`nditer()`は形状の左側に次元を追加するブロードキャストのみをサポートしており、例えば`(2, 3)`と`(5, 2, 3)`のブロードキャストは可能ですが、`(1, 3)`と`(4, 1)`のブロードキャストは例外をスローします。完全なブロードキャスト機能を使用したい場合は、`np.broadcast_arrays()`でブロードキャストした配列を即時コンパイル関数に渡すことができます。\n",
    "\n",
    "* `ndindex()`は、配列の形状を表すタプルをパラメータとして受け取ります。イテレーション要素は`UniTuple(int64, ndim)`型で、`ndim`は形状タプルの長さに対応します。この関数を利用することで、多重ループのコードを簡素化できます。"
   ]
  },
  {
   "cell_type": "markdown",
   "metadata": {},
   "source": [
    "次のプログラムでは、Numba を用いて平均二乗誤差の平方根（RMSE）を計算する2つの関数 `rmse()` と `rmse2()` を実装し、それらの性能を比較します。  \n",
    "\n",
    "`rmse()` では、`np.nditer()` を使用して `arrx` と `arry` の要素を 1 つずつ取り出し、それぞれの差の二乗和を計算しています。また、`x.item()` と `y.item()` を用いることで、0 次元の NumPy 配列から Python のスカラー値を取得します。  \n",
    "\n",
    "`rmse2()` では、NumPy のブロードキャスト機能を利用して `arrx` と `arry` の要素ごとの差を直接計算し、その二乗平均を求めた後に平方根を取っています。この関数は NumPy のベクトル演算を活用するため高速ですが、`rmse()` よりも遅くなることがあります。その主な原因は、計算の中間結果を保存する配列のメモリの割り当てと解放によるオーバーヘッドです。  "
   ]
  },
  {
   "cell_type": "code",
   "execution_count": 25,
   "metadata": {},
   "outputs": [
    {
     "name": "stdout",
     "output_type": "stream",
     "text": [
      "22.1 ms ± 2.89 ms per loop (mean ± std. dev. of 7 runs, 100 loops each)\n",
      "4.28 ms ± 408 μs per loop (mean ± std. dev. of 7 runs, 100 loops each)\n",
      "13.2 ms ± 2.61 ms per loop (mean ± std. dev. of 7 runs, 100 loops each)\n"
     ]
    }
   ],
   "source": [
    "@njit\n",
    "def rmse(arrx, arry):\n",
    "    s = 0.0\n",
    "    c = 0\n",
    "    for x, y in np.nditer((arrx, arry)):\n",
    "        x = x.item()\n",
    "        y = y.item()\n",
    "        s += (x - y)**2\n",
    "        c += 1\n",
    "    return (s / c)**0.5\n",
    "\n",
    "@njit\n",
    "def rmse2(arrx, arry):\n",
    "    return np.mean((arrx - arry)**2)\n",
    "\n",
    "x, y = np.ogrid[0:1:1000j, -1:1:2000j]\n",
    "x, y = np.broadcast_arrays(x, y)\n",
    "x.flags.writeable = False\n",
    "y.flags.writeable = False\n",
    "rmse(x, y)\n",
    "rmse2(x, y)\n",
    "%timeit np.mean((x-y)**2)\n",
    "%timeit rmse(x, y)\n",
    "%timeit rmse2(x, y)"
   ]
  },
  {
   "cell_type": "code",
   "execution_count": null,
   "metadata": {},
   "outputs": [],
   "source": [
    "@jit(nopython=True)\n",
    "def f(x, o):\n",
    "    for a, b in np.nditer((x, o), op_flags=['readwrite']):\n",
    "        ai = a.item()\n",
    "        b.itemset(ai)\n",
    "\n",
    "x = np.arange(10)\n",
    "o = np.zeros_like(x)\n",
    "f(x, o)"
   ]
  },
  {
   "cell_type": "markdown",
   "metadata": {},
   "source": [
    "次の `find_hypotenuse()` は、指定された 3 次元の形状 (`shape`) の範囲内で、直角三角形の斜辺の長さが整数となる **ピタゴラス数** を探す関数です。三重ループの代わりに、`np.ndindex(shape)` を使用して、`shape` で指定された範囲 `(X, Y, Z)` 内のすべての `(x, y, z)` の組み合わせを走査します。"
   ]
  },
  {
   "cell_type": "code",
   "execution_count": 20,
   "metadata": {},
   "outputs": [],
   "source": [
    "@jit\n",
    "def find_hypotenuse(shape):\n",
    "    res = []\n",
    "    for x, y, z in np.ndindex(shape):\n",
    "        if x == 0 or y == 0 or z == 0:\n",
    "            continue\n",
    "            \n",
    "        if x*x + y*y == z*z:\n",
    "            res.append((x, y, z))\n",
    "    return res"
   ]
  },
  {
   "cell_type": "markdown",
   "metadata": {},
   "source": [
    "次は速度の比較です。JIT コンパイル版は、約300倍高速になっています。"
   ]
  },
  {
   "cell_type": "code",
   "execution_count": 23,
   "metadata": {},
   "outputs": [
    {
     "name": "stdout",
     "output_type": "stream",
     "text": [
      "CPU times: total: 0 ns\n",
      "Wall time: 2.05 ms\n",
      "CPU times: total: 641 ms\n",
      "Wall time: 665 ms\n",
      "True\n"
     ]
    }
   ],
   "source": [
    "find_hypotenuse((2, 2, 2))\n",
    "%time a = find_hypotenuse((100, 100, 100))\n",
    "%time b = find_hypotenuse.py_func((100, 100, 100))\n",
    "print(a == b)"
   ]
  }
 ],
 "metadata": {
  "kernelspec": {
   "display_name": "Python 3 (ipykernel)",
   "language": "python",
   "name": "python3"
  },
  "language_info": {
   "codemirror_mode": {
    "name": "ipython",
    "version": 3
   },
   "file_extension": ".py",
   "mimetype": "text/x-python",
   "name": "python",
   "nbconvert_exporter": "python",
   "pygments_lexer": "ipython3",
   "version": "3.12.2"
  }
 },
 "nbformat": 4,
 "nbformat_minor": 4
}
