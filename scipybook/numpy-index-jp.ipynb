{
 "cells": [
  {
   "cell_type": "markdown",
   "metadata": {},
   "source": [
    "# 配列のインデックスアクセス\n",
    "\n",
    "前の紹介で、多次元配列に対するインデックスアクセスの方法をいくつかの例を通して紹介しました。実際にNumPyが提供するインデックス機能は非常に強力で、読者が「ブロードキャスト」に関する知識を習得した後、配列のインデックスルールを体系的に学び直しましょう。"
   ]
  },
  {
   "cell_type": "code",
   "execution_count": 2,
   "metadata": {},
   "outputs": [],
   "source": [
    "import numpy as np\n",
    "import helper.magics"
   ]
  },
  {
   "cell_type": "markdown",
   "metadata": {},
   "source": [
    "## インデックスオブジェクト"
   ]
  },
  {
   "cell_type": "markdown",
   "metadata": {},
   "source": [
    "まず、多次元配列のインデックスは、配列の次元数と同じ長さのタプルであるべきです。インデックスタプルの長さが配列の次元数より大きい場合はエラーになり、小さい場合はインデックスタプルの後ろに「:」を補って、その長さを配列の次元数と同じにします。\n",
    "\n",
    "インデックスオブジェクトがタプルでない場合、NumPyはまずそれをタプルに変換します。この変換はユーザーが望むものと一致しない可能性があるため、問題を避けるために「明示的」にタプルをインデックスとして使用してください。例えば、配列`a`が三次元配列の場合、以下のように二次元リスト`lidx`と二次元配列`aidx`をインデックスとして使用すると、得られる結果が異なります。"
   ]
  },
  {
   "cell_type": "code",
   "execution_count": 3,
   "metadata": {
    "collapsed": false,
    "jupyter": {
     "outputs_hidden": false
    }
   },
   "outputs": [
    {
     "name": "stdout",
     "output_type": "stream",
     "text": [
      "         a[lidx]                     a[aidx]          \n",
      "--------------------------  --------------------------\n",
      "[[[[ 0,  1,  2,  3,  4],    [[[[ 0,  1,  2,  3,  4],  \n",
      "   [ 5,  6,  7,  8,  9],       [ 5,  6,  7,  8,  9],  \n",
      "   [10, 11, 12, 13, 14],       [10, 11, 12, 13, 14],  \n",
      "   [15, 16, 17, 18, 19]]],     [15, 16, 17, 18, 19]]],\n",
      "                                                      \n",
      "                                                      \n",
      " [[[20, 21, 22, 23, 24],     [[[20, 21, 22, 23, 24],  \n",
      "   [25, 26, 27, 28, 29],       [25, 26, 27, 28, 29],  \n",
      "   [30, 31, 32, 33, 34],       [30, 31, 32, 33, 34],  \n",
      "   [35, 36, 37, 38, 39]]]]     [35, 36, 37, 38, 39]]]]\n"
     ]
    }
   ],
   "source": [
    "a = np.arange(3 * 4 * 5).reshape(3, 4, 5)\n",
    "lidx = [[0], [1]]\n",
    "aidx = np.array(lidx)\n",
    "%C a[lidx]; a[aidx]"
   ]
  },
  {
   "cell_type": "markdown",
   "metadata": {},
   "source": [
    "これは、NumPyがリスト`lidx`を`([0],[1])`に変換し、配列`aidx`を`(aidx, :, :)`に変換するためです："
   ]
  },
  {
   "cell_type": "code",
   "execution_count": 4,
   "metadata": {
    "collapsed": false,
    "jupyter": {
     "outputs_hidden": false
    }
   },
   "outputs": [
    {
     "name": "stdout",
     "output_type": "stream",
     "text": [
      "  a[tuple(lidx)]          a[aidx,:,:]        \n",
      "-----------------  --------------------------\n",
      "[[5, 6, 7, 8, 9]]  [[[[ 0,  1,  2,  3,  4],  \n",
      "                      [ 5,  6,  7,  8,  9],  \n",
      "                      [10, 11, 12, 13, 14],  \n",
      "                      [15, 16, 17, 18, 19]]],\n",
      "                                             \n",
      "                                             \n",
      "                    [[[20, 21, 22, 23, 24],  \n",
      "                      [25, 26, 27, 28, 29],  \n",
      "                      [30, 31, 32, 33, 34],  \n",
      "                      [35, 36, 37, 38, 39]]]]\n"
     ]
    }
   ],
   "source": [
    "%C a[tuple(lidx)]; a[aidx,:,:]"
   ]
  },
  {
   "cell_type": "markdown",
   "metadata": {},
   "source": [
    "様々な変換と「:」の追加を行った後、標準的なインデックスタプルが得られます。その各要素にはいくつかのタイプがあります：スライス、整数、整数配列、およびブール配列。要素がこれらのタイプでない場合、例えばリストやタプルの場合、それらは整数配列に変換されます。\n",
    "\n",
    "インデックスタプルのすべての要素がスライスと整数である場合、それをインデックスとして使用すると、元の配列のビューが得られます。つまり、元の配列とデータストレージを共有します。"
   ]
  },
  {
   "cell_type": "markdown",
   "metadata": {},
   "source": [
    "## 整数配列をインデックスとして使用"
   ]
  },
  {
   "cell_type": "markdown",
   "metadata": {},
   "source": [
    "次に、インデックスタプルの要素がスライスと整数配列で構成されている場合を見てみましょう。整数配列が$N_t$個あり、スライスが$N_s$個あるとします。$N_t+N_s$は配列の次元数$D$です。\n",
    "\n",
    "まず、これらの$N_t$個の整数配列はブロードキャスト条件を満たす必要があります。それらがブロードキャストされた後の次元数を$M$とし、その形状を$(d_0, d_1, ..., d_{M-1})$とします。\n",
    "\n",
    "$N_s$が0、つまりスライス要素がない場合、インデックスによって得られる結果配列`result`の形状は、整数配列がブロードキャストされた後の形状と同じです。その各要素の値は以下の式で得られます：\n",
    "\n",
    "$$result[i_0, i_1, ..., i_{M-1}] = X[ind_0[i_0, i_1, ..., i_{M-1}], ..., ind_{N_t-1}[i_0, i_1, ..., i_{M-1}]]$$\n",
    "    \n",
    "ここで、$ind_0$から$ind_{N_t-1}$はブロードキャストされた整数配列です。この式を理解するために、例を見てみましょう："
   ]
  },
  {
   "cell_type": "markdown",
   "metadata": {},
   "source": [
    "```{tip}\n",
    "\n",
    "指定された軸に沿って整数配列を使用して要素を取得するだけであれば、`numpy.take()`関数を使用できます。この関数は整数配列のインデックス演算よりも少し速く、インデックス越界処理もサポートしています。\n",
    "```"
   ]
  },
  {
   "cell_type": "code",
   "execution_count": 5,
   "metadata": {
    "collapsed": false,
    "jupyter": {
     "outputs_hidden": false
    }
   },
   "outputs": [
    {
     "data": {
      "text/plain": [
       "array([[[22, 43, 22],\n",
       "        [ 2, 23,  2]],\n",
       "\n",
       "       [[27, 48, 27],\n",
       "        [ 7, 28,  7]]])"
      ]
     },
     "execution_count": 5,
     "metadata": {},
     "output_type": "execute_result"
    }
   ],
   "source": [
    "i0 = np.array([[1, 2, 1], [0, 1, 0]])\n",
    "i1 = np.array([[[0]], [[1]]])\n",
    "i2 = np.array([[[2, 3, 2]]])\n",
    "b = a[i0, i1, i2]\n",
    "b"
   ]
  },
  {
   "cell_type": "markdown",
   "metadata": {},
   "source": [
    "まず、`i0`、`i1`、`i2`の3つの整数配列の`shape`属性はそれぞれ`(2,3)`、`(2,1,1)`、`(1,1,3)`です。ブロードキャストルールに従い、長さが3未満の`shape`属性の前に1を補い、それらの次元数を同じにします。ブロードキャスト後の`shape`属性は各軸の最大値になります：\n",
    "\n",
    "```\n",
    "(1, 2, 3)\n",
    "(2, 1, 1)\n",
    "(1, 1, 3)\n",
    "---------\n",
    " 2  2  3\n",
    "```\n",
    "\n",
    "つまり、3つの整数配列がブロードキャストされた後の`shape`属性は`(2,2,3)`であり、これがインデックス演算によって得られる結果配列の次元数です："
   ]
  },
  {
   "cell_type": "code",
   "execution_count": 6,
   "metadata": {
    "collapsed": false,
    "jupyter": {
     "outputs_hidden": false
    }
   },
   "outputs": [
    {
     "data": {
      "text/plain": [
       "(2, 2, 3)"
      ]
     },
     "execution_count": 6,
     "metadata": {},
     "output_type": "execute_result"
    }
   ],
   "source": [
    "b.shape"
   ]
  },
  {
   "cell_type": "markdown",
   "metadata": {},
   "source": [
    "`broadcast_arrays()`を使用してブロードキャスト後の配列を確認できます："
   ]
  },
  {
   "cell_type": "code",
   "execution_count": 7,
   "metadata": {
    "collapsed": false,
    "jupyter": {
     "outputs_hidden": false
    }
   },
   "outputs": [
    {
     "name": "stdout",
     "output_type": "stream",
     "text": [
      "     ind0           ind1           ind2    \n",
      "-------------  -------------  -------------\n",
      "[[[1, 2, 1],   [[[0, 0, 0],   [[[2, 3, 2], \n",
      "  [0, 1, 0]],    [0, 0, 0]],    [2, 3, 2]],\n",
      "                                           \n",
      " [[1, 2, 1],    [[1, 1, 1],    [[2, 3, 2], \n",
      "  [0, 1, 0]]]    [1, 1, 1]]]    [2, 3, 2]]]\n"
     ]
    }
   ],
   "source": [
    "ind0, ind1, ind2 = np.broadcast_arrays(i0, i1, i2)\n",
    "%C ind0; ind1; ind2"
   ]
  },
  {
   "cell_type": "markdown",
   "metadata": {},
   "source": [
    "`b`の任意の要素`b[i,j,k]`は、配列`a`の`ind0`、`ind1`、`ind2`によるインデックス変換後の値です："
   ]
  },
  {
   "cell_type": "code",
   "execution_count": 9,
   "metadata": {
    "collapsed": false,
    "jupyter": {
     "outputs_hidden": false
    }
   },
   "outputs": [
    {
     "name": "stdout",
     "output_type": "stream",
     "text": [
      "2 2\n",
      "28 28\n"
     ]
    }
   ],
   "source": [
    "i, j, k = 0, 1, 2\n",
    "print(b[i, j, k], a[ind0[i, j, k], ind1[i, j, k], ind2[i, j, k]])\n",
    "\n",
    "i, j, k = 1, 1, 1\n",
    "print(b[i, j, k], a[ind0[i, j, k], ind1[i, j, k], ind2[i, j, k]])"
   ]
  },
  {
   "cell_type": "markdown",
   "metadata": {},
   "source": [
    "次に、$N_s$が0でない場合を考えます。スライスインデックスが存在する場合、状況はさらに複雑になります。以下の2つのケースに細分化できます：インデックスタプル内の整数配列間にスライスがない場合、つまり整数配列が1つだけまたは連続した複数の整数配列である場合。この場合、結果配列の`shape`属性は、元の配列の`shape`属性のうち整数配列が占める部分をそれらがブロードキャストされた後の`shape`属性に置き換えたものになります。例えば、元の配列`a`の`shape`属性が`(3,4,5)`で、`i0`と`i1`がブロードキャストされた後の形状が`(2,2,3)`である場合、`a[1:3,i0,i1]`の形状は`(2,2,2,3)`になります："
   ]
  },
  {
   "cell_type": "code",
   "execution_count": 10,
   "metadata": {
    "collapsed": false,
    "jupyter": {
     "outputs_hidden": false
    }
   },
   "outputs": [
    {
     "data": {
      "text/plain": [
       "(2, 2, 2, 3)"
      ]
     },
     "execution_count": 10,
     "metadata": {},
     "output_type": "execute_result"
    }
   ],
   "source": [
    "c = a[1:3, i0, i1]\n",
    "c.shape"
   ]
  },
  {
   "cell_type": "markdown",
   "metadata": {},
   "source": [
    "ここで、`c`の`shape`属性の最初の2はスライス「1:3」の長さで、後ろの`(2,2,3)`は`i0`と`i1`がブロードキャストされた後の配列の形状です："
   ]
  },
  {
   "cell_type": "code",
   "execution_count": 11,
   "metadata": {
    "collapsed": false,
    "jupyter": {
     "outputs_hidden": false
    }
   },
   "outputs": [
    {
     "data": {
      "text/plain": [
       "(2, 2, 3)"
      ]
     },
     "execution_count": 11,
     "metadata": {},
     "output_type": "execute_result"
    }
   ],
   "source": [
    "ind0, ind1 = np.broadcast_arrays(i0, i1)\n",
    "ind0.shape"
   ]
  },
  {
   "cell_type": "code",
   "execution_count": 13,
   "metadata": {
    "collapsed": false,
    "jupyter": {
     "outputs_hidden": false
    }
   },
   "outputs": [
    {
     "name": "stdout",
     "output_type": "stream",
     "text": [
      "[21 41]\n",
      "[21 41]\n"
     ]
    }
   ],
   "source": [
    "i, j, k = 1, 1, 2\n",
    "print(c[:, i, j, k])\n",
    "print(a[1:3, ind0[i, j, k], ind1[i, j, k]])  # c[:,i,j,k]と同じ値"
   ]
  },
  {
   "cell_type": "markdown",
   "metadata": {},
   "source": [
    "インデックスタプル内の整数配列が連続していない場合、結果配列の`shape`属性は整数配列がブロードキャストされた後の形状にスライス要素に対応する形状を追加したものになります。例えば、`a[i0,:,i1]`の`shape`属性は`(2,2,3,4)`です。ここで、`(2,2,3)`は`i0`と`i1`がブロードキャストされた後の形状で、4は配列`a`の第1軸の長さです："
   ]
  },
  {
   "cell_type": "code",
   "execution_count": 14,
   "metadata": {
    "collapsed": false,
    "jupyter": {
     "outputs_hidden": false
    }
   },
   "outputs": [
    {
     "data": {
      "text/plain": [
       "(2, 2, 3, 4)"
      ]
     },
     "execution_count": 14,
     "metadata": {},
     "output_type": "execute_result"
    }
   ],
   "source": [
    "d = a[i0, :, i1]\n",
    "d.shape"
   ]
  },
  {
   "cell_type": "code",
   "execution_count": 15,
   "metadata": {
    "collapsed": false,
    "jupyter": {
     "outputs_hidden": false
    }
   },
   "outputs": [
    {
     "name": "stdout",
     "output_type": "stream",
     "text": [
      "   d[i,j,k,:]     a[ind0[i,j,k],:,ind1[i,j,k]]\n",
      "----------------  ----------------------------\n",
      "[ 1,  6, 11, 16]  [ 1,  6, 11, 16]            \n"
     ]
    }
   ],
   "source": [
    "i, j, k = 1, 1, 2\n",
    "%C d[i,j,k,:]; a[ind0[i,j,k],:,ind1[i,j,k]]"
   ]
  },
  {
   "cell_type": "markdown",
   "metadata": {},
   "source": [
    "## 複雑な例"
   ]
  },
  {
   "cell_type": "markdown",
   "metadata": {},
   "source": [
    "次に、学んだインデックスアクセスの知識を使って、NumPyメーリングリストで提起された比較的古典的な問題を解決しましょう。"
   ]
  },
  {
   "cell_type": "markdown",
   "metadata": {},
   "source": [
    "```{seealso}\n",
    "http://mail.scipy.org/pipermail/numpy-discussion/2008-July/035764.html\n",
    "\n",
    "NumPyメーリングリストの原文リンク\n",
    "```"
   ]
  },
  {
   "cell_type": "markdown",
   "metadata": {},
   "source": [
    "問題を少し簡略化します。質問者が実現したいインデックス演算は次の通りです：形状が`(I, J, K)`の三次元配列`v`と形状が`(I, J)`の二次元配列`idx`があり、`idx`の各値は0から`K-L`の整数です。彼はインデックス演算を通じて配列`r`を得たいと考えており、第0軸と第1軸の各インデックス`i`と`j`に対して次の条件を満たします：\n",
    "\n",
    "```python\n",
    "r[i,j,:] = v[i,j,idx[i,j]:idx[i,j]+L]\n",
    "```\n",
    "\n",
    "次のグラフに示すように、左図の不透明なブロックが取得したい部分で、インデックス演算後に右図のような配列が得られます。"
   ]
  },
  {
   "cell_type": "markdown",
   "metadata": {},
   "source": [
    "![三次元配列のインデックス演算問題の図](images/numpy_array_index.png)"
   ]
  },
  {
   "cell_type": "markdown",
   "metadata": {},
   "source": [
    "まず、デバッグに便利な配列`v`を作成します。これは第2軸の各層の値がその層の高さ、つまり`v[:,:,i]`のすべての要素の値が`i`です。次に、配列`idx`をランダムに生成します。その各要素の値は0から`K-L`の間です："
   ]
  },
  {
   "cell_type": "code",
   "execution_count": 16,
   "metadata": {
    "collapsed": false,
    "jupyter": {
     "outputs_hidden": false
    }
   },
   "outputs": [],
   "source": [
    "I, J, K, L = 6, 7, 8, 3\n",
    "_, _, v = np.mgrid[:I, :J, :K]\n",
    "idx = np.random.randint(0, K - L, size=(I, J))"
   ]
  },
  {
   "cell_type": "markdown",
   "metadata": {},
   "source": [
    "次に、配列`idx`を使用して第2軸のインデックス配列`idx_k`を作成します。これは形状が`(I,J,L)`の三次元配列です。その第2軸の各層の値は`idx`配列に層の高さを加えたもの、つまり`idx_k[:,:,i] = idx_k[:,:]+i`です："
   ]
  },
  {
   "cell_type": "code",
   "execution_count": 17,
   "metadata": {
    "collapsed": false,
    "jupyter": {
     "outputs_hidden": false
    }
   },
   "outputs": [
    {
     "data": {
      "text/plain": [
       "(6, 7, 3)"
      ]
     },
     "execution_count": 17,
     "metadata": {},
     "output_type": "execute_result"
    }
   ],
   "source": [
    "idx_k = idx.reshape(I, J, 1) + np.arange(3)\n",
    "idx_k.shape"
   ]
  },
  {
   "cell_type": "markdown",
   "metadata": {},
   "source": [
    "次に、第0軸と第1軸のインデックス配列を作成します。それらの`shape`はそれぞれ`(I,1,1)`と`(1,J,1)`です："
   ]
  },
  {
   "cell_type": "code",
   "execution_count": 18,
   "metadata": {
    "collapsed": false,
    "jupyter": {
     "outputs_hidden": false
    }
   },
   "outputs": [],
   "source": [
    "idx_i, idx_j, _ = np.ogrid[:I, :J, :K]"
   ]
  },
  {
   "cell_type": "markdown",
   "metadata": {},
   "source": [
    "`idx_i`, `idx_j`, `idx_k`を使用して配列`v`にインデックス演算を行うことで結果を得ます："
   ]
  },
  {
   "cell_type": "code",
   "execution_count": 19,
   "metadata": {
    "collapsed": false,
    "jupyter": {
     "outputs_hidden": false
    }
   },
   "outputs": [
    {
     "name": "stdout",
     "output_type": "stream",
     "text": [
      " r[i,j,:]  v[i,j,idx[i,j]:idx[i,j]+L]\n",
      "---------  --------------------------\n",
      "[0, 1, 2]  [0, 1, 2]                 \n"
     ]
    }
   ],
   "source": [
    "r = v[idx_i, idx_j, idx_k]    \n",
    "i, j = 2, 3  # 結果を検証します。読者はこれをループを使用してすべての要素を検証するように変更できます\n",
    "%C r[i,j,:]; v[i,j,idx[i,j]:idx[i,j]+L]"
   ]
  },
  {
   "cell_type": "markdown",
   "metadata": {},
   "source": [
    "## ブール配列をインデックスとして使用"
   ]
  },
  {
   "cell_type": "markdown",
   "metadata": {},
   "source": [
    "ブール配列を直接インデックスオブジェクトとして使用する場合、またはタプルインデックスオブジェクトにブール配列が含まれている場合、`nonzero()`を使用してブール配列を整数配列のグループに変換し、それらの整数配列を使用してインデックス演算を行います。\n",
    "\n",
    "`nonzeros(a)`は配列`a`の値がゼロでない要素のインデックスを返します。その戻り値は長さが`a.ndim`（配列`a`の軸数）のタプルで、タプルの各要素は整数配列であり、その値は非ゼロ要素のインデックスが対応する軸上の値です。例えば、一次元ブール配列`b1`の場合、`nonzero(a)`によって得られるのは長さ1のタプルで、`b1[0]`と`b1[2]`の値が0でないことを示します。"
   ]
  },
  {
   "cell_type": "markdown",
   "metadata": {},
   "source": [
    "```{tip}\n",
    "指定された軸に沿ってブール配列を使用して要素を取得するだけであれば、`numpy.compress()`関数を使用できます。\n",
    "```"
   ]
  },
  {
   "cell_type": "code",
   "execution_count": 24,
   "metadata": {
    "collapsed": false,
    "jupyter": {
     "outputs_hidden": false
    }
   },
   "outputs": [
    {
     "data": {
      "text/plain": [
       "(array([0, 2], dtype=int64),)"
      ]
     },
     "execution_count": 24,
     "metadata": {},
     "output_type": "execute_result"
    }
   ],
   "source": [
    "b1 = np.array([True, False, True, False])\n",
    "np.nonzero(b1)"
   ]
  },
  {
   "cell_type": "markdown",
   "metadata": {},
   "source": [
    "二次元配列`b2`の場合、`nonzero(a)`によって得られるのは長さ2のタプルです。その第0要素は配列`a`の値が0でない要素の第0軸のインデックスで、第1要素は第1軸のインデックスです。したがって、以下の結果から`b2[0,0]`, `b[0,2]`, `b2[1,0]`の値が0でないことがわかります："
   ]
  },
  {
   "cell_type": "code",
   "execution_count": 31,
   "metadata": {
    "collapsed": false,
    "jupyter": {
     "outputs_hidden": false
    }
   },
   "outputs": [
    {
     "data": {
      "text/plain": [
       "(array([0, 0, 1], dtype=int64), array([0, 2, 0], dtype=int64))"
      ]
     },
     "execution_count": 31,
     "metadata": {},
     "output_type": "execute_result"
    }
   ],
   "source": [
    "b2 = np.array([[True, False, True, False], [True, False, False, False], [False, False, False, False]])\n",
    "np.nonzero(b2)"
   ]
  },
  {
   "cell_type": "markdown",
   "metadata": {},
   "source": [
    "ブール配列を直接インデックスとして使用する場合、`nonzero()`によって変換されたタプルをインデックスオブジェクトとして使用するのと同じです："
   ]
  },
  {
   "cell_type": "code",
   "execution_count": 36,
   "metadata": {
    "collapsed": false,
    "jupyter": {
     "outputs_hidden": false
    }
   },
   "outputs": [
    {
     "name": "stdout",
     "output_type": "stream",
     "text": [
      "        a[b2]             a[np.nonzero(b2)]   \n",
      "----------------------  ----------------------\n",
      "[[ 0,  1,  2,  3,  4],  [[ 0,  1,  2,  3,  4],\n",
      " [10, 11, 12, 13, 14],   [10, 11, 12, 13, 14],\n",
      " [20, 21, 22, 23, 24]]   [20, 21, 22, 23, 24]]\n"
     ]
    }
   ],
   "source": [
    "a = np.arange(3 * 4 * 5).reshape(3, 4, 5)\n",
    "%C a[b2]; a[np.nonzero(b2)]"
   ]
  },
  {
   "cell_type": "markdown",
   "metadata": {},
   "source": [
    "インデックスオブジェクトがタプルで、その中にブール配列が含まれている場合、ブール配列を`nonzeros()`によって変換された各整数配列に展開するのと同じです："
   ]
  },
  {
   "cell_type": "code",
   "execution_count": 40,
   "metadata": {
    "collapsed": false,
    "jupyter": {
     "outputs_hidden": false
    }
   },
   "outputs": [
    {
     "name": "stdout",
     "output_type": "stream",
     "text": [
      "  a[1:3, b3]    a[1:3, np.nonzero(b3)[0], np.nonzero(b3)[1]]\n",
      "--------------  --------------------------------------------\n",
      "[[20, 22, 25],  [[20, 22, 25],                              \n",
      " [40, 42, 45]]   [40, 42, 45]]                              \n"
     ]
    }
   ],
   "source": [
    "b3 = np.array([\n",
    "    [True, False, True, False, False], \n",
    "    [True, False, False, False, False],\n",
    "    [False, False, False, False, False],\n",
    "    [False, False, False, False, False]\n",
    "])\n",
    "%C a[1:3, b3]; a[1:3, np.nonzero(b3)[0], np.nonzero(b3)[1]]"
   ]
  }
 ],
 "metadata": {
  "kernelspec": {
   "display_name": "Python 3 (ipykernel)",
   "language": "python",
   "name": "python3"
  },
  "language_info": {
   "codemirror_mode": {
    "name": "ipython",
    "version": 3
   },
   "file_extension": ".py",
   "mimetype": "text/x-python",
   "name": "python",
   "nbconvert_exporter": "python",
   "pygments_lexer": "ipython3",
   "version": "3.12.2"
  }
 },
 "nbformat": 4,
 "nbformat_minor": 4
}
