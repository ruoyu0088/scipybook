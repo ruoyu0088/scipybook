{
 "cells": [
  {
   "cell_type": "markdown",
   "metadata": {},
   "source": [
    "# Bokehの基本\n",
    "\n",
    "Bokehはブラウザでチャートを表示するための可視化拡張ライブラリで、その描画作業はブラウザ内でJavaScriptによって行われます。Pythonはチャートのデータ構造を生成し、チャート内のデータを更新する役割を担います。  \n",
    "\n",
    "Matplotlibと比較すると、Bokehはインタラクティブな機能に優れており、ツールチップ、ズーム、パンなどの操作が容易に実装できます。また、Bokehは標準でWebブラウザへの出力をサポートしており、スタンドアローンのHTMLファイルとして保存したり、FlaskやDjangoなどのWebアプリケーションに組み込むことができます。一方、Matplotlibは静的な画像の生成が主であり、対話的な機能は弱いです。"
   ]
  },
  {
   "cell_type": "code",
   "execution_count": 2,
   "metadata": {},
   "outputs": [
    {
     "data": {
      "text/html": [
       "    <style>\n",
       "        .bk-notebook-logo {\n",
       "            display: block;\n",
       "            width: 20px;\n",
       "            height: 20px;\n",
       "            background-image: url(data:image/png;base64,iVBORw0KGgoAAAANSUhEUgAAABQAAAAUCAYAAACNiR0NAAAABHNCSVQICAgIfAhkiAAAAAlwSFlzAAALEgAACxIB0t1+/AAAABx0RVh0U29mdHdhcmUAQWRvYmUgRmlyZXdvcmtzIENTNui8sowAAAOkSURBVDiNjZRtaJVlGMd/1/08zzln5zjP1LWcU9N0NkN8m2CYjpgQYQXqSs0I84OLIC0hkEKoPtiH3gmKoiJDU7QpLgoLjLIQCpEsNJ1vqUOdO7ppbuec5+V+rj4ctwzd8IIbbi6u+8f1539dt3A78eXC7QizUF7gyV1fD1Yqg4JWz84yffhm0qkFqBogB9rM8tZdtwVsPUhWhGcFJngGeWrPzHm5oaMmkfEg1usvLFyc8jLRqDOMru7AyC8saQr7GG7f5fvDeH7Ej8CM66nIF+8yngt6HWaKh7k49Soy9nXurCi1o3qUbS3zWfrYeQDTB/Qj6kX6Ybhw4B+bOYoLKCC9H3Nu/leUTZ1JdRWkkn2ldcCamzrcf47KKXdAJllSlxAOkRgyHsGC/zRday5Qld9DyoM4/q/rUoy/CXh3jzOu3bHUVZeU+DEn8FInkPBFlu3+nW3Nw0mk6vCDiWg8CeJaxEwuHS3+z5RgY+YBR6V1Z1nxSOfoaPa4LASWxxdNp+VWTk7+4vzaou8v8PN+xo+KY2xsw6une2frhw05CTYOmQvsEhjhWjn0bmXPjpE1+kplmmkP3suftwTubK9Vq22qKmrBhpY4jvd5afdRA3wGjFAgcnTK2s4hY0/GPNIb0nErGMCRxWOOX64Z8RAC4oCXdklmEvcL8o0BfkNK4lUg9HTl+oPlQxdNo3Mg4Nv175e/1LDGzZen30MEjRUtmXSfiTVu1kK8W4txyV6BMKlbgk3lMwYCiusNy9fVfvvwMxv8Ynl6vxoByANLTWplvuj/nF9m2+PDtt1eiHPBr1oIfhCChQMBw6Aw0UulqTKZdfVvfG7VcfIqLG9bcldL/+pdWTLxLUy8Qq38heUIjh4XlzZxzQm19lLFlr8vdQ97rjZVOLf8nclzckbcD4wxXMidpX30sFd37Fv/GtwwhzhxGVAprjbg0gCAEeIgwCZyTV2Z1REEW8O4py0wsjeloKoMr6iCY6dP92H6Vw/oTyICIthibxjm/DfN9lVz8IqtqKYLUXfoKVMVQVVJOElGjrnnUt9T9wbgp8AyYKaGlqingHZU/uG2NTZSVqwHQTWkx9hxjkpWDaCg6Ckj5qebgBVbT3V3NNXMSiWSDdGV3hrtzla7J+duwPOToIg42ChPQOQjspnSlp1V+Gjdged7+8UN5CRAV7a5EdFNwCjEaBR27b3W890TE7g24NAP/mMDXRWrGoFPQI9ls/MWO2dWFAar/xcOIImbbpA3zgAAAABJRU5ErkJggg==);\n",
       "        }\n",
       "    </style>\n",
       "    <div>\n",
       "        <a href=\"https://bokeh.org\" target=\"_blank\" class=\"bk-notebook-logo\"></a>\n",
       "        <span id=\"e28dcf1e-22ba-417e-b16c-c39273739084\">Loading BokehJS ...</span>\n",
       "    </div>\n"
      ]
     },
     "metadata": {},
     "output_type": "display_data"
    },
    {
     "data": {
      "application/javascript": [
       "'use strict';\n",
       "(function(root) {\n",
       "  function now() {\n",
       "    return new Date();\n",
       "  }\n",
       "\n",
       "  const force = true;\n",
       "\n",
       "  if (typeof root._bokeh_onload_callbacks === \"undefined\" || force === true) {\n",
       "    root._bokeh_onload_callbacks = [];\n",
       "    root._bokeh_is_loading = undefined;\n",
       "  }\n",
       "\n",
       "const JS_MIME_TYPE = 'application/javascript';\n",
       "  const HTML_MIME_TYPE = 'text/html';\n",
       "  const EXEC_MIME_TYPE = 'application/vnd.bokehjs_exec.v0+json';\n",
       "  const CLASS_NAME = 'output_bokeh rendered_html';\n",
       "\n",
       "  /**\n",
       "   * Render data to the DOM node\n",
       "   */\n",
       "  function render(props, node) {\n",
       "    const script = document.createElement(\"script\");\n",
       "    node.appendChild(script);\n",
       "  }\n",
       "\n",
       "  /**\n",
       "   * Handle when an output is cleared or removed\n",
       "   */\n",
       "  function handleClearOutput(event, handle) {\n",
       "    function drop(id) {\n",
       "      const view = Bokeh.index.get_by_id(id)\n",
       "      if (view != null) {\n",
       "        view.model.document.clear()\n",
       "        Bokeh.index.delete(view)\n",
       "      }\n",
       "    }\n",
       "\n",
       "    const cell = handle.cell;\n",
       "\n",
       "    const id = cell.output_area._bokeh_element_id;\n",
       "    const server_id = cell.output_area._bokeh_server_id;\n",
       "\n",
       "    // Clean up Bokeh references\n",
       "    if (id != null) {\n",
       "      drop(id)\n",
       "    }\n",
       "\n",
       "    if (server_id !== undefined) {\n",
       "      // Clean up Bokeh references\n",
       "      const cmd_clean = \"from bokeh.io.state import curstate; print(curstate().uuid_to_server['\" + server_id + \"'].get_sessions()[0].document.roots[0]._id)\";\n",
       "      cell.notebook.kernel.execute(cmd_clean, {\n",
       "        iopub: {\n",
       "          output: function(msg) {\n",
       "            const id = msg.content.text.trim()\n",
       "            drop(id)\n",
       "          }\n",
       "        }\n",
       "      });\n",
       "      // Destroy server and session\n",
       "      const cmd_destroy = \"import bokeh.io.notebook as ion; ion.destroy_server('\" + server_id + \"')\";\n",
       "      cell.notebook.kernel.execute(cmd_destroy);\n",
       "    }\n",
       "  }\n",
       "\n",
       "  /**\n",
       "   * Handle when a new output is added\n",
       "   */\n",
       "  function handleAddOutput(event, handle) {\n",
       "    const output_area = handle.output_area;\n",
       "    const output = handle.output;\n",
       "\n",
       "    // limit handleAddOutput to display_data with EXEC_MIME_TYPE content only\n",
       "    if ((output.output_type != \"display_data\") || (!Object.prototype.hasOwnProperty.call(output.data, EXEC_MIME_TYPE))) {\n",
       "      return\n",
       "    }\n",
       "\n",
       "    const toinsert = output_area.element.find(\".\" + CLASS_NAME.split(' ')[0]);\n",
       "\n",
       "    if (output.metadata[EXEC_MIME_TYPE][\"id\"] !== undefined) {\n",
       "      toinsert[toinsert.length - 1].firstChild.textContent = output.data[JS_MIME_TYPE];\n",
       "      // store reference to embed id on output_area\n",
       "      output_area._bokeh_element_id = output.metadata[EXEC_MIME_TYPE][\"id\"];\n",
       "    }\n",
       "    if (output.metadata[EXEC_MIME_TYPE][\"server_id\"] !== undefined) {\n",
       "      const bk_div = document.createElement(\"div\");\n",
       "      bk_div.innerHTML = output.data[HTML_MIME_TYPE];\n",
       "      const script_attrs = bk_div.children[0].attributes;\n",
       "      for (let i = 0; i < script_attrs.length; i++) {\n",
       "        toinsert[toinsert.length - 1].firstChild.setAttribute(script_attrs[i].name, script_attrs[i].value);\n",
       "        toinsert[toinsert.length - 1].firstChild.textContent = bk_div.children[0].textContent\n",
       "      }\n",
       "      // store reference to server id on output_area\n",
       "      output_area._bokeh_server_id = output.metadata[EXEC_MIME_TYPE][\"server_id\"];\n",
       "    }\n",
       "  }\n",
       "\n",
       "  function register_renderer(events, OutputArea) {\n",
       "\n",
       "    function append_mime(data, metadata, element) {\n",
       "      // create a DOM node to render to\n",
       "      const toinsert = this.create_output_subarea(\n",
       "        metadata,\n",
       "        CLASS_NAME,\n",
       "        EXEC_MIME_TYPE\n",
       "      );\n",
       "      this.keyboard_manager.register_events(toinsert);\n",
       "      // Render to node\n",
       "      const props = {data: data, metadata: metadata[EXEC_MIME_TYPE]};\n",
       "      render(props, toinsert[toinsert.length - 1]);\n",
       "      element.append(toinsert);\n",
       "      return toinsert\n",
       "    }\n",
       "\n",
       "    /* Handle when an output is cleared or removed */\n",
       "    events.on('clear_output.CodeCell', handleClearOutput);\n",
       "    events.on('delete.Cell', handleClearOutput);\n",
       "\n",
       "    /* Handle when a new output is added */\n",
       "    events.on('output_added.OutputArea', handleAddOutput);\n",
       "\n",
       "    /**\n",
       "     * Register the mime type and append_mime function with output_area\n",
       "     */\n",
       "    OutputArea.prototype.register_mime_type(EXEC_MIME_TYPE, append_mime, {\n",
       "      /* Is output safe? */\n",
       "      safe: true,\n",
       "      /* Index of renderer in `output_area.display_order` */\n",
       "      index: 0\n",
       "    });\n",
       "  }\n",
       "\n",
       "  // register the mime type if in Jupyter Notebook environment and previously unregistered\n",
       "  if (root.Jupyter !== undefined) {\n",
       "    const events = require('base/js/events');\n",
       "    const OutputArea = require('notebook/js/outputarea').OutputArea;\n",
       "\n",
       "    if (OutputArea.prototype.mime_types().indexOf(EXEC_MIME_TYPE) == -1) {\n",
       "      register_renderer(events, OutputArea);\n",
       "    }\n",
       "  }\n",
       "  if (typeof (root._bokeh_timeout) === \"undefined\" || force === true) {\n",
       "    root._bokeh_timeout = Date.now() + 5000;\n",
       "    root._bokeh_failed_load = false;\n",
       "  }\n",
       "\n",
       "  const NB_LOAD_WARNING = {'data': {'text/html':\n",
       "     \"<div style='background-color: #fdd'>\\n\"+\n",
       "     \"<p>\\n\"+\n",
       "     \"BokehJS does not appear to have successfully loaded. If loading BokehJS from CDN, this \\n\"+\n",
       "     \"may be due to a slow or bad network connection. Possible fixes:\\n\"+\n",
       "     \"</p>\\n\"+\n",
       "     \"<ul>\\n\"+\n",
       "     \"<li>re-rerun `output_notebook()` to attempt to load from CDN again, or</li>\\n\"+\n",
       "     \"<li>use INLINE resources instead, as so:</li>\\n\"+\n",
       "     \"</ul>\\n\"+\n",
       "     \"<code>\\n\"+\n",
       "     \"from bokeh.resources import INLINE\\n\"+\n",
       "     \"output_notebook(resources=INLINE)\\n\"+\n",
       "     \"</code>\\n\"+\n",
       "     \"</div>\"}};\n",
       "\n",
       "  function display_loaded(error = null) {\n",
       "    const el = document.getElementById(\"e28dcf1e-22ba-417e-b16c-c39273739084\");\n",
       "    if (el != null) {\n",
       "      const html = (() => {\n",
       "        if (typeof root.Bokeh === \"undefined\") {\n",
       "          if (error == null) {\n",
       "            return \"BokehJS is loading ...\";\n",
       "          } else {\n",
       "            return \"BokehJS failed to load.\";\n",
       "          }\n",
       "        } else {\n",
       "          const prefix = `BokehJS ${root.Bokeh.version}`;\n",
       "          if (error == null) {\n",
       "            return `${prefix} successfully loaded.`;\n",
       "          } else {\n",
       "            return `${prefix} <b>encountered errors</b> while loading and may not function as expected.`;\n",
       "          }\n",
       "        }\n",
       "      })();\n",
       "      el.innerHTML = html;\n",
       "\n",
       "      if (error != null) {\n",
       "        const wrapper = document.createElement(\"div\");\n",
       "        wrapper.style.overflow = \"auto\";\n",
       "        wrapper.style.height = \"5em\";\n",
       "        wrapper.style.resize = \"vertical\";\n",
       "        const content = document.createElement(\"div\");\n",
       "        content.style.fontFamily = \"monospace\";\n",
       "        content.style.whiteSpace = \"pre-wrap\";\n",
       "        content.style.backgroundColor = \"rgb(255, 221, 221)\";\n",
       "        content.textContent = error.stack ?? error.toString();\n",
       "        wrapper.append(content);\n",
       "        el.append(wrapper);\n",
       "      }\n",
       "    } else if (Date.now() < root._bokeh_timeout) {\n",
       "      setTimeout(() => display_loaded(error), 100);\n",
       "    }\n",
       "  }\n",
       "\n",
       "  function run_callbacks() {\n",
       "    try {\n",
       "      root._bokeh_onload_callbacks.forEach(function(callback) {\n",
       "        if (callback != null)\n",
       "          callback();\n",
       "      });\n",
       "    } finally {\n",
       "      delete root._bokeh_onload_callbacks\n",
       "    }\n",
       "    console.debug(\"Bokeh: all callbacks have finished\");\n",
       "  }\n",
       "\n",
       "  function load_libs(css_urls, js_urls, callback) {\n",
       "    if (css_urls == null) css_urls = [];\n",
       "    if (js_urls == null) js_urls = [];\n",
       "\n",
       "    root._bokeh_onload_callbacks.push(callback);\n",
       "    if (root._bokeh_is_loading > 0) {\n",
       "      console.debug(\"Bokeh: BokehJS is being loaded, scheduling callback at\", now());\n",
       "      return null;\n",
       "    }\n",
       "    if (js_urls == null || js_urls.length === 0) {\n",
       "      run_callbacks();\n",
       "      return null;\n",
       "    }\n",
       "    console.debug(\"Bokeh: BokehJS not loaded, scheduling load and callback at\", now());\n",
       "    root._bokeh_is_loading = css_urls.length + js_urls.length;\n",
       "\n",
       "    function on_load() {\n",
       "      root._bokeh_is_loading--;\n",
       "      if (root._bokeh_is_loading === 0) {\n",
       "        console.debug(\"Bokeh: all BokehJS libraries/stylesheets loaded\");\n",
       "        run_callbacks()\n",
       "      }\n",
       "    }\n",
       "\n",
       "    function on_error(url) {\n",
       "      console.error(\"failed to load \" + url);\n",
       "    }\n",
       "\n",
       "    for (let i = 0; i < css_urls.length; i++) {\n",
       "      const url = css_urls[i];\n",
       "      const element = document.createElement(\"link\");\n",
       "      element.onload = on_load;\n",
       "      element.onerror = on_error.bind(null, url);\n",
       "      element.rel = \"stylesheet\";\n",
       "      element.type = \"text/css\";\n",
       "      element.href = url;\n",
       "      console.debug(\"Bokeh: injecting link tag for BokehJS stylesheet: \", url);\n",
       "      document.body.appendChild(element);\n",
       "    }\n",
       "\n",
       "    for (let i = 0; i < js_urls.length; i++) {\n",
       "      const url = js_urls[i];\n",
       "      const element = document.createElement('script');\n",
       "      element.onload = on_load;\n",
       "      element.onerror = on_error.bind(null, url);\n",
       "      element.async = false;\n",
       "      element.src = url;\n",
       "      console.debug(\"Bokeh: injecting script tag for BokehJS library: \", url);\n",
       "      document.head.appendChild(element);\n",
       "    }\n",
       "  };\n",
       "\n",
       "  function inject_raw_css(css) {\n",
       "    const element = document.createElement(\"style\");\n",
       "    element.appendChild(document.createTextNode(css));\n",
       "    document.body.appendChild(element);\n",
       "  }\n",
       "\n",
       "  const js_urls = [\"https://cdn.bokeh.org/bokeh/release/bokeh-3.6.3.min.js\", \"https://cdn.bokeh.org/bokeh/release/bokeh-gl-3.6.3.min.js\", \"https://cdn.bokeh.org/bokeh/release/bokeh-widgets-3.6.3.min.js\", \"https://cdn.bokeh.org/bokeh/release/bokeh-tables-3.6.3.min.js\", \"https://cdn.bokeh.org/bokeh/release/bokeh-mathjax-3.6.3.min.js\"];\n",
       "  const css_urls = [];\n",
       "\n",
       "  const inline_js = [    function(Bokeh) {\n",
       "      Bokeh.set_log_level(\"info\");\n",
       "    },\n",
       "function(Bokeh) {\n",
       "    }\n",
       "  ];\n",
       "\n",
       "  function run_inline_js() {\n",
       "    if (root.Bokeh !== undefined || force === true) {\n",
       "      try {\n",
       "            for (let i = 0; i < inline_js.length; i++) {\n",
       "      inline_js[i].call(root, root.Bokeh);\n",
       "    }\n",
       "\n",
       "      } catch (error) {display_loaded(error);throw error;\n",
       "      }if (force === true) {\n",
       "        display_loaded();\n",
       "      }} else if (Date.now() < root._bokeh_timeout) {\n",
       "      setTimeout(run_inline_js, 100);\n",
       "    } else if (!root._bokeh_failed_load) {\n",
       "      console.log(\"Bokeh: BokehJS failed to load within specified timeout.\");\n",
       "      root._bokeh_failed_load = true;\n",
       "    } else if (force !== true) {\n",
       "      const cell = $(document.getElementById(\"e28dcf1e-22ba-417e-b16c-c39273739084\")).parents('.cell').data().cell;\n",
       "      cell.output_area.append_execute_result(NB_LOAD_WARNING)\n",
       "    }\n",
       "  }\n",
       "\n",
       "  if (root._bokeh_is_loading === 0) {\n",
       "    console.debug(\"Bokeh: BokehJS loaded, going straight to plotting\");\n",
       "    run_inline_js();\n",
       "  } else {\n",
       "    load_libs(css_urls, js_urls, function() {\n",
       "      console.debug(\"Bokeh: BokehJS plotting callback run at\", now());\n",
       "      run_inline_js();\n",
       "    });\n",
       "  }\n",
       "}(window));"
      ],
      "application/vnd.bokehjs_load.v0+json": "'use strict';\n(function(root) {\n  function now() {\n    return new Date();\n  }\n\n  const force = true;\n\n  if (typeof root._bokeh_onload_callbacks === \"undefined\" || force === true) {\n    root._bokeh_onload_callbacks = [];\n    root._bokeh_is_loading = undefined;\n  }\n\n\n  if (typeof (root._bokeh_timeout) === \"undefined\" || force === true) {\n    root._bokeh_timeout = Date.now() + 5000;\n    root._bokeh_failed_load = false;\n  }\n\n  const NB_LOAD_WARNING = {'data': {'text/html':\n     \"<div style='background-color: #fdd'>\\n\"+\n     \"<p>\\n\"+\n     \"BokehJS does not appear to have successfully loaded. If loading BokehJS from CDN, this \\n\"+\n     \"may be due to a slow or bad network connection. Possible fixes:\\n\"+\n     \"</p>\\n\"+\n     \"<ul>\\n\"+\n     \"<li>re-rerun `output_notebook()` to attempt to load from CDN again, or</li>\\n\"+\n     \"<li>use INLINE resources instead, as so:</li>\\n\"+\n     \"</ul>\\n\"+\n     \"<code>\\n\"+\n     \"from bokeh.resources import INLINE\\n\"+\n     \"output_notebook(resources=INLINE)\\n\"+\n     \"</code>\\n\"+\n     \"</div>\"}};\n\n  function display_loaded(error = null) {\n    const el = document.getElementById(\"e28dcf1e-22ba-417e-b16c-c39273739084\");\n    if (el != null) {\n      const html = (() => {\n        if (typeof root.Bokeh === \"undefined\") {\n          if (error == null) {\n            return \"BokehJS is loading ...\";\n          } else {\n            return \"BokehJS failed to load.\";\n          }\n        } else {\n          const prefix = `BokehJS ${root.Bokeh.version}`;\n          if (error == null) {\n            return `${prefix} successfully loaded.`;\n          } else {\n            return `${prefix} <b>encountered errors</b> while loading and may not function as expected.`;\n          }\n        }\n      })();\n      el.innerHTML = html;\n\n      if (error != null) {\n        const wrapper = document.createElement(\"div\");\n        wrapper.style.overflow = \"auto\";\n        wrapper.style.height = \"5em\";\n        wrapper.style.resize = \"vertical\";\n        const content = document.createElement(\"div\");\n        content.style.fontFamily = \"monospace\";\n        content.style.whiteSpace = \"pre-wrap\";\n        content.style.backgroundColor = \"rgb(255, 221, 221)\";\n        content.textContent = error.stack ?? error.toString();\n        wrapper.append(content);\n        el.append(wrapper);\n      }\n    } else if (Date.now() < root._bokeh_timeout) {\n      setTimeout(() => display_loaded(error), 100);\n    }\n  }\n\n  function run_callbacks() {\n    try {\n      root._bokeh_onload_callbacks.forEach(function(callback) {\n        if (callback != null)\n          callback();\n      });\n    } finally {\n      delete root._bokeh_onload_callbacks\n    }\n    console.debug(\"Bokeh: all callbacks have finished\");\n  }\n\n  function load_libs(css_urls, js_urls, callback) {\n    if (css_urls == null) css_urls = [];\n    if (js_urls == null) js_urls = [];\n\n    root._bokeh_onload_callbacks.push(callback);\n    if (root._bokeh_is_loading > 0) {\n      console.debug(\"Bokeh: BokehJS is being loaded, scheduling callback at\", now());\n      return null;\n    }\n    if (js_urls == null || js_urls.length === 0) {\n      run_callbacks();\n      return null;\n    }\n    console.debug(\"Bokeh: BokehJS not loaded, scheduling load and callback at\", now());\n    root._bokeh_is_loading = css_urls.length + js_urls.length;\n\n    function on_load() {\n      root._bokeh_is_loading--;\n      if (root._bokeh_is_loading === 0) {\n        console.debug(\"Bokeh: all BokehJS libraries/stylesheets loaded\");\n        run_callbacks()\n      }\n    }\n\n    function on_error(url) {\n      console.error(\"failed to load \" + url);\n    }\n\n    for (let i = 0; i < css_urls.length; i++) {\n      const url = css_urls[i];\n      const element = document.createElement(\"link\");\n      element.onload = on_load;\n      element.onerror = on_error.bind(null, url);\n      element.rel = \"stylesheet\";\n      element.type = \"text/css\";\n      element.href = url;\n      console.debug(\"Bokeh: injecting link tag for BokehJS stylesheet: \", url);\n      document.body.appendChild(element);\n    }\n\n    for (let i = 0; i < js_urls.length; i++) {\n      const url = js_urls[i];\n      const element = document.createElement('script');\n      element.onload = on_load;\n      element.onerror = on_error.bind(null, url);\n      element.async = false;\n      element.src = url;\n      console.debug(\"Bokeh: injecting script tag for BokehJS library: \", url);\n      document.head.appendChild(element);\n    }\n  };\n\n  function inject_raw_css(css) {\n    const element = document.createElement(\"style\");\n    element.appendChild(document.createTextNode(css));\n    document.body.appendChild(element);\n  }\n\n  const js_urls = [\"https://cdn.bokeh.org/bokeh/release/bokeh-3.6.3.min.js\", \"https://cdn.bokeh.org/bokeh/release/bokeh-gl-3.6.3.min.js\", \"https://cdn.bokeh.org/bokeh/release/bokeh-widgets-3.6.3.min.js\", \"https://cdn.bokeh.org/bokeh/release/bokeh-tables-3.6.3.min.js\", \"https://cdn.bokeh.org/bokeh/release/bokeh-mathjax-3.6.3.min.js\"];\n  const css_urls = [];\n\n  const inline_js = [    function(Bokeh) {\n      Bokeh.set_log_level(\"info\");\n    },\nfunction(Bokeh) {\n    }\n  ];\n\n  function run_inline_js() {\n    if (root.Bokeh !== undefined || force === true) {\n      try {\n            for (let i = 0; i < inline_js.length; i++) {\n      inline_js[i].call(root, root.Bokeh);\n    }\n\n      } catch (error) {display_loaded(error);throw error;\n      }if (force === true) {\n        display_loaded();\n      }} else if (Date.now() < root._bokeh_timeout) {\n      setTimeout(run_inline_js, 100);\n    } else if (!root._bokeh_failed_load) {\n      console.log(\"Bokeh: BokehJS failed to load within specified timeout.\");\n      root._bokeh_failed_load = true;\n    } else if (force !== true) {\n      const cell = $(document.getElementById(\"e28dcf1e-22ba-417e-b16c-c39273739084\")).parents('.cell').data().cell;\n      cell.output_area.append_execute_result(NB_LOAD_WARNING)\n    }\n  }\n\n  if (root._bokeh_is_loading === 0) {\n    console.debug(\"Bokeh: BokehJS loaded, going straight to plotting\");\n    run_inline_js();\n  } else {\n    load_libs(css_urls, js_urls, function() {\n      console.debug(\"Bokeh: BokehJS plotting callback run at\", now());\n      run_inline_js();\n    });\n  }\n}(window));"
     },
     "metadata": {},
     "output_type": "display_data"
    }
   ],
   "source": [
    "import numpy as np\n",
    "import helper.magics\n",
    "import bokeh\n",
    "from bokeh.plotting import output_notebook, figure, show, save\n",
    "output_notebook()"
   ]
  },
  {
   "cell_type": "markdown",
   "metadata": {},
   "source": [
    "## チャートの表示方法\n",
    "\n",
    "Bokehには以下の4つの使用シナリオがあります：\n",
    "\n",
    "1. Notebook内でPythonを使用してチャートを作成し、表示します。チャートはセルの出力欄に表示されます。\n",
    "2. チャートをHTMLファイルとして出力します。チャートの情報はJSON形式でHTMLファイルに保存され、Pythonがインストールされていないコンピュータでもブラウザでチャートを表示でき、パンやズームなどのインタラクティブ機能をサポートします。\n",
    "3. Notebook内でチャートを表示した後、Pythonでチャートデータを更新し、ブラウザに送信してチャートを更新することができます。\n",
    "4. Bokehのサーバーを使用して、Pythonスクリプトで生成されたチャートアプリケーションをネットワーク上で公開します。ネットワーク内の任意のコンピュータが指定されたURLでアプリケーションを開くことができます。Bokehはボタン、テキスト入力ボックス、ドロップダウン選択ボックスなど、インターフェースプログラムを作成するためのさまざまなコントロールを提供しているため、Bokehサーバーを使用して複数のユーザーが同時に使用できるインタラクティブなグラフィカルインターフェースアプリケーションを作成することができます。\n",
    "\n",
    "このセクションでは、まずいくつかの簡単な例を通じて上記の各シナリオの使用方法を紹介します。"
   ]
  },
  {
   "cell_type": "markdown",
   "metadata": {},
   "source": [
    "### Notebook内で表示\n",
    "\n",
    "Notebook内でBokehチャートを表示するためには、まず`output_notebook()`を実行する必要があります。これにより、ネットワークからBokehのJavascriptコードがロードされます。もし読者のコンピュータがネットワークに接続されていない場合は、本章の最後のセクションを参照してください。"
   ]
  },
  {
   "cell_type": "code",
   "execution_count": 3,
   "metadata": {},
   "outputs": [
    {
     "data": {
      "text/html": [
       "    <style>\n",
       "        .bk-notebook-logo {\n",
       "            display: block;\n",
       "            width: 20px;\n",
       "            height: 20px;\n",
       "            background-image: url(data:image/png;base64,iVBORw0KGgoAAAANSUhEUgAAABQAAAAUCAYAAACNiR0NAAAABHNCSVQICAgIfAhkiAAAAAlwSFlzAAALEgAACxIB0t1+/AAAABx0RVh0U29mdHdhcmUAQWRvYmUgRmlyZXdvcmtzIENTNui8sowAAAOkSURBVDiNjZRtaJVlGMd/1/08zzln5zjP1LWcU9N0NkN8m2CYjpgQYQXqSs0I84OLIC0hkEKoPtiH3gmKoiJDU7QpLgoLjLIQCpEsNJ1vqUOdO7ppbuec5+V+rj4ctwzd8IIbbi6u+8f1539dt3A78eXC7QizUF7gyV1fD1Yqg4JWz84yffhm0qkFqBogB9rM8tZdtwVsPUhWhGcFJngGeWrPzHm5oaMmkfEg1usvLFyc8jLRqDOMru7AyC8saQr7GG7f5fvDeH7Ej8CM66nIF+8yngt6HWaKh7k49Soy9nXurCi1o3qUbS3zWfrYeQDTB/Qj6kX6Ybhw4B+bOYoLKCC9H3Nu/leUTZ1JdRWkkn2ldcCamzrcf47KKXdAJllSlxAOkRgyHsGC/zRday5Qld9DyoM4/q/rUoy/CXh3jzOu3bHUVZeU+DEn8FInkPBFlu3+nW3Nw0mk6vCDiWg8CeJaxEwuHS3+z5RgY+YBR6V1Z1nxSOfoaPa4LASWxxdNp+VWTk7+4vzaou8v8PN+xo+KY2xsw6une2frhw05CTYOmQvsEhjhWjn0bmXPjpE1+kplmmkP3suftwTubK9Vq22qKmrBhpY4jvd5afdRA3wGjFAgcnTK2s4hY0/GPNIb0nErGMCRxWOOX64Z8RAC4oCXdklmEvcL8o0BfkNK4lUg9HTl+oPlQxdNo3Mg4Nv175e/1LDGzZen30MEjRUtmXSfiTVu1kK8W4txyV6BMKlbgk3lMwYCiusNy9fVfvvwMxv8Ynl6vxoByANLTWplvuj/nF9m2+PDtt1eiHPBr1oIfhCChQMBw6Aw0UulqTKZdfVvfG7VcfIqLG9bcldL/+pdWTLxLUy8Qq38heUIjh4XlzZxzQm19lLFlr8vdQ97rjZVOLf8nclzckbcD4wxXMidpX30sFd37Fv/GtwwhzhxGVAprjbg0gCAEeIgwCZyTV2Z1REEW8O4py0wsjeloKoMr6iCY6dP92H6Vw/oTyICIthibxjm/DfN9lVz8IqtqKYLUXfoKVMVQVVJOElGjrnnUt9T9wbgp8AyYKaGlqingHZU/uG2NTZSVqwHQTWkx9hxjkpWDaCg6Ckj5qebgBVbT3V3NNXMSiWSDdGV3hrtzla7J+duwPOToIg42ChPQOQjspnSlp1V+Gjdged7+8UN5CRAV7a5EdFNwCjEaBR27b3W890TE7g24NAP/mMDXRWrGoFPQI9ls/MWO2dWFAar/xcOIImbbpA3zgAAAABJRU5ErkJggg==);\n",
       "        }\n",
       "    </style>\n",
       "    <div>\n",
       "        <a href=\"https://bokeh.org\" target=\"_blank\" class=\"bk-notebook-logo\"></a>\n",
       "        <span id=\"f863a89a-5143-4fdd-93ab-924d16cd466d\">Loading BokehJS ...</span>\n",
       "    </div>\n"
      ]
     },
     "metadata": {},
     "output_type": "display_data"
    },
    {
     "data": {
      "application/javascript": [
       "'use strict';\n",
       "(function(root) {\n",
       "  function now() {\n",
       "    return new Date();\n",
       "  }\n",
       "\n",
       "  const force = true;\n",
       "\n",
       "  if (typeof root._bokeh_onload_callbacks === \"undefined\" || force === true) {\n",
       "    root._bokeh_onload_callbacks = [];\n",
       "    root._bokeh_is_loading = undefined;\n",
       "  }\n",
       "\n",
       "const JS_MIME_TYPE = 'application/javascript';\n",
       "  const HTML_MIME_TYPE = 'text/html';\n",
       "  const EXEC_MIME_TYPE = 'application/vnd.bokehjs_exec.v0+json';\n",
       "  const CLASS_NAME = 'output_bokeh rendered_html';\n",
       "\n",
       "  /**\n",
       "   * Render data to the DOM node\n",
       "   */\n",
       "  function render(props, node) {\n",
       "    const script = document.createElement(\"script\");\n",
       "    node.appendChild(script);\n",
       "  }\n",
       "\n",
       "  /**\n",
       "   * Handle when an output is cleared or removed\n",
       "   */\n",
       "  function handleClearOutput(event, handle) {\n",
       "    function drop(id) {\n",
       "      const view = Bokeh.index.get_by_id(id)\n",
       "      if (view != null) {\n",
       "        view.model.document.clear()\n",
       "        Bokeh.index.delete(view)\n",
       "      }\n",
       "    }\n",
       "\n",
       "    const cell = handle.cell;\n",
       "\n",
       "    const id = cell.output_area._bokeh_element_id;\n",
       "    const server_id = cell.output_area._bokeh_server_id;\n",
       "\n",
       "    // Clean up Bokeh references\n",
       "    if (id != null) {\n",
       "      drop(id)\n",
       "    }\n",
       "\n",
       "    if (server_id !== undefined) {\n",
       "      // Clean up Bokeh references\n",
       "      const cmd_clean = \"from bokeh.io.state import curstate; print(curstate().uuid_to_server['\" + server_id + \"'].get_sessions()[0].document.roots[0]._id)\";\n",
       "      cell.notebook.kernel.execute(cmd_clean, {\n",
       "        iopub: {\n",
       "          output: function(msg) {\n",
       "            const id = msg.content.text.trim()\n",
       "            drop(id)\n",
       "          }\n",
       "        }\n",
       "      });\n",
       "      // Destroy server and session\n",
       "      const cmd_destroy = \"import bokeh.io.notebook as ion; ion.destroy_server('\" + server_id + \"')\";\n",
       "      cell.notebook.kernel.execute(cmd_destroy);\n",
       "    }\n",
       "  }\n",
       "\n",
       "  /**\n",
       "   * Handle when a new output is added\n",
       "   */\n",
       "  function handleAddOutput(event, handle) {\n",
       "    const output_area = handle.output_area;\n",
       "    const output = handle.output;\n",
       "\n",
       "    // limit handleAddOutput to display_data with EXEC_MIME_TYPE content only\n",
       "    if ((output.output_type != \"display_data\") || (!Object.prototype.hasOwnProperty.call(output.data, EXEC_MIME_TYPE))) {\n",
       "      return\n",
       "    }\n",
       "\n",
       "    const toinsert = output_area.element.find(\".\" + CLASS_NAME.split(' ')[0]);\n",
       "\n",
       "    if (output.metadata[EXEC_MIME_TYPE][\"id\"] !== undefined) {\n",
       "      toinsert[toinsert.length - 1].firstChild.textContent = output.data[JS_MIME_TYPE];\n",
       "      // store reference to embed id on output_area\n",
       "      output_area._bokeh_element_id = output.metadata[EXEC_MIME_TYPE][\"id\"];\n",
       "    }\n",
       "    if (output.metadata[EXEC_MIME_TYPE][\"server_id\"] !== undefined) {\n",
       "      const bk_div = document.createElement(\"div\");\n",
       "      bk_div.innerHTML = output.data[HTML_MIME_TYPE];\n",
       "      const script_attrs = bk_div.children[0].attributes;\n",
       "      for (let i = 0; i < script_attrs.length; i++) {\n",
       "        toinsert[toinsert.length - 1].firstChild.setAttribute(script_attrs[i].name, script_attrs[i].value);\n",
       "        toinsert[toinsert.length - 1].firstChild.textContent = bk_div.children[0].textContent\n",
       "      }\n",
       "      // store reference to server id on output_area\n",
       "      output_area._bokeh_server_id = output.metadata[EXEC_MIME_TYPE][\"server_id\"];\n",
       "    }\n",
       "  }\n",
       "\n",
       "  function register_renderer(events, OutputArea) {\n",
       "\n",
       "    function append_mime(data, metadata, element) {\n",
       "      // create a DOM node to render to\n",
       "      const toinsert = this.create_output_subarea(\n",
       "        metadata,\n",
       "        CLASS_NAME,\n",
       "        EXEC_MIME_TYPE\n",
       "      );\n",
       "      this.keyboard_manager.register_events(toinsert);\n",
       "      // Render to node\n",
       "      const props = {data: data, metadata: metadata[EXEC_MIME_TYPE]};\n",
       "      render(props, toinsert[toinsert.length - 1]);\n",
       "      element.append(toinsert);\n",
       "      return toinsert\n",
       "    }\n",
       "\n",
       "    /* Handle when an output is cleared or removed */\n",
       "    events.on('clear_output.CodeCell', handleClearOutput);\n",
       "    events.on('delete.Cell', handleClearOutput);\n",
       "\n",
       "    /* Handle when a new output is added */\n",
       "    events.on('output_added.OutputArea', handleAddOutput);\n",
       "\n",
       "    /**\n",
       "     * Register the mime type and append_mime function with output_area\n",
       "     */\n",
       "    OutputArea.prototype.register_mime_type(EXEC_MIME_TYPE, append_mime, {\n",
       "      /* Is output safe? */\n",
       "      safe: true,\n",
       "      /* Index of renderer in `output_area.display_order` */\n",
       "      index: 0\n",
       "    });\n",
       "  }\n",
       "\n",
       "  // register the mime type if in Jupyter Notebook environment and previously unregistered\n",
       "  if (root.Jupyter !== undefined) {\n",
       "    const events = require('base/js/events');\n",
       "    const OutputArea = require('notebook/js/outputarea').OutputArea;\n",
       "\n",
       "    if (OutputArea.prototype.mime_types().indexOf(EXEC_MIME_TYPE) == -1) {\n",
       "      register_renderer(events, OutputArea);\n",
       "    }\n",
       "  }\n",
       "  if (typeof (root._bokeh_timeout) === \"undefined\" || force === true) {\n",
       "    root._bokeh_timeout = Date.now() + 5000;\n",
       "    root._bokeh_failed_load = false;\n",
       "  }\n",
       "\n",
       "  const NB_LOAD_WARNING = {'data': {'text/html':\n",
       "     \"<div style='background-color: #fdd'>\\n\"+\n",
       "     \"<p>\\n\"+\n",
       "     \"BokehJS does not appear to have successfully loaded. If loading BokehJS from CDN, this \\n\"+\n",
       "     \"may be due to a slow or bad network connection. Possible fixes:\\n\"+\n",
       "     \"</p>\\n\"+\n",
       "     \"<ul>\\n\"+\n",
       "     \"<li>re-rerun `output_notebook()` to attempt to load from CDN again, or</li>\\n\"+\n",
       "     \"<li>use INLINE resources instead, as so:</li>\\n\"+\n",
       "     \"</ul>\\n\"+\n",
       "     \"<code>\\n\"+\n",
       "     \"from bokeh.resources import INLINE\\n\"+\n",
       "     \"output_notebook(resources=INLINE)\\n\"+\n",
       "     \"</code>\\n\"+\n",
       "     \"</div>\"}};\n",
       "\n",
       "  function display_loaded(error = null) {\n",
       "    const el = document.getElementById(\"f863a89a-5143-4fdd-93ab-924d16cd466d\");\n",
       "    if (el != null) {\n",
       "      const html = (() => {\n",
       "        if (typeof root.Bokeh === \"undefined\") {\n",
       "          if (error == null) {\n",
       "            return \"BokehJS is loading ...\";\n",
       "          } else {\n",
       "            return \"BokehJS failed to load.\";\n",
       "          }\n",
       "        } else {\n",
       "          const prefix = `BokehJS ${root.Bokeh.version}`;\n",
       "          if (error == null) {\n",
       "            return `${prefix} successfully loaded.`;\n",
       "          } else {\n",
       "            return `${prefix} <b>encountered errors</b> while loading and may not function as expected.`;\n",
       "          }\n",
       "        }\n",
       "      })();\n",
       "      el.innerHTML = html;\n",
       "\n",
       "      if (error != null) {\n",
       "        const wrapper = document.createElement(\"div\");\n",
       "        wrapper.style.overflow = \"auto\";\n",
       "        wrapper.style.height = \"5em\";\n",
       "        wrapper.style.resize = \"vertical\";\n",
       "        const content = document.createElement(\"div\");\n",
       "        content.style.fontFamily = \"monospace\";\n",
       "        content.style.whiteSpace = \"pre-wrap\";\n",
       "        content.style.backgroundColor = \"rgb(255, 221, 221)\";\n",
       "        content.textContent = error.stack ?? error.toString();\n",
       "        wrapper.append(content);\n",
       "        el.append(wrapper);\n",
       "      }\n",
       "    } else if (Date.now() < root._bokeh_timeout) {\n",
       "      setTimeout(() => display_loaded(error), 100);\n",
       "    }\n",
       "  }\n",
       "\n",
       "  function run_callbacks() {\n",
       "    try {\n",
       "      root._bokeh_onload_callbacks.forEach(function(callback) {\n",
       "        if (callback != null)\n",
       "          callback();\n",
       "      });\n",
       "    } finally {\n",
       "      delete root._bokeh_onload_callbacks\n",
       "    }\n",
       "    console.debug(\"Bokeh: all callbacks have finished\");\n",
       "  }\n",
       "\n",
       "  function load_libs(css_urls, js_urls, callback) {\n",
       "    if (css_urls == null) css_urls = [];\n",
       "    if (js_urls == null) js_urls = [];\n",
       "\n",
       "    root._bokeh_onload_callbacks.push(callback);\n",
       "    if (root._bokeh_is_loading > 0) {\n",
       "      console.debug(\"Bokeh: BokehJS is being loaded, scheduling callback at\", now());\n",
       "      return null;\n",
       "    }\n",
       "    if (js_urls == null || js_urls.length === 0) {\n",
       "      run_callbacks();\n",
       "      return null;\n",
       "    }\n",
       "    console.debug(\"Bokeh: BokehJS not loaded, scheduling load and callback at\", now());\n",
       "    root._bokeh_is_loading = css_urls.length + js_urls.length;\n",
       "\n",
       "    function on_load() {\n",
       "      root._bokeh_is_loading--;\n",
       "      if (root._bokeh_is_loading === 0) {\n",
       "        console.debug(\"Bokeh: all BokehJS libraries/stylesheets loaded\");\n",
       "        run_callbacks()\n",
       "      }\n",
       "    }\n",
       "\n",
       "    function on_error(url) {\n",
       "      console.error(\"failed to load \" + url);\n",
       "    }\n",
       "\n",
       "    for (let i = 0; i < css_urls.length; i++) {\n",
       "      const url = css_urls[i];\n",
       "      const element = document.createElement(\"link\");\n",
       "      element.onload = on_load;\n",
       "      element.onerror = on_error.bind(null, url);\n",
       "      element.rel = \"stylesheet\";\n",
       "      element.type = \"text/css\";\n",
       "      element.href = url;\n",
       "      console.debug(\"Bokeh: injecting link tag for BokehJS stylesheet: \", url);\n",
       "      document.body.appendChild(element);\n",
       "    }\n",
       "\n",
       "    for (let i = 0; i < js_urls.length; i++) {\n",
       "      const url = js_urls[i];\n",
       "      const element = document.createElement('script');\n",
       "      element.onload = on_load;\n",
       "      element.onerror = on_error.bind(null, url);\n",
       "      element.async = false;\n",
       "      element.src = url;\n",
       "      console.debug(\"Bokeh: injecting script tag for BokehJS library: \", url);\n",
       "      document.head.appendChild(element);\n",
       "    }\n",
       "  };\n",
       "\n",
       "  function inject_raw_css(css) {\n",
       "    const element = document.createElement(\"style\");\n",
       "    element.appendChild(document.createTextNode(css));\n",
       "    document.body.appendChild(element);\n",
       "  }\n",
       "\n",
       "  const js_urls = [\"https://cdn.bokeh.org/bokeh/release/bokeh-3.6.3.min.js\", \"https://cdn.bokeh.org/bokeh/release/bokeh-gl-3.6.3.min.js\", \"https://cdn.bokeh.org/bokeh/release/bokeh-widgets-3.6.3.min.js\", \"https://cdn.bokeh.org/bokeh/release/bokeh-tables-3.6.3.min.js\", \"https://cdn.bokeh.org/bokeh/release/bokeh-mathjax-3.6.3.min.js\"];\n",
       "  const css_urls = [];\n",
       "\n",
       "  const inline_js = [    function(Bokeh) {\n",
       "      Bokeh.set_log_level(\"info\");\n",
       "    },\n",
       "function(Bokeh) {\n",
       "    }\n",
       "  ];\n",
       "\n",
       "  function run_inline_js() {\n",
       "    if (root.Bokeh !== undefined || force === true) {\n",
       "      try {\n",
       "            for (let i = 0; i < inline_js.length; i++) {\n",
       "      inline_js[i].call(root, root.Bokeh);\n",
       "    }\n",
       "\n",
       "      } catch (error) {display_loaded(error);throw error;\n",
       "      }if (force === true) {\n",
       "        display_loaded();\n",
       "      }} else if (Date.now() < root._bokeh_timeout) {\n",
       "      setTimeout(run_inline_js, 100);\n",
       "    } else if (!root._bokeh_failed_load) {\n",
       "      console.log(\"Bokeh: BokehJS failed to load within specified timeout.\");\n",
       "      root._bokeh_failed_load = true;\n",
       "    } else if (force !== true) {\n",
       "      const cell = $(document.getElementById(\"f863a89a-5143-4fdd-93ab-924d16cd466d\")).parents('.cell').data().cell;\n",
       "      cell.output_area.append_execute_result(NB_LOAD_WARNING)\n",
       "    }\n",
       "  }\n",
       "\n",
       "  if (root._bokeh_is_loading === 0) {\n",
       "    console.debug(\"Bokeh: BokehJS loaded, going straight to plotting\");\n",
       "    run_inline_js();\n",
       "  } else {\n",
       "    load_libs(css_urls, js_urls, function() {\n",
       "      console.debug(\"Bokeh: BokehJS plotting callback run at\", now());\n",
       "      run_inline_js();\n",
       "    });\n",
       "  }\n",
       "}(window));"
      ],
      "application/vnd.bokehjs_load.v0+json": "'use strict';\n(function(root) {\n  function now() {\n    return new Date();\n  }\n\n  const force = true;\n\n  if (typeof root._bokeh_onload_callbacks === \"undefined\" || force === true) {\n    root._bokeh_onload_callbacks = [];\n    root._bokeh_is_loading = undefined;\n  }\n\n\n  if (typeof (root._bokeh_timeout) === \"undefined\" || force === true) {\n    root._bokeh_timeout = Date.now() + 5000;\n    root._bokeh_failed_load = false;\n  }\n\n  const NB_LOAD_WARNING = {'data': {'text/html':\n     \"<div style='background-color: #fdd'>\\n\"+\n     \"<p>\\n\"+\n     \"BokehJS does not appear to have successfully loaded. If loading BokehJS from CDN, this \\n\"+\n     \"may be due to a slow or bad network connection. Possible fixes:\\n\"+\n     \"</p>\\n\"+\n     \"<ul>\\n\"+\n     \"<li>re-rerun `output_notebook()` to attempt to load from CDN again, or</li>\\n\"+\n     \"<li>use INLINE resources instead, as so:</li>\\n\"+\n     \"</ul>\\n\"+\n     \"<code>\\n\"+\n     \"from bokeh.resources import INLINE\\n\"+\n     \"output_notebook(resources=INLINE)\\n\"+\n     \"</code>\\n\"+\n     \"</div>\"}};\n\n  function display_loaded(error = null) {\n    const el = document.getElementById(\"f863a89a-5143-4fdd-93ab-924d16cd466d\");\n    if (el != null) {\n      const html = (() => {\n        if (typeof root.Bokeh === \"undefined\") {\n          if (error == null) {\n            return \"BokehJS is loading ...\";\n          } else {\n            return \"BokehJS failed to load.\";\n          }\n        } else {\n          const prefix = `BokehJS ${root.Bokeh.version}`;\n          if (error == null) {\n            return `${prefix} successfully loaded.`;\n          } else {\n            return `${prefix} <b>encountered errors</b> while loading and may not function as expected.`;\n          }\n        }\n      })();\n      el.innerHTML = html;\n\n      if (error != null) {\n        const wrapper = document.createElement(\"div\");\n        wrapper.style.overflow = \"auto\";\n        wrapper.style.height = \"5em\";\n        wrapper.style.resize = \"vertical\";\n        const content = document.createElement(\"div\");\n        content.style.fontFamily = \"monospace\";\n        content.style.whiteSpace = \"pre-wrap\";\n        content.style.backgroundColor = \"rgb(255, 221, 221)\";\n        content.textContent = error.stack ?? error.toString();\n        wrapper.append(content);\n        el.append(wrapper);\n      }\n    } else if (Date.now() < root._bokeh_timeout) {\n      setTimeout(() => display_loaded(error), 100);\n    }\n  }\n\n  function run_callbacks() {\n    try {\n      root._bokeh_onload_callbacks.forEach(function(callback) {\n        if (callback != null)\n          callback();\n      });\n    } finally {\n      delete root._bokeh_onload_callbacks\n    }\n    console.debug(\"Bokeh: all callbacks have finished\");\n  }\n\n  function load_libs(css_urls, js_urls, callback) {\n    if (css_urls == null) css_urls = [];\n    if (js_urls == null) js_urls = [];\n\n    root._bokeh_onload_callbacks.push(callback);\n    if (root._bokeh_is_loading > 0) {\n      console.debug(\"Bokeh: BokehJS is being loaded, scheduling callback at\", now());\n      return null;\n    }\n    if (js_urls == null || js_urls.length === 0) {\n      run_callbacks();\n      return null;\n    }\n    console.debug(\"Bokeh: BokehJS not loaded, scheduling load and callback at\", now());\n    root._bokeh_is_loading = css_urls.length + js_urls.length;\n\n    function on_load() {\n      root._bokeh_is_loading--;\n      if (root._bokeh_is_loading === 0) {\n        console.debug(\"Bokeh: all BokehJS libraries/stylesheets loaded\");\n        run_callbacks()\n      }\n    }\n\n    function on_error(url) {\n      console.error(\"failed to load \" + url);\n    }\n\n    for (let i = 0; i < css_urls.length; i++) {\n      const url = css_urls[i];\n      const element = document.createElement(\"link\");\n      element.onload = on_load;\n      element.onerror = on_error.bind(null, url);\n      element.rel = \"stylesheet\";\n      element.type = \"text/css\";\n      element.href = url;\n      console.debug(\"Bokeh: injecting link tag for BokehJS stylesheet: \", url);\n      document.body.appendChild(element);\n    }\n\n    for (let i = 0; i < js_urls.length; i++) {\n      const url = js_urls[i];\n      const element = document.createElement('script');\n      element.onload = on_load;\n      element.onerror = on_error.bind(null, url);\n      element.async = false;\n      element.src = url;\n      console.debug(\"Bokeh: injecting script tag for BokehJS library: \", url);\n      document.head.appendChild(element);\n    }\n  };\n\n  function inject_raw_css(css) {\n    const element = document.createElement(\"style\");\n    element.appendChild(document.createTextNode(css));\n    document.body.appendChild(element);\n  }\n\n  const js_urls = [\"https://cdn.bokeh.org/bokeh/release/bokeh-3.6.3.min.js\", \"https://cdn.bokeh.org/bokeh/release/bokeh-gl-3.6.3.min.js\", \"https://cdn.bokeh.org/bokeh/release/bokeh-widgets-3.6.3.min.js\", \"https://cdn.bokeh.org/bokeh/release/bokeh-tables-3.6.3.min.js\", \"https://cdn.bokeh.org/bokeh/release/bokeh-mathjax-3.6.3.min.js\"];\n  const css_urls = [];\n\n  const inline_js = [    function(Bokeh) {\n      Bokeh.set_log_level(\"info\");\n    },\nfunction(Bokeh) {\n    }\n  ];\n\n  function run_inline_js() {\n    if (root.Bokeh !== undefined || force === true) {\n      try {\n            for (let i = 0; i < inline_js.length; i++) {\n      inline_js[i].call(root, root.Bokeh);\n    }\n\n      } catch (error) {display_loaded(error);throw error;\n      }if (force === true) {\n        display_loaded();\n      }} else if (Date.now() < root._bokeh_timeout) {\n      setTimeout(run_inline_js, 100);\n    } else if (!root._bokeh_failed_load) {\n      console.log(\"Bokeh: BokehJS failed to load within specified timeout.\");\n      root._bokeh_failed_load = true;\n    } else if (force !== true) {\n      const cell = $(document.getElementById(\"f863a89a-5143-4fdd-93ab-924d16cd466d\")).parents('.cell').data().cell;\n      cell.output_area.append_execute_result(NB_LOAD_WARNING)\n    }\n  }\n\n  if (root._bokeh_is_loading === 0) {\n    console.debug(\"Bokeh: BokehJS loaded, going straight to plotting\");\n    run_inline_js();\n  } else {\n    load_libs(css_urls, js_urls, function() {\n      console.debug(\"Bokeh: BokehJS plotting callback run at\", now());\n      run_inline_js();\n    });\n  }\n}(window));"
     },
     "metadata": {},
     "output_type": "display_data"
    }
   ],
   "source": [
    "import bokeh\n",
    "from bokeh.plotting import output_notebook, figure, show, save\n",
    "output_notebook()"
   ]
  },
  {
   "cell_type": "markdown",
   "metadata": {},
   "source": [
    "以下のプログラムは2つの曲線を表示します。❶まず`figure()`を使用して`Figure`オブジェクト`fig`を作成します。❷`line()`メソッドを呼び出して曲線を表すオブジェクトを作成します。その2つの位置引数は、画像上の各点のX軸座標とY軸座標です。❸`Figure`オブジェクトの属性を通じてチャート内のさまざまなオブジェクトにアクセスできます。ここでは`fig.legend[0]`を使用して凡例オブジェクトを取得し、その`update()`メソッドを呼び出して関連する属性を設定します。❹最後に`show()`を呼び出してチャートオブジェクトを表示します。結果は次のグラフに示されています。\n",
    "\n",
    "Bokehオブジェクトの属性は、オブジェクト作成時にキーワード引数で指定できます。例えば以下の例の`x_range`、`color`、`line_width`などの属性です。または`update()`を使用して複数の属性を同時に設定することもできます。例えば`location`と`orientation`などです。"
   ]
  },
  {
   "cell_type": "code",
   "execution_count": 4,
   "metadata": {},
   "outputs": [
    {
     "data": {
      "text/html": [
       "\n",
       "  <div id=\"db882008-4a16-4b8b-9518-2a9a47ec6ba8\" data-root-id=\"p1001\" style=\"display: contents;\"></div>\n"
      ]
     },
     "metadata": {},
     "output_type": "display_data"
    },
    {
     "data": {
      "application/javascript": [
       "(function(root) {\n",
       "  function embed_document(root) {\n",
       "  const docs_json = {\"aed8df97-b09c-4aa4-bdcf-f99da5c35412\":{\"version\":\"3.6.3\",\"title\":\"Bokeh Application\",\"roots\":[{\"type\":\"object\",\"name\":\"Figure\",\"id\":\"p1001\",\"attributes\":{\"width\":500,\"height\":300,\"x_range\":{\"type\":\"object\",\"name\":\"Range1d\",\"id\":\"p1011\"},\"y_range\":{\"type\":\"object\",\"name\":\"DataRange1d\",\"id\":\"p1003\"},\"x_scale\":{\"type\":\"object\",\"name\":\"LinearScale\",\"id\":\"p1012\"},\"y_scale\":{\"type\":\"object\",\"name\":\"LinearScale\",\"id\":\"p1013\"},\"title\":{\"type\":\"object\",\"name\":\"Title\",\"id\":\"p1004\",\"attributes\":{\"text\":\"\\u6b63\\u5f26\\u4f59\\u5f26\\u66f2\\u7dda\"}},\"renderers\":[{\"type\":\"object\",\"name\":\"GlyphRenderer\",\"id\":\"p1043\",\"attributes\":{\"name\":\"sin\",\"data_source\":{\"type\":\"object\",\"name\":\"ColumnDataSource\",\"id\":\"p1037\",\"attributes\":{\"selected\":{\"type\":\"object\",\"name\":\"Selection\",\"id\":\"p1038\",\"attributes\":{\"indices\":[],\"line_indices\":[]}},\"selection_policy\":{\"type\":\"object\",\"name\":\"UnionRenderers\",\"id\":\"p1039\"},\"data\":{\"type\":\"map\",\"entries\":[[\"x\",{\"type\":\"ndarray\",\"array\":{\"type\":\"bytes\",\"data\":\"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\"},\"shape\":[400],\"dtype\":\"float64\",\"order\":\"little\"}],[\"y\",{\"type\":\"ndarray\",\"array\":{\"type\":\"bytes\",\"data\":\"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\"},\"shape\":[400],\"dtype\":\"float64\",\"order\":\"little\"}]]}}},\"view\":{\"type\":\"object\",\"name\":\"CDSView\",\"id\":\"p1044\",\"attributes\":{\"filter\":{\"type\":\"object\",\"name\":\"AllIndices\",\"id\":\"p1045\"}}},\"glyph\":{\"type\":\"object\",\"name\":\"Line\",\"id\":\"p1040\",\"attributes\":{\"x\":{\"type\":\"field\",\"field\":\"x\"},\"y\":{\"type\":\"field\",\"field\":\"y\"},\"line_color\":\"red\",\"line_width\":2}},\"nonselection_glyph\":{\"type\":\"object\",\"name\":\"Line\",\"id\":\"p1041\",\"attributes\":{\"x\":{\"type\":\"field\",\"field\":\"x\"},\"y\":{\"type\":\"field\",\"field\":\"y\"},\"line_color\":\"red\",\"line_alpha\":0.1,\"line_width\":2}},\"muted_glyph\":{\"type\":\"object\",\"name\":\"Line\",\"id\":\"p1042\",\"attributes\":{\"x\":{\"type\":\"field\",\"field\":\"x\"},\"y\":{\"type\":\"field\",\"field\":\"y\"},\"line_color\":\"red\",\"line_alpha\":0.2,\"line_width\":2}}}},{\"type\":\"object\",\"name\":\"GlyphRenderer\",\"id\":\"p1054\",\"attributes\":{\"name\":\"cos\",\"data_source\":{\"type\":\"object\",\"name\":\"ColumnDataSource\",\"id\":\"p1048\",\"attributes\":{\"selected\":{\"type\":\"object\",\"name\":\"Selection\",\"id\":\"p1049\",\"attributes\":{\"indices\":[],\"line_indices\":[]}},\"selection_policy\":{\"type\":\"object\",\"name\":\"UnionRenderers\",\"id\":\"p1050\"},\"data\":{\"type\":\"map\",\"entries\":[[\"x\",{\"type\":\"ndarray\",\"array\":{\"type\":\"bytes\",\"data\":\"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\"},\"shape\":[400],\"dtype\":\"float64\",\"order\":\"little\"}],[\"y\",{\"type\":\"ndarray\",\"array\":{\"type\":\"bytes\",\"data\":\"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\"},\"shape\":[400],\"dtype\":\"float64\",\"order\":\"little\"}]]}}},\"view\":{\"type\":\"object\",\"name\":\"CDSView\",\"id\":\"p1055\",\"attributes\":{\"filter\":{\"type\":\"object\",\"name\":\"AllIndices\",\"id\":\"p1056\"}}},\"glyph\":{\"type\":\"object\",\"name\":\"Line\",\"id\":\"p1051\",\"attributes\":{\"x\":{\"type\":\"field\",\"field\":\"x\"},\"y\":{\"type\":\"field\",\"field\":\"y\"},\"line_color\":\"green\",\"line_width\":2}},\"nonselection_glyph\":{\"type\":\"object\",\"name\":\"Line\",\"id\":\"p1052\",\"attributes\":{\"x\":{\"type\":\"field\",\"field\":\"x\"},\"y\":{\"type\":\"field\",\"field\":\"y\"},\"line_color\":\"green\",\"line_alpha\":0.1,\"line_width\":2}},\"muted_glyph\":{\"type\":\"object\",\"name\":\"Line\",\"id\":\"p1053\",\"attributes\":{\"x\":{\"type\":\"field\",\"field\":\"x\"},\"y\":{\"type\":\"field\",\"field\":\"y\"},\"line_color\":\"green\",\"line_alpha\":0.2,\"line_width\":2}}}}],\"toolbar\":{\"type\":\"object\",\"name\":\"Toolbar\",\"id\":\"p1010\",\"attributes\":{\"tools\":[{\"type\":\"object\",\"name\":\"PanTool\",\"id\":\"p1024\"},{\"type\":\"object\",\"name\":\"WheelZoomTool\",\"id\":\"p1025\",\"attributes\":{\"renderers\":\"auto\"}},{\"type\":\"object\",\"name\":\"BoxZoomTool\",\"id\":\"p1026\",\"attributes\":{\"overlay\":{\"type\":\"object\",\"name\":\"BoxAnnotation\",\"id\":\"p1027\",\"attributes\":{\"syncable\":false,\"line_color\":\"black\",\"line_alpha\":1.0,\"line_width\":2,\"line_dash\":[4,4],\"fill_color\":\"lightgrey\",\"fill_alpha\":0.5,\"level\":\"overlay\",\"visible\":false,\"left\":{\"type\":\"number\",\"value\":\"nan\"},\"right\":{\"type\":\"number\",\"value\":\"nan\"},\"top\":{\"type\":\"number\",\"value\":\"nan\"},\"bottom\":{\"type\":\"number\",\"value\":\"nan\"},\"left_units\":\"canvas\",\"right_units\":\"canvas\",\"top_units\":\"canvas\",\"bottom_units\":\"canvas\",\"handles\":{\"type\":\"object\",\"name\":\"BoxInteractionHandles\",\"id\":\"p1033\",\"attributes\":{\"all\":{\"type\":\"object\",\"name\":\"AreaVisuals\",\"id\":\"p1032\",\"attributes\":{\"fill_color\":\"white\",\"hover_fill_color\":\"lightgray\"}}}}}}}},{\"type\":\"object\",\"name\":\"SaveTool\",\"id\":\"p1034\"},{\"type\":\"object\",\"name\":\"ResetTool\",\"id\":\"p1035\"},{\"type\":\"object\",\"name\":\"HelpTool\",\"id\":\"p1036\"}]}},\"left\":[{\"type\":\"object\",\"name\":\"LinearAxis\",\"id\":\"p1019\",\"attributes\":{\"ticker\":{\"type\":\"object\",\"name\":\"BasicTicker\",\"id\":\"p1020\",\"attributes\":{\"mantissas\":[1,2,5]}},\"formatter\":{\"type\":\"object\",\"name\":\"BasicTickFormatter\",\"id\":\"p1021\"},\"major_label_policy\":{\"type\":\"object\",\"name\":\"AllLabels\",\"id\":\"p1022\"}}}],\"below\":[{\"type\":\"object\",\"name\":\"LinearAxis\",\"id\":\"p1014\",\"attributes\":{\"ticker\":{\"type\":\"object\",\"name\":\"BasicTicker\",\"id\":\"p1015\",\"attributes\":{\"mantissas\":[1,2,5]}},\"formatter\":{\"type\":\"object\",\"name\":\"BasicTickFormatter\",\"id\":\"p1016\"},\"major_label_policy\":{\"type\":\"object\",\"name\":\"AllLabels\",\"id\":\"p1017\"}}}],\"center\":[{\"type\":\"object\",\"name\":\"Grid\",\"id\":\"p1018\",\"attributes\":{\"axis\":{\"id\":\"p1014\"}}},{\"type\":\"object\",\"name\":\"Grid\",\"id\":\"p1023\",\"attributes\":{\"dimension\":1,\"axis\":{\"id\":\"p1019\"}}},{\"type\":\"object\",\"name\":\"Legend\",\"id\":\"p1046\",\"attributes\":{\"location\":\"bottom_left\",\"orientation\":\"horizontal\",\"items\":[{\"type\":\"object\",\"name\":\"LegendItem\",\"id\":\"p1047\",\"attributes\":{\"label\":{\"type\":\"value\",\"value\":\"sin\"},\"renderers\":[{\"id\":\"p1043\"}]}},{\"type\":\"object\",\"name\":\"LegendItem\",\"id\":\"p1057\",\"attributes\":{\"label\":{\"type\":\"value\",\"value\":\"cos\"},\"renderers\":[{\"id\":\"p1054\"}]}}]}}]}}]}};\n",
       "  const render_items = [{\"docid\":\"aed8df97-b09c-4aa4-bdcf-f99da5c35412\",\"roots\":{\"p1001\":\"db882008-4a16-4b8b-9518-2a9a47ec6ba8\"},\"root_ids\":[\"p1001\"]}];\n",
       "  void root.Bokeh.embed.embed_items_notebook(docs_json, render_items);\n",
       "  }\n",
       "  if (root.Bokeh !== undefined) {\n",
       "    embed_document(root);\n",
       "  } else {\n",
       "    let attempts = 0;\n",
       "    const timer = setInterval(function(root) {\n",
       "      if (root.Bokeh !== undefined) {\n",
       "        clearInterval(timer);\n",
       "        embed_document(root);\n",
       "      } else {\n",
       "        attempts++;\n",
       "        if (attempts > 100) {\n",
       "          clearInterval(timer);\n",
       "          console.log(\"Bokeh: ERROR: Unable to run BokehJS code because BokehJS library is missing\");\n",
       "        }\n",
       "      }\n",
       "    }, 10, root)\n",
       "  }\n",
       "})(window);"
      ],
      "application/vnd.bokehjs_exec.v0+json": ""
     },
     "metadata": {
      "application/vnd.bokehjs_exec.v0+json": {
       "id": "p1001"
      }
     },
     "output_type": "display_data"
    }
   ],
   "source": [
    "def plot_demo():\n",
    "    x = np.linspace(-2, 2, 400)\n",
    "    fig = figure(width=500, height=300, title=\"正弦余弦曲線\", x_range=(0, 1)) #❶\n",
    "    line_sin = fig.line(x, np.sin(2*np.pi*x), color=\"red\", legend_label=\"sin\", line_width=2, name=\"sin\")   #❷\n",
    "    line_cos = fig.line(x, np.cos(2*np.pi*x), color=\"green\", legend_label=\"cos\", line_width=2, name=\"cos\")\n",
    "    fig.legend[0].update(location=\"bottom_left\", orientation=\"horizontal\")     #❸\n",
    "    return fig, (line_sin, line_cos)\n",
    "\n",
    "fig, _ = plot_demo()\n",
    "show(fig)  #❹"
   ]
  },
  {
   "cell_type": "markdown",
   "metadata": {},
   "source": [
    "`save()`を呼び出すと、チャートをHTMLファイルとして保存できます。前述のコードを複数回呼び出すと、ブラウザ内で古いチャートが新しいチャートに上書きされても、Python内で複数の`Figure`オブジェクトが生成され、これらの`Figure`オブジェクトはすべて現在の`Document`オブジェクトに保存されます。`save()`は現在の`Document`オブジェクト内のすべてのチャートをHTMLファイルに保存します。❶現在の`Document`オブジェクトは`curdoc()`で取得でき、その`clear()`メソッドを呼び出すと、その中のすべてのチャートがクリアされます。❷`save()`を呼び出してチャートを保存する際、`resources=CDN`を設定すると、BokehのJavascriptとCSSファイルがネットワーク上のCDNサーバーからダウンロードされます。これによりHTMLファイルのサイズを小さくできますが、ユーザーがチャートを表示する際にはネットワーク接続が必要です。"
   ]
  },
  {
   "cell_type": "code",
   "execution_count": 5,
   "metadata": {},
   "outputs": [],
   "source": [
    "from bokeh.resources import CDN\n",
    "from bokeh.plotting import curdoc\n",
    "curdoc().clear() #❶\n",
    "save(fig, \"sincos.html\", resources=CDN, title=\"Plots\"); #❷"
   ]
  },
  {
   "cell_type": "markdown",
   "metadata": {},
   "source": [
    "### Javascriptでチャートの更新\n",
    "\n",
    "Bokeh は、グラフィカルインターフェースを構成するためのさまざまなコントロールを提供し、JavaScript 内でチャートやコントロールが生成するさまざまなイベントに応答できます。以下の例では、マウスでスライダーをドラッグすると、チャート内の 2 つの曲線の周波数がそれに応じて変化します。グラフの更新は JavaScript で行われるため、Python の環境がなくてもグラフが動作します。  "
   ]
  },
  {
   "cell_type": "code",
   "execution_count": 6,
   "metadata": {},
   "outputs": [
    {
     "data": {
      "text/html": [
       "\n",
       "  <div id=\"a0d380c9-9b82-4130-9325-961e755b2d80\" data-root-id=\"p1124\" style=\"display: contents;\"></div>\n"
      ]
     },
     "metadata": {},
     "output_type": "display_data"
    },
    {
     "data": {
      "application/javascript": [
       "(function(root) {\n",
       "  function embed_document(root) {\n",
       "  const docs_json = {\"9d1dcc3b-d976-4763-b337-5d67c0096c36\":{\"version\":\"3.6.3\",\"title\":\"Bokeh Application\",\"roots\":[{\"type\":\"object\",\"name\":\"Column\",\"id\":\"p1124\",\"attributes\":{\"children\":[{\"type\":\"object\",\"name\":\"Slider\",\"id\":\"p1123\",\"attributes\":{\"js_property_callbacks\":{\"type\":\"map\",\"entries\":[[\"change:value\",[{\"type\":\"object\",\"name\":\"CustomJS\",\"id\":\"p1125\",\"attributes\":{\"args\":{\"type\":\"map\",\"entries\":[[\"line_sin\",{\"type\":\"object\",\"name\":\"GlyphRenderer\",\"id\":\"p1108\",\"attributes\":{\"name\":\"sin\",\"data_source\":{\"type\":\"object\",\"name\":\"ColumnDataSource\",\"id\":\"p1102\",\"attributes\":{\"selected\":{\"type\":\"object\",\"name\":\"Selection\",\"id\":\"p1103\",\"attributes\":{\"indices\":[],\"line_indices\":[]}},\"selection_policy\":{\"type\":\"object\",\"name\":\"UnionRenderers\",\"id\":\"p1104\"},\"data\":{\"type\":\"map\",\"entries\":[[\"x\",{\"type\":\"ndarray\",\"array\":{\"type\":\"bytes\",\"data\":\"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\"},\"shape\":[400],\"dtype\":\"float64\",\"order\":\"little\"}],[\"y\",{\"type\":\"ndarray\",\"array\":{\"type\":\"bytes\",\"data\":\"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\"},\"shape\":[400],\"dtype\":\"float64\",\"order\":\"little\"}]]}}},\"view\":{\"type\":\"object\",\"name\":\"CDSView\",\"id\":\"p1109\",\"attributes\":{\"filter\":{\"type\":\"object\",\"name\":\"AllIndices\",\"id\":\"p1110\"}}},\"glyph\":{\"type\":\"object\",\"name\":\"Line\",\"id\":\"p1105\",\"attributes\":{\"x\":{\"type\":\"field\",\"field\":\"x\"},\"y\":{\"type\":\"field\",\"field\":\"y\"},\"line_color\":\"red\",\"line_width\":2}},\"nonselection_glyph\":{\"type\":\"object\",\"name\":\"Line\",\"id\":\"p1106\",\"attributes\":{\"x\":{\"type\":\"field\",\"field\":\"x\"},\"y\":{\"type\":\"field\",\"field\":\"y\"},\"line_color\":\"red\",\"line_alpha\":0.1,\"line_width\":2}},\"muted_glyph\":{\"type\":\"object\",\"name\":\"Line\",\"id\":\"p1107\",\"attributes\":{\"x\":{\"type\":\"field\",\"field\":\"x\"},\"y\":{\"type\":\"field\",\"field\":\"y\"},\"line_color\":\"red\",\"line_alpha\":0.2,\"line_width\":2}}}}],[\"line_cos\",{\"type\":\"object\",\"name\":\"GlyphRenderer\",\"id\":\"p1119\",\"attributes\":{\"name\":\"cos\",\"data_source\":{\"type\":\"object\",\"name\":\"ColumnDataSource\",\"id\":\"p1113\",\"attributes\":{\"selected\":{\"type\":\"object\",\"name\":\"Selection\",\"id\":\"p1114\",\"attributes\":{\"indices\":[],\"line_indices\":[]}},\"selection_policy\":{\"type\":\"object\",\"name\":\"UnionRenderers\",\"id\":\"p1115\"},\"data\":{\"type\":\"map\",\"entries\":[[\"x\",{\"type\":\"ndarray\",\"array\":{\"type\":\"bytes\",\"data\":\"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\"},\"shape\":[400],\"dtype\":\"float64\",\"order\":\"little\"}],[\"y\",{\"type\":\"ndarray\",\"array\":{\"type\":\"bytes\",\"data\":\"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\"},\"shape\":[400],\"dtype\":\"float64\",\"order\":\"little\"}]]}}},\"view\":{\"type\":\"object\",\"name\":\"CDSView\",\"id\":\"p1120\",\"attributes\":{\"filter\":{\"type\":\"object\",\"name\":\"AllIndices\",\"id\":\"p1121\"}}},\"glyph\":{\"type\":\"object\",\"name\":\"Line\",\"id\":\"p1116\",\"attributes\":{\"x\":{\"type\":\"field\",\"field\":\"x\"},\"y\":{\"type\":\"field\",\"field\":\"y\"},\"line_color\":\"green\",\"line_width\":2}},\"nonselection_glyph\":{\"type\":\"object\",\"name\":\"Line\",\"id\":\"p1117\",\"attributes\":{\"x\":{\"type\":\"field\",\"field\":\"x\"},\"y\":{\"type\":\"field\",\"field\":\"y\"},\"line_color\":\"green\",\"line_alpha\":0.1,\"line_width\":2}},\"muted_glyph\":{\"type\":\"object\",\"name\":\"Line\",\"id\":\"p1118\",\"attributes\":{\"x\":{\"type\":\"field\",\"field\":\"x\"},\"y\":{\"type\":\"field\",\"field\":\"y\"},\"line_color\":\"green\",\"line_alpha\":0.2,\"line_width\":2}}}}]]},\"code\":\"\\nlet freq = cb_obj.value;\\nlet data_sin = line_sin.data_source.data;\\nlet data_cos = line_cos.data_source.data;\\n\\ndata_sin.y = data_sin.x.map(x => Math.sin(2*Math.PI*freq*x));\\ndata_cos.y = data_cos.x.map(x => Math.cos(2*Math.PI*freq*x));\\n\\nline_sin.data_source.change.emit();\\nline_cos.data_source.change.emit();\\n\"}}]]]},\"title\":\"freq\",\"start\":1,\"end\":10,\"value\":1,\"step\":0.1}},{\"type\":\"object\",\"name\":\"Figure\",\"id\":\"p1066\",\"attributes\":{\"width\":500,\"height\":300,\"x_range\":{\"type\":\"object\",\"name\":\"Range1d\",\"id\":\"p1076\"},\"y_range\":{\"type\":\"object\",\"name\":\"DataRange1d\",\"id\":\"p1068\"},\"x_scale\":{\"type\":\"object\",\"name\":\"LinearScale\",\"id\":\"p1077\"},\"y_scale\":{\"type\":\"object\",\"name\":\"LinearScale\",\"id\":\"p1078\"},\"title\":{\"type\":\"object\",\"name\":\"Title\",\"id\":\"p1069\",\"attributes\":{\"text\":\"\\u6b63\\u5f26\\u4f59\\u5f26\\u66f2\\u7dda\"}},\"renderers\":[{\"id\":\"p1108\"},{\"id\":\"p1119\"}],\"toolbar\":{\"type\":\"object\",\"name\":\"Toolbar\",\"id\":\"p1075\",\"attributes\":{\"tools\":[{\"type\":\"object\",\"name\":\"PanTool\",\"id\":\"p1089\"},{\"type\":\"object\",\"name\":\"WheelZoomTool\",\"id\":\"p1090\",\"attributes\":{\"renderers\":\"auto\"}},{\"type\":\"object\",\"name\":\"BoxZoomTool\",\"id\":\"p1091\",\"attributes\":{\"overlay\":{\"type\":\"object\",\"name\":\"BoxAnnotation\",\"id\":\"p1092\",\"attributes\":{\"syncable\":false,\"line_color\":\"black\",\"line_alpha\":1.0,\"line_width\":2,\"line_dash\":[4,4],\"fill_color\":\"lightgrey\",\"fill_alpha\":0.5,\"level\":\"overlay\",\"visible\":false,\"left\":{\"type\":\"number\",\"value\":\"nan\"},\"right\":{\"type\":\"number\",\"value\":\"nan\"},\"top\":{\"type\":\"number\",\"value\":\"nan\"},\"bottom\":{\"type\":\"number\",\"value\":\"nan\"},\"left_units\":\"canvas\",\"right_units\":\"canvas\",\"top_units\":\"canvas\",\"bottom_units\":\"canvas\",\"handles\":{\"type\":\"object\",\"name\":\"BoxInteractionHandles\",\"id\":\"p1098\",\"attributes\":{\"all\":{\"type\":\"object\",\"name\":\"AreaVisuals\",\"id\":\"p1097\",\"attributes\":{\"fill_color\":\"white\",\"hover_fill_color\":\"lightgray\"}}}}}}}},{\"type\":\"object\",\"name\":\"SaveTool\",\"id\":\"p1099\"},{\"type\":\"object\",\"name\":\"ResetTool\",\"id\":\"p1100\"},{\"type\":\"object\",\"name\":\"HelpTool\",\"id\":\"p1101\"}]}},\"left\":[{\"type\":\"object\",\"name\":\"LinearAxis\",\"id\":\"p1084\",\"attributes\":{\"ticker\":{\"type\":\"object\",\"name\":\"BasicTicker\",\"id\":\"p1085\",\"attributes\":{\"mantissas\":[1,2,5]}},\"formatter\":{\"type\":\"object\",\"name\":\"BasicTickFormatter\",\"id\":\"p1086\"},\"major_label_policy\":{\"type\":\"object\",\"name\":\"AllLabels\",\"id\":\"p1087\"}}}],\"below\":[{\"type\":\"object\",\"name\":\"LinearAxis\",\"id\":\"p1079\",\"attributes\":{\"ticker\":{\"type\":\"object\",\"name\":\"BasicTicker\",\"id\":\"p1080\",\"attributes\":{\"mantissas\":[1,2,5]}},\"formatter\":{\"type\":\"object\",\"name\":\"BasicTickFormatter\",\"id\":\"p1081\"},\"major_label_policy\":{\"type\":\"object\",\"name\":\"AllLabels\",\"id\":\"p1082\"}}}],\"center\":[{\"type\":\"object\",\"name\":\"Grid\",\"id\":\"p1083\",\"attributes\":{\"axis\":{\"id\":\"p1079\"}}},{\"type\":\"object\",\"name\":\"Grid\",\"id\":\"p1088\",\"attributes\":{\"dimension\":1,\"axis\":{\"id\":\"p1084\"}}},{\"type\":\"object\",\"name\":\"Legend\",\"id\":\"p1111\",\"attributes\":{\"location\":\"bottom_left\",\"orientation\":\"horizontal\",\"items\":[{\"type\":\"object\",\"name\":\"LegendItem\",\"id\":\"p1112\",\"attributes\":{\"label\":{\"type\":\"value\",\"value\":\"sin\"},\"renderers\":[{\"id\":\"p1108\"}]}},{\"type\":\"object\",\"name\":\"LegendItem\",\"id\":\"p1122\",\"attributes\":{\"label\":{\"type\":\"value\",\"value\":\"cos\"},\"renderers\":[{\"id\":\"p1119\"}]}}]}}]}}]}}]}};\n",
       "  const render_items = [{\"docid\":\"9d1dcc3b-d976-4763-b337-5d67c0096c36\",\"roots\":{\"p1124\":\"a0d380c9-9b82-4130-9325-961e755b2d80\"},\"root_ids\":[\"p1124\"]}];\n",
       "  void root.Bokeh.embed.embed_items_notebook(docs_json, render_items);\n",
       "  }\n",
       "  if (root.Bokeh !== undefined) {\n",
       "    embed_document(root);\n",
       "  } else {\n",
       "    let attempts = 0;\n",
       "    const timer = setInterval(function(root) {\n",
       "      if (root.Bokeh !== undefined) {\n",
       "        clearInterval(timer);\n",
       "        embed_document(root);\n",
       "      } else {\n",
       "        attempts++;\n",
       "        if (attempts > 100) {\n",
       "          clearInterval(timer);\n",
       "          console.log(\"Bokeh: ERROR: Unable to run BokehJS code because BokehJS library is missing\");\n",
       "        }\n",
       "      }\n",
       "    }, 10, root)\n",
       "  }\n",
       "})(window);"
      ],
      "application/vnd.bokehjs_exec.v0+json": ""
     },
     "metadata": {
      "application/vnd.bokehjs_exec.v0+json": {
       "id": "p1124"
      }
     },
     "output_type": "display_data"
    }
   ],
   "source": [
    "from bokeh.models import Slider, CustomJS, GraphRenderer\n",
    "from bokeh.layouts import column\n",
    "\n",
    "fig, (line_sin, line_cos) = plot_demo()\n",
    "freq_slider = Slider(title=\"freq\", start=1, end=10, step=0.1, value=1)\n",
    "layout = column(freq_slider, fig)\n",
    "\n",
    "js_code = '''\n",
    "let freq = cb_obj.value;\n",
    "let data_sin = line_sin.data_source.data;\n",
    "let data_cos = line_cos.data_source.data;\n",
    "\n",
    "data_sin.y = data_sin.x.map(x => Math.sin(2*Math.PI*freq*x));\n",
    "data_cos.y = data_cos.x.map(x => Math.cos(2*Math.PI*freq*x));\n",
    "\n",
    "line_sin.data_source.change.emit();\n",
    "line_cos.data_source.change.emit();\n",
    "'''\n",
    "\n",
    "update_plot = CustomJS(args=dict(line_sin=line_sin, line_cos=line_cos), code=js_code)\n",
    "freq_slider.js_on_change(\"value\", update_plot)\n",
    "show(layout)"
   ]
  },
  {
   "cell_type": "markdown",
   "metadata": {},
   "source": [
    "イベントのコールバックコードはブラウザのJavascript内で実行されるため、チャートをHTMLファイルとして出力してもスライダーコントロールは正常に動作します。以下のプログラムは`layout`オブジェクトをHTMLファイルに保存し、ブラウザでそのファイルを開きます。読者は新しいページ内のスライダーをドラッグして、チャート内の曲線が正しく更新されることを確認してください。"
   ]
  },
  {
   "cell_type": "code",
   "execution_count": 7,
   "metadata": {},
   "outputs": [],
   "source": [
    "import webbrowser\n",
    "curdoc().clear()\n",
    "html_fn = save(layout, \"sincos_freq.html\", resources=CDN, title=\"Plots\");\n",
    "webbrowser.open_new_tab(html_fn);"
   ]
  },
  {
   "cell_type": "markdown",
   "metadata": {},
   "source": [
    "### Pythonでチャートの更新\n",
    "\n",
    "前述のチャート表示方法はすべて一度きりのもので、Python内でチャート全体を記述するオブジェクト構造を作成し、その構造を`JSON`形式に変換してブラウザに送信して表示します。一度表示されると、Python内でチャートを変更することはできません。以下の例では、❶`freq_slider`の`on_change()`メソッドを呼び出して、スライダーの`value`属性にコールバック関数を設定します。❷コールバック関数には3つの引数があり、それぞれ属性名、属性の元の値、新しい値です。コールバック関数内では、`data_source`属性を使用して曲線の座標を保存する`ColumnDataSource`オブジェクトを取得し、その`data`属性内のY軸座標に対応するデータを更新します。`show(layout)`を直接使用すると、スライダーとチャートを表示できますが、スライダーをドラッグしてもチャートは更新されません。これはPythonのコールバック関数がBokehのサーバー内でのみ有効であるためです。Jupyter Notebook内でコールバック関数をデバッグするために、`jupyter_bokeh`拡張ライブラリを使用できます。以下のコマンドでまず`jupyter_bokeh`ライブラリをインストールし、次に2つのJupyterLabプラグインをインストールします。`jupyter_bokeh.BokehModel`で`layout`オブジェクトをラップすると、Jupyter Notebook内でスライダーのイベントに応答できるようになります。\n",
    "\n",
    "```\n",
    "conda install jupyter_bokeh\n",
    "jupyter labextension install @jupyter-widgets/jupyterlab-manager @bokeh/jupyter_bokeh\n",
    "```\n",
    "\n",
    "スライダーをドラッグする際に右上のビジーインジケータが点滅することに注意してください。これはPythonカーネルがコールバック関数を呼び出して曲線データを計算していることを示しています。Pythonで計算を行うため、Pythonの強力なデータ処理機能を使用できます。ただし、この方法には1つの欠点があります。各Notebookは1つのPythonカーネルに対応しているため、複数のブラウザページ（例えば複数のコンピュータ）が同時にこのNotebookのアドレスにアクセスすると、カーネルは複数のクライアントを区別できないため、これらのクライアントに独立したサービスを提供できません。"
   ]
  },
  {
   "cell_type": "code",
   "execution_count": 8,
   "metadata": {},
   "outputs": [
    {
     "data": {
      "application/vnd.jupyter.widget-view+json": {
       "model_id": "a3a8820fdee843569458609c4439c783",
       "version_major": 2,
       "version_minor": 0
      },
      "text/plain": [
       "BokehModel(render_bundle={'docs_json': {'08e59fc1-9e13-4582-b7b4-11d908553faf': {'version': '3.6.3', 'title': …"
      ]
     },
     "execution_count": 8,
     "metadata": {},
     "output_type": "execute_result"
    }
   ],
   "source": [
    "import jupyter_bokeh as jbk\n",
    "\n",
    "from bokeh.models import Slider\n",
    "from bokeh.layouts import column\n",
    "\n",
    "fig, (line_sin, line_cos) = plot_demo()\n",
    "freq_slider = Slider(title=\"freq\", start=1, end=10, step=0.1, value=1)\n",
    "layout = column(freq_slider, fig)\n",
    "\n",
    "def update_plot(name, old, new): #❷\n",
    "    x = line_sin.data_source.data['x']\n",
    "    line_sin.data_source.data.update(y=np.sin(2*np.pi*new*x))\n",
    "    x = line_cos.data_source.data['x']\n",
    "    line_cos.data_source.data.update(y=np.cos(2*np.pi*new*x))\n",
    "\n",
    "freq_slider.on_change(\"value\", update_plot) #❶\n",
    "jbk.BokehModel(layout) #❸"
   ]
  },
  {
   "cell_type": "markdown",
   "metadata": {},
   "source": [
    "### Bokehサーバー\n",
    "\n",
    "Bokehが提供するWebサーバー機能を使用すると、複数のクライアントに同時に独立したサービスを提供できます。Bokehサーバーは、ユーザースクリプトファイルを別のプロセスで実行する必要があります。スクリプトファイルのディレクトリで以下のコマンドを入力してBokehサーバーを実行し、自動的にブラウザでサーバーのアドレスにアクセスします。\n",
    "\n",
    "```\n",
    "bokeh serve bokeh_serve_demo.py -show\n",
    "```\n",
    "\n",
    "以下ではNotebookのマジックコマンド`writefile`を使用して、コードをファイル`bokeh_serve_demo.py`に書き込みます。"
   ]
  },
  {
   "cell_type": "code",
   "execution_count": null,
   "metadata": {},
   "outputs": [],
   "source": [
    "%%writefile bokeh_serve_demo.py\n",
    "import numpy as np\n",
    "from bokeh.io import curdoc\n",
    "from bokeh.plotting import figure\n",
    "from bokeh.models import Slider\n",
    "from bokeh.layouts import column\n",
    "\n",
    "def plot_demo():\n",
    "    x = np.linspace(0, 1, 200)    \n",
    "    fig = figure(width=500, height=300, title=\"正弦余弦曲線\", x_range=(0, 1))\n",
    "    line_sin = fig.line(x, np.sin(2*np.pi*x), color=\"red\", legend=\"sin\", line_width=2, name=\"sin\")\n",
    "    line_cos = fig.line(x, np.cos(2*np.pi*x), color=\"green\", legend=\"cos\", line_width=2, name=\"cos\")\n",
    "    fig.legend[0].update(location=\"bottom_center\", orientation=\"horizontal\")\n",
    "    return fig, (line_sin, line_cos)\n",
    "\n",
    "def serve_demo(doc):\n",
    "    fig, (line_sin, line_cos) = plot_demo()\n",
    "    freq_slider = Slider(title=\"freq\", start=1, end=10, step=0.1, value=1)\n",
    "\n",
    "    def freq_changed(attr, old, new):\n",
    "        freq = new\n",
    "        x = line_sin.data_source.data[\"x\"]\n",
    "        y = np.sin(2*np.pi*freq*x)\n",
    "        line_sin.data_source.data = dict(x=x, y=y)\n",
    "\n",
    "        x = line_cos.data_source.data[\"x\"]\n",
    "        y = np.cos(2*np.pi*freq*x)\n",
    "        line_cos.data_source.patch({\"y\":[np.s_[:, y]]})\n",
    "        \n",
    "    freq_slider.on_change(\"value\", freq_changed)\n",
    "\n",
    "    layout = column(freq_slider, fig)\n",
    "    doc.add_root(layout)\n",
    "    \n",
    "serve_demo(curdoc())"
   ]
  },
  {
   "cell_type": "markdown",
   "metadata": {},
   "source": [
    "以下の図に示すように、ブラウザで新しいウィンドウを開いてサーバーのアドレスにアクセスするたびに、新しい実行環境でプログラム全体が再実行され、毎回新しい`Document`オブジェクトが作成され、クライアントとやり取りします。Pythonの`Document`オブジェクトはブラウザに送信され、Javascriptで同じ構造の`Document`オブジェクトが作成されます。そのため、各ユーザーは独立してスライダーの位置を変更し、異なる周波数の波形を表示することができます。\n",
    "\n",
    "![](images/bokeh_server.svg)"
   ]
  },
  {
   "cell_type": "markdown",
   "metadata": {},
   "source": [
    "### Notebookにサーバーを埋め込む\n",
    "\n",
    "Notebookで`show()`に渡される引数が関数オブジェクトの場合、カーネルプロセス内でBokehサーバーが作成され、新しい`Document`オブジェクトがその関数に渡されます。この方法では、Bokehが提供するコントロールのみを使用でき、ipywidgetsのコントロールは使用できません。Notebookサーバーのアドレスがデフォルトの`'localhost:8888'`でない場合、そのアドレスを`show()`の`notebook_url`パラメータに渡す必要があります。\n",
    "\n",
    "この方法を使用して、Notebook内でBokehアプリケーションをデバッグし、プログラムが正しく動作することを確認した後、ファイルとして保存し、前述の方法で個別のサーバーを実行することができます。"
   ]
  },
  {
   "cell_type": "code",
   "execution_count": 9,
   "metadata": {},
   "outputs": [
    {
     "data": {
      "application/vnd.bokehjs_exec.v0+json": "",
      "text/html": [
       "<script id=\"ed0fc76a-adc0-44a4-8146-5d410f6d7c0c\">\n",
       "  (function() {\n",
       "    const xhr = new XMLHttpRequest()\n",
       "    xhr.responseType = 'blob';\n",
       "    xhr.open('GET', \"http://localhost:59461/autoload.js?bokeh-autoload-element=ed0fc76a-adc0-44a4-8146-5d410f6d7c0c&bokeh-absolute-url=http://localhost:59461&resources=none\", true);\n",
       "    xhr.withCredentials = false;\n",
       "    xhr.onload = function (event) {\n",
       "      const script = document.createElement('script');\n",
       "      const src = URL.createObjectURL(event.target.response);\n",
       "      script.src = src;\n",
       "      document.body.appendChild(script);\n",
       "    };\n",
       "    xhr.send();\n",
       "  })();\n",
       "</script>"
      ]
     },
     "metadata": {
      "application/vnd.bokehjs_exec.v0+json": {
       "server_id": "dbc11adca3974d8d807ba549e4f09035"
      }
     },
     "output_type": "display_data"
    }
   ],
   "source": [
    "def serve_demo(doc):\n",
    "    fig, (line_sin, line_cos) = plot_demo()\n",
    "    freq_slider = Slider(title=\"freq\", start=1, end=10, step=0.1, value=1)\n",
    "\n",
    "    def freq_changed(attr, old, new):\n",
    "        freq = new\n",
    "        x = line_sin.data_source.data[\"x\"]\n",
    "        y = np.sin(2*np.pi*freq*x)\n",
    "        line_sin.data_source.data = dict(x=x, y=y)\n",
    "\n",
    "        x = line_cos.data_source.data[\"x\"]\n",
    "        y = np.cos(2*np.pi*freq*x)\n",
    "        line_cos.data_source.patch({\"y\": [np.s_[:, y]]})\n",
    "\n",
    "    freq_slider.on_change(\"value\", freq_changed)\n",
    "\n",
    "    layout = column(freq_slider, fig)\n",
    "    doc.add_root(layout)\n",
    "\n",
    "show(serve_demo)"
   ]
  },
  {
   "cell_type": "markdown",
   "metadata": {},
   "source": [
    "## Bokehのモデル\n",
    "\n",
    "Bokehではすべてのクラスが`Model`クラスを継承しており、`Model`クラスは`HasProps`クラスを継承しています。`HasProps`を継承したクラスはBokeh属性を定義できます。Bokeh属性はデータ型、データ検証、デフォルト値、ヘルプテキストなどの多くの機能をサポートしています。以下のプログラムは、チャートオブジェクトを表す`figure`クラスの継承リストを表示します："
   ]
  },
  {
   "cell_type": "code",
   "execution_count": 10,
   "metadata": {},
   "outputs": [
    {
     "data": {
      "text/plain": [
       "[bokeh.plotting._figure.figure,\n",
       " bokeh.models.plots.Plot,\n",
       " bokeh.models.layouts.LayoutDOM,\n",
       " bokeh.models.ui.panes.Pane,\n",
       " bokeh.models.ui.ui_element.UIElement,\n",
       " bokeh.models.ui.ui_element.StyledElement,\n",
       " bokeh.model.model.Model,\n",
       " bokeh.core.has_props.HasProps,\n",
       " bokeh.core.serialization.Serializable,\n",
       " bokeh.model.util.HasDocumentRef,\n",
       " bokeh.util.callback_manager.PropertyCallbackManager,\n",
       " bokeh.util.callback_manager.EventCallbackManager,\n",
       " bokeh.plotting.glyph_api.GlyphAPI,\n",
       " object]"
      ]
     },
     "execution_count": 10,
     "metadata": {},
     "output_type": "execute_result"
    }
   ],
   "source": [
    "from bokeh.plotting import figure\n",
    "figure.mro()"
   ]
  },
  {
   "cell_type": "markdown",
   "metadata": {},
   "source": [
    "Bokehのチャートオブジェクトは多くの`Model`オブジェクトで構成されており、本書で提供されている`GraphvizBokeh`を使用すると、各`Model`オブジェクト間の関係を簡単に表示できます。以下では、チャートオブジェクトを作成し、それに折れ線と散布点を追加します。その後、`GraphvizBokeh`を使用して、このチャートオブジェクトの構造を表示します。次のグラフでは、実線の矢印はBokeh属性を表し、点線の矢印は`@property`で定義された属性を表し、灰色のノードはリスト、辞書、配列などのオブジェクトを表します。例えば、X軸を表す`LinearAxis`オブジェクトは`fig.xaxis[0]`または`fig.below[0]`でアクセスできます。ここで、`xaxis`は`@property`で定義された属性であり、`below`はBokeh属性です。\n",
    "\n",
    "`Figure`内のすべての描画関連オブジェクトは`renderers`リストに保存されており、この例では折れ線と散布点を表す`GlyphRenderer`オブジェクトが含まれています。`GlyphRenderer`オブジェクトの`glyph`、`nanselection_glyph`属性は図形オブジェクトであり、`nanselection_glyph`属性は選択されていない図形を描画するために使用されます。各図形オブジェクトは、色、座標などの描画関連の属性を保存しています。これらの情報は数値であるか、データソース内の列名である可能性があります。属性`data_source`はデータを保存するデータソース`ColumnDataSource`オブジェクトです。"
   ]
  },
  {
   "cell_type": "code",
   "execution_count": 11,
   "metadata": {},
   "outputs": [
    {
     "data": {
      "image/svg+xml": [
       "<?xml version=\"1.0\" encoding=\"UTF-8\" standalone=\"no\"?>\n",
       "<!DOCTYPE svg PUBLIC \"-//W3C//DTD SVG 1.1//EN\"\n",
       " \"http://www.w3.org/Graphics/SVG/1.1/DTD/svg11.dtd\">\n",
       "<!-- Generated by graphviz version 2.38.0 (20140413.2041)\n",
       " -->\n",
       "<!-- Title: structs Pages: 1 -->\n",
       "<svg width=\"882pt\" height=\"956pt\"\n",
       " viewBox=\"0.00 0.00 882.00 956.00\" xmlns=\"http://www.w3.org/2000/svg\" xmlns:xlink=\"http://www.w3.org/1999/xlink\">\n",
       "<g id=\"graph0\" class=\"graph\" transform=\"scale(1 1) rotate(0) translate(4 952)\">\n",
       "<title>structs</title>\n",
       "<polygon fill=\"white\" stroke=\"none\" points=\"-4,4 -4,-952 878,-952 878,4 -4,4\"/>\n",
       "<!-- obj_2727030373312 -->\n",
       "<g id=\"node1\" class=\"node\"><title>obj_2727030373312</title>\n",
       "<polygon fill=\"white\" stroke=\"black\" points=\"0,-471.5 0,-507.5 54,-507.5 54,-471.5 0,-471.5\"/>\n",
       "<text text-anchor=\"middle\" x=\"27\" y=\"-485.8\" font-family=\"Times New Roman,serif\" font-size=\"14.00\">figure</text>\n",
       "</g>\n",
       "<!-- obj_2727030373312&#45;&gt;obj_2727030373312 -->\n",
       "<g id=\"edge44\" class=\"edge\"><title>obj_2727030373312&#45;&gt;obj_2727030373312</title>\n",
       "<path fill=\"none\" stroke=\"black\" stroke-width=\"0.5\" stroke-dasharray=\"5,2\" d=\"M15.4951,-507.529C13.54,-517.194 17.375,-526 27,-526 33.0156,-526 36.7695,-522.56 38.2617,-517.621\"/>\n",
       "<polygon fill=\"black\" stroke=\"black\" stroke-width=\"0.5\" points=\"41.7628,-517.61 38.5049,-507.529 34.7649,-517.441 41.7628,-517.61\"/>\n",
       "<text text-anchor=\"middle\" x=\"27\" y=\"-529\" font-family=\"Times New Roman,serif\" font-size=\"10.00\">plot</text>\n",
       "</g>\n",
       "<!-- obj_2727030816944 -->\n",
       "<g id=\"node2\" class=\"node\"><title>obj_2727030816944</title>\n",
       "<polygon fill=\"white\" stroke=\"black\" points=\"147,-883.5 147,-919.5 201,-919.5 201,-883.5 147,-883.5\"/>\n",
       "<text text-anchor=\"middle\" x=\"174\" y=\"-897.8\" font-family=\"Times New Roman,serif\" font-size=\"14.00\">Title</text>\n",
       "</g>\n",
       "<!-- obj_2727030373312&#45;&gt;obj_2727030816944 -->\n",
       "<g id=\"edge2\" class=\"edge\"><title>obj_2727030373312&#45;&gt;obj_2727030816944</title>\n",
       "<path fill=\"none\" stroke=\"black\" stroke-width=\"0.5\" d=\"M27.6908,-507.769C27.5474,-554.418 31.247,-680.921 72,-775.5 89.018,-814.995 121.906,-852.4 145.534,-876.038\"/>\n",
       "<polygon fill=\"black\" stroke=\"black\" stroke-width=\"0.5\" points=\"143.259,-878.709 152.849,-883.214 148.162,-873.712 143.259,-878.709\"/>\n",
       "<text text-anchor=\"middle\" x=\"91\" y=\"-837.5\" font-family=\"Times New Roman,serif\" font-size=\"10.00\">title</text>\n",
       "</g>\n",
       "<!-- obj_2727030374080 -->\n",
       "<g id=\"node4\" class=\"node\"><title>obj_2727030374080</title>\n",
       "<polygon fill=\"white\" stroke=\"black\" points=\"141,-801.5 141,-837.5 207,-837.5 207,-801.5 141,-801.5\"/>\n",
       "<text text-anchor=\"middle\" x=\"174\" y=\"-815.8\" font-family=\"Times New Roman,serif\" font-size=\"14.00\">Range1d</text>\n",
       "</g>\n",
       "<!-- obj_2727030373312&#45;&gt;obj_2727030374080 -->\n",
       "<g id=\"edge5\" class=\"edge\"><title>obj_2727030373312&#45;&gt;obj_2727030374080</title>\n",
       "<path fill=\"none\" stroke=\"black\" stroke-width=\"0.5\" d=\"M28.4702,-507.779C30.1376,-546.621 37.7044,-639.392 72,-707.5 89.3508,-741.957 120.187,-773.852 143.238,-794.72\"/>\n",
       "<polygon fill=\"black\" stroke=\"black\" stroke-width=\"0.5\" points=\"140.922,-797.344 150.725,-801.362 145.567,-792.108 140.922,-797.344\"/>\n",
       "<text text-anchor=\"middle\" x=\"91\" y=\"-763.5\" font-family=\"Times New Roman,serif\" font-size=\"10.00\">x_range</text>\n",
       "</g>\n",
       "<!-- obj_2727030372928 -->\n",
       "<g id=\"node7\" class=\"node\"><title>obj_2727030372928</title>\n",
       "<polygon fill=\"white\" stroke=\"black\" points=\"128,-712.5 128,-748.5 220,-748.5 220,-712.5 128,-712.5\"/>\n",
       "<text text-anchor=\"middle\" x=\"174\" y=\"-726.8\" font-family=\"Times New Roman,serif\" font-size=\"14.00\">DataRange1d</text>\n",
       "</g>\n",
       "<!-- obj_2727030373312&#45;&gt;obj_2727030372928 -->\n",
       "<g id=\"edge8\" class=\"edge\"><title>obj_2727030373312&#45;&gt;obj_2727030372928</title>\n",
       "<path fill=\"none\" stroke=\"black\" stroke-width=\"0.5\" d=\"M28.8701,-507.689C31.2248,-540.234 39.926,-609.421 72,-656.5 86.1794,-677.313 108.211,-694.444 128.083,-706.962\"/>\n",
       "<polygon fill=\"black\" stroke=\"black\" stroke-width=\"0.5\" points=\"126.366,-710.015 136.731,-712.214 130,-704.032 126.366,-710.015\"/>\n",
       "<text text-anchor=\"middle\" x=\"91\" y=\"-695.5\" font-family=\"Times New Roman,serif\" font-size=\"10.00\">y_range</text>\n",
       "</g>\n",
       "<!-- obj_2727030374272 -->\n",
       "<g id=\"node9\" class=\"node\"><title>obj_2727030374272</title>\n",
       "<polygon fill=\"white\" stroke=\"black\" points=\"133.5,-648.5 133.5,-684.5 214.5,-684.5 214.5,-648.5 133.5,-648.5\"/>\n",
       "<text text-anchor=\"middle\" x=\"174\" y=\"-662.8\" font-family=\"Times New Roman,serif\" font-size=\"14.00\">LinearScale</text>\n",
       "</g>\n",
       "<!-- obj_2727030373312&#45;&gt;obj_2727030374272 -->\n",
       "<g id=\"edge9\" class=\"edge\"><title>obj_2727030373312&#45;&gt;obj_2727030374272</title>\n",
       "<path fill=\"none\" stroke=\"black\" stroke-width=\"0.5\" d=\"M30.2097,-507.583C34.2549,-533.75 45.0658,-582.433 72,-613.5 85.8711,-629.5 105.777,-641.38 124.255,-649.792\"/>\n",
       "<polygon fill=\"black\" stroke=\"black\" stroke-width=\"0.5\" points=\"122.894,-653.016 133.463,-653.761 125.665,-646.588 122.894,-653.016\"/>\n",
       "<text text-anchor=\"middle\" x=\"91\" y=\"-644.5\" font-family=\"Times New Roman,serif\" font-size=\"10.00\">x_scale</text>\n",
       "</g>\n",
       "<!-- obj_2727030819104 -->\n",
       "<g id=\"node10\" class=\"node\"><title>obj_2727030819104</title>\n",
       "<polygon fill=\"white\" stroke=\"black\" points=\"133.5,-593.5 133.5,-629.5 214.5,-629.5 214.5,-593.5 133.5,-593.5\"/>\n",
       "<text text-anchor=\"middle\" x=\"174\" y=\"-607.8\" font-family=\"Times New Roman,serif\" font-size=\"14.00\">LinearScale</text>\n",
       "</g>\n",
       "<!-- obj_2727030373312&#45;&gt;obj_2727030819104 -->\n",
       "<g id=\"edge10\" class=\"edge\"><title>obj_2727030373312&#45;&gt;obj_2727030819104</title>\n",
       "<path fill=\"none\" stroke=\"black\" stroke-width=\"0.5\" d=\"M32.5587,-507.582C38.4573,-527.414 50.607,-558.89 72,-577.5 86.4869,-590.102 105.827,-598.074 123.704,-603.099\"/>\n",
       "<polygon fill=\"black\" stroke=\"black\" stroke-width=\"0.5\" points=\"122.889,-606.504 133.445,-605.599 124.629,-599.723 122.889,-606.504\"/>\n",
       "<text text-anchor=\"middle\" x=\"91\" y=\"-601.5\" font-family=\"Times New Roman,serif\" font-size=\"10.00\">y_scale</text>\n",
       "</g>\n",
       "<!-- obj_2727030885504 -->\n",
       "<g id=\"node11\" class=\"node\"><title>obj_2727030885504</title>\n",
       "<polygon fill=\"gray\" stroke=\"black\" points=\"301,-589.5 301,-727.5 355,-727.5 355,-589.5 301,-589.5\"/>\n",
       "<text text-anchor=\"middle\" x=\"328\" y=\"-712.3\" font-family=\"Times New Roman,serif\" font-size=\"14.00\">*</text>\n",
       "<polyline fill=\"none\" stroke=\"black\" points=\"301,-704.5 355,-704.5 \"/>\n",
       "<text text-anchor=\"middle\" x=\"328\" y=\"-689.3\" font-family=\"Times New Roman,serif\" font-size=\"14.00\">*</text>\n",
       "<polyline fill=\"none\" stroke=\"black\" points=\"301,-681.5 355,-681.5 \"/>\n",
       "<text text-anchor=\"middle\" x=\"328\" y=\"-666.3\" font-family=\"Times New Roman,serif\" font-size=\"14.00\">*</text>\n",
       "<polyline fill=\"none\" stroke=\"black\" points=\"301,-658.5 355,-658.5 \"/>\n",
       "<text text-anchor=\"middle\" x=\"328\" y=\"-643.3\" font-family=\"Times New Roman,serif\" font-size=\"14.00\">*</text>\n",
       "<polyline fill=\"none\" stroke=\"black\" points=\"301,-635.5 355,-635.5 \"/>\n",
       "<text text-anchor=\"middle\" x=\"328\" y=\"-620.3\" font-family=\"Times New Roman,serif\" font-size=\"14.00\">*</text>\n",
       "<polyline fill=\"none\" stroke=\"black\" points=\"301,-612.5 355,-612.5 \"/>\n",
       "<text text-anchor=\"middle\" x=\"328\" y=\"-597.3\" font-family=\"Times New Roman,serif\" font-size=\"14.00\">*</text>\n",
       "</g>\n",
       "<!-- obj_2727030373312&#45;&gt;obj_2727030885504 -->\n",
       "<g id=\"edge17\" class=\"edge\"><title>obj_2727030373312&#45;&gt;obj_2727030885504</title>\n",
       "<path fill=\"none\" stroke=\"black\" stroke-width=\"0.5\" stroke-dasharray=\"5,2\" d=\"M54.2107,-505.17C59.9915,-508.407 66.1401,-511.684 72,-514.5 87.9558,-522.169 204.684,-564.622 220,-573.5 246.274,-588.73 273.026,-609.982 293.208,-627.425\"/>\n",
       "<polygon fill=\"black\" stroke=\"black\" stroke-width=\"0.5\" points=\"291.053,-630.19 300.882,-634.147 295.666,-624.925 291.053,-630.19\"/>\n",
       "<text text-anchor=\"middle\" x=\"174\" y=\"-576.5\" font-family=\"Times New Roman,serif\" font-size=\"10.00\">tools</text>\n",
       "</g>\n",
       "<!-- obj_2727030883104 -->\n",
       "<g id=\"node18\" class=\"node\"><title>obj_2727030883104</title>\n",
       "<polygon fill=\"gray\" stroke=\"black\" points=\"147,-425.5 147,-471.5 201,-471.5 201,-425.5 147,-425.5\"/>\n",
       "<text text-anchor=\"middle\" x=\"174\" y=\"-456.3\" font-family=\"Times New Roman,serif\" font-size=\"14.00\">*</text>\n",
       "<polyline fill=\"none\" stroke=\"black\" points=\"147,-448.5 201,-448.5 \"/>\n",
       "<text text-anchor=\"middle\" x=\"174\" y=\"-433.3\" font-family=\"Times New Roman,serif\" font-size=\"14.00\">*</text>\n",
       "</g>\n",
       "<!-- obj_2727030373312&#45;&gt;obj_2727030883104 -->\n",
       "<g id=\"edge37\" class=\"edge\"><title>obj_2727030373312&#45;&gt;obj_2727030883104</title>\n",
       "<path fill=\"none\" stroke=\"black\" stroke-width=\"0.5\" d=\"M54.2584,-482.075C77.4577,-475.515 111.499,-465.89 137.192,-458.625\"/>\n",
       "<polygon fill=\"black\" stroke=\"black\" stroke-width=\"0.5\" points=\"138.267,-461.958 146.937,-455.87 136.362,-455.223 138.267,-461.958\"/>\n",
       "<text text-anchor=\"middle\" x=\"91\" y=\"-478.5\" font-family=\"Times New Roman,serif\" font-size=\"10.00\">renderers</text>\n",
       "</g>\n",
       "<!-- obj_2727031410272 -->\n",
       "<g id=\"node37\" class=\"node\"><title>obj_2727031410272</title>\n",
       "<polygon fill=\"gray\" stroke=\"black\" points=\"147,-370.5 147,-406.5 201,-406.5 201,-370.5 147,-370.5\"/>\n",
       "<text text-anchor=\"middle\" x=\"174\" y=\"-384.8\" font-family=\"Times New Roman,serif\" font-size=\"14.00\">*</text>\n",
       "</g>\n",
       "<!-- obj_2727030373312&#45;&gt;obj_2727031410272 -->\n",
       "<g id=\"edge41\" class=\"edge\"><title>obj_2727030373312&#45;&gt;obj_2727031410272</title>\n",
       "<path fill=\"none\" stroke=\"black\" stroke-width=\"0.5\" stroke-dasharray=\"5,2\" d=\"M47.616,-471.425C55.0464,-464.885 63.7145,-457.611 72,-451.5 95.6207,-434.079 103.096,-432.031 128,-416.5 131.33,-414.423 134.8,-412.261 138.271,-410.1\"/>\n",
       "<polygon fill=\"black\" stroke=\"black\" stroke-width=\"0.5\" points=\"140.18,-413.034 146.82,-404.778 136.481,-407.091 140.18,-413.034\"/>\n",
       "<text text-anchor=\"middle\" x=\"91\" y=\"-454.5\" font-family=\"Times New Roman,serif\" font-size=\"10.00\">xaxis</text>\n",
       "</g>\n",
       "<!-- obj_2727031410672 -->\n",
       "<g id=\"node41\" class=\"node\"><title>obj_2727031410672</title>\n",
       "<polygon fill=\"gray\" stroke=\"black\" points=\"147,-260.5 147,-296.5 201,-296.5 201,-260.5 147,-260.5\"/>\n",
       "<text text-anchor=\"middle\" x=\"174\" y=\"-274.8\" font-family=\"Times New Roman,serif\" font-size=\"14.00\">*</text>\n",
       "</g>\n",
       "<!-- obj_2727030373312&#45;&gt;obj_2727031410672 -->\n",
       "<g id=\"edge43\" class=\"edge\"><title>obj_2727030373312&#45;&gt;obj_2727031410672</title>\n",
       "<path fill=\"none\" stroke=\"black\" stroke-width=\"0.5\" stroke-dasharray=\"5,2\" d=\"M31.4257,-471.239C36.9198,-445.136 49.445,-396.351 72,-360.5 88.4576,-334.34 116.178,-312.718 138.419,-298.257\"/>\n",
       "<polygon fill=\"black\" stroke=\"black\" stroke-width=\"0.5\" points=\"140.353,-301.175 146.947,-292.883 136.621,-295.253 140.353,-301.175\"/>\n",
       "<text text-anchor=\"middle\" x=\"91\" y=\"-363.5\" font-family=\"Times New Roman,serif\" font-size=\"10.00\">yaxis</text>\n",
       "</g>\n",
       "<!-- obj_2727030818768 -->\n",
       "<g id=\"node43\" class=\"node\"><title>obj_2727030818768</title>\n",
       "<polygon fill=\"white\" stroke=\"black\" points=\"143,-490.5 143,-526.5 205,-526.5 205,-490.5 143,-490.5\"/>\n",
       "<text text-anchor=\"middle\" x=\"174\" y=\"-504.8\" font-family=\"Times New Roman,serif\" font-size=\"14.00\">Toolbar</text>\n",
       "</g>\n",
       "<!-- obj_2727030373312&#45;&gt;obj_2727030818768 -->\n",
       "<g id=\"edge46\" class=\"edge\"><title>obj_2727030373312&#45;&gt;obj_2727030818768</title>\n",
       "<path fill=\"none\" stroke=\"black\" stroke-width=\"0.5\" d=\"M54.2584,-492.941C76.2074,-495.817 107.861,-499.965 132.968,-503.254\"/>\n",
       "<polygon fill=\"black\" stroke=\"black\" stroke-width=\"0.5\" points=\"132.56,-506.731 142.93,-504.56 133.469,-499.79 132.56,-506.731\"/>\n",
       "<text text-anchor=\"middle\" x=\"91\" y=\"-502.5\" font-family=\"Times New Roman,serif\" font-size=\"10.00\">toolbar</text>\n",
       "</g>\n",
       "<!-- obj_2727030884864 -->\n",
       "<g id=\"node44\" class=\"node\"><title>obj_2727030884864</title>\n",
       "<polygon fill=\"gray\" stroke=\"black\" points=\"147,-205.5 147,-241.5 201,-241.5 201,-205.5 147,-205.5\"/>\n",
       "<text text-anchor=\"middle\" x=\"174\" y=\"-219.8\" font-family=\"Times New Roman,serif\" font-size=\"14.00\">*</text>\n",
       "</g>\n",
       "<!-- obj_2727030373312&#45;&gt;obj_2727030884864 -->\n",
       "<g id=\"edge48\" class=\"edge\"><title>obj_2727030373312&#45;&gt;obj_2727030884864</title>\n",
       "<path fill=\"none\" stroke=\"black\" stroke-width=\"0.5\" d=\"M29.1037,-471.436C31.8688,-437.198 41.2555,-361.376 72,-306.5 87.2773,-279.231 115.347,-257.281 138.025,-242.819\"/>\n",
       "<polygon fill=\"black\" stroke=\"black\" stroke-width=\"0.5\" points=\"140.047,-245.684 146.728,-237.46 136.377,-239.723 140.047,-245.684\"/>\n",
       "<text text-anchor=\"middle\" x=\"91\" y=\"-309.5\" font-family=\"Times New Roman,serif\" font-size=\"10.00\">left</text>\n",
       "</g>\n",
       "<!-- obj_2727030885824 -->\n",
       "<g id=\"node45\" class=\"node\"><title>obj_2727030885824</title>\n",
       "<polygon fill=\"gray\" stroke=\"black\" points=\"147,-315.5 147,-351.5 201,-351.5 201,-315.5 147,-315.5\"/>\n",
       "<text text-anchor=\"middle\" x=\"174\" y=\"-329.8\" font-family=\"Times New Roman,serif\" font-size=\"14.00\">*</text>\n",
       "</g>\n",
       "<!-- obj_2727030373312&#45;&gt;obj_2727030885824 -->\n",
       "<g id=\"edge50\" class=\"edge\"><title>obj_2727030373312&#45;&gt;obj_2727030885824</title>\n",
       "<path fill=\"none\" stroke=\"black\" stroke-width=\"0.5\" d=\"M36.327,-471.381C44.2611,-455.108 57.1717,-431.002 72,-412.5 93.0525,-386.232 101.153,-381.81 128,-361.5 131.21,-359.071 134.638,-356.655 138.114,-354.318\"/>\n",
       "<polygon fill=\"black\" stroke=\"black\" stroke-width=\"0.5\" points=\"140.276,-357.087 146.761,-348.709 136.467,-351.214 140.276,-357.087\"/>\n",
       "<text text-anchor=\"middle\" x=\"91\" y=\"-415.5\" font-family=\"Times New Roman,serif\" font-size=\"10.00\">below</text>\n",
       "</g>\n",
       "<!-- obj_2727031411072 -->\n",
       "<g id=\"node46\" class=\"node\"><title>obj_2727031411072</title>\n",
       "<polygon fill=\"gray\" stroke=\"black\" points=\"147,-150.5 147,-186.5 201,-186.5 201,-150.5 147,-150.5\"/>\n",
       "<text text-anchor=\"middle\" x=\"174\" y=\"-164.8\" font-family=\"Times New Roman,serif\" font-size=\"14.00\">*</text>\n",
       "</g>\n",
       "<!-- obj_2727030373312&#45;&gt;obj_2727031411072 -->\n",
       "<g id=\"edge55\" class=\"edge\"><title>obj_2727030373312&#45;&gt;obj_2727031411072</title>\n",
       "<path fill=\"none\" stroke=\"black\" stroke-width=\"0.5\" stroke-dasharray=\"5,2\" d=\"M27.6458,-471.416C27.5779,-429.692 31.7443,-324.529 72,-249.5 86.729,-222.048 115.115,-200.579 138.052,-186.66\"/>\n",
       "<polygon fill=\"black\" stroke=\"black\" stroke-width=\"0.5\" points=\"139.983,-189.586 146.854,-181.521 136.453,-183.541 139.983,-189.586\"/>\n",
       "<text text-anchor=\"middle\" x=\"91\" y=\"-252.5\" font-family=\"Times New Roman,serif\" font-size=\"10.00\">legend</text>\n",
       "</g>\n",
       "<!-- obj_2727031409152 -->\n",
       "<g id=\"node51\" class=\"node\"><title>obj_2727031409152</title>\n",
       "<polygon fill=\"gray\" stroke=\"black\" points=\"147,-78.5 147,-124.5 201,-124.5 201,-78.5 147,-78.5\"/>\n",
       "<text text-anchor=\"middle\" x=\"174\" y=\"-109.3\" font-family=\"Times New Roman,serif\" font-size=\"14.00\">*</text>\n",
       "<polyline fill=\"none\" stroke=\"black\" points=\"147,-101.5 201,-101.5 \"/>\n",
       "<text text-anchor=\"middle\" x=\"174\" y=\"-86.3\" font-family=\"Times New Roman,serif\" font-size=\"14.00\">*</text>\n",
       "</g>\n",
       "<!-- obj_2727030373312&#45;&gt;obj_2727031409152 -->\n",
       "<g id=\"edge58\" class=\"edge\"><title>obj_2727030373312&#45;&gt;obj_2727031409152</title>\n",
       "<path fill=\"none\" stroke=\"black\" stroke-width=\"0.5\" stroke-dasharray=\"5,2\" d=\"M29.1176,-471.334C32.8497,-414.606 46.1315,-241.618 72,-192.5 87.2137,-163.613 115.475,-139.374 138.242,-123.195\"/>\n",
       "<polygon fill=\"black\" stroke=\"black\" stroke-width=\"0.5\" points=\"140.411,-125.951 146.66,-117.396 136.439,-120.187 140.411,-125.951\"/>\n",
       "<text text-anchor=\"middle\" x=\"91\" y=\"-195.5\" font-family=\"Times New Roman,serif\" font-size=\"10.00\">grid</text>\n",
       "</g>\n",
       "<!-- obj_2727017318656 -->\n",
       "<g id=\"node3\" class=\"node\"><title>obj_2727017318656</title>\n",
       "<polygon fill=\"white\" stroke=\"black\" points=\"294,-911.5 294,-947.5 362,-947.5 362,-911.5 294,-911.5\"/>\n",
       "<text text-anchor=\"middle\" x=\"328\" y=\"-925.8\" font-family=\"Times New Roman,serif\" font-size=\"14.00\">&#39;example&#39;</text>\n",
       "</g>\n",
       "<!-- obj_2727030816944&#45;&gt;obj_2727017318656 -->\n",
       "<g id=\"edge1\" class=\"edge\"><title>obj_2727030816944&#45;&gt;obj_2727017318656</title>\n",
       "<path fill=\"none\" stroke=\"black\" stroke-width=\"0.5\" d=\"M201.13,-906.313C223.86,-910.501 257.246,-916.651 283.923,-921.565\"/>\n",
       "<polygon fill=\"black\" stroke=\"black\" stroke-width=\"0.5\" points=\"283.314,-925.011 293.782,-923.381 284.582,-918.127 283.314,-925.011\"/>\n",
       "<text text-anchor=\"middle\" x=\"248.5\" y=\"-918.5\" font-family=\"Times New Roman,serif\" font-size=\"10.00\">text</text>\n",
       "</g>\n",
       "<!-- obj_140718360111544 -->\n",
       "<g id=\"node5\" class=\"node\"><title>obj_140718360111544</title>\n",
       "<polygon fill=\"white\" stroke=\"black\" points=\"301,-856.5 301,-892.5 355,-892.5 355,-856.5 301,-856.5\"/>\n",
       "<text text-anchor=\"middle\" x=\"328\" y=\"-870.8\" font-family=\"Times New Roman,serif\" font-size=\"14.00\">1</text>\n",
       "</g>\n",
       "<!-- obj_2727030374080&#45;&gt;obj_140718360111544 -->\n",
       "<g id=\"edge3\" class=\"edge\"><title>obj_2727030374080&#45;&gt;obj_140718360111544</title>\n",
       "<path fill=\"none\" stroke=\"black\" stroke-width=\"0.5\" d=\"M207.235,-831.164C231.854,-840.072 265.766,-852.343 291.222,-861.554\"/>\n",
       "<polygon fill=\"black\" stroke=\"black\" stroke-width=\"0.5\" points=\"290.276,-864.934 300.87,-865.045 292.658,-858.351 290.276,-864.934\"/>\n",
       "<text text-anchor=\"middle\" x=\"248.5\" y=\"-851.5\" font-family=\"Times New Roman,serif\" font-size=\"10.00\">start</text>\n",
       "</g>\n",
       "<!-- obj_140718360111640 -->\n",
       "<g id=\"node6\" class=\"node\"><title>obj_140718360111640</title>\n",
       "<polygon fill=\"white\" stroke=\"black\" points=\"301,-801.5 301,-837.5 355,-837.5 355,-801.5 301,-801.5\"/>\n",
       "<text text-anchor=\"middle\" x=\"328\" y=\"-815.8\" font-family=\"Times New Roman,serif\" font-size=\"14.00\">4</text>\n",
       "</g>\n",
       "<!-- obj_2727030374080&#45;&gt;obj_140718360111640 -->\n",
       "<g id=\"edge4\" class=\"edge\"><title>obj_2727030374080&#45;&gt;obj_140718360111640</title>\n",
       "<path fill=\"none\" stroke=\"black\" stroke-width=\"0.5\" d=\"M207.235,-819.5C231.636,-819.5 265.167,-819.5 290.544,-819.5\"/>\n",
       "<polygon fill=\"black\" stroke=\"black\" stroke-width=\"0.5\" points=\"290.87,-823 300.87,-819.5 290.87,-816 290.87,-823\"/>\n",
       "<text text-anchor=\"middle\" x=\"248.5\" y=\"-822.5\" font-family=\"Times New Roman,serif\" font-size=\"10.00\">end</text>\n",
       "</g>\n",
       "<!-- obj_2726878800432 -->\n",
       "<g id=\"node8\" class=\"node\"><title>obj_2726878800432</title>\n",
       "<polygon fill=\"white\" stroke=\"black\" points=\"301,-746.5 301,-782.5 355,-782.5 355,-746.5 301,-746.5\"/>\n",
       "<text text-anchor=\"middle\" x=\"328\" y=\"-760.8\" font-family=\"Times New Roman,serif\" font-size=\"14.00\">nan</text>\n",
       "</g>\n",
       "<!-- obj_2727030372928&#45;&gt;obj_2726878800432 -->\n",
       "<g id=\"edge6\" class=\"edge\"><title>obj_2727030372928&#45;&gt;obj_2726878800432</title>\n",
       "<path fill=\"none\" stroke=\"black\" stroke-width=\"0.5\" d=\"M220.193,-740.609C242.755,-745.656 269.676,-751.678 290.846,-756.413\"/>\n",
       "<polygon fill=\"black\" stroke=\"black\" stroke-width=\"0.5\" points=\"290.209,-759.857 300.732,-758.624 291.738,-753.026 290.209,-759.857\"/>\n",
       "<text text-anchor=\"middle\" x=\"248.5\" y=\"-751.5\" font-family=\"Times New Roman,serif\" font-size=\"10.00\">start</text>\n",
       "</g>\n",
       "<!-- obj_2727030372928&#45;&gt;obj_2726878800432 -->\n",
       "<g id=\"edge7\" class=\"edge\"><title>obj_2727030372928&#45;&gt;obj_2726878800432</title>\n",
       "<path fill=\"none\" stroke=\"black\" stroke-width=\"0.5\" d=\"M220.367,-725.862C233.017,-725.671 246.668,-726.513 259,-729.5 262.767,-730.413 277.244,-737.774 291.878,-745.512\"/>\n",
       "<polygon fill=\"black\" stroke=\"black\" stroke-width=\"0.5\" points=\"290.444,-748.713 300.916,-750.324 293.734,-742.535 290.444,-748.713\"/>\n",
       "<text text-anchor=\"middle\" x=\"248.5\" y=\"-732.5\" font-family=\"Times New Roman,serif\" font-size=\"10.00\">end</text>\n",
       "</g>\n",
       "<!-- obj_2727030819872 -->\n",
       "<g id=\"node12\" class=\"node\"><title>obj_2727030819872</title>\n",
       "<polygon fill=\"white\" stroke=\"black\" points=\"527.5,-857.5 527.5,-893.5 592.5,-893.5 592.5,-857.5 527.5,-857.5\"/>\n",
       "<text text-anchor=\"middle\" x=\"560\" y=\"-871.8\" font-family=\"Times New Roman,serif\" font-size=\"14.00\">PanTool</text>\n",
       "</g>\n",
       "<!-- obj_2727030885504&#45;&gt;obj_2727030819872 -->\n",
       "<g id=\"edge11\" class=\"edge\"><title>obj_2727030885504:f0&#45;&gt;obj_2727030819872</title>\n",
       "<path fill=\"none\" stroke=\"black\" stroke-width=\"0.5\" d=\"M356,-716.5C384.056,-716.5 378.34,-743.548 397,-764.5 435.378,-807.592 446.934,-818.13 496,-848.5 502.83,-852.727 510.438,-856.603 517.939,-860.018\"/>\n",
       "<polygon fill=\"black\" stroke=\"black\" stroke-width=\"0.5\" points=\"516.75,-863.317 527.317,-864.089 519.538,-856.896 516.75,-863.317\"/>\n",
       "</g>\n",
       "<!-- obj_2727030373888 -->\n",
       "<g id=\"node13\" class=\"node\"><title>obj_2727030373888</title>\n",
       "<polygon fill=\"white\" stroke=\"black\" points=\"503.5,-802.5 503.5,-838.5 616.5,-838.5 616.5,-802.5 503.5,-802.5\"/>\n",
       "<text text-anchor=\"middle\" x=\"560\" y=\"-816.8\" font-family=\"Times New Roman,serif\" font-size=\"14.00\">WheelZoomTool</text>\n",
       "</g>\n",
       "<!-- obj_2727030885504&#45;&gt;obj_2727030373888 -->\n",
       "<g id=\"edge12\" class=\"edge\"><title>obj_2727030885504:f1&#45;&gt;obj_2727030373888</title>\n",
       "<path fill=\"none\" stroke=\"black\" stroke-width=\"0.5\" d=\"M356,-693.5C365.558,-693.5 487.67,-788.813 496,-793.5 498.8,-795.076 501.71,-796.619 504.676,-798.12\"/>\n",
       "<polygon fill=\"black\" stroke=\"black\" stroke-width=\"0.5\" points=\"503.161,-801.275 513.687,-802.484 506.212,-794.975 503.161,-801.275\"/>\n",
       "</g>\n",
       "<!-- obj_2727030374176 -->\n",
       "<g id=\"node14\" class=\"node\"><title>obj_2727030374176</title>\n",
       "<polygon fill=\"white\" stroke=\"black\" points=\"509.5,-747.5 509.5,-783.5 610.5,-783.5 610.5,-747.5 509.5,-747.5\"/>\n",
       "<text text-anchor=\"middle\" x=\"560\" y=\"-761.8\" font-family=\"Times New Roman,serif\" font-size=\"14.00\">BoxZoomTool</text>\n",
       "</g>\n",
       "<!-- obj_2727030885504&#45;&gt;obj_2727030374176 -->\n",
       "<g id=\"edge13\" class=\"edge\"><title>obj_2727030885504:f2&#45;&gt;obj_2727030374176</title>\n",
       "<path fill=\"none\" stroke=\"black\" stroke-width=\"0.5\" d=\"M356,-670.5C390.587,-670.5 464.541,-724.128 496,-738.5 499.552,-740.122 503.228,-741.773 506.938,-743.417\"/>\n",
       "<polygon fill=\"black\" stroke=\"black\" stroke-width=\"0.5\" points=\"505.617,-746.659 516.18,-747.471 508.429,-740.249 505.617,-746.659\"/>\n",
       "</g>\n",
       "<!-- obj_2727030024688 -->\n",
       "<g id=\"node15\" class=\"node\"><title>obj_2727030024688</title>\n",
       "<polygon fill=\"white\" stroke=\"black\" points=\"524.5,-692.5 524.5,-728.5 595.5,-728.5 595.5,-692.5 524.5,-692.5\"/>\n",
       "<text text-anchor=\"middle\" x=\"560\" y=\"-706.8\" font-family=\"Times New Roman,serif\" font-size=\"14.00\">SaveTool</text>\n",
       "</g>\n",
       "<!-- obj_2727030885504&#45;&gt;obj_2727030024688 -->\n",
       "<g id=\"edge14\" class=\"edge\"><title>obj_2727030885504:f3&#45;&gt;obj_2727030024688</title>\n",
       "<path fill=\"none\" stroke=\"black\" stroke-width=\"0.5\" d=\"M356,-646.5C387.093,-646.5 465.026,-674.155 514.783,-693.107\"/>\n",
       "<polygon fill=\"black\" stroke=\"black\" stroke-width=\"0.5\" points=\"513.746,-696.458 524.336,-696.77 516.252,-689.922 513.746,-696.458\"/>\n",
       "</g>\n",
       "<!-- obj_2727030820496 -->\n",
       "<g id=\"node16\" class=\"node\"><title>obj_2727030820496</title>\n",
       "<polygon fill=\"white\" stroke=\"black\" points=\"522.5,-637.5 522.5,-673.5 597.5,-673.5 597.5,-637.5 522.5,-637.5\"/>\n",
       "<text text-anchor=\"middle\" x=\"560\" y=\"-651.8\" font-family=\"Times New Roman,serif\" font-size=\"14.00\">ResetTool</text>\n",
       "</g>\n",
       "<!-- obj_2727030885504&#45;&gt;obj_2727030820496 -->\n",
       "<g id=\"edge15\" class=\"edge\"><title>obj_2727030885504:f4&#45;&gt;obj_2727030820496</title>\n",
       "<path fill=\"none\" stroke=\"black\" stroke-width=\"0.5\" d=\"M356,-623.5C410.106,-623.5 471.344,-634.729 512.279,-643.884\"/>\n",
       "<polygon fill=\"black\" stroke=\"black\" stroke-width=\"0.5\" points=\"511.703,-647.342 522.232,-646.158 513.263,-640.518 511.703,-647.342\"/>\n",
       "</g>\n",
       "<!-- obj_2727030820784 -->\n",
       "<g id=\"node17\" class=\"node\"><title>obj_2727030820784</title>\n",
       "<polygon fill=\"white\" stroke=\"black\" points=\"525,-582.5 525,-618.5 595,-618.5 595,-582.5 525,-582.5\"/>\n",
       "<text text-anchor=\"middle\" x=\"560\" y=\"-596.8\" font-family=\"Times New Roman,serif\" font-size=\"14.00\">HelpTool</text>\n",
       "</g>\n",
       "<!-- obj_2727030885504&#45;&gt;obj_2727030820784 -->\n",
       "<g id=\"edge16\" class=\"edge\"><title>obj_2727030885504:f5&#45;&gt;obj_2727030820784</title>\n",
       "<path fill=\"none\" stroke=\"black\" stroke-width=\"0.5\" d=\"M356,-600.5C410.629,-600.5 473.528,-600.5 514.653,-600.5\"/>\n",
       "<polygon fill=\"black\" stroke=\"black\" stroke-width=\"0.5\" points=\"514.878,-604 524.878,-600.5 514.878,-597 514.878,-604\"/>\n",
       "</g>\n",
       "<!-- obj_2727030820688 -->\n",
       "<g id=\"node19\" class=\"node\"><title>obj_2727030820688</title>\n",
       "<polygon fill=\"white\" stroke=\"black\" points=\"277,-442.5 277,-478.5 379,-478.5 379,-442.5 277,-442.5\"/>\n",
       "<text text-anchor=\"middle\" x=\"328\" y=\"-456.8\" font-family=\"Times New Roman,serif\" font-size=\"14.00\">GlyphRenderer</text>\n",
       "</g>\n",
       "<!-- obj_2727030883104&#45;&gt;obj_2727030820688 -->\n",
       "<g id=\"edge28\" class=\"edge\"><title>obj_2727030883104:f0&#45;&gt;obj_2727030820688</title>\n",
       "<path fill=\"none\" stroke=\"black\" stroke-width=\"0.5\" d=\"M202,-460.5C223.071,-460.5 246.14,-460.5 266.661,-460.5\"/>\n",
       "<polygon fill=\"black\" stroke=\"black\" stroke-width=\"0.5\" points=\"266.821,-464 276.821,-460.5 266.821,-457 266.821,-464\"/>\n",
       "</g>\n",
       "<!-- obj_2727030822176 -->\n",
       "<g id=\"node30\" class=\"node\"><title>obj_2727030822176</title>\n",
       "<polygon fill=\"white\" stroke=\"black\" points=\"277,-315.5 277,-351.5 379,-351.5 379,-315.5 277,-315.5\"/>\n",
       "<text text-anchor=\"middle\" x=\"328\" y=\"-329.8\" font-family=\"Times New Roman,serif\" font-size=\"14.00\">GlyphRenderer</text>\n",
       "</g>\n",
       "<!-- obj_2727030883104&#45;&gt;obj_2727030822176 -->\n",
       "<g id=\"edge36\" class=\"edge\"><title>obj_2727030883104:f1&#45;&gt;obj_2727030822176</title>\n",
       "<path fill=\"none\" stroke=\"black\" stroke-width=\"0.5\" d=\"M202,-436.5C249.859,-436.5 289.333,-390.973 310.416,-360.455\"/>\n",
       "<polygon fill=\"black\" stroke=\"black\" stroke-width=\"0.5\" points=\"313.475,-362.176 316.113,-351.914 307.652,-358.291 313.475,-362.176\"/>\n",
       "</g>\n",
       "<!-- obj_2727030820112 -->\n",
       "<g id=\"node20\" class=\"node\"><title>obj_2727030820112</title>\n",
       "<polygon fill=\"white\" stroke=\"black\" points=\"533,-472.5 533,-508.5 587,-508.5 587,-472.5 533,-472.5\"/>\n",
       "<text text-anchor=\"middle\" x=\"560\" y=\"-486.8\" font-family=\"Times New Roman,serif\" font-size=\"14.00\">Line</text>\n",
       "</g>\n",
       "<!-- obj_2727030820688&#45;&gt;obj_2727030820112 -->\n",
       "<g id=\"edge21\" class=\"edge\"><title>obj_2727030820688&#45;&gt;obj_2727030820112</title>\n",
       "<path fill=\"none\" stroke=\"black\" stroke-width=\"0.5\" d=\"M379.19,-467.047C422.443,-472.688 483.858,-480.699 522.55,-485.746\"/>\n",
       "<polygon fill=\"black\" stroke=\"black\" stroke-width=\"0.5\" points=\"522.458,-489.263 532.827,-487.086 523.364,-482.322 522.458,-489.263\"/>\n",
       "<text text-anchor=\"middle\" x=\"437.5\" y=\"-481.5\" font-family=\"Times New Roman,serif\" font-size=\"10.00\">glyph</text>\n",
       "</g>\n",
       "<!-- obj_2727030373648 -->\n",
       "<g id=\"node24\" class=\"node\"><title>obj_2727030373648</title>\n",
       "<polygon fill=\"white\" stroke=\"black\" points=\"497,-417.5 497,-453.5 623,-453.5 623,-417.5 497,-417.5\"/>\n",
       "<text text-anchor=\"middle\" x=\"560\" y=\"-431.8\" font-family=\"Times New Roman,serif\" font-size=\"14.00\">ColumnDataSource</text>\n",
       "</g>\n",
       "<!-- obj_2727030820688&#45;&gt;obj_2727030373648 -->\n",
       "<g id=\"edge25\" class=\"edge\"><title>obj_2727030820688&#45;&gt;obj_2727030373648</title>\n",
       "<path fill=\"none\" stroke=\"black\" stroke-width=\"0.5\" d=\"M379.093,-452.822C385.12,-451.991 391.195,-451.195 397,-450.5 426.349,-446.986 458.774,-443.838 486.856,-441.345\"/>\n",
       "<polygon fill=\"black\" stroke=\"black\" stroke-width=\"0.5\" points=\"487.335,-444.816 496.991,-440.456 486.724,-437.843 487.335,-444.816\"/>\n",
       "<text text-anchor=\"middle\" x=\"437.5\" y=\"-453.5\" font-family=\"Times New Roman,serif\" font-size=\"10.00\">data_source</text>\n",
       "</g>\n",
       "<!-- obj_2726879168816 -->\n",
       "<g id=\"node28\" class=\"node\"><title>obj_2726879168816</title>\n",
       "<polygon fill=\"white\" stroke=\"black\" points=\"533,-362.5 533,-398.5 587,-398.5 587,-362.5 533,-362.5\"/>\n",
       "<text text-anchor=\"middle\" x=\"560\" y=\"-376.8\" font-family=\"Times New Roman,serif\" font-size=\"14.00\">&#39;auto&#39;</text>\n",
       "</g>\n",
       "<!-- obj_2727030820688&#45;&gt;obj_2726879168816 -->\n",
       "<g id=\"edge26\" class=\"edge\"><title>obj_2727030820688&#45;&gt;obj_2726879168816</title>\n",
       "<path fill=\"none\" stroke=\"black\" stroke-width=\"0.5\" d=\"M361.986,-442.454C372.932,-436.888 385.31,-431.036 397,-426.5 439.363,-410.061 489.999,-396.628 523.248,-388.61\"/>\n",
       "<polygon fill=\"black\" stroke=\"black\" stroke-width=\"0.5\" points=\"524.06,-392.014 532.98,-386.298 522.442,-385.204 524.06,-392.014\"/>\n",
       "<text text-anchor=\"middle\" x=\"437.5\" y=\"-429.5\" font-family=\"Times New Roman,serif\" font-size=\"10.00\">selection_glyph</text>\n",
       "</g>\n",
       "<!-- obj_2727030819968 -->\n",
       "<g id=\"node29\" class=\"node\"><title>obj_2727030819968</title>\n",
       "<polygon fill=\"white\" stroke=\"black\" points=\"533,-527.5 533,-563.5 587,-563.5 587,-527.5 533,-527.5\"/>\n",
       "<text text-anchor=\"middle\" x=\"560\" y=\"-541.8\" font-family=\"Times New Roman,serif\" font-size=\"14.00\">Line</text>\n",
       "</g>\n",
       "<!-- obj_2727030820688&#45;&gt;obj_2727030819968 -->\n",
       "<g id=\"edge27\" class=\"edge\"><title>obj_2727030820688&#45;&gt;obj_2727030819968</title>\n",
       "<path fill=\"none\" stroke=\"black\" stroke-width=\"0.5\" d=\"M363.868,-478.589C374.379,-483.723 386.038,-489.106 397,-493.5 439.489,-510.53 489.901,-525.997 523.074,-535.553\"/>\n",
       "<polygon fill=\"black\" stroke=\"black\" stroke-width=\"0.5\" points=\"522.211,-538.946 532.787,-538.324 524.131,-532.215 522.211,-538.946\"/>\n",
       "<text text-anchor=\"middle\" x=\"437.5\" y=\"-523.5\" font-family=\"Times New Roman,serif\" font-size=\"10.00\">nonselection_glyph</text>\n",
       "</g>\n",
       "<!-- obj_140718360170008 -->\n",
       "<g id=\"node21\" class=\"node\"><title>obj_140718360170008</title>\n",
       "<polygon fill=\"white\" stroke=\"black\" points=\"714.5,-515.5 714.5,-551.5 768.5,-551.5 768.5,-515.5 714.5,-515.5\"/>\n",
       "<text text-anchor=\"middle\" x=\"741.5\" y=\"-529.8\" font-family=\"Times New Roman,serif\" font-size=\"14.00\">&#39;x&#39;</text>\n",
       "</g>\n",
       "<!-- obj_2727030820112&#45;&gt;obj_140718360170008 -->\n",
       "<g id=\"edge18\" class=\"edge\"><title>obj_2727030820112&#45;&gt;obj_140718360170008</title>\n",
       "<path fill=\"none\" stroke=\"black\" stroke-width=\"0.5\" d=\"M587.101,-496.753C618.075,-504.173 669.888,-516.585 704.618,-524.904\"/>\n",
       "<polygon fill=\"black\" stroke=\"black\" stroke-width=\"0.5\" points=\"703.827,-528.314 714.368,-527.24 705.458,-521.506 703.827,-528.314\"/>\n",
       "<text text-anchor=\"middle\" x=\"662\" y=\"-520.5\" font-family=\"Times New Roman,serif\" font-size=\"10.00\">x</text>\n",
       "</g>\n",
       "<!-- obj_140718360175960 -->\n",
       "<g id=\"node22\" class=\"node\"><title>obj_140718360175960</title>\n",
       "<polygon fill=\"white\" stroke=\"black\" points=\"714.5,-460.5 714.5,-496.5 768.5,-496.5 768.5,-460.5 714.5,-460.5\"/>\n",
       "<text text-anchor=\"middle\" x=\"741.5\" y=\"-474.8\" font-family=\"Times New Roman,serif\" font-size=\"14.00\">&#39;y&#39;</text>\n",
       "</g>\n",
       "<!-- obj_2727030820112&#45;&gt;obj_140718360175960 -->\n",
       "<g id=\"edge19\" class=\"edge\"><title>obj_2727030820112&#45;&gt;obj_140718360175960</title>\n",
       "<path fill=\"none\" stroke=\"black\" stroke-width=\"0.5\" d=\"M587.101,-488.755C617.942,-486.693 669.444,-483.25 704.17,-480.929\"/>\n",
       "<polygon fill=\"black\" stroke=\"black\" stroke-width=\"0.5\" points=\"704.623,-484.406 714.368,-480.247 704.156,-477.422 704.623,-484.406\"/>\n",
       "<text text-anchor=\"middle\" x=\"662\" y=\"-487.5\" font-family=\"Times New Roman,serif\" font-size=\"10.00\">y</text>\n",
       "</g>\n",
       "<!-- obj_2726921648768 -->\n",
       "<g id=\"node23\" class=\"node\"><title>obj_2726921648768</title>\n",
       "<polygon fill=\"white\" stroke=\"black\" points=\"714.5,-570.5 714.5,-606.5 768.5,-606.5 768.5,-570.5 714.5,-570.5\"/>\n",
       "<text text-anchor=\"middle\" x=\"741.5\" y=\"-584.8\" font-family=\"Times New Roman,serif\" font-size=\"14.00\">&#39;red&#39;</text>\n",
       "</g>\n",
       "<!-- obj_2727030820112&#45;&gt;obj_2726921648768 -->\n",
       "<g id=\"edge20\" class=\"edge\"><title>obj_2727030820112&#45;&gt;obj_2726921648768</title>\n",
       "<path fill=\"none\" stroke=\"black\" stroke-width=\"0.5\" d=\"M587.15,-500.444C598.762,-505.281 612.397,-511.551 624,-518.5 632.695,-523.708 633.573,-526.87 642,-532.5 662.382,-546.117 686.259,-559.746 705.4,-570.149\"/>\n",
       "<polygon fill=\"black\" stroke=\"black\" stroke-width=\"0.5\" points=\"703.916,-573.325 714.38,-574.982 707.234,-567.161 703.916,-573.325\"/>\n",
       "<text text-anchor=\"middle\" x=\"662\" y=\"-559.5\" font-family=\"Times New Roman,serif\" font-size=\"10.00\">line_color</text>\n",
       "</g>\n",
       "<!-- obj_2727030895424 -->\n",
       "<g id=\"node25\" class=\"node\"><title>obj_2727030895424</title>\n",
       "<polygon fill=\"gray\" stroke=\"black\" points=\"714.5,-395.5 714.5,-441.5 768.5,-441.5 768.5,-395.5 714.5,-395.5\"/>\n",
       "<text text-anchor=\"middle\" x=\"741.5\" y=\"-426.3\" font-family=\"Times New Roman,serif\" font-size=\"14.00\">x</text>\n",
       "<polyline fill=\"none\" stroke=\"black\" points=\"714.5,-418.5 768.5,-418.5 \"/>\n",
       "<text text-anchor=\"middle\" x=\"741.5\" y=\"-403.3\" font-family=\"Times New Roman,serif\" font-size=\"14.00\">y</text>\n",
       "</g>\n",
       "<!-- obj_2727030373648&#45;&gt;obj_2727030895424 -->\n",
       "<g id=\"edge24\" class=\"edge\"><title>obj_2727030373648&#45;&gt;obj_2727030895424</title>\n",
       "<path fill=\"none\" stroke=\"black\" stroke-width=\"0.5\" d=\"M623.025,-429.626C650.091,-427.062 680.887,-424.146 704.157,-421.942\"/>\n",
       "<polygon fill=\"black\" stroke=\"black\" stroke-width=\"0.5\" points=\"704.652,-425.411 714.278,-420.983 703.992,-418.442 704.652,-425.411\"/>\n",
       "<text text-anchor=\"middle\" x=\"662\" y=\"-430.5\" font-family=\"Times New Roman,serif\" font-size=\"10.00\">data</text>\n",
       "</g>\n",
       "<!-- obj_2727024812544 -->\n",
       "<g id=\"node26\" class=\"node\"><title>obj_2727024812544</title>\n",
       "<polygon fill=\"gray\" stroke=\"black\" points=\"820,-467.5 820,-559.5 874,-559.5 874,-467.5 820,-467.5\"/>\n",
       "<text text-anchor=\"middle\" x=\"847\" y=\"-544.3\" font-family=\"Times New Roman,serif\" font-size=\"14.00\">1</text>\n",
       "<polyline fill=\"none\" stroke=\"black\" points=\"820,-536.5 874,-536.5 \"/>\n",
       "<text text-anchor=\"middle\" x=\"847\" y=\"-521.3\" font-family=\"Times New Roman,serif\" font-size=\"14.00\">2</text>\n",
       "<polyline fill=\"none\" stroke=\"black\" points=\"820,-513.5 874,-513.5 \"/>\n",
       "<text text-anchor=\"middle\" x=\"847\" y=\"-498.3\" font-family=\"Times New Roman,serif\" font-size=\"14.00\">3</text>\n",
       "<polyline fill=\"none\" stroke=\"black\" points=\"820,-490.5 874,-490.5 \"/>\n",
       "<text text-anchor=\"middle\" x=\"847\" y=\"-475.3\" font-family=\"Times New Roman,serif\" font-size=\"14.00\">4</text>\n",
       "</g>\n",
       "<!-- obj_2727030895424&#45;&gt;obj_2727024812544 -->\n",
       "<g id=\"edge22\" class=\"edge\"><title>obj_2727030895424:fx&#45;&gt;obj_2727024812544</title>\n",
       "<path fill=\"none\" stroke=\"black\" stroke-width=\"0.5\" d=\"M769.5,-430.5C789.192,-430.5 805.211,-443.288 817.407,-458.825\"/>\n",
       "<polygon fill=\"black\" stroke=\"black\" stroke-width=\"0.5\" points=\"814.735,-461.101 823.436,-467.147 820.404,-456.995 814.735,-461.101\"/>\n",
       "</g>\n",
       "<!-- obj_2727030785216 -->\n",
       "<g id=\"node27\" class=\"node\"><title>obj_2727030785216</title>\n",
       "<polygon fill=\"gray\" stroke=\"black\" points=\"820,-356.5 820,-448.5 874,-448.5 874,-356.5 820,-356.5\"/>\n",
       "<text text-anchor=\"middle\" x=\"847\" y=\"-433.3\" font-family=\"Times New Roman,serif\" font-size=\"14.00\">4</text>\n",
       "<polyline fill=\"none\" stroke=\"black\" points=\"820,-425.5 874,-425.5 \"/>\n",
       "<text text-anchor=\"middle\" x=\"847\" y=\"-410.3\" font-family=\"Times New Roman,serif\" font-size=\"14.00\">6</text>\n",
       "<polyline fill=\"none\" stroke=\"black\" points=\"820,-402.5 874,-402.5 \"/>\n",
       "<text text-anchor=\"middle\" x=\"847\" y=\"-387.3\" font-family=\"Times New Roman,serif\" font-size=\"14.00\">5</text>\n",
       "<polyline fill=\"none\" stroke=\"black\" points=\"820,-379.5 874,-379.5 \"/>\n",
       "<text text-anchor=\"middle\" x=\"847\" y=\"-364.3\" font-family=\"Times New Roman,serif\" font-size=\"14.00\">5</text>\n",
       "</g>\n",
       "<!-- obj_2727030895424&#45;&gt;obj_2727030785216 -->\n",
       "<g id=\"edge23\" class=\"edge\"><title>obj_2727030895424:fy&#45;&gt;obj_2727030785216</title>\n",
       "<path fill=\"none\" stroke=\"black\" stroke-width=\"0.5\" d=\"M769.5,-406.5C782.592,-406.5 796.926,-405.909 809.612,-405.181\"/>\n",
       "<polygon fill=\"black\" stroke=\"black\" stroke-width=\"0.5\" points=\"810.054,-408.66 819.817,-404.547 809.62,-401.673 810.054,-408.66\"/>\n",
       "</g>\n",
       "<!-- obj_2727030822176&#45;&gt;obj_2726879168816 -->\n",
       "<g id=\"edge34\" class=\"edge\"><title>obj_2727030822176&#45;&gt;obj_2726879168816</title>\n",
       "<path fill=\"none\" stroke=\"black\" stroke-width=\"0.5\" d=\"M379.19,-343.756C422.443,-352.595 483.858,-365.145 522.55,-373.052\"/>\n",
       "<polygon fill=\"black\" stroke=\"black\" stroke-width=\"0.5\" points=\"522.329,-376.579 532.827,-375.152 523.73,-369.72 522.329,-376.579\"/>\n",
       "<text text-anchor=\"middle\" x=\"437.5\" y=\"-365.5\" font-family=\"Times New Roman,serif\" font-size=\"10.00\">selection_glyph</text>\n",
       "</g>\n",
       "<!-- obj_2727030822512 -->\n",
       "<g id=\"node31\" class=\"node\"><title>obj_2727030822512</title>\n",
       "<polygon fill=\"white\" stroke=\"black\" points=\"533,-307.5 533,-343.5 587,-343.5 587,-307.5 533,-307.5\"/>\n",
       "<text text-anchor=\"middle\" x=\"560\" y=\"-321.8\" font-family=\"Times New Roman,serif\" font-size=\"14.00\">Circle</text>\n",
       "</g>\n",
       "<!-- obj_2727030822176&#45;&gt;obj_2727030822512 -->\n",
       "<g id=\"edge29\" class=\"edge\"><title>obj_2727030822176&#45;&gt;obj_2727030822512</title>\n",
       "<path fill=\"none\" stroke=\"black\" stroke-width=\"0.5\" d=\"M379.13,-331.213C385.151,-330.961 391.214,-330.717 397,-330.5 440.26,-328.878 490.034,-327.4 522.867,-326.478\"/>\n",
       "<polygon fill=\"black\" stroke=\"black\" stroke-width=\"0.5\" points=\"523.004,-329.976 532.903,-326.199 522.809,-322.979 523.004,-329.976\"/>\n",
       "<text text-anchor=\"middle\" x=\"437.5\" y=\"-333.5\" font-family=\"Times New Roman,serif\" font-size=\"10.00\">glyph</text>\n",
       "</g>\n",
       "<!-- obj_2727030820832 -->\n",
       "<g id=\"node32\" class=\"node\"><title>obj_2727030820832</title>\n",
       "<polygon fill=\"white\" stroke=\"black\" points=\"497,-252.5 497,-288.5 623,-288.5 623,-252.5 497,-252.5\"/>\n",
       "<text text-anchor=\"middle\" x=\"560\" y=\"-266.8\" font-family=\"Times New Roman,serif\" font-size=\"14.00\">ColumnDataSource</text>\n",
       "</g>\n",
       "<!-- obj_2727030822176&#45;&gt;obj_2727030820832 -->\n",
       "<g id=\"edge33\" class=\"edge\"><title>obj_2727030822176&#45;&gt;obj_2727030820832</title>\n",
       "<path fill=\"none\" stroke=\"black\" stroke-width=\"0.5\" d=\"M379.09,-318.604C385.118,-316.86 391.193,-315.124 397,-313.5 426.454,-305.261 459.031,-296.539 487.201,-289.119\"/>\n",
       "<polygon fill=\"black\" stroke=\"black\" stroke-width=\"0.5\" points=\"488.187,-292.479 496.969,-286.552 486.408,-285.709 488.187,-292.479\"/>\n",
       "<text text-anchor=\"middle\" x=\"437.5\" y=\"-316.5\" font-family=\"Times New Roman,serif\" font-size=\"10.00\">data_source</text>\n",
       "</g>\n",
       "<!-- obj_2727024425248 -->\n",
       "<g id=\"node36\" class=\"node\"><title>obj_2727024425248</title>\n",
       "<polygon fill=\"white\" stroke=\"black\" points=\"533,-197.5 533,-233.5 587,-233.5 587,-197.5 533,-197.5\"/>\n",
       "<text text-anchor=\"middle\" x=\"560\" y=\"-211.8\" font-family=\"Times New Roman,serif\" font-size=\"14.00\">Circle</text>\n",
       "</g>\n",
       "<!-- obj_2727030822176&#45;&gt;obj_2727024425248 -->\n",
       "<g id=\"edge35\" class=\"edge\"><title>obj_2727030822176&#45;&gt;obj_2727024425248</title>\n",
       "<path fill=\"none\" stroke=\"black\" stroke-width=\"0.5\" d=\"M366.214,-315.42C370.767,-312.431 375.16,-309.113 379,-305.5 389.774,-295.362 385.52,-286.831 397,-277.5 434.221,-247.247 487.837,-230.639 523.038,-222.408\"/>\n",
       "<polygon fill=\"black\" stroke=\"black\" stroke-width=\"0.5\" points=\"523.893,-225.803 532.891,-220.21 522.369,-218.971 523.893,-225.803\"/>\n",
       "<text text-anchor=\"middle\" x=\"437.5\" y=\"-280.5\" font-family=\"Times New Roman,serif\" font-size=\"10.00\">nonselection_glyph</text>\n",
       "</g>\n",
       "<!-- obj_2727031048464 -->\n",
       "<g id=\"node33\" class=\"node\"><title>obj_2727031048464</title>\n",
       "<polygon fill=\"gray\" stroke=\"black\" points=\"714.5,-247.5 714.5,-293.5 768.5,-293.5 768.5,-247.5 714.5,-247.5\"/>\n",
       "<text text-anchor=\"middle\" x=\"741.5\" y=\"-278.3\" font-family=\"Times New Roman,serif\" font-size=\"14.00\">x</text>\n",
       "<polyline fill=\"none\" stroke=\"black\" points=\"714.5,-270.5 768.5,-270.5 \"/>\n",
       "<text text-anchor=\"middle\" x=\"741.5\" y=\"-255.3\" font-family=\"Times New Roman,serif\" font-size=\"14.00\">y</text>\n",
       "</g>\n",
       "<!-- obj_2727030820832&#45;&gt;obj_2727031048464 -->\n",
       "<g id=\"edge32\" class=\"edge\"><title>obj_2727030820832&#45;&gt;obj_2727031048464</title>\n",
       "<path fill=\"none\" stroke=\"black\" stroke-width=\"0.5\" d=\"M623.025,-270.5C650.091,-270.5 680.887,-270.5 704.157,-270.5\"/>\n",
       "<polygon fill=\"black\" stroke=\"black\" stroke-width=\"0.5\" points=\"704.278,-274 714.278,-270.5 704.278,-267 704.278,-274\"/>\n",
       "<text text-anchor=\"middle\" x=\"662\" y=\"-273.5\" font-family=\"Times New Roman,serif\" font-size=\"10.00\">data</text>\n",
       "</g>\n",
       "<!-- obj_2727030970304 -->\n",
       "<g id=\"node34\" class=\"node\"><title>obj_2727030970304</title>\n",
       "<polygon fill=\"gray\" stroke=\"black\" points=\"820,-242.5 820,-334.5 874,-334.5 874,-242.5 820,-242.5\"/>\n",
       "<text text-anchor=\"middle\" x=\"847\" y=\"-319.3\" font-family=\"Times New Roman,serif\" font-size=\"14.00\">1</text>\n",
       "<polyline fill=\"none\" stroke=\"black\" points=\"820,-311.5 874,-311.5 \"/>\n",
       "<text text-anchor=\"middle\" x=\"847\" y=\"-296.3\" font-family=\"Times New Roman,serif\" font-size=\"14.00\">2</text>\n",
       "<polyline fill=\"none\" stroke=\"black\" points=\"820,-288.5 874,-288.5 \"/>\n",
       "<text text-anchor=\"middle\" x=\"847\" y=\"-273.3\" font-family=\"Times New Roman,serif\" font-size=\"14.00\">3</text>\n",
       "<polyline fill=\"none\" stroke=\"black\" points=\"820,-265.5 874,-265.5 \"/>\n",
       "<text text-anchor=\"middle\" x=\"847\" y=\"-250.3\" font-family=\"Times New Roman,serif\" font-size=\"14.00\">4</text>\n",
       "</g>\n",
       "<!-- obj_2727031048464&#45;&gt;obj_2727030970304 -->\n",
       "<g id=\"edge30\" class=\"edge\"><title>obj_2727031048464:fx&#45;&gt;obj_2727030970304</title>\n",
       "<path fill=\"none\" stroke=\"black\" stroke-width=\"0.5\" d=\"M769.5,-282.5C782.614,-282.5 796.954,-283.387 809.638,-284.479\"/>\n",
       "<polygon fill=\"black\" stroke=\"black\" stroke-width=\"0.5\" points=\"809.558,-287.987 819.839,-285.43 810.207,-281.017 809.558,-287.987\"/>\n",
       "</g>\n",
       "<!-- obj_2727030841728 -->\n",
       "<g id=\"node35\" class=\"node\"><title>obj_2727030841728</title>\n",
       "<polygon fill=\"gray\" stroke=\"black\" points=\"820,-131.5 820,-223.5 874,-223.5 874,-131.5 820,-131.5\"/>\n",
       "<text text-anchor=\"middle\" x=\"847\" y=\"-208.3\" font-family=\"Times New Roman,serif\" font-size=\"14.00\">7</text>\n",
       "<polyline fill=\"none\" stroke=\"black\" points=\"820,-200.5 874,-200.5 \"/>\n",
       "<text text-anchor=\"middle\" x=\"847\" y=\"-185.3\" font-family=\"Times New Roman,serif\" font-size=\"14.00\">8</text>\n",
       "<polyline fill=\"none\" stroke=\"black\" points=\"820,-177.5 874,-177.5 \"/>\n",
       "<text text-anchor=\"middle\" x=\"847\" y=\"-162.3\" font-family=\"Times New Roman,serif\" font-size=\"14.00\">9</text>\n",
       "<polyline fill=\"none\" stroke=\"black\" points=\"820,-154.5 874,-154.5 \"/>\n",
       "<text text-anchor=\"middle\" x=\"847\" y=\"-139.3\" font-family=\"Times New Roman,serif\" font-size=\"14.00\">7</text>\n",
       "</g>\n",
       "<!-- obj_2727031048464&#45;&gt;obj_2727030841728 -->\n",
       "<g id=\"edge31\" class=\"edge\"><title>obj_2727031048464:fy&#45;&gt;obj_2727030841728</title>\n",
       "<path fill=\"none\" stroke=\"black\" stroke-width=\"0.5\" d=\"M769.5,-258.5C788.432,-258.5 804.07,-246.66 816.165,-232.034\"/>\n",
       "<polygon fill=\"black\" stroke=\"black\" stroke-width=\"0.5\" points=\"819.251,-233.757 822.518,-223.679 813.679,-229.52 819.251,-233.757\"/>\n",
       "</g>\n",
       "<!-- obj_2727030816992 -->\n",
       "<g id=\"node38\" class=\"node\"><title>obj_2727030816992</title>\n",
       "<polygon fill=\"white\" stroke=\"black\" points=\"289.5,-260.5 289.5,-296.5 366.5,-296.5 366.5,-260.5 289.5,-260.5\"/>\n",
       "<text text-anchor=\"middle\" x=\"328\" y=\"-274.8\" font-family=\"Times New Roman,serif\" font-size=\"14.00\">LinearAxis</text>\n",
       "</g>\n",
       "<!-- obj_2727031410272&#45;&gt;obj_2727030816992 -->\n",
       "<g id=\"edge40\" class=\"edge\"><title>obj_2727031410272:f0&#45;&gt;obj_2727030816992</title>\n",
       "<path fill=\"none\" stroke=\"black\" stroke-width=\"0.5\" d=\"M201.475,-373.863C207.756,-370.114 214.266,-365.892 220,-361.5 234.097,-350.702 262.713,-316.045 277,-305.5 278.578,-304.336 280.212,-303.189 281.884,-302.065\"/>\n",
       "<polygon fill=\"black\" stroke=\"black\" stroke-width=\"0.5\" points=\"283.883,-304.942 290.478,-296.65 280.151,-299.02 283.883,-304.942\"/>\n",
       "</g>\n",
       "<!-- obj_2727030819392 -->\n",
       "<g id=\"node39\" class=\"node\"><title>obj_2727030819392</title>\n",
       "<polygon fill=\"white\" stroke=\"black\" points=\"496,-87.5 496,-123.5 624,-123.5 624,-87.5 496,-87.5\"/>\n",
       "<text text-anchor=\"middle\" x=\"560\" y=\"-101.8\" font-family=\"Times New Roman,serif\" font-size=\"14.00\">BasicTickFormatter</text>\n",
       "</g>\n",
       "<!-- obj_2727030816992&#45;&gt;obj_2727030819392 -->\n",
       "<g id=\"edge38\" class=\"edge\"><title>obj_2727030816992&#45;&gt;obj_2727030819392</title>\n",
       "<path fill=\"none\" stroke=\"black\" stroke-width=\"0.5\" d=\"M366.822,-262.149C371.447,-258.851 375.697,-254.987 379,-250.5 401.89,-219.4 371.759,-194.724 397,-165.5 419.377,-139.591 454.007,-124.858 485.514,-116.486\"/>\n",
       "<polygon fill=\"black\" stroke=\"black\" stroke-width=\"0.5\" points=\"486.748,-119.786 495.614,-113.985 485.066,-112.991 486.748,-119.786\"/>\n",
       "<text text-anchor=\"middle\" x=\"437.5\" y=\"-168.5\" font-family=\"Times New Roman,serif\" font-size=\"10.00\">formatter</text>\n",
       "</g>\n",
       "<!-- obj_2727030819008 -->\n",
       "<g id=\"node40\" class=\"node\"><title>obj_2727030819008</title>\n",
       "<polygon fill=\"white\" stroke=\"black\" points=\"518.5,-142.5 518.5,-178.5 601.5,-178.5 601.5,-142.5 518.5,-142.5\"/>\n",
       "<text text-anchor=\"middle\" x=\"560\" y=\"-156.8\" font-family=\"Times New Roman,serif\" font-size=\"14.00\">BasicTicker</text>\n",
       "</g>\n",
       "<!-- obj_2727030816992&#45;&gt;obj_2727030819008 -->\n",
       "<g id=\"edge39\" class=\"edge\"><title>obj_2727030816992&#45;&gt;obj_2727030819008</title>\n",
       "<path fill=\"none\" stroke=\"black\" stroke-width=\"0.5\" d=\"M366.268,-260.477C370.812,-257.479 375.188,-254.144 379,-250.5 389.965,-240.017 385.278,-231.129 397,-221.5 429.232,-195.022 474.134,-179.324 508.493,-170.5\"/>\n",
       "<polygon fill=\"black\" stroke=\"black\" stroke-width=\"0.5\" points=\"509.46,-173.867 518.337,-168.084 507.791,-167.069 509.46,-173.867\"/>\n",
       "<text text-anchor=\"middle\" x=\"437.5\" y=\"-224.5\" font-family=\"Times New Roman,serif\" font-size=\"10.00\">ticker</text>\n",
       "</g>\n",
       "<!-- obj_2727030819632 -->\n",
       "<g id=\"node42\" class=\"node\"><title>obj_2727030819632</title>\n",
       "<polygon fill=\"white\" stroke=\"black\" points=\"289.5,-205.5 289.5,-241.5 366.5,-241.5 366.5,-205.5 289.5,-205.5\"/>\n",
       "<text text-anchor=\"middle\" x=\"328\" y=\"-219.8\" font-family=\"Times New Roman,serif\" font-size=\"14.00\">LinearAxis</text>\n",
       "</g>\n",
       "<!-- obj_2727031410672&#45;&gt;obj_2727030819632 -->\n",
       "<g id=\"edge42\" class=\"edge\"><title>obj_2727031410672:f0&#45;&gt;obj_2727030819632</title>\n",
       "<path fill=\"none\" stroke=\"black\" stroke-width=\"0.5\" d=\"M201.001,-268.794C222.757,-260.973 253.873,-249.787 279.739,-240.489\"/>\n",
       "<polygon fill=\"black\" stroke=\"black\" stroke-width=\"0.5\" points=\"281.139,-243.705 289.365,-237.029 278.771,-237.118 281.139,-243.705\"/>\n",
       "</g>\n",
       "<!-- obj_2727030818768&#45;&gt;obj_2727030885504 -->\n",
       "<g id=\"edge45\" class=\"edge\"><title>obj_2727030818768&#45;&gt;obj_2727030885504</title>\n",
       "<path fill=\"none\" stroke=\"black\" stroke-width=\"0.5\" d=\"M205.219,-513.832C222.5,-518.127 243.71,-525.644 259,-538.5 273.905,-551.032 286.203,-567.712 296.045,-584.64\"/>\n",
       "<polygon fill=\"black\" stroke=\"black\" stroke-width=\"0.5\" points=\"293.05,-586.456 300.969,-593.494 299.168,-583.053 293.05,-586.456\"/>\n",
       "<text text-anchor=\"middle\" x=\"248.5\" y=\"-541.5\" font-family=\"Times New Roman,serif\" font-size=\"10.00\">tools</text>\n",
       "</g>\n",
       "<!-- obj_2727030884864&#45;&gt;obj_2727030819632 -->\n",
       "<g id=\"edge47\" class=\"edge\"><title>obj_2727030884864:f0&#45;&gt;obj_2727030819632</title>\n",
       "<path fill=\"none\" stroke=\"black\" stroke-width=\"0.5\" d=\"M201.001,-223.5C222.565,-223.5 253.326,-223.5 279.054,-223.5\"/>\n",
       "<polygon fill=\"black\" stroke=\"black\" stroke-width=\"0.5\" points=\"279.365,-227 289.365,-223.5 279.365,-220 279.365,-227\"/>\n",
       "</g>\n",
       "<!-- obj_2727030885824&#45;&gt;obj_2727030816992 -->\n",
       "<g id=\"edge49\" class=\"edge\"><title>obj_2727030885824:f0&#45;&gt;obj_2727030816992</title>\n",
       "<path fill=\"none\" stroke=\"black\" stroke-width=\"0.5\" d=\"M201.001,-323.794C222.757,-315.973 253.873,-304.787 279.739,-295.489\"/>\n",
       "<polygon fill=\"black\" stroke=\"black\" stroke-width=\"0.5\" points=\"281.139,-298.705 289.365,-292.029 278.771,-292.118 281.139,-298.705\"/>\n",
       "</g>\n",
       "<!-- obj_2727030821120 -->\n",
       "<g id=\"node47\" class=\"node\"><title>obj_2727030821120</title>\n",
       "<polygon fill=\"white\" stroke=\"black\" points=\"299,-150.5 299,-186.5 357,-186.5 357,-150.5 299,-150.5\"/>\n",
       "<text text-anchor=\"middle\" x=\"328\" y=\"-164.8\" font-family=\"Times New Roman,serif\" font-size=\"14.00\">Legend</text>\n",
       "</g>\n",
       "<!-- obj_2727031411072&#45;&gt;obj_2727030821120 -->\n",
       "<g id=\"edge54\" class=\"edge\"><title>obj_2727031411072:f0&#45;&gt;obj_2727030821120</title>\n",
       "<path fill=\"none\" stroke=\"black\" stroke-width=\"0.5\" d=\"M201.001,-168.5C225.419,-168.5 261.629,-168.5 288.973,-168.5\"/>\n",
       "<polygon fill=\"black\" stroke=\"black\" stroke-width=\"0.5\" points=\"288.976,-172 298.976,-168.5 288.976,-165 288.976,-172\"/>\n",
       "</g>\n",
       "<!-- obj_2727030469520 -->\n",
       "<g id=\"node48\" class=\"node\"><title>obj_2727030469520</title>\n",
       "<polygon fill=\"gray\" stroke=\"black\" points=\"533,-22.5 533,-68.5 587,-68.5 587,-22.5 533,-22.5\"/>\n",
       "<text text-anchor=\"middle\" x=\"560\" y=\"-53.3\" font-family=\"Times New Roman,serif\" font-size=\"14.00\">*</text>\n",
       "<polyline fill=\"none\" stroke=\"black\" points=\"533,-45.5 587,-45.5 \"/>\n",
       "<text text-anchor=\"middle\" x=\"560\" y=\"-30.3\" font-family=\"Times New Roman,serif\" font-size=\"14.00\">*</text>\n",
       "</g>\n",
       "<!-- obj_2727030821120&#45;&gt;obj_2727030469520 -->\n",
       "<g id=\"edge53\" class=\"edge\"><title>obj_2727030821120&#45;&gt;obj_2727030469520</title>\n",
       "<path fill=\"none\" stroke=\"black\" stroke-width=\"0.5\" d=\"M357.103,-157.794C365.182,-153.507 373.33,-147.812 379,-140.5 398.157,-115.794 373.883,-93.5477 397,-72.5 430.964,-41.5754 486.334,-38.8797 522.72,-41.1309\"/>\n",
       "<polygon fill=\"black\" stroke=\"black\" stroke-width=\"0.5\" points=\"522.66,-44.6367 532.901,-41.9198 523.201,-37.6576 522.66,-44.6367\"/>\n",
       "<text text-anchor=\"middle\" x=\"437.5\" y=\"-75.5\" font-family=\"Times New Roman,serif\" font-size=\"10.00\">items</text>\n",
       "</g>\n",
       "<!-- obj_2727030818624 -->\n",
       "<g id=\"node49\" class=\"node\"><title>obj_2727030818624</title>\n",
       "<polygon fill=\"white\" stroke=\"black\" points=\"700,-55.5 700,-91.5 783,-91.5 783,-55.5 700,-55.5\"/>\n",
       "<text text-anchor=\"middle\" x=\"741.5\" y=\"-69.8\" font-family=\"Times New Roman,serif\" font-size=\"14.00\">LegendItem</text>\n",
       "</g>\n",
       "<!-- obj_2727030469520&#45;&gt;obj_2727030818624 -->\n",
       "<g id=\"edge51\" class=\"edge\"><title>obj_2727030469520:f0&#45;&gt;obj_2727030818624</title>\n",
       "<path fill=\"none\" stroke=\"black\" stroke-width=\"0.5\" d=\"M588,-57.5C622.053,-57.5 660.151,-61.4949 689.749,-65.4923\"/>\n",
       "<polygon fill=\"black\" stroke=\"black\" stroke-width=\"0.5\" points=\"689.456,-68.9852 699.843,-66.8998 690.423,-62.0523 689.456,-68.9852\"/>\n",
       "</g>\n",
       "<!-- obj_2727030821840 -->\n",
       "<g id=\"node50\" class=\"node\"><title>obj_2727030821840</title>\n",
       "<polygon fill=\"white\" stroke=\"black\" points=\"700,-0.5 700,-36.5 783,-36.5 783,-0.5 700,-0.5\"/>\n",
       "<text text-anchor=\"middle\" x=\"741.5\" y=\"-14.8\" font-family=\"Times New Roman,serif\" font-size=\"14.00\">LegendItem</text>\n",
       "</g>\n",
       "<!-- obj_2727030469520&#45;&gt;obj_2727030821840 -->\n",
       "<g id=\"edge52\" class=\"edge\"><title>obj_2727030469520:f1&#45;&gt;obj_2727030821840</title>\n",
       "<path fill=\"none\" stroke=\"black\" stroke-width=\"0.5\" d=\"M588,-33.5C622.031,-33.5 660.129,-29.7548 689.732,-26.0072\"/>\n",
       "<polygon fill=\"black\" stroke=\"black\" stroke-width=\"0.5\" points=\"690.367,-29.4542 699.829,-24.6877 689.459,-22.5132 690.367,-29.4542\"/>\n",
       "</g>\n",
       "<!-- obj_2727030818720 -->\n",
       "<g id=\"node52\" class=\"node\"><title>obj_2727030818720</title>\n",
       "<polygon fill=\"white\" stroke=\"black\" points=\"301,-95.5 301,-131.5 355,-131.5 355,-95.5 301,-95.5\"/>\n",
       "<text text-anchor=\"middle\" x=\"328\" y=\"-109.8\" font-family=\"Times New Roman,serif\" font-size=\"14.00\">Grid</text>\n",
       "</g>\n",
       "<!-- obj_2727031409152&#45;&gt;obj_2727030818720 -->\n",
       "<g id=\"edge56\" class=\"edge\"><title>obj_2727031409152:f0&#45;&gt;obj_2727030818720</title>\n",
       "<path fill=\"none\" stroke=\"black\" stroke-width=\"0.5\" d=\"M202,-113.5C231.812,-113.5 265.624,-113.5 290.558,-113.5\"/>\n",
       "<polygon fill=\"black\" stroke=\"black\" stroke-width=\"0.5\" points=\"290.663,-117 300.663,-113.5 290.663,-110 290.663,-117\"/>\n",
       "</g>\n",
       "<!-- obj_2727030819776 -->\n",
       "<g id=\"node53\" class=\"node\"><title>obj_2727030819776</title>\n",
       "<polygon fill=\"white\" stroke=\"black\" points=\"301,-40.5 301,-76.5 355,-76.5 355,-40.5 301,-40.5\"/>\n",
       "<text text-anchor=\"middle\" x=\"328\" y=\"-54.8\" font-family=\"Times New Roman,serif\" font-size=\"14.00\">Grid</text>\n",
       "</g>\n",
       "<!-- obj_2727031409152&#45;&gt;obj_2727030819776 -->\n",
       "<g id=\"edge57\" class=\"edge\"><title>obj_2727031409152:f1&#45;&gt;obj_2727030819776</title>\n",
       "<path fill=\"none\" stroke=\"black\" stroke-width=\"0.5\" d=\"M202,-89.5C232.656,-89.5 266.331,-80.6077 290.997,-72.3482\"/>\n",
       "<polygon fill=\"black\" stroke=\"black\" stroke-width=\"0.5\" points=\"292.35,-75.5833 300.647,-68.9952 290.053,-68.971 292.35,-75.5833\"/>\n",
       "</g>\n",
       "</g>\n",
       "</svg>\n"
      ],
      "text/plain": [
       "<graphviz.sources.Source at 0x27aef589130>"
      ]
     },
     "execution_count": 11,
     "metadata": {},
     "output_type": "execute_result"
    }
   ],
   "source": [
    "fig = figure(width=500, height=300, title=\"example\", x_range=(1, 4))\n",
    "line = fig.line([1, 2, 3, 4], [4, 6, 5, 5], color=\"red\", legend_label=\"line1\")\n",
    "circle = fig.circle([1, 2, 3, 4], [7, 8, 9, 7], 0.05, color=\"green\", legend_label=\"line2\")\n",
    "\n",
    "from helper.dot import GraphvizBokeh\n",
    "import graphviz\n",
    "graph = GraphvizBokeh.graphviz(fig)\n",
    "graphviz.Source(graph)"
   ]
  },
  {
   "cell_type": "markdown",
   "metadata": {},
   "source": [
    "各`Model`オブジェクトの属性を簡単に確認できるように、次のコードで`figure`オブジェクトをJSONデータに変換し、Notebookの表示機能を使用してJSONデータをツリーコントロールとして表示します。例えば、以下のプログラムは`fig`のすべての属性とその構造を表示します。"
   ]
  },
  {
   "cell_type": "code",
   "execution_count": 12,
   "metadata": {},
   "outputs": [
    {
     "data": {
      "text/html": [
       "\n",
       "  <div id=\"d6aeec16-3913-4b20-98e8-5560cdf127c4\" data-root-id=\"p1266\" style=\"display: contents;\"></div>\n"
      ]
     },
     "metadata": {},
     "output_type": "display_data"
    },
    {
     "data": {
      "application/javascript": [
       "(function(root) {\n",
       "  function embed_document(root) {\n",
       "  const docs_json = {\"c06b2fb5-37f8-4d37-ab4b-ff53b563063e\":{\"version\":\"3.6.0\",\"title\":\"Bokeh Application\",\"roots\":[{\"type\":\"object\",\"name\":\"Figure\",\"id\":\"p1266\",\"attributes\":{\"width\":500,\"height\":300,\"x_range\":{\"type\":\"object\",\"name\":\"Range1d\",\"id\":\"p1276\",\"attributes\":{\"start\":1,\"end\":4}},\"y_range\":{\"type\":\"object\",\"name\":\"DataRange1d\",\"id\":\"p1268\"},\"x_scale\":{\"type\":\"object\",\"name\":\"LinearScale\",\"id\":\"p1277\"},\"y_scale\":{\"type\":\"object\",\"name\":\"LinearScale\",\"id\":\"p1278\"},\"title\":{\"type\":\"object\",\"name\":\"Title\",\"id\":\"p1269\",\"attributes\":{\"text\":\"example\"}},\"renderers\":[{\"type\":\"object\",\"name\":\"GlyphRenderer\",\"id\":\"p1308\",\"attributes\":{\"data_source\":{\"type\":\"object\",\"name\":\"ColumnDataSource\",\"id\":\"p1302\",\"attributes\":{\"selected\":{\"type\":\"object\",\"name\":\"Selection\",\"id\":\"p1303\",\"attributes\":{\"indices\":[],\"line_indices\":[]}},\"selection_policy\":{\"type\":\"object\",\"name\":\"UnionRenderers\",\"id\":\"p1304\"},\"data\":{\"type\":\"map\",\"entries\":[[\"x\",[1,2,3,4]],[\"y\",[4,6,5,5]]]}}},\"view\":{\"type\":\"object\",\"name\":\"CDSView\",\"id\":\"p1309\",\"attributes\":{\"filter\":{\"type\":\"object\",\"name\":\"AllIndices\",\"id\":\"p1310\"}}},\"glyph\":{\"type\":\"object\",\"name\":\"Line\",\"id\":\"p1305\",\"attributes\":{\"x\":{\"type\":\"field\",\"field\":\"x\"},\"y\":{\"type\":\"field\",\"field\":\"y\"},\"line_color\":\"red\"}},\"nonselection_glyph\":{\"type\":\"object\",\"name\":\"Line\",\"id\":\"p1306\",\"attributes\":{\"x\":{\"type\":\"field\",\"field\":\"x\"},\"y\":{\"type\":\"field\",\"field\":\"y\"},\"line_color\":\"red\",\"line_alpha\":0.1}},\"muted_glyph\":{\"type\":\"object\",\"name\":\"Line\",\"id\":\"p1307\",\"attributes\":{\"x\":{\"type\":\"field\",\"field\":\"x\"},\"y\":{\"type\":\"field\",\"field\":\"y\"},\"line_color\":\"red\",\"line_alpha\":0.2}}}},{\"type\":\"object\",\"name\":\"GlyphRenderer\",\"id\":\"p1319\",\"attributes\":{\"data_source\":{\"type\":\"object\",\"name\":\"ColumnDataSource\",\"id\":\"p1313\",\"attributes\":{\"selected\":{\"type\":\"object\",\"name\":\"Selection\",\"id\":\"p1314\",\"attributes\":{\"indices\":[],\"line_indices\":[]}},\"selection_policy\":{\"type\":\"object\",\"name\":\"UnionRenderers\",\"id\":\"p1315\"},\"data\":{\"type\":\"map\",\"entries\":[[\"x\",[1,2,3,4]],[\"y\",[7,8,9,7]]]}}},\"view\":{\"type\":\"object\",\"name\":\"CDSView\",\"id\":\"p1320\",\"attributes\":{\"filter\":{\"type\":\"object\",\"name\":\"AllIndices\",\"id\":\"p1321\"}}},\"glyph\":{\"type\":\"object\",\"name\":\"Circle\",\"id\":\"p1316\",\"attributes\":{\"x\":{\"type\":\"field\",\"field\":\"x\"},\"y\":{\"type\":\"field\",\"field\":\"y\"},\"radius\":{\"type\":\"value\",\"value\":0.05},\"line_color\":{\"type\":\"value\",\"value\":\"green\"},\"fill_color\":{\"type\":\"value\",\"value\":\"green\"},\"hatch_color\":{\"type\":\"value\",\"value\":\"green\"}}},\"nonselection_glyph\":{\"type\":\"object\",\"name\":\"Circle\",\"id\":\"p1317\",\"attributes\":{\"x\":{\"type\":\"field\",\"field\":\"x\"},\"y\":{\"type\":\"field\",\"field\":\"y\"},\"radius\":{\"type\":\"value\",\"value\":0.05},\"line_color\":{\"type\":\"value\",\"value\":\"green\"},\"line_alpha\":{\"type\":\"value\",\"value\":0.1},\"fill_color\":{\"type\":\"value\",\"value\":\"green\"},\"fill_alpha\":{\"type\":\"value\",\"value\":0.1},\"hatch_color\":{\"type\":\"value\",\"value\":\"green\"},\"hatch_alpha\":{\"type\":\"value\",\"value\":0.1}}},\"muted_glyph\":{\"type\":\"object\",\"name\":\"Circle\",\"id\":\"p1318\",\"attributes\":{\"x\":{\"type\":\"field\",\"field\":\"x\"},\"y\":{\"type\":\"field\",\"field\":\"y\"},\"radius\":{\"type\":\"value\",\"value\":0.05},\"line_color\":{\"type\":\"value\",\"value\":\"green\"},\"line_alpha\":{\"type\":\"value\",\"value\":0.2},\"fill_color\":{\"type\":\"value\",\"value\":\"green\"},\"fill_alpha\":{\"type\":\"value\",\"value\":0.2},\"hatch_color\":{\"type\":\"value\",\"value\":\"green\"},\"hatch_alpha\":{\"type\":\"value\",\"value\":0.2}}}}}],\"toolbar\":{\"type\":\"object\",\"name\":\"Toolbar\",\"id\":\"p1275\",\"attributes\":{\"tools\":[{\"type\":\"object\",\"name\":\"PanTool\",\"id\":\"p1289\"},{\"type\":\"object\",\"name\":\"WheelZoomTool\",\"id\":\"p1290\",\"attributes\":{\"renderers\":\"auto\"}},{\"type\":\"object\",\"name\":\"BoxZoomTool\",\"id\":\"p1291\",\"attributes\":{\"overlay\":{\"type\":\"object\",\"name\":\"BoxAnnotation\",\"id\":\"p1292\",\"attributes\":{\"syncable\":false,\"line_color\":\"black\",\"line_alpha\":1.0,\"line_width\":2,\"line_dash\":[4,4],\"fill_color\":\"lightgrey\",\"fill_alpha\":0.5,\"level\":\"overlay\",\"visible\":false,\"left\":{\"type\":\"number\",\"value\":\"nan\"},\"right\":{\"type\":\"number\",\"value\":\"nan\"},\"top\":{\"type\":\"number\",\"value\":\"nan\"},\"bottom\":{\"type\":\"number\",\"value\":\"nan\"},\"left_units\":\"canvas\",\"right_units\":\"canvas\",\"top_units\":\"canvas\",\"bottom_units\":\"canvas\",\"handles\":{\"type\":\"object\",\"name\":\"BoxInteractionHandles\",\"id\":\"p1298\",\"attributes\":{\"all\":{\"type\":\"object\",\"name\":\"AreaVisuals\",\"id\":\"p1297\",\"attributes\":{\"fill_color\":\"white\",\"hover_fill_color\":\"lightgray\"}}}}}}}},{\"type\":\"object\",\"name\":\"SaveTool\",\"id\":\"p1299\"},{\"type\":\"object\",\"name\":\"ResetTool\",\"id\":\"p1300\"},{\"type\":\"object\",\"name\":\"HelpTool\",\"id\":\"p1301\"}]}},\"left\":[{\"type\":\"object\",\"name\":\"LinearAxis\",\"id\":\"p1284\",\"attributes\":{\"ticker\":{\"type\":\"object\",\"name\":\"BasicTicker\",\"id\":\"p1285\",\"attributes\":{\"mantissas\":[1,2,5]}},\"formatter\":{\"type\":\"object\",\"name\":\"BasicTickFormatter\",\"id\":\"p1286\"},\"major_label_policy\":{\"type\":\"object\",\"name\":\"AllLabels\",\"id\":\"p1287\"}}}],\"below\":[{\"type\":\"object\",\"name\":\"LinearAxis\",\"id\":\"p1279\",\"attributes\":{\"ticker\":{\"type\":\"object\",\"name\":\"BasicTicker\",\"id\":\"p1280\",\"attributes\":{\"mantissas\":[1,2,5]}},\"formatter\":{\"type\":\"object\",\"name\":\"BasicTickFormatter\",\"id\":\"p1281\"},\"major_label_policy\":{\"type\":\"object\",\"name\":\"AllLabels\",\"id\":\"p1282\"}}}],\"center\":[{\"type\":\"object\",\"name\":\"Grid\",\"id\":\"p1283\",\"attributes\":{\"axis\":{\"id\":\"p1279\"}}},{\"type\":\"object\",\"name\":\"Grid\",\"id\":\"p1288\",\"attributes\":{\"dimension\":1,\"axis\":{\"id\":\"p1284\"}}},{\"type\":\"object\",\"name\":\"Legend\",\"id\":\"p1311\",\"attributes\":{\"items\":[{\"type\":\"object\",\"name\":\"LegendItem\",\"id\":\"p1312\",\"attributes\":{\"label\":{\"type\":\"value\",\"value\":\"line1\"},\"renderers\":[{\"id\":\"p1308\"}]}},{\"type\":\"object\",\"name\":\"LegendItem\",\"id\":\"p1322\",\"attributes\":{\"label\":{\"type\":\"value\",\"value\":\"line2\"},\"renderers\":[{\"id\":\"p1319\"}]}}]}}]}}]}};\n",
       "  const render_items = [{\"docid\":\"c06b2fb5-37f8-4d37-ab4b-ff53b563063e\",\"roots\":{\"p1266\":\"d6aeec16-3913-4b20-98e8-5560cdf127c4\"},\"root_ids\":[\"p1266\"]}];\n",
       "  void root.Bokeh.embed.embed_items_notebook(docs_json, render_items);\n",
       "  }\n",
       "  if (root.Bokeh !== undefined) {\n",
       "    embed_document(root);\n",
       "  } else {\n",
       "    let attempts = 0;\n",
       "    const timer = setInterval(function(root) {\n",
       "      if (root.Bokeh !== undefined) {\n",
       "        clearInterval(timer);\n",
       "        embed_document(root);\n",
       "      } else {\n",
       "        attempts++;\n",
       "        if (attempts > 100) {\n",
       "          clearInterval(timer);\n",
       "          console.log(\"Bokeh: ERROR: Unable to run BokehJS code because BokehJS library is missing\");\n",
       "        }\n",
       "      }\n",
       "    }, 10, root)\n",
       "  }\n",
       "})(window);"
      ],
      "application/vnd.bokehjs_exec.v0+json": ""
     },
     "metadata": {
      "application/vnd.bokehjs_exec.v0+json": {
       "id": "p1266"
      }
     },
     "output_type": "display_data"
    },
    {
     "data": {
      "application/json": {
       "attributes": {
        "below": [
         {
          "attributes": {
           "formatter": {
            "id": "p1281",
            "name": "BasicTickFormatter",
            "type": "object"
           },
           "major_label_policy": {
            "id": "p1282",
            "name": "AllLabels",
            "type": "object"
           },
           "ticker": {
            "attributes": {
             "mantissas": [
              1,
              2,
              5
             ]
            },
            "id": "p1280",
            "name": "BasicTicker",
            "type": "object"
           }
          },
          "id": "p1279",
          "name": "LinearAxis",
          "type": "object"
         }
        ],
        "center": [
         {
          "attributes": {
           "axis": {
            "id": "p1279"
           }
          },
          "id": "p1283",
          "name": "Grid",
          "type": "object"
         },
         {
          "attributes": {
           "axis": {
            "id": "p1284"
           },
           "dimension": 1
          },
          "id": "p1288",
          "name": "Grid",
          "type": "object"
         },
         {
          "attributes": {
           "items": [
            {
             "attributes": {
              "label": {
               "type": "value",
               "value": "line1"
              },
              "renderers": [
               {
                "id": "p1308"
               }
              ]
             },
             "id": "p1312",
             "name": "LegendItem",
             "type": "object"
            },
            {
             "attributes": {
              "label": {
               "type": "value",
               "value": "line2"
              },
              "renderers": [
               {
                "id": "p1319"
               }
              ]
             },
             "id": "p1322",
             "name": "LegendItem",
             "type": "object"
            }
           ]
          },
          "id": "p1311",
          "name": "Legend",
          "type": "object"
         }
        ],
        "height": 300,
        "left": [
         {
          "attributes": {
           "formatter": {
            "id": "p1286",
            "name": "BasicTickFormatter",
            "type": "object"
           },
           "major_label_policy": {
            "id": "p1287",
            "name": "AllLabels",
            "type": "object"
           },
           "ticker": {
            "attributes": {
             "mantissas": [
              1,
              2,
              5
             ]
            },
            "id": "p1285",
            "name": "BasicTicker",
            "type": "object"
           }
          },
          "id": "p1284",
          "name": "LinearAxis",
          "type": "object"
         }
        ],
        "renderers": [
         {
          "attributes": {
           "data_source": {
            "attributes": {
             "data": {
              "entries": [
               [
                "x",
                [
                 1,
                 2,
                 3,
                 4
                ]
               ],
               [
                "y",
                [
                 4,
                 6,
                 5,
                 5
                ]
               ]
              ],
              "type": "map"
             },
             "selected": {
              "attributes": {
               "indices": [],
               "line_indices": []
              },
              "id": "p1303",
              "name": "Selection",
              "type": "object"
             },
             "selection_policy": {
              "id": "p1304",
              "name": "UnionRenderers",
              "type": "object"
             }
            },
            "id": "p1302",
            "name": "ColumnDataSource",
            "type": "object"
           },
           "glyph": {
            "attributes": {
             "line_color": "red",
             "x": {
              "field": "x",
              "type": "field"
             },
             "y": {
              "field": "y",
              "type": "field"
             }
            },
            "id": "p1305",
            "name": "Line",
            "type": "object"
           },
           "muted_glyph": {
            "attributes": {
             "line_alpha": 0.2,
             "line_color": "red",
             "x": {
              "field": "x",
              "type": "field"
             },
             "y": {
              "field": "y",
              "type": "field"
             }
            },
            "id": "p1307",
            "name": "Line",
            "type": "object"
           },
           "nonselection_glyph": {
            "attributes": {
             "line_alpha": 0.1,
             "line_color": "red",
             "x": {
              "field": "x",
              "type": "field"
             },
             "y": {
              "field": "y",
              "type": "field"
             }
            },
            "id": "p1306",
            "name": "Line",
            "type": "object"
           },
           "view": {
            "attributes": {
             "filter": {
              "id": "p1310",
              "name": "AllIndices",
              "type": "object"
             }
            },
            "id": "p1309",
            "name": "CDSView",
            "type": "object"
           }
          },
          "id": "p1308",
          "name": "GlyphRenderer",
          "type": "object"
         },
         {
          "attributes": {
           "data_source": {
            "attributes": {
             "data": {
              "entries": [
               [
                "x",
                [
                 1,
                 2,
                 3,
                 4
                ]
               ],
               [
                "y",
                [
                 7,
                 8,
                 9,
                 7
                ]
               ]
              ],
              "type": "map"
             },
             "selected": {
              "attributes": {
               "indices": [],
               "line_indices": []
              },
              "id": "p1314",
              "name": "Selection",
              "type": "object"
             },
             "selection_policy": {
              "id": "p1315",
              "name": "UnionRenderers",
              "type": "object"
             }
            },
            "id": "p1313",
            "name": "ColumnDataSource",
            "type": "object"
           },
           "glyph": {
            "attributes": {
             "fill_color": {
              "type": "value",
              "value": "green"
             },
             "hatch_color": {
              "type": "value",
              "value": "green"
             },
             "line_color": {
              "type": "value",
              "value": "green"
             },
             "radius": {
              "type": "value",
              "value": 0.05
             },
             "x": {
              "field": "x",
              "type": "field"
             },
             "y": {
              "field": "y",
              "type": "field"
             }
            },
            "id": "p1316",
            "name": "Circle",
            "type": "object"
           },
           "muted_glyph": {
            "attributes": {
             "fill_alpha": {
              "type": "value",
              "value": 0.2
             },
             "fill_color": {
              "type": "value",
              "value": "green"
             },
             "hatch_alpha": {
              "type": "value",
              "value": 0.2
             },
             "hatch_color": {
              "type": "value",
              "value": "green"
             },
             "line_alpha": {
              "type": "value",
              "value": 0.2
             },
             "line_color": {
              "type": "value",
              "value": "green"
             },
             "radius": {
              "type": "value",
              "value": 0.05
             },
             "x": {
              "field": "x",
              "type": "field"
             },
             "y": {
              "field": "y",
              "type": "field"
             }
            },
            "id": "p1318",
            "name": "Circle",
            "type": "object"
           },
           "nonselection_glyph": {
            "attributes": {
             "fill_alpha": {
              "type": "value",
              "value": 0.1
             },
             "fill_color": {
              "type": "value",
              "value": "green"
             },
             "hatch_alpha": {
              "type": "value",
              "value": 0.1
             },
             "hatch_color": {
              "type": "value",
              "value": "green"
             },
             "line_alpha": {
              "type": "value",
              "value": 0.1
             },
             "line_color": {
              "type": "value",
              "value": "green"
             },
             "radius": {
              "type": "value",
              "value": 0.05
             },
             "x": {
              "field": "x",
              "type": "field"
             },
             "y": {
              "field": "y",
              "type": "field"
             }
            },
            "id": "p1317",
            "name": "Circle",
            "type": "object"
           },
           "view": {
            "attributes": {
             "filter": {
              "id": "p1321",
              "name": "AllIndices",
              "type": "object"
             }
            },
            "id": "p1320",
            "name": "CDSView",
            "type": "object"
           }
          },
          "id": "p1319",
          "name": "GlyphRenderer",
          "type": "object"
         }
        ],
        "title": {
         "attributes": {
          "text": "example"
         },
         "id": "p1269",
         "name": "Title",
         "type": "object"
        },
        "toolbar": {
         "attributes": {
          "tools": [
           {
            "id": "p1289",
            "name": "PanTool",
            "type": "object"
           },
           {
            "attributes": {
             "renderers": "auto"
            },
            "id": "p1290",
            "name": "WheelZoomTool",
            "type": "object"
           },
           {
            "attributes": {
             "overlay": {
              "attributes": {
               "bottom": {
                "type": "number",
                "value": "nan"
               },
               "bottom_units": "canvas",
               "fill_alpha": 0.5,
               "fill_color": "lightgrey",
               "handles": {
                "attributes": {
                 "all": {
                  "attributes": {
                   "fill_color": "white",
                   "hover_fill_color": "lightgray"
                  },
                  "id": "p1297",
                  "name": "AreaVisuals",
                  "type": "object"
                 }
                },
                "id": "p1298",
                "name": "BoxInteractionHandles",
                "type": "object"
               },
               "left": {
                "type": "number",
                "value": "nan"
               },
               "left_units": "canvas",
               "level": "overlay",
               "line_alpha": 1,
               "line_color": "black",
               "line_dash": [
                4,
                4
               ],
               "line_width": 2,
               "right": {
                "type": "number",
                "value": "nan"
               },
               "right_units": "canvas",
               "syncable": false,
               "top": {
                "type": "number",
                "value": "nan"
               },
               "top_units": "canvas",
               "visible": false
              },
              "id": "p1292",
              "name": "BoxAnnotation",
              "type": "object"
             }
            },
            "id": "p1291",
            "name": "BoxZoomTool",
            "type": "object"
           },
           {
            "id": "p1299",
            "name": "SaveTool",
            "type": "object"
           },
           {
            "id": "p1300",
            "name": "ResetTool",
            "type": "object"
           },
           {
            "id": "p1301",
            "name": "HelpTool",
            "type": "object"
           }
          ]
         },
         "id": "p1275",
         "name": "Toolbar",
         "type": "object"
        },
        "width": 500,
        "x_range": {
         "attributes": {
          "end": 4,
          "start": 1
         },
         "id": "p1276",
         "name": "Range1d",
         "type": "object"
        },
        "x_scale": {
         "id": "p1277",
         "name": "LinearScale",
         "type": "object"
        },
        "y_range": {
         "id": "p1268",
         "name": "DataRange1d",
         "type": "object"
        },
        "y_scale": {
         "id": "p1278",
         "name": "LinearScale",
         "type": "object"
        }
       },
       "id": "p1266",
       "name": "Figure",
       "type": "object"
      }
     },
     "metadata": {},
     "output_type": "display_data"
    }
   ],
   "source": [
    "from IPython.display import display_json\n",
    "show(fig)\n",
    "display_json(fig.document.to_json(deferred=True)['roots'][0], raw=True)"
   ]
  },
  {
   "cell_type": "markdown",
   "metadata": {},
   "source": [
    "### Bokeh属性\n",
    "\n",
    "Bokeh属性はデータ型、データ検証などの機能をサポートしています。`HasProps`クラスの派生クラスはすべてBokeh属性をサポートしており、Bokeh属性に関する情報を取得するためのいくつかのメソッドも提供しています。`HasProps`オブジェクトのすべてのBokeh属性名は`properties()`メソッドで取得でき、すべての属性名とその値の辞書は`properties_with_values()`で取得できます。以下は`Figure`オブジェクトのすべてのBokeh属性名を表示します。"
   ]
  },
  {
   "cell_type": "code",
   "execution_count": 13,
   "metadata": {},
   "outputs": [
    {
     "name": "stdout",
     "output_type": "stream",
     "text": [
      "{'above',                       'align',                       'aspect_ratio',                'aspect_scale',               \n",
      " 'attribution',                 'background_fill_alpha',       'background_fill_color',       'below',                      \n",
      " 'border_fill_alpha',           'border_fill_color',           'center',                      'context_menu',               \n",
      " 'css_classes',                 'css_variables',               'disabled',                    'elements',                   \n",
      " 'extra_x_ranges',              'extra_x_scales',              'extra_y_ranges',              'extra_y_scales',             \n",
      " 'flow_mode',                   'frame_align',                 'frame_height',                'frame_width',                \n",
      " 'height',                      'height_policy',               'hidpi',                       'hold_render',                \n",
      " 'inner_height',                'inner_width',                 'js_event_callbacks',          'js_property_callbacks',      \n",
      " 'left',                        'lod_factor',                  'lod_interval',                'lod_threshold',              \n",
      " 'lod_timeout',                 'margin',                      'match_aspect',                'max_height',                 \n",
      " 'max_width',                   'min_border',                  'min_border_bottom',           'min_border_left',            \n",
      " 'min_border_right',            'min_border_top',              'min_height',                  'min_width',                  \n",
      " 'name',                        'outer_height',                'outer_width',                 'outline_line_alpha',         \n",
      " 'outline_line_cap',            'outline_line_color',          'outline_line_dash',           'outline_line_dash_offset',   \n",
      " 'outline_line_join',           'outline_line_width',          'output_backend',              'renderers',                  \n",
      " 'reset_policy',                'resizable',                   'right',                       'sizing_mode',                \n",
      " 'styles',                      'stylesheets',                 'subscribed_events',           'syncable',                   \n",
      " 'tags',                        'title',                       'title_location',              'toolbar',                    \n",
      " 'toolbar_inner',               'toolbar_location',            'toolbar_sticky',              'visible',                    \n",
      " 'width',                       'width_policy',                'x_range',                     'x_scale',                    \n",
      " 'y_range',                     'y_scale'}                    \n"
     ]
    }
   ],
   "source": [
    "%col 4 fig.properties()"
   ]
  },
  {
   "cell_type": "markdown",
   "metadata": {},
   "source": [
    "`properties_with_refs()`メソッドは、他のモデルオブジェクトを含むすべてのBokeh属性を取得します："
   ]
  },
  {
   "cell_type": "code",
   "execution_count": 14,
   "metadata": {},
   "outputs": [
    {
     "data": {
      "text/plain": [
       "{'tags': List(AnyRef),\n",
       " 'js_event_callbacks': Dict(String, List(Instance(Callback))),\n",
       " 'js_property_callbacks': Dict(String, List(Instance(Callback))),\n",
       " 'css_variables': Dict(String, Instance(Node)),\n",
       " 'styles': Either(Dict(String, Nullable(String)), Instance(Styles)),\n",
       " 'stylesheets': List(Either(Instance(StyleSheet), String, Dict(String, Either(Dict(String, Nullable(String)), Instance(Styles))))),\n",
       " 'context_menu': Nullable(Instance(Menu)),\n",
       " 'elements': List(Either(Instance(UIElement), Instance(DOMNode))),\n",
       " 'x_range': Instance(Range),\n",
       " 'y_range': Instance(Range),\n",
       " 'x_scale': Instance(Scale),\n",
       " 'y_scale': Instance(Scale),\n",
       " 'extra_x_ranges': Dict(String, Instance(Range)),\n",
       " 'extra_y_ranges': Dict(String, Instance(Range)),\n",
       " 'extra_x_scales': Dict(String, Instance(Scale)),\n",
       " 'extra_y_scales': Dict(String, Instance(Scale)),\n",
       " 'title': Either(Null, Instance(Title)),\n",
       " 'renderers': List(Instance(Renderer)),\n",
       " 'toolbar': Instance(Toolbar),\n",
       " 'left': List(Instance(Renderer)),\n",
       " 'right': List(Instance(Renderer)),\n",
       " 'above': List(Instance(Renderer)),\n",
       " 'below': List(Instance(Renderer)),\n",
       " 'center': List(Instance(Renderer)),\n",
       " 'attribution': List(Either(Instance(HTML), String))}"
      ]
     },
     "execution_count": 14,
     "metadata": {},
     "output_type": "execute_result"
    }
   ],
   "source": [
    "fig.properties_with_refs()"
   ]
  },
  {
   "cell_type": "markdown",
   "metadata": {},
   "source": [
    "`dataspecs()`メソッドは、データソースに接続できるすべての属性を取得します。例えば、以下は`Circle`図形オブジェクトの関連属性を表示します："
   ]
  },
  {
   "cell_type": "code",
   "execution_count": 15,
   "metadata": {},
   "outputs": [
    {
     "data": {
      "text/plain": [
       "{'x': NumberSpec(String, Float, Instance(Value), Instance(Field), Instance(Expr), Struct(value=Float, transform=Instance(Transform)), Struct(field=String, transform=Instance(Transform)), Struct(expr=Instance(Expression), transform=Instance(Transform))),\n",
       " 'y': NumberSpec(String, Float, Instance(Value), Instance(Field), Instance(Expr), Struct(value=Float, transform=Instance(Transform)), Struct(field=String, transform=Instance(Transform)), Struct(expr=Instance(Expression), transform=Instance(Transform))),\n",
       " 'radius': DistanceSpec(units_default='data'),\n",
       " 'line_color': ColorSpec(String, Nullable(Color), Instance(Value), Instance(Field), Instance(Expr), Struct(value=Nullable(Color), transform=Instance(Transform)), Struct(field=String, transform=Instance(Transform)), Struct(expr=Instance(Expression), transform=Instance(Transform))),\n",
       " 'line_alpha': AlphaSpec(String, Float, Instance(Value), Instance(Field), Instance(Expr), Struct(value=Float, transform=Instance(Transform)), Struct(field=String, transform=Instance(Transform)), Struct(expr=Instance(Expression), transform=Instance(Transform))),\n",
       " 'line_width': NumberSpec(String, Float, Instance(Value), Instance(Field), Instance(Expr), Struct(value=Float, transform=Instance(Transform)), Struct(field=String, transform=Instance(Transform)), Struct(expr=Instance(Expression), transform=Instance(Transform))),\n",
       " 'line_join': LineJoinSpec(String, Enum('miter', 'round', 'bevel'), Instance(Value), Instance(Field), Instance(Expr), Struct(value=Enum('miter', 'round', 'bevel'), transform=Instance(Transform)), Struct(field=String, transform=Instance(Transform)), Struct(expr=Instance(Expression), transform=Instance(Transform))),\n",
       " 'line_cap': LineCapSpec(String, Enum('butt', 'round', 'square'), Instance(Value), Instance(Field), Instance(Expr), Struct(value=Enum('butt', 'round', 'square'), transform=Instance(Transform)), Struct(field=String, transform=Instance(Transform)), Struct(expr=Instance(Expression), transform=Instance(Transform))),\n",
       " 'line_dash': DashPatternSpec(String, DashPattern, Instance(Value), Instance(Field), Instance(Expr), Struct(value=DashPattern, transform=Instance(Transform)), Struct(field=String, transform=Instance(Transform)), Struct(expr=Instance(Expression), transform=Instance(Transform))),\n",
       " 'line_dash_offset': IntSpec(String, Int, Instance(Value), Instance(Field), Instance(Expr), Struct(value=Int, transform=Instance(Transform)), Struct(field=String, transform=Instance(Transform)), Struct(expr=Instance(Expression), transform=Instance(Transform))),\n",
       " 'fill_color': ColorSpec(String, Nullable(Color), Instance(Value), Instance(Field), Instance(Expr), Struct(value=Nullable(Color), transform=Instance(Transform)), Struct(field=String, transform=Instance(Transform)), Struct(expr=Instance(Expression), transform=Instance(Transform))),\n",
       " 'fill_alpha': AlphaSpec(String, Float, Instance(Value), Instance(Field), Instance(Expr), Struct(value=Float, transform=Instance(Transform)), Struct(field=String, transform=Instance(Transform)), Struct(expr=Instance(Expression), transform=Instance(Transform))),\n",
       " 'hatch_color': ColorSpec(String, Nullable(Color), Instance(Value), Instance(Field), Instance(Expr), Struct(value=Nullable(Color), transform=Instance(Transform)), Struct(field=String, transform=Instance(Transform)), Struct(expr=Instance(Expression), transform=Instance(Transform))),\n",
       " 'hatch_alpha': AlphaSpec(String, Float, Instance(Value), Instance(Field), Instance(Expr), Struct(value=Float, transform=Instance(Transform)), Struct(field=String, transform=Instance(Transform)), Struct(expr=Instance(Expression), transform=Instance(Transform))),\n",
       " 'hatch_scale': NumberSpec(String, Float, Instance(Value), Instance(Field), Instance(Expr), Struct(value=Float, transform=Instance(Transform)), Struct(field=String, transform=Instance(Transform)), Struct(expr=Instance(Expression), transform=Instance(Transform))),\n",
       " 'hatch_pattern': HatchPatternSpec(String, Nullable(HatchPatternType), Instance(Value), Instance(Field), Instance(Expr), Struct(value=Nullable(HatchPatternType), transform=Instance(Transform)), Struct(field=String, transform=Instance(Transform)), Struct(expr=Instance(Expression), transform=Instance(Transform))),\n",
       " 'hatch_weight': NumberSpec(String, Float, Instance(Value), Instance(Field), Instance(Expr), Struct(value=Float, transform=Instance(Transform)), Struct(field=String, transform=Instance(Transform)), Struct(expr=Instance(Expression), transform=Instance(Transform)))}"
      ]
     },
     "execution_count": 15,
     "metadata": {},
     "output_type": "execute_result"
    }
   ],
   "source": [
    "circle.glyph.dataspecs()"
   ]
  },
  {
   "cell_type": "markdown",
   "metadata": {},
   "source": [
    "`loopkup()`メソッドは、指定された属性名に対応する属性ディスクリプタを取得します。以下は属性`toolbar_location`の属性ディスクリプタを取得し、属性ディスクリプタの`property`属性にその属性の型が保存されていることを示します。結果から、`toolbar_location`のデータ型は列挙型`Enum`であり、その選択肢は'above', 'below', 'left', 'right'の4つであることがわかります。"
   ]
  },
  {
   "cell_type": "code",
   "execution_count": 16,
   "metadata": {},
   "outputs": [
    {
     "name": "stdout",
     "output_type": "stream",
     "text": [
      "Nullable(Enum('above', 'below', 'left', 'right'))\n"
     ]
    }
   ],
   "source": [
    "prop_desc = fig.lookup('toolbar_location')\n",
    "print(prop_desc.property)"
   ]
  },
  {
   "cell_type": "markdown",
   "metadata": {},
   "source": [
    "`update()`属性は、キーワード引数を使用して複数のBokeh属性を同時に設定できます。例えば、以下のプログラムはX軸の表示範囲の開始値と終了値を設定します："
   ]
  },
  {
   "cell_type": "code",
   "execution_count": 17,
   "metadata": {},
   "outputs": [],
   "source": [
    "fig.x_range.update(start=1, end=5)"
   ]
  },
  {
   "cell_type": "markdown",
   "metadata": {},
   "source": [
    "`to_json()`メソッドは、オブジェクトをJSONデータ構造に変換します。"
   ]
  },
  {
   "cell_type": "markdown",
   "metadata": {},
   "source": [
    "### モデルオブジェクトのクエリ\n",
    "\n",
    "各チャートは多くのモデルオブジェクトで構成される構造ツリーです。特定のモデルオブジェクトを見つけるためには、Bokeh属性を介して層ごとにアクセスする必要があります。モデルオブジェクトのアクセスを簡素化するために、`Model`クラスは`references()`、`select()`、`select_one()`メソッドを提供して、指定されたモデルオブジェクトをクエリします。`select()`は、すべての一致条件を満たすモデルのリストを返し、`select_one()`は単一の一致するモデルオブジェクトを返します。複数のモデルオブジェクトが一致する場合は例外がスローされます。一致条件は辞書を使用して指定します。例えば、以下のプログラムは、Bokeh属性`line_width`が`1`であるすべてのモデルオブジェクトを見つけます。"
   ]
  },
  {
   "cell_type": "code",
   "execution_count": 18,
   "metadata": {},
   "outputs": [
    {
     "data": {
      "text/plain": [
       "{AllIndices(id='p1310', ...),\n",
       " AllIndices(id='p1321', ...),\n",
       " AllLabels(id='p1282', ...),\n",
       " AllLabels(id='p1287', ...),\n",
       " AreaVisuals(id='p1297', ...),\n",
       " BasicTickFormatter(id='p1281', ...),\n",
       " BasicTickFormatter(id='p1286', ...),\n",
       " BasicTicker(id='p1280', ...),\n",
       " BasicTicker(id='p1285', ...),\n",
       " BoxAnnotation(id='p1292', ...),\n",
       " BoxInteractionHandles(id='p1298', ...),\n",
       " BoxZoomTool(id='p1291', ...),\n",
       " CDSView(id='p1309', ...),\n",
       " CDSView(id='p1320', ...),\n",
       " Circle(id='p1316', ...),\n",
       " Circle(id='p1317', ...),\n",
       " Circle(id='p1318', ...),\n",
       " ColumnDataSource(id='p1302', ...),\n",
       " ColumnDataSource(id='p1313', ...),\n",
       " DataRange1d(id='p1268', ...),\n",
       " GlyphRenderer(id='p1308', ...),\n",
       " GlyphRenderer(id='p1319', ...),\n",
       " Grid(id='p1283', ...),\n",
       " Grid(id='p1288', ...),\n",
       " HelpTool(id='p1301', ...),\n",
       " Legend(id='p1311', ...),\n",
       " LegendItem(id='p1312', ...),\n",
       " LegendItem(id='p1322', ...),\n",
       " Line(id='p1305', ...),\n",
       " Line(id='p1306', ...),\n",
       " Line(id='p1307', ...),\n",
       " LinearAxis(id='p1279', ...),\n",
       " LinearAxis(id='p1284', ...),\n",
       " LinearScale(id='p1277', ...),\n",
       " LinearScale(id='p1278', ...),\n",
       " PanTool(id='p1289', ...),\n",
       " Range1d(id='p1276', ...),\n",
       " ResetTool(id='p1300', ...),\n",
       " SaveTool(id='p1299', ...),\n",
       " Selection(id='p1303', ...),\n",
       " Selection(id='p1314', ...),\n",
       " Title(id='p1269', ...),\n",
       " Toolbar(id='p1275', ...),\n",
       " UnionRenderers(id='p1304', ...),\n",
       " UnionRenderers(id='p1315', ...),\n",
       " WheelZoomTool(id='p1290', ...),\n",
       " figure(id='p1266', ...)}"
      ]
     },
     "execution_count": 18,
     "metadata": {},
     "output_type": "execute_result"
    }
   ],
   "source": [
    "fig.references()"
   ]
  },
  {
   "cell_type": "code",
   "execution_count": 19,
   "metadata": {},
   "outputs": [
    {
     "data": {
      "text/plain": [
       "[Circle(id='p1317', ...),\n",
       " Circle(id='p1318', ...),\n",
       " Line(id='p1307', ...),\n",
       " Line(id='p1306', ...),\n",
       " Line(id='p1305', ...),\n",
       " Circle(id='p1316', ...),\n",
       " AreaVisuals(id='p1297', ...)]"
      ]
     },
     "execution_count": 19,
     "metadata": {},
     "output_type": "execute_result"
    }
   ],
   "source": [
    "fig.select(dict(line_width=1))"
   ]
  },
  {
   "cell_type": "markdown",
   "metadata": {},
   "source": [
    "パラメータ`type`は、モデルタイプをクエリするために使用できます。以下では、`select()`を使用してすべての`Grid`オブジェクトを見つけ、その属性`grid_line_dash`を`'dotted'`に設定して、グリッドの線スタイルを点線に変更します。"
   ]
  },
  {
   "cell_type": "code",
   "execution_count": 20,
   "metadata": {},
   "outputs": [],
   "source": [
    "from bokeh.models import Grid\n",
    "for grid in fig.select(dict(type=Grid)):\n",
    "    grid.grid_line_dash = \"dotted\""
   ]
  },
  {
   "cell_type": "markdown",
   "metadata": {},
   "source": [
    "`bokeh.core.query`モジュールでは、`IN`、`OR`、`GT`、`LT`などの一致演算子も提供されています。以下では、`IN`と`OR`を使用して、タイプが`Circle`または`Line`であるオブジェクトを選択します："
   ]
  },
  {
   "cell_type": "code",
   "execution_count": 21,
   "metadata": {},
   "outputs": [
    {
     "data": {
      "text/plain": [
       "[Circle(id='p1317', ...),\n",
       " Circle(id='p1318', ...),\n",
       " Line(id='p1307', ...),\n",
       " Line(id='p1306', ...),\n",
       " Line(id='p1305', ...),\n",
       " Circle(id='p1316', ...)]"
      ]
     },
     "execution_count": 21,
     "metadata": {},
     "output_type": "execute_result"
    }
   ],
   "source": [
    "from bokeh.core.query import IN, OR\n",
    "from bokeh.models import Circle, Line\n",
    "fig.select(dict(type={IN: [Circle, Line]}))"
   ]
  },
  {
   "cell_type": "code",
   "execution_count": 22,
   "metadata": {},
   "outputs": [
    {
     "data": {
      "text/plain": [
       "[Circle(id='p1317', ...),\n",
       " Circle(id='p1318', ...),\n",
       " Line(id='p1307', ...),\n",
       " Line(id='p1306', ...),\n",
       " Line(id='p1305', ...),\n",
       " Circle(id='p1316', ...)]"
      ]
     },
     "execution_count": 22,
     "metadata": {},
     "output_type": "execute_result"
    }
   ],
   "source": [
    "fig.select({OR: [{\"type\": Circle}, {\"type\": Line}]})"
   ]
  },
  {
   "cell_type": "markdown",
   "metadata": {},
   "source": [
    "複数のキーワード引数を使用する場合、`select()`はすべてのパラメータに一致するオブジェクトを返します。以下では、タイプが`Line`で、`line_color`属性が赤色であるオブジェクトを選択します："
   ]
  },
  {
   "cell_type": "code",
   "execution_count": 23,
   "metadata": {},
   "outputs": [
    {
     "data": {
      "text/plain": [
       "[Line(id='p1307', ...), Line(id='p1306', ...), Line(id='p1305', ...)]"
      ]
     },
     "execution_count": 23,
     "metadata": {},
     "output_type": "execute_result"
    }
   ],
   "source": [
    "fig.select(dict(type=Line, line_color=\"red\"))"
   ]
  },
  {
   "cell_type": "markdown",
   "metadata": {},
   "source": [
    "`select()`を使用すると、指定された条件に一致するオブジェクトを見つけることができますが、そのオブジェクトが構造ツリー内のどこにあるかは示されません。本書で提供されている`find_path(root, target)`を使用すると、`root`オブジェクトから`target`オブジェクトへのパスを見つけることができます。例えば、以下は`Circle`と`Line`図形オブジェクトのパスを表示します："
   ]
  },
  {
   "cell_type": "code",
   "execution_count": 24,
   "metadata": {},
   "outputs": [
    {
     "name": "stdout",
     "output_type": "stream",
     "text": [
      "fig.renderers[1].nonselection_glyph : Circle(id='p1317', ...)\n",
      "fig.renderers[1].muted_glyph : Circle(id='p1318', ...)\n",
      "fig.renderers[0].muted_glyph : Line(id='p1307', ...)\n",
      "fig.renderers[0].nonselection_glyph : Line(id='p1306', ...)\n",
      "fig.renderers[0].glyph : Line(id='p1305', ...)\n",
      "fig.renderers[1].glyph : Circle(id='p1316', ...)\n"
     ]
    }
   ],
   "source": [
    "from helper.bokeh import find_path\n",
    "\n",
    "for model in fig.select(dict(type={IN: [Circle, Line]})):\n",
    "    model_path = find_path(fig, model, root_name='fig')\n",
    "    print(f'{model_path} : {model}')"
   ]
  },
  {
   "cell_type": "markdown",
   "metadata": {},
   "source": [
    "`find_path()`のパラメータ`all`が`True`の場合、すべてのパスを返します。例えば、折れ線を表す描画オブジェクトには2つのアクセスパスがあり、2番目のパスは凡例オブジェクトを介して取得されます："
   ]
  },
  {
   "cell_type": "code",
   "execution_count": 25,
   "metadata": {},
   "outputs": [
    {
     "name": "stdout",
     "output_type": "stream",
     "text": [
      "fig.renderers[0]\n",
      "fig.center[2].items[0].renderers[0]\n",
      "\n",
      "Legend(id='p1311', ...)\n"
     ]
    }
   ],
   "source": [
    "for p in find_path(fig, line, root_name='fig', all=True):\n",
    "    print(p)\n",
    "\n",
    "print()\n",
    "print(fig.center[2])"
   ]
  },
  {
   "cell_type": "markdown",
   "metadata": {},
   "source": [
    "`set_select()`は、クエリ結果の属性を設定できます。最初のパラメータはクエリ用の辞書で、2番目のパラメータは属性名と属性値を保存する辞書です。例えば、以下のプログラムはチャート内のすべての`Line`オブジェクトの色を青色に変更します："
   ]
  },
  {
   "cell_type": "code",
   "execution_count": 26,
   "metadata": {},
   "outputs": [],
   "source": [
    "fig.set_select(dict(type=Line), dict(line_color='blue'))"
   ]
  },
  {
   "cell_type": "markdown",
   "metadata": {},
   "source": [
    "`figure`オブジェクト内でクエリを行うことが多いため、`figure`クラスの`select()`は、キーワード引数を直接使用してクエリ条件を設定することをサポートしています。例えば："
   ]
  },
  {
   "cell_type": "code",
   "execution_count": 27,
   "metadata": {},
   "outputs": [
    {
     "data": {
      "text/plain": [
       "[Circle(id='p1317', ...),\n",
       " Circle(id='p1318', ...),\n",
       " Line(id='p1307', ...),\n",
       " Line(id='p1306', ...),\n",
       " Line(id='p1305', ...),\n",
       " Circle(id='p1316', ...)]"
      ]
     },
     "execution_count": 27,
     "metadata": {},
     "output_type": "execute_result"
    }
   ],
   "source": [
    "fig.select(type={IN:[Circle, Line]})"
   ]
  },
  {
   "cell_type": "code",
   "execution_count": 28,
   "metadata": {},
   "outputs": [
    {
     "data": {
      "text/plain": [
       "[Line(id='p1307', ...), Line(id='p1306', ...), Line(id='p1305', ...)]"
      ]
     },
     "execution_count": 28,
     "metadata": {},
     "output_type": "execute_result"
    }
   ],
   "source": [
    "fig.select(line_color=\"blue\")"
   ]
  },
  {
   "cell_type": "markdown",
   "metadata": {},
   "source": [
    "### コールバック関数\n",
    "\n",
    "`on_change()`メソッドを使用して、モデルオブジェクトに属性値が変更されたときのコールバック関数を追加できます。コールバック関数には、属性名、属性の元の値、新しい値の3つのパラメータがあります。`remove_on_change()`を使用して、指定されたコールバック関数を削除できます。例えば、以下の例では、`line.visible`の値が`True`から`False`に変更されると、`on_visible_changed()`が呼び出されます。モデルオブジェクトのコールバック関数は、Bokehサーバーを使用してチャートを表示する場合にのみ実際に機能します。関連する内容は、後の章で詳しく説明します。"
   ]
  },
  {
   "cell_type": "code",
   "execution_count": 29,
   "metadata": {},
   "outputs": [
    {
     "name": "stdout",
     "output_type": "stream",
     "text": [
      "visible True False\n"
     ]
    }
   ],
   "source": [
    "def on_visible_changed(name, old, new):\n",
    "    print(name, old, new)\n",
    "\n",
    "line.visible = True\n",
    "line.on_change('visible', on_visible_changed)\n",
    "line.visible = False\n",
    "line.remove_on_change('visible', on_visible_changed)"
   ]
  },
  {
   "cell_type": "markdown",
   "metadata": {},
   "source": [
    "Bokehチャートの描画作業はブラウザのJavaScriptで行われます。Pythonで作成されたすべてのモデルオブジェクトは、JavaScriptで対応するモデルオブジェクトが作成されます。`js_on_change()`を使用して、JavaScript内のモデルオブジェクトにコールバックコードを指定できます。最初のパラメータはコールバックコードをトリガーするイベント名で、2番目のパラメータはコールバックコードをラップする`CustomJS`オブジェクトです。`change:property_name`を使用して属性変更イベントを表すことができ、イベント名として属性名を直接使用することもできます。コールバック関数内では、`cb_obj`変数を使用してイベントをトリガーしたモデルオブジェクトにアクセスできます。`CustomJS`の`args`パラメータを使用して、他のモデルオブジェクトをコールバックコードに渡すことができます。\n",
    "\n",
    "以下の例では、チャートのX軸表示範囲を表すオブジェクト`fig.x_range`の`start`属性値が変更されると、`callback`に設定されたコードが呼び出されます。JavaScriptコード内では、`line`変数は折れ線を表すモデルオブジェクトであり、`cb_obj`はX軸表示範囲を表すモデルオブジェクトです。`console.log()`を使用して、これら2つのオブジェクトをブラウザの開発ツールのコンソールに出力します。`console.log()`で出力されたオブジェクトは、そのすべての属性を確認できるため、モデルオブジェクトの内部構造を理解するのに役立ちます。"
   ]
  },
  {
   "cell_type": "code",
   "execution_count": 30,
   "metadata": {},
   "outputs": [
    {
     "data": {
      "text/html": [
       "\n",
       "  <div id=\"bf62bb90-cdb8-4ded-8275-8f811e108a19\" data-root-id=\"p1323\" style=\"display: contents;\"></div>\n"
      ]
     },
     "metadata": {},
     "output_type": "display_data"
    },
    {
     "data": {
      "application/javascript": [
       "(function(root) {\n",
       "  function embed_document(root) {\n",
       "  const docs_json = {\"ef0c2a25-3f0a-4310-8204-983e73356b40\":{\"version\":\"3.6.0\",\"title\":\"Bokeh Application\",\"roots\":[{\"type\":\"object\",\"name\":\"Figure\",\"id\":\"p1323\",\"attributes\":{\"width\":500,\"height\":300,\"x_range\":{\"type\":\"object\",\"name\":\"Range1d\",\"id\":\"p1333\",\"attributes\":{\"js_property_callbacks\":{\"type\":\"map\",\"entries\":[[\"change:start\",[{\"type\":\"object\",\"name\":\"CustomJS\",\"id\":\"p1370\",\"attributes\":{\"args\":{\"type\":\"map\",\"entries\":[[\"line\",{\"type\":\"object\",\"name\":\"GlyphRenderer\",\"id\":\"p1365\",\"attributes\":{\"data_source\":{\"type\":\"object\",\"name\":\"ColumnDataSource\",\"id\":\"p1359\",\"attributes\":{\"selected\":{\"type\":\"object\",\"name\":\"Selection\",\"id\":\"p1360\",\"attributes\":{\"indices\":[],\"line_indices\":[]}},\"selection_policy\":{\"type\":\"object\",\"name\":\"UnionRenderers\",\"id\":\"p1361\"},\"data\":{\"type\":\"map\",\"entries\":[[\"x\",[1,2,3]],[\"y\",[4,6,5]]]}}},\"view\":{\"type\":\"object\",\"name\":\"CDSView\",\"id\":\"p1366\",\"attributes\":{\"filter\":{\"type\":\"object\",\"name\":\"AllIndices\",\"id\":\"p1367\"}}},\"glyph\":{\"type\":\"object\",\"name\":\"Line\",\"id\":\"p1362\",\"attributes\":{\"x\":{\"type\":\"field\",\"field\":\"x\"},\"y\":{\"type\":\"field\",\"field\":\"y\"},\"line_color\":\"red\"}},\"nonselection_glyph\":{\"type\":\"object\",\"name\":\"Line\",\"id\":\"p1363\",\"attributes\":{\"x\":{\"type\":\"field\",\"field\":\"x\"},\"y\":{\"type\":\"field\",\"field\":\"y\"},\"line_color\":\"red\",\"line_alpha\":0.1}},\"muted_glyph\":{\"type\":\"object\",\"name\":\"Line\",\"id\":\"p1364\",\"attributes\":{\"x\":{\"type\":\"field\",\"field\":\"x\"},\"y\":{\"type\":\"field\",\"field\":\"y\"},\"line_color\":\"red\",\"line_alpha\":0.2}}}}]]},\"code\":\"\\nconsole.log(line, cb_obj);\\n\"}}]]]},\"start\":1,\"end\":3}},\"y_range\":{\"type\":\"object\",\"name\":\"DataRange1d\",\"id\":\"p1325\"},\"x_scale\":{\"type\":\"object\",\"name\":\"LinearScale\",\"id\":\"p1334\"},\"y_scale\":{\"type\":\"object\",\"name\":\"LinearScale\",\"id\":\"p1335\"},\"title\":{\"type\":\"object\",\"name\":\"Title\",\"id\":\"p1326\",\"attributes\":{\"text\":\"example\"}},\"renderers\":[{\"id\":\"p1365\"}],\"toolbar\":{\"type\":\"object\",\"name\":\"Toolbar\",\"id\":\"p1332\",\"attributes\":{\"tools\":[{\"type\":\"object\",\"name\":\"PanTool\",\"id\":\"p1346\"},{\"type\":\"object\",\"name\":\"WheelZoomTool\",\"id\":\"p1347\",\"attributes\":{\"renderers\":\"auto\"}},{\"type\":\"object\",\"name\":\"BoxZoomTool\",\"id\":\"p1348\",\"attributes\":{\"overlay\":{\"type\":\"object\",\"name\":\"BoxAnnotation\",\"id\":\"p1349\",\"attributes\":{\"syncable\":false,\"line_color\":\"black\",\"line_alpha\":1.0,\"line_width\":2,\"line_dash\":[4,4],\"fill_color\":\"lightgrey\",\"fill_alpha\":0.5,\"level\":\"overlay\",\"visible\":false,\"left\":{\"type\":\"number\",\"value\":\"nan\"},\"right\":{\"type\":\"number\",\"value\":\"nan\"},\"top\":{\"type\":\"number\",\"value\":\"nan\"},\"bottom\":{\"type\":\"number\",\"value\":\"nan\"},\"left_units\":\"canvas\",\"right_units\":\"canvas\",\"top_units\":\"canvas\",\"bottom_units\":\"canvas\",\"handles\":{\"type\":\"object\",\"name\":\"BoxInteractionHandles\",\"id\":\"p1355\",\"attributes\":{\"all\":{\"type\":\"object\",\"name\":\"AreaVisuals\",\"id\":\"p1354\",\"attributes\":{\"fill_color\":\"white\",\"hover_fill_color\":\"lightgray\"}}}}}}}},{\"type\":\"object\",\"name\":\"SaveTool\",\"id\":\"p1356\"},{\"type\":\"object\",\"name\":\"ResetTool\",\"id\":\"p1357\"},{\"type\":\"object\",\"name\":\"HelpTool\",\"id\":\"p1358\"}]}},\"left\":[{\"type\":\"object\",\"name\":\"LinearAxis\",\"id\":\"p1341\",\"attributes\":{\"ticker\":{\"type\":\"object\",\"name\":\"BasicTicker\",\"id\":\"p1342\",\"attributes\":{\"mantissas\":[1,2,5]}},\"formatter\":{\"type\":\"object\",\"name\":\"BasicTickFormatter\",\"id\":\"p1343\"},\"major_label_policy\":{\"type\":\"object\",\"name\":\"AllLabels\",\"id\":\"p1344\"}}}],\"below\":[{\"type\":\"object\",\"name\":\"LinearAxis\",\"id\":\"p1336\",\"attributes\":{\"ticker\":{\"type\":\"object\",\"name\":\"BasicTicker\",\"id\":\"p1337\",\"attributes\":{\"mantissas\":[1,2,5]}},\"formatter\":{\"type\":\"object\",\"name\":\"BasicTickFormatter\",\"id\":\"p1338\"},\"major_label_policy\":{\"type\":\"object\",\"name\":\"AllLabels\",\"id\":\"p1339\"}}}],\"center\":[{\"type\":\"object\",\"name\":\"Grid\",\"id\":\"p1340\",\"attributes\":{\"axis\":{\"id\":\"p1336\"}}},{\"type\":\"object\",\"name\":\"Grid\",\"id\":\"p1345\",\"attributes\":{\"dimension\":1,\"axis\":{\"id\":\"p1341\"}}},{\"type\":\"object\",\"name\":\"Legend\",\"id\":\"p1368\",\"attributes\":{\"items\":[{\"type\":\"object\",\"name\":\"LegendItem\",\"id\":\"p1369\",\"attributes\":{\"label\":{\"type\":\"value\",\"value\":\"line1\"},\"renderers\":[{\"id\":\"p1365\"}]}}]}}]}}]}};\n",
       "  const render_items = [{\"docid\":\"ef0c2a25-3f0a-4310-8204-983e73356b40\",\"roots\":{\"p1323\":\"bf62bb90-cdb8-4ded-8275-8f811e108a19\"},\"root_ids\":[\"p1323\"]}];\n",
       "  void root.Bokeh.embed.embed_items_notebook(docs_json, render_items);\n",
       "  }\n",
       "  if (root.Bokeh !== undefined) {\n",
       "    embed_document(root);\n",
       "  } else {\n",
       "    let attempts = 0;\n",
       "    const timer = setInterval(function(root) {\n",
       "      if (root.Bokeh !== undefined) {\n",
       "        clearInterval(timer);\n",
       "        embed_document(root);\n",
       "      } else {\n",
       "        attempts++;\n",
       "        if (attempts > 100) {\n",
       "          clearInterval(timer);\n",
       "          console.log(\"Bokeh: ERROR: Unable to run BokehJS code because BokehJS library is missing\");\n",
       "        }\n",
       "      }\n",
       "    }, 10, root)\n",
       "  }\n",
       "})(window);"
      ],
      "application/vnd.bokehjs_exec.v0+json": ""
     },
     "metadata": {
      "application/vnd.bokehjs_exec.v0+json": {
       "id": "p1323"
      }
     },
     "output_type": "display_data"
    }
   ],
   "source": [
    "from bokeh.models import CustomJS\n",
    "\n",
    "fig = figure(width=500, height=300, title=\"example\", x_range=(1, 3))\n",
    "line = fig.line([1, 2, 3], [4, 6, 5], color=\"red\", legend_label=\"line1\")\n",
    "\n",
    "callback = CustomJS(args=dict(line=line), code='''\n",
    "console.log(line, cb_obj);\n",
    "''')\n",
    "\n",
    "fig.x_range.js_on_change('start', callback)\n",
    "show(fig)"
   ]
  },
  {
   "cell_type": "markdown",
   "metadata": {},
   "source": [
    "### ウィジェットオブジェクト\n",
    "\n",
    "`bokeh.models.widgets`モジュールでは、グラフィカルユーザーインターフェースを構成するために必要なさまざまなウィジェットクラスを提供しています。ほとんどのウィジェットには、ウィジェットの説明を表示するための`title`属性があり、`value`属性を使用してウィジェットの値を保存します。テキストラベルを直接表示できるウィジェットは、`label`属性を使用してテキストを保存します。例えば、ボタンウィジェットです。複数のラベルを持つウィジェットは、`labels`属性を使用してラベルのテキストリストを保存します。例えば、チェックボックスグループ`CheckBoxGroup`、ラジオグループ`RadioGroup`などです。候補値を持つウィジェットは、`options`属性を使用して候補値リストを保存します。例えば、単一選択ドロップダウン`Select`、複数選択`MultiSelect`などです。`value`属性を持つウィジェットは、`js_on_change()`と`on_change()`を使用して、JavaScriptとPythonでウィジェットのイベントに応答できます。ボタンクラスのウィジェットは、`js_on_click()`と`on_click()`を使用してマウスクリックイベントに応答することもできます。\n",
    "\n",
    "読者が各ウィジェットの使用効果を簡単に理解できるように、以下のコードを使用して本書で提供されているウィジェットデモプログラムを実行できます。プログラムの出力は次のグラフのようになります。左側の選択ボックスからウィジェットのクラス名を選択し、`Create`ボタンをクリックして右側にそのウィジェットを作成します。ウィジェットを作成する際のパラメータ名とパラメータ値は、ウィジェットの上に表示されます。"
   ]
  },
  {
   "cell_type": "code",
   "execution_count": 31,
   "metadata": {},
   "outputs": [
    {
     "data": {
      "text/html": [
       "\n",
       "  <div id=\"e0f972db-5db7-494f-9d50-10bb24719a5a\" data-root-id=\"p1377\" style=\"display: contents;\"></div>\n"
      ]
     },
     "metadata": {},
     "output_type": "display_data"
    },
    {
     "data": {
      "application/javascript": [
       "(function(root) {\n",
       "  function embed_document(root) {\n",
       "  const docs_json = {\"056bd453-acb3-444e-9510-ab6b4d371847\":{\"version\":\"3.6.0\",\"title\":\"Bokeh Application\",\"roots\":[{\"type\":\"object\",\"name\":\"Row\",\"id\":\"p1377\",\"attributes\":{\"children\":[{\"type\":\"object\",\"name\":\"Column\",\"id\":\"p1376\",\"attributes\":{\"children\":[{\"type\":\"object\",\"name\":\"MultiSelect\",\"id\":\"p1371\",\"attributes\":{\"tags\":[{\"type\":\"map\",\"entries\":[[\"Button\",{\"type\":\"map\",\"entries\":[[\"label\",\"Click Me\"]]}],[\"Toggle\",{\"type\":\"map\",\"entries\":[[\"label\",\"Toggle Me\"]]}],[\"Dropdown\",{\"type\":\"map\",\"entries\":[[\"menu\",[\"Item 1\",\"Item 2\",\"Item 3\"]]]}],[\"CheckboxButtonGroup\",{\"type\":\"map\",\"entries\":[[\"labels\",[\"Item 1\",\"Item 2\",\"Item 3\"]]]}],[\"RadioButtonGroup\",{\"type\":\"map\",\"entries\":[[\"labels\",[\"Item 1\",\"Item 2\",\"Item 3\"]]]}],[\"CheckboxGroup\",{\"type\":\"map\",\"entries\":[[\"labels\",[\"Item 1\",\"Item 2\",\"Item 3\"]]]}],[\"RadioGroup\",{\"type\":\"map\",\"entries\":[[\"labels\",[\"Item 1\",\"Item 2\",\"Item 3\"]]]}],[\"NumericInput\",{\"type\":\"map\",\"entries\":[[\"title\",\"Input a Number\"],[\"value\",4]]}],[\"Spinner\",{\"type\":\"map\",\"entries\":[[\"title\",\"Input a Number\"],[\"value\",10],[\"step\",0.5]]}],[\"TextInput\",{\"type\":\"map\",\"entries\":[[\"title\",\"Input a String\"],[\"value\",\"hello\"]]}],[\"TextAreaInput\",{\"type\":\"map\",\"entries\":[[\"title\",\"Input a String\"],[\"rows\",5]]}],[\"PasswordInput\",{\"type\":\"map\",\"entries\":[[\"title\",\"Input a Password\"]]}],[\"AutocompleteInput\",{\"type\":\"map\",\"entries\":[[\"completions\",[\"False\",\"None\",\"True\",\"and\",\"as\",\"assert\",\"async\",\"await\",\"break\",\"class\",\"continue\",\"def\",\"del\",\"elif\",\"else\",\"except\",\"finally\",\"for\",\"from\",\"global\",\"if\",\"import\",\"in\",\"is\",\"lambda\",\"nonlocal\",\"not\",\"or\",\"pass\",\"raise\",\"return\",\"try\",\"while\",\"with\",\"yield\"]],[\"title\",\"Input a Python Keyword\"]]}],[\"Select\",{\"type\":\"map\",\"entries\":[[\"options\",[\"Item 1\",\"Item 2\",\"Item 3\"]]]}],[\"MultiSelect\",{\"type\":\"map\",\"entries\":[[\"options\",[\"Item 1\",\"Item 2\",\"Item 3\"]]]}],[\"MultiChoice\",{\"type\":\"map\",\"entries\":[[\"options\",[\"Item 1\",\"Item 2\",\"Item 3\"]]]}],[\"DatePicker\",{\"type\":\"map\",\"entries\":[[\"title\",\"Select a Date\"],[\"value\",1742483591039.4941]]}],[\"ColorPicker\",{\"type\":\"map\",\"entries\":[[\"title\",\"Select a Color\"]]}],[\"FileInput\",{\"type\":\"map\",\"entries\":[[\"title\",\"Select a File\"]]}],[\"Paragraph\",{\"type\":\"map\",\"entries\":[[\"text\",\"This is a Paragraph\"]]}],[\"PreText\",{\"type\":\"map\",\"entries\":[[\"text\",\"print(\\\"hello world!\\\")\"]]}],[\"Div\",{\"type\":\"map\",\"entries\":[[\"text\",\"This is a Div\"]]}],[\"Slider\",{\"type\":\"map\",\"entries\":[[\"start\",0],[\"end\",10],[\"step\",0.1],[\"value\",5],[\"title\",\"Speed\"]]}],[\"RangeSlider\",{\"type\":\"map\",\"entries\":[[\"start\",0],[\"end\",10],[\"step\",0.1],[\"value\",[1,4]],[\"title\",\"Select a Range\"]]}],[\"DateSlider\",{\"type\":\"map\",\"entries\":[[\"start\",1585699200000.0],[\"end\",1588291200000.0],[\"value\",1586476800000.0],[\"title\",\"Select a Date\"],[\"format\",\"%Y/%m/%d\"]]}],[\"DateRangeSlider\",{\"type\":\"map\",\"entries\":[[\"start\",1585699200000.0],[\"end\",1588291200000.0],[\"value\",[1586476800000.0,1586822400000.0]],[\"title\",\"Select a Date Range\"],[\"format\",\"%Y/%m/%d\"]]}]]}],\"options\":[\"Button\",\"Toggle\",\"Dropdown\",\"HelpButton\",\"CheckboxButtonGroup\",\"RadioButtonGroup\",\"CheckboxGroup\",\"RadioGroup\",\"FileInput\",\"NumericInput\",\"Spinner\",\"TextLikeInput\",\"TextInput\",\"PasswordInput\",\"AutocompleteInput\",\"TextAreaInput\",\"Select\",\"MultiSelect\",\"MultiChoice\",\"ColorPicker\",\"PaletteSelect\",\"TimePicker\",\"DatePicker\",\"DateRangePicker\",\"MultipleDatePicker\",\"DatetimePicker\",\"DatetimeRangePicker\",\"MultipleDatetimePicker\",\"Checkbox\",\"Switch\",\"Paragraph\",\"PreText\",\"Div\",\"Slider\",\"RangeSlider\",\"DateSlider\",\"DateRangeSlider\",\"DatetimeRangeSlider\",\"CategoricalSlider\"],\"value\":[\"Button\"],\"size\":39}},{\"type\":\"object\",\"name\":\"Button\",\"id\":\"p1372\",\"attributes\":{\"js_event_callbacks\":{\"type\":\"map\",\"entries\":[[\"button_click\",[{\"type\":\"object\",\"name\":\"CustomJS\",\"id\":\"p1374\",\"attributes\":{\"args\":{\"type\":\"map\",\"entries\":[[\"select\",{\"id\":\"p1371\"}],[\"layout\",{\"type\":\"object\",\"name\":\"Column\",\"id\":\"p1375\",\"attributes\":{\"height\":500,\"children\":[{\"type\":\"object\",\"name\":\"PreText\",\"id\":\"p1373\"}]}}],[\"arg_info\",{\"id\":\"p1373\"}]]},\"code\":\"\\n    window.layout = layout;\\n    let args = select.tags[0];\\n    let classname = select.value[0];\\n    let class_ = Bokeh.Models.get(classname);\\n    let instance = new class_();\\n    if(classname in args){\\n        let arg = args[classname];\\n        for(let name in arg){\\n            instance[name] = arg[name];\\n        }\\n        arg_info.text = JSON.stringify(arg, null, 4);\\n    }\\n\\n    layout.children = [layout.children[0], instance];\\n    \"}}]]]},\"width\":100,\"label\":\"Create\"}}]}},{\"id\":\"p1375\"}]}}]}};\n",
       "  const render_items = [{\"docid\":\"056bd453-acb3-444e-9510-ab6b4d371847\",\"roots\":{\"p1377\":\"e0f972db-5db7-494f-9d50-10bb24719a5a\"},\"root_ids\":[\"p1377\"]}];\n",
       "  void root.Bokeh.embed.embed_items_notebook(docs_json, render_items);\n",
       "  }\n",
       "  if (root.Bokeh !== undefined) {\n",
       "    embed_document(root);\n",
       "  } else {\n",
       "    let attempts = 0;\n",
       "    const timer = setInterval(function(root) {\n",
       "      if (root.Bokeh !== undefined) {\n",
       "        clearInterval(timer);\n",
       "        embed_document(root);\n",
       "      } else {\n",
       "        attempts++;\n",
       "        if (attempts > 100) {\n",
       "          clearInterval(timer);\n",
       "          console.log(\"Bokeh: ERROR: Unable to run BokehJS code because BokehJS library is missing\");\n",
       "        }\n",
       "      }\n",
       "    }, 10, root)\n",
       "  }\n",
       "})(window);"
      ],
      "application/vnd.bokehjs_exec.v0+json": ""
     },
     "metadata": {
      "application/vnd.bokehjs_exec.v0+json": {
       "id": "p1377"
      }
     },
     "output_type": "display_data"
    }
   ],
   "source": [
    "from helper.bokeh import widgets_demo\n",
    "widgets_demo()"
   ]
  },
  {
   "cell_type": "markdown",
   "metadata": {},
   "source": [
    "### レイアウトオブジェクト\n",
    "\n",
    "`bokeh.layouts`モジュールでは、`Row`、`Column`、`GridBox`の3つのレイアウトクラスを提供しており、これらは複数のチャートやウィジェットを配置するためのものです。これらはそれぞれ水平レイアウト、垂直レイアウト、グリッドレイアウトです。`layouts`モジュールを使用しやすくするために、`row()`、`column()`、`grid()`などのヘルパー関数を提供して、これらのレイアウトオブジェクトを作成します。`row()`と`column()`関数のパラメータは、要素オブジェクトのリスト、または複数の要素オブジェクトです。`grid()`のパラメータは、ネストされたリストを使用して2次元グリッドを表すか、1次元リストと`ncols`パラメータを使用してグリッドの列数を指定できます。\n",
    "\n",
    "以下の例では、`row()`のパラメータは4つのオブジェクトを含むリストであり、`grid()`の要素リストパラメータは10個のオブジェクトを含み、`ncols`は5であるため、2行5列のグリッドを作成します。`column()`の2つのパラメータは、それぞれ`row()`と`grid()`で作成されたレイアウトオブジェクトであり、これら2つのオブジェクトを縦方向に配置します。プログラムの出力は次のグラフのようになります。"
   ]
  },
  {
   "cell_type": "code",
   "execution_count": 32,
   "metadata": {},
   "outputs": [
    {
     "data": {
      "text/html": [
       "\n",
       "  <div id=\"b5e7e45e-0543-4327-ad9b-baa2a565d9a1\" data-root-id=\"p1394\" style=\"display: contents;\"></div>\n"
      ]
     },
     "metadata": {},
     "output_type": "display_data"
    },
    {
     "data": {
      "application/javascript": [
       "(function(root) {\n",
       "  function embed_document(root) {\n",
       "  const docs_json = {\"b01c6a14-ed5b-4ec5-a7f0-ebc264530b71\":{\"version\":\"3.6.0\",\"title\":\"Bokeh Application\",\"roots\":[{\"type\":\"object\",\"name\":\"Column\",\"id\":\"p1394\",\"attributes\":{\"children\":[{\"type\":\"object\",\"name\":\"Row\",\"id\":\"p1382\",\"attributes\":{\"children\":[{\"type\":\"object\",\"name\":\"Div\",\"id\":\"p1378\",\"attributes\":{\"styles\":{\"type\":\"map\",\"entries\":[[\"background-color\",\"lightgray\"]]},\"width\":65,\"height\":50}},{\"type\":\"object\",\"name\":\"Div\",\"id\":\"p1379\",\"attributes\":{\"styles\":{\"type\":\"map\",\"entries\":[[\"background-color\",\"lightgray\"]]},\"width\":65,\"height\":50}},{\"type\":\"object\",\"name\":\"Div\",\"id\":\"p1380\",\"attributes\":{\"styles\":{\"type\":\"map\",\"entries\":[[\"background-color\",\"lightgray\"]]},\"width\":65,\"height\":50}},{\"type\":\"object\",\"name\":\"Div\",\"id\":\"p1381\",\"attributes\":{\"styles\":{\"type\":\"map\",\"entries\":[[\"background-color\",\"lightgray\"]]},\"width\":65,\"height\":50}}]}},{\"type\":\"object\",\"name\":\"GridBox\",\"id\":\"p1393\",\"attributes\":{\"rows\":null,\"cols\":null,\"children\":[[{\"type\":\"object\",\"name\":\"Div\",\"id\":\"p1383\",\"attributes\":{\"styles\":{\"type\":\"map\",\"entries\":[[\"background-color\",\"#1f77b4\"]]},\"width\":50,\"height\":50}},0,0,1,1],[{\"type\":\"object\",\"name\":\"Div\",\"id\":\"p1384\",\"attributes\":{\"styles\":{\"type\":\"map\",\"entries\":[[\"background-color\",\"#ff7f0e\"]]},\"width\":50,\"height\":50}},0,1,1,1],[{\"type\":\"object\",\"name\":\"Div\",\"id\":\"p1385\",\"attributes\":{\"styles\":{\"type\":\"map\",\"entries\":[[\"background-color\",\"#2ca02c\"]]},\"width\":50,\"height\":50}},0,2,1,1],[{\"type\":\"object\",\"name\":\"Div\",\"id\":\"p1386\",\"attributes\":{\"styles\":{\"type\":\"map\",\"entries\":[[\"background-color\",\"#d62728\"]]},\"width\":50,\"height\":50}},0,3,1,1],[{\"type\":\"object\",\"name\":\"Div\",\"id\":\"p1387\",\"attributes\":{\"styles\":{\"type\":\"map\",\"entries\":[[\"background-color\",\"#9467bd\"]]},\"width\":50,\"height\":50}},0,4,1,1],[{\"type\":\"object\",\"name\":\"Div\",\"id\":\"p1388\",\"attributes\":{\"styles\":{\"type\":\"map\",\"entries\":[[\"background-color\",\"#8c564b\"]]},\"width\":50,\"height\":50}},1,0,1,1],[{\"type\":\"object\",\"name\":\"Div\",\"id\":\"p1389\",\"attributes\":{\"styles\":{\"type\":\"map\",\"entries\":[[\"background-color\",\"#e377c2\"]]},\"width\":50,\"height\":50}},1,1,1,1],[{\"type\":\"object\",\"name\":\"Div\",\"id\":\"p1390\",\"attributes\":{\"styles\":{\"type\":\"map\",\"entries\":[[\"background-color\",\"#7f7f7f\"]]},\"width\":50,\"height\":50}},1,2,1,1],[{\"type\":\"object\",\"name\":\"Div\",\"id\":\"p1391\",\"attributes\":{\"styles\":{\"type\":\"map\",\"entries\":[[\"background-color\",\"#bcbd22\"]]},\"width\":50,\"height\":50}},1,3,1,1],[{\"type\":\"object\",\"name\":\"Div\",\"id\":\"p1392\",\"attributes\":{\"styles\":{\"type\":\"map\",\"entries\":[[\"background-color\",\"#17becf\"]]},\"width\":50,\"height\":50}},1,4,1,1]]}}]}}]}};\n",
       "  const render_items = [{\"docid\":\"b01c6a14-ed5b-4ec5-a7f0-ebc264530b71\",\"roots\":{\"p1394\":\"b5e7e45e-0543-4327-ad9b-baa2a565d9a1\"},\"root_ids\":[\"p1394\"]}];\n",
       "  void root.Bokeh.embed.embed_items_notebook(docs_json, render_items);\n",
       "  }\n",
       "  if (root.Bokeh !== undefined) {\n",
       "    embed_document(root);\n",
       "  } else {\n",
       "    let attempts = 0;\n",
       "    const timer = setInterval(function(root) {\n",
       "      if (root.Bokeh !== undefined) {\n",
       "        clearInterval(timer);\n",
       "        embed_document(root);\n",
       "      } else {\n",
       "        attempts++;\n",
       "        if (attempts > 100) {\n",
       "          clearInterval(timer);\n",
       "          console.log(\"Bokeh: ERROR: Unable to run BokehJS code because BokehJS library is missing\");\n",
       "        }\n",
       "      }\n",
       "    }, 10, root)\n",
       "  }\n",
       "})(window);"
      ],
      "application/vnd.bokehjs_exec.v0+json": ""
     },
     "metadata": {
      "application/vnd.bokehjs_exec.v0+json": {
       "id": "p1394"
      }
     },
     "output_type": "display_data"
    }
   ],
   "source": [
    "from bokeh.layouts import row, column, grid, Row, Column, GridBox\n",
    "from bokeh.palettes import Category10_10\n",
    "from bokeh.models import Div\n",
    "\n",
    "layout = column(\n",
    "    row([Div(width=65, height=50, background='lightgray') for i in range(4)]),\n",
    "    grid([Div(width=50, height=50, background=color) for color in Category10_10], ncols=5)\n",
    ")\n",
    "show(layout)"
   ]
  }
 ],
 "metadata": {
  "kernelspec": {
   "display_name": "Python 3 (ipykernel)",
   "language": "python",
   "name": "python3"
  },
  "language_info": {
   "codemirror_mode": {
    "name": "ipython",
    "version": 3
   },
   "file_extension": ".py",
   "mimetype": "text/x-python",
   "name": "python",
   "nbconvert_exporter": "python",
   "pygments_lexer": "ipython3",
   "version": "3.13.2"
  },
  "scpy3": {
   "theme": "default"
  },
  "toc-autonumbering": false,
  "widgets": {
   "application/vnd.jupyter.widget-state+json": {
    "state": {
     "391d49fe51664df88fc14ff9931b6413": {
      "model_module": "@jupyter-widgets/base",
      "model_module_version": "2.0.0",
      "model_name": "LayoutModel",
      "state": {}
     },
     "a3a8820fdee843569458609c4439c783": {
      "model_module": "@bokeh/jupyter_bokeh",
      "model_module_version": "^4.0.5",
      "model_name": "BokehModel",
      "state": {
       "layout": "IPY_MODEL_391d49fe51664df88fc14ff9931b6413",
       "render_bundle": "{\"docs_json\":{\"08e59fc1-9e13-4582-b7b4-11d908553faf\":{\"version\":\"3.6.3\",\"title\":\"Bokeh Application\",\"roots\":[{\"type\":\"object\",\"name\":\"Column\",\"id\":\"p1192\",\"attributes\":{\"children\":[{\"type\":\"object\",\"name\":\"Slider\",\"id\":\"p1191\",\"attributes\":{\"title\":\"freq\",\"start\":1,\"end\":10,\"value\":1,\"step\":0.1}},{\"type\":\"object\",\"name\":\"Figure\",\"id\":\"p1134\",\"attributes\":{\"width\":500,\"height\":300,\"x_range\":{\"type\":\"object\",\"name\":\"Range1d\",\"id\":\"p1144\"},\"y_range\":{\"type\":\"object\",\"name\":\"DataRange1d\",\"id\":\"p1136\"},\"x_scale\":{\"type\":\"object\",\"name\":\"LinearScale\",\"id\":\"p1145\"},\"y_scale\":{\"type\":\"object\",\"name\":\"LinearScale\",\"id\":\"p1146\"},\"title\":{\"type\":\"object\",\"name\":\"Title\",\"id\":\"p1137\",\"attributes\":{\"text\":\"\\u6b63\\u5f26\\u4f59\\u5f26\\u66f2\\u7dda\"}},\"renderers\":[{\"type\":\"object\",\"name\":\"GlyphRenderer\",\"id\":\"p1176\",\"attributes\":{\"name\":\"sin\",\"data_source\":{\"type\":\"object\",\"name\":\"ColumnDataSource\",\"id\":\"p1170\",\"attributes\":{\"selected\":{\"type\":\"object\",\"name\":\"Selection\",\"id\":\"p1171\",\"attributes\":{\"indices\":[],\"line_indices\":[]}},\"selection_policy\":{\"type\":\"object\",\"name\":\"UnionRenderers\",\"id\":\"p1172\"},\"data\":{\"type\":\"map\",\"entries\":[[\"x\",{\"type\":\"ndarray\",\"array\":{\"type\":\"bytes\",\"data\":\"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\"},\"shape\":[400],\"dtype\":\"float64\",\"order\":\"little\"}],[\"y\",{\"type\":\"ndarray\",\"array\":{\"type\":\"bytes\",\"data\":\"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\"},\"shape\":[400],\"dtype\":\"float64\",\"order\":\"little\"}]]}}},\"view\":{\"type\":\"object\",\"name\":\"CDSView\",\"id\":\"p1177\",\"attributes\":{\"filter\":{\"type\":\"object\",\"name\":\"AllIndices\",\"id\":\"p1178\"}}},\"glyph\":{\"type\":\"object\",\"name\":\"Line\",\"id\":\"p1173\",\"attributes\":{\"x\":{\"type\":\"field\",\"field\":\"x\"},\"y\":{\"type\":\"field\",\"field\":\"y\"},\"line_color\":\"red\",\"line_width\":2}},\"nonselection_glyph\":{\"type\":\"object\",\"name\":\"Line\",\"id\":\"p1174\",\"attributes\":{\"x\":{\"type\":\"field\",\"field\":\"x\"},\"y\":{\"type\":\"field\",\"field\":\"y\"},\"line_color\":\"red\",\"line_alpha\":0.1,\"line_width\":2}},\"muted_glyph\":{\"type\":\"object\",\"name\":\"Line\",\"id\":\"p1175\",\"attributes\":{\"x\":{\"type\":\"field\",\"field\":\"x\"},\"y\":{\"type\":\"field\",\"field\":\"y\"},\"line_color\":\"red\",\"line_alpha\":0.2,\"line_width\":2}}}},{\"type\":\"object\",\"name\":\"GlyphRenderer\",\"id\":\"p1187\",\"attributes\":{\"name\":\"cos\",\"data_source\":{\"type\":\"object\",\"name\":\"ColumnDataSource\",\"id\":\"p1181\",\"attributes\":{\"selected\":{\"type\":\"object\",\"name\":\"Selection\",\"id\":\"p1182\",\"attributes\":{\"indices\":[],\"line_indices\":[]}},\"selection_policy\":{\"type\":\"object\",\"name\":\"UnionRenderers\",\"id\":\"p1183\"},\"data\":{\"type\":\"map\",\"entries\":[[\"x\",{\"type\":\"ndarray\",\"array\":{\"type\":\"bytes\",\"data\":\"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\"},\"shape\":[400],\"dtype\":\"float64\",\"order\":\"little\"}],[\"y\",{\"type\":\"ndarray\",\"array\":{\"type\":\"bytes\",\"data\":\"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\"},\"shape\":[400],\"dtype\":\"float64\",\"order\":\"little\"}]]}}},\"view\":{\"type\":\"object\",\"name\":\"CDSView\",\"id\":\"p1188\",\"attributes\":{\"filter\":{\"type\":\"object\",\"name\":\"AllIndices\",\"id\":\"p1189\"}}},\"glyph\":{\"type\":\"object\",\"name\":\"Line\",\"id\":\"p1184\",\"attributes\":{\"x\":{\"type\":\"field\",\"field\":\"x\"},\"y\":{\"type\":\"field\",\"field\":\"y\"},\"line_color\":\"green\",\"line_width\":2}},\"nonselection_glyph\":{\"type\":\"object\",\"name\":\"Line\",\"id\":\"p1185\",\"attributes\":{\"x\":{\"type\":\"field\",\"field\":\"x\"},\"y\":{\"type\":\"field\",\"field\":\"y\"},\"line_color\":\"green\",\"line_alpha\":0.1,\"line_width\":2}},\"muted_glyph\":{\"type\":\"object\",\"name\":\"Line\",\"id\":\"p1186\",\"attributes\":{\"x\":{\"type\":\"field\",\"field\":\"x\"},\"y\":{\"type\":\"field\",\"field\":\"y\"},\"line_color\":\"green\",\"line_alpha\":0.2,\"line_width\":2}}}}],\"toolbar\":{\"type\":\"object\",\"name\":\"Toolbar\",\"id\":\"p1143\",\"attributes\":{\"tools\":[{\"type\":\"object\",\"name\":\"PanTool\",\"id\":\"p1157\"},{\"type\":\"object\",\"name\":\"WheelZoomTool\",\"id\":\"p1158\",\"attributes\":{\"renderers\":\"auto\"}},{\"type\":\"object\",\"name\":\"BoxZoomTool\",\"id\":\"p1159\",\"attributes\":{\"overlay\":{\"type\":\"object\",\"name\":\"BoxAnnotation\",\"id\":\"p1160\",\"attributes\":{\"syncable\":false,\"line_color\":\"black\",\"line_alpha\":1.0,\"line_width\":2,\"line_dash\":[4,4],\"fill_color\":\"lightgrey\",\"fill_alpha\":0.5,\"level\":\"overlay\",\"visible\":false,\"left\":{\"type\":\"number\",\"value\":\"nan\"},\"right\":{\"type\":\"number\",\"value\":\"nan\"},\"top\":{\"type\":\"number\",\"value\":\"nan\"},\"bottom\":{\"type\":\"number\",\"value\":\"nan\"},\"left_units\":\"canvas\",\"right_units\":\"canvas\",\"top_units\":\"canvas\",\"bottom_units\":\"canvas\",\"handles\":{\"type\":\"object\",\"name\":\"BoxInteractionHandles\",\"id\":\"p1166\",\"attributes\":{\"all\":{\"type\":\"object\",\"name\":\"AreaVisuals\",\"id\":\"p1165\",\"attributes\":{\"fill_color\":\"white\",\"hover_fill_color\":\"lightgray\"}}}}}}}},{\"type\":\"object\",\"name\":\"SaveTool\",\"id\":\"p1167\"},{\"type\":\"object\",\"name\":\"ResetTool\",\"id\":\"p1168\"},{\"type\":\"object\",\"name\":\"HelpTool\",\"id\":\"p1169\"}]}},\"left\":[{\"type\":\"object\",\"name\":\"LinearAxis\",\"id\":\"p1152\",\"attributes\":{\"ticker\":{\"type\":\"object\",\"name\":\"BasicTicker\",\"id\":\"p1153\",\"attributes\":{\"mantissas\":[1,2,5]}},\"formatter\":{\"type\":\"object\",\"name\":\"BasicTickFormatter\",\"id\":\"p1154\"},\"major_label_policy\":{\"type\":\"object\",\"name\":\"AllLabels\",\"id\":\"p1155\"}}}],\"below\":[{\"type\":\"object\",\"name\":\"LinearAxis\",\"id\":\"p1147\",\"attributes\":{\"ticker\":{\"type\":\"object\",\"name\":\"BasicTicker\",\"id\":\"p1148\",\"attributes\":{\"mantissas\":[1,2,5]}},\"formatter\":{\"type\":\"object\",\"name\":\"BasicTickFormatter\",\"id\":\"p1149\"},\"major_label_policy\":{\"type\":\"object\",\"name\":\"AllLabels\",\"id\":\"p1150\"}}}],\"center\":[{\"type\":\"object\",\"name\":\"Grid\",\"id\":\"p1151\",\"attributes\":{\"axis\":{\"id\":\"p1147\"}}},{\"type\":\"object\",\"name\":\"Grid\",\"id\":\"p1156\",\"attributes\":{\"dimension\":1,\"axis\":{\"id\":\"p1152\"}}},{\"type\":\"object\",\"name\":\"Legend\",\"id\":\"p1179\",\"attributes\":{\"location\":\"bottom_left\",\"orientation\":\"horizontal\",\"items\":[{\"type\":\"object\",\"name\":\"LegendItem\",\"id\":\"p1180\",\"attributes\":{\"label\":{\"type\":\"value\",\"value\":\"sin\"},\"renderers\":[{\"id\":\"p1176\"}]}},{\"type\":\"object\",\"name\":\"LegendItem\",\"id\":\"p1190\",\"attributes\":{\"label\":{\"type\":\"value\",\"value\":\"cos\"},\"renderers\":[{\"id\":\"p1187\"}]}}]}}]}}]}}]}},\"render_items\":[{\"docid\":\"08e59fc1-9e13-4582-b7b4-11d908553faf\",\"roots\":{\"p1192\":\"b8a67216-cad9-4f61-8ced-64bda0407798\"},\"root_ids\":[\"p1192\"]}],\"div\":\"\\n  <div id=\\\"b8a67216-cad9-4f61-8ced-64bda0407798\\\" data-root-id=\\\"p1192\\\" style=\\\"display: contents;\\\"></div>\\n\"}"
      }
     }
    },
    "version_major": 2,
    "version_minor": 0
   }
  }
 },
 "nbformat": 4,
 "nbformat_minor": 4
}
