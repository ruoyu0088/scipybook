{
 "cells": [
  {
   "cell_type": "markdown",
   "metadata": {},
   "source": [
    "# PyVistaのデータセット"
   ]
  },
  {
   "cell_type": "markdown",
   "metadata": {},
   "source": [
    "PyVistaは、Pythonでの3D可視化とメッシュ操作を容易にする強力なライブラリです。データを適切な構造で表現することは、可視化の第一歩となります。本章では、PyVistaのデータセットの基本概念を紹介し、そのデータ構造を理解することで、3Dデータの操作や解析結果の視覚的表現をより効果的に行う方法を解説します。"
   ]
  },
  {
   "cell_type": "code",
   "execution_count": 2,
   "metadata": {},
   "outputs": [],
   "source": [
    "from helper.python import print_subclasses\n",
    "import helper.magics\n",
    "import pyvista as pv\n",
    "import numpy as np\n",
    "from helper.pyvista import plotter_to_iframe, plot_point_indices"
   ]
  },
  {
   "cell_type": "markdown",
   "metadata": {},
   "source": [
    "PyVistaは、さまざまな種類のデータを表現するために複数のデータセット（Dataset）を提供しています。データセットは、点（Point）とデータ（Data）の2つの要素で構成されます。点は互いに接続されている場合とされていない場合があり、複数の関連する点が集まることでセル（Cell）を形成します。点同士の接続は明示的または暗黙的に定義されます。データはスカラーまたはベクトルとして表現され、点またはセルに付随することができます。  \n",
    "\n",
    "本章では、いくつかの例を通じてデータセットの構造を段階的に理解していきます。PyVistaのデータセットクラスはすべて`pv.DataSet`を基底クラスとして継承しており、次にその継承関係を示します。  \n",
    "\n",
    ":::{tip}\n",
    "読者がデータセットの構造をより具体的に理解できるよう、PyVistaの`Plotter`を使用してデータセットの構造を3D図として描画します。学習の過程でこれらのプログラムを実行し、データセットへの理解を深めてください。  \n",
    ":::"
   ]
  },
  {
   "cell_type": "code",
   "execution_count": 2,
   "metadata": {},
   "outputs": [
    {
     "name": "stdout",
     "output_type": "stream",
     "text": [
      "└──DataSet\n",
      "   ├──Grid\n",
      "   │  ├──RectilinearGrid\n",
      "   │  └──ImageData\n",
      "   └──_PointSet\n",
      "      ├──PointSet\n",
      "      ├──PolyData\n",
      "      └──PointGrid\n",
      "         ├──UnstructuredGrid\n",
      "         ├──StructuredGrid\n",
      "         └──ExplicitStructuredGrid\n"
     ]
    }
   ],
   "source": [
    "print_subclasses(pv.DataSet)"
   ]
  },
  {
   "cell_type": "markdown",
   "metadata": {},
   "source": [
    "## ImageData"
   ]
  },
  {
   "cell_type": "markdown",
   "metadata": {},
   "source": [
    "最も理解しやすいデータセットは`ImageData`で、2次元または3次元の画像を表現するデータ構造です。単純に2次元または3次元の配列として考えることができます。配列にはデータが格納されており、点は直交する等間隔のグリッド上にあるため、点の座標を指定する必要はありません。点間の接続関係も配列内の位置によって決定されるため、接続も暗黙的です。\n",
    "\n",
    "以下のプログラムは`ImageData`オブジェクトを作成し、`spacing`、`origin`、`dimensions`属性を設定しています。"
   ]
  },
  {
   "cell_type": "code",
   "execution_count": 3,
   "metadata": {
    "collapsed": false,
    "group_control": {
     "group": 0
    },
    "jupyter": {
     "outputs_hidden": false
    }
   },
   "outputs": [
    {
     "data": {
      "text/html": [
       "\n",
       "<table style='width: 100%;'>\n",
       "<tr><th>ImageData</th><th>Information</th></tr>\n",
       "<tr><td>N Cells</td><td>24</td></tr>\n",
       "<tr><td>N Points</td><td>60</td></tr>\n",
       "<tr><td>X Bounds</td><td>1.000e-01, 3.000e-01</td></tr>\n",
       "<tr><td>Y Bounds</td><td>2.000e-01, 5.000e-01</td></tr>\n",
       "<tr><td>Z Bounds</td><td>3.000e-01, 7.000e-01</td></tr>\n",
       "<tr><td>Dimensions</td><td>3, 4, 5</td></tr>\n",
       "<tr><td>Spacing</td><td>1.000e-01, 1.000e-01, 1.000e-01</td></tr>\n",
       "<tr><td>N Arrays</td><td>0</td></tr>\n",
       "</table>\n",
       "\n"
      ],
      "text/plain": [
       "ImageData (0x1e9414d6aa0)\n",
       "  N Cells:      24\n",
       "  N Points:     60\n",
       "  X Bounds:     1.000e-01, 3.000e-01\n",
       "  Y Bounds:     2.000e-01, 5.000e-01\n",
       "  Z Bounds:     3.000e-01, 7.000e-01\n",
       "  Dimensions:   3, 4, 5\n",
       "  Spacing:      1.000e-01, 1.000e-01, 1.000e-01\n",
       "  N Arrays:     0"
      ]
     },
     "execution_count": 3,
     "metadata": {},
     "output_type": "execute_result"
    }
   ],
   "source": [
    "img = pv.ImageData(\n",
    "    spacing=(0.1, 0.1, 0.1), origin=(0.1, 0.2, 0.3), dimensions=(3, 4, 5)\n",
    ")\n",
    "img"
   ]
  },
  {
   "cell_type": "markdown",
   "metadata": {},
   "source": [
    "`origin`属性は3Dグリッドデータの開始座標を、`spacing`属性はX、Y、Z軸方向のグリッド間隔を、`dimensions`属性はX、Y、Z軸方向のグリッド数をそれぞれ示します。`img.points`を使用すると、グリッド内の各点の座標値が格納された配列を取得できます。この配列の座標は、X、Y、Z軸に沿って順に増加していきます。以下のプログラムは、最初の6点の座標を出力します。"
   ]
  },
  {
   "cell_type": "code",
   "execution_count": 4,
   "metadata": {},
   "outputs": [
    {
     "data": {
      "text/plain": [
       "array([[0.1, 0.2, 0.3],\n",
       "       [0.2, 0.2, 0.3],\n",
       "       [0.3, 0.2, 0.3],\n",
       "       [0.1, 0.3, 0.3],\n",
       "       [0.2, 0.3, 0.3],\n",
       "       [0.3, 0.3, 0.3]])"
      ]
     },
     "execution_count": 4,
     "metadata": {},
     "output_type": "execute_result"
    }
   ],
   "source": [
    "img.points[:6]"
   ]
  },
  {
   "cell_type": "markdown",
   "metadata": {},
   "source": [
    "各点に対応するデータは、`point_data`属性に保存されており、これは`DataSetAttributes`オブジェクトです。"
   ]
  },
  {
   "cell_type": "code",
   "execution_count": 5,
   "metadata": {},
   "outputs": [
    {
     "data": {
      "text/plain": [
       "pyvista DataSetAttributes\n",
       "Association     : POINT\n",
       "Active Scalars  : None\n",
       "Active Vectors  : None\n",
       "Active Texture  : None\n",
       "Active Normals  : None\n",
       "Contains arrays : None"
      ]
     },
     "execution_count": 5,
     "metadata": {},
     "output_type": "execute_result"
    }
   ],
   "source": [
    "img.point_data"
   ]
  },
  {
   "cell_type": "markdown",
   "metadata": {},
   "source": [
    "`DataSetAttributes`オブジェクトには、複数のデータセットを保存できます。`active_scalars`属性は、各点に対応するスカラー値を格納します。NumPy配列を代入すると、自動的にPyVistaの対応する配列オブジェクトが作成され、その内容が保存されます。\n",
    "\n",
    "例えば、以下のプログラムを実行すると、`active_scalars`属性は`None`から`pyvista_ndarray`配列に変わります。このプログラムは、各点にインデックスと同じスカラー値を追加します："
   ]
  },
  {
   "cell_type": "code",
   "execution_count": 6,
   "metadata": {
    "collapsed": false,
    "group_control": {
     "group": 0
    },
    "jupyter": {
     "outputs_hidden": false
    }
   },
   "outputs": [
    {
     "name": "stdout",
     "output_type": "stream",
     "text": [
      "None\n",
      "<class 'pyvista.core.pyvista_ndarray.pyvista_ndarray'>\n"
     ]
    },
    {
     "data": {
      "text/plain": [
       "pyvista_ndarray([ 0.,  1.,  2.,  3.,  4.,  5.,  6.,  7.,  8.,  9., 10.,\n",
       "                 11., 12., 13., 14., 15., 16., 17., 18., 19., 20., 21.,\n",
       "                 22., 23., 24., 25., 26., 27., 28., 29., 30., 31., 32.,\n",
       "                 33., 34., 35., 36., 37., 38., 39., 40., 41., 42., 43.,\n",
       "                 44., 45., 46., 47., 48., 49., 50., 51., 52., 53., 54.,\n",
       "                 55., 56., 57., 58., 59.])"
      ]
     },
     "execution_count": 6,
     "metadata": {},
     "output_type": "execute_result"
    }
   ],
   "source": [
    "print(img.point_data.active_scalars)  # データなし\n",
    "img.point_data.set_scalars(np.arange(0.0, img.n_points))\n",
    "print(type(img.point_data.active_scalars))\n",
    "img.point_data.active_scalars"
   ]
  },
  {
   "cell_type": "markdown",
   "metadata": {},
   "source": [
    "`pyvista_ndarray`は、NumPyの`ndarray`を継承したクラスです。そのため、NumPy配列がサポートするすべての操作を利用できます。"
   ]
  },
  {
   "cell_type": "code",
   "execution_count": 7,
   "metadata": {
    "collapsed": false,
    "group_control": {
     "group": 0
    },
    "jupyter": {
     "outputs_hidden": false
    }
   },
   "outputs": [
    {
     "name": "stdout",
     "output_type": "stream",
     "text": [
      "[10. 11.  2.  3.  4.]\n"
     ]
    }
   ],
   "source": [
    "img.point_data.active_scalars[:2] = 10, 11\n",
    "print(img.point_data.active_scalars[:5])"
   ]
  },
  {
   "cell_type": "markdown",
   "metadata": {},
   "source": [
    "`pyvista_ndarray`は、VTKの配列メソッドもサポートしています。次の例では、`GetName()`メソッドを使って、この配列の名前を取得します。"
   ]
  },
  {
   "cell_type": "code",
   "execution_count": 8,
   "metadata": {},
   "outputs": [
    {
     "data": {
      "text/plain": [
       "'scalars'"
      ]
     },
     "execution_count": 8,
     "metadata": {},
     "output_type": "execute_result"
    }
   ],
   "source": [
    "img.point_data.active_scalars.GetName()"
   ]
  },
  {
   "cell_type": "markdown",
   "metadata": {},
   "source": [
    "`DataSetAttributes`オブジェクトは、複数の配列を保持できます。また、辞書のようなインターフェースを提供しているため、他のデータを簡単に追加できます。"
   ]
  },
  {
   "cell_type": "code",
   "execution_count": 9,
   "metadata": {},
   "outputs": [
    {
     "data": {
      "text/plain": [
       "['scalars']"
      ]
     },
     "execution_count": 9,
     "metadata": {},
     "output_type": "execute_result"
    }
   ],
   "source": [
    "img.point_data.keys()"
   ]
  },
  {
   "cell_type": "code",
   "execution_count": 10,
   "metadata": {},
   "outputs": [
    {
     "data": {
      "text/plain": [
       "pyvista_ndarray([10., 11.,  2.,  3.,  4.,  5.,  6.,  7.,  8.,  9., 10.,\n",
       "                 11., 12., 13., 14., 15., 16., 17., 18., 19., 20., 21.,\n",
       "                 22., 23., 24., 25., 26., 27., 28., 29., 30., 31., 32.,\n",
       "                 33., 34., 35., 36., 37., 38., 39., 40., 41., 42., 43.,\n",
       "                 44., 45., 46., 47., 48., 49., 50., 51., 52., 53., 54.,\n",
       "                 55., 56., 57., 58., 59.])"
      ]
     },
     "execution_count": 10,
     "metadata": {},
     "output_type": "execute_result"
    }
   ],
   "source": [
    "img.point_data[\"scalars\"]"
   ]
  },
  {
   "cell_type": "code",
   "execution_count": 11,
   "metadata": {},
   "outputs": [
    {
     "data": {
      "text/plain": [
       "['scalars', 'zerodata']"
      ]
     },
     "execution_count": 11,
     "metadata": {},
     "output_type": "execute_result"
    }
   ],
   "source": [
    "img.point_data[\"zerodata\"] = np.zeros(img.n_points)\n",
    "img.point_data.keys()"
   ]
  },
  {
   "cell_type": "markdown",
   "metadata": {},
   "source": [
    "`del`キーワードを使用することで、配列名を指定して配列を削除することができます："
   ]
  },
  {
   "cell_type": "code",
   "execution_count": 12,
   "metadata": {
    "collapsed": false,
    "group_control": {
     "group": 0
    },
    "jupyter": {
     "outputs_hidden": false
    }
   },
   "outputs": [
    {
     "data": {
      "text/plain": [
       "['scalars']"
      ]
     },
     "execution_count": 12,
     "metadata": {},
     "output_type": "execute_result"
    }
   ],
   "source": [
    "del img.point_data[\"zerodata\"]\n",
    "img.point_data.keys()"
   ]
  },
  {
   "cell_type": "markdown",
   "metadata": {},
   "source": [
    "各点に対応する値は、スカラーだけでなくベクトルも指定できます。ベクトル配列は、`set_vectors()`メソッドを使って追加できます。以下のプログラムでは、形状が `(N, 3)` の NumPy 配列を `vectors` という名前で追加しています。ここで `N` は点の数を表し、`ImageData` オブジェクトの各点が3次元空間内のベクトルに対応します："
   ]
  },
  {
   "cell_type": "code",
   "execution_count": 13,
   "metadata": {},
   "outputs": [
    {
     "data": {
      "text/plain": [
       "pyvista DataSetAttributes\n",
       "Association     : POINT\n",
       "Active Scalars  : scalars\n",
       "Active Vectors  : vectors\n",
       "Active Texture  : None\n",
       "Active Normals  : None\n",
       "Contains arrays :\n",
       "    scalars                 float64    (60,)                SCALARS\n",
       "    vectors                 float64    (60, 3)              VECTORS"
      ]
     },
     "execution_count": 13,
     "metadata": {},
     "output_type": "execute_result"
    }
   ],
   "source": [
    "img.point_data.set_vectors(np.arange(0.0, img.n_points * 3).reshape(-1, 3), \"vectors\")\n",
    "img.point_data"
   ]
  },
  {
   "cell_type": "markdown",
   "metadata": {},
   "source": [
    "作成された配列は、`active_vectors`として扱われます。これは依然としてNumPy配列として操作することができます。"
   ]
  },
  {
   "cell_type": "code",
   "execution_count": 14,
   "metadata": {
    "collapsed": false,
    "group_control": {
     "group": 0
    },
    "jupyter": {
     "outputs_hidden": false
    }
   },
   "outputs": [
    {
     "data": {
      "text/plain": [
       "(60, 3)"
      ]
     },
     "execution_count": 14,
     "metadata": {},
     "output_type": "execute_result"
    }
   ],
   "source": [
    "img.point_data.active_vectors.shape"
   ]
  },
  {
   "cell_type": "markdown",
   "metadata": {},
   "source": [
    "`ImageData`オブジェクトでは、点の座標は`spacing`、`origin`、`dimensions`などの属性によって暗黙的に定義されます。同様に、点とセルの関係も暗黙的に定義されます。セルと点の関係は、次のグラフに示されています。セルは8つの隣接する点から構成される立方体で、図では第0セルが半透明の灰色の立方体として示されています。"
   ]
  },
  {
   "cell_type": "code",
   "execution_count": 15,
   "metadata": {},
   "outputs": [
    {
     "data": {
      "text/html": [
       "    <iframe srcdoc=\"\n",
       "&lt;!DOCTYPE html&gt;\n",
       "&lt;html&gt;\n",
       "&lt;body&gt;\n",
       "&lt;script type=&quot;text/javascript&quot; src=&quot;https://unpkg.com/vtk.js&quot;&gt;&lt;/script&gt;\n",
       "&lt;script src=&quot;https://cdnjs.cloudflare.com/ajax/libs/pako/2.1.0/pako.min.js&quot;&gt;&lt;/script&gt;\n",
       "\n",
       "&lt;div class=&quot;content&quot;&gt;&lt;/div&gt;\n",
       "\n",
       "&lt;script type=&quot;text/javascript&quot;&gt;\n",
       "const base64Str = &quot;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&quot;;\n",
       "const compressedData = Uint8Array.from(atob(base64Str), c =&gt; c.charCodeAt(0));\n",
       "const decompressed = pako.inflate(compressedData, { to: &quot;string&quot; });\n",
       "const data = JSON.parse(decompressed);\n",
       "\n",
       "var container = document.querySelector(&#x27;.content&#x27;);\n",
       "var fullScreenRenderer = vtk.Rendering.Misc.vtkFullScreenRenderWindow.newInstance({\n",
       "    background: [1, 1, 1],\n",
       "    rootContainer: container,\n",
       "    containerStyle: { height: &#x27;100%&#x27;, width: &#x27;100%&#x27;, position: &#x27;absolute&#x27; },\n",
       "});\n",
       "var renderWindow = fullScreenRenderer.getRenderWindow();\n",
       "var syncCTX = vtk.Rendering.Misc.vtkSynchronizableRenderWindow.getSynchronizerContext();\n",
       "var syncRW = vtk.Rendering.Misc.vtkSynchronizableRenderWindow.decorate(renderWindow);\n",
       "syncCTX.setFetchArrayFunction((sha) =&gt;\n",
       "    Promise.resolve(data.hashes[sha].content)\n",
       ");\n",
       "syncRW.synchronize(data.scene);\n",
       "syncRW.render();\n",
       "&lt;/script&gt;\n",
       "\n",
       "&lt;style&gt;\n",
       ".absolute-div {\n",
       "  position: absolute;\n",
       "  top: 0;\n",
       "  left: 0;\n",
       "  width: 600px;\n",
       "  height: 30px;\n",
       "  font-size: 9px;\n",
       "}\n",
       "&lt;/style&gt;\n",
       "&lt;div class=&quot;absolute-div&quot;&gt;\n",
       "&lt;b&gt;(Alt) 1, 2, 3&lt;/b&gt;: XYZ axis view, &lt;b&gt;P&lt;/b&gt;: parallel projection, &lt;b&gt;R&lt;/b&gt;: Reset Camera\n",
       "&lt;/div&gt;\n",
       "&lt;script&gt;\n",
       "function axis_view(axis, direct){\n",
       "    console.log(axis, direct);\n",
       "    let camera = renderWindow.getRenderers()[1].getActiveCamera();\n",
       "    let [xf, yf, zf] = camera.getFocalPoint();\n",
       "    let [xc, yc, zc] = camera.getPosition();\n",
       "    let dist = Math.sqrt((xc - xf)**2 + (yc - yf)**2 + (zc - zf)**2);\n",
       "    switch(axis){\n",
       "        case &quot;x&quot;:\n",
       "            camera.setPosition(xf + dist * direct, yf, zf);\n",
       "            camera.setViewUp(0, 0, 1);        \n",
       "            break;\n",
       "        case &quot;y&quot;:\n",
       "            camera.setPosition(xf, yf + dist * direct, zf);\n",
       "            camera.setViewUp(0, 0, 1);\n",
       "            break;\n",
       "        case &quot;z&quot;:\n",
       "            camera.setPosition(xf, yf, zf + dist * direct);\n",
       "            camera.setViewUp(0, 1, 0);\n",
       "            break;\n",
       "    }\n",
       "    renderWindow.render();   \n",
       "}\n",
       "\n",
       "function toggle_parallel_projection(){\n",
       "    let camera = renderWindow.getRenderers()[1].getActiveCamera();\n",
       "    camera.setParallelProjection(!camera.getParallelProjection());\n",
       "    renderWindow.render();\n",
       "}\n",
       "\n",
       "function reset_camera(){\n",
       "    let renderer = renderWindow.getRenderers()[1];\n",
       "    renderer.resetCamera();\n",
       "    renderWindow.render();\n",
       "}\n",
       "\n",
       "document.addEventListener(&#x27;keyup&#x27;, (e) =&gt; {\n",
       "    let direct = 1;\n",
       "    console.log(e);\n",
       "    switch(e.code){\n",
       "        case &quot;Digit1&quot;:\n",
       "            direct = e.altKey?-1:1;\n",
       "            axis_view(&quot;x&quot;, direct);\n",
       "            break;\n",
       "        case &quot;Digit2&quot;:\n",
       "            direct = e.altKey?-1:1;\n",
       "            axis_view(&quot;y&quot;, direct);\n",
       "            break;\n",
       "        case &quot;Digit3&quot;:\n",
       "            direct = e.altKey?-1:1;\n",
       "            axis_view(&quot;z&quot;, direct);\n",
       "            break;\n",
       "        case &quot;KeyP&quot;:\n",
       "            toggle_parallel_projection();\n",
       "            break;\n",
       "        case &quot;KeyR&quot;:\n",
       "            reset_camera();\n",
       "            break;\n",
       "    }\n",
       "});\n",
       "&lt;/script&gt;\n",
       "\n",
       "&lt;/body&gt;\n",
       "&lt;/html&gt;\n",
       "\" height=\"500pxpx\" width=\"500pxpx\" sandbox=\"allow-scripts allow-same-origin\" scrolling=\"no\"></iframe>    "
      ],
      "text/plain": [
       "<IPython.core.display.HTML object>"
      ]
     },
     "execution_count": 15,
     "metadata": {},
     "output_type": "execute_result"
    }
   ],
   "source": [
    "plotter = pv.Plotter()\n",
    "plotter.add_mesh(img.extract_all_edges(), color=\"black\")\n",
    "plotter.add_mesh(\n",
    "    img.glyph(\n",
    "        scale=False,\n",
    "        orient=False,\n",
    "        factor=0.02,\n",
    "        geom=pv.Sphere(theta_resolution=6, phi_resolution=6),\n",
    "    )\n",
    ")\n",
    "first_cell = img.extract_cells([0]).extract_surface(pass_pointid=False)\n",
    "\n",
    "plotter.add_mesh(first_cell, color=\"gray\", opacity=0.5)\n",
    "plot_point_indices(plotter, first_cell, scale=0.02)\n",
    "plotter.add_axes()\n",
    "plotter_to_iframe(plotter)"
   ]
  },
  {
   "cell_type": "markdown",
   "metadata": {},
   "source": [
    "`get_cell()`メソッドを使用すると、VOXEL(ボクセル)タイプの`Cell`オブジェクトを取得できます。`n_points`、`n_edges`、`n_faces`などの属性は、それぞれボクセルオブジェクトを構成する点の数、辺の数、面の数を表します。"
   ]
  },
  {
   "cell_type": "code",
   "execution_count": 16,
   "metadata": {
    "collapsed": false,
    "group_control": {
     "group": 0
    },
    "jupyter": {
     "outputs_hidden": false
    }
   },
   "outputs": [
    {
     "name": "stdout",
     "output_type": "stream",
     "text": [
      "Cell (0x1e943db1840)\n",
      "  Type:        <CellType.VOXEL: 11>\n",
      "  Linear:      True\n",
      "  Dimension:   3\n",
      "  N Points:    8\n",
      "  N Faces:     6\n",
      "  N Edges:     12\n",
      "  X Bounds:    1.000e-01, 2.000e-01\n",
      "  Y Bounds:    2.000e-01, 3.000e-01\n",
      "  Z Bounds:    3.000e-01, 4.000e-01\n",
      "cell.n_points  cell.n_edges  cell.n_faces\n",
      "-------------  ------------  ------------\n",
      "8              12            6           \n"
     ]
    }
   ],
   "source": [
    "cell = img.get_cell(0)\n",
    "print(cell)\n",
    "%C cell.n_points; cell.n_edges; cell.n_faces"
   ]
  },
  {
   "cell_type": "markdown",
   "metadata": {},
   "source": [
    "`point_ids`属性は、ボクセルを構成する点のインデックスリストを取得し、`points`属性はボクセルを構成する点の座標を取得します："
   ]
  },
  {
   "cell_type": "code",
   "execution_count": 17,
   "metadata": {
    "collapsed": false,
    "group_control": {
     "group": 0
    },
    "jupyter": {
     "outputs_hidden": false
    }
   },
   "outputs": [
    {
     "name": "stdout",
     "output_type": "stream",
     "text": [
      "[0, 1, 3, 4, 12, 13, 15, 16]\n"
     ]
    },
    {
     "data": {
      "text/plain": [
       "array([[0.1, 0.2, 0.3],\n",
       "       [0.2, 0.2, 0.3],\n",
       "       [0.1, 0.3, 0.3],\n",
       "       [0.2, 0.3, 0.3],\n",
       "       [0.1, 0.2, 0.4],\n",
       "       [0.2, 0.2, 0.4],\n",
       "       [0.1, 0.3, 0.4],\n",
       "       [0.2, 0.3, 0.4]])"
      ]
     },
     "execution_count": 17,
     "metadata": {},
     "output_type": "execute_result"
    }
   ],
   "source": [
    "print(cell.point_ids)\n",
    "cell.points"
   ]
  },
  {
   "cell_type": "markdown",
   "metadata": {},
   "source": [
    "`ImageData`オブジェクトの`n_cells`属性は、データセット内のセル数を表します。つまり、上のグラフに示された小さな立方体の数です。"
   ]
  },
  {
   "cell_type": "code",
   "execution_count": 18,
   "metadata": {
    "collapsed": false,
    "group_control": {
     "group": 0
    },
    "jupyter": {
     "outputs_hidden": false
    }
   },
   "outputs": [
    {
     "data": {
      "text/plain": [
       "24"
      ]
     },
     "execution_count": 18,
     "metadata": {},
     "output_type": "execute_result"
    }
   ],
   "source": [
    "img.n_cells"
   ]
  },
  {
   "cell_type": "markdown",
   "metadata": {},
   "source": [
    "データセットは、点とセル間の関係を取得するためのさまざまなメソッドを提供しています。例えば、`point_cell_ids()`メソッドは特定の点を含むすべてのセルのインデックスを取得し、`cell_neighbors()`メソッドは特定のセルと隣接するセルを取得します。`connections`引数で隣接の定義を指定できます。`faces`の場合、指定されたセルと共通の面を持つセルが取得されます。"
   ]
  },
  {
   "cell_type": "code",
   "execution_count": 19,
   "metadata": {
    "collapsed": false,
    "group_control": {
     "group": 0
    },
    "jupyter": {
     "outputs_hidden": false
    }
   },
   "outputs": [
    {
     "name": "stdout",
     "output_type": "stream",
     "text": [
      "cells of point 3: [2, 0]\n",
      "neighbors of cell 0: [1, 2, 6]\n"
     ]
    }
   ],
   "source": [
    "print(f\"cells of point 3: {img.point_cell_ids(3)}\")\n",
    "print(f\"neighbors of cell 0: {img.cell_neighbors(0, connections='faces')}\")"
   ]
  },
  {
   "cell_type": "markdown",
   "metadata": {},
   "source": [
    "各セルに対応するデータは`cell_data`属性に保存されており、その使用方法は`point_data`と似ています。ここでは、その詳細について省略します。"
   ]
  },
  {
   "cell_type": "code",
   "execution_count": 20,
   "metadata": {
    "collapsed": false,
    "group_control": {
     "group": 0
    },
    "jupyter": {
     "outputs_hidden": false
    }
   },
   "outputs": [
    {
     "data": {
      "text/plain": [
       "pyvista DataSetAttributes\n",
       "Association     : CELL\n",
       "Active Scalars  : None\n",
       "Active Vectors  : None\n",
       "Active Texture  : None\n",
       "Active Normals  : None\n",
       "Contains arrays :\n",
       "    vtkOriginalCellIds      int64      (24,)"
      ]
     },
     "execution_count": 20,
     "metadata": {},
     "output_type": "execute_result"
    }
   ],
   "source": [
    "img.cell_data"
   ]
  },
  {
   "cell_type": "markdown",
   "metadata": {},
   "source": [
    "## RectilinearGrid"
   ]
  },
  {
   "cell_type": "markdown",
   "metadata": {},
   "source": [
    "`ImageData`は最も単純なデータセットで、すべての点が等間隔の3Dグリッド上に配置されています。そのため、開始座標、グリッドサイズ、グリッド間隔などの情報を使って、グリッド上のすべての点の座標を計算することができます。不均一な間隔のグリッドを表現するには、次の`RectilinearGrid`データセットを使用します。"
   ]
  },
  {
   "cell_type": "code",
   "execution_count": 21,
   "metadata": {
    "collapsed": false,
    "group_control": {
     "group": 0
    },
    "jupyter": {
     "outputs_hidden": false
    }
   },
   "outputs": [
    {
     "name": "stdout",
     "output_type": "stream",
     "text": [
      "rgrid.dimensions = (4, 3, 3)\n"
     ]
    }
   ],
   "source": [
    "x = np.array([0, 3, 9, 15])\n",
    "y = np.array([0, 1, 5])\n",
    "z = np.array([0, 2, 3])\n",
    "rgrid = pv.RectilinearGrid(x, y, z)  #❶\n",
    "print(f'{rgrid.dimensions = }') #❷\n",
    "rgrid.point_data[\"scalars\"] = np.arange(0.0, rgrid.n_points, dtype=np.float64)  #❸"
   ]
  },
  {
   "cell_type": "markdown",
   "metadata": {},
   "source": [
    "`RectilinearGrid`は`ImageData`と同様に、すべての点が直交するグリッド上に配置されていますが、グリッドの分布は不均一です。そのため、X、Y、Z軸の各グリッド平面の位置を設定する必要があります。❶`RectilinearGrid`を作成する際、`x`、`y`、`z`などの3つの配列で、X軸、Y軸、Z軸に垂直な平面の位置を設定します。`RectilinearGrid`オブジェクト内の点は、これらの平面の交点になります。❷`RectilinearGrid`オブジェクトの`dimensions`属性は、これらの配列の長さに基づいています。❸最後に、`point_data`属性を使用して、各点に対応するデータを設定します。\n",
    "\n",
    "次のグラフは、作成した`RectilinearGrid`オブジェクトを表しています。半透明の長方体は、0番のセルを示しています。"
   ]
  },
  {
   "cell_type": "code",
   "execution_count": 22,
   "metadata": {},
   "outputs": [
    {
     "data": {
      "text/html": [
       "    <iframe srcdoc=\"\n",
       "&lt;!DOCTYPE html&gt;\n",
       "&lt;html&gt;\n",
       "&lt;body&gt;\n",
       "&lt;script type=&quot;text/javascript&quot; src=&quot;https://unpkg.com/vtk.js&quot;&gt;&lt;/script&gt;\n",
       "&lt;script src=&quot;https://cdnjs.cloudflare.com/ajax/libs/pako/2.1.0/pako.min.js&quot;&gt;&lt;/script&gt;\n",
       "\n",
       "&lt;div class=&quot;content&quot;&gt;&lt;/div&gt;\n",
       "\n",
       "&lt;script type=&quot;text/javascript&quot;&gt;\n",
       "const base64Str = &quot;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&quot;;\n",
       "const compressedData = Uint8Array.from(atob(base64Str), c =&gt; c.charCodeAt(0));\n",
       "const decompressed = pako.inflate(compressedData, { to: &quot;string&quot; });\n",
       "const data = JSON.parse(decompressed);\n",
       "\n",
       "var container = document.querySelector(&#x27;.content&#x27;);\n",
       "var fullScreenRenderer = vtk.Rendering.Misc.vtkFullScreenRenderWindow.newInstance({\n",
       "    background: [1, 1, 1],\n",
       "    rootContainer: container,\n",
       "    containerStyle: { height: &#x27;100%&#x27;, width: &#x27;100%&#x27;, position: &#x27;absolute&#x27; },\n",
       "});\n",
       "var renderWindow = fullScreenRenderer.getRenderWindow();\n",
       "var syncCTX = vtk.Rendering.Misc.vtkSynchronizableRenderWindow.getSynchronizerContext();\n",
       "var syncRW = vtk.Rendering.Misc.vtkSynchronizableRenderWindow.decorate(renderWindow);\n",
       "syncCTX.setFetchArrayFunction((sha) =&gt;\n",
       "    Promise.resolve(data.hashes[sha].content)\n",
       ");\n",
       "syncRW.synchronize(data.scene);\n",
       "syncRW.render();\n",
       "&lt;/script&gt;\n",
       "\n",
       "&lt;style&gt;\n",
       ".absolute-div {\n",
       "  position: absolute;\n",
       "  top: 0;\n",
       "  left: 0;\n",
       "  width: 600px;\n",
       "  height: 30px;\n",
       "  font-size: 9px;\n",
       "}\n",
       "&lt;/style&gt;\n",
       "&lt;div class=&quot;absolute-div&quot;&gt;\n",
       "&lt;b&gt;(Alt) 1, 2, 3&lt;/b&gt;: XYZ axis view, &lt;b&gt;P&lt;/b&gt;: parallel projection, &lt;b&gt;R&lt;/b&gt;: Reset Camera\n",
       "&lt;/div&gt;\n",
       "&lt;script&gt;\n",
       "function axis_view(axis, direct){\n",
       "    console.log(axis, direct);\n",
       "    let camera = renderWindow.getRenderers()[1].getActiveCamera();\n",
       "    let [xf, yf, zf] = camera.getFocalPoint();\n",
       "    let [xc, yc, zc] = camera.getPosition();\n",
       "    let dist = Math.sqrt((xc - xf)**2 + (yc - yf)**2 + (zc - zf)**2);\n",
       "    switch(axis){\n",
       "        case &quot;x&quot;:\n",
       "            camera.setPosition(xf + dist * direct, yf, zf);\n",
       "            camera.setViewUp(0, 0, 1);        \n",
       "            break;\n",
       "        case &quot;y&quot;:\n",
       "            camera.setPosition(xf, yf + dist * direct, zf);\n",
       "            camera.setViewUp(0, 0, 1);\n",
       "            break;\n",
       "        case &quot;z&quot;:\n",
       "            camera.setPosition(xf, yf, zf + dist * direct);\n",
       "            camera.setViewUp(0, 1, 0);\n",
       "            break;\n",
       "    }\n",
       "    renderWindow.render();   \n",
       "}\n",
       "\n",
       "function toggle_parallel_projection(){\n",
       "    let camera = renderWindow.getRenderers()[1].getActiveCamera();\n",
       "    camera.setParallelProjection(!camera.getParallelProjection());\n",
       "    renderWindow.render();\n",
       "}\n",
       "\n",
       "function reset_camera(){\n",
       "    let renderer = renderWindow.getRenderers()[1];\n",
       "    renderer.resetCamera();\n",
       "    renderWindow.render();\n",
       "}\n",
       "\n",
       "document.addEventListener(&#x27;keyup&#x27;, (e) =&gt; {\n",
       "    let direct = 1;\n",
       "    console.log(e);\n",
       "    switch(e.code){\n",
       "        case &quot;Digit1&quot;:\n",
       "            direct = e.altKey?-1:1;\n",
       "            axis_view(&quot;x&quot;, direct);\n",
       "            break;\n",
       "        case &quot;Digit2&quot;:\n",
       "            direct = e.altKey?-1:1;\n",
       "            axis_view(&quot;y&quot;, direct);\n",
       "            break;\n",
       "        case &quot;Digit3&quot;:\n",
       "            direct = e.altKey?-1:1;\n",
       "            axis_view(&quot;z&quot;, direct);\n",
       "            break;\n",
       "        case &quot;KeyP&quot;:\n",
       "            toggle_parallel_projection();\n",
       "            break;\n",
       "        case &quot;KeyR&quot;:\n",
       "            reset_camera();\n",
       "            break;\n",
       "    }\n",
       "});\n",
       "&lt;/script&gt;\n",
       "\n",
       "&lt;/body&gt;\n",
       "&lt;/html&gt;\n",
       "\" height=\"500pxpx\" width=\"500pxpx\" sandbox=\"allow-scripts allow-same-origin\" scrolling=\"no\"></iframe>    "
      ],
      "text/plain": [
       "<IPython.core.display.HTML object>"
      ]
     },
     "execution_count": 22,
     "metadata": {},
     "output_type": "execute_result"
    }
   ],
   "source": [
    "plotter = pv.Plotter()\n",
    "plotter.add_mesh(rgrid.extract_all_edges(), color=\"black\")\n",
    "plotter.add_mesh(\n",
    "    rgrid.glyph(\n",
    "        scale=False,\n",
    "        orient=False,\n",
    "        factor=0.5,\n",
    "        geom=pv.Sphere(theta_resolution=6, phi_resolution=6),\n",
    "    )\n",
    ")\n",
    "first_cell = rgrid.extract_cells([0]).extract_surface(pass_pointid=False)\n",
    "plotter.add_mesh(first_cell, color=\"gray\", opacity=0.5)\n",
    "plot_point_indices(plotter, first_cell, scale=0.5)\n",
    "plotter.add_axes()\n",
    "plotter_to_iframe(plotter)"
   ]
  },
  {
   "cell_type": "markdown",
   "metadata": {},
   "source": [
    "`ImageData`オブジェクトと同様に、点のインデックスはX、Y、Z軸に沿って順次増加します。例えば："
   ]
  },
  {
   "cell_type": "code",
   "execution_count": 23,
   "metadata": {
    "collapsed": false,
    "group_control": {
     "group": 0
    },
    "jupyter": {
     "outputs_hidden": false
    }
   },
   "outputs": [
    {
     "data": {
      "text/plain": [
       "array([[ 0.,  0.,  0.],\n",
       "       [ 3.,  0.,  0.],\n",
       "       [ 9.,  0.,  0.],\n",
       "       [15.,  0.,  0.],\n",
       "       [ 0.,  1.,  0.],\n",
       "       [ 3.,  1.,  0.],\n",
       "       [ 9.,  1.,  0.],\n",
       "       [15.,  1.,  0.],\n",
       "       [ 0.,  5.,  0.],\n",
       "       [ 3.,  5.,  0.]])"
      ]
     },
     "execution_count": 23,
     "metadata": {},
     "output_type": "execute_result"
    }
   ],
   "source": [
    "rgrid.points[:10]"
   ]
  },
  {
   "cell_type": "markdown",
   "metadata": {},
   "source": [
    "セルと点の関係は、`ImageData`と同様です："
   ]
  },
  {
   "cell_type": "code",
   "execution_count": 24,
   "metadata": {
    "collapsed": false,
    "group_control": {
     "group": 0
    },
    "jupyter": {
     "outputs_hidden": false
    }
   },
   "outputs": [
    {
     "name": "stdout",
     "output_type": "stream",
     "text": [
      "points of cell 1: [1, 2, 5, 6, 13, 14, 17, 18]\n",
      "[[3. 0. 0.]\n",
      " [9. 0. 0.]\n",
      " [3. 1. 0.]\n",
      " [9. 1. 0.]\n",
      " [3. 0. 2.]\n",
      " [9. 0. 2.]\n",
      " [3. 1. 2.]\n",
      " [9. 1. 2.]]\n"
     ]
    }
   ],
   "source": [
    "c = rgrid.get_cell(1)\n",
    "print(\"points of cell 1:\", repr(c.point_ids))\n",
    "print(c.points)"
   ]
  },
  {
   "cell_type": "markdown",
   "metadata": {},
   "source": [
    "## StructuredGrid"
   ]
  },
  {
   "cell_type": "markdown",
   "metadata": {},
   "source": [
    "`RectilinearGrid` よりも柔軟な構造を持つ `StructuredGrid` では、すべての点の座標を個別に指定する必要があります。ただし、点とセルの関係は、依然としてグリッド内での点の配置によって自動的に決定されます。以下のコードは、台形状の `StructuredGrid` を作成する例です。\n",
    "\n",
    "❶ まず、NumPy の `mgrid` オブジェクトを使用して、3 つの配列 `x`、`y`、`z` を作成します。それぞれの形状はすべて `(4, 5, 3)` です。配列 `x` の値は第 0 軸に沿って、`y` の値は第 1 軸に沿って、`z` の値は第 2 軸に沿って変化します。これら 3 つの配列の対応するインデックスが、等間隔のグリッド上の点を表します。\n",
    "\n",
    "❷ 各点の X 座標および Y 座標に、Z 座標に応じた係数を掛け算します。Z 軸の正方向に進むにつれてこの係数が徐々に小さくなるため、Z 軸に垂直な断面が異なる比率で収縮し、最終的に台形状のグリッドが形成されます。\n",
    "\n",
    "❸ `x`、`y`、`z` を用いて `StructuredGrid` オブジェクトを作成します。`StructuredGrid` 内部では、これらの配列を Fortran 順（`.ravel('F')`）の一次元配列として扱います。\n",
    "\n",
    "❹ 各点のインデックスを `point_data[\"scalars\"]` に格納します。"
   ]
  },
  {
   "cell_type": "code",
   "execution_count": 37,
   "metadata": {
    "collapsed": false,
    "group_control": {
     "group": 0
    },
    "jupyter": {
     "outputs_hidden": false
    }
   },
   "outputs": [],
   "source": [
    "x, y, z = np.mgrid[:4.0, :5.0, :3.0]  #❶\n",
    "x *= (4 - z) / 3  #❷\n",
    "y *= (4 - z) / 3\n",
    "sgrid = pv.StructuredGrid(x, y, z) #❸\n",
    "sgrid.point_data[\"scalars\"] = np.arange(0, sgrid.n_points, dtype=np.float64)"
   ]
  },
  {
   "cell_type": "markdown",
   "metadata": {},
   "source": [
    "配列`x`の`shape`属性は、`StructuredGrid`の`dimensions`属性として使用されます。"
   ]
  },
  {
   "cell_type": "code",
   "execution_count": 38,
   "metadata": {},
   "outputs": [
    {
     "data": {
      "text/plain": [
       "((4, 5, 3), (4, 5, 3))"
      ]
     },
     "execution_count": 38,
     "metadata": {},
     "output_type": "execute_result"
    }
   ],
   "source": [
    "x.shape, sgrid.dimensions"
   ]
  },
  {
   "cell_type": "markdown",
   "metadata": {},
   "source": [
    "配列`x`は第0軸に沿って値が変化するため、一次元配列に変換すると X 軸のデータが最も早く変化します。"
   ]
  },
  {
   "cell_type": "code",
   "execution_count": 41,
   "metadata": {},
   "outputs": [
    {
     "data": {
      "text/plain": [
       "pyvista_ndarray([[0.        , 0.        , 0.        ],\n",
       "                 [1.33333333, 0.        , 0.        ],\n",
       "                 [2.66666667, 0.        , 0.        ],\n",
       "                 [4.        , 0.        , 0.        ],\n",
       "                 [0.        , 1.33333333, 0.        ],\n",
       "                 [1.33333333, 1.33333333, 0.        ],\n",
       "                 [2.66666667, 1.33333333, 0.        ],\n",
       "                 [4.        , 1.33333333, 0.        ],\n",
       "                 [0.        , 2.66666667, 0.        ],\n",
       "                 [1.33333333, 2.66666667, 0.        ]])"
      ]
     },
     "execution_count": 41,
     "metadata": {},
     "output_type": "execute_result"
    }
   ],
   "source": [
    "sgrid.points[:10]"
   ]
  },
  {
   "cell_type": "markdown",
   "metadata": {},
   "source": [
    "次のグラフは、作成したグリッドの様子を示しています。灰色の半透明部分は、0番のセルを表しています。"
   ]
  },
  {
   "cell_type": "code",
   "execution_count": 40,
   "metadata": {},
   "outputs": [
    {
     "data": {
      "text/html": [
       "    <iframe srcdoc=\"\n",
       "&lt;!DOCTYPE html&gt;\n",
       "&lt;html&gt;\n",
       "&lt;body&gt;\n",
       "&lt;script type=&quot;text/javascript&quot; src=&quot;https://unpkg.com/vtk.js&quot;&gt;&lt;/script&gt;\n",
       "&lt;script src=&quot;https://cdnjs.cloudflare.com/ajax/libs/pako/2.1.0/pako.min.js&quot;&gt;&lt;/script&gt;\n",
       "\n",
       "&lt;div class=&quot;content&quot;&gt;&lt;/div&gt;\n",
       "\n",
       "&lt;script type=&quot;text/javascript&quot;&gt;\n",
       "const base64Str = &quot;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&quot;;\n",
       "const compressedData = Uint8Array.from(atob(base64Str), c =&gt; c.charCodeAt(0));\n",
       "const decompressed = pako.inflate(compressedData, { to: &quot;string&quot; });\n",
       "const data = JSON.parse(decompressed);\n",
       "\n",
       "var container = document.querySelector(&#x27;.content&#x27;);\n",
       "var fullScreenRenderer = vtk.Rendering.Misc.vtkFullScreenRenderWindow.newInstance({\n",
       "    background: [1, 1, 1],\n",
       "    rootContainer: container,\n",
       "    containerStyle: { height: &#x27;100%&#x27;, width: &#x27;100%&#x27;, position: &#x27;absolute&#x27; },\n",
       "});\n",
       "var renderWindow = fullScreenRenderer.getRenderWindow();\n",
       "var syncCTX = vtk.Rendering.Misc.vtkSynchronizableRenderWindow.getSynchronizerContext();\n",
       "var syncRW = vtk.Rendering.Misc.vtkSynchronizableRenderWindow.decorate(renderWindow);\n",
       "syncCTX.setFetchArrayFunction((sha) =&gt;\n",
       "    Promise.resolve(data.hashes[sha].content)\n",
       ");\n",
       "syncRW.synchronize(data.scene);\n",
       "syncRW.render();\n",
       "&lt;/script&gt;\n",
       "\n",
       "&lt;style&gt;\n",
       ".absolute-div {\n",
       "  position: absolute;\n",
       "  top: 0;\n",
       "  left: 0;\n",
       "  width: 600px;\n",
       "  height: 30px;\n",
       "  font-size: 9px;\n",
       "}\n",
       "&lt;/style&gt;\n",
       "&lt;div class=&quot;absolute-div&quot;&gt;\n",
       "&lt;b&gt;(Alt) 1, 2, 3&lt;/b&gt;: XYZ axis view, &lt;b&gt;P&lt;/b&gt;: parallel projection, &lt;b&gt;R&lt;/b&gt;: Reset Camera\n",
       "&lt;/div&gt;\n",
       "&lt;script&gt;\n",
       "function axis_view(axis, direct){\n",
       "    console.log(axis, direct);\n",
       "    let camera = renderWindow.getRenderers()[1].getActiveCamera();\n",
       "    let [xf, yf, zf] = camera.getFocalPoint();\n",
       "    let [xc, yc, zc] = camera.getPosition();\n",
       "    let dist = Math.sqrt((xc - xf)**2 + (yc - yf)**2 + (zc - zf)**2);\n",
       "    switch(axis){\n",
       "        case &quot;x&quot;:\n",
       "            camera.setPosition(xf + dist * direct, yf, zf);\n",
       "            camera.setViewUp(0, 0, 1);        \n",
       "            break;\n",
       "        case &quot;y&quot;:\n",
       "            camera.setPosition(xf, yf + dist * direct, zf);\n",
       "            camera.setViewUp(0, 0, 1);\n",
       "            break;\n",
       "        case &quot;z&quot;:\n",
       "            camera.setPosition(xf, yf, zf + dist * direct);\n",
       "            camera.setViewUp(0, 1, 0);\n",
       "            break;\n",
       "    }\n",
       "    renderWindow.render();   \n",
       "}\n",
       "\n",
       "function toggle_parallel_projection(){\n",
       "    let camera = renderWindow.getRenderers()[1].getActiveCamera();\n",
       "    camera.setParallelProjection(!camera.getParallelProjection());\n",
       "    renderWindow.render();\n",
       "}\n",
       "\n",
       "function reset_camera(){\n",
       "    let renderer = renderWindow.getRenderers()[1];\n",
       "    renderer.resetCamera();\n",
       "    renderWindow.render();\n",
       "}\n",
       "\n",
       "document.addEventListener(&#x27;keyup&#x27;, (e) =&gt; {\n",
       "    let direct = 1;\n",
       "    console.log(e);\n",
       "    switch(e.code){\n",
       "        case &quot;Digit1&quot;:\n",
       "            direct = e.altKey?-1:1;\n",
       "            axis_view(&quot;x&quot;, direct);\n",
       "            break;\n",
       "        case &quot;Digit2&quot;:\n",
       "            direct = e.altKey?-1:1;\n",
       "            axis_view(&quot;y&quot;, direct);\n",
       "            break;\n",
       "        case &quot;Digit3&quot;:\n",
       "            direct = e.altKey?-1:1;\n",
       "            axis_view(&quot;z&quot;, direct);\n",
       "            break;\n",
       "        case &quot;KeyP&quot;:\n",
       "            toggle_parallel_projection();\n",
       "            break;\n",
       "        case &quot;KeyR&quot;:\n",
       "            reset_camera();\n",
       "            break;\n",
       "    }\n",
       "});\n",
       "&lt;/script&gt;\n",
       "\n",
       "&lt;/body&gt;\n",
       "&lt;/html&gt;\n",
       "\" height=\"500pxpx\" width=\"500pxpx\" sandbox=\"allow-scripts allow-same-origin\" scrolling=\"no\"></iframe>    "
      ],
      "text/plain": [
       "<IPython.core.display.HTML object>"
      ]
     },
     "execution_count": 40,
     "metadata": {},
     "output_type": "execute_result"
    }
   ],
   "source": [
    "plotter = pv.Plotter()\n",
    "plotter.add_mesh(sgrid.extract_all_edges(), color=\"black\")\n",
    "plotter.add_mesh(\n",
    "    sgrid.glyph(\n",
    "        scale=False,\n",
    "        orient=False,\n",
    "        factor=0.15,\n",
    "        geom=pv.Sphere(theta_resolution=6, phi_resolution=6),\n",
    "    )\n",
    ")\n",
    "first_cell = sgrid.extract_cells([0]).extract_surface(pass_pointid=False)\n",
    "plotter.add_mesh(first_cell, color=\"gray\", opacity=0.5)\n",
    "plot_point_indices(plotter, first_cell, scale=0.2)\n",
    "plotter.add_axes()\n",
    "plotter_to_iframe(plotter)"
   ]
  },
  {
   "cell_type": "markdown",
   "metadata": {},
   "source": [
    "セルの形状は直方体ではありませんが、PyVista ではこのセルを `Hexahedron`（六面体）型として表現します。セルオブジェクトには `faces` や `edges` といった属性があり、それぞれセルを構成する面や辺を取得できます。"
   ]
  },
  {
   "cell_type": "code",
   "execution_count": 42,
   "metadata": {
    "collapsed": false,
    "group_control": {
     "group": 0
    },
    "jupyter": {
     "outputs_hidden": false
    }
   },
   "outputs": [
    {
     "name": "stdout",
     "output_type": "stream",
     "text": [
      "cell type: <CellType.HEXAHEDRON: 12>\n",
      "number_of_faces: 6\n",
      "face type: <CellType.QUAD: 9>\n",
      "points of face 0: [2, 22, 26, 6]\n",
      "edge count of cell: 12\n",
      "edge type: <CellType.LINE: 3>\n",
      "points of edge 0: [2, 3]\n"
     ]
    }
   ],
   "source": [
    "c = sgrid.get_cell(2)\n",
    "print(\"cell type:\", repr(c.type))\n",
    "print(\"number_of_faces:\", len(c.faces))  # セルの面数\n",
    "f = c.faces[0]  # 第0面を取得\n",
    "print(\"face type:\", repr(f.type))  # 各面はQuadオブジェクトで表される\n",
    "print(\"points of face 0:\", repr(f.point_ids))  # 第0面を構成する4つの点のインデックス\n",
    "print(\"edge count of cell:\", len(c.edges))  # セルの辺数\n",
    "e = c.edges[0]  # 第0辺を取得\n",
    "print(\"edge type:\", repr(e.type))\n",
    "print(\"points of edge 0:\", repr(e.point_ids))  # 第0辺を構成する2つの点のインデックス"
   ]
  },
  {
   "cell_type": "markdown",
   "metadata": {},
   "source": [
    "`StructuredGrid`を使用することで、任意の形状のグリッドを作成できます。例えば、次のプログラムは、次のグラフに示すように、中空円柱の半分を作成します。プログラムでは、まず円柱座標系で等間隔のグリッドを作成し、その後、各点の座標を直交座標系に変換します。具体的な手順については、読者自身で分析してください。"
   ]
  },
  {
   "cell_type": "code",
   "execution_count": 43,
   "metadata": {
    "collapsed": false,
    "group_control": {
     "group": 0
    },
    "jupyter": {
     "outputs_hidden": false
    }
   },
   "outputs": [],
   "source": [
    "r, theta, z2 = np.mgrid[2:3:3j, -np.pi / 2 : np.pi / 2 : 6j, 0:4:7j]\n",
    "x2 = np.cos(theta) * r\n",
    "y2 = np.sin(theta) * r\n",
    "\n",
    "sgrid2 = pv.StructuredGrid(x2, y2, z2)\n",
    "sgrid2.point_data[\"scalars\"] = np.arange(0, sgrid2.n_points, dtype=np.float64)"
   ]
  },
  {
   "cell_type": "code",
   "execution_count": 44,
   "metadata": {},
   "outputs": [
    {
     "data": {
      "text/html": [
       "    <iframe srcdoc=\"\n",
       "&lt;!DOCTYPE html&gt;\n",
       "&lt;html&gt;\n",
       "&lt;body&gt;\n",
       "&lt;script type=&quot;text/javascript&quot; src=&quot;https://unpkg.com/vtk.js&quot;&gt;&lt;/script&gt;\n",
       "&lt;script src=&quot;https://cdnjs.cloudflare.com/ajax/libs/pako/2.1.0/pako.min.js&quot;&gt;&lt;/script&gt;\n",
       "\n",
       "&lt;div class=&quot;content&quot;&gt;&lt;/div&gt;\n",
       "\n",
       "&lt;script type=&quot;text/javascript&quot;&gt;\n",
       "const base64Str = &quot;eJysnVt309qT7b9Kj/2aMwYiN5x+80V2lMSJBBIQXnoEE0RkQggGh6hHf/cTzbJqlubZD/1w+mF35t/6rYuqVGuViyX/9z/fbjbfbjf//Od//Pc/RyejNwfJm9Hh/ip5fXu4f3v89fPN15vDr2+OvtweJgf/dfBm9BVXdtDLH/9L4v/8xz+/n3/edsD8+8PN74P98a9fN8/d/779ve7+55f/lz/c/fi96f631cOP37c/fnf/+7JJL8+K8Xi8HOP/vv5Injqd7fTHb7ej/PWnv+OV6cXp/Yf8TfK5fTOCJj/99Xj38Iq8afKmye9BP2++l931xa6/nxcfv+Wjo2phzY/5ufH83PTbu811MW/mbz8bsPrYtPnBw8HpL9P83Prj56bfnz3sF7Mv5ecdT703bL+U9htpv5T2G2m/lPZ31/v9qeT+tqPh/a/k/rV7w/uRyP1LxB7peGivVOyd2vX8fDq0Tyr20Os7+zyK/R/F/o9i/8dof/t8YN/HaF+7fmC/x2i/veH1pVzfyPW7zwf391HubxxPIvNLTQ/uV5yPfg7/nsjzNZHnayLP12Q8fD4m8nxMxkP/n4j/T8ZD/w7Xl3J9I9fvPh/650T8M4wnkfmlpof+Fuajn+P5/jkexo+f42H8+Dkexo+fEh9+jofx4ac8/z/Hw+f/pzzvP+V5Dtc3cv3u8+HzGcbX7g3Hk8j8UtPD5+2nPF/h8+Xk/cv/hftjmvfHNO/PCTTvj33O+2Oa98eu5/0xzftzMry+lOsbuX73Oe+PjK89GY4nkfmlpnl/JsP56Ofd85HJ85XJ85XJ85XJ85XJ85XJ85XJ85XJ85XJ85XJ85XJ85XJ85XJ85XJ85XJ85XJ85XJ8/Wi//mfl/X+682X49vV0fHn1c3R0fHrg5ODo6Mvr2++rE4Oj46Pvpz81+jk9cVg2/G/I8K2o3rZW/zrrmN6+/27/89h4zGux/3/TfBfaESFKfVSNP5vRt3NfDynRpRaUK9E4/pTaS+V/kN7S7k+k/ZS/x9N4z9ncn3QGN859UP3nwvqa9G1XL+WzzMfpOlENP68lPavqEeicb9yaS/oJ7ke4ynk86A33X/eUh8OtVn+rfDv+PlyqG08pbRX8fpqqG1+76W9oDPh8dcH+Txo2PsjdSH6WjT4a+q1aIznk7R3Q70RjaF+lvaCruV6dLWSz4PGn1+oH0Q/iQZ/Sz0SjfF8lfZq19N0qG1+36S9oA/leoznTj4PGv7RsL+x6Ew07vd3atzfe+qVaFz/w7W5+pq6GrZntzpcfy3t4foHalz0k/p6qO1SXm/Pl17/SL0RjfH8Ij8SfSjXr70T0w9Dbc+Dfv6b+lA0Lv1DvhJdyPWw95Y6GWrzX/38yfUsHWobz1/yG9EPcj3uzzPbGw+1+Zt+3lIXojGehO2rVh7++pp6OdRT0TPY/4Aa9+eQei0a1x+xPYx3n7oatmf+E66/lvbw+TE17ucb6nqozd95vfmbXj+iTkTj+hPyG9EPcj0+36N+Gurp0799/sq17RSoMR5bNOhfUSdyPT7nfmc2Gurp6N8+5/4nXYru/phwPwT/inos1+Nz7nfSbKhn2b99zv1Qei0a41mQL0Qv5Xp8zv1UWg31THSKh4z7p7Sz94T7oXQjGtdzfwT/nnB/Bv8M7cF/4vW1tIfPuZ9KO3+YcD+VPgw1/D1cD3/7f67n/ikdicb13G+ZfwX9JNfjc+630sOhnh3+2+fcb82zobbxcL9l/kVt/hh4fM792Dwd6jT9t8+535pXojEe7s/Mv4LO5Hp8zv3ZvBjqtPi3z7k/m9eiMR7uz8zfg67kenzO/dt8NdSp6Dnsz/3aHPbmfmyeiMb13H+Zf99Qr4ftmf+E6x+kPXzO/doc/sD92vxpqM3feb35m15fu16kQ23z4X7O/CvoQ7ken3M/h0gS9Hz8b59zP7coRGM83J+ZfwWdyvX4nPu3xXKo58t/+5z7ucVKNMbD/Z/5V9CFXI/Pub9bXA/1/PrfPuf+b/EgGuPhfs78PeiVXI/PuR9crId6LnoB+3O/hm8pJtzP4VuUqHE992vm39w/mn+yPfOfcP2TtIfPuV/DyjHhfm5xONTm77ze/E2v537udDnUNh/uz8y/gh4Lj8+5vzvNhnqR/dvn3M+dXovGeLg/M/8KeinX43Pu306roV5U//Y593Ona9EYD/d/5l9BX8v1+Jz7u9N6qBf1v33O/d/pk2iMh/s58/eg13I9Pud+8HQz1AtqfFF2tP95/+bk8PDN/uv91yeHJ18OTk5Obvf3j48PPu+PDo7+62S0rwW6/x3y/6NCN725/7Q+Ger7k+osTXLTT98O6pP07Yd3psebg4tkNNT7o+H1dy/8Isnzw9Xem70dX73Lvyw/7l2MdnzUHR+vN34r/Fb4rfDbAZ8mWxn/Vsa/lfFvZfzbbP53vJmy/7efk5dtP/t3vevfr9/NX/hc+Fz4PPChYgH7DDXtk4l9MrFPJvbJon1O965OV2F8tw8Xp8swPte78fn1u/sj/Fb4rfDbAW/3OxP7ZGKfTOyTiX0ysU8m9snEPpnYJxP7ZGKfTOzT86FCBPsMNe1TiH0KsU8h9inEPrnYJxf75GKfXOyTi31ysU8u9snFPoXYpxD7FGKfQuxTiH0KsU8h9inEPoXYpxD7FGKfng8VPdhnqO9PHv7ur3Ya7d98evy6q+Cg/aHeHw2vvzv5WP35lL95OHz+ZfxTcf85Pxq3f3f8UO+PhtffnSTHN2XkV1d3byM/1Puj4fV3J83vd0Uc/9/Xt5dx/EO9Pxpe3/f/ai95E/rfe5i9jv277vvvr+/nTx7zDfxQ9/MPPCuwsM9Q358cf95Odhrt/2qb+a7ihvaHen80vP7u5GHvfi8//vXq1Wcb3+S4GecHr473ftn4hvrFvoPrX/yn+nAU+d8PNweRH+r90fD6u5PXp+f7cfyzrzfPcfxDvT8aXr/r/+Tr3Xg0Zf/7f79PdvxQ7/r363fzDzzmG/ih3s0/8KHiDfsM9f3JxetfP3Ya7Z98+fy4q3Ci/aHeHw2vvzs5vv66zpO2WeziS1l9vs/ffKnnO36oX+w7uP7Ff/by28i/mpZfIj/UL/43uP7l/n47XcXxV0fldRz/UL/c38H1ff+vFv36h/723mansX/Xff/99f38yWO+gR/qfv7kw784gH2G+v5k7297tNP2fP78MdpVmO35HOj90fD6u5Pf61/7+cH7v/ML4xfFj8P8efJjtuOHen80vP7u5Pz481Pkn6++/on8UO+PhtffnRz9zn/H8Wfzr49x/EO9Pxpe3/f/5uTsTej/pDi9iP277vvvr+/nTx7zDfxQ9/MnH/6FCOwz1PcnTZ7c7DTaf/Nms9r9iwC0P9Qv8Xtw/d3LelV8Kub5q6vd+O4PljddgL/c8UO9Pxpef3dytsw+RH70J3sf+aHeHw2vvzsZv1+/j+P/8fOhjOMf6v3R8Pq+//2LMvZ/cf7+fezfdd9/f30/f/KYb+CHup8/+fAvdGCfob4/ub9/Otppe77fPbzZ/YsMe74Hen80vP7u5MvT8rCYnV9e78b3eJsdFpf70487fqj3R8Pr77p87HXkx/MsifxQ74+G19+dzEZ1G8f/a7x+juMf6v3R8Pq+/82nL7H/s3HzNfbvuu+/v76fP3nMN/BD3c+ffPgXUsP41kh8ayS+NRLfGolvjTzfrTzfjTzfjTzfrcSXVuJLI/GlkfjSSnxrJL41Et8aiW+NxNeZxNfYv+sQX2cS32cS3+P8Az+8PsS3UuJbKfGtlPhWSnwrJb6V8ny38nyX8nyX8ny3El9aiS+lxJdS4ksr8a2U+FZKfCslvpUSX2P/XTyN/bsO8bWV+B7nH/ihDvG9lfhWSnwrJb6VEt9KiW+lxLdSnu9Wnu9Snu9Snu9W4ksr8aWU+FJKfGklvpUS30qJb6XEt1Lia+y/i6exf9chvrYS3+P8Az/UIb7v+PAvOof5aSv5aSv5aSv5aSv5aSv5WSv5WSv5WSv5WSv5YSv5YSv5YSv5YSv5aSv5aSv5aSv56aD/l3y3kfw49u865MeN5OdNmH/ghzrk5z3Pf4E7zE8ryU8ryU8ryU8ryU8ryc8Syc8qyc8qyc8SyQ8TyQ8ryQ8ryQ93vOebleSnleSnleSnVei/y3dLyY8byY8byY93z5/n26Xk543k543k5zs+/AvoYX6aSH6aSH6aSH6aSH6aSH5WSX6WSH6WSH5WSX5YSX6YSH6YSH5YSX6aSH6aSH6aSH6aSH6cSn6cSH6cSH6cSn6eSn6eSH6eSH6+48O/QB/WF1KpL6RSX0ilvpBKfSGV79fX8v16It+vJ/L9+lq+3w/8Vvit8NsBv6sXhPFvZfxbGf9Wxo96RSv1jZnUN2ZS32hZH8mFz4XPhc8DH04MDOsLYp9M7JOJfTKxTyb2ycQ+mdgnE/tkYp9M7JOJfTKxTyb2ycQ+mdgnE/vE8aNeUUl9Iw39uw71jUrqK4HPhc+FzwMfTmwM6wtin0LsU4h9CrFPIfYpxD6F2KcQ+xRin0LsU4h9CrFPIfYpxD6F2KcQ+xRin1zsk4t9crFPLvbJxT652CcX+/Q866Wz24MyCSeyJgdf/q5esR46vl+2D69YL50u78tx0LOzP89FvP4p+7Z5xXroaMf39dK9Hd/rVzver3d+K/xW+K3w2wHf10M5/q2Mfyvj38r4rR46Zv+od07ZP/SM/dv1nL/wufC58HngWS81+4QTTgP7ZGKfTOyTiX2yaB/UM8P4UO8M44MO47PreX+E3wq/FX474Pt66NA+mdgnE/tkYp9M7JOJfTKxTyb2ycQ+mdgnE/v0POulZp9womxgn0LsU4h9CrFPIfbJxT652CcX++Rin1zsk4t9crFPLvYpxD6F2KcQ+xRin0LsU4h9CrFPIfYpxD6F2KcQ+/Q866WvYJ9wAhD2YT3U4gvrpRZfqC2+hOvRPuuhxrNeajy18eF68KyHGs96qfHUxofrwbMeajzrpcZTGx+uD/139czQP+qdoX/o2D+uD/Mnz3ppmH/gw/XGe73Unp9wYhP2YT3U7M96qdmf2uwfrkf7rIfa+FgvtfFR7+zL681/vB5qPOulxlMbH64Hz3qojZ/1Uhs/tY0/XM/+Uc8cs3/UO6fsH3rG/u16zj/wrJdOOf/Ah+vBs15q9gknZGEf1kOtfdZLrX1qaz9cj/ZZDzWe9VLjqXf25fXmP14PNZ71UuOpjQ/X2/31eqjxrJcaT727v7w+9N/VM0P/qHeG/qFj/7g+zJ8866Vh/oEP14NnvdTiWzihDPuwHrp7Pr1euns+XZv/huvRPuuhxrNeajy18eF68KyHGs96qfHUxofrwbMeajzrpcZTGx+uD/139czQP+qdoX/o2D+uD/Mnz3ppmH/gw/XgWS81+4QT5bAP66HWPuul1j71Ln7zerTPeqjxrJcaT218uB4866HGs15qPLXx4XrwrIcaz3qp8dTGh+tD/109M/SPemfoHzr2j+vD/MmzXhrmH/hwPXjWS80+4UQ/7MN6qLXPeqm1T23th+vRPuuhxrNeajy18eF68KyHGs96qfHUxofrwbMeajzrpcZTGx+uD/139czQP+qdoX/o2D+uD/Mnz3ppmH/gw/XD+NZIfGskvjUS3xqJb43Et0ae71ae70ae70ae71biSyvxpZH40kh8aSW+NRLfGolvjcS3RuLrTOJrI/G1kfg6k/g+k/jeSHxvJL7PJL6VEt9KiW+lxLdS4lsp8a2U57uV57uU57uU57uV+NJKfCklvpQSX1qJb6XEt1LiWynxrZT42kp8LSW+lhJfW4nvrcT3UuJ7KfG9lfhWSnwrJb6VEt9KiW+lxLdSnu9Wnu9Snu9Snu9W4ksr8aWU+FJKfGklvpUS30qJb6XEt1LiayvxtZT4Wkp8bSW+txLfS4nvpcT3Hc96qeSnreSnreSnreSnreSnreRnreRnreRnreRnreSHreSHreSHreSHreSnreSnreSnreSng/67eqbkx7F/aMmPG8nPmzD/wFNLft7zXi+V/LSS/LSS/LSS/LSS/LSS/CyR/KyS/KyS/CyR/DCR/LCS/LCS/HDHsx4q+Wkl+Wkl+WkV+kc9U/LjRvLjRvLj3fPHeqjk543k543k5zue9VLJTxPJTxPJTxPJTxPJTxPJzyrJzxLJzxLJzyrJDyvJDxPJDxPJDyvJTxPJTxPJTxPJTxPJj1PJjxPJjxPJj1PJz1PJzxPJzxPJz3c866VSX0ilvpBKfSGV+kIq9YVUvl9fy/friXy/nsj362v5fn89/H4y8lvhtwO+r4dKfSEdfj8ax7+V8Vs9VOobM6lvzKS+0bI+kgufC58Lnwee9VKpL4h9MrFPJvbJxD6Z2CcT+2Rin0zsk4l9MrFPJvbJxD6Z2CcT+2Rin0zsE8dv9VCpb6TD789P0+H35/3zy3qo1FcCnwufB571UqkviH0KsU8h9inEPoXYpxD7FGKfQuxTiH0KsU8h9inEPoXYpxD7FGKfQuxTiH1ysU8u9snFPrnYJxf75GKfXOzT86Femr69KOIbLd+mN2moh84ePv/KQr10/PnhMYn6eHMc662T30ePWaiHvtrxft50x7ve8f31J85vhd8KvxV+O+D7eijHv5Xxb2X8Wxm/1UNn7N/Oi7J/0+wf14f5C58LnwufBz7US2Gf8AbEgX0ysU8m9snEPlm0D+qZYXx2XpTjM83x4fpwf4TfCr8Vfjvg+3ro0D6Z2CcT+2Rin0zsk4l9MrFPJvbJxD6Z2CcT+/R8qJfCPuGNkwP7FGKfQuxTiH0KsU8u9snFPrnYJxf75GKfXOyTi31ysU8h9inEPoXYpxD7FGKfQuxTiH0KsU8h9inEPoXYp+dDvRT2CW8IhX1YD7X4Es6bov2g0T6vt/jCeqjx4bwp+KDB83rjWQ81Ppw3BR80eF5vPOuhxofzpuCDBs/rY/9dPTP0b+dF2b/p0H93fZw/+XDelPMPPK/f8ayXwj7hja6wD+uhZv9w3hTtB432eb3Zn/VQG184bwo+aLOvX2/jYz3U+HDeFHzQ4Hm98ayH2vjDeVPwQYPn9RP2j3rmjP3beVH2b5r94/ow/8CH86acf+B5vfGhXgr7hDfowj6sh1r74bwp2g8a7fN6a5/1UOPDeVPwQZt9/XrjWQ81Ppw3BR+0+Z9fv7u/Xg81Ppw3BR+03V+/Pvbf1TND/3ZelP2bDv1318f5kw/nTTn/wPN640O9FPYJbzCGfVgP3T2fPG9qzyc12uf15r+shxofzpuCDxo8rzee9VDjw3lT8EGD5/XGsx5qfDhvCj5o8Lw+9t/VM0P/dl6U/ZsO/XfXx/mTD+dNOf/A83rjQ70U9glvnIZ9WA+19sN5U7QftMVvv97aZz3U+HDeFHzQ4Hm98ayHGh/Om4IPGjyvN571UOPDeVPwQYPn9bH/rp4Z+rfzouzfdOi/uz7On3w4b8r5B57XGx/qpbBPeOM37MN6qLUfzpva802N9nm9tc96qPHhvCn4oMHzeuNZDzU+nDcFHzR4Xm8866HGh/Omtn5Sg+f1sf+unhn6t/Oi7N906L+7Ps6ffDhvyvkHntefDONbI/GtkfjWSHxrJL41Et8aeb5beb4beb4beb5biS+txJdG4ksj8aWV+NZIfGskvjUS3xqJrzOJr43E10bi60zi+0zieyPxvZH4PpP4Vkp8KyW+lRLfSolvpcS3Up7vVp7vUp7vUp7vVuJLK/GllPhSSnxpJb6VEt9KiW+lxLdS4msr8bWU+FpKfG0lvrcS30uJ76XE91biWynxrZT4Vkp8KyW+lRLfSnm+W3m+S3m+S3m+W4kvrcSXUuJLKfGllfhWSnwrJb6VEt9Kia+txNdS4msp8bWV+N5KfC8lvpcS33d8qJcO89NW8tNW8tNW8tNW8tNW8rNW8rNW8rNW8rNW8sNW8sNW8sNW8sNW8tNW8tNW8tNW8tNB/109U/Lj2L/pYX7cSH7ehPkHPuhhft7zrJcO89NK8tNK8tNK8tNK8tNK8rNE8rNK8rNK8rNE8sNE8sNK8sNK8sMdz3qo5KeV5KeV5KdV6B/1TMmPG8mPG8mPd88f66GSnzeSnzeSn+/4UC8d5qeJ5KeJ5KeJ5KeJ5KeJ5GeV5GeJ5GeJ5GeV5IeV5IeJ5IeJ5IeV5KeJ5KeJ5KeJ5KeJ5Mep5MeJ5MeJ5Mep5Oep5OeJ5OeJ5Oc7PtRLh/WFVOoLqdQXUqkvpFJfSOX79bV8v57I9+uJfL++lu/318PvJyO/FX474Pt6qNQX0uH3o3H8Wxm/1UOlvjGT+sZM6hst6yO58LnwufB54EO9dFhfEPtkYp9M7JOJfTKxTyb2ycQ+mdgnE/tkYp9M7JOJfTKxTyb2ycQ+mdgnjt/qoVLfSIffn5+mw+/P++eX9VCprwQ+Fz4PfKiXDusLYp9C7FOIfQqxTyH2KcQ+hdinEPsUYp9C7FOIfQqxTyH2KcQ+hdinEPsUYp9c7JOLfXKxTy72ycU+udgnF/v0fDh/etmO38ZfdLv/tL0O9dDx18P6chzOnx7ePs2jzqcvgT/UW2dXr+pQDx3teD9/uuNd73ivtzq/FX4r/Fb47YD386Q+/q2Mfyvj38r4d+dJ2b+dH2X/ptm/1Us5f+Fz4XPh88CH86ewT6inDuyTiX0ysU8m9smifew8KMdn50c5PtMcn9VLeX+E3wq/FX474P086cA+mdgnE/tkYp9M7JOJfTKxTyb2ycQ+mdgnE/v0fDh/CvuEeurAPoXYpxD7FGKfQuyTi31ysU8u9snFPrnYJxf75GKfXOxTiH0KsU8h9inEPoXYpxD7FGKfQuxTiH0KsU8h9un5cP4U9gn1VNgnnCdF++H8KdoPGu2HeivaD+dJwYfzp+CDBh/qreDDeVLw4fwp+KDBh3or+HCeFHw4fwo+aPCh3hr6x3lQ9m/nR9m/6dA/6qVh/uTD+VPOP/Ch3mo8z5/CPqGeCvuE86RoP5w/RftBo/1Qb0X74Twp+HD+FHzQZl/WW81/eJ4UfDh/Cj5o8KHeCj6cJwUfzp+CDxp8qLeyfzsPyv7t/Cj7N83+rV7K+Qc+nD/l/AMf6q3gw/lT2CfUU2GfcJ4U7Yfzp2g/aLQf6q1oP5wnBR/On4IP2uzLeqv5D8+Tgg/nT8EHbf7HeqvdX54nBR/On4IP2u4v662hf5wHZf92fpT9mw79o14a5k8+nD/l/AMf6q3gw/lT2CfUU2GfcJ7Unk+eP7Xnkxrth3or2g/nScGH86fggwYf6q3gw3lS8OH8KfigwYd6K/hwnhR8OH8KPmjwod4a+sd5UPZv50fZv+nQP+qlYf7kw/lTzj/wod4KPpw/hX1CPRX2CedJ0X44f4r2g7b4zXor2g/nScGH86fggwYf6q3gw3lS8OH8KfigwYd6K/hwnhR8OH8KPmjwod4a+sd5UPZv50fZv+nQP+qlYf7kw/lTzj/wod4KPpw/hX1CPRX2CedJ7fnm+VN7vqnRfqi3ov1wnhR8OH8KPmjwod4KPpwnBR/On4IPGnyot4IP50lt/eT5U1s/qcGHemvoH+dB2b+dH2X/pkP/qJeG+ZMP5085/8CHeuswvjUS3xqJb43Et0biWyPxrZHnu5Xnu5Hnu5Hnu5X40kp8aSS+NBJfWolvjcS3RuJbI/Gtkfg6k/jaSHxtJL7OJL7PJL43Et8bie8ziW+lxLdS4lsp8a2U+FZKfCvl+W7l+S7l+S7l+W4lvrQSX0qJL6XEl1biWynxrZT4Vkp8KyW+thJfS4mvpcTXVuJ7K/G9lPheSnxvJb6VEt9KiW+lxLdS4lsp8a2U57uV57uU57uU57uV+NJKfCklvpQSX1qJb6XEt1LiWynxrZT42kp8LSW+lhJfW4nvrcT3UuJ7KfF9x4fzp8P8tJX8tJX8tJX8tJX8tJX8rJX8rJX8rJX8rJX8sJX8sJX8sJX8sJX8tJX8tJX8tJX8dNA/zoMO8+PYv+lhftxIft6E+Qc+6GF+3vM8fzrMTyvJTyvJTyvJTyvJTyvJzxLJzyrJzyrJzxLJDxPJDyvJDyvJD3d8OE86zE8ryU8ryU+r0L+dBx3mx43kx43kx7vnL5wnHebnjeTnjeTnOz6cPx3mp4nkp4nkp4nkp4nkp4nkZ5XkZ4nkZ4nkZ5Xkh5Xkh4nkh4nkh5Xkp4nkp4nkp4nkp4nkx6nkx4nkx4nkx6nk56nk54nk54nk5zs+nD8d1hdSqS+kUl9Ipb6QSn0hle/X1/L9eiLfryfy/fpavt9fD7+fjPxW+O2A9/Okw/pCOvx+NI5/K+PfnScd1jdmUt+YSX2jZX0kFz4XPhc+D3w4fzqsL4h9MrFPJvbJxD6Z2CcT+2Rin0zsk4l9MrFPJvbJxD6Z2CcT+2Rin0zsE8e/O086rG+kw+/PT9Ph9+f98xvOkw7rK4HPhc8DH86fDusLYp9C7FOIfQqxTyH2KcQ+hdinEPsUYp9C7FOIfQqxTyH2KcQ+hdinEPsUYp9c7JOLfXKxTy72ycU+udgnF/v0/OB9vc8noX46uz14934c6qFnzfQo1Esnzdnd36Bnzxd338P10+Xz9NM41EN3fF8vPdnx/v7eHe+/f+r8Vvit8FvhtwPe66E+/q2Mfyvj38r4d/VQ9o9654T92/t32b/9finnL3wufC58HvjB+3pf7DN4n2+wTyb2ycQ+mdgni/axeibHh3pnGJ+9f5fjs98v5f0Rfiv8VvjtgPd66MA+mdgnE/tkYp9M7JOJfTKxTyb2ycQ+mdgnE/v0/OB9vS/2GbzPN9inEPsUYp9C7FOIfXKxTy72ycU+udgnF/vkYp9c7JOLfQqxTyH2KcQ+hdinEPsUYp9C7FOIfQqxTyH2KcQ+PT94X++LfQbv832xT6iHon3WSy2+hPf3ov3w+6doP9RDwbNeanx4fy/48Pun4EM9FDzrpcaH9/eCD79/Cj7UQ8GzXmp8eH8v+PD7p6F/1DPZP+qdoX97/27oH79fGuZPnvXSMP/Ah98/NT6+r/fFPoP3+b7YJ9RD0T7rpWb/8P5etB9+/xTth3ooeNZLbXzh/b1mX/7+qfkP66HgWS81Pry/F3z4/VPwoR4KnvVSG394fy/48Pun7N/qmewf9c4J+7f377J/+/1Szj/wrJdOOP/Ah98/BT94X++LfQbv832xT6iHon3WS6398P5etB9+/xTth3ooeNZLjQ/v7zX78vdPzX9YDwXPeqnx4f295n/8/VO7v6yHgme91Pjw/l67v/z909A/6pnsH/XO0L+9fzf0j98vDfMnz3ppmH/gw++fgh+8r/fFPoP3+b7YJ9RD7fn0eunu+eT7e9F++P1TtB/qoeBZLzU+vL8XfPj9U/ChHgqe9VLjw/t7wYffPwUf6qHgWS81Pry/F3z4/dPQP+qZ7B/1ztC/vX839I/fLw3zJ896aZh/4MPvn4IfvK/3xT6D9/m+2CfUQ9E+66XWfnh/r8Vv/v4p2g/1UPCslxof3t8LPvz+KfhQDwXPeqnx4f294MPvn4IP9VDwrJcaH97fCz78/mnoH/VM9o96Z+jf3r8b+sfvl4b5k2e9NMw/8OH3T8EP3tf7Yp/B+3xf7BPqofZ8e73U2g/v70X74fdP0X6oh4JnvdT48P5e8OH3T8GHeih41kuND+/vBR9+/xR8qIfa+un1UuPD+3vBh98/Df2jnsn+Ue8M/dv7d0P/+P3SMH/yrJeG+Qc+/P7pML41Et8aiW+NxLdG4lsj8a2R57uV57uR57uR57uV+NJKfGkkvjQSX1qJb43Et0biWyPxrZH4OpP42kh8bSS+ziS+zyS+NxLfG4nvM4lvpcS3UuJbKfGtlPhWSnwr5flu5fku5fku5fluJb60El9KiS+lxJdW4lsp8a2U+FZKfCslvrYSX0uJr6XE11bieyvxvZT4Xkp8byW+lRLfSolvpcS3UuJbKfGtlOe7lee7lOe7lOe7lfjSSnwpJb6UEl9aiW+lxLdS4lsp8a2U+NpKfC0lvpYSX1uJ763E91LieynxfccP3tcb89NW8tNW8tNW8tNW8tNW8rNW8rNW8rNW8rNW8sNW8sNW8sNW8sNW8tNW8tNW8tNW8tNB/6hnDvPj2L+9f3eYHzeSnzdh/oEP7+8d5uc9H9/XG/PTSvLTSvLTSvLTSvLTSvKzRPKzSvKzSvKzRPLDRPLDSvLDSvLDHR/qocP8tJL8tJL8tAr9Wz1zmB83kh83kh/vnr9QDx3m543k543k5zt+8L7emJ8mkp8mkp8mkp8mkp8mkp9Vkp8lkp8lkp9Vkh9Wkh8mkh8mkh9Wkp8mkp8mkp8mkp8mkh+nkh8nkh8nkh+nkp+nkp8nkp8nkp/v+MH7emN9IZX6Qir1hVTqC6nUF1L5fn0t368n8v16It+vr+X7/fXw+8nIb4XfDnivhw7rC+nw+9E4/q2Mf1cPHdY3ZlLfmEl9o2V9JBc+Fz4XPg/84H29sb4g9snEPpnYJxP7ZGKfTOyTiX0ysU8m9snEPpnYJxP7ZGKfTOyTiX0ysU8c/64eOqxvpMPvz0/T4ffn/fMb6qHD+krgc+HzwA/e1xvrC2KfQuxTiH0KsU8h9inEPoXYpxD7FGKfQuxTiH0KsU8h9inEPoXYpxD7FGKfXOyTi31ysU8u9snFPrnYJxf79Hx4X+9d9v1n0NOzu/kk1EMnyeXr76FeOr5K3n8Kevpl//1luH58sHo9D/XQkx3v7+vd8X7+dMf7eVXnt8Jvhd8Kvx3w/j5eH/9Wxr+V8W9l/Lv38bJ/e98u+7fzo+zfzpty/sLnwufC54EP7+uFfaiH9snEPpnYJxP7ZNE+9j5djs/et8vx2flRjs/Om/L+CL8Vfiv8dsD7+3gH9snEPpnYJxP7ZGKfTOyTiX0ysU8m9snEPpnYp+fD+3phH+qhfQqxTyH2KcQ+hdgnF/vkYp9c7JOLfXKxTy72ycU+udinEPsUYp9C7FOIfQqxTyH2KcQ+hdinEPsUYp9C7NPz4X29sA/1HuwT3seL9sP7etF+OH+K9sN5VbQf3scLPryvF3w4fwo+nFcFH97HCz68rxd8OH8KPpxXBR/exws+vK8XfDh/Cj6cVw3943267N/et8v+7fxo6B/nTcP8yYf39XL+gQ/nVY3n+3phH2p7fsL7eNF+eF8v2g/nT9F+OK+K9sP7eMGH9/WCD+dPzb48r2r+w/fxgg/v6wUfzp+CD+dVwYf38YIP7+sFH86fgg/nVdm/vU+X/dv7dtm/nR9l/3belPMPfHhfL+cf+HBeFXx4Xy/sQ232Ce/jRfvhfb1oP5w/RfvhvCraD+/jBR/e1ws+nD81+/K8qvkP38cLPryvF3w4f2r+x/Oqdn/5Pl7w4X294MP5U7u/PK8a+sf7dNm/vW+X/dv50dA/zpuG+ZMP7+vl/AMfzquCD+/rhX2oLb6F9/Ha88n39drzyfOnaD+cV0X74X284MP7esGH86fgw3lV8OF9vODD+3rBh/On4MN5VfDhfbzgw/t6wYfzp+DDedXQP96ny/7tfbvs386Phv5x3jTMn3x4Xy/nH/hwXhV8eF8v7ENt9gnv40X74X29aD+cP7X4zfOqaD+8jxd8eF8v+HD+FHw4rwo+vI8XfHhfL/hw/hR8OK8KPryPF3x4Xy/4cP4UfDivGvrH+3TZv71vl/3b+dHQP86bhvmTD+/r5fwDH86rgg/v64V9qM0+4X289nzzfb32fPP8KdoP51XRfngfL/jwvl7w4fwp+HBeFXx4Hy/48L5e8OH8KfhwXhV8eB+vrZ98X6+tnzx/Cj6cVw3943267N/et8v+7fxo6B/nTcP8yYf39XL+gQ/nVYfxrZH41kh8ayS+NRLfGolvjTzfrTzfjTzfjTzfrcSXVuJLI/GlkfjSSnxrJL41Et8aiW+NxNeZxNdG4msj8XUm8X0m8b2R+N5IfJ9JfCslvpUS30qJb6XEt1LiWynPdyvPdynPdynPdyvxpZX4Ukp8KSW+tBLfSolvpcS3UuJbKfG1lfhaSnwtJb62Et9bie+lxPdS4nsr8a2U+FZKfCslvpUS30qJb6U8360836U836U8363El1biSynxpZT40kp8KyW+lRLfSolvpcTXVuJrKfG1lPjaSnxvJb6XEt9Lie87Pryvd5iftpKftpKftpKftpKftpKftZKftZKftZKftZIftpIftpIftpIftpKftpKftpKftpKfDvrH+3SH+XHs386PDvPjRvLzJsw/8OH86TA/73m+r3eYn1aSn1aSn1aSn1aSn1aSnyWSn1WSn1WSnyWSHyaSH1aSH1aSH+748D7eYX5aSX5aSX5ahf7tfbrD/LiR/LiR/Hj3/IX38Q7z80by80by8x0f3tc7zE8TyU8TyU8TyU8TyU8Tyc8qyc8Syc8Syc8qyQ8ryQ8TyQ8TyQ8ryU8TyU8TyU8TyU8TyY9TyY8TyY8TyY9Tyc9Tyc8Tyc8Tyc93fHhf77C+kEp9IZX6Qir1hVTqC6l8v76W79cT+X49ke/X1/L9/nr4/WTkt8JvB7y/j3dYX0iH34/G8W9l/Lv38Q7rGzOpb8ykvtGyPpILnwufC58HPryvd1hfEPtkYp9M7JOJfTKxTyb2ycQ+mdgnE/tkYp9M7JOJfTKxTyb2ycQ+mdgnjn/3Pt5hfSMdfn9+mg6/P++fX9ZDpb4S+Fz4PPDhfb3D+oLYpxD7FGKfQuxTiH0KsU8h9inEPoXYpxD7FGKfQuxTiH0KsU8h9inEPoXYJxf75GKfXOyTi31ysU8u9snFPj0/eF/vw1msp7bLg9+xHpqPruP7emer7fUk6En27fQoXD/7dvrxb6yH7ng/b7rj/Tzqjvfzqs5vhd8KvxV+O+C9Hurj38r4tzL+rYx/Vw9l/3ZelP3beVL2b+dNOX/hc+Fz4fPAD97X+2KfUE8d2CcT+2Rin0zsk0X7WD2T47PzohyfnSfl+Oy8Ke+P8Fvht8JvB7zXQwf2ycQ+mdgnE/tkYp9M7JOJfTKxTyb2ycQ+mdin5wfv632xT6inDuxTiH0KsU8h9inEPrnYJxf75GKfXOyTi31ysU8u9snFPoXYpxD7FGKfQuxTiH0KsU8h9inEPoXYpxD7FGKfnh+8r/fFPqGeCvuEeijaD+dN0X44j4r2w3lVtB/qoeDDeVPw4Twq+HBeFXyoh4IP503Bh/Oo4MN5VfChHgo+nDcFH86jgg/nVUP/qGeyfzsvyv7tPGnoH+dNw/zJh/OmnH/gw3lV4+P7el/sE+qpsE+oh6L9cN4U7YfzqGg/nFdF+6EeCj6cNwUfzqOafXle1fyH9VDw4bwp+HAeFXw4rwo+1EPBh/Om4MN5VPDhvCr7t3om+7fzouzfzpOyfztvyvkHPpw35fwDH86rgh+8r/fFPqGeCvuEeijaD+dN0X44j4r2w3lVtB/qoeDDeVPw4Tyq2ZfnVc1/WA8FH86bgg/nUc3/eF7V7i/roeDDeVPw4Tyq3V+eVw39o57J/u28KPu386Shf5w3DfMnH86bcv6BD+dVwQ/e1/tin1BPhX1CPdSeT543teeT51HRfjivivZDPRR8OG8KPpxHBR/Oq4IP9VDw4bwp+HAeFXw4rwo+1EPBh/Om4MN5VPDhvGroH/VM9m/nRdm/nScN/eO8aZg/+XDelPMPfDivCn7wvt4X+4R6KuwT6qFoP5w3RfvhPKrFb55XRfuhHgo+nDcFH86jgg/nVcGHeij4cN4UfDiPCj6cVwUf6qHgw3lT8OE8KvhwXjX0j3om+7fzouzfzpOG/nHeNMyffDhvyvkHPpxXBT94X++LfUI9FfYJ9VB7vnne1J5vnkdF++G8KtoP9VDw4bwp+HAeFXw4rwo+1EPBh/Om4MN5VPDhvCr4UA+19ZPnTW395HlU8OG8augf9Uz2b+dF2b+dJw3947xpmD/5cN6U8w98OK86jG+NxLdG4lsj8a2R+NZIfGvk+W7l+W7k+W7k+W4lvrQSXxqJL43El1biWyPxrZH41kh8ayS+ziS+NhJfG4mvM4nvM4nvjcT3RuL7TOJbKfGtlPhWSnwrJb6VEt9Keb5beb5Leb5Leb5biS+txJdS4ksp8aWV+FZKfCslvpUS30qJr63E11LiaynxtZX43kp8LyW+lxLfW4lvpcS3UuJbKfGtlPhWSnwr5flu5fku5fku5fluJb60El9KiS+lxJdW4lsp8a2U+FZKfCslvrYSX0uJr6XE11bieyvxvZT4Xkp83/GD9/XG/LSV/LSV/LSV/LSV/LSV/KyV/KyV/KyV/KyV/LCV/LCV/LCV/LCV/LSV/LSV/LSV/HTQP+qZw/w49m/nSYf5cSP5eRPmH/hwHnWYn/d8fF9vzE8ryU8ryU8ryU8ryU8ryc8Syc8qyc8qyc8SyQ8TyQ8ryQ8ryQ93fKiHDvPTSvLTSvLTKvRv9cxhftxIftxIfrx7/kI9dJifN5KfN5Kf7/jB+3pjfppIfppIfppIfppIfppIflZJfpZIfpZIflZJflhJfphIfphIflhJfppIfppIfppIfppIfpxKfpxIfpxIfpxKfp5Kfp5Ifp5Ifr7jB+/rjfWFVOoLqdQXUqkvpFJfSOX79bV8v57I9+uJfL++lu/318PvJyO/FX474L0eOqwvpMPvR+P4tzL+XT10WN+YSX1jJvWNlvWRXPhc+Fz4PPCD9/XG+oLYJxP7ZGKfTOyTiX0ysU8m9snEPpnYJxP7ZGKfTOyTiX0ysU8m9snEPnH8u3rosL6RDr8/P02H35/3z2+ohw7rK4HPhc8DP3hfb6wviH0KsU8h9inEPoXYpxD7FGKfQuxTiH0KsU8h9inEPoXYpxD7FGKfQuxTiH1ysU8u9snFPrnYJxf75GKfXOzT8//8z//5j3+Sg9dfXx8lx29Wx5+PVzcHJ8f7o9cnX29XyWp/tP/55r/2D1+f7F/885//8d//fLvZfHv543/NvDT/+/nnbYdUdz9+H+yPf/26ee7+5+3vdfe/vvy/6e337/4/rx5+/L798bv7aPz0EmjGWfefxdj/b+l6Wvv/OKM+5KVPrt8JDz0X3nQmfNX9Z4L2C+fP8Dl04vwMOu3+89b5Ser8nPx75ydr5xfk5+w/888nT85Pqa/9c7u+4CR4fSa8DQqXsn8M0nTg0f4pOiW/oH6Q8dV+kfErDlrGM5X7h0mZDjzav8BF5M+pD8k/DW+C/blxHXj8B/Yy+8w4iVR4tJ/jppG/cj2hfdC+3cSK/Mh14M3S6L9y3oxSDXlrv+z+Myf/zvWE9rfxoOlr8kvXgUf7c/E/OJ3pwOPPj5wP+A/UnL+Np/apGL8a6jHHY/7O+S946wJPp1rQtfAXHsIJ/Q/agsCN86Y3wm/8r8CbfhryE9jvM2bK8TdoD+2v2D+uR9O/2P/G+QvyW+dnS/ZP/qvM/wv6Z/xYubaHBvwp7Al/vSOfuA78La7H+Nj/ae2avLX/DfMjX7u2h3jG8cAf7smnrgN/5/cz3L+sdh14QN+7/5yTX7s2+844HrjWI/nKdeBtPLSP8bXrwKP9n91/Lsg/uLagM+N48NEf8mvXgbfx4PMR+dp14NH+b5DkN64t8s84Htj/mXziOvA2HvG/i9o1eWv/b/efU/JPriecv40H9r8ln7oOvI2Hz5fxtevAw57H3X8ux85D5xgv/Q86Rf+J89CTxZA3/U5409dDfgb7vUb7HP8J2kMixPWjwPw7f5tw/U4r5985Pzkjz/WvdH58JPM/6P5zxfix73rG+HUJDX8dkV+5Djyc5Ar9sX8saqYDj/bfYP7kj13PuP7aeLgIGr9xHfiR389w/2yRTYVH+69wf8nvuU65/qB9W0S5fsxGrslb+7BXyvXHFuVqyJv/4PO35KeuU66/Nh48FNw/pUvXgbdNIvrn+otNI3Tku/Yn2H+9I79wndL+Nh48RNw/pSvXgUf778T/sKmAjnzX/gT7r0vy565nnL+Nh5sm4zeuA4/2zd85f2xyTJO3TQmMVPr6bRqbkJT+B22bkCvy3JQEHn99Eh7a+gs8rodrvuf4sR8q8TnXjw+YL/yN6/d85Pw1+cb5Bde/T+RLmT9c4z3jR+F6zvhVQcNfuT+bp64DD1NX+Jz9V3WvIw9/Rr7ygXzles7118YDf70hX7kO/Ae/n+H+va97HXn4M0zzkfy16znXHxsP/JXrx3ztOvA2HrfPjq97HXn4D/Zf1+RXrm3TOuN4On+acP80T1wH3sYD+3P9/Vj3OvBof4L91yfytesF7W/jgf25f1qkrgNv4xH/u657HXnYH/uvivza9Zzzt/HA/u/IV64Db+Px52vH172OPOyJ/crN2HnoFcZL/4M+Rf8Pzps+Fh76q/CmH4b8AvbD/m/F8WM/dNPpU64fXzB/+BvX79O181/Jnzifcf2ryf+W+SOf+Mz48eh6wfh1A82kwfiN68BbUoLxs38kKdCRhz8jX1mR/+P6lOsv2sdKNeH+aTFyHfgnv5/h/sEToQOP9ict7i/5Z9enXH9sPEyCjF+6Djzah71Ouf7gITd7BR7+g/3XLfl916dcf2083MQav3IdeLR/i/65/tomOREe9sf+6yv5Y9entL+NB5v+MfmN68Cj/a/if1i0oCMP+2P/dUN+z/WC80f79k3ThvzINXlr3/yd87ckPxnyIamsff02jUU0o/9B25cAU+dNV8JD3wtvuhjyWWe/KT6/4/ixH6rxOdePBhqfc/0+Wzr/nfxH58+4/t2TP5X5I8reefywpBo6Y/z6Bt356/ScfOU68FhVvuFz9v+t7nXkkZTiLjbkM9cZ118bT+cPU+6fsrXrwJ/7/Qz3767udeThz0jd1uSXru2b2BnH0/nrlOtHlrgOvI3H7bPj614H3vwH+6/v5AvXZ1x/bTzdrZly/3SWug68jQefc/1d172OPOyP/dc9+cr1Ge1v44H9b8hXrgNv4xH/+173OvKwP/Zf38hfu844fxsP7L8gv3YdeBuPP187vu515GFP7Fd+jJ2H/onx0v+gz9H/ynnTf4SH3ghv+lB42A9Lw0+OH/uhH50+5/rxiPnD37h+nyfOb8j/df6C699v8t9k/gjND4wft67PGb9+QHd/2ZdOxo9cBx5O84Dxs39EcujAo/0pQutP8neuz7n+2nj4JZjxS9eBX/v9DPcPmyToyMOfYbpH8veuz7n+2Hj4JZ7xK9eBBwR7nXP9sS/lEuHhP9h//SL/6Pqc66+NB/GK+6fzjevA25fEsD/XX3QCHXnYH/uvDfk/ri9of7SPlWnK/dP5yHXg8ddG/A+Dgg482p9i//WD/LPrM87fxsMvZY2nvwUe7cPfzzl/PDT2vAWeX4r+5vo96j8eX9D/rHn0v+98+FKSvOlWeNP1kL+A/bD/23L82A/9RvtcP55wfedvM67fy5Xzz87PLshz/Wudn76R+SOf2DJ+HLq+YPz6Aw1/3SO/dh147B//4HP2/6fudeThz8hXnsiPXNs3RTOOpxvajPuni8R14Pf8fob7t617HXj7GF/Y/XV+96U0+uf6Y+PpTDvj+rFMXQfexuP22fF1ryMP/8H+65l86nrJ9dfG0/nTjPunZeU68DYefM7192/d68jjS2nsQlrymesl7W/j6ew/4/5puXYdeBuP+N9z3evId/+ZYf/1h/zS9QXnb+NBvDomn7gOvI3Hn68dX/c68JewJ/YrFpSWrve76+1L/Rk1/K8gD30nPPSR8KYz4WE/7P/2OX7sh5JOX3L9OICGv3H9vkqdPyL/3fkrrn/H5N/L/JFPvGb8eOf6kvErgYa/sn57uXQdeCtKoD/2/3rc68jDn5Gv7JP/4PqS66+NB/7K/dPlynXgr/1+hvuHoAsdefgzvpo4IH/j+pLrj40H/sr143LjOvBoH/a64vpjRZZUePgP9l+H5G9dX3H9RftWROH+6XLkOvD2L1XQP9dfK8pUQx7tz7D/OiJ/5/qK9rfxwP7cP10tXQce7R+J/2GRgY487I/9V0L+3vUl52/jgf357xeuVq4Dj/bN3zl/K/JVwsOeII+5fkNjUbqi/0FbUfDRedMj4e37la5YFHjTT0P+CvbD1mzE8WOrcIz2uX6c4Hr4G9fvfOP8K/KvnB8vJ97/U9rzW5k/tkYjxo+Na1QWjH8De8JfWb+9SlwHHvvHNxgf1983da8Dj/ZnyFdOyD+5zrn+2njgr9w/5anrwD/7/Qz3b1T3OvLwZ4SmPfKJ65zrj40H/sr1I69cB97G4/bZ8XWvIw//waPxivyh65zrr40H8Yr7p3ztOvA2HnzO9Xev7nXkYX+4dvevDAf+W/i/LZtxPBjaFMVM8Ak1eRuP+N+r2jV5a3/S6Tc+/vHY9RXnb+1nk96/jE9dB37Xfrp7vnZ83evId6dYXrLaohtEP37Ts+76ceHjh550/b9c2I/f9AfhoRfCm74e8uN1p+foz+/fy66ha6/Tk9T5FJ9XnX7P/ivnF+Q/kU+cPyV/xv4xntNOT5+cX1A/OD+Brie4yPmV68Bn0OiP/U/HrgOP9i8w/ye5/9CH5KGfJvAO5zeuA7/0+xnu32zsOvBoP+90Sv7KtdnXeGj4a0V+5DrwaB/2MvuY/cauK/GfstNz8u9cT67JQ8OfrskvXQce7c/R/9r5+dh14NH+R/gP+Q+uJ7S/jQf2X5FfuQ78tftj8L/F2HXg0f5n+Cv5G2rO38YD+2fkN64Dj/bN3zn/07Fr8lPYc43ra+ehzzFe+h/0FP3fkod+Eh76Unho6y/wsN/XTp9x/D/QXqenG/aP+cPftuRHzi/Jt87PVuyffCPz/4b+GT9q11PGrwwa/npPPnUd+LtOZxg/+89q14FH+99xvwu5/+ivdt7GA394JF+5Dvy9389w/85q14FH+z87fUH+wbXZ1+4/NPz1D/m168DbeND/iHzt+o/4z2/Yj/zG9Yzrr40H/vRMPnEdeBsP7M/196J2Td7a/wt/Jf/kekb723hg/33yqevAP7s/Bv9b1q4Dj/Zfw1/IJ66nnL+NB/a/I1+5DryNB/ef87+sXQce9tzr9BXXb+gC46X/Qafo/9B56Mn5kDddCm/6YcjPYL8j9Ofjn2A/dNXplOvHW8y/87cJ1+907XxJ/tL5Ode/yvmXVGY4/zedzhk/jl3PGL+uoDt/nYzJb1wHfgSN8bP/fNzryKP9V5j/k9z/Tqdcf9F+2sET7p9mI9fkrf1C7l8x7nXg0f5k1um35KeuU64/Np7OXydcP9Kl68Cjfdgr5frzdtzryMN/sP96R37hOuX6a+Pp/GnC/VO6ch14tP8O/XP9fTfudeS79ifYf5Xkz12ntL+NB/bn/induA780v0x+F857nXku/Yn2H9dkb9yPeP80f4c8WBEfuQ68Gjf/J3zr8auyc9hT+xXKl+/TX/EeOl/0Av43zvnTa+Fh74R3nQx5OewH/Z/Hzh+7IcqzJfrx0do+BvX78XS+U/kfzi/4Pp3Q/6jzB/5xAfGj8r1nPHrPTT89YZ85Trw2D++R3/s/33d68jDn5GvfCzk/qM/rr82Hvgr90/ztevA3/j9DPfvQ93ryMOfv3T6mvzK9YLrj40H/sr1Y564DryNB/ef68/HuteBN//B/usT+dr1guuvjQfxivunReo68DYe9M/197rudeRhf+y/bsivXS9ofxsP7M/906JyHfh798fgf5/qXkce9sf+6z35B9dzzt/GA/t/IL92HXgbD+zP+d/UvY487In9ymeu39BfMF76H/Qp+t84b3pPeOhaeNOHwsN+2P994fixH/rc6VOuH7eYP/yN6/dp4nzt/HTifMb17xv5vzJ/5BMrxo8/rk8Zvz5Dw18T8iPXgcf+cYXxs//VuNeBR/sT5CtfnuT+oz+uvzYe+Cv3T6dL14FP/H6G+/dl3OvIw58POn1Lft/1KdcfGw/8levH6cp14NE+7HXK9ed23OvIw3+w//pK/tj1KddfG0/nT1Pun043rgOP9r/C/lx/v457HXnYH/uvmvye64z2R/tZZ/8p90+nI9fkrf1a/K8e9zrwaH+K/ddn8lPXC87fxgP7P5Ffug482oe/n3L+38a9jnxnzyn2K998/Ta9xnjpf9BnXf/ThfOmr4WH/iG86XrIZ7Af9n8Nx4/90LdOn3H9WGP+nb9NuX6frZy/J/+ZPNe/H+QvZP7IJxrGj8x1xvh1B9356/SK/Np14LF/vEN/7P+u7nXk4c/IV9aF3P9On3H9tfF0/jDl/ilLXAf+yu9nuH9N3evAo/3p205/J1+4PuP6Y+OBv3L9OEtdB97Gg/65/qzrXkce/oP91z35yvUZ118bT+dPU+6fzirXgbfxoH+uv9/rXkce9sf+6wf5a9dntL+NB/bn/uls7TrwN+6Pwf/u615HHvbH/uuO/Mp1xvnbeGD/c/KJ68DbeOB/nP+PuteBP4c9sV958PXb9GN3/Tn9zzT6r8lDPwsP/Vt405nwsB/2f48cP/ZDD50+5/rxCxr+xvX7InX+N/nXzl9w/ftD/rvMH/nET8aPO9fnjF8P0PDXB/JL14HH/vEn+mP/P8e9jjz8GfnK45Pcf/TH9dfGA3/l/ul85TrwD34/w/17HPc68vDnX53+Rf7R9TnXHxsP/JXrx/nGdeDRPux1wfXn17jXkYf/YP+1If/H9QXXX7R/gXjF/dP5yHXg0f4G/XP93Yx7HXi0P8X+6zf5Z9cXtL+NB/bn/uli6Trwiftj8L/f415HHvbH/uuB/L7rc87fxgP7r8mvXAce7Zu/c/5/xr2OfGfPGfYrf3z9Nv0X46X/QS/R/7Hz0LOl8NCJ8KafhvwF7If935OPf4b90J9OL7l+/MX8O3+bcf1ebpxvyefOX3L9S5yfvhrOf4p84onxY+R6yfi1hT07f52xfnuRuA489o9bjJ/9b+teBx7tz5Cv/C3k/qN/rr82HtR/uX9apq4DP/X7Ge7fU93ryHftz1A/fSaful5y/bHxdP464/qxrFwH3saD/rn+/K17HXn4D/ZfLfnM9ZLrr42n86cZ90/LtevA23jQP9ff57rXkYf/Y/+VkF+6vqT9bTywP/dPy8R14K/cH4P/tXWvA4/2Z9h/bckXri84fxsP4tUe+dR14G088HfOP6l7HXnYE/uV175+mz7AeOl/0FfwP9ZvTd8LD30svOnrIX8J+2H/d8DxYz/0utNXXD8OMX/4G9fvq8r5Y/I/yXP9e0P+k8wf+cQ+48cH15eMX6+h4a+s316uXAce+8d99Mf+98e9jjz8GfnKwZPcf/TH9dfGA3/l/uly4zrwK7+f4f4djHsdefgz6qeH5G9dX3H9QftX8FeuH5cj14FH+7DXFdefw3GvA2/+g/3XEfk711dcf208iFfcP10tXQce7R+hf66/R+NeRx72x/7rmPy96yva38YD+3P/dLVyHfgH98fgf8fjXkce9sf+6zX5R9eXnL+NB/bnv1+42rgOPNo3f+f834x7Hfgc9sR+5Q3Xb+g9jJf+B52jf9Zvocc4XEje9KQ7rBh4aOsv8LAf9n8nHD/2Q286nXP92MP84W9cv/OR8+OnrO9/hvGgvdXU++8+N76V+SOfOGH8eHKdM36NoOGvrN/mqevAY/84wvi5/o7qXkce/ox8Za+Q+4/+uP7aeOCv3D/llevA7/v9DPfvpO515OHPqJ++In/oOuf6Y+OBv3L9yNeuA2/jQf9cf/bqXkce/mTf5xa9/WYj6rHbz8YDf5riMCv4hJq8jcf8iXztmry1P4G/Or/zX+jCeWs/6/SCfOo68Lv2s4H/jWvXgUf7806P/P69PGi9zrn/sPavp71/GV+5DryNp+s/5/5jUvc68g9d/1fd9dOxjx86xXhrHz/0pOv/5cJ+/KZvhIc+Fd70w5AfJ50+Q3+8f2/RXqcnlfNzfL7u9Cf2v3b+lPwX56ep8xn5S/aP8Vx0esb4cU596PwU+qnTBfmN68AvoTF+9j8buw482s8x/ye5/52eZOSh4a8V+ZHrwBd+P8P9S8euyVv7Zafn5N+5NvsaDw1/vSa/dB14tA97mX3MfmPX1+I/Hzu9IP/B9eSBPDT8aUV+5TrwaH+B/hPnF2PXgUf7n+E/5G9cT2h/Gw/sX5PfuA78yv0x+N/p2HXg0f5X+Cv5W2rOH+1PYf8l+ZHrwKN983fOPxu7Jj+FPR9wfe089AXGS/+DnqH/O+dNJ8JDXwlvuhjyU9iv6fQ5x/8L7WG+I/YPDX9r2f/S+UvyB87PNuyf/A+Z/3f0z/ixdj1l/DqDhr8+kq9cB/6+02foj/2f1a4Dj/Z/4n4Xcv/R35PzNh74wx/ya9eBf/T7Ge7fee068Gj/d6eX5DeuZ1x/bTzw12fyievA23hw/7n+XtSun8V//sJ+5J9cz7j+2njgT/vkU9eBt/Ggf66/y9p14NH+a/gr+cT1jPa38cD+x+Qr14Hfd38M/ndZuw482j+Cv5A/dD3l/G08sP89+bXrwNt4YH/O/6p2HfjOnhPsV3Jfv02/xXjpf9Ap+h85Dz25Eh66Et70ofCw3wn68/FPsB/KO51y/XiH+Xf+NuH6nSbOV+TfOj/n+vee/GQ4//GrTheMH3uuU8avHLrz10lKfuSa/AT7xwLjZ//FuNeBR/sT5Ctvn+T+oz+uvzaezh8m3D+lS9eBT/1+hvv3dtzryHftT047/Y78wnXK9cfG0/nrhOtHunIdeLQPe6Vcf96Nex15+A/2XyX5c9cp118bT+dPE+6f0o3rwKP9Evbn+luOex15+D/2XxX5K9dz2h/tz2F/7p/SkevAF+6Pwf+qca8Dj/Yn2H/l5N+5nnH+Nh7Yf0x+6TrwaB/+nnL+78e9jjzsif3Ke1+/TV9jvPQ/6AX6/+C86QfhoT8Lb7oe8nPYD/u/jxw/9kPvO73g+nGN+cPfuH4vVs7fkP9FnuvfZ/KfZf7IJz4yfly7njN+fYCGv96SX7sOPPaPH9Af+/9Q9zry8GfkK9eF3P9OL7j+2njgr9w/zRPXgb/1+xnu38e614FH+5Nvnf5Evna94Ppj44G/cv1YpK4Db+NB/1x/ruteRx7+g/3XDfm16wXXXxsP4hX3T4vKdeBtPOif6++nuteRh/2x//pM/sH1gva38cD+3D8t1q4D/+j+GPzvpu515GF/7L8+kN+4nnP+Nh7Y/4Z84jrwNh74H+f/ue514E9hT+xXVly/oW+760/pf6bR/xP5Tk+nQ970N+FNZ8LDftj/3XL82A+tOn3K9eMrdOdvU67fWer8N+enc+czrn93zk9ey/yRT3xh/Hh2fcr4tYKGvx6SX7oOPPaPX9Af+/8y7nXk4c/IV26f5P6jP66/Nh74K/dPpyvXgT/0+xnu3+2415GHP7/p9Ffyx65Puf7YeDp/nXL9ON24Djzah70yrj9fx72OPPwJ+6+a/J7rjOsv2s86eMr90+nINXlrv0b/XH/rca8Dj/an2H99Iz91ndH+Np7O/lPun7Kl68Cn7o/B/76Nex35rv0p9l8r8gvXp5y/jQf2T8ivXAce7Zu/c/53415HHvbEfuXO12/T3zFe+h/0Wdf/9Nx50yvhoR+EN/005DPYD/u/NceP/dBdp8+4fnzH/OFvXL/PNs7/IP/V+XOufw/kc5k/8ok148fS9RnjVwN7It69I5+4Djz2jw3Gz/6buteBR/tT5CvfC7n/6J/rr40H/sr901nqOvDv/H6G+7euex15+PP7Tt+Tr1yfcf2x8cBfuX6cVa4Db+NB/1x/vte9jjz8B/uvH+SvXZ9x/bXxdP405f7pbO068DYe9M/1977udeRhf+y/HsivXJ/T/jYe2J/7p7PEdeBv3R+D//2oex14tD/F/qshX7vOOH8bD+x/RT51HXgbD/yd83+oex152BP7lZ9cv6F/Ybz0P+gL9L923vS+8NB/hDd9PeTPYT/s/35x/NgP/ez0BdePDeYPf+P6fVE5/4f8EXmuf1vyP2X+yCceGT/uXZ8zfv2Ehr9uyK9cBx77x0f0x/4fx72OPPwZ+cqvJ7n/6I/rr40H/sr90/nGdeA3fj/D/fs17nXk4c/bTm/I/3F9wfUH7V/AX7l+nI9cBx7tw14XXH82414H3vwH+6/f5J9dX3D9tfEgXnH/dLF0HXi0/xv9c/39Pe515GF/7L/+kN93fUH723hgf+6fLlauA3/o/hj878+415GH/bH/+kn+2PU552/jgf0fyG9cBx7tm79z/ttxrwO/7Ow5w35l6+u36WeMl/4HvUT/e+Q7PSuEh34tPDT6izzsh/3fXx//DPuhbaeXXD+eMf/O32Zcv5cj5xPypfOXXP9ek5/J/JFP/GX9eOx6yfj1BN3564z122XqOvDYPz5h/Oz/qe515Lv2Z8hXngu5/+iP66+NB/Vf7p+WlevAL/x+hvv3t+515Lv2Z6iftuQz10uuPzaezl9nXD+Wa9eBt/Ggf64/z3WvIw//wf4rIb90fcn118bT+dOM+6dl4jrwNh7Yn+tvW/c68Gh/hv3Xa/KF60va38YD+3P/dJm6Dvw798fgf0nd68jD/th/PZGvXC85fxsP7M9/v3BZuQ68jQf3n/N/Xfc68rAn9iv7vn6bPsR46X/QV+if9VvTj8JDvxHe9MOQv4T9sP875PixH9rv9BXXjyPMH/7G9ftq7fwb8r+dz7n+jch/kfkjnzhg/Lhxfcn4tQ8Nf2X99nLjOvDYPx5g/Oz/YNzryMOfka8cPsn97/QV11+0fwV/5f7pcuQ68LXfz3D/Dse9Djzan6F+ekT+zvUV1x8bD/yV68fV0nXg0T7sdcX152jc68jDf7D/OiZ/7/qK66+NB/GK+6erlevAo/1j9M/193jc68jD/th/vSH/6PqK9rfxwP7cP11tXAd+4/4Y/O/NuNeRh/2x/9on/8f1JeeP9nPYn/9+4WrkOvBo3/yd8x+Nex34HPbEfmXE9Rv6FcZL/3vlv0U4Y/3WPku7v8mbnnZ/B940+iOfw37Y/+1x/NgPjTBfrh+voHfx7Knvfznr+cnTsu//FONBe5uZ9999Dn52IPNHPrHH+JG4zhm/TqDhr6zf5pXrwGP/eILxcv09qXsdefgz8pVXhdx/9Mf118YDf+X+KV+7Dvyx389w//bqXkce/oz66bjo799sRD32+2fjwfMw9fufJ9TkbTxmT/K1a/L22aT7e+K8fWa6cN7az7q/F+RT14Hftd/9vSJfuw482p/DX8mn1LXz1v519/c5+cp14G086J/+N6ldBx7tn3V/n7j9Xh60Xufcf1j7D7Pev4xfuw68jQf+zv3HtO515A+7z951f8/GPn7oOcb75OOHnnT9v1zUj9/0rfDQmfCmD4WH/S7RH+/fe7TX6cna+QU+T7q/v5BPnM/If3N+Wjl/Rv4t7z/Gk3d/p4wfV64nmfMzaPxdkR+5DnwBjfGz/3Tsmry1X2L+T3L/0d81eWj46zX5pevAV34/w/2bj10HHu1/7P5ekP/g2uxrPDT8dUV+5TrwaB/2MvuY/cauA4/2P3d/n5K/cT05JA8Nf6rJb1wHHu2fwv6p86dj14FH+1/hP+RvXU9pf7Q/xd9r8iPXga/dH4P/ZWPX5K39Bv5K/o6a87fxwP4F+aXrwKN9+PuE8z8buw487LnB9bXz0EuMl/4HPUP/986bPhQeOhfedD3kp7Dfj+7vC45/i/Y6PeP6scT84W8H7H/l/BX5N+RH7J/8L5n/T/TP+PHgesr4dQ4Nf/1Dfu068I+dPkd/7P+8dh14tP8b97uQ+9/pGddfGw/84Zl84jrwf/x+hvt3Ubsmb+3/7f6+JP/kesb118YDf90nn7oOvI0H/XP9XdauA4/2X8N+5BPXM66/Nh740zH5ynXgbTzon+vvZe068Gj/CP5K/tD1jPa38cD+e+TXrgN/7P4Y/O+qdh14tH8CfyE/cj3l/G08sP8j+cR14G088D/OP69dk087e06wXyl8/Tb9rrs+pf+Z7vqfjMlDvxMe+r3wpjPhO/tNsP975+OfYD9UdDrl+lFCd/424fo9T51/T/6983Oufx/Iz2X+yCfeevyYTF2njF8FdOevk4z80nXgsX98i/7Y/9txryPftT9BvvLuSe4/+uP6a+Pp/GHC/VO6ch34zO9nuH/vxr2OfNf+5KL7uyR/7jrl+mPj6fx1wvUj3bgOPNqHveZcf8pxryMP/8H+qyJ/5XrO9Rftz7u/J9w/pSPXgUf7Ffrn+luNex14tD/B/us9+Xeu57S/jQf25/5pvnQd+Mr9Mfjf+3GvIw/7Y/9VkP/gOuX8bTywf0p+5TrwaN/8nfP/MO515GFP7Fc++Ppt+hPGS/+DXqD/G+dNb4SHXglv+mnIz2E/7P+uOX7shz50esH14xPmD3/j+r3YOP+Z/Nb5U65/K/JfZf7IJ64ZP1auF4xfH2FP+Osd+cR14LF//Ijxs/+Pda8Dj/YnyFc+FXL/0T/XXxsP/JX7p0XqOvB3fj/D/buuex15+PP37u8b8mvXC64/Nh74K9ePReU68DYe9M/151Pd68jDf7D/+kz+wfWC66+NB/GK+6fF2nXgbTzon+vvTd3ryMP+2H+tyG9cn9L+Nh7Yn/unReI68H/cH4P/fa57HXi0P8H+6yP5J9dzzt/GA/vfkk9dB97GA3/n/Fd1ryMPe2K/8oXrN/RXjJf+B52h/8R56OliyJu+E9709ZA/hf2w//vK8WM/9KXTGdePGvPv/G3K9TurnL9zfnpGnutf4/zkSOaPfOKW8WPf9Snj1xdo+OuI/Mp14LF/vEV/7P923OvIw5+Rr3x9kvuP/rj+2ng6f5hy/3S6cR34kd/PcP++jnsdefjzq+7vmvye64zrD9rPur+nXD9OR67JW/uwV8b1px73OvDmP9h/fSM/dZ1x/bXxdP405f4pW7oOPNr/hv65/n4b9zryXftT7L/uyC9cZ7S/jaez/5T7p2zlOvCZ+2Pwv7txryPftT/F/usL+XPXp5y/jQfx6pD8xnXg0b75O+ffjHsd+DPYE/uVxtdv0/cYL/0P+gz+d0UeuhYe+qfw0NZf4GE/7P++c/zYDzWdPuP6cY/5w9+4fp+NnH8g3zh/zvXvJ/lS5o984jvjR+H6jPFrDQ1//UA+dR147B/XGD/7X9e9jjz8GfnKfSH3H/1x/bXxwF+5fzqrXAf+g9/PcP++172OPPz5U/f3D/LXrs+4/th44K9cP87WrgNv40H/XH/u615HHv6D/dcD+ZXrc66/Np7On6bcP50lrgNv44H9uf7+qHsdeLQ/xf7rJ/na9Tntb+OB/bl/Ok9dB/7O/TH430Pd68jD/th/rcmvXZ9x/jYe2P8d+cp14G08uP+c/8+615GHPbFfeeT6Db3BeOl/0Bfo/8F508fCQ2+FN/0w5M9hP+z/Nhw/9kOPnb7g+vEb84e/cf2+WDu/JX/i/JLr3xP53zJ/5BO/GD8eXZ8zfj1Cw1+fyG9cBx77x18YP/v/Ne515OHPyFc2T3L/O33B9RftX8BfuX86H7kO/JPfz3D/NuNeBx7tT9vu79/kn11fcP2x8cBfuX5cLF0HHu3DXhdcf36Pex15+A/2X3/I77u+4Ppr40G84v7pYuU68Gj/D/rn+vtn3OvIw/7Yf23JH7u+oP1tPJ39Z9w/XWxcB37k/hj8bzvudeRhf+y/HsnvuT7n/NH+EvbfkB+5Jm/tm79z/k/jXgd+2dlzhv3Kk6/fpluMl/4Hfdn9PWP91nQlPPS+8KaLIb/s7DfD/u+Z48d+6Anz5frRQqPez/X7cun8a/Ifnb/k+rdP/lTmj3zi2ePHLHW9ZPz6C93564z122XlOvDYP/5Ff+z/b93ryHftz5CvtIXcf/TH9dfGg/ov90/LtevAn/v9DPfvue515OHPqJ8m5JeuL7n+2Hg6f51x/VgmrgNv48H95/rT1r0OvPkP9l+vyReuL7n+2ng6f5px/3SZug68jQf9c/1N6l5HHvbH/muffOX6kva38cD+3D9dVq4D/8H9Mfjf67rXkYf9sf/6S/7a9ZLzt/HA/vz3C5dr14G38cD+nP9+3evIw57Yrxz4+m36COOl/0FfoX/Wb03/ER56JLzpQ+FhP+z/jjh+7IcOOn3F9eMY84e/cf2+Spwfkf/rfM7174T8N5k/8olDxo9b11eMXwfQ8FfWby9HrgOP/eMhxs/+D8e9DjzanyFfOXqS+4/+uP7aeOCv3D9dLV0Hfu33M9y/o3GvIw9/Rv30mPy96yuuPzYe+CvXj6uV68CjfdjriuvP8bjXkYf/YP/1hvyj6yuuvzYexCvun642rgOP9t/A/lx/34x7HXnYH/uvEfk/rnPaH+3nsD/3T1cj14F/cn8M/jca9zrwaH+G/dcB+WfXl5y/jQf2579fyJeuA4/24e9XnP/JuNeRhz2xXznh+m37o+4lYTn9z340AT8qxPotf5Q08OPdSyOHvGn0Rz6H/bD/e8XxYz90Yjr1/rsfoM8Rz07x0kH0v0p7fmo/UN/9jxcYD/iR8zPnZ29k/sgnXjF+HLrOGb/2oOGvrN/ma9eBx/5xD/bi+rtX9zry8GfkK+OiH//u/kOPffw2HvjD1OefJ9Tk98L9JF+7Jm/tTzo9cX48pi54/6GzTi/Ip64Dv2u/2Nlnx9euA4/253iJH/mUunbe2r/u9Dn5ynXgbTzof0O+dh14tH8GfyWfUT85b+0/dPqK/Np14G086J/+N61dBx7tX3Z6j/X7peuc+w9r/zDt/cv4xHXgbTzwd+4/ZnWvAz+BPT9Mxv2P8oKHXnTXT+h/prv+7Ud9jYe+Ex76THjTmfCw31v0x/v3Ce11epI4fwoNf/vm/DR1/oz8d+ena+fPyb9n/xhP2ek548c715Nr51No+Os1+aXrwNuPEqM/9o+XbJsOPNr/iPk/yf1Hfw/koeGvK/Ir14G/9vsZ7h9eym068Gj/c6dPyd+4NvsaDw1/rclvXAce7cNeZh+z39h1Lf7ztdMZ+VvX04w8NH/E1viR68Cj/Qz9V87bjzJXQ97ab+A/5O9cT2l/Gw/s/0B+6Trwa/fH4H94ybnpwKP9H5Pev4y/dz3h/G08sH9FfuU68Gjf/J3ztx/5roSHPfGS1/PaeWi8FH1K/4O2HwV/dN70SHjoQnjTT0N+Cvv96vSS42/RXqdnXD8uMX/42xv2v3E+J//K+ZTrX0F+K/P/jf4ZPzauZ4xfF7An/PWZfOI68H86fYHxs/+L2jV5a/8v7nch9x/9c/218cAf9smnrgP/7Pcz3L9l7TrwaP91p6/IJ65nXH9tPPDXY/KV68DbeNA/19/L2vWx+M8R7Ef+0PWM66+NB/60R37tOvA2HvTP9feqdh14tH8CfyU/cp3S/jaezv4T7p9mievA77k/Bv/L614H3n4UHfuvC+ftR9bN3zh/Gw/s/4d86jrwNh74O+df1K4D39lzgv3KW1+/TZcYL/0Pet71bz8iD970B+GhPwhv+nrIp539Jtj/lRw/9kNvOz3n+lFh/p2/Tbh+zyvnP5D/RJ7r30fyZzJ/5BPvPH5MFq5Txq+30J2/2o/OG79yHXjsH9+hP/aPH2WAjnzX/gT5Svkk9x/9cf218XT+MOH+Kd24DvzS72e4f/iRVOjIw5/zTlfkr1zPuf6g/Tn8letHOnIdeLQPe825/uBHH8xelfgP9l/vyb9zPef6a+Pp/GnC/dN86TrwaP89+uf6ix+JgI487I/91wfyH1zPaX8bD+zP/dN85Trw1+6Pwf/woxLQkYf9sf96S/7Gdcr523hg/4z8xnXg0b75O+ePH7mw5438AvbEfuWjr9+m8SMUc/of9AL935KHfhIe+ovw0NZf4GE/7P8+cfzYD33s9ILrxw3mD3/j+r0YOb8i3zp/yvXvC/lG5o984hPjR+16wfh1DQ1/vSefug489o/XGD/7v657HXn4M/KVm0LuP/rj+mvjgb9y/7SoXAf+3u9nuH+f6l5HHv78s9OfyT+4XnD9sfHAX7l+LNauA2/jQf9cf27qXkce/oP914r8xvUp118bD+IV90+LxHXgbTywP9ffz3WvA4/2J9h/fSH/5PqU9rfxwP7cP52mrgP/7P4Y/G9V9zrysD/2X9fkE9cLzt/GA/vfka9cB97Gg/vP+X+pex152BP7lVuu39A1xkv/g87Q//9l7lya2gqWLf1XOu6UjrAMAss92y+9tx5gGcOkAwQUWIAAgQXu6P/ep1a61kr2qAcdoe7B7fsd81VlVaZ25ka+x2364GL02Tf+3fCN15/9PvKH+S8w/gLz0HXkgfrHLc4f661Q/x6s6P+WP6E/VP9b0c+/N86P94kbPT+OyH09v67BsV6LTP6G7HzMjzeIX/vjH9kBex/1jPeVsG3cf+SB+i/WH8R6KDQ/9Ttk+bZ+aNwf/lEesPOxflFGvpVfkAfqPxZPrNdC/WNQk52P9ZGvgfoP/pFGsPdRP5i/7uT3yAP1X4sn1lOh+WmwJDsf699hf/Vf/KNCYO/H9QvMX7/lj8gD5d/iQf41Pw02ZOfXrEdXf/hHjsDej+sXmL+u5U/JfZ0f6w/xvOrI75Cdj/Wt3nV+/KNI9nmTP0Q+Ma+s2L+N8Y8iDVV/4BHq74S+8arhg58bvvH8sz9E/jD/PSh+zEMrnFf94xGMelP/HtX0n+Q/0h+p/z3L/9U4P94nHvT8WJCHen7dg1GvF/IXZOdjfrzHftr/PiT2PuoZ7yuP88b9Yz/1X4sH9ar5abgiO/+C9+nu7yEk9j7q+SryWv6SPFL/sXhQr+ofwxbZ+RYP7l/95zEkdr7VD+avJ/mBPFL/tXjwvNL8NKrIzrd4sL/67zok9j7yj/nrWf6KPFL+LR7kX/PTaEF2/gPr0dXfU0jsfeQf89e9/DV5qPNbPMj/qfwV2fkWD/Kv8z+HxN5HPjGvvKh/g18Rr+oPPMb+G/rGew0fvG34xu2Gj/xh/ntV/JiHXiKP1T/ecH7Um/r3uEV/q++/cvq1+t+7/PfG+fE+sdHz44081vPrBYx6bcnvkJ2P+XGD+LU//lE2sPOxfoH3lddt4/6xn/qvxYN61fw0rsnOb/E+3f29Zom9j3o+iPwmf588Vv+xeFCv6h/jJdn5WB/5Gqv/4B99s3x1GvWD+euP/CPyWP3X4on1VGp+Gm/Izsf6f5B/9V/8I3Fg7yP/mL+28vfItfKP9euY/1Lz07hDlm/rbxv1h39UDux8rF9i/nqRX5BHOr/Fg/xv5ddk52N91PtY58c/cmefN+fHfJaYV97Zv43xj9DVqj/wBN//6/tb47OGDz5o+Mbhs18jf5j//ip+zEPvkSfqHy2cH9/3q39PlvT35V/KV/87kD9unB/vE3/1/BiQaz2/PsCxXkt9f1uvyM7H/PiB/bT/R0jsfdQz3lda88b9R56o/1o8+P5X81PdIjt/yvt09/c3JHY+1i/x/elX+XPyRP3H4kG9qn9MKrLzLR7sr/7TCom9j/rB/LUvf0GeqP9aPLGeSs1PkwXZ+RYP9lf//RoSex/5x/x1IP+MPFH+LR7kX/PTZEV2/gXr0dXffkjsfeQf89eH/CW51vktHuRff39h0iI73+JB/en8ByGx86fIJ+aVNvu38VH8+anqzxj76/tb44+GD/7e8I0HDR/5w/x3pPgxD7UjT9U/voFRb+rfs4r+d/lf6c/U//bk3zfOj/eJQz0/7shTPb/aYNSrvr+d1mTnY348xH7aH//IJtj7qGe8rxxtG/eP/dR/LR7Uq+an6ZLs/DXv090f/lFOsPdRz/j+9Jv8Z/JU/cfiQb2qf0w3ZOdjfeRrpv6Df6Td8rVt1A/mr478N/JM/Rfrz/C80vw07ZCdj/U72F/9F/+oKNj5WL/E/PVd/gd5pvxbPMi/5qdZTXZ+i/Xo6g//yCnY+8g/5q+2/H3yVOe3eJB//f2F2ZLsfKxv9a7z4x9Ftc+b8/F8i/+NCdmevr8H59ki/n03+uAsdP+D+v4WnNUNH1w1fGPUj/wZ8vfv+/xF8kush/Msu9w//vkMz7Nx/HPbf9NNfil/Rj+v6Vf0yy+fz1/a+8Q8+WVHnNH/gnzi81Bw/1lLLB/z4xfLh/xAlm/r57hv+v/uHzynb+sPIvfkV2Tn/1t/8en+skB2PtbvRi7kV+Kg+wefRR7JX5Cdb/Fg/438QHY+1h9GLuUPxFv6tv468lT+iux8iwf7d+QHsvOx/gT1Kr8m58q/rd+OfCK/RXa+xRP3d/VXBrJ8W/848hf9/YE5eab5w+KJ+S/19xfyiux8iwf1rvmjCom9j3xexJ/vZowf3Ee8qj9wgfpbMH7jh4YPHjV847PPfo78/cR+ur8rrBe5qOgPcH7U2732X9AfyX+S36I/ln+u/RHPr8g9PT9OyfmafheMel3KX5KdfwbGftq/l5Gdj/Uvcf5t4/6xX1s+GPUa5G/Izl/yPt399TOy87H+TeSB/Guy5dd8MOp1Jb9Ddj7WR74sP5a/jLxq1M/vyEP5d+TiTD4Y9bSWX5Odj/WH2H9Ff5iRnY/1H1E/8h/IhfJv8SD/G/lLsvPXrEdXf6OM7Hys/4J6lf9MznV+iwf5P5O/ITsf61u96/zjjCy/RD5b+PlAHzxFvKo/cIn93+RHzrPPvvFxwwfbfs5H/v5Enij+A6wXuVT/mOL8qLcv8jv05/Tzkn6l/ncs/2/j/O/YX8+PLbnU86sGo1735Vdk539ErhG/9q8D2flY/yvue964f+yn/mvxoB6O5C/Izt/nfbr7mwSy87H+YeSZ/Da5VP+1eFCve/JXZOdbPNhf/XcayHuf6yf7jvzJ75Ar9V+LJ9ZTrvmpbJGdb/Eg/+q/s5DY+Vg/x/x1TP9f/WJ/5d/iifnPNT9VFdn5BevR1d88JPZ+XD/H/FXLr8ilzm/xIP8f8hdk51s8uH+d/ziQnR/zmWNeOWH/Nl4gXtUfuBv3zwf0jS8aPvhXwzdef/Yr5A/z30LxYx46idxV//iJ88d6y9W/uyv6v+Rf0e+p/53JnzTOj/eJH3p+jMiVnl8nYDzv5vI3ZOdjfvyB+LX/jyyx91HPeF9ZbBv3H7mr/ov1u6hXzU9Vh+z8Oe/T3d8iS+x8rJ//iPxT/gm5q/5j8aBe1T+6Ndn5WB/56qr//MwSex/1g/nrVP4puav+a/HEeso1P3WXZOdj/VPsr/57miX2PvKP+euX/AtyV/m3eJB/zU/dDdn5S9ajq79fWWLvI/+Yv07kX5MrnR/r95D/Wn6H7Hysb/Wu859liZ3fQz4xr5ypf4MvEa/qD9zH/nf0jVsNH3zd8I3nn/0e8of570LxYx46w3nVPy7BqDf1735N/0r+Af2++t+1/MfG+fE+caHnx4rc0/PrHIx6fZa/IDsf8+M59tP+5yGx91HPeF+5nDfuH/up/1o8qFfNT70V2fnPvE93fxchsfdRz6+Rl/I35L76j8WDelX/6LXIzrd4cP/qP5chsfOtfjB/XcnfkvvqvxYPnlean/oV2fkWD/ZX/12GxN5H/jF/XctvkfvKv8WD/Gt+6i/Izt9nPbr6uwqJvY/8Y/46l98m93R+iwf5f5C/Ijvf4kH+df7rkNj7MZ8F5pUb9m/jW8Sr+gMPsH+HPriYNnzwquEbtxs+8of575bxF5iHbiIP1D/ucP5Yb4X696BFfyX/mP5Q/e9efv75/DneJ4KeH3vkgZ5fN+BYr0Ulv0OWX2B+DIhf+4cssfOxfoH3ldtt4/6xn/qvxRProdD8NKjJzq94n+7+brPE3o/rF/3Id/J75IH6j8UT67VQ/xgsyc7H+sjXQP3nLkvsfdQP5q/f8kfkgfqvxRPrqdD8NNiQnY/1fyP/6r+/s8TeR/1j/lrJn5KHyj/WHyL/mp8GHbLz56xHV3+rLLHzsX6B+etG/gm5r/NbPMh/Jr8mOx/ro94HOv99ltj7yCfmlXv2b+M14lX9gUfY/5S+8brhg18avnH47A+RP8x/j4of89B95JH6xxrnR72pf4+W9J/lv8hX/3uRf9k4P94nHvX8OCMP9fx6AKNer+WvyM7H/PiA/bT/Q0jsfdQz3lfW88b9Rx6p/1o8qFfNT8MW2fnXvE93f48hsfOxfnEb+Ul+II/Ufywe1Kv6x6giO9/iwf7qP+uQ2PuoH8xfz/JX5JH6r8WD55Xmp9GC7HyLB/ur/z6FxN5H/jF/vchfk0fKv8WD/Gt+Gq3Izn9mPbr6ew6JvY/8Y/56kL8hD3V+iwf5v5DfIjvf4kH96fwvIbHzx8gn5pWN+jf4Lf78WPVnjP238iOXxWff+L3hGw8aPvKH+e9N8WMe2kQeq3/8AeP7DvXvuqL/Tr/s0q/V/z7oF18b58f7xKueHx/ksZ5fGzDqtS2/Jjsf8+Mr9tP+r1li76Oe8b7ytm3cP/ZT/7V4UK+an8ZLsvPbvE93f29ZYu+jnr9F/iP/iDxW/7F4Yr2W6h/jDdn5WB/5qtV//mSJvY96wvy1lb9HrtV/sX4d66nU/DTukOXb+lvsr/67zRI7H+uXmL/e5RfkWvm3eGL+S81PdU12fsV6dPX3niX2fly/xPy1kd8jj3V+iwf5b8lfkp2P9a3edf6PLLH3kU/MKx/s38ZfEa/qDzzB9//6/tZ42fDB7YZvvP3s18gf5r+W4sc89BF5ov7xFedHval/Tzb0D+Tf0J+q/7Xlzxrnx/tES8+PmjzR8+sv8onnnb6/rVtk52N+/Iv4tf/fkNj5WL/E+8rXeeP+sb/6r8WDetX8NKnIzj/hfbr7a4XE3kc94/vTffkL8kT9x+JBvap/TBZk51s82F/952tI7H3UD+avA/ln5In6r8UT66nU/DRZkZ1v8WB/9d/9kNj7yD/mr7b8JXmq/Fs8yL/mp0mL7Pxr1qOrv4OQ2PlYv8T89Vd+INc6v8WD/OvvL0wrsvMtHtS7zt8Oib2PfGJeOVT/Bn9DvKo/8Az76/tb4/2GD95r+MZnn/0p8of575vixzx0GHmm/tHB+VFv6t+zBf09+Yfy1f++yH9qnB/vE0d6fjyQp3p+HYJRr/r+drokOx/z4xH20/5HWWLvo57xvvJt27h/7Kf+a/GgXjU/TTdk5294n+7+vmWJvY96xvenHflv5Jn6D9afoV7VP6YdsvOxPvI1U//pZImdb/WD+eu7/A/yTP3X4sHzSvPTrCY7H+t/x/7qv9+zxN5H/jF/7cnfJ8+Uf4sH+df8NFuSnd9mPbr628sSex/5x/x1KP+IPNX5LR7kX39/YbYhOx/rW73r/F+yxM6P3yjEv+8V/71Wff8PLrKz+Pfd6IOz7X9+vtT3t+Bs3vDB3YYPxn7eryNj/su3Z8nvYz2cZ9Pj/vHPZ3iezXL++6Ud+pX8H/TzJf2u/FI+zp9Hzuf0M/GcfgYeRO7Jr8jOL+zPI2v/LJCdj/W7uG/5lTjQt/XPIo/kL8jOt3iwv+4vD2TnY/1h5FL+QLzV/YPXkafyV2TnWzzYvyM/kJ2P9SeRK/k1Oc/o2/rtyCfyW2TnWzxx/7yWH8jybf1j1Kv8OTlX/i0e5P9UfkV2vsWD/ZX/KpCdj/V/guUvxDq/xYP8F/IXYvkWj30e5Aey85HP68i9jD54gHhVf+AC+5/RN35u+OBxwzdef/Zz5O8c+yn+W6wXuVjQH+L8qLcn7b+iP5b/Sr+s6Nfyrxrnv4zc1/Pjgpy36ffAqNcgf0N2/hKM+LV/PyM7H+vf4Pzbxv1HLgbywaiHlfwO2fmB9+nub5CR5dv6vyMP5d+RLb/mg1Gva/k12flYH/my/Fj+MvK6UT+PkUfyH8jFWj4Y9bSRvyQ7H+uPsH+L/igjOx/rv6B+5D+TC+Xf4kH+t/I3ZOdvWI+u/sYZ2flY/w/qVf4bOdf5sX6J/C/ld8jOx/pW7zp/nZHll8hnGz8f6INniFf1B66w/wd9cF599o1PGr7x/LNfIn9/I08V/zesh/Oqf8zAsd5y9e+qpn9MP+/Tr9T/TuhnB43zf8X+en60yKWeXxMw6vVI/oLs/P3IE+yn/SeB7Hysf4j7njfuH/up/1o8qIc9+Suy8494n+7+poHsfKz/PfJcfodcqf9YPLFec/WPskV2vsWD+1f/mYXEzrf6wfx1TD/PyJX6r8UT6ynX/FRVZOdbPNhf/XceEns/rp9j/jqRX5Er5d/iifnPNT9VC7Lze6xHV3/HIbH34/o55q+J/AG51PktHuR/X/6K7HyLB/nX+U8C2fnIJ+aVH+zfxj8Rr+oP3I375zV94+uGDz5r+Mbtho/8Yf77qfgxD/2I3FX/OMX5UW/q390W/TP5t/R76n/n8o8b58f7xELPjym5q+fXDzDqdSG/Q3Y+5scF4tf+iyyx87F+jveVn9vG/WM/9V+LB/Wq+albk52/4H26+/uZJfY+6vlX5FP5p+Su+o/Fg3pV/+guyc7H+shXV/3nNEvsfdQP5q9f8i/IXfVfiyfWU675qbshOx/r/0L+1X9/ZYm9j/xj/jqTf03uKf9Yv4f8a37qdsjOD6xHV39nWWLnY/0c89cP+XfkSue3eJD/ufya7Hysj3rv6vznWWLvI5+YV87Vv8FLxKv6A/ex/wN943bDB980fOPw2e8hf5j/LhU/5qHzyH31jyXOj3pT/+4v6V/L/yZf/e9G/kvj/HifuNTzY03u6fl1AUa9vslfkZ2P+fEC+2n/i5DY+6hnvK8s5437j9xX/7V4UK+an3otsvPfeJ/u/i5DYudj/fw98pX8Lbmv/mPxoF7VP/oV2fkWD/ZX/1mGxN5H/WD+upbfIvfVfy0ePK80P/UXZOdbPNhf/fcqJPY+8o/560Z+m9xX/i0e5F/zU39Fdv4R69HV33VI7H3kH/PXhfwOuafzWzzI/7P8Ftn5Fg/qT+e/CYmdP4j5LDCvBPZv47v48wPVn3Hcv8jkg08aPvi+4RsPGn7MX4H5747xF5iHQuSB+sdvcKy3Qv17WNG/l/+T/lD970F+t3F+vE/c8vlRFOSBnl8BHOu1GMivyc7H/HiL/bT/bZbY+3H9Au8rd9vG/WM/9V+LJ9ZDoflpsCQ7f8D7dPd3lyX2fly/GEf+LX9EHqj/WDyxXgv1j8GG7Hysj3wN1X9+Z4m9j/rB/LWSPyUP1X+x/jDWU6H5adAhOx/rr7C/+u8qS+x8rF9g/rqXf0IeKv8WD/Kv+WlYk52/YD26+rvPEnsf+cf8FeSfkgc6v8WD/Ffyl2TnY32rd53/IUvsfeQT88oD+7fxE+JV/YFH2P+CvvGm4YM3Dd94+9kfIn+Y/9aKH/PQQ+SR+scTzo96U/8ebei/yP9Df6z+t5F/0zg/3ifWen4sySM9vx6RT9TrnfwW2fmYHx8Rv/Z/DImdj/ULvK88zRv3j/3Vfy0e1Kvmp1FFdv4d79Pd3zok9j7q+T7ys/wVeaT+Y/GgXtU/Rguy8y0e7K/+8xQSex/1g/nrRf6aPFL/tXjwvNL8NFqRnW/xYH/13+eQ2PvIP+avjfwNeaz8WzzIv+anUYvs/DfWo6u/l5DY+Vi/wPz1KH9LHur8Fg/yfy2/Ijvf4kG96/ybkNj7yCfmlVf1b/AfxKv6A9fYv0UfXPY++8YfDd/47LM/Rv4w//1R/JiHXiPX6h9bnD/WW6n+XS/of9Avh/LV//7SLw4b58f7xJueH/vksZ5fr2DUa0f+kux8zI9v2E/7v2WJvY96xvvKn23j/rGf+q/Fg+9fNT+NN2Tnd3if7v7+ZIm9j3r+Enkrf49cq/9g/Rrf36p/jDtk+bY+8lWr/2yzxM63+sH89S6/INfqvxZPrKdS81Ndk52P9d+xv/rve5bY+3H9EvPXh/weuVb+LZ6Y/1LzU70kO3/AenT195El9n5cv8T89Sp/RB7r/BYPnldt+Ruy87G+1bvO/zdL7PwJ8ol55S/7t/E+4lX9gSeoP31/axwaPviw4YNtP+cjf5j/vip+zEN/I0/UP/ZxftSb+vekQ78t/zf9qfrfofwfjfPjfeKrnh9z8kTPrxYY9arvbycV2fmYH1uIX/u3QmLvo57xvrI/b9w/9lP/tXhQr5qfJguy8095n+7+vobE3kc94/vTA/ln5In6j8WDelX/mKzIzrd4sL/6z35I7H3UD+avtvwlear+a/HEeio1P01aZOdbPMi/+u9BSOx8rF9i/jqUH8hT5d/iQf41P00rsvPvWI+u/tohsfeRf8xfLfkr8kTnt3iQf/39hemC7HyLB/ev8x+GxN5HPjGvHKl/gzuIV/UHnmF/fX9rfNTwwV8avvH6sz9F/jD/dRQ/5qGjyDP1j+84P+pN/Xu2ov9F/nf6WdVPfjZfJv+1cX68T3zT8+OZPNXz6wiMetX3t9MN2fmYH78hfvXfb1li76Oe8b7S2TbuP/JM/Rfrz1Cvmp+mHbLzt7xPd3+dLLHzsX6J70+/y/8gz9R/LB7Uq/rHrCY7H+sjXzP1n+9ZYu+jfjB/7cnfJ8/Ufy0ePK80P82WZOdj/T3sr/67lyX2PvKP+evLtlG/2E/5t3jwPMzybfI3ZOd3VI+qvy8Z2fnIP+avI/l75KnOb+tn/VRf5iP/m8/+v/VR7zp//A3+v8+b/Gwe4xng58My+eAy/nw2YPzgPO6fFYzfeNHwwb2Gbzz/7GdL/HnkYkt/bH8euaP97c8j/9D+Nf2u/F/08432l9/X/oini/3n9CtxoJ+DzyKP5C/Izu9FzrGf9s8D2flYf4j7njfuH7ylb+uvI0/lr8jOH+k+dX9FIDsf608iV/JrsuXX7h9/3o58Ir9Fdr7Fg/uv5QfySaN+jpE/+XNyPqdv8aCeTuVXZOdbPNh/KT+QnY/1f6Je5S/IufJv8SD/F/IXZOefsh5d/XUD2flY/xz1Iv9MrPNbPMh/T/6K7HyLB/nX+XuB7Hzk8y5yP6MPHiJe1R+4wP5L+sZvDR9cN3zjdsNH/q6wn+K/x3qRixX9Ec6PenuV36Jfy3+nXy7oT+TfNs5/E3mg58c1udDzqw9Gva7kd8jOD2DEr/0HGVm+rf8b59827h/7nckHox7W8muy81e8T3d/w4zsfKz/GHkk/4Fs+TUfjHrdyF+SnY/1kS/Lj+UvI28a9fMSeSz/mVy05YNRT1v5G7Lzsf4Y+Vf/HWdk52P9P6gf+W/kUvnH+iXy35LfITt/y3p09VdnZPm2/l/Uq/wPcq7zWzzIf5Bfk52P9VHvhc4/ycjORz47+Hn1b/Ac8ar+wBX236cPzgeffeMfDd84fPZL5O8g8kzxf8F6kSv1jznOH+stV/+ulvRP6Odj+ep/P+hn3xrnP8T+en60yaWeX1Mw6nVP/ors/KPIU+yn/aeB7Hys/x33PW/cf+RK/dfiifWQa34qW2Tn7/E+3f3NQmLnY/08j3xMP8/IlfqPxRPrNVf/qCqy8y0e7K/+Mw+JvY/6wfx1Ir8iV+q/Fk+sp1zzU7UgO9/iwf7qv8chsffj+jnmrx/yB+RK+bd4Yv5zzU/Viuz8EevR1d9JSOz9uH6O+WsqvyaXOr/Fg+fBkfwW2fkWD+pP5/8RyPK7yCfmlQX7t/Fp/Pmu6s8Y9TeXD75r+ODzhm88aPjIH+a/U8WPeWgRuav+8QuMelP/7lX0z+Xf0++p/13I/9k4P94nfur5cULu6vm1AKNez+TXZOdjfvyJ/bT/zyyx91HPeF853TbuH/up/1o8qFfNT90l2flnvE93f6dZYu+jni8j/5J/Qe6q/1g8qFf1j+6G7Hysj3z11H9+ZYm9j/rB/HUm/5rcU//F+j08rzQ/dTtk52P9M+yv/nuWJXY+1s8xf53LvyP3lH+LB/nX/NSryc5fsR5d/Z1nib2P/GP+Wsh/IHd1fosH+V/IX5Kdj/Wt3nX+iyyx95FPzCsX6t/gK8Sr+gP3sf8zfeNOwweHhm+8/ez3kD/Mf0vFj3noInJf/eMK50e9qX/3N/Rv5H+hP1D/C/L/NM6P94mlnh8bcl/Pr0vkE/X6Ib9Fdj7mx0vEr/0vQ2LnY/0c7ytX88b9Y3/1X4sH9ar5qV+Rnf/B+3T3twyJvY96/hr5Wn6L3Ff/sXhQr+of/QXZ+RYP9lf/uQqJvY/6wfx1I79N7qv/Wjx4Xml+6q/Izrd4sL/673VI7H3kH/NXkN8hD5R/iyfmv9D81G+Rnb/HenT1dxMSOx/rF5i/LukXGbmn81s8yP+b/IrsfIsH9a7zh5DY+zGfBeaVW/Zv49+IV/UHHsb9i4q+8WnDBz80fOOzz/4g5q/A/Pdb8WMeuo08VP9Y4fyx3gr17+GC/oP8c/nqf4/yh43z433ijs+Pokce6Pl1C471WtTyl2TnY368w37a/y5L7P24foH3ld/bxv1jP/VfiyfWQ6H5abAhO7/mfbr7+50l9j7qeRZ5JX9KHqr/YP0h6lX9Y9AhOx/rI19D9Z9Vltj5Vj+Yv+7ln5CH6r8WT6ynQvPTsCY7H+vfY3/13/sssfeRf8xfD/JPyUPl3+JB/jU/DZdk55+xHl39PWSJvY/8Y/66lX9BHuj8Fg/yP5C/ITsf61u96/yPWWLnj5BPzCuP7N/Gz4hX9QceYf9r+eBtwwe/Nnyw7ed85A/z35Pixzz0GHmk/vGM86Pe1L9HHfob+X/pj9X/XuX/bpwf7xNPen4E8kjPrzUY9fogvyI7H/PjGvFr/3VI7H3UM95XnueN+8d+6r8WD+pV89NoQXb+A+/T3d9TSOx91PNT5Bf5a/JI/cfiQb2qf4xWZOdbPNhf/ec5JPY+6gfz10b+hjxW/7V48LzS/DRqkZ1v8SD/6r8vIbHzsX6B+etV/pY8Vv4tHuRf89O4Ijv/g/Xo6m8TEnsf+cf8tZbfIo90fosH+b+TvyA73+LB/ev8ryGx95FPzCtv6t/gLeJV/YFr7N+mDy5Hn33jvw3feP3ZHyN/mP+2jL/EPPQWuVb/eMf5Y72V6t/1iv5f+RP6E/W/Fv3ie+P8eJ/4o+fHEXms59cbONZrqe9vxxuy8zE//kH82v9Pltj7qGe8r2y3jfuPXKv/Yv0a3/9qfhp3yPJt/W3j/rZZYudj/RLfn77LL8i1+o/FE+u1VP+oa7LzsT7yVav/vGeJvY/6wfz1Ib9HrtV/LZ5YT6Xmp3pJdj7W/8D+6r8fWWLvx/VLzF9/5Y/ItfJv8SD/mp/qDdn5NevR1d/fLLH34/ol5q83+VPyWOfH+hM8rzryO2TnY32rd52/lSV2/gT5xLzSYv82PkC8qj/wFPWn72+NVw0ffNTwjeef/Qnyh/lvX/FjHmrhvOofB2DUm/r3tKZ/KP+R/lT970j+r8b58T6xr+fHgjzR8+srGPWq728nC7LzMT9+xX7a/2tI7H3UM95XDuaN+8d+6r8WD+pV89NkRXb+Be/T3d9+SOx91DO+P23LX5Kn6j8WD+pV/WPSIjvf4sH9q/8chMTOt/rB/HUoP5Cn6r8WD55Xmp+mFdn5Fg/2V/9th8TeR/4xfx3JX5Gnyr/Fg/xrfpouyM5/YD26+jsMib2P/GP++ip/TZ7o/BYP8q+/vzBdkZ1v8SD/Ov9RSOx95BPzyjf1b/B3xKv6A8+wv76/Nd5r+Pb7lRA++cbtho/8Yf77rvgxD32LPFP/2MP5UW/q37MW/Wwe/vlZXmT//GwxSH4e/9z898b58T7R0fPjjTzT8+sbGPWq72+nHbLzMT92EL/6bydL7HysX+J95fu2cf/YT/3X4kG9an6a1WTnt3if7v6+Z4m9j3rG96d78vfJM/Ufiwf1qv4xW5Kdj/WRr5n6z16W2PuoH8xfX+QfkWfqvxYP6imL+TV/Q3Y+1v+C/FfM/5eM7Hzk/4vFk+rnX/2CB/Kxfha5ko/n6z9m/dn6qEfVX/wN+D+W/2/9ItWX+QV5qvPb+vNBqi/za7LzsT7qfab5I88Sez/E/Wv8fGD84ArxnjF+cB73z3qM3/is4YP7Dd84fPazTeR+5FL3N8N6kfNa++PPl5F/af8l/Z78S/kd7S9/rP0RzxD76/kxEG/pF+B15Kn8Fdn5o8gF9tP+RSA7H+tPcN/zxv1HzjP6tn478on8Ftn5U96nu78ykOXb+seRu/LnZMuv3T8Y9XoqvyI73+LB/kv5gXzaqJ+fyJ/8BTkP9C0e1NOF/AXZ+RYP9t/ID2TnY/1z1Kv8M3Ku/Fs8yP+1/BXZ+ResR1d/vUB2Pta/Qr3IX4p1fosH+R/Jb5Gdb/Gg/nT+fiDLL5DPh8iDjD54FH++UP0ZY/8gH/zR8MGThm88aPjI3y32U/xPWC9y0aI/BqPe3umXFf2J/K/0yxX9qfz7xvl/Rx7q+XFHLvT8GoBRr2v5Ndn5KzD20/7DjOx8rP+I828b94/91vLBqIeN/CXZ+Wvep7u/UUZ2PtZ/iTyW/0y2/JoPRr1u5W/Izsf6yFep/jvOyNtG/fyJXMt/I5fqv1i/RD215HfIzsf6NfZX/60zsnxb/y/qR/4HuVT+LR7kvy2/Jju/xXp09TfJyM7H+gdFqi/z98mFzm/xIP8r+Uuy87G+1bvOP83Izo/5zDGvTNm/jY8Rr+oPXGH/I/rgvG744EXDN95+9kvk71vkOePPMQ9NI1fqH8c4f6y3XP272tD/IX9Gv6v+t6Cfffl8/uw79tfzo0Ou9PyaIZ+xXvNCfovs/L3IM8Sv/WchsfOxfo73leN54/6xv/qvxRPrIdf8VFVk5xe8T3d/85DY+3H9vBv5RH5FrtR/LJ5Yr7n6R7UgO9/iwf7qP8chsfdRP5i/fsgfkCv1X4sn1lOu+alakZ1v8WB/9d+TkNj7qH/MXwv5Nbmr/Fs8yL/mp6pFdv6U9ejq70dI7Hysn2P+msmfk0ud3+LB82BPfkV2vsWDetf5F4HsfOQT88pP9m/jX4hX9Qfuof4W9I0fGj74ouEbn332u8gf5r9fih/z0M/IPfWPM5wf9ab+3VvQv5D/JF/971L+eeP8eJ841fPjlNzV8+snGPW6lL8kOx/z4yn20/6nWWLvo57xvvJr27h/7Kf+a/GgXjU/dTdk5y95n+7+fmWJvY96vol8Jv+a3FP/wfo91Kv6R7dDdj7WR7566j9nWWLnW/1g/jqXf0fuqf9aPHheaX7q1WTnY/1z7K/+e54l9j7yj/nrQv4Duaf8WzzIv+an3pLs/DXr0dXfRZbY+8g/5q+f8p/JXZ3f4kH+z+RvyM7H+lbvOv9lltj5feQT88ql+jf4GvGq/sB97P8mP3KRffaNbxs+2PZzPvKH+e9K8WMeuozcV/+4xvlRb+rf/Q79QL8o6Q/U/27l/22cH+8TV3p+bMl9Pb+WYNTrvvyK7HzMj0vEr/2XIbH3Uc94X7meN+4f+6n/WjyoV81P/QXZ+fu8T3d/VyGx91HPh5Fv5LfJffUfiwf1qv7RX5Gdb/Fgf/Wf65DY+6gnzF9Bfoc8UP+1eGI9FZqf+i2y8y0e5F/99yYkdj7WLzB/3dL/V7/YX/m3eGL+C81Pg4rs/IL16OovhMTej+sXmL+W8ityX+e3eJD/D/kLsvMtHty/zn8bEns/5rPAvHLH/m28QryqP/Aw7l8M6BtfNHzwY8M3Xn/2B8gf5r+V4sc8dBd5qP5xj/PHeivUv4cr+o/yr+iP1P/W8ieN8+N94reeHyPyQM+vOzCed3P5G7LzMT/+Rvza/3eW2PuoZ7yvrLaN+488VP/F+kPUq+anQYfs/Dnv093fKkvsfKxf/Ih8L/+EPFT/sXhQr+ofw5rsfKyPfA3Vf+6zxN5H/WD+epB/Sh6q/1o8sZ4KzU/DJdn5WP8B+6v/PmSJvY/8Y/56lH9BHir/Fg/yr/lpuCE7f8l6dPX3mCX2PvKP+etO/jV5oPNj/RHyX8vvkJ2P9a3edf51ltj5I+QT88pa/Rv8gnhVf+Ax9r+jb9xq+OC3hm88/+yPkD/Mf8+KH/PQGudV/3gBo97Uv8c1/Vf5B/TH6n9v8h8b58f7xLOeHyvySM+vJzDq9Vn+gux8zI9P2E/7P4XE3kc9433lZd64f+yn/mvxoF41P41WZOc/8z7d/T2HxN5HPb9G3sjfkMfqPxYP6lX9Y9QiO9/iwf2r/7yExM63+sH89Sp/Sx6r/1o8eF5pfhpXZOdbPNhf/XcTEnsf+cf89Sa/RR4r/xYP8q/5abwgO3+f9ejq7zUk9j7yj/nrSX6bPNL5LR7k/0H+iux8iwf51/nfQmLvx3yWmFf+sH8bvyNe1R+4xv4d+uBy2vDBrYZv3G74yB/mv3fGX2Ie+hO5Vv/4wPljvZXq33WLfkv+Mf2J+t9X+fnn8xd4n9jq+bFHrvX8+gOO9Vrq+9txhyy/xPy4Rfzaf5sldj7WL/G+8r5t3D/2U/+1ePD9r+anuiY7v+J9uvt7zxJ7P65f4vvTD/k9cq3+Y/HEei3VP+ol2flYH/mq1X8+ssTeR/1g/vorf0Su1X8tnlhPpeanekN2Ptb/i/yr//7NEnsf9Y/5qyV/Sp4o/1h/gvxrfqo7ZOfPWY+u/lpZYudj/RLz1x/5J+Sxzm/xIP/6+wuTmux8rI96r3X+r1li7yOfmFe+sn8btxGv6g88xf76/tZ43fDB3xq+cfjsT5A/zH8Hih/z0NfIU/WPNs6PelP/ni7pH8l/ka/+903+ZeP8eJ840PPjjDzR82sfjHrV97eTFdn5mB/3sZ/23w+JvY96xvtKe964/8hT9V+LB/Wq+WnSIjv/mvfp7u8gJHY+1i/x/emh/ECeqv9YPKhX9Y9pRXa+xYP91X/aIbH3UT+Yv47kr8hT9V+LB88rzU/TBdn5Fg/2V/89DIm9j/xj/vomf02eKv8WD/Kv+Wm6Ijv/mfXo6u8oJPY+8o/5a1/+hjzR+S0e5F9/f2HaIjvf4kH96fzfQmLnz5BPzCsd9W/wXvz5merPGPvr+1twVhRz7xvnYfXJNx40fOQP89+e4sc81Ik8U//4AsbzLC/474dWw+Tn81Xav4t4sN5qmPwi/jn88mvj/Hif+K7nxwd5pudXB4x61fe3s5rsfMyP3xGv+u/3LLH3Uc94X9nbNu4f+6n/WjyoV81PsyXZ+W3ep7u/vSyx91HP+P70i/wj8kz9x+LB5yEr9O/Pkp2P9ZEv5Odf/jKy81FP/36fm/JX7okH8rF+FrmSj8/XP2b+bX3Uw4J+/A3IP5b/b33Uq/xCfCYfPI88kF+TnY/1rR5Vf3lGdj7W76NeeX9ZjzzT/GHrh2GqL/OXZOdjfat3zR9Fltj727j/HD8fGD+4i3jXjB+cx/2zEeM3XjZ88KDhG28/+1kn8rjAv99L/wfWi5wvtT/+fBP5Uvtv6Pfl39Avau0vf6b9Ec8E++v5UZPzjH6JP29HPpHfIjt/GrlE/Nq/DGT5tv4x7nveuH/sP6dv8aBeT+VXZOef8D7d/VWB7Hys/zNyT/6CbPm1+wejXi/kL8jOt3iw/0Z+IF806ucc+ZN/Rs639C0e1NO1/BXZ+RYP9u/ID2TnY/0r1Kv8JblQ/i0e5P9Ofovs/GvWo6u/fiDLt/VvUS/yg1jnt3iQ/6n8iux8iwf1rvMPAtn5yOdz5GFGHzxGvKo/cIn9V/SN9xs+eNrwjc8++wXyd4/9FP8r1otcqn/UOD/q7av2X9Cfyj+U36I/k//UOP9j5JGeHw/kQs+vIRj1upG/JDt/DcZ+2n+UkZ2P9V9w/m3j/rFfWz4Y9bCVvyE7f8P7dPc3zsjOx/p/Itfy38il+i/WL1GvLfkdsvOxPvJVqv/WGbnVqJ+/kSfyP8il+q/Fg3pqy6/Jzsf6E+yv/jvJyM7H+geoH/n75FL5t3iQ/478Jdn5bdajq79pRnY+1v+GepV/RC50fosH+V/L35Cdj/Wt3nX+WUaWX8V85phXZuzfxieIV/UHrrD/nvzI+bzhg382fDD28z7y9yXyMePPMQ/NIlfqHyc4f6y3XP276tBfyP9Bv6v+91N+2Tg/3ieO+fzIM3Kl59ccHOs178mvyM7H/DhH/Np/HhJ7P66f433lZN64f+yn/mvxxHrINT9VC7Lze7xPd3/HIbH34/r5MPIP+QNypf5j8cR6zdU/qhXZ+RYP9lf/OQmJvY/6wfy1kF+Tu+q/Fk+sp1zzU9UiO9/iQf7Vf3+ExM7H+jnmr5/y5+Su8m/xIP+an7oV2fknrEdXf4uQ2PvIP+avufwFudL5LR7kv5C/IDvf4sH96/w/Q2LvI5+YV07Zv43PEK/qD9zD/mf0jZ8bPviy4RuvP/td5A/z35nixzx0Grmn/nGO86Pe1L97K/qX8l/p99X/lvKvGufH+8QvPT8uyF09v07BqNcgf0N2PubHX4hf+//KEnsf9Yz3lbNt4/4j99R/sX4P9ar5qdshOz/wPt39nWWJnY/189+Rz+XfkXvqPxYP6lX9o1eTnY/1ka+e+s95ltj7qB/MXxfyH8g99V+LB88rzU+9Jdn5WP8C+6v/XmSJvY/8Y/66lP9M7in/Fg/yr/mptyE7f8N6dPV3mSX2PvKP+etU/hu5q/Nj/T7yv5TfITsf61u96/zLLLHz+8gn5pWl+jf4BvGq/sAD7P9BH1xUn33ju4ZvPP/s95E/zH/Xih/z0BLnVf+4Acd6K9S/BzX9W/pFn/5A/e+Ofn7QOD/eJ671/GiR+3p+XYFRr0fyF2TnY368wn7a/yok9j7qGe8rN/PG/WM/9V+LB/Wq+am/Ijv/iPfp7u86JPY+6vl75CC/Qx6o/1g8sV4L9Y9+i+x8iwf3r/5zExI73+oH89ct/SIjD9R/LZ5YT4Xmp0FFdr7Fg/3Vf0NI7P24foH5605+RR4o/xZPzH+h+WmwIDu/x3p09XcbEns/rl9g/rqSPyD3dX6LB/nfl78iO9/iQf51/ruQ2PvIJ+aV3+zfxveIV/UHHsb9i5q+8XXDB68bvnG74SN/mP/uFT/mod+Rh+ofDzg/6k39e9iiv5Z/S3+k/vck/7hxfrxPrPT8mJKHen79BqNeF/I7ZOdjflwhfu2/yhI7H+sXeF+53zbuH/up/1o8qFfNT8Oa7PwF79Pd332W2Puo51+RH+SfkofqPxYP6lX9Y7gkOx/rI19D9Z+HLLH3UT+Yvx7lX5CH6r8WT6ynQvPTcEN2PtZ/RP7Vfx+zxN5H/jF/reVfk0fKP9YfIf+an4YdsvMD69HV3zpL7HysX2D++i3/jjzQ+S0e5H8uvyY7H+uj3oc6/1OW2PvIJ+aVJ/Vv8Abxqv7AY+z/QN+43fDBfxq+cfjsj5A/zH8vih/z0FPksfrHBudHval/j5f03+R/k6/+90f+S+P8eJ940fNjTR7p+fUMRr2+yV+RnY/58Rn7af/nkNj7qGe8r2zmjfuPPFb/tXhQr5qfRi2y8994n+7+XkJi52P94j3yq/wteaz+Y/GgXtU/xhXZ+RYP9lf/2YTE3kf9YP56k98ij9V/LR48rzQ/jRdk51s82F/99zUk9j7yj/nrj/w2eaz8WzzIv+an8Yrs/CPWo6u/t5DY+8g/5q9n+R3ySOe3eJD/Z/ktsvMtHtSfzv8nJHZ+HfNZYl7Zsn8bf8Sfr1V/xnH/Ut/fGp80fPDXhm88aPgxfyXmvw/GX2Ie2kau1T/+gvF9v/r3pKL/Vf5P+hP1v3353cb58T7xru+fC3Kt59cWHOu11Pe3dU12PubHd+yn/d+zxN6P65d4X/nYNu4f+6n/Wjz4/lfzU70kO3/A+3T395El9n5cv8T3p3/lj8i1+o/FE+u1VP+oN2TnY33ka6L+8zdL7H3UD+avlvwpeaL+i/UnsZ5KzU91h+x8rN/C/uq/rSyx87F+ifnrq/wT8kT5t3iQf81Pk5rs/AXr0dXf1yyx95F/zF9b+afkWue3eJB//f2FyZLsfKxv9a7z72eJvY98Yl7ZZ/82PkS8qj/wFPvr+1vjTcMHdxq+8fazP0H+MP+1FT/mof3IU/WPQ5wf9ab+Pd3Q/yb/D/2Z+l9H/k3j/HifaOv5sSRP9fw6QD5Rr/r+dtIiOx/z4wHi1/4HIbHzsX6J95XDeeP+sb/6r8WDetX8NK3Izr/jfbr7a4fE3kc94/vTI/kr8lT9x+JBvap/TBdk51s82F/95zAk9j7qB/PXN/lr8lT91+LB80rz03RFdr7Fg/3Vf49CYu8j/5i/OvI35Jnyb/Eg/5qfpi2y899Yj67+voXEzsf6JeavA/lb8kTnt3iQf/39hVlFdr7Fg3rX+TshsfeRT8wr39W/wV8Qr+oPnA1GWfz7Q8kHZ70ieN+4COtPvjH2kz9D/jD/fVH8mIe+g6tR8rN59PE868b1bf/FKPlF/HPbf4h44Lfol/TLw8b58T6xp+fHPnmm59d3MOpV39/OlmTnY37cQ77Uf/eyxN5HPeN95cu2cf/YT/3X4kE9ZDz/bEN2fkf3qfv7kpGdj3r+YvGk+yv3xAP5WD+LXMlHff1j3r+tj3wslL+MLP/f+pFz+YX4TD54HnkgvyY7H+vn2H9FP8/Izsf6fdSr/J54LR8cItfyl2TnY32rR9VfkZGdj/XHqFfmLxuRZ5o/bP3tKNWX+Ruy87G+1bvmjzJL7Pwc+Vzg5wPjB/cQb5vxg/O4fzZl/Mah4YOHDR9s+zkf+ZtF7ur+fmG9yPlG++PPO5Fv5HfoD+T/pl8stb/8H/IRzzH21/NjTs7n9Csw6vVUfkV2/knkCvFr/yqQnY/1f+K+5437x36BvsWDer2QvyA7/5T36e6vG8jOx/rnkfvyz8iWX7t/MOr1Wv6K7HyLB/t35AfydaN+rpA/+UtykdG3eFBPd/JbZOdbPMh/LT+Q5dv6t6hX+YFcKP8WD/L/IL8iO/+O9ejqbxDIzsf696gX+StyrvNbPMj/ifwF2fkWD+5f5x8GsvORz7fIo4w+uEa8qj9wif3X9I2PGj541vCN15/9Avl7wn6K/x3rRS7VPyY4P+rtUPuv6M/kf6dfqf/N5b82zv8SeaznxzO50PNrBEa9buVvyM7fgBG/9h9nZOdj/T84/7Zx/5FL9V+sX6IeWvI7ZOdveZ/u/uqMLN/W/xt5Iv+DXKr/Wjyo17b8mux8rI98leq/k4zcbtTPQeSp/H1yqf5r8aCeOvKXZOdj/Sn2V/+dZmTnY/1vqB/5R+RS+bd4Yv5zzU/lhuz8DuvR1d8sS+x9rP8F9Sp/j1zo/Fi/Qv438jtk+ba+1bvOP8/I8quYzxzzypz92/gH4lX9gbtx/7ygb7xo+ODThm88/+xXMX855r8TxY95aI7zqn/8AMd6y9W/uzX9n/J/0e+q/53K7zfOj/eJEz4/8opc6fl1DI71mo/kL8jOx/x4jP20/3FI7P24fo73lR/zxv1jP/VfiyfWQ675qVqRnT/ifbr7OwmJvY96nkReyK/JXfUfiyfWa67+UbXIzrd4cP/qPz9CYudb/WD++il/Tu6q/1o8sZ5yzU/diux8iwf7q/8uQmLvI/+Yv07lL8hd5d/iQf41P3UXZOefsh5d/f0Mib2P/GP+OpZ/Rq50fosH+e/JX5Gdb/Eg/zr/aUjsfeQT88ov9m/jc8Sr+gP3sP+SvvFbwwcvG75xu+Ejf5j/zhU/5qFfkXvqHxc4P+pN/bvXor+U/06/r/53Jf+2cX68T5zp+XFN7un59QuMel3J75Cdj/nxDPFr/7MssfOxfo73lfNt4/6xn/qvxYN61fzUq8nOX/E+3f2dZ4m9j3p+jHwh/4HcU/+xeFCv6h+9Jdn5WB/56qn/XGSJvY/6wfx1Kf+Z3FP/tXjwvNL81NuQnY/1L5F/9d/LLLH3kX/MX0v5b+S+8o/1+8i/5qdeh+z8LevR1d8yS+x8rJ9j/vol/4Pc1fktHuQ/yK/Jzsf6qPeezn+VJfY+8ol55Ur9GxwQr+oPPMD++/TBxeCzb/y74RuHz34f+cP8d6P4MQ9dRR6ofwScP9Zbof49WNK/o1+M5av//aaff2ucH+8TN3p+tMl9Pb+uwajXPfkrsvMxP15jP+1/HRJ7H/WM95Uwb9x/5IH6r8UT66HQ/NRvkZ2/x/t093cTEjsf6xd55Fv6RUYeqP9YPLFeC/WPQUV2vsWD/dV/QkjsfdQP5q87+RV5oP5r8cR6KjQ/DRZk51s82F/99zYk9n5cv8D89Vv+gDxQ/i2emP9C89NgRXb+iPXo6u8uJPZ+XL/A/HUtvyb3dX6LB8+rI/ktsvMtHtSfzv87JHb+EPnEvLJi/zZ+iD8/VP0Zo/7m8sF3DR/81PCNBw0f+cP896D4MQ+tIg/VPx7BqDf171FF/0n+Pf2R+t+z/J+N8+N94l7PjxPyUM+vFRj1eia/Jjsf8+M99tP+91li76Oe8b7ysG3cP/ZT/7V4UK+an4ZLsvPPeJ/u/h6yxN5HPV9GfpR/QR6q/1g8qFf1j+GG7Hysj3yN1H8es8TeR/1g/lrLvyaP1H+x/gjPK81Pww7Z+Vh/jf3Vf9dZYudj/QLz15P8O/JI+bd4kH/NT6Oa7PwV69HV31OW2PvIP+avlfwH8lDnt3iQ/4X8Jdn5WN/qXed/zhJ7H/nEvPKs/g1+RbyqP/AY+z/TN+40fPC24RtvP/sj5A/z30bxYx56jjxW/3jF+VFv6t/jDf0/8r/Qr9X/tvL/NM6P94mNnh8b8ljPrxfkE/X6Ib9Fdj7mxxfEr/1fQmLnY/0C7yuv88b9Y3/1X4sH9ar5aVyRnf/B+3T3twmJvY96/hr5TX6LPFb/sXhQr+of4wXZ+RYP9lf/eQ2JvY/6wfz1R36bPFb/tXjwvNL8NF6RnW/xYH/137eQ2PvIP+avrfwOuVb+LZ6Y/1Lz07hFdv4e69HV35+Q2PlYv8T89UK/zMgjnd/iQf7f5Fdk51s8qHedfxsSez/ms8S88s7+bfwX8ar+wBN8/6/vb41PGz54v+Ebn33265i/EvPfX8WPeeg98kT9o4Xz4/t+9e/Jgv6+/HP56n8H8oeN8+N94oPPj7JHrvX8egfHei31/W29JDsf8+MH9tP+H1li78f1S7yv/N027h/7qf9aPPj+V/NTvSE7v+Z9uvv7myX2PuoZ35+25E/JE/UfrD9Bvap/1B2y87E+8jVR/2lliZ1v9YP566v8E/JE/dfiifVUan6a1GTnY/2v2F/992uW2PvIP+avffmn5Inyb/Eg/5qfJkuy889Yj67+9rPE3kf+MX+9y78g1zq/xYP86+8vTDZk52N9q3ed/yBL7Pwp8ol55YD92/gI8ar+wFPsr+9vjbcNH/y94YNtP+cjf5j/DhU/5qGDyFP1jyOcH/Wm/j3t0O/I/0t/pv73Xf7vxvnxPnGo50cgT/X8aoNRr/r+dlqRnY/5sY34tX87JPY+6hnvK0fzxv1jP/Vfiwf1qvlpuiA7/4H36e7vMCT2PuoZ359+k78mT9V/LB7Uq/rHdEV2vsWD/dV/jkJi76N+MH915G/IM/VfiwfPK81P0xbZ+RYP8q/++y0kdj7WLzF/fZe/Jc+Uf4sH+df8NKvIzv9gPbr664TE3kf+MX+15bfIU53f4kH+9fcXZguy8y0e3L/O/z0k9j7yiXllT/3b5qOwiV/a0wdnZ+Ms/v2h5IOzUbH1vnHZ8I2xn/wZ8mff5883yc+xHs6zGCc/j38+w/NsGP/c9l+Nk1/Kn9DPK/oV/fJ74/x4n/ii58cReabn1x4Yn4eM+882ZOdjfvyC+LX/l4zsfNTzF4snxf/v/sED+Vg/i1zJx+frH/P8tj7uQ/cX/y+4/rH8f+tHzuUX4jP54Hnkgfya7Hysj3whP//yl5Gdj/X7kQv5PfFaPjhEruUvyc7H+gX2b9EvMrLzsf4Y9Sp/JG7LB28jz+VvyM7H+qhHV39lRnY+1p+hXlk/2ZQ80/yB9fOY/1J/fyHrkJ2P9a3eNX9UWWLn58jnGX4+MH5wH/Gq/sAF6u+E8RuvGj541PCN55/9HPn7Ebmn+7vEejhvR/uDUW+/tX9Nfyj/kX6x0f7yf2l/xPMT++v5sSDngX4XjHq9kL8gO/80chf7af9uIDsf65/jvueN+8d+W/oWD+r1Wv6K7PwL3qe7v14gOx/rX0UeyF+SLb92/9gf9Xonv0V2vsWD+6/lB/Jdo35ukT/5gVzM6Vs8qKcH+RXZ+RYP9l/KD2TnY/171Kv8FblQ/i0e5P9Z/oLs/AfWo6u/YSA7H+s/oV7kr8m5zm/xIP+n8ldk51s8yL/OPwpk5yOfH5HHGX3wBPGq/sAl9t/QN95r+OB5wzduN3zk7xX7Kf6vWC9yqf4xxflRb9/lt+jP6ec5/Ur971j+e+P8fyLXen68kUs9v8Zg1GtLfofs/C0Y8Wv/OiPLt/X/4vzbxv1jP/Vfiwf10JZfk53f4n26+5tkZOdj/YPIU/n75FL91+JBvXbkL8nOx/rIV6n+O83InUb9fIs8k39ELtV/LZ5YT7nmp3JDdj7WnyH/6r+zLLH3sf4X1I/8PXKl/GP9KuY/1/xUdsjybf15o/7mWWLnY/0c89dYfkEudH6LB/nfyq/Jzsf6qPdS5z/OyM6P+cwxrxyzfxsvEK/qD9yN++c9+sZnDR/8q+Ebh89+hfxh/vuh+DEPHUfuqn8scP5Yb7n6d3dJ/1T+pXz1v1/yx43z433ih54fA3Kl59cJONZrPpW/Ijsf8+MJ9tP+JyGx91HPeF9ZzBv3H7mr/mvxxHrINT9VLbLzp7xPd38/QmLnY/38OPJP+XNyV/3H4kG9qn90K7LzLR7sr/6zCIm9j/rB/HUqf0Huqv9aPLGecs1P3QXZ+RYP9lf//RkSex/5x/z1S/4Zuav8WzzIv+an7ors/AvWo6u/05DY+8g/5q8T+UtypfNbPMj/SH6L7HyLB/Wn8/8KiZ3fQz4xr5yxfxtfxJ/vqf6MsX+QD/5o+OCrhm88aPjIH+a/C8WPeegsck/94xKMelP/7lf0r+R/pd9X/7uWf984P94nzvX8uCP39Pw6A6Ne1/JrsvMxP55jP+1/niX2PuoZ7ysX28b9Yz/1X4sH9ar5qbckO3/N+3T3d5El9j7q+SXypfxnck/9x+JBvap/9DZk52N95Kuv/nOZJfY+6gfz11L+G7mv/ov1+3heaX7qdcjOx/pL7K/+u8wSOx/r55i/ruR/kPvKv8WD/Gt+6tdk57dYj67+rrLE3kf+MX+dyd8n93R+iwf5X8lfkp2P9a3edf7rLLH3Yz4LzCvX7N/Gt4hX9QceYP8j+uCibvjgVcM33n72+8gf5r/A+AvMQ9eRB+oftzh/rLdC/Xuwof9b/oz+UP1vRT//8vn8Od4ngp4fHfJAz68b5DPWa1HIb5Gdj/nxBvFr/5uQ2PlYv8D7yu28cf/YX/3X4on1UGh+GlRk5xe8T3d/IST2fly/6Ea+k1+RB+o/Fk+s10L9Y7AgO9/iwf7qP7chsfdRP5i/fssfkAfqvxZPrKdC89NgRXa+xYP91X/vQmLvo/4xf63k1+Sh8m/xIP+anwYtsvOnrEdXf79DYudj/QLz1438Obmv81s8eF7tya/Izrd4UO86/yok9j7yiXnlnv3b+BHxqv7AI9Tfgr7xQ8MHPzd847PP/hD5w/z3qPgxD91HHql/rHF+1Jv692hB/1n+k3z1vxf5543z433iQc+PU/JQz697MOp1KX9Jdj7mxwfsp/0fssTeRz3jfeVx27h/7Kf+a/GgXjU/DTdk5y95n+7+HrPE3kc930Rey78mj9R/sP4I9ar+MeyQnY/1ka+R+s86S+x8qx/MX0/y78gj9V+LB88rzU+jmux8rP+E/dV/n7LE3kf+MX89y38gj5R/iwf51/w0WpKdv2Y9uvp7zhJ7H/nH/HUv/5k81PktHuT/TP6G7Hysb/Wu879kiZ0/Rj4xr7yof4PfEK/qDzzG/m/yI5fZZ9/4veGDbT/nI3+Y/14VP+ahl8hj9Y83nB/1pv497tDf6vuzkn6t/vcu/2/j/HifeNXzY0se6/m1AaNe9+VXZOdjftwgfu2/CYm9j3rG+8rbvHH/2E/91+JBvWp+Gi/Izt/nfbr7ew2JvY96Poz8R36bPFb/sXhQr+of4xXZ+RYP9lf/eQuJvY96wvy1ld8h1+q/Fk+sp1Lz07hFdr7Fg/yr//4JiZ2P9UvMX+/0/9Uv9lf+LZ6Y/1LzU12RnV+wHl39bUNi78f1S8xfG/kVeazzWzzI/4f8Bdn5Fg/uX+d/D4m9H/NZYl75YP82biFe1R94gu//9f2t8UXDBx80fOP1Z79G/jD/tRQ/5qGPyBP1j684P77vV/+erOgfyL+iP1X/a8ufNM6P94m/en6MyLWeXx9gPO/0/W29ITsf8+NfxK/9/2aJvY96xvtKa9u4/8gT9V+sP0G9an6qO2Tnz3mf7v5aWWLnY/0S359+lX9Cnqj/WDyoV/WPSU12PtZHvibqP1+zxN5H/WD+2pd/Sp6o/1o8sZ5KzU+TJdn5WH8f+6v/7meJvY/8Y/46kH9Bnij/Fg/yr/lpsiE7f8l6dPV3kCX2PvKP+etD/jW51vmx/hT5199fmHTIzsf6Vu86fztL7Pwp8ol5pa3+Df6GeFV/4Bn21/e3xq2GD95r+Mbzz/4U+cP8d6T4MQ+1cV71j29g1Jv696ym/13+Af2Z+t+e/MfG+fE+caTnx4o81fPrEIx61fe30wXZ+ZgfD7Gf9j8Mib2Pesb7yrd54/6xn/qvxYN61fw0XZGd/8z7dPd3FBJ7H/WM70878jfkmfqPxYN6Vf+YtsjOt3hw/+o/30Ji51v9YP76Ln9Lnqn/Wjx4Xml+mlVk51s82F/9txMSex/5x/y1J79Fnin/Fg/yr/lptiA7f5/16Orve0jsfeQf89eh/DZ5qvNbPMi//v7CbEV2vsWD/Ov8eyGx9/F8K+IPfNH39+A8bOOXnvTB2fo/P1Dq+1twNm344KrhG6N+nF/F9TD/5fNt8rtYD+dZ1ckv4p/P8Dyb2EAV/0eLfiX/mH6+oN+Vn9O3eP69TyS/3BMP6H/B8wU/UMnH5+sfc//0he1//of2N2Hx2f+3Pu5bfiE+kw+eRx7Ir8nOx/p2n7q/PCM7H+v3Ixfye+K1fHCIXMtfkp2P9ZEv5Odf/jKy87H+OHIpfyRuywdvI8/lb8jOx/pl3D+v6JcZ2flYf4Z6lT8l58o/1s/xAwv5HbLzsT7q0dVflZHl2/o/UK/sX9kJeab5w+JB/jP5Ndn5WB/1nun83YzsfORziZ8PjB88QLyqP3CB/U/pG68bPnjc8I3DZz9H/n5F7uv+brBe5KLW/jg/6u1R+y/pj+S/yO9of/mXjfOfY389P87I+ZZ+D4x6vZa/Ijv/InIP+2n/XiA7H+tf4b7njfuPXGT0LR7U6538Ftn517xPd3/9QJZv699GHsoPZMuv3T8Y9fogvyI73+LB/kv5gex8rH+P/MlfkYtA3+JBPT3LX5Cdb/Fg/438QHY+1n9Cvcpfkwvl3+JB/t/kr8jOf2Y9uvobBbLzsf5rmerL/A051/ktHuT/Qn6L7HyLB/Wn848DWX6JfO6XMOmDp/HnS9WfMfbfyo+cF5994+OGbzxo+MjfO/ZT/IdYL3Kp/jEDx3rL1b+riv4x/bxLv1L/O6GffW2c/2/kiZ4fH+RSz68ajHpty6/Jzm+BsZ/2n2Rk52P9A5x/27h/7Kf+a/GgHjryl2Tnt3mf7v6mGdn5WP9b5Jn8I3Kp/mvxxHrN1T/KDdn5WB/5qtR/Zlli72P9L5Hn8vfIlfov1q/iD+San8oOWb6tP8f+6r/zLLHzsX6O+etYfkGulH+LJ+Y/1/xU1WTnV6xHV3/HWWLvx/VzzF+1/B651PktHuS/JX9Jdj7Wt3rX+U8ysvORT8wrJ+zfxj8Rr+oP3I375yP6xsuGDz5r+Mbbz36F/GH+Wyh+zEMnkbvqHz9xftSb+nd3Q/+X/Bv6PfW/M/mzxvnxPrHQ86Mmd/X8+oF84nl3Ir9Fdj7mxx+IX/v/CImdj/VzvK/8nDfuH/ur/1o8qFfNT92K7PwT3qe7v0VI7H3U88/Ip/IX5K76j8WDelX/6C7Izrd4sL/6z8+Q2PuoH8xfv+SfkbvqvxZPrKdc81N3RXa+xYP91X9PQ2LvI/+Yv87kL8k95d/iQf41P3VbZOdfsx5d/f0KiZ2P9XPMXz/kB3Kl81s8yP9UfkV2vsWDetf5z0Ji7yOfmFfO1b/Bl4hX9QfuY/8VfeP9hg++bvjGZ5/9HvKH+e9S8WMeOo/cV/9Y4vyoN/Xv/oL+tfxD+ep/N/KfGufH+8SFnh8P5J6eX+dg1OtG/pLsfMyPF9hP+19kib2Pesb7yuW2cf/YT/3X4kG9an7qbcjO3/A+3f1dZom9j3r+E3kp/43cV//B+n3Uq/pHr0N2PtZHvvrqP8sssfOtfjB/Xcn/IPfVfy0ePK80P/VrsvOx/hX2V/+9yhJ7H/nH/HUtf5/cV/4tHuRf81N/SXZ+m/Xo6u86S+x95B/z17n8I3JP57d4kP+1/A3Z+Vjf6l3nv8kSO38QhQLzyg37t/Ed4lX9gQfYf09+5GLe8MH3DR+M/byP/GH+u2X8Beahm8gD9Y87nD/WW6H+PejQX8n/QX+o/ncvv2ycH+8Tt3x+FBl5oOdXAMd6LXryK7LzMT8GxK/9Q0js/bh+gfeVu3nj/rGf+q/FE+uh0Pw0WJCd3+N9uvu7DYm9H9cvhpF/yx+QB+o/Fk+s10L9Y7AiO9/iwf7qP3chsfdRP5i/VvJr8lD91+KJ9VRofhq0yM63eJB/9d/fIbHzsX6B+ete/pw8VP4tHuRf89OwIjv/hPXo6m8VEnsf+cf8FeQvyAOd3+JB/gv5C7LzLR7cv85/HxJ7H/nEvPLA/m28RryqP/AI+5/RN35u+OCXhm+8/uwPkT/Mf2vFj3noIfJI/eMJ50e9qX+PVvRf5L/SH6v/beRfNc6P94lHPT8uyEM9vx7AqNcgf0N2PubHR8Sv/R+zxN5HPeN9Zb1t3H/kkfov1h+hXjU/DTtk5wfep7u/dZbY+Vi/+B35Sf4deaT+Y/GgXtU/RjXZ+Vgf+Rqp/zxlib2P+sH89Sz/gTxS/7V48LzS/DRakp2P9Z+xv/rvc5bY+8g/5q8X+c/kkfJv8SD/mp9GG7LzN6xHV38vWWLvI/+Yvx7kv5GHOj/WHyP/S/kdsvOxvtW7zr/JEjt/jHxiXtmof4P/IF7VH7jG/h/0wWX12Tf+aPjG88/+GPnD/Pem+DEPbXBe9Y8/4Fhvpfp3XdN/p1/26dfqfx/0i4PG+fE+8abnR4s81vPrFYx6PZK/IDsf8+Mr9tP+ryGx91HPeF/5M2/cP/ZT/7V4UK+an8YrsvOPeJ/u/t5CYu+jnr9H3srvkGv1H4sn1mup/jFukZ1v8eD+1X/+hMTOt/rB/PVOv8zItfqvxRPrqdT8VFdk51s82F/9dxsSez+uX2L++pBfkWvl3+KJ+S81P9ULsvN7rEdXf+8hsffj+iXmr1f5A/JY57d4kP99+Suy8y0e5F/n/wiJ7ef/63//9//2X0fXy2X75uai3TrsXH5bfju4/nrz9aj17eBgv31xcb3/Pw/2vx3d/Nf/+G//679uLza3//lf/m+V/yz++vF0HY3u/fri9WA/e3m5+Ij/+Z/XVfyP//P/lRevF/yPl+vH1+vH1/hH2f9P/2+QfYnvBLNt/GKss1POqhhQjrDiP+G2O87B88jVjnkQuQCHHfM68ggcdssl4tlGrnfMUzDia++Ysyr+BzkKej7fKc8jV5HzHXMBDpEHO+Y6cgne7pZz5Gseudoxd8HI12LHfBa5Bw47ZuRrGbm/Yx5ELpCvsGO+A99GHuyYUS+ryMN8x4x4ziI/7JjXkUeIL+yY15Gfwbe75THiwedps2N+AyO+9m65xOd5G7nOd8yIB5/vjx1zK/IE8c13zPg874Nvd8tTxIPPd3vHfARGfOsdMz7PncizfMeMePD53tsxZ9Ugvn8UeB8JO+Uqcg4+3jHfRh5ELnbMJfg9cr1jnkeuIuf5jhn5WkTu7ph7YOTrbMe8jNwHv++WC+QrRB7smIdg5Gu1Y15HHoFvd8zI1ybyeMdcRy6Rr+2OuRV5Aj7eMSNf7cjTHfMMjHx1dss55oV55CrfMcd85ZgXjnfMJ+CYr3ywY8a88AP8vlvuIl+YFxY75p9g5GuxY8a8cAq+3TEjX5gXfu2YzyL3kK+wY8a8cA4+3jEjX5gXLnbMl2Dka7NjxrywjNzPd8zIF+aFqx3zNRj5au+YMS/cgN93y4OYrwLzQtg1ryIPIxc7Zswrt4jveMd8HrkHXu2W7xBPrN9isGMegRHf0445fp4KzHO/qx0z4jmMPN0xY55cxfiG+Y4Zn+cT8Gq3fI948Ple7JhPwYjvfMeMzzPm7Ydqx4x48Pm+2DFj3n9EfO87Znyer8Gr3fI6xjPC5zvsmO/AMb7RcMeMzzPeh56qHTPiwef7YceM97FnxHe7Y8bn+Rm82i2/IB58vjc75jcw4jvcLY/xecb76qbaMSMefL4/dsx4X35FfMc7Znye98Gr3fIb4sHnu71jPgIjvqcdMz7P+H3Cn2rHjHjw+d7bLZf4fcY2xlfnO+b4eS7x+43tarf8jnji57usdsz4fcY74jvfMcfPc4nfb3xUO2bEEz/f5WjHjN9n/EV87ztmfJ7x+42/q91yK8Yzwed7vmPG7zNaMb7JcMeMzzN+v/G12jEjHny+T3fM+H3GPuK73THj84zfb+yvdssHiAef7+WOGb/POEB8h7vlKT7P+P1Gu9oxIx58vu92zPh9xiHiO94x4/OM328crnbLR4gHn+/1jhm/zzhCfE87Znye8fuNb9WOGfHg8/22Y8bvMzoxvlm+Y8bnGb/f6Kx2y98RDz7frR0zfp/xHfGd75jxecbvN/aqHTPiwef7aJeM/26TdutqeXV90279539pfzu6/rr8dnHVuvl+8f3g8uLb/tX//N7Z73z+7zb5v1T+3/13m+C/28Nz8aXXX53iv+sjK773Wp0vy/7/ae9am9u4lexfSWn3W2QV3gPkm+y7uZsqJ/HaTrL3ulSp4XAoTUKRXHIoS075vy/QmBliBk1Z8uNWdtMql0s8g0c3TqPRQEPDq3fx81Pzg1Zfjz+br8flv/b1r3958Zv7r/Pfvu7q//buxeXz8qffXFc//Rzqp+Vj/ZtJ/ZtJ/ZtJ/ZtR/d9/uXm3KjavXg3y39y67542Pw/yHz5H+Q/lk/63k/63k/63k/63X4/13070307030707+oTP8QP8UP8ED/ED/FD/BA/xA/xQ/wQP8QP8UP8ED/ED/FD/BA/xA/xQ/wQP8QP8UP8ED/ED/FD/BA/xA/xQ/wQP8QP8UP8ED/ED/FD/BA/xA/xQ/wQP8QP8UP8ED/ED/FD/BA/xA/xQ/wQP8QP8UP8ED/ED/FD/BA/xA/xQ/wQP8QP8UP8ED/ED/FD/BA/xA/xQ/wQP8QP8UP8ED/ED/FD/BA/xA/xQ/wQP8QP8UP8ED/ED/FD/BA/xA/xQ/wQP8QP8UP8ED/ED/FD/BA/xA/xQ/wQP8QP8UP8ED/ED/FD/BA/xA/xQ/wQP8QP8UP8ED/ED/FD/BA/xA/xQ/wQP8QP8UP8ED/ED/FD/BA/xA/xQ/wQP8QP8UP8ED/ED/FD/BA/xA/xQ/wQP8QP8UP8ED/ED/FD/BA/xA/xQ/wQP8QP8UP8ED/ED/FD/BA/xA/xQ/wQP8QP8UP8ED/ED/FD/BA/fy5+Tt6/P/3qZFfVq/rkm6/+ONmU23rV+l9P2C078Y+auf9g/C/t3SYUOblpf/+lWUnx46Ze/f35y3o1r7cemK/fhuKb7XpTb9um3kFzq/31rN7+uHhe3tXbAInQ3bzehGqrKhZ7M+o2/PDaKVHzSi4OMhyeyGK+sAaeJEKl8tRbRJZZWf1+uV3vV6G1N/yMnX7V/3fhSx8ei/CcnYnTr/r/wvObpn67WW/b+JAFfNJC+3b9qpnX8+fN5VXbrC59Se7hZfj47Xq5XL99Vl7X27LHw5j43xmIWu/q7U39bL1cb5/uF4vsyd/qTXs1erKqy+2zZbPZ+K5eLMtV/Xq99K2vqjAiXjgWOqm6Ai/L1WX9H7ebcrVr1isooP3j/a5+dVV67nZdox6Anl7U9TKqENB1VS33oeLLsm3WsXkPX5e3zfX++oeO5FAntKMCZavWy1K1zU2Qhj+Y9YTbCevCLbiocda7cc05X6yrcvli3UAvnnMljLaqKIxyzAlTDCy6+MMkV0JpAYxv1rumjaP1hrMzKSzXjituCl5oPyXsmWNcF0oazS2z0rfDOkgYK4WvMFjOT5vMbi6m9IQSxZlRnPmKzrcrpGKeJaHPhFKFMtYZ47S7CHP2kaNnOGOVwkfvvGrX2IS5aXbNrFk27V1nsZum+r2cLevu43xbXiYfvek8DdMnVG63+zrYzba5bFZjzVnUPB3c7OHOs1ajs9S36JUuRzWfpFUX621V/7gp/2cfGliUy13do6/95Ngt91Uctf6RF3v7fdlum9uhQ4b891EPLoLde11gWrx5c7Kr2+/LzQbc0xs/R3ZtmK7f/PsfBwa5Fkyy9ycXF6GIr/AiknJ3vEpRlaKEKhcPnWaJOUydaxRgYiiD1FMb8d5pvQx+q/Ed+l7b1+uN92GXd53n2II/ft1c14PXKLfb8u68qurd7vv1vO4KBsrL7TAP0kniGXq+Xv++37wO1vZqVPBQ9efUWgNcgS+9Ow/d/VCCAE94j2c9JwD4Lq9F2Xad7Z7W3oDqMAidW895/W612bd/K9vyQ9Q+mftCvkJCcaLd8dpqMZf8cSwnXOIs97JM2H6xXt51qkz53gRfGn+9KndXoYJ2tpCssEpUvm2/bpvFrFyUalHoea2Y/FUWdhGa8i0/W5a73dALNBVWssjOyQEJcr3uBPp2uS5bKYBHKN0tN8/W15v1qo7iyEBk8y5U8N0FwwsG0g3NNfggfiaEMt6LaqGt9l7c1U+4ictYiEzOrJbcOKW4EH4ZUBpspevDF1jtl0twvLG5J7JfA0OfZ+z+0iwprD5UWCSF9RmLP1IwZ43BaoKb8ct1PSZmUc5NXWkzq0qtDZdOaj3n5bxyShs9d79ax58jxDyrl8vDaEduQj8TXn7yZH2IFn6gxXeG0pKODPdLHTo2oOGiqZewury5ZwU8bvJxAk1MfTz1joWvEJZB+BrW/ZObcrmvUVd1NcK9BcXlrGz3W1izhofpmrYqV9DBodI0TJjVPniEuknBbLEJvnW2vqnHBUdLaOpTz7OyyZL4NOuxf1guN1cQwgJTN3UIHl5FisG9RuRZwuChXOdkOTjZeX3rY2UY/65Q20UTb94IHYYB/vlfg598MMIzRGSIzBCdIUWGuLyvvGmet8RtLhIiZV5R5D3KXHSZS6pyuZTJdc6F0HlbJm/L5KWKXK4il97mOrpcCJc3z1nePmcIIdjwC4QlkXPCpcoxhRiYQuTTiHwakc8g8hX5EPAC6cMielhED4fI4nJZBMv1FciYCp63JzCbRsZZiNzshMzHVCBjLxDDFggfQiHyKWQ2KURmheiLzAuhEd0QzoVG9JhiCn7/OEwimEAwlmNB/QwzCIb0q3iOSYdgGsEQ+QQii0D6FYgeHJGZI/IxpBzLy3GXl+MOKWdz3fy2P8eKXA9ucn25yceFa0QWhEuucjvgYbpkGKKHQPTgiHwckQ8ZU7+TzDCXD4HNe7B5B0XefpE3b3INdG6MyPxReSnE2hHDRuwaGVqRMyAQovLmEZPmSMW8x3xQ85YQBfOmMyQf9S+P8AyRGaIyxGSIzVvOm+Z52zxvqiMrhUResSN+JDmijM6hvHmVa6jyUjovpfNSJu+xyIe9QEZQ5FA+qi4XovcGYwwZV5730HuhESZyFTgytr33G2EKoVgj8mlEPoPIZxD5CmQMLNKHRfRwiB4ul6VftcYYUg6xcoHYdL+qjrFcj36VHht/Pi4CMWyBWHYfRYwxpF+FyIzMAYFw2UdDYwyZscgEehCmhgf3YxLBBILxHBtWqRSzCKYRDOlXsRwbgoUUQ/SQSF1hEAzRjSMyc0Q+hujLcllgD5NheXvc5v1ym8sHe6wMy/ngJh9nrhFZEM5hr5hh+ZhyZOy5QPQQiHwckQ8ZU9hDTzCXi+fyHmzeQZG3X+TNm7x5kxOh81LItFC51am8LcSuJWJyiMUhkwkZa4QSZPRzuZDhypXORc9lyjvLkNy87kcu3sP56mMTRTHthGYUk5xVnjCCjPYhhyfCsXKzWOx3Rw43L/qcDfqkvJ6FjODxqrtNXe2X5fZ4iXp+7Fw16WA4qe5kHU5A+/aHAj3wYv0WcvV+BAFfb8qqy6XC50OaqcvId6JkiaxwM2FRVvWz/TLJyS+261Wbw5Cg6c5j42F6SAz80szbq6HnZXJB4R7u780m85mjbPKfP5usFotHZ5Nni/rR2eTeHLI8Iwjw58gmh+TSxcflk4e88QfyyXyaT+ZfMp8MY/sJ+eSqemw+eWAT5/nz5JPFTJROqUL4aMcpN5fOudpHnUbOhJX6V2fFvzShHPpDU5fBVRRcCufDbmV9HOZCyDDkkz2snC2cUUYyHs4IPpRPNj4mFVZI/1MoJtL0cv7ovraCYBrYEc4yv2kL27tD+rlQfkhtuAGlYeN8X1vc6+H1CglzI4VR+iCWDi1ZZbVVfq+ooQ88deut/27MMpN84TfjpqjMzFSldEZY7hZ1xSqv5qz81e8WnfjXpaehuw8mqKUoHpahPihq6qryk6NUTNtZURWy9oobVkgpVFnW4lffpsHMOcyYqZ4nf1/eba5ewYL2MVadKBy6/YSEfAgj1lW/dMZ53M/xbX3Z7Nrt8NB7hM7xnYBh9UOj2Lya1wvF/C+qMDWvinLOFq50clYWYn50pqND88N6e+1X4S85253mTBtlvcBFwcOevBsn9NH9E9TPZSMdk9rPTceVSdpCHt3XFk8J+/BFlO6qoywKyX0XNq3b/ShhmeUMn8+PZL6n5f19lzaOritxlfpSlzb6iOAzXNswRhRKM+9VZfCWcLP0Ydhf9Y5HOE31pezhgA3OV4fjhh7xc9MeDneNg41ychodEE+wYyPEDicZASniFtyJERLOS5Mz7KLbujs9htRwTgIQj3t+Z8eQL+HcGAoKJme3cLYEBzFijPHD4cyAiYDpMabGZ+mFiMcWnBVjzATMjrEgC2djzAWMjzDJxmfzgAVZknQJYOG2M1djTB0OowYMzvXNSI8QcXA+HlFpx+f/gIF84zFVwBEbY+JwMDZgsrv4kWJBviR7E8hVkGMY20A4s8swO85FABbkEwfdwDRBvom5CgSThwO+AQP5DvoG4485kAkW5JOJufvP2o7zIoC5HDNw2HgYl3Ch0HAECzJLOcbUBNMxw9QfXg6YmWAqngTyJE8AmJ1gvmnjcgzmkkzG2ctWCAST4zxQ0KtQCKYRzEywcEIHMtsxZsdYGGPLEIxPMBuTajzJiwAmJ1gRPWKG6QkW/v7AIFhxOGAGrPOVGeYmmIoeNMP4BJPRi2aYnGAiulae5Hx051tHWHDBBsGKCcaix80wN8ZgTjKGgRwDxQS0nSvOwYky4CSYxsCJOsp0LporMQEtBroJqDvPnYN8AqrOd+egxEA1AWXnvnPQTEDROfAcnGokOhc+Annnw3NwqhHrvPgDwYmasIAIhYEaAydqwpokCgy0GDhRU/ZuOgcnpihN54BzUGLgxBRhjZUaAw0GTqaWVEdBi4GTGSf7mZ+DE98he3pGIHyWGKgwUE9A6MNgYDH2jhG0GOgQEBbyFIRUz8SrR1BgoHwwOFmhIqgx0GBgcTpaCCNoMdAhYIwH9Fj3GBBMQXE6WtUjKCdgKDSNEyKoJ2CoaQwGFqejcASsLgNDc2YS9ETQnY6iI5gDEMenYGgO4ooktgJzh8AiBUNzxSRaA3OH0CIJ68DcIbZIwdAcBBdJoAjmDtFFElGCuWcgCG9PR/EoWHbhTkfBLFi27V1jskJyCEVSELYmk5gZTBOCkSS4BtOEaISPowy4zZKG62CFGRhEhCCFj4MtDlEKH0dvkLZPtw9gRhCnJPsMsBgIVJINCdiBm+xcwA4gfEm3OOEzxC/pXiioDQEMSzYbQRmIYNKdVDGAyfYFOoJ92EF4GHQIbNhBeBhfiGyS3R6MGoQ2ybYQBshN9o8wFq4PcDoQNrmMjfajsKdlfLRthXtFrIu2eixUYeMdb2ybdSHdAIbfgybJDjqqy9Roox0HhnUR5gCG30NclGzbI1esi2MHEEQvRocA0VICDclZQTRJZkd31aJFsy7+HsBQK/BdJCLBdORdRD+AoQDnoytx0cHwbt8wgNCmGG49RBDa7HYsA+h68EBaXCp5twcaQNWDRQJCm3p0lw9WrAgmvcOdCW6GKxYRVD2Y9A4XLni3axxA14OJ7tAU7/ahA6h7MOkdZA6c6ER3UJl32+IBDLVEt6ceQN2DSe9AjeCjO5HgziKY9G5lDya9g10Fx5cs4+BQIpj0DgYcnGmyPMI8j2DSO8woAJPe4dwnWFmyFsG8iiBLQN2ByQoD5i7A6R9EAtOMYJGAogdNAkKbACSg7cGD8PHeXwbC0BUTUGOgRUBQOQqegBIDTQ8mwgMLMBiJmkAigMmAAN0BTMcTrCUA6ciDXQF44CjeFQQwER4MOFTtef/AVZhjWe6YM/9CV2FMYZX0cZ/QyjFYU9iZVQXT1gqphVOw5sKbB5xhQ+GgYXpv5lOayS/ZfEpryI2cT2mOru889voOM1ov5lN7jSm6p+X2Y27wsAfd4Cn37fq6bOt5At02u+flrF7m2c3Z+vbF6F5PiB5CFg7equGfduMU7Af4thddg6+bdlm/aG7r5Y+LRbiP8I2f4fG6SHha37av2rtlfOPNYn0w7JN/i/mvE7jksxpKnawgiTXAsd9gkvD52/K6Wd7FfNe2WYQk50nrxwb0GovB4x9/h6efTQx1jxiek7c/lKvz1WrdppYa8EP+59Xbsq2ukgRQeHzIHY0fv8/uqnTJ3dfrLuV2+hnvnCS2SrlByg1SbvCUcoOUG6Tc4CnlBgeMcoOUG6Tc4AdAyg1OQMoNTkDKDY5Byg1SbrBfwyk3SLlByg1SbpBygxGk3OAp5QYfkmuRrFLVDM8NwovikVPq3dsmnrfzLs+02nXppLMwaIesXnasi/8dNO//mDl9GfrRv6Eul30263Y4wu3/rGhVn68u4YxWdn9+23rp9nAQ/nM4RN8NYqVNQ8aq/4Os/6zL+aD5Dt4+f35oJXb2EW84F/VM+sj8cw10kQ80O3NDgjLmII+lJMc0+CDD+AjGFUxZp5yBZFVhDFP+R/qoyBWQ3DRSMu9+/KTVzpfkfyLO4gv2vxBr4ktNj0BOn0wxNiRXgDA5/kEnT/gLWqVCkklrLQqtiiIEeCH7aLQT2gojrGMmLC6hW2VtwTx7SvmVqTB/FepU9kLlj6fOb/+tLob/i0c4OiedcZ4RPw21Y1Z1w+HZksovtowrKYU2xhZ/FWLmn3FOfTQxT/6fM3ORZcLP4RtPhq8jwdPg3TeZ9C9sKOfzn5v6bbgodLRK9xqeR1YJ15UeU6XLtSdV+jE4ks+Psc2Dy3dL9KPKi0e2r/jjys9j+0cju/u+hqhmsyMBx4O/hiiz8Y/7GqK0xEd+DRFc6EG/hih98vivITr9s3wJEXv/0DsnCbP5lxBJ92lfQvTAdxd17nTy3UE8qZd9d5DH4bZAuLDG7/uSoGPa+ZB0IYqpdue39e7/0kudJq9ggnedDf8+8BGWgnBrq1sVr9ZvO9FDYyf/HYYAblj9I/z2Lvz2T7hn5ReeRXN5Eq91hndCDfOjbTYvw2uN9v3KYTqwnDf7XTRjy0Y/IpZ4Xq8u4dofzO6wDC3avKkIJ43FFfymBh8BRn97ftvshgtBAl7d6sJJVFD3bvRQ9blkCzHsu9FDNry091PWvjCBHrWQRauMXnrSra+fuNpjb7SCQCnp8gFVYIr0F9Wu2/jGKe4K5WLc0YL//CPMj5f14rtpADasGdEUfly8PFy/e+zXkFW9t86/Cy2QO6uvypsm3mb7I5nlgoc3AEUz3laDykdCyPmuPVJkcBZl8AHD9H3z5PC6kO5HnX6FYU8OM/SBdS4SBxTt6dXdqgoy1KvgTeZJnJr6d//zvzdRPlE=&quot;;\n",
       "const compressedData = Uint8Array.from(atob(base64Str), c =&gt; c.charCodeAt(0));\n",
       "const decompressed = pako.inflate(compressedData, { to: &quot;string&quot; });\n",
       "const data = JSON.parse(decompressed);\n",
       "\n",
       "var container = document.querySelector(&#x27;.content&#x27;);\n",
       "var fullScreenRenderer = vtk.Rendering.Misc.vtkFullScreenRenderWindow.newInstance({\n",
       "    background: [1, 1, 1],\n",
       "    rootContainer: container,\n",
       "    containerStyle: { height: &#x27;100%&#x27;, width: &#x27;100%&#x27;, position: &#x27;absolute&#x27; },\n",
       "});\n",
       "var renderWindow = fullScreenRenderer.getRenderWindow();\n",
       "var syncCTX = vtk.Rendering.Misc.vtkSynchronizableRenderWindow.getSynchronizerContext();\n",
       "var syncRW = vtk.Rendering.Misc.vtkSynchronizableRenderWindow.decorate(renderWindow);\n",
       "syncCTX.setFetchArrayFunction((sha) =&gt;\n",
       "    Promise.resolve(data.hashes[sha].content)\n",
       ");\n",
       "syncRW.synchronize(data.scene);\n",
       "syncRW.render();\n",
       "&lt;/script&gt;\n",
       "\n",
       "&lt;style&gt;\n",
       ".absolute-div {\n",
       "  position: absolute;\n",
       "  top: 0;\n",
       "  left: 0;\n",
       "  width: 600px;\n",
       "  height: 30px;\n",
       "  font-size: 9px;\n",
       "}\n",
       "&lt;/style&gt;\n",
       "&lt;div class=&quot;absolute-div&quot;&gt;\n",
       "&lt;b&gt;(Alt) 1, 2, 3&lt;/b&gt;: XYZ axis view, &lt;b&gt;P&lt;/b&gt;: parallel projection, &lt;b&gt;R&lt;/b&gt;: Reset Camera\n",
       "&lt;/div&gt;\n",
       "&lt;script&gt;\n",
       "function axis_view(axis, direct){\n",
       "    console.log(axis, direct);\n",
       "    let camera = renderWindow.getRenderers()[1].getActiveCamera();\n",
       "    let [xf, yf, zf] = camera.getFocalPoint();\n",
       "    let [xc, yc, zc] = camera.getPosition();\n",
       "    let dist = Math.sqrt((xc - xf)**2 + (yc - yf)**2 + (zc - zf)**2);\n",
       "    switch(axis){\n",
       "        case &quot;x&quot;:\n",
       "            camera.setPosition(xf + dist * direct, yf, zf);\n",
       "            camera.setViewUp(0, 0, 1);        \n",
       "            break;\n",
       "        case &quot;y&quot;:\n",
       "            camera.setPosition(xf, yf + dist * direct, zf);\n",
       "            camera.setViewUp(0, 0, 1);\n",
       "            break;\n",
       "        case &quot;z&quot;:\n",
       "            camera.setPosition(xf, yf, zf + dist * direct);\n",
       "            camera.setViewUp(0, 1, 0);\n",
       "            break;\n",
       "    }\n",
       "    renderWindow.render();   \n",
       "}\n",
       "\n",
       "function toggle_parallel_projection(){\n",
       "    let camera = renderWindow.getRenderers()[1].getActiveCamera();\n",
       "    camera.setParallelProjection(!camera.getParallelProjection());\n",
       "    renderWindow.render();\n",
       "}\n",
       "\n",
       "function reset_camera(){\n",
       "    let renderer = renderWindow.getRenderers()[1];\n",
       "    renderer.resetCamera();\n",
       "    renderWindow.render();\n",
       "}\n",
       "\n",
       "document.addEventListener(&#x27;keyup&#x27;, (e) =&gt; {\n",
       "    let direct = 1;\n",
       "    console.log(e);\n",
       "    switch(e.code){\n",
       "        case &quot;Digit1&quot;:\n",
       "            direct = e.altKey?-1:1;\n",
       "            axis_view(&quot;x&quot;, direct);\n",
       "            break;\n",
       "        case &quot;Digit2&quot;:\n",
       "            direct = e.altKey?-1:1;\n",
       "            axis_view(&quot;y&quot;, direct);\n",
       "            break;\n",
       "        case &quot;Digit3&quot;:\n",
       "            direct = e.altKey?-1:1;\n",
       "            axis_view(&quot;z&quot;, direct);\n",
       "            break;\n",
       "        case &quot;KeyP&quot;:\n",
       "            toggle_parallel_projection();\n",
       "            break;\n",
       "        case &quot;KeyR&quot;:\n",
       "            reset_camera();\n",
       "            break;\n",
       "    }\n",
       "});\n",
       "&lt;/script&gt;\n",
       "\n",
       "&lt;/body&gt;\n",
       "&lt;/html&gt;\n",
       "\" height=\"500pxpx\" width=\"500pxpx\" sandbox=\"allow-scripts allow-same-origin\" scrolling=\"no\"></iframe>    "
      ],
      "text/plain": [
       "<IPython.core.display.HTML object>"
      ]
     },
     "execution_count": 44,
     "metadata": {},
     "output_type": "execute_result"
    }
   ],
   "source": [
    "plotter = pv.Plotter()\n",
    "plotter.add_mesh(sgrid2.extract_all_edges(), color=\"black\")\n",
    "plotter.add_mesh(\n",
    "    sgrid2.glyph(\n",
    "        scale=False,\n",
    "        orient=False,\n",
    "        factor=0.15,\n",
    "        geom=pv.Sphere(theta_resolution=6, phi_resolution=6),\n",
    "    )\n",
    ")\n",
    "plotter.add_axes()\n",
    "plotter_to_iframe(plotter)"
   ]
  },
  {
   "cell_type": "markdown",
   "metadata": {},
   "source": [
    "## PolyData"
   ]
  },
  {
   "cell_type": "markdown",
   "metadata": {},
   "source": [
    "`PolyData` データセットは、一連の点、点間の接続線、および点によって構成される多角形の面で構成されています。これらの情報はすべてユーザーが設定する必要があるため、プログラムで `PolyData` オブジェクトを作成するのは煩雑です。しかし、pyvista の多くの関数は `PolyData` オブジェクトを出力します。たとえば、円錐データを作成する `Cone` 関数では次のように使用します："
   ]
  },
  {
   "cell_type": "code",
   "execution_count": 5,
   "metadata": {
    "collapsed": false,
    "group_control": {
     "group": 0
    },
    "jupyter": {
     "outputs_hidden": false
    }
   },
   "outputs": [
    {
     "data": {
      "text/plain": [
       "pyvista.core.pointset.PolyData"
      ]
     },
     "execution_count": 5,
     "metadata": {},
     "output_type": "execute_result"
    }
   ],
   "source": [
    "cone = pv.Cone(resolution=4)\n",
    "type(cone)"
   ]
  },
  {
   "cell_type": "markdown",
   "metadata": {},
   "source": [
    "`PolyData` オブジェクトの `points` 属性は、点の座標を保存する配列です。各点の座標を簡単に確認するために、NumPy の `array_str()` 関数を使用してこの配列の内容を出力し、`suppress_small` パラメータを使って非常に小さい数を 0 として表示することができます："
   ]
  },
  {
   "cell_type": "code",
   "execution_count": 6,
   "metadata": {
    "collapsed": false,
    "group_control": {
     "group": 0
    },
    "jupyter": {
     "outputs_hidden": false
    }
   },
   "outputs": [
    {
     "name": "stdout",
     "output_type": "stream",
     "text": [
      "[[ 0.5  0.   0. ]\n",
      " [-0.5  0.5  0. ]\n",
      " [-0.5  0.   0.5]\n",
      " [-0.5 -0.5  0. ]\n",
      " [-0.5 -0.  -0.5]]\n"
     ]
    }
   ],
   "source": [
    "print(np.array_str(cone.points, suppress_small=True))"
   ]
  },
  {
   "cell_type": "markdown",
   "metadata": {},
   "source": [
    "`Cone` 関数の `resolution` 引数を 4 に設定したため、円錐の底面は正方形になります。各点の座標から、底面が X 軸に垂直で、`X = -0.5` の平面上にあり、円錐の頂点が X 軸上の `X = 0.5` にあることが容易にわかります。各点間の関係は `faces` 属性によって決定されます："
   ]
  },
  {
   "cell_type": "code",
   "execution_count": 7,
   "metadata": {
    "collapsed": false,
    "group_control": {
     "group": 0
    },
    "jupyter": {
     "outputs_hidden": false
    }
   },
   "outputs": [
    {
     "name": "stdout",
     "output_type": "stream",
     "text": [
      "5\n",
      "[4 4 3 2 1 3 0 1 2 3 0 2 3 3 0 3 4 3 0 4 1]\n"
     ]
    }
   ],
   "source": [
    "print(cone.n_cells)  # 円錐には5つの面がある\n",
    "print(cone.faces)"
   ]
  },
  {
   "cell_type": "markdown",
   "metadata": {},
   "source": [
    "`faces` 属性は、各面と点の関係を保存します。作成した円錐には 5 つの面があるため、`PolyData` オブジェクトの `n_cells` 属性は 5 です。`faces` 属性は 1 次元の整数配列を使用して、各面を構成する点のインデックスを保存します。各面を構成する点の数は異なる場合があるため、その情報も保存する必要があります。この 1 次元配列は次のように理解できます：各行は 1 つの面に対応し、コロンの前の値はその面を構成する点の数、コロンの後の一連の数字は `points` 属性内の各点のインデックスです。以下のデータから、円錐は 4 つの三角形と 1 つの四角形で構成されていることがわかります。\n",
    "\n",
    "```\n",
    "4 : 4, 3, 2, 1\n",
    "3 : 0, 1, 2\n",
    "3 : 0, 2, 3 \n",
    "3 : 0, 3, 4 \n",
    "3 : 0, 4, 1\n",
    "```"
   ]
  },
  {
   "cell_type": "markdown",
   "metadata": {},
   "source": [
    "次に、直接 `PolyData` オブジェクトを作成する方法を見てみましょう。まず、簡単な角錐の例です。\n",
    "\n",
    "❶ 形状は (N, 3) の NumPy 配列で N 点の座標データを作成します。  \n",
    "❷ 各面と点の関係を表すリストを作成します。  \n",
    "❸ `points` と `faces` で `PolyData` を作成します。  \n",
    "❹ 各点のデータを `scalars` として作成します。"
   ]
  },
  {
   "cell_type": "code",
   "execution_count": 9,
   "metadata": {
    "collapsed": false,
    "group_control": {
     "group": 0
    },
    "jupyter": {
     "outputs_hidden": false
    }
   },
   "outputs": [],
   "source": [
    "points = np.array(\n",
    "    [(1, 1, 0), (1, -1, 0), (-1, -1, 0), (-1, 1, 0), (0, 0, 2)], dtype=np.float64\n",
    ")  # ❶\n",
    "faces = [4, 0, 1, 2, 3, 3, 4, 0, 1, 3, 4, 1, 2, 3, 4, 2, 3, 3, 4, 3, 0] #❷\n",
    "p1 = pv.PolyData(points, faces) #❸\n",
    "p1.point_data[\"scalars\"] = np.arange(0.0, len(p1.points)) #❹"
   ]
  },
  {
   "cell_type": "markdown",
   "metadata": {},
   "source": [
    "作成した角錐は次のグラフに示されています。図中には各点の番号が表示されています。`PolyData` オブジェクト内の各面は `get_cell()` メソッドで取得でき、図中には第 0 面と第 1 面が示されています。"
   ]
  },
  {
   "cell_type": "code",
   "execution_count": 10,
   "metadata": {},
   "outputs": [
    {
     "data": {
      "text/html": [
       "    <iframe srcdoc=\"\n",
       "&lt;!DOCTYPE html&gt;\n",
       "&lt;html&gt;\n",
       "&lt;body&gt;\n",
       "&lt;script type=&quot;text/javascript&quot; src=&quot;https://unpkg.com/vtk.js&quot;&gt;&lt;/script&gt;\n",
       "&lt;script src=&quot;https://cdnjs.cloudflare.com/ajax/libs/pako/2.1.0/pako.min.js&quot;&gt;&lt;/script&gt;\n",
       "\n",
       "&lt;div class=&quot;content&quot;&gt;&lt;/div&gt;\n",
       "\n",
       "&lt;script type=&quot;text/javascript&quot;&gt;\n",
       "const base64Str = &quot;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&quot;;\n",
       "const compressedData = Uint8Array.from(atob(base64Str), c =&gt; c.charCodeAt(0));\n",
       "const decompressed = pako.inflate(compressedData, { to: &quot;string&quot; });\n",
       "const data = JSON.parse(decompressed);\n",
       "\n",
       "var container = document.querySelector(&#x27;.content&#x27;);\n",
       "var fullScreenRenderer = vtk.Rendering.Misc.vtkFullScreenRenderWindow.newInstance({\n",
       "    background: [1, 1, 1],\n",
       "    rootContainer: container,\n",
       "    containerStyle: { height: &#x27;100%&#x27;, width: &#x27;100%&#x27;, position: &#x27;absolute&#x27; },\n",
       "});\n",
       "var renderWindow = fullScreenRenderer.getRenderWindow();\n",
       "var syncCTX = vtk.Rendering.Misc.vtkSynchronizableRenderWindow.getSynchronizerContext();\n",
       "var syncRW = vtk.Rendering.Misc.vtkSynchronizableRenderWindow.decorate(renderWindow);\n",
       "syncCTX.setFetchArrayFunction((sha) =&gt;\n",
       "    Promise.resolve(data.hashes[sha].content)\n",
       ");\n",
       "syncRW.synchronize(data.scene);\n",
       "syncRW.render();\n",
       "&lt;/script&gt;\n",
       "\n",
       "&lt;style&gt;\n",
       ".absolute-div {\n",
       "  position: absolute;\n",
       "  top: 0;\n",
       "  left: 0;\n",
       "  width: 600px;\n",
       "  height: 30px;\n",
       "  font-size: 9px;\n",
       "}\n",
       "&lt;/style&gt;\n",
       "&lt;div class=&quot;absolute-div&quot;&gt;\n",
       "&lt;b&gt;(Alt) 1, 2, 3&lt;/b&gt;: XYZ axis view, &lt;b&gt;P&lt;/b&gt;: parallel projection, &lt;b&gt;R&lt;/b&gt;: Reset Camera\n",
       "&lt;/div&gt;\n",
       "&lt;script&gt;\n",
       "function axis_view(axis, direct){\n",
       "    console.log(axis, direct);\n",
       "    let camera = renderWindow.getRenderers()[1].getActiveCamera();\n",
       "    let [xf, yf, zf] = camera.getFocalPoint();\n",
       "    let [xc, yc, zc] = camera.getPosition();\n",
       "    let dist = Math.sqrt((xc - xf)**2 + (yc - yf)**2 + (zc - zf)**2);\n",
       "    switch(axis){\n",
       "        case &quot;x&quot;:\n",
       "            camera.setPosition(xf + dist * direct, yf, zf);\n",
       "            camera.setViewUp(0, 0, 1);        \n",
       "            break;\n",
       "        case &quot;y&quot;:\n",
       "            camera.setPosition(xf, yf + dist * direct, zf);\n",
       "            camera.setViewUp(0, 0, 1);\n",
       "            break;\n",
       "        case &quot;z&quot;:\n",
       "            camera.setPosition(xf, yf, zf + dist * direct);\n",
       "            camera.setViewUp(0, 1, 0);\n",
       "            break;\n",
       "    }\n",
       "    renderWindow.render();   \n",
       "}\n",
       "\n",
       "function toggle_parallel_projection(){\n",
       "    let camera = renderWindow.getRenderers()[1].getActiveCamera();\n",
       "    camera.setParallelProjection(!camera.getParallelProjection());\n",
       "    renderWindow.render();\n",
       "}\n",
       "\n",
       "function reset_camera(){\n",
       "    let renderer = renderWindow.getRenderers()[1];\n",
       "    renderer.resetCamera();\n",
       "    renderWindow.render();\n",
       "}\n",
       "\n",
       "document.addEventListener(&#x27;keyup&#x27;, (e) =&gt; {\n",
       "    let direct = 1;\n",
       "    console.log(e);\n",
       "    switch(e.code){\n",
       "        case &quot;Digit1&quot;:\n",
       "            direct = e.altKey?-1:1;\n",
       "            axis_view(&quot;x&quot;, direct);\n",
       "            break;\n",
       "        case &quot;Digit2&quot;:\n",
       "            direct = e.altKey?-1:1;\n",
       "            axis_view(&quot;y&quot;, direct);\n",
       "            break;\n",
       "        case &quot;Digit3&quot;:\n",
       "            direct = e.altKey?-1:1;\n",
       "            axis_view(&quot;z&quot;, direct);\n",
       "            break;\n",
       "        case &quot;KeyP&quot;:\n",
       "            toggle_parallel_projection();\n",
       "            break;\n",
       "        case &quot;KeyR&quot;:\n",
       "            reset_camera();\n",
       "            break;\n",
       "    }\n",
       "});\n",
       "&lt;/script&gt;\n",
       "\n",
       "&lt;/body&gt;\n",
       "&lt;/html&gt;\n",
       "\" height=\"500pxpx\" width=\"500pxpx\" sandbox=\"allow-scripts allow-same-origin\" scrolling=\"no\"></iframe>    "
      ],
      "text/plain": [
       "<IPython.core.display.HTML object>"
      ]
     },
     "execution_count": 10,
     "metadata": {},
     "output_type": "execute_result"
    }
   ],
   "source": [
    "plotter = pv.Plotter()\n",
    "plotter.add_mesh(p1, show_edges=True)\n",
    "plotter.add_mesh(\n",
    "    p1.glyph(\n",
    "        scale=False,\n",
    "        orient=False,\n",
    "        factor=0.15,\n",
    "        geom=pv.Sphere(theta_resolution=6, phi_resolution=6),\n",
    "    )\n",
    ")\n",
    "plotter.add_mesh(p1.extract_cells([0, 1]), color='gray', opacity=1)\n",
    "plot_point_indices(plotter, p1, 0.2, index_name='scalars')\n",
    "plotter.add_axes()\n",
    "plotter_to_iframe(plotter)"
   ]
  },
  {
   "cell_type": "markdown",
   "metadata": {},
   "source": [
    "次に、第 0 面と第 1 面の点のインデックスを取得します："
   ]
  },
  {
   "cell_type": "code",
   "execution_count": 45,
   "metadata": {
    "collapsed": false,
    "group_control": {
     "group": 0
    },
    "jupyter": {
     "outputs_hidden": false
    }
   },
   "outputs": [
    {
     "name": "stdout",
     "output_type": "stream",
     "text": [
      "[0, 1, 2, 3]\n",
      "[4, 0, 1]\n"
     ]
    }
   ],
   "source": [
    "print(p1.get_cell(0).point_ids)\n",
    "print(p1.get_cell(1).point_ids)"
   ]
  },
  {
   "cell_type": "markdown",
   "metadata": {},
   "source": [
    "以下は、`PolyData`を使用して半球面を作成するプログラムです。まず、球座標系のグリッドを作成し、直交座標系の座標に変換します。`x`、`y`、`z`は(10, 10)の形状の２次元配列です。❶次に、三つの配列を形状が`(N, 3)`の配列に変換します。❷各面の点の数が同じ場合、2次元配列を使用して面と点の関係を表すことができます。ここで、第0軸の長さは面の数、第1軸の長さは各面の点の数+1です。❸各面は4つの点から構成されます。この2次元配列を直接`PolyData`に渡すことができます。"
   ]
  },
  {
   "cell_type": "code",
   "execution_count": 17,
   "metadata": {
    "collapsed": false,
    "group_control": {
     "group": 0
    },
    "jupyter": {
     "outputs_hidden": false
    }
   },
   "outputs": [],
   "source": [
    "N = 10\n",
    "a, b = np.mgrid[0 : np.pi : N * 1j, 0 : np.pi : N * 1j]\n",
    "x = np.sin(a) * np.cos(b)\n",
    "y = np.sin(a) * np.sin(b)\n",
    "z = np.cos(a)\n",
    "\n",
    "points = np.c_[x.ravel('F'), y.ravel('F'), z.ravel('F')]  #❶\n",
    "faces = np.zeros(((N - 1) ** 2, 5), np.int32)  #❷\n",
    "t1, t2 = np.mgrid[: (N - 1) * N : N, : N - 1]\n",
    "faces[:, 0] = 4 #❸\n",
    "faces[:, 1] = (t1 + t2).ravel()\n",
    "faces[:, 2] = faces[:, 1] + 1\n",
    "faces[:, 3] = faces[:, 2] + N\n",
    "faces[:, 4] = faces[:, 1] + N\n",
    "\n",
    "p2 = pv.PolyData(points, faces)\n",
    "p2.point_data[\"scalars\"] = np.arange(0.0, p2.n_points)"
   ]
  },
  {
   "cell_type": "markdown",
   "metadata": {},
   "source": [
    "次のグラフは、半球面の表示効果です。"
   ]
  },
  {
   "cell_type": "code",
   "execution_count": 18,
   "metadata": {},
   "outputs": [
    {
     "data": {
      "text/html": [
       "    <iframe srcdoc=\"\n",
       "&lt;!DOCTYPE html&gt;\n",
       "&lt;html&gt;\n",
       "&lt;body&gt;\n",
       "&lt;script type=&quot;text/javascript&quot; src=&quot;https://unpkg.com/vtk.js&quot;&gt;&lt;/script&gt;\n",
       "&lt;script src=&quot;https://cdnjs.cloudflare.com/ajax/libs/pako/2.1.0/pako.min.js&quot;&gt;&lt;/script&gt;\n",
       "\n",
       "&lt;div class=&quot;content&quot;&gt;&lt;/div&gt;\n",
       "\n",
       "&lt;script type=&quot;text/javascript&quot;&gt;\n",
       "const base64Str = &quot;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&quot;;\n",
       "const compressedData = Uint8Array.from(atob(base64Str), c =&gt; c.charCodeAt(0));\n",
       "const decompressed = pako.inflate(compressedData, { to: &quot;string&quot; });\n",
       "const data = JSON.parse(decompressed);\n",
       "\n",
       "var container = document.querySelector(&#x27;.content&#x27;);\n",
       "var fullScreenRenderer = vtk.Rendering.Misc.vtkFullScreenRenderWindow.newInstance({\n",
       "    background: [1, 1, 1],\n",
       "    rootContainer: container,\n",
       "    containerStyle: { height: &#x27;100%&#x27;, width: &#x27;100%&#x27;, position: &#x27;absolute&#x27; },\n",
       "});\n",
       "var renderWindow = fullScreenRenderer.getRenderWindow();\n",
       "var syncCTX = vtk.Rendering.Misc.vtkSynchronizableRenderWindow.getSynchronizerContext();\n",
       "var syncRW = vtk.Rendering.Misc.vtkSynchronizableRenderWindow.decorate(renderWindow);\n",
       "syncCTX.setFetchArrayFunction((sha) =&gt;\n",
       "    Promise.resolve(data.hashes[sha].content)\n",
       ");\n",
       "syncRW.synchronize(data.scene);\n",
       "syncRW.render();\n",
       "&lt;/script&gt;\n",
       "\n",
       "&lt;style&gt;\n",
       ".absolute-div {\n",
       "  position: absolute;\n",
       "  top: 0;\n",
       "  left: 0;\n",
       "  width: 600px;\n",
       "  height: 30px;\n",
       "  font-size: 9px;\n",
       "}\n",
       "&lt;/style&gt;\n",
       "&lt;div class=&quot;absolute-div&quot;&gt;\n",
       "&lt;b&gt;(Alt) 1, 2, 3&lt;/b&gt;: XYZ axis view, &lt;b&gt;P&lt;/b&gt;: parallel projection, &lt;b&gt;R&lt;/b&gt;: Reset Camera\n",
       "&lt;/div&gt;\n",
       "&lt;script&gt;\n",
       "function axis_view(axis, direct){\n",
       "    console.log(axis, direct);\n",
       "    let camera = renderWindow.getRenderers()[1].getActiveCamera();\n",
       "    let [xf, yf, zf] = camera.getFocalPoint();\n",
       "    let [xc, yc, zc] = camera.getPosition();\n",
       "    let dist = Math.sqrt((xc - xf)**2 + (yc - yf)**2 + (zc - zf)**2);\n",
       "    switch(axis){\n",
       "        case &quot;x&quot;:\n",
       "            camera.setPosition(xf + dist * direct, yf, zf);\n",
       "            camera.setViewUp(0, 0, 1);        \n",
       "            break;\n",
       "        case &quot;y&quot;:\n",
       "            camera.setPosition(xf, yf + dist * direct, zf);\n",
       "            camera.setViewUp(0, 0, 1);\n",
       "            break;\n",
       "        case &quot;z&quot;:\n",
       "            camera.setPosition(xf, yf, zf + dist * direct);\n",
       "            camera.setViewUp(0, 1, 0);\n",
       "            break;\n",
       "    }\n",
       "    renderWindow.render();   \n",
       "}\n",
       "\n",
       "function toggle_parallel_projection(){\n",
       "    let camera = renderWindow.getRenderers()[1].getActiveCamera();\n",
       "    camera.setParallelProjection(!camera.getParallelProjection());\n",
       "    renderWindow.render();\n",
       "}\n",
       "\n",
       "function reset_camera(){\n",
       "    let renderer = renderWindow.getRenderers()[1];\n",
       "    renderer.resetCamera();\n",
       "    renderWindow.render();\n",
       "}\n",
       "\n",
       "document.addEventListener(&#x27;keyup&#x27;, (e) =&gt; {\n",
       "    let direct = 1;\n",
       "    console.log(e);\n",
       "    switch(e.code){\n",
       "        case &quot;Digit1&quot;:\n",
       "            direct = e.altKey?-1:1;\n",
       "            axis_view(&quot;x&quot;, direct);\n",
       "            break;\n",
       "        case &quot;Digit2&quot;:\n",
       "            direct = e.altKey?-1:1;\n",
       "            axis_view(&quot;y&quot;, direct);\n",
       "            break;\n",
       "        case &quot;Digit3&quot;:\n",
       "            direct = e.altKey?-1:1;\n",
       "            axis_view(&quot;z&quot;, direct);\n",
       "            break;\n",
       "        case &quot;KeyP&quot;:\n",
       "            toggle_parallel_projection();\n",
       "            break;\n",
       "        case &quot;KeyR&quot;:\n",
       "            reset_camera();\n",
       "            break;\n",
       "    }\n",
       "});\n",
       "&lt;/script&gt;\n",
       "\n",
       "&lt;/body&gt;\n",
       "&lt;/html&gt;\n",
       "\" height=\"500pxpx\" width=\"500pxpx\" sandbox=\"allow-scripts allow-same-origin\" scrolling=\"no\"></iframe>    "
      ],
      "text/plain": [
       "<IPython.core.display.HTML object>"
      ]
     },
     "execution_count": 18,
     "metadata": {},
     "output_type": "execute_result"
    }
   ],
   "source": [
    "plotter = pv.Plotter()\n",
    "plotter.add_mesh(p2, show_edges=True)\n",
    "plotter.add_axes()\n",
    "plotter_to_iframe(plotter)"
   ]
  }
 ],
 "metadata": {
  "kernelspec": {
   "display_name": "Python 3 (ipykernel)",
   "language": "python",
   "name": "python3"
  },
  "language_info": {
   "codemirror_mode": {
    "name": "ipython",
    "version": 3
   },
   "file_extension": ".py",
   "mimetype": "text/x-python",
   "name": "python",
   "nbconvert_exporter": "python",
   "pygments_lexer": "ipython3",
   "version": "3.12.2"
  },
  "widgets": {
   "application/vnd.jupyter.widget-state+json": {
    "state": {},
    "version_major": 2,
    "version_minor": 0
   }
  }
 },
 "nbformat": 4,
 "nbformat_minor": 4
}
