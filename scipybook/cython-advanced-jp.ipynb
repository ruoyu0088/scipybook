{
 "cells": [
  {
   "cell_type": "markdown",
   "metadata": {},
   "source": [
    "# Cythonの応用技法"
   ]
  },
  {
   "cell_type": "code",
   "execution_count": 1,
   "metadata": {
    "collapsed": false,
    "group_control": {
     "group": 0
    },
    "jupyter": {
     "outputs_hidden": false
    }
   },
   "outputs": [],
   "source": [
    "import numpy as np\n",
    "import helper.magics\n",
    "\n",
    "%load_ext helper.cython"
   ]
  },
  {
   "cell_type": "markdown",
   "metadata": {},
   "source": [
    "## 拡張型\n",
    "\n",
    "Pythonでは`class`を使って定義されたクラスは、インスタンスの属性を辞書で保存します。しかし、属性へのアクセス速度を向上させるため、Pythonの組み込み型は属性をオブジェクトの構造体のフィールドに直接保存します。Cythonでは`cdef class`を使って拡張型を定義できます。拡張型はPythonの組み込み型と同様に、C言語の構造体を使ってオブジェクトの属性を保存するため、Cythonプログラム内でこれらの属性に高速にアクセスできます。拡張型はC言語の関数ライブラリをラップし、オブジェクト指向のPythonインターフェースを提供するのに適しています。"
   ]
  },
  {
   "cell_type": "markdown",
   "metadata": {},
   "source": [
    "### 拡張型の基本構造\n",
    "\n",
    "以下のプログラムでは、`cdef class`を使って拡張型`Point2D`を定義し、`cdef`を使って属性`x`と`y`を定義しています。Pythonのクラスとは異なり、拡張型の属性はクラス内で定義され、`__init__()`メソッド内で生成されるわけではありません。"
   ]
  },
  {
   "cell_type": "code",
   "execution_count": 2,
   "metadata": {
    "collapsed": false,
    "group_control": {
     "group": 0
    },
    "jupyter": {
     "outputs_hidden": false
    }
   },
   "outputs": [],
   "source": [
    "%%cython\n",
    "\n",
    "cdef class Point2D:\n",
    "    cdef public double x, y"
   ]
  },
  {
   "cell_type": "markdown",
   "metadata": {},
   "source": [
    "Cythonは自動的に以下の構造体を定義して`Point2D`オブジェクトを表現します。`ob_refcnt`と`ob_type`の2つのフィールドはすべてのPythonオブジェクトに必要なため、PythonのC言語コードでは通常`PyObject_HEAD`マクロを使って定義されます。\n",
    "\n",
    "```cpp\n",
    "struct __pyx_obj_Point2D {\n",
    "  PyObject_HEAD\n",
    "  double x;\n",
    "  double y;\n",
    "};\n",
    "```\n",
    "\n",
    "Cythonプログラム内では、オブジェクト`p`の型が`Point2D`であることが明確にわかっている場合、`p.x`は`Point2D`構造体の`x`フィールドに直接アクセスするように変換されるため、拡張型の変数の属性へのアクセスは非常に高速です。Pythonで`Point2D`の`x`と`y`属性にアクセスするためには、属性を宣言する際に`public`キーワードを使用する必要があります。Cythonは整数型、浮動小数点型、文字列型、およびPythonオブジェクト型の4種類の`cdef`属性に対して、属性アクセス用のディスクリプタを自動的に作成します。これらのディスクリプタには`__get__()`と`__set__()`メソッドが含まれており、属性の取得と設定を行います。読み取り専用属性の場合は、`public`キーワードを`readonly`に置き換えることができます。以下のコードは`x`に対応する属性アクセスディスクリプタを表示します："
   ]
  },
  {
   "cell_type": "code",
   "execution_count": 3,
   "metadata": {
    "collapsed": false,
    "group_control": {
     "group": 0
    },
    "jupyter": {
     "outputs_hidden": false
    }
   },
   "outputs": [
    {
     "name": "stdout",
     "output_type": "stream",
     "text": [
      "<class 'getset_descriptor'>\n",
      "<method-wrapper '__get__' of getset_descriptor object at 0x0000028B617D1B40>\n",
      "<method-wrapper '__set__' of getset_descriptor object at 0x0000028B617D1B40>\n"
     ]
    }
   ],
   "source": [
    "print(type(Point2D.x))\n",
    "print(Point2D.x.__get__)\n",
    "print(Point2D.x.__set__)"
   ]
  },
  {
   "cell_type": "markdown",
   "metadata": {},
   "source": [
    "関数の定義と同様に、拡張型では`def`、`cdef`、`cpdef`を使ってオブジェクトのメソッドを定義できます。すべてのメソッドはCython内で呼び出すことができますが、`def`と`cpdef`で定義されたメソッドのみがPython内で呼び出すことができます。Cython内で`cdef`と`cpdef`メソッドを呼び出す場合、対応するC言語関数が直接呼び出されるため、`def`メソッドよりも効率が大幅に向上します。\n",
    "\n",
    "拡張型は他の拡張型からの継承をサポートしています。例えば、以下の`Point3D`は`Point2D`から継承し、フィールド`z`を追加しています："
   ]
  },
  {
   "cell_type": "code",
   "execution_count": 4,
   "metadata": {
    "collapsed": false,
    "group_control": {
     "group": 0
    },
    "jupyter": {
     "outputs_hidden": false
    }
   },
   "outputs": [
    {
     "data": {
      "text/html": [
       "<style type=\"text/css\">\n",
       "    \n",
       "div.cython { font-family: courier; font-size: 12; }\n",
       "\n",
       ".cython.tag  {  }\n",
       ".cython.line { color: #000000; margin: 0em }\n",
       ".cython.code { font-size: 9; color: #444444; display: none; margin: 0px 0px 0px 8px; border-left: 8px none; }\n",
       "\n",
       ".cython.line .run { background-color: #B0FFB0; }\n",
       ".cython.line .mis { background-color: #FFB0B0; }\n",
       ".cython.code.run  { border-left: 8px solid #B0FFB0; }\n",
       ".cython.code.mis  { border-left: 8px solid #FFB0B0; }\n",
       "\n",
       ".cython.code .py_c_api  { color: red; }\n",
       ".cython.code .py_macro_api  { color: #FF7000; }\n",
       ".cython.code .pyx_c_api  { color: #FF3000; }\n",
       ".cython.code .pyx_macro_api  { color: #FF7000; }\n",
       ".cython.code .refnanny  { color: #FFA000; }\n",
       ".cython.code .trace  { color: #FFA000; }\n",
       ".cython.code .error_goto  { color: #FFA000; }\n",
       "\n",
       ".cython.code .coerce  { color: #008000; border: 1px dotted #008000 }\n",
       ".cython.code .py_attr { color: #FF0000; font-weight: bold; }\n",
       ".cython.code .c_attr  { color: #0000FF; }\n",
       ".cython.code .py_call { color: #FF0000; font-weight: bold; }\n",
       ".cython.code .c_call  { color: #0000FF; }\n",
       "\n",
       ".cython.score-0 {background-color: #FFFFff;}\n",
       ".cython.score-1 {background-color: #FFFFe7;}\n",
       ".cython.score-2 {background-color: #FFFFd4;}\n",
       ".cython.score-3 {background-color: #FFFFc4;}\n",
       ".cython.score-4 {background-color: #FFFFb6;}\n",
       ".cython.score-5 {background-color: #FFFFaa;}\n",
       ".cython.score-6 {background-color: #FFFF9f;}\n",
       ".cython.score-7 {background-color: #FFFF96;}\n",
       ".cython.score-8 {background-color: #FFFF8d;}\n",
       ".cython.score-9 {background-color: #FFFF86;}\n",
       ".cython.score-10 {background-color: #FFFF7f;}\n",
       ".cython.score-11 {background-color: #FFFF79;}\n",
       ".cython.score-12 {background-color: #FFFF73;}\n",
       ".cython.score-13 {background-color: #FFFF6e;}\n",
       ".cython.score-14 {background-color: #FFFF6a;}\n",
       ".cython.score-15 {background-color: #FFFF66;}\n",
       ".cython.score-16 {background-color: #FFFF62;}\n",
       ".cython.score-17 {background-color: #FFFF5e;}\n",
       ".cython.score-18 {background-color: #FFFF5b;}\n",
       ".cython.score-19 {background-color: #FFFF57;}\n",
       ".cython.score-20 {background-color: #FFFF55;}\n",
       ".cython.score-21 {background-color: #FFFF52;}\n",
       ".cython.score-22 {background-color: #FFFF4f;}\n",
       ".cython.score-23 {background-color: #FFFF4d;}\n",
       ".cython.score-24 {background-color: #FFFF4b;}\n",
       ".cython.score-25 {background-color: #FFFF48;}\n",
       ".cython.score-26 {background-color: #FFFF46;}\n",
       ".cython.score-27 {background-color: #FFFF44;}\n",
       ".cython.score-28 {background-color: #FFFF43;}\n",
       ".cython.score-29 {background-color: #FFFF41;}\n",
       ".cython.score-30 {background-color: #FFFF3f;}\n",
       ".cython.score-31 {background-color: #FFFF3e;}\n",
       ".cython.score-32 {background-color: #FFFF3c;}\n",
       ".cython.score-33 {background-color: #FFFF3b;}\n",
       ".cython.score-34 {background-color: #FFFF39;}\n",
       ".cython.score-35 {background-color: #FFFF38;}\n",
       ".cython.score-36 {background-color: #FFFF37;}\n",
       ".cython.score-37 {background-color: #FFFF36;}\n",
       ".cython.score-38 {background-color: #FFFF35;}\n",
       ".cython.score-39 {background-color: #FFFF34;}\n",
       ".cython.score-40 {background-color: #FFFF33;}\n",
       ".cython.score-41 {background-color: #FFFF32;}\n",
       ".cython.score-42 {background-color: #FFFF31;}\n",
       ".cython.score-43 {background-color: #FFFF30;}\n",
       ".cython.score-44 {background-color: #FFFF2f;}\n",
       ".cython.score-45 {background-color: #FFFF2e;}\n",
       ".cython.score-46 {background-color: #FFFF2d;}\n",
       ".cython.score-47 {background-color: #FFFF2c;}\n",
       ".cython.score-48 {background-color: #FFFF2b;}\n",
       ".cython.score-49 {background-color: #FFFF2b;}\n",
       ".cython.score-50 {background-color: #FFFF2a;}\n",
       ".cython.score-51 {background-color: #FFFF29;}\n",
       ".cython.score-52 {background-color: #FFFF29;}\n",
       ".cython.score-53 {background-color: #FFFF28;}\n",
       ".cython.score-54 {background-color: #FFFF27;}\n",
       ".cython.score-55 {background-color: #FFFF27;}\n",
       ".cython.score-56 {background-color: #FFFF26;}\n",
       ".cython.score-57 {background-color: #FFFF26;}\n",
       ".cython.score-58 {background-color: #FFFF25;}\n",
       ".cython.score-59 {background-color: #FFFF24;}\n",
       ".cython.score-60 {background-color: #FFFF24;}\n",
       ".cython.score-61 {background-color: #FFFF23;}\n",
       ".cython.score-62 {background-color: #FFFF23;}\n",
       ".cython.score-63 {background-color: #FFFF22;}\n",
       ".cython.score-64 {background-color: #FFFF22;}\n",
       ".cython.score-65 {background-color: #FFFF22;}\n",
       ".cython.score-66 {background-color: #FFFF21;}\n",
       ".cython.score-67 {background-color: #FFFF21;}\n",
       ".cython.score-68 {background-color: #FFFF20;}\n",
       ".cython.score-69 {background-color: #FFFF20;}\n",
       ".cython.score-70 {background-color: #FFFF1f;}\n",
       ".cython.score-71 {background-color: #FFFF1f;}\n",
       ".cython.score-72 {background-color: #FFFF1f;}\n",
       ".cython.score-73 {background-color: #FFFF1e;}\n",
       ".cython.score-74 {background-color: #FFFF1e;}\n",
       ".cython.score-75 {background-color: #FFFF1e;}\n",
       ".cython.score-76 {background-color: #FFFF1d;}\n",
       ".cython.score-77 {background-color: #FFFF1d;}\n",
       ".cython.score-78 {background-color: #FFFF1c;}\n",
       ".cython.score-79 {background-color: #FFFF1c;}\n",
       ".cython.score-80 {background-color: #FFFF1c;}\n",
       ".cython.score-81 {background-color: #FFFF1c;}\n",
       ".cython.score-82 {background-color: #FFFF1b;}\n",
       ".cython.score-83 {background-color: #FFFF1b;}\n",
       ".cython.score-84 {background-color: #FFFF1b;}\n",
       ".cython.score-85 {background-color: #FFFF1a;}\n",
       ".cython.score-86 {background-color: #FFFF1a;}\n",
       ".cython.score-87 {background-color: #FFFF1a;}\n",
       ".cython.score-88 {background-color: #FFFF1a;}\n",
       ".cython.score-89 {background-color: #FFFF19;}\n",
       ".cython.score-90 {background-color: #FFFF19;}\n",
       ".cython.score-91 {background-color: #FFFF19;}\n",
       ".cython.score-92 {background-color: #FFFF19;}\n",
       ".cython.score-93 {background-color: #FFFF18;}\n",
       ".cython.score-94 {background-color: #FFFF18;}\n",
       ".cython.score-95 {background-color: #FFFF18;}\n",
       ".cython.score-96 {background-color: #FFFF18;}\n",
       ".cython.score-97 {background-color: #FFFF17;}\n",
       ".cython.score-98 {background-color: #FFFF17;}\n",
       ".cython.score-99 {background-color: #FFFF17;}\n",
       ".cython.score-100 {background-color: #FFFF17;}\n",
       ".cython.score-101 {background-color: #FFFF16;}\n",
       ".cython.score-102 {background-color: #FFFF16;}\n",
       ".cython.score-103 {background-color: #FFFF16;}\n",
       ".cython.score-104 {background-color: #FFFF16;}\n",
       ".cython.score-105 {background-color: #FFFF16;}\n",
       ".cython.score-106 {background-color: #FFFF15;}\n",
       ".cython.score-107 {background-color: #FFFF15;}\n",
       ".cython.score-108 {background-color: #FFFF15;}\n",
       ".cython.score-109 {background-color: #FFFF15;}\n",
       ".cython.score-110 {background-color: #FFFF15;}\n",
       ".cython.score-111 {background-color: #FFFF15;}\n",
       ".cython.score-112 {background-color: #FFFF14;}\n",
       ".cython.score-113 {background-color: #FFFF14;}\n",
       ".cython.score-114 {background-color: #FFFF14;}\n",
       ".cython.score-115 {background-color: #FFFF14;}\n",
       ".cython.score-116 {background-color: #FFFF14;}\n",
       ".cython.score-117 {background-color: #FFFF14;}\n",
       ".cython.score-118 {background-color: #FFFF13;}\n",
       ".cython.score-119 {background-color: #FFFF13;}\n",
       ".cython.score-120 {background-color: #FFFF13;}\n",
       ".cython.score-121 {background-color: #FFFF13;}\n",
       ".cython.score-122 {background-color: #FFFF13;}\n",
       ".cython.score-123 {background-color: #FFFF13;}\n",
       ".cython.score-124 {background-color: #FFFF13;}\n",
       ".cython.score-125 {background-color: #FFFF12;}\n",
       ".cython.score-126 {background-color: #FFFF12;}\n",
       ".cython.score-127 {background-color: #FFFF12;}\n",
       ".cython.score-128 {background-color: #FFFF12;}\n",
       ".cython.score-129 {background-color: #FFFF12;}\n",
       ".cython.score-130 {background-color: #FFFF12;}\n",
       ".cython.score-131 {background-color: #FFFF12;}\n",
       ".cython.score-132 {background-color: #FFFF11;}\n",
       ".cython.score-133 {background-color: #FFFF11;}\n",
       ".cython.score-134 {background-color: #FFFF11;}\n",
       ".cython.score-135 {background-color: #FFFF11;}\n",
       ".cython.score-136 {background-color: #FFFF11;}\n",
       ".cython.score-137 {background-color: #FFFF11;}\n",
       ".cython.score-138 {background-color: #FFFF11;}\n",
       ".cython.score-139 {background-color: #FFFF11;}\n",
       ".cython.score-140 {background-color: #FFFF11;}\n",
       ".cython.score-141 {background-color: #FFFF10;}\n",
       ".cython.score-142 {background-color: #FFFF10;}\n",
       ".cython.score-143 {background-color: #FFFF10;}\n",
       ".cython.score-144 {background-color: #FFFF10;}\n",
       ".cython.score-145 {background-color: #FFFF10;}\n",
       ".cython.score-146 {background-color: #FFFF10;}\n",
       ".cython.score-147 {background-color: #FFFF10;}\n",
       ".cython.score-148 {background-color: #FFFF10;}\n",
       ".cython.score-149 {background-color: #FFFF10;}\n",
       ".cython.score-150 {background-color: #FFFF0f;}\n",
       ".cython.score-151 {background-color: #FFFF0f;}\n",
       ".cython.score-152 {background-color: #FFFF0f;}\n",
       ".cython.score-153 {background-color: #FFFF0f;}\n",
       ".cython.score-154 {background-color: #FFFF0f;}\n",
       ".cython.score-155 {background-color: #FFFF0f;}\n",
       ".cython.score-156 {background-color: #FFFF0f;}\n",
       ".cython.score-157 {background-color: #FFFF0f;}\n",
       ".cython.score-158 {background-color: #FFFF0f;}\n",
       ".cython.score-159 {background-color: #FFFF0f;}\n",
       ".cython.score-160 {background-color: #FFFF0f;}\n",
       ".cython.score-161 {background-color: #FFFF0e;}\n",
       ".cython.score-162 {background-color: #FFFF0e;}\n",
       ".cython.score-163 {background-color: #FFFF0e;}\n",
       ".cython.score-164 {background-color: #FFFF0e;}\n",
       ".cython.score-165 {background-color: #FFFF0e;}\n",
       ".cython.score-166 {background-color: #FFFF0e;}\n",
       ".cython.score-167 {background-color: #FFFF0e;}\n",
       ".cython.score-168 {background-color: #FFFF0e;}\n",
       ".cython.score-169 {background-color: #FFFF0e;}\n",
       ".cython.score-170 {background-color: #FFFF0e;}\n",
       ".cython.score-171 {background-color: #FFFF0e;}\n",
       ".cython.score-172 {background-color: #FFFF0e;}\n",
       ".cython.score-173 {background-color: #FFFF0d;}\n",
       ".cython.score-174 {background-color: #FFFF0d;}\n",
       ".cython.score-175 {background-color: #FFFF0d;}\n",
       ".cython.score-176 {background-color: #FFFF0d;}\n",
       ".cython.score-177 {background-color: #FFFF0d;}\n",
       ".cython.score-178 {background-color: #FFFF0d;}\n",
       ".cython.score-179 {background-color: #FFFF0d;}\n",
       ".cython.score-180 {background-color: #FFFF0d;}\n",
       ".cython.score-181 {background-color: #FFFF0d;}\n",
       ".cython.score-182 {background-color: #FFFF0d;}\n",
       ".cython.score-183 {background-color: #FFFF0d;}\n",
       ".cython.score-184 {background-color: #FFFF0d;}\n",
       ".cython.score-185 {background-color: #FFFF0d;}\n",
       ".cython.score-186 {background-color: #FFFF0d;}\n",
       ".cython.score-187 {background-color: #FFFF0c;}\n",
       ".cython.score-188 {background-color: #FFFF0c;}\n",
       ".cython.score-189 {background-color: #FFFF0c;}\n",
       ".cython.score-190 {background-color: #FFFF0c;}\n",
       ".cython.score-191 {background-color: #FFFF0c;}\n",
       ".cython.score-192 {background-color: #FFFF0c;}\n",
       ".cython.score-193 {background-color: #FFFF0c;}\n",
       ".cython.score-194 {background-color: #FFFF0c;}\n",
       ".cython.score-195 {background-color: #FFFF0c;}\n",
       ".cython.score-196 {background-color: #FFFF0c;}\n",
       ".cython.score-197 {background-color: #FFFF0c;}\n",
       ".cython.score-198 {background-color: #FFFF0c;}\n",
       ".cython.score-199 {background-color: #FFFF0c;}\n",
       ".cython.score-200 {background-color: #FFFF0c;}\n",
       ".cython.score-201 {background-color: #FFFF0c;}\n",
       ".cython.score-202 {background-color: #FFFF0c;}\n",
       ".cython.score-203 {background-color: #FFFF0b;}\n",
       ".cython.score-204 {background-color: #FFFF0b;}\n",
       ".cython.score-205 {background-color: #FFFF0b;}\n",
       ".cython.score-206 {background-color: #FFFF0b;}\n",
       ".cython.score-207 {background-color: #FFFF0b;}\n",
       ".cython.score-208 {background-color: #FFFF0b;}\n",
       ".cython.score-209 {background-color: #FFFF0b;}\n",
       ".cython.score-210 {background-color: #FFFF0b;}\n",
       ".cython.score-211 {background-color: #FFFF0b;}\n",
       ".cython.score-212 {background-color: #FFFF0b;}\n",
       ".cython.score-213 {background-color: #FFFF0b;}\n",
       ".cython.score-214 {background-color: #FFFF0b;}\n",
       ".cython.score-215 {background-color: #FFFF0b;}\n",
       ".cython.score-216 {background-color: #FFFF0b;}\n",
       ".cython.score-217 {background-color: #FFFF0b;}\n",
       ".cython.score-218 {background-color: #FFFF0b;}\n",
       ".cython.score-219 {background-color: #FFFF0b;}\n",
       ".cython.score-220 {background-color: #FFFF0b;}\n",
       ".cython.score-221 {background-color: #FFFF0b;}\n",
       ".cython.score-222 {background-color: #FFFF0a;}\n",
       ".cython.score-223 {background-color: #FFFF0a;}\n",
       ".cython.score-224 {background-color: #FFFF0a;}\n",
       ".cython.score-225 {background-color: #FFFF0a;}\n",
       ".cython.score-226 {background-color: #FFFF0a;}\n",
       ".cython.score-227 {background-color: #FFFF0a;}\n",
       ".cython.score-228 {background-color: #FFFF0a;}\n",
       ".cython.score-229 {background-color: #FFFF0a;}\n",
       ".cython.score-230 {background-color: #FFFF0a;}\n",
       ".cython.score-231 {background-color: #FFFF0a;}\n",
       ".cython.score-232 {background-color: #FFFF0a;}\n",
       ".cython.score-233 {background-color: #FFFF0a;}\n",
       ".cython.score-234 {background-color: #FFFF0a;}\n",
       ".cython.score-235 {background-color: #FFFF0a;}\n",
       ".cython.score-236 {background-color: #FFFF0a;}\n",
       ".cython.score-237 {background-color: #FFFF0a;}\n",
       ".cython.score-238 {background-color: #FFFF0a;}\n",
       ".cython.score-239 {background-color: #FFFF0a;}\n",
       ".cython.score-240 {background-color: #FFFF0a;}\n",
       ".cython.score-241 {background-color: #FFFF0a;}\n",
       ".cython.score-242 {background-color: #FFFF0a;}\n",
       ".cython.score-243 {background-color: #FFFF0a;}\n",
       ".cython.score-244 {background-color: #FFFF0a;}\n",
       ".cython.score-245 {background-color: #FFFF0a;}\n",
       ".cython.score-246 {background-color: #FFFF09;}\n",
       ".cython.score-247 {background-color: #FFFF09;}\n",
       ".cython.score-248 {background-color: #FFFF09;}\n",
       ".cython.score-249 {background-color: #FFFF09;}\n",
       ".cython.score-250 {background-color: #FFFF09;}\n",
       ".cython.score-251 {background-color: #FFFF09;}\n",
       ".cython.score-252 {background-color: #FFFF09;}\n",
       ".cython.score-253 {background-color: #FFFF09;}\n",
       ".cython.score-254 {background-color: #FFFF09;}\n",
       "div.pre { line-height: 125%; }\n",
       "td.linenos .normal { color: inherit; background-color: transparent; padding-left: 5px; padding-right: 5px; }\n",
       "span.linenos { color: inherit; background-color: transparent; padding-left: 5px; padding-right: 5px; }\n",
       "td.linenos .special { color: #000000; background-color: #ffffc0; padding-left: 5px; padding-right: 5px; }\n",
       "span.linenos.special { color: #000000; background-color: #ffffc0; padding-left: 5px; padding-right: 5px; }\n",
       ".cython .hll { background-color: #ffffcc }\n",
       ".cython { background: #f8f8f8; }\n",
       ".cython .c { color: #3D7B7B; font-style: italic } /* Comment */\n",
       ".cython .err { border: 1px solid #F00 } /* Error */\n",
       ".cython .k { color: #008000; font-weight: bold } /* Keyword */\n",
       ".cython .o { color: #666 } /* Operator */\n",
       ".cython .ch { color: #3D7B7B; font-style: italic } /* Comment.Hashbang */\n",
       ".cython .cm { color: #3D7B7B; font-style: italic } /* Comment.Multiline */\n",
       ".cython .cp { color: #9C6500 } /* Comment.Preproc */\n",
       ".cython .cpf { color: #3D7B7B; font-style: italic } /* Comment.PreprocFile */\n",
       ".cython .c1 { color: #3D7B7B; font-style: italic } /* Comment.Single */\n",
       ".cython .cs { color: #3D7B7B; font-style: italic } /* Comment.Special */\n",
       ".cython .gd { color: #A00000 } /* Generic.Deleted */\n",
       ".cython .ge { font-style: italic } /* Generic.Emph */\n",
       ".cython .ges { font-weight: bold; font-style: italic } /* Generic.EmphStrong */\n",
       ".cython .gr { color: #E40000 } /* Generic.Error */\n",
       ".cython .gh { color: #000080; font-weight: bold } /* Generic.Heading */\n",
       ".cython .gi { color: #008400 } /* Generic.Inserted */\n",
       ".cython .go { color: #717171 } /* Generic.Output */\n",
       ".cython .gp { color: #000080; font-weight: bold } /* Generic.Prompt */\n",
       ".cython .gs { font-weight: bold } /* Generic.Strong */\n",
       ".cython .gu { color: #800080; font-weight: bold } /* Generic.Subheading */\n",
       ".cython .gt { color: #04D } /* Generic.Traceback */\n",
       ".cython .kc { color: #008000; font-weight: bold } /* Keyword.Constant */\n",
       ".cython .kd { color: #008000; font-weight: bold } /* Keyword.Declaration */\n",
       ".cython .kn { color: #008000; font-weight: bold } /* Keyword.Namespace */\n",
       ".cython .kp { color: #008000 } /* Keyword.Pseudo */\n",
       ".cython .kr { color: #008000; font-weight: bold } /* Keyword.Reserved */\n",
       ".cython .kt { color: #B00040 } /* Keyword.Type */\n",
       ".cython .m { color: #666 } /* Literal.Number */\n",
       ".cython .s { color: #BA2121 } /* Literal.String */\n",
       ".cython .na { color: #687822 } /* Name.Attribute */\n",
       ".cython .nb { color: #008000 } /* Name.Builtin */\n",
       ".cython .nc { color: #00F; font-weight: bold } /* Name.Class */\n",
       ".cython .no { color: #800 } /* Name.Constant */\n",
       ".cython .nd { color: #A2F } /* Name.Decorator */\n",
       ".cython .ni { color: #717171; font-weight: bold } /* Name.Entity */\n",
       ".cython .ne { color: #CB3F38; font-weight: bold } /* Name.Exception */\n",
       ".cython .nf { color: #00F } /* Name.Function */\n",
       ".cython .nl { color: #767600 } /* Name.Label */\n",
       ".cython .nn { color: #00F; font-weight: bold } /* Name.Namespace */\n",
       ".cython .nt { color: #008000; font-weight: bold } /* Name.Tag */\n",
       ".cython .nv { color: #19177C } /* Name.Variable */\n",
       ".cython .ow { color: #A2F; font-weight: bold } /* Operator.Word */\n",
       ".cython .w { color: #BBB } /* Text.Whitespace */\n",
       ".cython .mb { color: #666 } /* Literal.Number.Bin */\n",
       ".cython .mf { color: #666 } /* Literal.Number.Float */\n",
       ".cython .mh { color: #666 } /* Literal.Number.Hex */\n",
       ".cython .mi { color: #666 } /* Literal.Number.Integer */\n",
       ".cython .mo { color: #666 } /* Literal.Number.Oct */\n",
       ".cython .sa { color: #BA2121 } /* Literal.String.Affix */\n",
       ".cython .sb { color: #BA2121 } /* Literal.String.Backtick */\n",
       ".cython .sc { color: #BA2121 } /* Literal.String.Char */\n",
       ".cython .dl { color: #BA2121 } /* Literal.String.Delimiter */\n",
       ".cython .sd { color: #BA2121; font-style: italic } /* Literal.String.Doc */\n",
       ".cython .s2 { color: #BA2121 } /* Literal.String.Double */\n",
       ".cython .se { color: #AA5D1F; font-weight: bold } /* Literal.String.Escape */\n",
       ".cython .sh { color: #BA2121 } /* Literal.String.Heredoc */\n",
       ".cython .si { color: #A45A77; font-weight: bold } /* Literal.String.Interpol */\n",
       ".cython .sx { color: #008000 } /* Literal.String.Other */\n",
       ".cython .sr { color: #A45A77 } /* Literal.String.Regex */\n",
       ".cython .s1 { color: #BA2121 } /* Literal.String.Single */\n",
       ".cython .ss { color: #19177C } /* Literal.String.Symbol */\n",
       ".cython .bp { color: #008000 } /* Name.Builtin.Pseudo */\n",
       ".cython .fm { color: #00F } /* Name.Function.Magic */\n",
       ".cython .vc { color: #19177C } /* Name.Variable.Class */\n",
       ".cython .vg { color: #19177C } /* Name.Variable.Global */\n",
       ".cython .vi { color: #19177C } /* Name.Variable.Instance */\n",
       ".cython .vm { color: #19177C } /* Name.Variable.Magic */\n",
       ".cython .il { color: #666 } /* Literal.Number.Integer.Long */\n",
       "    </style>\n",
       "<p><span style=\"border-bottom: solid 1px grey;\">Generated by Cython 3.0.12</span></p>\n",
       "<p>\n",
       "<span style=\"background-color: #FFFF00\">Yellow lines</span> hint at Python interaction.<br/>\n",
       "    Click on a line that starts with a \"<code>+</code>\" to see the C code that Cython generated for it.\n",
       "</p>\n",
       "<div class=\"cython\"><pre class=\"cython line score-0\"> <span class=\"\">01</span>: </pre>\n",
       "<pre class=\"cython line score-8\" onclick=\"(function(s){s.display=s.display==='block'?'none':'block'})(this.nextElementSibling.style)\">+<span class=\"\">02</span>: <span class=\"k\">cdef</span><span class=\"w\"> </span><span class=\"k\">class</span> <span class=\"nf\">Point2D</span><span class=\"p\">:</span></pre>\n",
       "<pre class=\"cython code score-8\">  __pyx_t_2 = <span class=\"pyx_c_api\">__Pyx_PyDict_NewPresized</span>(0);<span class=\"error_goto\"> if (unlikely(!__pyx_t_2)) __PYX_ERR(0, 2, __pyx_L1_error)</span>\n",
       "  <span class=\"refnanny\">__Pyx_GOTREF</span>(__pyx_t_2);\n",
       "  if (<span class=\"py_c_api\">PyDict_SetItem</span>(__pyx_d, __pyx_n_s_test, __pyx_t_2) &lt; 0) <span class=\"error_goto\">__PYX_ERR(0, 2, __pyx_L1_error)</span>\n",
       "  <span class=\"pyx_macro_api\">__Pyx_DECREF</span>(__pyx_t_2); __pyx_t_2 = 0;\n",
       "/* … */\n",
       "struct __pyx_obj_54_cython_magic_390498a5e4057d93d29df0bbd7ea9444e0e5747e_Point2D {\n",
       "  PyObject_HEAD\n",
       "  double x;\n",
       "  double y;\n",
       "};\n",
       "\n",
       "</pre><pre class=\"cython line score-50\" onclick=\"(function(s){s.display=s.display==='block'?'none':'block'})(this.nextElementSibling.style)\">+<span class=\"\">03</span>:     <span class=\"k\">cdef</span><span class=\"w\"> </span><span class=\"kr\">public</span> <span class=\"kt\">double</span> <span class=\"nf\">x</span><span class=\"p\">,</span> <span class=\"nf\">y</span></pre>\n",
       "<pre class=\"cython code score-50\">/* Python wrapper */\n",
       "static PyObject *__pyx_pw_54_cython_magic_390498a5e4057d93d29df0bbd7ea9444e0e5747e_7Point2D_1x_1__get__(PyObject *__pyx_v_self); /*proto*/\n",
       "static PyObject *__pyx_pw_54_cython_magic_390498a5e4057d93d29df0bbd7ea9444e0e5747e_7Point2D_1x_1__get__(PyObject *__pyx_v_self) {\n",
       "  CYTHON_UNUSED PyObject *const *__pyx_kwvalues;\n",
       "  PyObject *__pyx_r = 0;\n",
       "  <span class=\"refnanny\">__Pyx_RefNannyDeclarations</span>\n",
       "  <span class=\"refnanny\">__Pyx_RefNannySetupContext</span>(\"__get__ (wrapper)\", 0);\n",
       "  __pyx_kwvalues = <span class=\"pyx_c_api\">__Pyx_KwValues_VARARGS</span>(__pyx_args, __pyx_nargs);\n",
       "  __pyx_r = __pyx_pf_54_cython_magic_390498a5e4057d93d29df0bbd7ea9444e0e5747e_7Point2D_1x___get__(((struct __pyx_obj_54_cython_magic_390498a5e4057d93d29df0bbd7ea9444e0e5747e_Point2D *)__pyx_v_self));\n",
       "\n",
       "  /* function exit code */\n",
       "  <span class=\"refnanny\">__Pyx_RefNannyFinishContext</span>();\n",
       "  return __pyx_r;\n",
       "}\n",
       "\n",
       "static PyObject *__pyx_pf_54_cython_magic_390498a5e4057d93d29df0bbd7ea9444e0e5747e_7Point2D_1x___get__(struct __pyx_obj_54_cython_magic_390498a5e4057d93d29df0bbd7ea9444e0e5747e_Point2D *__pyx_v_self) {\n",
       "  PyObject *__pyx_r = NULL;\n",
       "  <span class=\"pyx_macro_api\">__Pyx_XDECREF</span>(__pyx_r);\n",
       "  __pyx_t_1 = <span class=\"py_c_api\">PyFloat_FromDouble</span>(__pyx_v_self-&gt;x);<span class=\"error_goto\"> if (unlikely(!__pyx_t_1)) __PYX_ERR(0, 3, __pyx_L1_error)</span>\n",
       "  <span class=\"refnanny\">__Pyx_GOTREF</span>(__pyx_t_1);\n",
       "  __pyx_r = __pyx_t_1;\n",
       "  __pyx_t_1 = 0;\n",
       "  goto __pyx_L0;\n",
       "\n",
       "  /* function exit code */\n",
       "  __pyx_L1_error:;\n",
       "  <span class=\"pyx_macro_api\">__Pyx_XDECREF</span>(__pyx_t_1);\n",
       "  <span class=\"pyx_c_api\">__Pyx_AddTraceback</span>(\"_cython_magic_390498a5e4057d93d29df0bbd7ea9444e0e5747e.Point2D.x.__get__\", __pyx_clineno, __pyx_lineno, __pyx_filename);\n",
       "  __pyx_r = NULL;\n",
       "  __pyx_L0:;\n",
       "  <span class=\"refnanny\">__Pyx_XGIVEREF</span>(__pyx_r);\n",
       "  <span class=\"refnanny\">__Pyx_RefNannyFinishContext</span>();\n",
       "  return __pyx_r;\n",
       "}\n",
       "\n",
       "/* Python wrapper */\n",
       "static int __pyx_pw_54_cython_magic_390498a5e4057d93d29df0bbd7ea9444e0e5747e_7Point2D_1x_3__set__(PyObject *__pyx_v_self, PyObject *__pyx_v_value); /*proto*/\n",
       "static int __pyx_pw_54_cython_magic_390498a5e4057d93d29df0bbd7ea9444e0e5747e_7Point2D_1x_3__set__(PyObject *__pyx_v_self, PyObject *__pyx_v_value) {\n",
       "  CYTHON_UNUSED PyObject *const *__pyx_kwvalues;\n",
       "  int __pyx_r;\n",
       "  <span class=\"refnanny\">__Pyx_RefNannyDeclarations</span>\n",
       "  <span class=\"refnanny\">__Pyx_RefNannySetupContext</span>(\"__set__ (wrapper)\", 0);\n",
       "  __pyx_kwvalues = <span class=\"pyx_c_api\">__Pyx_KwValues_VARARGS</span>(__pyx_args, __pyx_nargs);\n",
       "  __pyx_r = __pyx_pf_54_cython_magic_390498a5e4057d93d29df0bbd7ea9444e0e5747e_7Point2D_1x_2__set__(((struct __pyx_obj_54_cython_magic_390498a5e4057d93d29df0bbd7ea9444e0e5747e_Point2D *)__pyx_v_self), ((PyObject *)__pyx_v_value));\n",
       "\n",
       "  /* function exit code */\n",
       "  <span class=\"refnanny\">__Pyx_RefNannyFinishContext</span>();\n",
       "  return __pyx_r;\n",
       "}\n",
       "\n",
       "static int __pyx_pf_54_cython_magic_390498a5e4057d93d29df0bbd7ea9444e0e5747e_7Point2D_1x_2__set__(struct __pyx_obj_54_cython_magic_390498a5e4057d93d29df0bbd7ea9444e0e5747e_Point2D *__pyx_v_self, PyObject *__pyx_v_value) {\n",
       "  int __pyx_r;\n",
       "  __pyx_t_1 = __pyx_<span class=\"py_c_api\">PyFloat_AsDouble</span>(__pyx_v_value); if (unlikely((__pyx_t_1 == (double)-1) &amp;&amp; <span class=\"py_c_api\">PyErr_Occurred</span>())) <span class=\"error_goto\">__PYX_ERR(0, 3, __pyx_L1_error)</span>\n",
       "  __pyx_v_self-&gt;x = __pyx_t_1;\n",
       "\n",
       "  /* function exit code */\n",
       "  __pyx_r = 0;\n",
       "  goto __pyx_L0;\n",
       "  __pyx_L1_error:;\n",
       "  <span class=\"pyx_c_api\">__Pyx_AddTraceback</span>(\"_cython_magic_390498a5e4057d93d29df0bbd7ea9444e0e5747e.Point2D.x.__set__\", __pyx_clineno, __pyx_lineno, __pyx_filename);\n",
       "  __pyx_r = -1;\n",
       "  __pyx_L0:;\n",
       "  return __pyx_r;\n",
       "}\n",
       "\n",
       "/* Python wrapper */\n",
       "static PyObject *__pyx_pw_54_cython_magic_390498a5e4057d93d29df0bbd7ea9444e0e5747e_7Point2D_1y_1__get__(PyObject *__pyx_v_self); /*proto*/\n",
       "static PyObject *__pyx_pw_54_cython_magic_390498a5e4057d93d29df0bbd7ea9444e0e5747e_7Point2D_1y_1__get__(PyObject *__pyx_v_self) {\n",
       "  CYTHON_UNUSED PyObject *const *__pyx_kwvalues;\n",
       "  PyObject *__pyx_r = 0;\n",
       "  <span class=\"refnanny\">__Pyx_RefNannyDeclarations</span>\n",
       "  <span class=\"refnanny\">__Pyx_RefNannySetupContext</span>(\"__get__ (wrapper)\", 0);\n",
       "  __pyx_kwvalues = <span class=\"pyx_c_api\">__Pyx_KwValues_VARARGS</span>(__pyx_args, __pyx_nargs);\n",
       "  __pyx_r = __pyx_pf_54_cython_magic_390498a5e4057d93d29df0bbd7ea9444e0e5747e_7Point2D_1y___get__(((struct __pyx_obj_54_cython_magic_390498a5e4057d93d29df0bbd7ea9444e0e5747e_Point2D *)__pyx_v_self));\n",
       "\n",
       "  /* function exit code */\n",
       "  <span class=\"refnanny\">__Pyx_RefNannyFinishContext</span>();\n",
       "  return __pyx_r;\n",
       "}\n",
       "\n",
       "static PyObject *__pyx_pf_54_cython_magic_390498a5e4057d93d29df0bbd7ea9444e0e5747e_7Point2D_1y___get__(struct __pyx_obj_54_cython_magic_390498a5e4057d93d29df0bbd7ea9444e0e5747e_Point2D *__pyx_v_self) {\n",
       "  PyObject *__pyx_r = NULL;\n",
       "  <span class=\"pyx_macro_api\">__Pyx_XDECREF</span>(__pyx_r);\n",
       "  __pyx_t_1 = <span class=\"py_c_api\">PyFloat_FromDouble</span>(__pyx_v_self-&gt;y);<span class=\"error_goto\"> if (unlikely(!__pyx_t_1)) __PYX_ERR(0, 3, __pyx_L1_error)</span>\n",
       "  <span class=\"refnanny\">__Pyx_GOTREF</span>(__pyx_t_1);\n",
       "  __pyx_r = __pyx_t_1;\n",
       "  __pyx_t_1 = 0;\n",
       "  goto __pyx_L0;\n",
       "\n",
       "  /* function exit code */\n",
       "  __pyx_L1_error:;\n",
       "  <span class=\"pyx_macro_api\">__Pyx_XDECREF</span>(__pyx_t_1);\n",
       "  <span class=\"pyx_c_api\">__Pyx_AddTraceback</span>(\"_cython_magic_390498a5e4057d93d29df0bbd7ea9444e0e5747e.Point2D.y.__get__\", __pyx_clineno, __pyx_lineno, __pyx_filename);\n",
       "  __pyx_r = NULL;\n",
       "  __pyx_L0:;\n",
       "  <span class=\"refnanny\">__Pyx_XGIVEREF</span>(__pyx_r);\n",
       "  <span class=\"refnanny\">__Pyx_RefNannyFinishContext</span>();\n",
       "  return __pyx_r;\n",
       "}\n",
       "\n",
       "/* Python wrapper */\n",
       "static int __pyx_pw_54_cython_magic_390498a5e4057d93d29df0bbd7ea9444e0e5747e_7Point2D_1y_3__set__(PyObject *__pyx_v_self, PyObject *__pyx_v_value); /*proto*/\n",
       "static int __pyx_pw_54_cython_magic_390498a5e4057d93d29df0bbd7ea9444e0e5747e_7Point2D_1y_3__set__(PyObject *__pyx_v_self, PyObject *__pyx_v_value) {\n",
       "  CYTHON_UNUSED PyObject *const *__pyx_kwvalues;\n",
       "  int __pyx_r;\n",
       "  <span class=\"refnanny\">__Pyx_RefNannyDeclarations</span>\n",
       "  <span class=\"refnanny\">__Pyx_RefNannySetupContext</span>(\"__set__ (wrapper)\", 0);\n",
       "  __pyx_kwvalues = <span class=\"pyx_c_api\">__Pyx_KwValues_VARARGS</span>(__pyx_args, __pyx_nargs);\n",
       "  __pyx_r = __pyx_pf_54_cython_magic_390498a5e4057d93d29df0bbd7ea9444e0e5747e_7Point2D_1y_2__set__(((struct __pyx_obj_54_cython_magic_390498a5e4057d93d29df0bbd7ea9444e0e5747e_Point2D *)__pyx_v_self), ((PyObject *)__pyx_v_value));\n",
       "\n",
       "  /* function exit code */\n",
       "  <span class=\"refnanny\">__Pyx_RefNannyFinishContext</span>();\n",
       "  return __pyx_r;\n",
       "}\n",
       "\n",
       "static int __pyx_pf_54_cython_magic_390498a5e4057d93d29df0bbd7ea9444e0e5747e_7Point2D_1y_2__set__(struct __pyx_obj_54_cython_magic_390498a5e4057d93d29df0bbd7ea9444e0e5747e_Point2D *__pyx_v_self, PyObject *__pyx_v_value) {\n",
       "  int __pyx_r;\n",
       "  __pyx_t_1 = __pyx_<span class=\"py_c_api\">PyFloat_AsDouble</span>(__pyx_v_value); if (unlikely((__pyx_t_1 == (double)-1) &amp;&amp; <span class=\"py_c_api\">PyErr_Occurred</span>())) <span class=\"error_goto\">__PYX_ERR(0, 3, __pyx_L1_error)</span>\n",
       "  __pyx_v_self-&gt;y = __pyx_t_1;\n",
       "\n",
       "  /* function exit code */\n",
       "  __pyx_r = 0;\n",
       "  goto __pyx_L0;\n",
       "  __pyx_L1_error:;\n",
       "  <span class=\"pyx_c_api\">__Pyx_AddTraceback</span>(\"_cython_magic_390498a5e4057d93d29df0bbd7ea9444e0e5747e.Point2D.y.__set__\", __pyx_clineno, __pyx_lineno, __pyx_filename);\n",
       "  __pyx_r = -1;\n",
       "  __pyx_L0:;\n",
       "  return __pyx_r;\n",
       "}\n",
       "</pre><pre class=\"cython line score-0\"> <span class=\"\">04</span>: </pre>\n",
       "<pre class=\"cython line score-0\"> <span class=\"\">05</span>: <span class=\"k\">cdef</span><span class=\"w\"> </span><span class=\"k\">class</span> <span class=\"nf\">Point3D</span><span class=\"p\">(</span><span class=\"n\">Point2D</span><span class=\"p\">):</span></pre>\n",
       "<pre class=\"cython line score-25\" onclick=\"(function(s){s.display=s.display==='block'?'none':'block'})(this.nextElementSibling.style)\">+<span class=\"\">06</span>:     <span class=\"k\">cdef</span><span class=\"w\"> </span><span class=\"kr\">public</span> <span class=\"kt\">double</span> <span class=\"nf\">z</span></pre>\n",
       "<pre class=\"cython code score-25\">/* Python wrapper */\n",
       "static PyObject *__pyx_pw_54_cython_magic_390498a5e4057d93d29df0bbd7ea9444e0e5747e_7Point3D_1z_1__get__(PyObject *__pyx_v_self); /*proto*/\n",
       "static PyObject *__pyx_pw_54_cython_magic_390498a5e4057d93d29df0bbd7ea9444e0e5747e_7Point3D_1z_1__get__(PyObject *__pyx_v_self) {\n",
       "  CYTHON_UNUSED PyObject *const *__pyx_kwvalues;\n",
       "  PyObject *__pyx_r = 0;\n",
       "  <span class=\"refnanny\">__Pyx_RefNannyDeclarations</span>\n",
       "  <span class=\"refnanny\">__Pyx_RefNannySetupContext</span>(\"__get__ (wrapper)\", 0);\n",
       "  __pyx_kwvalues = <span class=\"pyx_c_api\">__Pyx_KwValues_VARARGS</span>(__pyx_args, __pyx_nargs);\n",
       "  __pyx_r = __pyx_pf_54_cython_magic_390498a5e4057d93d29df0bbd7ea9444e0e5747e_7Point3D_1z___get__(((struct __pyx_obj_54_cython_magic_390498a5e4057d93d29df0bbd7ea9444e0e5747e_Point3D *)__pyx_v_self));\n",
       "\n",
       "  /* function exit code */\n",
       "  <span class=\"refnanny\">__Pyx_RefNannyFinishContext</span>();\n",
       "  return __pyx_r;\n",
       "}\n",
       "\n",
       "static PyObject *__pyx_pf_54_cython_magic_390498a5e4057d93d29df0bbd7ea9444e0e5747e_7Point3D_1z___get__(struct __pyx_obj_54_cython_magic_390498a5e4057d93d29df0bbd7ea9444e0e5747e_Point3D *__pyx_v_self) {\n",
       "  PyObject *__pyx_r = NULL;\n",
       "  <span class=\"pyx_macro_api\">__Pyx_XDECREF</span>(__pyx_r);\n",
       "  __pyx_t_1 = <span class=\"py_c_api\">PyFloat_FromDouble</span>(__pyx_v_self-&gt;z);<span class=\"error_goto\"> if (unlikely(!__pyx_t_1)) __PYX_ERR(0, 6, __pyx_L1_error)</span>\n",
       "  <span class=\"refnanny\">__Pyx_GOTREF</span>(__pyx_t_1);\n",
       "  __pyx_r = __pyx_t_1;\n",
       "  __pyx_t_1 = 0;\n",
       "  goto __pyx_L0;\n",
       "\n",
       "  /* function exit code */\n",
       "  __pyx_L1_error:;\n",
       "  <span class=\"pyx_macro_api\">__Pyx_XDECREF</span>(__pyx_t_1);\n",
       "  <span class=\"pyx_c_api\">__Pyx_AddTraceback</span>(\"_cython_magic_390498a5e4057d93d29df0bbd7ea9444e0e5747e.Point3D.z.__get__\", __pyx_clineno, __pyx_lineno, __pyx_filename);\n",
       "  __pyx_r = NULL;\n",
       "  __pyx_L0:;\n",
       "  <span class=\"refnanny\">__Pyx_XGIVEREF</span>(__pyx_r);\n",
       "  <span class=\"refnanny\">__Pyx_RefNannyFinishContext</span>();\n",
       "  return __pyx_r;\n",
       "}\n",
       "\n",
       "/* Python wrapper */\n",
       "static int __pyx_pw_54_cython_magic_390498a5e4057d93d29df0bbd7ea9444e0e5747e_7Point3D_1z_3__set__(PyObject *__pyx_v_self, PyObject *__pyx_v_value); /*proto*/\n",
       "static int __pyx_pw_54_cython_magic_390498a5e4057d93d29df0bbd7ea9444e0e5747e_7Point3D_1z_3__set__(PyObject *__pyx_v_self, PyObject *__pyx_v_value) {\n",
       "  CYTHON_UNUSED PyObject *const *__pyx_kwvalues;\n",
       "  int __pyx_r;\n",
       "  <span class=\"refnanny\">__Pyx_RefNannyDeclarations</span>\n",
       "  <span class=\"refnanny\">__Pyx_RefNannySetupContext</span>(\"__set__ (wrapper)\", 0);\n",
       "  __pyx_kwvalues = <span class=\"pyx_c_api\">__Pyx_KwValues_VARARGS</span>(__pyx_args, __pyx_nargs);\n",
       "  __pyx_r = __pyx_pf_54_cython_magic_390498a5e4057d93d29df0bbd7ea9444e0e5747e_7Point3D_1z_2__set__(((struct __pyx_obj_54_cython_magic_390498a5e4057d93d29df0bbd7ea9444e0e5747e_Point3D *)__pyx_v_self), ((PyObject *)__pyx_v_value));\n",
       "\n",
       "  /* function exit code */\n",
       "  <span class=\"refnanny\">__Pyx_RefNannyFinishContext</span>();\n",
       "  return __pyx_r;\n",
       "}\n",
       "\n",
       "static int __pyx_pf_54_cython_magic_390498a5e4057d93d29df0bbd7ea9444e0e5747e_7Point3D_1z_2__set__(struct __pyx_obj_54_cython_magic_390498a5e4057d93d29df0bbd7ea9444e0e5747e_Point3D *__pyx_v_self, PyObject *__pyx_v_value) {\n",
       "  int __pyx_r;\n",
       "  __pyx_t_1 = __pyx_<span class=\"py_c_api\">PyFloat_AsDouble</span>(__pyx_v_value); if (unlikely((__pyx_t_1 == (double)-1) &amp;&amp; <span class=\"py_c_api\">PyErr_Occurred</span>())) <span class=\"error_goto\">__PYX_ERR(0, 6, __pyx_L1_error)</span>\n",
       "  __pyx_v_self-&gt;z = __pyx_t_1;\n",
       "\n",
       "  /* function exit code */\n",
       "  __pyx_r = 0;\n",
       "  goto __pyx_L0;\n",
       "  __pyx_L1_error:;\n",
       "  <span class=\"pyx_c_api\">__Pyx_AddTraceback</span>(\"_cython_magic_390498a5e4057d93d29df0bbd7ea9444e0e5747e.Point3D.z.__set__\", __pyx_clineno, __pyx_lineno, __pyx_filename);\n",
       "  __pyx_r = -1;\n",
       "  __pyx_L0:;\n",
       "  return __pyx_r;\n",
       "}\n",
       "</pre><pre class=\"cython line score-0\"> <span class=\"\">07</span>: </pre>\n",
       "<pre class=\"cython line score-3\" onclick=\"(function(s){s.display=s.display==='block'?'none':'block'})(this.nextElementSibling.style)\">+<span class=\"\">08</span>: <span class=\"k\">cdef</span><span class=\"w\"> </span><span class=\"kt\">Point3D</span> <span class=\"nf\">p</span><span class=\"w\"> </span><span class=\"o\">=</span> <span class=\"n\">Point3D</span><span class=\"p\">()</span></pre>\n",
       "<pre class=\"cython code score-3\">  __pyx_t_2 = <span class=\"pyx_c_api\">__Pyx_PyObject_CallNoArg</span>(((PyObject *)__pyx_ptype_54_cython_magic_390498a5e4057d93d29df0bbd7ea9444e0e5747e_Point3D));<span class=\"error_goto\"> if (unlikely(!__pyx_t_2)) __PYX_ERR(0, 8, __pyx_L1_error)</span>\n",
       "  <span class=\"refnanny\">__Pyx_GOTREF</span>(__pyx_t_2);\n",
       "  <span class=\"refnanny\">__Pyx_XGOTREF</span>((PyObject *)__pyx_v_54_cython_magic_390498a5e4057d93d29df0bbd7ea9444e0e5747e_p);\n",
       "  <span class=\"pyx_macro_api\">__Pyx_DECREF_SET</span>(__pyx_v_54_cython_magic_390498a5e4057d93d29df0bbd7ea9444e0e5747e_p, ((struct __pyx_obj_54_cython_magic_390498a5e4057d93d29df0bbd7ea9444e0e5747e_Point3D *)__pyx_t_2));\n",
       "  <span class=\"refnanny\">__Pyx_GIVEREF</span>(__pyx_t_2);\n",
       "  __pyx_t_2 = 0;\n",
       "</pre><pre class=\"cython line score-0\" onclick=\"(function(s){s.display=s.display==='block'?'none':'block'})(this.nextElementSibling.style)\">+<span class=\"\">09</span>: <span class=\"n\">p</span><span class=\"o\">.</span><span class=\"n\">x</span> <span class=\"o\">=</span> <span class=\"mf\">1.0</span></pre>\n",
       "<pre class=\"cython code score-0\">  __pyx_v_54_cython_magic_390498a5e4057d93d29df0bbd7ea9444e0e5747e_p-&gt;__pyx_base.x = 1.0;\n",
       "</pre><pre class=\"cython line score-0\" onclick=\"(function(s){s.display=s.display==='block'?'none':'block'})(this.nextElementSibling.style)\">+<span class=\"\">10</span>: <span class=\"n\">p</span><span class=\"o\">.</span><span class=\"n\">y</span> <span class=\"o\">=</span> <span class=\"mf\">2.0</span></pre>\n",
       "<pre class=\"cython code score-0\">  __pyx_v_54_cython_magic_390498a5e4057d93d29df0bbd7ea9444e0e5747e_p-&gt;__pyx_base.y = 2.0;\n",
       "</pre><pre class=\"cython line score-0\" onclick=\"(function(s){s.display=s.display==='block'?'none':'block'})(this.nextElementSibling.style)\">+<span class=\"\">11</span>: <span class=\"n\">p</span><span class=\"o\">.</span><span class=\"n\">z</span> <span class=\"o\">=</span> <span class=\"mf\">3.0</span></pre>\n",
       "<pre class=\"cython code score-0\">  __pyx_v_54_cython_magic_390498a5e4057d93d29df0bbd7ea9444e0e5747e_p-&gt;z = 3.0;\n",
       "</pre></div>"
      ],
      "text/plain": [
       "<IPython.core.display.HTML object>"
      ]
     },
     "execution_count": 4,
     "metadata": {},
     "output_type": "execute_result"
    }
   ],
   "source": [
    "%%cython -a\n",
    "\n",
    "cdef class Point2D:\n",
    "    cdef public double x, y\n",
    "\n",
    "cdef class Point3D(Point2D):\n",
    "    cdef public double z\n",
    "    \n",
    "cdef Point3D p = Point3D()\n",
    "p.x = 1.0\n",
    "p.y = 2.0\n",
    "p.z = 3.0"
   ]
  },
  {
   "cell_type": "markdown",
   "metadata": {},
   "source": [
    "`Point3D`オブジェクトに対応するC言語構造体は以下のようになります：\n",
    "\n",
    "```cpp\n",
    "struct __pyx_obj_Point3D {\n",
    "  struct __pyx_obj_Point2D __pyx_base;\n",
    "  double z;\n",
    "};\n",
    "```\n",
    "\n",
    "最初のフィールド`__pyx_base`は、その基底クラス`Point2D`に対応する構造体です。Cythonでは`__pyx_base.x`を使って基底クラスで定義された属性`x`にアクセスし、Pythonでは`Point3D.__base__`内の`x`に対応するディスクリプタを使ってこの属性にアクセスします。"
   ]
  },
  {
   "cell_type": "markdown",
   "metadata": {},
   "source": [
    "### 1次元浮動小数点ベクトル型\n",
    "\n",
    "次に、1次元浮動小数点ベクトル`Vector`型を例に、拡張型の使用方法を紹介します。`Vector`オブジェクトは2つのプライベート属性を持っています：`count`は配列の長さを表し、`data`は配列データの先頭アドレスを保持します。\n",
    "\n",
    ":::{note}\n",
    "長いCythonコードを部分ごとに取り出して説明するため、本書では提供する`%include`マジックコマンドを利用します。\n",
    ":::"
   ]
  },
  {
   "cell_type": "code",
   "execution_count": 5,
   "metadata": {
    "collapsed": false,
    "group_control": {
     "group": 0
    },
    "jupyter": {
     "outputs_hidden": false
    }
   },
   "outputs": [
    {
     "data": {
      "text/markdown": [
       "```cython\n",
       "cdef class Vector:\n",
       "    cdef int count\n",
       "    cdef double * data\n",
       "```"
      ]
     },
     "metadata": {},
     "output_type": "display_data"
    }
   ],
   "source": [
    "%include cython_examples/vector.pyx 1"
   ]
  },
  {
   "cell_type": "markdown",
   "metadata": {},
   "source": [
    "新しい`Vector`オブジェクトを作成する際、ヒープメモリから構造体が割り当てられます。構造体のメモリ割り当てが完了した後、すぐにその中の属性を初期化する必要があります。この初期化作業は`__cinit__()`によって行われ、C言語レベルの`__init__()`と考えることができます。`Vector`オブジェクトは2つの初期化方法をサポートしています：指定されたサイズのメモリを割り当てるか、シーケンスオブジェクトを使って配列の内容を初期化します。ここではPython/C APIの`PyMem_Malloc()`を使って、Pythonが管理するヒープから配列データを保存するメモリを割り当てます。このAPI関数を使用するためには、`from cpython cimport mem`を使ってメモリ管理API関数のヘッダファイルを読み込む必要があります。"
   ]
  },
  {
   "cell_type": "code",
   "execution_count": 6,
   "metadata": {
    "collapsed": false,
    "group_control": {
     "group": 0
    },
    "jupyter": {
     "outputs_hidden": false
    }
   },
   "outputs": [
    {
     "data": {
      "text/markdown": [
       "```cython\n",
       "    def __cinit__(self, data):\n",
       "        cdef int i\n",
       "        if isinstance(data, int):\n",
       "            self.count = data\n",
       "        else:\n",
       "            self.count = len(data)\n",
       "        self.data = <double *>mem.PyMem_Malloc(sizeof(double)*self.count)\n",
       "        if self.data is NULL:\n",
       "            raise MemoryError\n",
       "        \n",
       "        if not isinstance(data, int):\n",
       "            for i in range(self.count):\n",
       "                self.data[i] = data[i]\n",
       "```"
      ]
     },
     "metadata": {},
     "output_type": "display_data"
    }
   ],
   "source": [
    "%include cython_examples/vector.pyx 2"
   ]
  },
  {
   "cell_type": "markdown",
   "metadata": {},
   "source": [
    "オブジェクトの参照カウントが0になると、ガベージコレクションによって回収されます。オブジェクト構造体が回収される前に、Cythonは`__dealloc__()`を呼び出し、ここで`data`属性が指すメモリを解放する必要があります："
   ]
  },
  {
   "cell_type": "code",
   "execution_count": 7,
   "metadata": {
    "collapsed": false,
    "group_control": {
     "group": 0
    },
    "jupyter": {
     "outputs_hidden": false
    }
   },
   "outputs": [
    {
     "data": {
      "text/markdown": [
       "```cython\n",
       "    def __dealloc__(self):\n",
       "        if self.data is not NULL:\n",
       "            mem.PyMem_Free(self.data)\n",
       "```"
      ]
     },
     "metadata": {},
     "output_type": "display_data"
    }
   ],
   "source": [
    "%include cython_examples/vector.pyx 3"
   ]
  },
  {
   "cell_type": "markdown",
   "metadata": {},
   "source": [
    "`Vector`オブジェクトが整数の添字アクセスとループによる反復をサポートするためには、`__len__()`、`__getitem__()`、`__setitem__()`などのメソッドを定義する必要があります。これらの2つのアンダースコアで始まり終わるメソッドはマジックメソッドと呼ばれ、これらのメソッドを定義することで、特定の構文におけるオブジェクトの動作を変更できます。例えば、オブジェクトの長さを調べる組み込み関数`len(obj)`は実際には`obj.__len__()`の値を返し、`obj[index]`は`obj.__getitem__(index)`を呼び出し、`obj[index] = value`は`obj.__setitem__(index, value)`を呼び出します。ある型が`__len__()`と`__getitem__()`を定義している場合、そのオブジェクトは自動的に`for`ループによる要素の反復をサポートします。\n",
    "\n",
    "以下のプログラムでは、`__getitem__()`と`__setitem__()`はその添字引数が整数型であることを要求するため、`Vector`オブジェクトはスライス添字をサポートしません。負の添字と添字の範囲外チェックのサポートを`_check_index()`メソッドに分離し、このメソッドの引数は整数型のポインタで、渡された添字変数を直接変更できます。添字が範囲外の場合、`IndexError`例外を発生させます。Cythonでは`p[0]`を使ってポインタ変数`p`が指すアドレスにアクセスします。"
   ]
  },
  {
   "cell_type": "code",
   "execution_count": 8,
   "metadata": {
    "collapsed": false,
    "group_control": {
     "group": 0
    },
    "jupyter": {
     "outputs_hidden": false
    }
   },
   "outputs": [
    {
     "data": {
      "text/markdown": [
       "```cython\n",
       "    def __len__(self):\n",
       "        return self.count\n",
       "    \n",
       "    cdef _check_index(self, int *index):\n",
       "        if index[0] < 0:\n",
       "            index[0] = self.count + index[0]\n",
       "        if index[0] < 0  or index[0] > self.count - 1:\n",
       "            raise IndexError(\"Vector index out of range\")\n",
       "    \n",
       "    def __getitem__(self, int index):\n",
       "        self._check_index(&index)\n",
       "        return self.data[index]\n",
       "    \n",
       "    def __setitem__(self, int index, double value):\n",
       "        self._check_index(&index)\n",
       "        self.data[index] = value\n",
       "```"
      ]
     },
     "metadata": {},
     "output_type": "display_data"
    }
   ],
   "source": [
    "%include cython_examples/vector.pyx 4"
   ]
  },
  {
   "cell_type": "markdown",
   "metadata": {},
   "source": [
    "`Vector`オブジェクトが加算演算子をサポートするためには、`__add__()`メソッドを定義する必要があります："
   ]
  },
  {
   "cell_type": "code",
   "execution_count": 9,
   "metadata": {
    "collapsed": false,
    "group_control": {
     "group": 0
    },
    "jupyter": {
     "outputs_hidden": false
    }
   },
   "outputs": [
    {
     "data": {
      "text/markdown": [
       "```cython\n",
       "    def _add(self, other):        \n",
       "        cdef Vector new, _other\n",
       "\n",
       "        if isinstance(other, Vector): #❷       \n",
       "            _other = <Vector>other #❸\n",
       "            if self.count != _other.count:\n",
       "                raise ValueError(\"Vector size not equal\")\n",
       "            new = Vector(self.count) #❹\n",
       "            add_array(self.data, _other.data, new.data, self.count)\n",
       "            return new\n",
       "        new = Vector(self.count) #❹\n",
       "        add_number(self.data, <double>other, new.data, self.count)\n",
       "        return new\n",
       "\n",
       "    def __add__(self, other): #❶\n",
       "        return self._add(other)\n",
       "\n",
       "    def __radd__(self, other): #❶\n",
       "        return self._add(other)\n",
       "```"
      ]
     },
     "metadata": {},
     "output_type": "display_data"
    }
   ],
   "source": [
    "%include cython_examples/vector.pyx 5"
   ]
  },
  {
   "cell_type": "markdown",
   "metadata": {},
   "source": [
    "足し算や掛け算のような二項演算では、演算子が左右のオペランドに対してどのように動作するかを制御するために、特定のメソッドが使用されます。例えば、足し算に関するマジックメソッド `__add__` と `__radd__` について、`a + b` のような式で、まず `a.__add__(b)` が呼び出され、もしそれが失敗した場合は `b.__radd__(a)` が実行されます。\n",
    "\n",
    "`v`が`Vector`オブジェクトの場合、`1 + v` を実行すると、整数 `1` の `__add__()` 関数呼び出しが失敗し、`Vector.__radd__()` が呼び出され、引数 `other` は `1` となります。\n",
    "\n",
    "プログラムでは、❶ `__add__()`と`__radd__()`はヘルプメソッド`_add()`を呼び出します。❷`__add__()`は数値と`Vector`オブジェクトの両方を処理できるため、`other`オブジェクトの型に応じて異なる処理を行う必要があります。❸`self`と`other`変数には型宣言がないため、C言語構造体に保存されている属性を取得できません。`<Vector>`を使ってPythonオブジェクトを型付きの変数`_self`と`_other`に変換し、これらの変数を通じて`count`と`data`属性にアクセスします。❹演算結果を保存する`Vector`オブジェクトを作成し、`add_array()`または`add_number()`を呼び出して計算を行います。これらの関数のコードは後で紹介します。\n",
    "\n",
    "以下は`+=`演算子に対応するマジックメソッド`__iadd__()`です："
   ]
  },
  {
   "cell_type": "code",
   "execution_count": 10,
   "metadata": {
    "collapsed": false,
    "group_control": {
     "group": 0
    },
    "jupyter": {
     "outputs_hidden": false
    }
   },
   "outputs": [
    {
     "data": {
      "text/markdown": [
       "```cython\n",
       "    def __iadd__(self, other):\n",
       "        cdef Vector _other\n",
       "        if isinstance(other, Vector):\n",
       "            _other = <Vector>other\n",
       "            if self.count != _other.count:\n",
       "                raise ValueError(\"Vector size not equal\")\n",
       "            add_array(self.data, _other.data, self.data, self.count)\n",
       "        else:\n",
       "            add_number(self.data, <double>other, self.data, self.count)\n",
       "        return self\n",
       "```"
      ]
     },
     "metadata": {},
     "output_type": "display_data"
    }
   ],
   "source": [
    "%include cython_examples/vector.pyx 6"
   ]
  },
  {
   "cell_type": "markdown",
   "metadata": {},
   "source": [
    "二項演算子とは異なり、`__iadd__()`の最初の引数は現在のオブジェクトであるため、Cythonはその型を知っており、型変換を行う必要はありません。\n",
    "\n",
    "以下では、`cpdef`を使って`norm()`メソッドを定義し、ベクトルの長さを計算し、`__str__()`でそれを呼び出します。オブジェクトを文字列に変換する際、`__str__()`メソッドが呼び出されます。`cpdef`で定義されたメソッドは、CythonとPythonの両方の呼び出しインターフェースを生成します。`__str__()`ではCythonの呼び出しインターフェースを使って`norm()`を実行し、Pythonではより遅いインターフェースを使って`norm()`を呼び出します。"
   ]
  },
  {
   "cell_type": "code",
   "execution_count": 11,
   "metadata": {
    "collapsed": false,
    "group_control": {
     "group": 0
    },
    "jupyter": {
     "outputs_hidden": false
    }
   },
   "outputs": [
    {
     "data": {
      "text/markdown": [
       "```cython\n",
       "    def __str__(self):\n",
       "        values = \", \".join(str(self.data[i]) for i in range(self.count))\n",
       "        norm = self.norm()\n",
       "        return \"Vector[{}]({})\".format(norm, values)\n",
       "    \n",
       "    cpdef norm(self):\n",
       "        cdef double *p\n",
       "        cdef double s\n",
       "        cdef int i\n",
       "        s = 0\n",
       "        p = self.data\n",
       "        for i in range(self.count):\n",
       "            s += p[i] * p[i]\n",
       "        return s**0.5\n",
       "```"
      ]
     },
     "metadata": {},
     "output_type": "display_data"
    }
   ],
   "source": [
    "%include cython_examples/vector.pyx 7"
   ]
  },
  {
   "cell_type": "markdown",
   "metadata": {},
   "source": [
    "さらに、拡張型はPythonで継承でき、基底クラスで定義された`def`と`cpdef`メソッドをオーバーライドできます。Pythonで定義されたオーバーライドメソッドは、Cython内で正しく呼び出すことができます。Cython内で`cpdef`メソッドを呼び出す場合、このメソッドがオーバーライドされているかどうかをチェックする必要があるため、`cdef`メソッドよりも若干呼び出し速度が遅くなります。\n",
    "\n",
    "最後に、コードの先頭に計算を行う`add_array()`と`add_number()`の2つの関数を追加します。これらは`cdef`で定義され、Cythonコード内でのみ呼び出すことができます。"
   ]
  },
  {
   "cell_type": "code",
   "execution_count": 12,
   "metadata": {
    "collapsed": false,
    "group_control": {
     "group": 0
    },
    "jupyter": {
     "outputs_hidden": false
    }
   },
   "outputs": [
    {
     "data": {
      "text/markdown": [
       "```cython\n",
       "cdef add_array(double *op1, double *op2, double *res, int count):\n",
       "    cdef int i\n",
       "    for i in range(count):\n",
       "        res[i] = op1[i] + op2[i]\n",
       "\n",
       "cdef add_number(double *op1, double op2, double *res, int count):\n",
       "    cdef int i\n",
       "    for i in range(count):\n",
       "        res[i] = op1[i] + op2\n",
       "```"
      ]
     },
     "metadata": {},
     "output_type": "display_data"
    }
   ],
   "source": [
    "%include cython_examples/vector.pyx 8"
   ]
  },
  {
   "cell_type": "code",
   "execution_count": 13,
   "metadata": {},
   "outputs": [],
   "source": [
    "!cythonize -i cython_examples/vector.pyx"
   ]
  },
  {
   "cell_type": "markdown",
   "metadata": {},
   "source": [
    "他の二項計算関数や要素アクセス関数を完成させてみてください。以下は`Vector`オブジェクトの使用例です："
   ]
  },
  {
   "cell_type": "code",
   "execution_count": 14,
   "metadata": {
    "collapsed": false,
    "group_control": {
     "group": 0
    },
    "jupyter": {
     "outputs_hidden": false
    }
   },
   "outputs": [
    {
     "name": "stdout",
     "output_type": "stream",
     "text": [
      "5\n",
      "Vector[232.63705637752557](100.0, 102.0, 104.0, 106.0, 108.0)\n",
      "Vector[9.486832980505138](2.0, 3.0, 4.0, 5.0, 6.0)\n",
      "Vector[272.81862106535175](120.0, 121.0, 122.0, 123.0, 124.0)\n",
      "5.477225575051661 228.10085488660502\n",
      "[0.0, 1.0, 4.0, 9.0, 16.0]\n"
     ]
    }
   ],
   "source": [
    "from cython_examples.vector import Vector\n",
    "\n",
    "v1 = Vector(range(5))\n",
    "v2 = Vector(range(100, 105))\n",
    "print(len(v1))\n",
    "print(v1 + v2)\n",
    "print(v1 + 2)\n",
    "print(20 + v2)\n",
    "print(v1.norm(), v2.norm())\n",
    "print([x**2 for x in v1])"
   ]
  },
  {
   "cell_type": "markdown",
   "metadata": {},
   "source": [
    "以下は`Vector`オブジェクトとNumPy配列のベクトル加算の速度比較です："
   ]
  },
  {
   "cell_type": "code",
   "execution_count": 15,
   "metadata": {
    "collapsed": false,
    "group_control": {
     "group": 0
    },
    "jupyter": {
     "outputs_hidden": false
    }
   },
   "outputs": [
    {
     "name": "stdout",
     "output_type": "stream",
     "text": [
      "7.05 μs ± 61.5 ns per loop (mean ± std. dev. of 7 runs, 100,000 loops each)\n",
      "7.23 μs ± 133 ns per loop (mean ± std. dev. of 7 runs, 100,000 loops each)\n"
     ]
    }
   ],
   "source": [
    "v1 = Vector(range(10000))\n",
    "v2 = Vector(range(10000))\n",
    "%timeit v1 + v2\n",
    "\n",
    "a1 = np.arange(10000, dtype=float)\n",
    "a2 = np.arange(10000, dtype=float)\n",
    "%timeit a1 + a2"
   ]
  },
  {
   "cell_type": "markdown",
   "metadata": {},
   "source": [
    "以下はVectorオブジェクトとNumPy配列の要素アクセス速度の比較です："
   ]
  },
  {
   "cell_type": "code",
   "execution_count": 16,
   "metadata": {
    "collapsed": false,
    "group_control": {
     "group": 0
    },
    "jupyter": {
     "outputs_hidden": false
    }
   },
   "outputs": [
    {
     "name": "stdout",
     "output_type": "stream",
     "text": [
      "59.7 ns ± 0.726 ns per loop (mean ± std. dev. of 7 runs, 10,000,000 loops each)\n",
      "62.7 ns ± 1.45 ns per loop (mean ± std. dev. of 7 runs, 10,000,000 loops each)\n",
      "137 ns ± 2.18 ns per loop (mean ± std. dev. of 7 runs, 10,000,000 loops each)\n",
      "122 ns ± 2.14 ns per loop (mean ± std. dev. of 7 runs, 10,000,000 loops each)\n"
     ]
    }
   ],
   "source": [
    "%timeit v1[100]\n",
    "%timeit v1[100] = 2.0\n",
    "%timeit a1[100]\n",
    "%timeit a1[100] = 2.0"
   ]
  },
  {
   "cell_type": "markdown",
   "metadata": {},
   "source": [
    "### multifastライブラリのラッピング\n",
    "\n",
    "拡張型は、C言語の関数ライブラリをラップし、オブジェクト指向のPythonインターフェースを提供するためによく使用されます。このセクションでは、「多パターンマッチングアルゴリズム」のC言語ライブラリ`multifast`をラップする例を通じて、C言語関数ライブラリを拡張型でラップする方法を紹介します。"
   ]
  },
  {
   "cell_type": "markdown",
   "metadata": {},
   "source": [
    ":::{seealso}\n",
    "http://multifast.sourceforge.net/v1_4_2/\n",
    "多パターンマッチングアルゴリズムを実装したmultifastプロジェクト\n",
    ":::"
   ]
  },
  {
   "cell_type": "markdown",
   "metadata": {},
   "source": [
    "以下はこの拡張型の使用方法のデモンストレーションです。まず、一連のキーワードを使って`MultiSearch`オブジェクトを作成し、その`isin()`メソッドを呼び出して、ターゲットバイト列内でキーワードを検索します。キーワードのいずれかがバイト列内に存在する場合、`True`を返し、そうでない場合は`False`を返します。"
   ]
  },
  {
   "cell_type": "code",
   "execution_count": 17,
   "metadata": {
    "collapsed": false,
    "group_control": {
     "group": 0
    },
    "jupyter": {
     "outputs_hidden": false
    }
   },
   "outputs": [
    {
     "name": "stdout",
     "output_type": "stream",
     "text": [
      "True\n",
      "True\n",
      "False\n"
     ]
    }
   ],
   "source": [
    "from cython_examples.multisearch import MultiSearch\n",
    "\n",
    "ms = MultiSearch([b\"abc\", b\"xyz\"])\n",
    "print(ms.isin(b\"123abcdef\"))\n",
    "print(ms.isin(b\"123uvwxyz\"))\n",
    "print(ms.isin(b\"123456789\"))"
   ]
  },
  {
   "cell_type": "markdown",
   "metadata": {},
   "source": [
    "`search()`メソッドは、ターゲットのバイト列内でキーワードの位置を検索するために使用できます。その第2引数はコールバック関数で、マッチする位置が見つかるたびにその位置とマッチしたキーワードをコールバック関数に渡します。コールバック関数が0を返すと検索を続行し、1を返すと検索を終了します。"
   ]
  },
  {
   "cell_type": "code",
   "execution_count": 18,
   "metadata": {
    "collapsed": false,
    "group_control": {
     "group": 0
    },
    "jupyter": {
     "outputs_hidden": false
    }
   },
   "outputs": [
    {
     "name": "stdout",
     "output_type": "stream",
     "text": [
      "found b'abc' at 3\n",
      "found b'xyz' at 9\n",
      "found b'abc' at 15\n"
     ]
    }
   ],
   "source": [
    "def process(pos, pattern):\n",
    "    print(\"found {0} at {1}\".format(pattern, pos))\n",
    "    return 0\n",
    "\n",
    "\n",
    "ms.search(b\"123abc456xyz789abc\", process)"
   ]
  },
  {
   "cell_type": "markdown",
   "metadata": {},
   "source": [
    "また、`iter_search()`メソッドを使用してイテレータを返すこともできます："
   ]
  },
  {
   "cell_type": "code",
   "execution_count": 19,
   "metadata": {
    "collapsed": false,
    "group_control": {
     "group": 0
    },
    "jupyter": {
     "outputs_hidden": false
    }
   },
   "outputs": [
    {
     "name": "stdout",
     "output_type": "stream",
     "text": [
      "found b'abc' at 3\n",
      "found b'xyz' at 9\n",
      "found b'abc' at 15\n"
     ]
    }
   ],
   "source": [
    "for pos, pattern in ms.iter_search(b\"123abc456xyz789abc\"):\n",
    "    print(\"found {0} at {1}\".format(pattern, pos))"
   ]
  },
  {
   "cell_type": "markdown",
   "metadata": {},
   "source": [
    "拡張タイプの作成を開始する前に、C言語でこのライブラリをどのように使用するかを見てみましょう：\n",
    "\n",
    "```c\n",
    "#include <stdio.h>\n",
    "#include \"ahocorasick.h\"\n",
    "\n",
    "/* 検索キーワードリスト */\n",
    "AC_ALPHABET_t * allstr[] = {\n",
    "    \"recent\", \"from\", \"college\"\n",
    "};\n",
    "\n",
    "#define PATTERN_NUMBER (sizeof(allstr)/sizeof(AC_ALPHABET_t *))\n",
    "\n",
    "/* 検索テキスト */\n",
    "AC_ALPHABET_t * input_text = {\"She recently graduated from college\"};\n",
    "\n",
    "//*** マッチ時のコールバック関数\n",
    "int match_handler(AC_MATCH_t * m, void * param)\n",
    "{\n",
    "    unsigned int j;\n",
    "\n",
    "    printf (\"@ %ld : %s\n",
    "\", m->position, m->patterns->astring);\n",
    "    /* 0を返すと検索を続行し、1を返すと検索を停止 */\n",
    "    return 0;\n",
    "}\n",
    "\n",
    "int main (int argc, char ** argv)\n",
    "{\n",
    "    unsigned int i;\n",
    "\n",
    "    AC_AUTOMATA_t * acap;\n",
    "    AC_PATTERN_t tmp_patt;\n",
    "    AC_TEXT_t tmp_text;\n",
    "\n",
    "    //*** AC_AUTOMATA_t構造体を作成し、コールバック関数を渡す\n",
    "    acap = ac_automata_init();\n",
    "\n",
    "    //*** キーワードを追加\n",
    "    for (i=0; i<PATTERN_NUMBER; i++)\n",
    "    {\n",
    "        tmp_patt.astring = allstr[i];\n",
    "        tmp_patt.rep.number = i+1; // optional\n",
    "        tmp_patt.length = strlen(tmp_patt.astring);\n",
    "        ac_automata_add (acap, &tmp_patt);\n",
    "    }\n",
    "\n",
    "    //*** キーワードの追加を終了\n",
    "    ac_automata_finalize (acap);\n",
    "\n",
    "    //*** 検索対象のバイト列を設定\n",
    "    tmp_text.astring = input_text;\n",
    "    tmp_text.length = strlen(tmp_text.astring);\n",
    "\n",
    "    //*** 検索を実行\n",
    "    ac_automata_search (acap, &tmp_text, 0, match_handler, NULL);\n",
    "\n",
    "    //*** メモリを解放\n",
    "    ac_automata_release (acap);\n",
    "    return 0;\n",
    "}\n",
    "```"
   ]
  },
  {
   "cell_type": "markdown",
   "metadata": {},
   "source": [
    "上記のプログラムからわかるように、このライブラリ全体は`AC_AUTOMATA_t`構造体を中心に処理されています。これはC言語でデータをカプセル化する一般的な方法です。Cythonで拡張タイプを使用してこのようなライブラリをラップする場合、通常はこの構造体へのポインタ属性を作成し、`__cinit__()`と`__dealloc__()`でこの構造体を割り当てたり解放したりします。その後、C言語ライブラリが提供する各API関数を呼び出すいくつかの`def`メソッドを定義して、ラッピングを実現します。\n",
    "\n",
    "以下では、C言語のライブラリを拡張タイプでラップする方法を段階的に説明します。"
   ]
  },
  {
   "cell_type": "code",
   "execution_count": 20,
   "metadata": {
    "collapsed": false,
    "group_control": {
     "group": 0
    },
    "jupyter": {
     "outputs_hidden": false
    }
   },
   "outputs": [
    {
     "data": {
      "text/markdown": [
       "```cython\n",
       "cdef extern from \"ahocorasick.h\": #❶\n",
       "    ctypedef int (*AC_MATCH_CALBACK_f)(AC_MATCH_t *, void *) #❷\n",
       "    ctypedef enum AC_STATUS_t: #❸\n",
       "        ACERR_SUCCESS = 0\n",
       "        ACERR_DUPLICATE_PATTERN\n",
       "        ACERR_LONG_PATTERN\n",
       "        ACERR_ZERO_PATTERN\n",
       "        ACERR_AUTOMATA_CLOSED\n",
       "\n",
       "    ctypedef struct AC_MATCH_t: #❹\n",
       "        AC_PATTERN_t * patterns\n",
       "        long position\n",
       "        unsigned int match_num\n",
       "\n",
       "    ctypedef struct AC_AUTOMATA_t:\n",
       "        AC_MATCH_t match\n",
       "\n",
       "    ctypedef struct AC_PATTERN_t:\n",
       "        char * astring\n",
       "        unsigned int length\n",
       "\n",
       "    ctypedef struct AC_TEXT_t:\n",
       "        char * astring\n",
       "        unsigned int length\n",
       "\n",
       "    #❺\n",
       "    AC_AUTOMATA_t * ac_automata_init() \n",
       "    AC_STATUS_t ac_automata_add(AC_AUTOMATA_t * thiz, AC_PATTERN_t * pattern)\n",
       "    void ac_automata_finalize(AC_AUTOMATA_t * thiz)\n",
       "    int ac_automata_search(AC_AUTOMATA_t * thiz, AC_TEXT_t * text, int keep, \n",
       "        AC_MATCH_CALBACK_f callback, void * param)\n",
       "    void ac_automata_settext (AC_AUTOMATA_t * thiz, AC_TEXT_t * text, int keep)\n",
       "    AC_MATCH_t * ac_automata_findnext (AC_AUTOMATA_t * thiz)        \n",
       "    void ac_automata_release(AC_AUTOMATA_t * thiz)\n",
       "```"
      ]
     },
     "metadata": {},
     "output_type": "display_data"
    }
   ],
   "source": [
    "%include cython_examples/multisearch.pyx 1"
   ]
  },
  {
   "cell_type": "markdown",
   "metadata": {},
   "source": [
    "❶まず、`cdef extern from ...`を使用してCythonに、コンパイル後のC言語プログラムに`ahocorasick.h`ヘッダーファイルを含める必要があることを伝えます。CythonはC言語のヘッダーファイルを自動的に解析しないため、使用する型、定数、関数プロトタイプをCythonの構文で宣言する必要があります。\n",
    "\n",
    "❷関数ポインタ型`MATCH_CALBACK_f`を定義します。これはコールバック関数へのポインタ型です。その第1引数は、マッチデータを保存する構造体へのポインタで、第2引数は任意の追加データを指すポインタです。C言語では通常、このような`void *`型のポインタを使用してユーザー定義データを渡します。\n",
    "\n",
    "❸❹列挙型と構造体型を定義します。Cythonプログラムで使用する列挙メンバーと構造体のフィールドのみを定義すれば十分です。Cythonで構造体のフィールドにアクセスしない場合は、フィールドの定義の代わりに`pass`キーワードを使用できます。\n",
    "\n",
    "❺Cythonプログラムで呼び出す関数のプロトタイプを定義します。\n",
    "\n",
    "上記のプログラムをC言語プログラムにコンパイルすると、`#include \"ahocorasick.h\"`という1行だけが残り、残りの型宣言はCythonにこれらの型を操作するステートメントをどのようにコンパイルするかを指示します。例えば、構造体`AC_PATTERN_t`の`length`フィールドは`unsigned int`型として宣言されているため、必要に応じてCythonはPython/C APIを呼び出して、Pythonの整数オブジェクトと`unsigned int`型の間で変換を行います。\n",
    "\n",
    "次に、`MultiSearch`拡張タイプの定義を示します："
   ]
  },
  {
   "cell_type": "code",
   "execution_count": 21,
   "metadata": {
    "collapsed": false,
    "group_control": {
     "group": 0
    },
    "jupyter": {
     "outputs_hidden": false
    }
   },
   "outputs": [
    {
     "data": {
      "text/markdown": [
       "```cython\n",
       "cdef class MultiSearch:\n",
       "    \n",
       "    cdef AC_AUTOMATA_t * _auto #❶\n",
       "    cdef bint found\n",
       "    cdef object callback\n",
       "    cdef object exc_info\n",
       "    cdef list _keywords\n",
       "\n",
       "    def __cinit__(self, keywords):\n",
       "        self._auto = ac_automata_init()\n",
       "        if self._auto is NULL:\n",
       "            raise MemoryError\n",
       "        self._keywords = []\n",
       "        self.add(keywords) #❷\n",
       "\n",
       "    def __dealloc__(self):\n",
       "        if self._auto is not NULL:\n",
       "            ac_automata_release(self._auto)\n",
       "            \n",
       "    cdef add(self, keywords):\n",
       "        cdef AC_PATTERN_t pattern\n",
       "        cdef bytes keyword\n",
       "        cdef AC_STATUS_t err\n",
       "        \n",
       "        for keyword in keywords: #❸\n",
       "            self._keywords.append(keyword)\n",
       "            pattern.astring = <char *>keyword\n",
       "            pattern.length = len(keyword)\n",
       "            err = ac_automata_add(self._auto, &pattern)\n",
       "            if err != ACERR_SUCCESS:\n",
       "                raise ValueError(\"Error Code:%d\" % err)\n",
       "\n",
       "        ac_automata_finalize(self._auto)\n",
       "```"
      ]
     },
     "metadata": {},
     "output_type": "display_data"
    }
   ],
   "source": [
    "%include cython_examples/multisearch.pyx 2"
   ]
  },
  {
   "cell_type": "markdown",
   "metadata": {},
   "source": [
    "❶`_auto`属性は`AC_AUTOMATA_t`構造体へのポインタです。`__cinit__()`で`ac_automata_init()`を呼び出してメモリを割り当て、`__dealloc__()`で`ac_automata_release()`を呼び出してメモリを解放します。❷`AC_AUTOMATA_t`構造体の割り当てが成功した後、`cdef`メソッド`add()`を呼び出してすべてのキーワードをこの構造体に追加します。\n",
    "\n",
    "❸`add()`内部で`keywords`パラメータをイテレートし、各要素を`bytes`型として処理し、`<char *>`を使用してC言語の文字ポインタ型に変換し、その長さとともに`AC_PATTERN_t`構造体にパッケージ化して`ac_automata_add()`に渡します。この関数が返された後、`ahocorasick`内部の関数は文字ポインタが指す内容を使用しないため、この方法は安全です。後続の関数呼び出しで文字ポインタが指す内容を使用する必要がある場合は、`keywords`内の各バイト列オブジェクトを参照して、それらが早期にガベージコレクションされないようにする必要があります。\n",
    "\n",
    "次に、`isin()`メソッドの定義を示します："
   ]
  },
  {
   "cell_type": "code",
   "execution_count": 22,
   "metadata": {
    "collapsed": false,
    "group_control": {
     "group": 0
    },
    "jupyter": {
     "outputs_hidden": false
    }
   },
   "outputs": [
    {
     "data": {
      "text/markdown": [
       "```cython\n",
       "    def isin(self, bytes text, bint keep=False):\n",
       "        cdef AC_TEXT_t temp_text   #❶\n",
       "        temp_text.astring = <char *>text\n",
       "        temp_text.length = len(text)\n",
       "        self.found = False         #❷\n",
       "        ac_automata_search(self._auto, &temp_text, keep, isin_callback, <void *>self) #❸\n",
       "        return self.found\n",
       "```"
      ]
     },
     "metadata": {},
     "output_type": "display_data"
    }
   ],
   "source": [
    "%include cython_examples/multisearch.pyx 3"
   ]
  },
  {
   "cell_type": "markdown",
   "metadata": {},
   "source": [
    "❶ターゲットのバイト列を`AC_TEXT_t`構造体にパッケージ化し、❸`ac_automata_search()`に渡して検索を実行します。検索の前に、❷`found`属性を`False`に設定します。`isin_callback()`関数のアドレスを`ac_automata_search()`に渡して検索のコールバック関数として使用します。その最後のパラメータはコールバック関数に渡されるユーザーデータで、ここでは`MultiSearch`オブジェクトのアドレスを渡します。これにより、コールバック関数内で`MultiSearch`オブジェクトの属性にアクセスできます。\n",
    "\n",
    "以下は`isin_callback()`コールバック関数の定義です。この関数はC言語ライブラリ内部で呼び出されるため、`cdef`でのみ定義できることに注意してください："
   ]
  },
  {
   "cell_type": "code",
   "execution_count": 23,
   "metadata": {
    "collapsed": false,
    "group_control": {
     "group": 0
    },
    "jupyter": {
     "outputs_hidden": false
    }
   },
   "outputs": [
    {
     "data": {
      "text/markdown": [
       "```cython\n",
       "cdef int isin_callback(AC_MATCH_t * match, void * param) noexcept:\n",
       "    cdef MultiSearch ms = <MultiSearch> param #❶\n",
       "    ms.found = True  #❷\n",
       "    return 1  #❸\n",
       "```"
      ]
     },
     "metadata": {},
     "output_type": "display_data"
    }
   ],
   "source": [
    "%include cython_examples/multisearch.pyx 4"
   ]
  },
  {
   "cell_type": "markdown",
   "metadata": {},
   "source": [
    "`isin_callback()`の第1引数はマッチ情報を記述する構造体へのポインタで、第2引数は`MultiSearch`オブジェクトへのポインタです。❶まず、`void *`型のポインタを`MultiSearch`オブジェクトに変換し、`ms`を通じて`MultiSearch`拡張クラスで定義されたさまざまな属性やメソッドにアクセスできます。❷`MultiSearch`オブジェクトの`found`属性を`True`に設定し、マッチ位置が見つかったことを示します。❸`isin()`は1つのマッチ位置を見つけるだけで十分なため、関数は1を返して検索を終了します。\n",
    "\n",
    "次に、`search()`を定義します。その第1引数は検索対象のバイト列で、第2引数はPythonの呼び出し可能オブジェクトです。マッチ位置が見つかるたびにこのオブジェクトを呼び出して処理します："
   ]
  },
  {
   "cell_type": "markdown",
   "metadata": {},
   "source": [
    ":::{tip}\n",
    "C言語のコールバック関数とPythonのコールバック関数の使用方法を紹介するために、ここでは`ac_automata_search()`を使用していますが、実際には後述の`ac_automata_findnext()`を使用すると、`isin()`と`search()`関数をより簡単に記述できます。\n",
    ":::"
   ]
  },
  {
   "cell_type": "code",
   "execution_count": 24,
   "metadata": {
    "collapsed": false,
    "group_control": {
     "group": 0
    },
    "jupyter": {
     "outputs_hidden": false
    }
   },
   "outputs": [
    {
     "data": {
      "text/markdown": [
       "```cython\n",
       "    def search(self, bytes text, callback, bint keep=False):\n",
       "        cdef AC_TEXT_t temp_text\n",
       "        temp_text.astring = <char *>text\n",
       "        temp_text.length = len(text)\n",
       "        self.found = False\n",
       "        self.callback = callback  #❶\n",
       "        self.exc_info = None\n",
       "        ac_automata_search(self._auto, &temp_text, keep, search_callback, <void *>self) #❷\n",
       "        if self.exc_info is not None:\n",
       "            raise self.exc_info[1], None, self.exc_info[2]  #❸\n",
       "```"
      ]
     },
     "metadata": {},
     "output_type": "display_data"
    }
   ],
   "source": [
    "%include cython_examples/multisearch.pyx 5"
   ]
  },
  {
   "cell_type": "markdown",
   "metadata": {},
   "source": [
    "❷`ac_automata_search()`のコールバック関数は`search_callback()`です。Pythonの呼び出し可能オブジェクトを呼び出すために、❶`callback`パラメータを`self.callback`に渡します。❸C言語の関数はPython関数がスローする例外情報を上位に伝えることができないため、`exc_info`属性を使用してPythonコールバック関数でスローされる可能性のある例外を伝える必要があります。\n",
    "\n",
    "以下は `search_callback()` コールバック関数の定義です。`noexcept` を指定することで、この関数内では例外が発生しないことを宣言します。"
   ]
  },
  {
   "cell_type": "code",
   "execution_count": 25,
   "metadata": {
    "collapsed": false,
    "group_control": {
     "group": 0
    },
    "jupyter": {
     "outputs_hidden": false
    }
   },
   "outputs": [
    {
     "data": {
      "text/markdown": [
       "```cython\n",
       "cdef int search_callback(AC_MATCH_t * match, void * param) noexcept:\n",
       "    cdef MultiSearch ms = <MultiSearch> param\n",
       "    cdef bytes pattern = match.patterns.astring\n",
       "    cdef int res = 1\n",
       "    try:\n",
       "        res = ms.callback(match.position - len(pattern), pattern)  #❶\n",
       "    except Exception as ex:\n",
       "        import sys\n",
       "        ms.exc_info = sys.exc_info()  #❷\n",
       "    return res\n",
       "```"
      ]
     },
     "metadata": {},
     "output_type": "display_data"
    }
   ],
   "source": [
    "%include cython_examples/multisearch.pyx 6"
   ]
  },
  {
   "cell_type": "markdown",
   "metadata": {},
   "source": [
    "第2引数を`MultiSearch`オブジェクトに変換した後、❶`callback`が指すPythonコールバック関数を呼び出し、スローされる可能性のある例外を捕捉します。❷例外とそのトレースバック情報を`exc_info`属性に保存します。`search()`の最後で`exc_info`属性をチェックし、設定されている場合はその中の例外オブジェクトをスローします。ここでは、キャプチャされた例外を直接保存するのではなく、`sys.exc_info()`を使用して例外情報を取得していることに注意してください。これにより、エラーの位置を正しく示すトレースバック情報が得られます。\n",
    "\n",
    "multifastのC言語プログラムでは、`ac_automata_settext()`と`ac_automata_findnext()`も提供されています。これら2つの関数を使用して、以下のようなジェネレータ関数`iter_search()`を記述できます。"
   ]
  },
  {
   "cell_type": "code",
   "execution_count": 26,
   "metadata": {
    "collapsed": false,
    "group_control": {
     "group": 0
    },
    "jupyter": {
     "outputs_hidden": false
    }
   },
   "outputs": [
    {
     "data": {
      "text/markdown": [
       "```cython\n",
       "    def iter_search(self, bytes text, bint keep=False):\n",
       "        cdef AC_TEXT_t temp_text\n",
       "        cdef AC_MATCH_t * match\n",
       "        cdef bytes matched_pattern\n",
       "        temp_text.astring = <char *>text\n",
       "        temp_text.length = len(text)\n",
       "        ac_automata_settext(self._auto, &temp_text, keep)\n",
       "        while True:\n",
       "            match = ac_automata_findnext(self._auto)\n",
       "            if match == NULL:\n",
       "                break\n",
       "            matched_pattern = <bytes>match.patterns.astring\n",
       "            yield match.position - len(matched_pattern), matched_pattern\n",
       "```"
      ]
     },
     "metadata": {},
     "output_type": "display_data"
    }
   ],
   "source": [
    "%include cython_examples/multisearch.pyx 7"
   ]
  },
  {
   "cell_type": "markdown",
   "metadata": {},
   "source": [
    "## Cythonのテクニック集\n",
    "\n",
    "前の章の紹介を通じて、読者はCythonを使用してPythonプログラムの計算速度を向上させる基本的な方法をすでに習得していると思います。本章の最後の節として、Cythonのいくつかの高度な使用テクニックを見てみましょう。"
   ]
  },
  {
   "attachments": {},
   "cell_type": "markdown",
   "metadata": {},
   "source": [
    "### ufunc 関数の作成\n",
    "\n",
    "NumPy の ufunc（ユニバーサル関数）は、配列の各要素に対して効率的に演算を行うための関数です。NumPy の C-API を利用すると、C 言語を用いて独自の ufunc 関数を作成できます。興味のある読者は、以下の URL から関連するチュートリアルを参照してください。\n",
    "\n",
    ":::{seealso}\n",
    "[NumPy の C-API を使用して ufunc を作成するチュートリアル](https://numpy.org/doc/stable/user/c-info.ufunc-tutorial.html)\n",
    ":::\n",
    "\n",
    "また、`@cython.ufunc` を使用すると、通常の関数をufunc関数に変換できます。以下のプログラムは、ロジスティック関数 $\\frac{1}{1+e^{-x}}$ を計算する ufunc `logistic()` を作成する例です。"
   ]
  },
  {
   "cell_type": "code",
   "execution_count": 27,
   "metadata": {
    "collapsed": false,
    "group_control": {
     "group": 0
    },
    "jupyter": {
     "outputs_hidden": false
    }
   },
   "outputs": [],
   "source": [
    "%%cython --compile-args=-w\n",
    "# distutils: define_macros=NPY_NO_DEPRECATED_API=NPY_1_7_API_VERSION\n",
    "cimport cython\n",
    "from libc.math cimport exp\n",
    "\n",
    "@cython.ufunc\n",
    "cdef double logistic(double x):\n",
    "    return 1.0 / (1.0 + exp(-x))"
   ]
  },
  {
   "cell_type": "markdown",
   "metadata": {},
   "source": [
    "以下は `logistic()` 関数のテストです。`double` 型の計算関数のみを定義していますが、さまざまな型の配列やリストを処理できます。"
   ]
  },
  {
   "cell_type": "code",
   "execution_count": 28,
   "metadata": {},
   "outputs": [
    {
     "data": {
      "text/plain": [
       "array([0.26894142, 0.5       , 0.73105858])"
      ]
     },
     "execution_count": 28,
     "metadata": {},
     "output_type": "execute_result"
    }
   ],
   "source": [
    "logistic([-1, 0, 1])"
   ]
  },
  {
   "cell_type": "markdown",
   "metadata": {},
   "source": [
    "`float32` 型の配列を入力しても、計算結果は `float64` 型になります。これは、`logistic()` 関数が `double` 型の入力と出力のみをサポートしているためです。"
   ]
  },
  {
   "cell_type": "code",
   "execution_count": 29,
   "metadata": {},
   "outputs": [
    {
     "data": {
      "text/plain": [
       "array([0.26894142, 0.5       , 0.73105858])"
      ]
     },
     "execution_count": 29,
     "metadata": {},
     "output_type": "execute_result"
    }
   ],
   "source": [
    "logistic(np.arange(-1, 2, dtype=np.float32))"
   ]
  },
  {
   "cell_type": "markdown",
   "metadata": {},
   "source": [
    "`float32` と `float64` の両方をサポートしたい場合は、次のように融合型 `float_num` を宣言し、関数の入出力のデータ型を `float_num` で定義します。"
   ]
  },
  {
   "cell_type": "code",
   "execution_count": 30,
   "metadata": {},
   "outputs": [],
   "source": [
    "%%cython --compile-args=-w\n",
    "# distutils: define_macros=NPY_NO_DEPRECATED_API=NPY_1_7_API_VERSION\n",
    "cimport cython\n",
    "from libc.math cimport exp\n",
    "\n",
    "ctypedef fused float_num:\n",
    "    double\n",
    "    float\n",
    "\n",
    "@cython.ufunc\n",
    "cdef float_num logistic2(float_num x):\n",
    "    return 1.0 / (1.0 + exp(-x))"
   ]
  },
  {
   "cell_type": "markdown",
   "metadata": {},
   "source": [
    "整数を入力した場合の結果は `float64` になりますが、`float32` を入力した場合の出力は `float32` になります。"
   ]
  },
  {
   "cell_type": "code",
   "execution_count": 31,
   "metadata": {},
   "outputs": [
    {
     "name": "stdout",
     "output_type": "stream",
     "text": [
      "float64\n",
      "float32\n"
     ]
    }
   ],
   "source": [
    "print(logistic2([-1, 0, 1]).dtype)\n",
    "print(logistic2(np.arange(-1, 2, dtype=np.float32)).dtype)"
   ]
  },
  {
   "cell_type": "markdown",
   "metadata": {},
   "source": [
    "複数の引数を持つ関数もサポートできます。例えば、次の `peaks()` 関数は 2 次元関数を計算します。  "
   ]
  },
  {
   "cell_type": "code",
   "execution_count": 32,
   "metadata": {
    "collapsed": false,
    "group_control": {
     "group": 0
    },
    "jupyter": {
     "outputs_hidden": false
    }
   },
   "outputs": [],
   "source": [
    "%%cython --compile-args=-w\n",
    "# distutils: define_macros=NPY_NO_DEPRECATED_API=NPY_1_7_API_VERSION\n",
    "cimport cython\n",
    "from libc.math cimport exp\n",
    "\n",
    "\n",
    "@cython.ufunc\n",
    "cdef double peaks(double x, double y):\n",
    "    return x * exp(-x*x - y*y)"
   ]
  },
  {
   "cell_type": "code",
   "execution_count": 33,
   "metadata": {
    "collapsed": false,
    "group_control": {
     "group": 0
    },
    "jupyter": {
     "outputs_hidden": false
    }
   },
   "outputs": [
    {
     "data": {
      "text/plain": [
       "array([[-0.00067093, -0.00673795,  0.        ,  0.00673795,  0.00067093],\n",
       "       [-0.01347589, -0.13533528,  0.        ,  0.13533528,  0.01347589],\n",
       "       [-0.03663128, -0.36787944,  0.        ,  0.36787944,  0.03663128],\n",
       "       [-0.01347589, -0.13533528,  0.        ,  0.13533528,  0.01347589],\n",
       "       [-0.00067093, -0.00673795,  0.        ,  0.00673795,  0.00067093]])"
      ]
     },
     "execution_count": 33,
     "metadata": {},
     "output_type": "execute_result"
    }
   ],
   "source": [
    "Y, X = np.ogrid[-2:2:5j, -2:2:5j]\n",
    "peaks(X, Y)"
   ]
  },
  {
   "cell_type": "markdown",
   "metadata": {},
   "source": [
    "複数の出力がある場合、タプルでリターン型を宣言します。次の例では、二次方程式の二つの解を求める ufunc 関数を定義します。引数のデータ型は `double` ですが、リターン値は二つの `complex` 型の値です。"
   ]
  },
  {
   "cell_type": "code",
   "execution_count": 34,
   "metadata": {},
   "outputs": [],
   "source": [
    "%%cython --compile-args=-w\n",
    "# distutils: define_macros=NPY_NO_DEPRECATED_API=NPY_1_7_API_VERSION\n",
    "cimport cython\n",
    "from libc.complex cimport csqrt\n",
    "\n",
    "@cython.ufunc\n",
    "cdef (complex, complex) quadratic_roots(double a, double b, double c):\n",
    "    cdef complex t0, t1\n",
    "    t0 = csqrt(-4*a*c + b**2)\n",
    "    t1 = 0.5 / a\n",
    "    return t1*(-b - t0), t1*(-b + t0)"
   ]
  },
  {
   "cell_type": "code",
   "execution_count": 35,
   "metadata": {},
   "outputs": [
    {
     "name": "stdout",
     "output_type": "stream",
     "text": [
      "(4, 3, 2)\n",
      "(4, 3, 2)\n",
      "True\n",
      "True\n"
     ]
    }
   ],
   "source": [
    "a, b, c = np.ogrid[-1:1:4j, -1:1:3j, -1:1:2j]\n",
    "x0, x1 = quadratic_roots(a, b, c)\n",
    "print(x0.shape)\n",
    "print(x1.shape)\n",
    "print(np.allclose(a * x0 ** 2 + b * x0 + c, 0))\n",
    "print(np.allclose(a * x1 ** 2 + b * x1 + c, 0))"
   ]
  },
  {
   "cell_type": "markdown",
   "metadata": {},
   "source": [
    "### DLL内の関数の高速呼び出し\n",
    "\n",
    "Pythonの標準ライブラリ`ctypes`または拡張ライブラリ`cffi`を使用すると、ダイナミックリンクライブラリ内の関数を簡単に呼び出すことができます。ただし、実際の関数を呼び出す前に多くの前処理が必要なため、関数呼び出しの効率は高くありません。ループ内で大量に呼び出す必要がある場合、この前処理によるオーバーヘッドがプログラムの実行速度に大きく影響します。このセクションでは、`cffi`を使用してダイナミックリンクライブラリ内の関数のアドレスを取得し、そのアドレスをCythonの関数に渡してループ呼び出しを行うことで、関数呼び出しの効率を向上させる方法を紹介します。\n",
    "\n",
    "まず、C言語で関数`peaks()`を作成します。この関数のアドレスを正しく取得できることを確認するために、`get_addr()`を使用して`peaks()`のアドレスを返します："
   ]
  },
  {
   "cell_type": "code",
   "execution_count": 36,
   "metadata": {
    "collapsed": false,
    "group_control": {
     "group": 0
    },
    "jupyter": {
     "outputs_hidden": false
    }
   },
   "outputs": [
    {
     "name": "stdout",
     "output_type": "stream",
     "text": [
      "Overwriting peaks.c\n"
     ]
    }
   ],
   "source": [
    "%%writefile peaks.c\n",
    "#include <math.h>\n",
    "double peaks(double x, double y)\n",
    "{\n",
    "    return x * exp(-x*x - y*y);\n",
    "}\n",
    "\n",
    "unsigned long long get_addr()\n",
    "{\n",
    "    return (unsigned long long)(void *)peaks;\n",
    "}"
   ]
  },
  {
   "cell_type": "markdown",
   "metadata": {},
   "source": [
    "次に、`gcc`を呼び出して`peaks.c`を`peaks.dll`にコンパイルします："
   ]
  },
  {
   "cell_type": "code",
   "execution_count": 37,
   "metadata": {
    "collapsed": false,
    "group_control": {
     "group": 0
    },
    "jupyter": {
     "outputs_hidden": false
    }
   },
   "outputs": [],
   "source": [
    "!gcc -Ofast -shared -o peaks.dll peaks.c"
   ]
  },
  {
   "cell_type": "markdown",
   "metadata": {},
   "source": [
    "次に、`cffi`を使用して`peaks.dll`を読み込み、関数シグネチャを設定し、最後にその関数を呼び出します："
   ]
  },
  {
   "cell_type": "code",
   "execution_count": 38,
   "metadata": {
    "collapsed": false,
    "group_control": {
     "group": 0
    },
    "jupyter": {
     "outputs_hidden": false
    }
   },
   "outputs": [
    {
     "data": {
      "text/plain": [
       "0.006737946999085467"
      ]
     },
     "execution_count": 38,
     "metadata": {},
     "output_type": "execute_result"
    }
   ],
   "source": [
    "import cffi\n",
    "\n",
    "ffi = cffi.FFI()\n",
    "ffi.cdef(\n",
    "    \"\"\"\n",
    "unsigned long long get_addr();\n",
    "double peaks(double x, double y);\n",
    "\"\"\"\n",
    ")\n",
    "lib = ffi.dlopen(\"peaks.dll\")\n",
    "lib.peaks(1.0, 2.0)"
   ]
  },
  {
   "cell_type": "markdown",
   "metadata": {},
   "source": [
    "`lib.peaks`は、C言語の関数アドレスをラップした`cffi`のオブジェクトです。`ffi.addressof()`を使用してこの関数へのポインタを取得し、`ffi.cast()`を使用してポインタを整数に変換できます。以下のプログラムは、C言語関数のアドレスを取得し、`get_addr()`の戻り値と比較します："
   ]
  },
  {
   "cell_type": "code",
   "execution_count": 39,
   "metadata": {},
   "outputs": [],
   "source": [
    "peak_addr = ffi.cast(\"size_t\", ffi.addressof(lib, \"peaks\"))\n",
    "assert peak_addr == lib.get_addr()"
   ]
  },
  {
   "cell_type": "markdown",
   "metadata": {},
   "source": [
    "以下は、Cythonで`vectorize_2d()`関数を作成する例です。`func_addr`パラメータは関数アドレスを表す整数で、`x`と`y`は2次元の連続した配列です。\n",
    "\n",
    "❶まず、`ctypedef`キーワードを使用して、二項倍精度浮動小数点数関数ポインタ型`Function`を宣言します。❷次に、パラメータ`func_addr`を`Function`型の関数ポインタに変換し、その後、二重ループ内でこの関数ポインタを使用して、それが指すC言語関数を高速に呼び出すことができます。"
   ]
  },
  {
   "cell_type": "code",
   "execution_count": 40,
   "metadata": {
    "collapsed": false,
    "group_control": {
     "group": 0
    },
    "jupyter": {
     "outputs_hidden": false
    }
   },
   "outputs": [],
   "source": [
    "%%cython\n",
    "import cython\n",
    "import numpy as np\n",
    "\n",
    "ctypedef double(*Function)(double x, double y)      #❶\n",
    "\n",
    "@cython.wraparound(False)\n",
    "@cython.boundscheck(False)\n",
    "def vectorize_2d(size_t func_addr, double[:, ::1] x, double[:, ::1] y):\n",
    "    cdef double[:, ::1] res = np.zeros_like(x.base)\n",
    "    cdef Function func_ptr = <Function><void *>func_addr #❷\n",
    "    cdef int i, j\n",
    "    \n",
    "    for i in range(x.shape[0]):\n",
    "        for j in range(x.shape[1]):\n",
    "            res[i, j] = func_ptr(x[i, j], y[i, j])\n",
    "            \n",
    "    return res.base"
   ]
  },
  {
   "cell_type": "markdown",
   "metadata": {},
   "source": [
    "以下は、`vectorize_2d()`を使用して`peaks()`を呼び出し、`vectorize()`を使用して作成したufunc関数の結果と比較する例です："
   ]
  },
  {
   "cell_type": "code",
   "execution_count": 41,
   "metadata": {
    "collapsed": false,
    "group_control": {
     "group": 0
    },
    "jupyter": {
     "outputs_hidden": false
    }
   },
   "outputs": [
    {
     "data": {
      "text/plain": [
       "True"
      ]
     },
     "execution_count": 41,
     "metadata": {},
     "output_type": "execute_result"
    }
   ],
   "source": [
    "Y, X = np.mgrid[-2:2:200j, -2:2:200j]\n",
    "vectorize_peaks = np.vectorize(lib.peaks, otypes=[\"f8\"])\n",
    "np.allclose(vectorize_peaks(X, Y), vectorize_2d(peak_addr, X, Y))"
   ]
  },
  {
   "cell_type": "markdown",
   "metadata": {},
   "source": [
    "本書で提供されている`FuncAddr`クラスを使用すると、ダイナミックリンクライブラリ内の関数のアドレスをより簡単に取得できます："
   ]
  },
  {
   "cell_type": "code",
   "execution_count": 42,
   "metadata": {},
   "outputs": [
    {
     "data": {
      "text/plain": [
       "True"
      ]
     },
     "execution_count": 42,
     "metadata": {},
     "output_type": "execute_result"
    }
   ],
   "source": [
    "from helper.cffi import FuncAddr\n",
    "\n",
    "msvcrt = FuncAddr(\"msvcrt.dll\")\n",
    "np.allclose(np.arctan2(X, Y), vectorize_2d(msvcrt.atan2, X, Y))"
   ]
  },
  {
   "cell_type": "markdown",
   "metadata": {},
   "source": [
    "### BLAS関数の呼び出し\n",
    "\n",
    "BLASは、基本的な線形代数ルーチンのAPI標準であり、SciPyの多くの高速線形代数演算関数は、Fortranで書かれたBLAS関数を内部で呼び出しています。これらのFortran関数の計算効率は高いですが、Pythonの呼び出しインターフェースによるオーバーヘッドは無視できず、大量のループで呼び出す場合にはこのオーバーヘッドが問題となります。Cythonを使用してこれらの関数をループ内で呼び出すことで、Pythonの呼び出しインターフェースの制約から完全に解放されます。"
   ]
  },
  {
   "cell_type": "markdown",
   "metadata": {},
   "source": [
    "#### `saxpy()`関数のラッピング\n",
    "\n",
    "BLASのAPI関数は`scipy.linalg.blas`モジュールを通じてアクセスできます。以下は、その中の`saxpy()`を呼び出すデモンストレーションです："
   ]
  },
  {
   "cell_type": "code",
   "execution_count": 43,
   "metadata": {
    "collapsed": false,
    "group_control": {
     "group": 0
    },
    "jupyter": {
     "outputs_hidden": false
    }
   },
   "outputs": [
    {
     "name": "stdout",
     "output_type": "stream",
     "text": [
      "<fortran function saxpy>\n"
     ]
    },
    {
     "data": {
      "text/plain": [
       "array([1.5, 4. , 6.5], dtype=float32)"
      ]
     },
     "execution_count": 43,
     "metadata": {},
     "output_type": "execute_result"
    }
   ],
   "source": [
    "from scipy.linalg import blas\n",
    "import numpy as np\n",
    "\n",
    "x = np.array([1, 2, 3], np.float32)\n",
    "y = np.array([1, 3, 5], np.float32)\n",
    "print(blas.saxpy)\n",
    "blas.saxpy(x, y, a=0.5)"
   ]
  },
  {
   "cell_type": "markdown",
   "metadata": {},
   "source": [
    "`saxpy`は`<fortran object>`であり、呼び出すたびにPythonのオブジェクトをFortran関数のパラメータに変換するため、ループ内で大量に呼び出すには適していません。\n",
    "\n",
    "`scipy.linalg`には、Cythonから呼び出すための`cython_blas`モジュールも提供されています。その中の`saxpy()`の関数シグネチャは以下の通りです：\n",
    "\n",
    "```cython\n",
    "ctypedef float s\n",
    "cdef void saxpy(int *n, s *sa, s *sx, int *incx, s *sy, int *incy) nogil\n",
    "```\n",
    "\n",
    "Fortran言語は参照渡しを使用するため、関数呼び出し時に渡されるパラメータと関数内で受け取るパラメータは同じメモリアドレスです。したがって、関数シグネチャではすべてのパラメータがポインタとして定義されています。\n",
    "\n",
    "以下のプログラムでは、`blas_saxpy()`が`cython_blas`モジュール内の`saxpy()`を簡単にラップしています。計算速度を比較するために、`cython_saxpy()`はループを使用して計算を行います："
   ]
  },
  {
   "cell_type": "code",
   "execution_count": 44,
   "metadata": {},
   "outputs": [],
   "source": [
    "%%cython\n",
    "import cython\n",
    "cimport scipy.linalg.cython_blas as blas\n",
    "\n",
    "def blas_saxpy(float[:] y, float a, float[:] x):\n",
    "    cdef int n = y.shape[0]\n",
    "    cdef int inc_x = x.strides[0] // sizeof(float)\n",
    "    cdef int inc_y = y.strides[0] // sizeof(float)\n",
    "    blas.saxpy(&n, &a, &x[0], &inc_x, &y[0], &inc_y)\n",
    "    \n",
    "@cython.wraparound(False)\n",
    "@cython.boundscheck(False)\n",
    "def cython_saxpy(float[:] y, float a, float[:] x):\n",
    "    cdef int i\n",
    "    for i in range(y.shape[0]):\n",
    "        y[i] += a * x[i]"
   ]
  },
  {
   "cell_type": "markdown",
   "metadata": {},
   "source": [
    "以下で両者の実行速度を比較します。Cythonのループで実装した関数の方が速いです。"
   ]
  },
  {
   "cell_type": "code",
   "execution_count": 45,
   "metadata": {},
   "outputs": [
    {
     "name": "stdout",
     "output_type": "stream",
     "text": [
      "164 μs ± 7.5 μs per loop (mean ± std. dev. of 7 runs, 10,000 loops each)\n",
      "96 μs ± 1.39 μs per loop (mean ± std. dev. of 7 runs, 10,000 loops each)\n"
     ]
    }
   ],
   "source": [
    "a = np.arange(100000, dtype=np.float32)\n",
    "b = np.zeros_like(a)\n",
    "%timeit blas_saxpy(b, 0.2, a)\n",
    "%timeit cython_saxpy(b, 0.2, a)"
   ]
  },
  {
   "cell_type": "markdown",
   "metadata": {},
   "source": [
    "#### `dgemm()`高速行列積\n",
    "\n",
    "BLASの`DGEMM()`は以下の行列積演算を実装しています。パラメータ`alpha`が1、`beta`が0の場合、結果`C`は行列`A`と`B`の積となります：\n",
    "\n",
    "```\n",
    "C = alpha*op(A)*op(B) + beta*C\n",
    "```\n",
    "\n",
    "ここで、`op()`は行列を転置することができます。Fortran形式の配列とC言語形式の配列の軸の順序が逆であるため、2つのC言語の配列で表される行列の積を計算するには、`op()`を転置に設定する必要があります。転置するかどうかに関わらず、演算結果`C`はFortran形式の配列となります。\n",
    "\n",
    "Fortran関数`dgemm()`のパラメータは以下の通りです：\n",
    "\n",
    "```fortran\n",
    "subroutine dgemm\t(\n",
    "    character \tTRANSA,\n",
    "    character \tTRANSB,\n",
    "    integer \tM,\n",
    "    integer \tN,\n",
    "    integer \tK,\n",
    "    double precision \tALPHA,\n",
    "    double precision, dimension(lda,*) \tA,\n",
    "    integer \tLDA,\n",
    "    double precision, dimension(ldb,*) \tB,\n",
    "    integer \tLDB,\n",
    "    double precision \tBETA,\n",
    "    double precision, dimension(ldc,*) \tC,\n",
    "    integer \tLDC \n",
    ")\n",
    "```\n",
    "\n",
    "以下は、`cython_blas`モジュール内の関数シグネチャです：\n",
    "\n",
    "```cython\n",
    "ctypedef double d\n",
    "cdef void dgemm(\n",
    "    char *transa, \n",
    "    char *transb, \n",
    "    int *m, \n",
    "    int *n, \n",
    "    int *k, \n",
    "    d *alpha, \n",
    "    d *a, \n",
    "    int *lda, \n",
    "    d *b, \n",
    "    int *ldb, \n",
    "    d *beta, \n",
    "    d *c, \n",
    "    int *ldc) nogil\n",
    "```"
   ]
  },
  {
   "cell_type": "markdown",
   "metadata": {},
   "source": [
    "以下のCython関数`dgemm(A, B, index)`では、`A`と`B`はC言語形式の3次元配列で、形状はそれぞれ`(La, M, K)`と`(Lb, K, N)`です。`index`は形状が`(Lc, 2)`の整数配列です。この関数は、`index`内の各整数ペア`j, k`に対して`C[i] = A[j] * B[k]`を計算します。ここで、`i`はその整数ペアのインデックスです。したがって、関数の戻り値`C`は形状が`(Lc, N, M)`の3次元配列です。`C`は`Lc`個のFortran形式の2次元配列と見なすことができます。\n",
    "\n",
    "メモリビューの要素にアクセスする際にはPythonに関連する操作は行われず、各行列の積演算は互いに独立しているため、この部分を並列化することができます。CythonはOpenMPを使用して並列化を実装しているため、コンパイル時に`-fopenmp`オプションを設定する必要があります。\n",
    "\n",
    "❶並列化された`prange()`関数を読み込みます。この関数は並列化されたループにコンパイルされます。❷`nogil`パラメータを`True`に設定し、並列化中にPythonのグローバルロックを解放することを示します。"
   ]
  },
  {
   "cell_type": "code",
   "execution_count": 46,
   "metadata": {},
   "outputs": [],
   "source": [
    "%%cython -c-Ofast -c-fopenmp --link-args=-fopenmp\n",
    "\n",
    "from cython.parallel import prange #❶\n",
    "import cython\n",
    "import numpy as np\n",
    "cimport scipy.linalg.cython_blas as blas\n",
    "\n",
    "@cython.wraparound(False)\n",
    "@cython.boundscheck(False)\n",
    "def dgemm(double[:, :, :] A, double[:, :, :] B, int[:, ::1] index):\n",
    "    cdef int m, n, k, i, length, idx_a, idx_b\n",
    "    cdef double[:, :, :] C\n",
    "    cdef char ta, tb\n",
    "    cdef double alpha = 1.0\n",
    "    cdef double beta = 0.0\n",
    "        \n",
    "    length = index.shape[0]\n",
    "    m, k, n  = A.shape[1], A.shape[2], B.shape[2]        \n",
    "    \n",
    "    C = np.zeros((length, n, m))\n",
    "    \n",
    "    ta = b\"T\"\n",
    "    tb = ta\n",
    "    \n",
    "    for i in prange(length, nogil=True): #❷\n",
    "        idx_a = index[i, 0]\n",
    "        idx_b = index[i, 1]\n",
    "        blas.dgemm(&ta, &tb, &m, &n, &k, &alpha, \n",
    "               &A[idx_a, 0, 0], &k, \n",
    "               &B[idx_b, 0, 0], &n, \n",
    "               &beta,\n",
    "               &C[i, 0, 0], &m)\n",
    "    \n",
    "    return C.base"
   ]
  },
  {
   "cell_type": "markdown",
   "metadata": {},
   "source": [
    "NumPyに新しく追加されたgufunc関数は、単一の行列の演算をブロードキャストして配列全体に適用することができます。NumPyに新しく追加された行列積演算子`@`は、行列積のブロードキャスト演算を実現します。同様の機能は、上記の`dgemm()`を使用して実現することもできます。以下の`matrix_multiply(a, b)`は、2つの任意の次元数の配列の最後の2つの軸に対して行列積演算を行い、他の軸に対してブロードキャスト演算を行います。例えば、`a`の形状が`(12,  1, 10, 100, 30)`で、`b`の形状が`( 1, 15,  1,  30, 50)`の場合、最後の2つの軸に対応する行列積の結果の形状は`(100, 50)`であり、他の軸のブロードキャスト後の形状は`(12, 15, 10)`であるため、結果の配列の形状は`(12, 15, 10, 100, 50)`となります。合計で$12 \\times 15 \\times 10$回の行列積演算が行われます。\n",
    "\n",
    "このプログラムの実装の考え方は以下の通りです。詳細は読者自身で研究してください：\n",
    "\n",
    "* `a`内の各行列に番号を付け、その番号の形状を`a`のブロードキャスト部分の形状に変更して`idx_a`を得ます。\n",
    "* `b`に対しても同様の操作を行い、`idx_b`を得ます。\n",
    "* `broadcast_arrays()`を使用して、`idx_a`と`idx_b`のブロードキャスト後の配列を計算します。\n",
    "* 上記の2つの配列を平坦化して2列に並べ、`dgemm()`関数の`index`パラメータを得ます。\n",
    "* `a`と`b`の形状を3次元配列に変更して`dgemm()`関数に渡し、行列積を計算します。"
   ]
  },
  {
   "cell_type": "code",
   "execution_count": 47,
   "metadata": {
    "collapsed": false,
    "group_control": {
     "group": 0
    },
    "jupyter": {
     "outputs_hidden": false
    }
   },
   "outputs": [],
   "source": [
    "def matrix_multiply(a, b):\n",
    "    if a.ndim <= 2 and b.ndim <= 2:\n",
    "        return np.dot(a, b)\n",
    "\n",
    "    a = np.ascontiguousarray(a).astype(np.float64, copy=False)\n",
    "    b = np.ascontiguousarray(b).astype(np.float64, copy=False)\n",
    "    if a.ndim == 2:\n",
    "        a = a[None, :, :]\n",
    "    if b.ndim == 2:\n",
    "        b = b[None, :, :]\n",
    "\n",
    "    shape_a = a.shape[:-2]\n",
    "    shape_b = b.shape[:-2]\n",
    "    len_a = np.prod(shape_a)\n",
    "    len_b = np.prod(shape_b)\n",
    "\n",
    "    idx_a = np.arange(len_a, dtype=np.int32).reshape(shape_a)\n",
    "    idx_b = np.arange(len_b, dtype=np.int32).reshape(shape_b)\n",
    "    idx_a, idx_b = np.broadcast_arrays(idx_a, idx_b)\n",
    "\n",
    "    index = np.column_stack((idx_a.ravel(), idx_b.ravel()))\n",
    "    bshape = idx_a.shape\n",
    "\n",
    "    if a.ndim > 3:\n",
    "        a = a.reshape(-1, a.shape[-2], a.shape[-1])\n",
    "    if b.ndim > 3:\n",
    "        b = b.reshape(-1, b.shape[-2], b.shape[-1])\n",
    "\n",
    "    if a.shape[-1] != b.shape[-2]:\n",
    "        raise ValueError(\"can't do matrix multiply because k isn't the same\")\n",
    "\n",
    "    c = dgemm(a, b, index)\n",
    "    c = np.swapaxes(c, -2, -1)\n",
    "    c.shape = bshape + c.shape[-2:]\n",
    "    return c"
   ]
  },
  {
   "cell_type": "markdown",
   "metadata": {},
   "source": [
    "以下で`matrix_multiply()`と`@`演算子の計算結果を比較します："
   ]
  },
  {
   "cell_type": "code",
   "execution_count": 48,
   "metadata": {
    "collapsed": false,
    "group_control": {
     "group": 0
    },
    "jupyter": {
     "outputs_hidden": false
    }
   },
   "outputs": [
    {
     "data": {
      "text/plain": [
       "True"
      ]
     },
     "execution_count": 48,
     "metadata": {},
     "output_type": "execute_result"
    }
   ],
   "source": [
    "a = np.random.rand(12, 1, 10, 100, 30)\n",
    "b = np.random.rand(1, 15, 1, 30, 50)\n",
    "np.allclose(matrix_multiply(a, b), a @ b)"
   ]
  },
  {
   "cell_type": "markdown",
   "metadata": {},
   "source": [
    "以下は両者の実行速度の比較です。`matrix_multiply()`はNumPyの組み込み行列積演算子より高速です："
   ]
  },
  {
   "cell_type": "code",
   "execution_count": 49,
   "metadata": {
    "collapsed": false,
    "group_control": {
     "group": 0
    },
    "jupyter": {
     "outputs_hidden": false
    }
   },
   "outputs": [
    {
     "name": "stdout",
     "output_type": "stream",
     "text": [
      "177 ms ± 4.57 ms per loop (mean ± std. dev. of 7 runs, 10 loops each)\n",
      "414 ms ± 116 ms per loop (mean ± std. dev. of 7 runs, 1 loop each)\n"
     ]
    }
   ],
   "source": [
    "%timeit matrix_multiply(a, b)\n",
    "%timeit a @ b"
   ]
  }
 ],
 "metadata": {
  "kernelspec": {
   "display_name": "Python 3 (ipykernel)",
   "language": "python",
   "name": "python3"
  },
  "language_info": {
   "codemirror_mode": {
    "name": "ipython",
    "version": 3
   },
   "file_extension": ".py",
   "mimetype": "text/x-python",
   "name": "python",
   "nbconvert_exporter": "python",
   "pygments_lexer": "ipython3",
   "version": "3.13.2"
  },
  "widgets": {
   "application/vnd.jupyter.widget-state+json": {
    "state": {},
    "version_major": 2,
    "version_minor": 0
   }
  }
 },
 "nbformat": 4,
 "nbformat_minor": 4
}
