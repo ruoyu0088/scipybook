{
 "cells": [
  {
   "cell_type": "markdown",
   "metadata": {},
   "source": [
    "# SymPyで記号演算\n",
    "\n",
    "SymPyはPythonの数学記号計算ライブラリであり、数学式の記号導出や演算を行うことができます。一部の専門的な記号演算ソフトウェアと比較すると、SymPyの機能や演算速度はまだ劣りますが、完全にPythonで書かれているため、他のPython科学計算ライブラリと組み合わせて使用することができます。例えば、この章の最後の節では、SymPyを使用して単振り子システムの微分方程式を取得し、それを自動的に数値演算プログラムに変換し、SciPyの積分モジュールを使用してその微分方程式を解く方法を紹介します。"
   ]
  },
  {
   "cell_type": "code",
   "execution_count": 1,
   "metadata": {},
   "outputs": [
    {
     "data": {
      "text/plain": [
       "'1.13.3'"
      ]
     },
     "execution_count": 1,
     "metadata": {},
     "output_type": "execute_result"
    }
   ],
   "source": [
    "import numpy as np\n",
    "from matplotlib import pyplot as plt\n",
    "import helper.matplotlib\n",
    "import helper.magics\n",
    "from sympy import *\n",
    "import sympy\n",
    "\n",
    "sympy.__version__"
   ]
  },
  {
   "cell_type": "markdown",
   "metadata": {},
   "source": [
    "## 例から始める\n",
    "\n",
    "SymPyの構文構造や各種演算機能を詳しく説明する前に、この節ではいくつかの例を通じてSymPyで記号演算問題を解決する一般的な手順を説明します。"
   ]
  },
  {
   "cell_type": "markdown",
   "metadata": {},
   "source": [
    "### 表紙の古典的な公式\n",
    "\n",
    "以下は本書の表紙の左上隅にある数学公式です：\n",
    "\n",
    "$$e^{\\mathrm{i} \\pi} + 1 = 0$$\n",
    "    \n",
    "この公式はオイラーの等式と呼ばれ、$e$は自然定数、$\\mathrm{i}$は虚数単位、$\\pi$は円周率です。これは数学の中で最も美しい公式とされ、5つの基本的な数学定数を加算、乗算、べき乗で結びつけています。以下ではSymPyを使用してこの公式を検証します。\n",
    " \n",
    "まず`sympy`ライブラリからすべての名前を読み込みます。`E`は自然定数、`I`は虚数単位、`pi`は円周率を表すため、これらを使用して直接オイラーの公式の値を計算できます："
   ]
  },
  {
   "cell_type": "code",
   "execution_count": 2,
   "metadata": {
    "collapsed": false,
    "jupyter": {
     "outputs_hidden": false
    }
   },
   "outputs": [
    {
     "data": {
      "text/latex": [
       "$\\displaystyle 0$"
      ],
      "text/plain": [
       "0"
      ]
     },
     "execution_count": 2,
     "metadata": {},
     "output_type": "execute_result"
    }
   ],
   "source": [
    "from sympy import *\n",
    "\n",
    "E ** (I * pi) + 1"
   ]
  },
  {
   "cell_type": "markdown",
   "metadata": {},
   "source": [
    "SymPyは数学公式の導出と証明も支援します。オイラーの等式は、$\\pi$を以下のオイラーの公式に代入することで得られます：\n",
    "\n",
    "$$e^{{\\mathrm{i}}x}=\\cos x+ {\\mathrm{i}} \\sin x$$\n",
    "       \n",
    "SymPyでは`expand()`を使用して式を展開できます。以下では$e^{{\\mathrm{i}}x}$を展開してみます："
   ]
  },
  {
   "cell_type": "code",
   "execution_count": 3,
   "metadata": {
    "collapsed": false,
    "jupyter": {
     "outputs_hidden": false
    }
   },
   "outputs": [
    {
     "data": {
      "text/latex": [
       "$\\displaystyle e^{i x}$"
      ],
      "text/plain": [
       "exp(I*x)"
      ]
     },
     "execution_count": 3,
     "metadata": {},
     "output_type": "execute_result"
    }
   ],
   "source": [
    "x = symbols(\"x\")\n",
    "expand(E ** (I * x))"
   ]
  },
  {
   "cell_type": "markdown",
   "metadata": {},
   "source": [
    "残念ながら成功しませんでしたが、`expand()`のパラメータ`complex`を`True`に設定すると、式が実数部と虚数部に分かれます："
   ]
  },
  {
   "cell_type": "code",
   "execution_count": 4,
   "metadata": {
    "collapsed": false,
    "jupyter": {
     "outputs_hidden": false
    }
   },
   "outputs": [
    {
     "data": {
      "text/latex": [
       "$\\displaystyle i e^{- \\operatorname{im}{\\left(x\\right)}} \\sin{\\left(\\operatorname{re}{\\left(x\\right)} \\right)} + e^{- \\operatorname{im}{\\left(x\\right)}} \\cos{\\left(\\operatorname{re}{\\left(x\\right)} \\right)}$"
      ],
      "text/plain": [
       "I*exp(-im(x))*sin(re(x)) + exp(-im(x))*cos(re(x))"
      ]
     },
     "execution_count": 4,
     "metadata": {},
     "output_type": "execute_result"
    }
   ],
   "source": [
    "expand(exp(I * x), complex=True)"
   ]
  },
  {
   "cell_type": "markdown",
   "metadata": {},
   "source": [
    "今度は式が展開されましたが、結果は非常に複雑です。$\\operatorname{re}{\\left(\\right)}$は実数値を取る関数、$\\operatorname{im}{\\left(\\right)}$は虚数値を取る関数です。これらが現れる理由は、`expand()`が$x$を複素数として扱うためです。$x$を実数として指定するには、以下のように$x$を再定義する必要があります："
   ]
  },
  {
   "cell_type": "code",
   "execution_count": 5,
   "metadata": {
    "collapsed": false,
    "jupyter": {
     "outputs_hidden": false
    }
   },
   "outputs": [
    {
     "data": {
      "text/latex": [
       "$\\displaystyle i \\sin{\\left(x \\right)} + \\cos{\\left(x \\right)}$"
      ],
      "text/plain": [
       "I*sin(x) + cos(x)"
      ]
     },
     "execution_count": 5,
     "metadata": {},
     "output_type": "execute_result"
    }
   ],
   "source": [
    "x = Symbol(\"x\", real=True)\n",
    "expand(exp(I * x), complex=True)"
   ]
  },
  {
   "cell_type": "markdown",
   "metadata": {},
   "source": [
    "ようやくオイラーの公式が得られましたが、それを証明するにはどうすればよいでしょうか？テイラー多項式を使用して展開することができます："
   ]
  },
  {
   "cell_type": "code",
   "execution_count": 6,
   "metadata": {
    "collapsed": false,
    "jupyter": {
     "outputs_hidden": false
    }
   },
   "outputs": [
    {
     "data": {
      "text/latex": [
       "$\\displaystyle 1 + i x - \\frac{x^{2}}{2} - \\frac{i x^{3}}{6} + \\frac{x^{4}}{24} + \\frac{i x^{5}}{120} - \\frac{x^{6}}{720} - \\frac{i x^{7}}{5040} + \\frac{x^{8}}{40320} + \\frac{i x^{9}}{362880} + O\\left(x^{10}\\right)$"
      ],
      "text/plain": [
       "1 + I*x - x**2/2 - I*x**3/6 + x**4/24 + I*x**5/120 - x**6/720 - I*x**7/5040 + x**8/40320 + I*x**9/362880 + O(x**10)"
      ]
     },
     "execution_count": 6,
     "metadata": {},
     "output_type": "execute_result"
    }
   ],
   "source": [
    "tmp = series(exp(I * x), x, 0, 10)\n",
    "tmp"
   ]
  },
  {
   "cell_type": "markdown",
   "metadata": {},
   "source": [
    "展開後、虚数項と実数項が交互に現れます。オイラーの公式によれば、虚数項の和は$\\sin{x}$のテイラー級数に等しく、実数項の和は$\\cos{x}$のテイラー展開に等しいはずです。以下で`tmp`の実部を取得します："
   ]
  },
  {
   "cell_type": "code",
   "execution_count": 7,
   "metadata": {
    "collapsed": false,
    "jupyter": {
     "outputs_hidden": false
    }
   },
   "outputs": [
    {
     "data": {
      "text/latex": [
       "$\\displaystyle \\frac{x^{8}}{40320} - \\frac{x^{6}}{720} + \\frac{x^{4}}{24} - \\frac{x^{2}}{2} + \\operatorname{re}{\\left(O\\left(x^{10}\\right)\\right)} + 1$"
      ],
      "text/plain": [
       "x**8/40320 - x**6/720 + x**4/24 - x**2/2 + re(O(x**10)) + 1"
      ]
     },
     "execution_count": 7,
     "metadata": {},
     "output_type": "execute_result"
    }
   ],
   "source": [
    "re(tmp)"
   ]
  },
  {
   "cell_type": "markdown",
   "metadata": {},
   "source": [
    "次に$\\cos{x}$をテイラー展開し、その各項が上の結果と一致することを確認します："
   ]
  },
  {
   "cell_type": "code",
   "execution_count": 8,
   "metadata": {
    "collapsed": false,
    "jupyter": {
     "outputs_hidden": false
    }
   },
   "outputs": [
    {
     "data": {
      "text/latex": [
       "$\\displaystyle 1 - \\frac{x^{2}}{2} + \\frac{x^{4}}{24} - \\frac{x^{6}}{720} + \\frac{x^{8}}{40320} + O\\left(x^{10}\\right)$"
      ],
      "text/plain": [
       "1 - x**2/2 + x**4/24 - x**6/720 + x**8/40320 + O(x**10)"
      ]
     },
     "execution_count": 8,
     "metadata": {},
     "output_type": "execute_result"
    }
   ],
   "source": [
    "series(cos(x), x, 0, 10)"
   ]
  },
  {
   "cell_type": "markdown",
   "metadata": {},
   "source": [
    "次に`tmp`の虚部を取得します："
   ]
  },
  {
   "cell_type": "code",
   "execution_count": 9,
   "metadata": {
    "collapsed": false,
    "jupyter": {
     "outputs_hidden": false
    }
   },
   "outputs": [
    {
     "data": {
      "text/latex": [
       "$\\displaystyle \\frac{x^{9}}{362880} - \\frac{x^{7}}{5040} + \\frac{x^{5}}{120} - \\frac{x^{3}}{6} + x + \\operatorname{im}{\\left(O\\left(x^{10}\\right)\\right)}$"
      ],
      "text/plain": [
       "x**9/362880 - x**7/5040 + x**5/120 - x**3/6 + x + im(O(x**10))"
      ]
     },
     "execution_count": 9,
     "metadata": {},
     "output_type": "execute_result"
    }
   ],
   "source": [
    "im(tmp)"
   ]
  },
  {
   "cell_type": "markdown",
   "metadata": {},
   "source": [
    "次に$\\sin{x}$をテイラー展開し、その各項も上の結果と一致することを確認します："
   ]
  },
  {
   "cell_type": "code",
   "execution_count": 10,
   "metadata": {
    "collapsed": false,
    "jupyter": {
     "outputs_hidden": false
    }
   },
   "outputs": [
    {
     "data": {
      "text/latex": [
       "$\\displaystyle x - \\frac{x^{3}}{6} + \\frac{x^{5}}{120} - \\frac{x^{7}}{5040} + \\frac{x^{9}}{362880} + O\\left(x^{10}\\right)$"
      ],
      "text/plain": [
       "x - x**3/6 + x**5/120 - x**7/5040 + x**9/362880 + O(x**10)"
      ]
     },
     "execution_count": 10,
     "metadata": {},
     "output_type": "execute_result"
    }
   ],
   "source": [
    "series(sin(x), x, 0, 10)"
   ]
  },
  {
   "cell_type": "markdown",
   "metadata": {},
   "source": [
    "$e^{{\\mathrm{i}}x}$の展開式の実部と虚部がそれぞれ$\\cos{x}$と$\\sin{x}$に等しいため、オイラーの公式の正しさが検証されました。"
   ]
  },
  {
   "cell_type": "markdown",
   "metadata": {},
   "source": [
    "### 球体の体積"
   ]
  },
  {
   "cell_type": "markdown",
   "metadata": {},
   "source": [
    "SciPyの章では、数値積分を使用して球体の体積を計算する方法を紹介しましたが、SymPyの`integrate()`は記号積分を計算できます。例えば、以下の文は`integrate()`を使用して不定積分を計算します："
   ]
  },
  {
   "cell_type": "code",
   "execution_count": 11,
   "metadata": {
    "collapsed": false,
    "jupyter": {
     "outputs_hidden": false
    }
   },
   "outputs": [
    {
     "data": {
      "text/latex": [
       "$\\displaystyle - x \\cos{\\left(x \\right)} + \\sin{\\left(x \\right)}$"
      ],
      "text/plain": [
       "-x*cos(x) + sin(x)"
      ]
     },
     "execution_count": 11,
     "metadata": {},
     "output_type": "execute_result"
    }
   ],
   "source": [
    "integrate(x * sin(x), x)"
   ]
  },
  {
   "cell_type": "markdown",
   "metadata": {},
   "source": [
    "変数`x`の範囲を指定すると、`integrate()`は定積分を計算します："
   ]
  },
  {
   "cell_type": "code",
   "execution_count": 12,
   "metadata": {
    "collapsed": false,
    "jupyter": {
     "outputs_hidden": false
    }
   },
   "outputs": [
    {
     "data": {
      "text/latex": [
       "$\\displaystyle - 2 \\pi$"
      ],
      "text/plain": [
       "-2*pi"
      ]
     },
     "execution_count": 12,
     "metadata": {},
     "output_type": "execute_result"
    }
   ],
   "source": [
    "integrate(x * sin(x), (x, 0, 2 * pi))"
   ]
  },
  {
   "cell_type": "markdown",
   "metadata": {},
   "source": [
    "球体の体積を計算するために、まず円の面積を計算する方法を見てみましょう。円の半径を`r`とすると、円上の任意の点のY座標関数は次のようになります：\n",
    "\n",
    "$$y(x) = \\sqrt{r^2 - x^2}$$\n",
    "\n",
    "関数$y(x)$を$-r$から$r$の区間で定積分することで半円の面積を得ることができます。以下のプログラムはこの定積分を計算します：まず、演算に必要な記号を定義する必要があります。`symbols()`を使用して複数の記号を一度に作成できます。半径`r`を定義する際には、`positive`パラメータを`True`に設定して、円の半径が正数であることを示します："
   ]
  },
  {
   "cell_type": "code",
   "execution_count": 13,
   "metadata": {
    "collapsed": false,
    "jupyter": {
     "outputs_hidden": false
    }
   },
   "outputs": [
    {
     "data": {
      "text/latex": [
       "$\\displaystyle \\pi r^{2}$"
      ],
      "text/plain": [
       "pi*r**2"
      ]
     },
     "execution_count": 13,
     "metadata": {},
     "output_type": "execute_result"
    }
   ],
   "source": [
    "x, y = symbols(\"x, y\")\n",
    "r = symbols(\"r\", positive=True)\n",
    "circle_area = 2 * integrate(sqrt(r**2 - x**2), (x, -r, r))\n",
    "circle_area"
   ]
  },
  {
   "cell_type": "markdown",
   "metadata": {},
   "source": [
    "次に、この面積公式を定積分することで球体の体積を得ることができますが、X軸座標が変化すると、対応する断面の半径も変化します。X軸の座標を`x`、球体の半径を`r`とすると、`x`の位置での断面の半径は前述の公式`y(x)`を使用して計算できます。したがって、`circle_area`の変数`r`を置換する必要があります："
   ]
  },
  {
   "cell_type": "code",
   "execution_count": 14,
   "metadata": {
    "collapsed": false,
    "jupyter": {
     "outputs_hidden": false
    }
   },
   "outputs": [
    {
     "data": {
      "text/latex": [
       "$\\displaystyle \\pi \\left(r^{2} - x^{2}\\right)$"
      ],
      "text/plain": [
       "pi*(r**2 - x**2)"
      ]
     },
     "execution_count": 14,
     "metadata": {},
     "output_type": "execute_result"
    }
   ],
   "source": [
    "circle_area = circle_area.subs(r, sqrt(r**2 - x**2))\n",
    "circle_area"
   ]
  },
  {
   "cell_type": "markdown",
   "metadata": {},
   "source": [
    "次に、`circle_area`の変数`x`を$-r$から$r$の区間で定積分し、球体の体積公式を得ます："
   ]
  },
  {
   "cell_type": "code",
   "execution_count": 15,
   "metadata": {
    "collapsed": false,
    "jupyter": {
     "outputs_hidden": false
    }
   },
   "outputs": [
    {
     "data": {
      "text/latex": [
       "$\\displaystyle \\frac{4 \\pi r^{3}}{3}$"
      ],
      "text/plain": [
       "4*pi*r**3/3"
      ]
     },
     "execution_count": 15,
     "metadata": {},
     "output_type": "execute_result"
    }
   ],
   "source": [
    "integrate(circle_area, (x, -r, r))"
   ]
  },
  {
   "cell_type": "markdown",
   "metadata": {},
   "source": [
    "`subs()`は式の中の記号を置換することができ、以下の3つの呼び出し方法があります：\n",
    "\n",
    "* `expression.subs(x, y)`：式の中の`x`を`y`に置換します。\n",
    "* `expression.subs({x:y,u:v})`：辞書を使用して複数回置換します。\n",
    "* `expression.subs([(x,y),(u,v)])`：リストを使用して複数回置換します。\n",
    "\n",
    "複数回の置換は順次実行されるため、`expression.sub([(x, y), (y, x)])`は記号`x`と`y`を交換することはできません。"
   ]
  },
  {
   "cell_type": "markdown",
   "metadata": {},
   "source": [
    "### 数値微分\n",
    "\n",
    "数値微分とは、関数の離散点での関数値に基づいて、ある点での導関数や高階導関数の近似値を計算する方法です。例えば、$h$がゼロに十分近い場合、以下の公式を使用して$f(x)$の$x$での導関数$f'(x)$を計算できます：\n",
    "\n",
    "$$f'(x)\\approx \\frac {f(x+h)-f(x)}{h}$$\n",
    "\n",
    "上記の公式は2つの関数値を使用して導関数値を計算するため、2点公式と呼ばれます。使用する点数が多いほど数値微分の精度が高くなります。SymPyが提供する`as_finite_diff()`を使用してN点公式を自動的に計算できます。まず、`symbols()`を使用して3つの記号オブジェクトを定義します。`f`を定義する際には、`cls`パラメータを`Function`に設定して、それが数学関数を表す記号であることを示します。"
   ]
  },
  {
   "cell_type": "code",
   "execution_count": 16,
   "metadata": {},
   "outputs": [],
   "source": [
    "x = symbols(\"x\", real=True)\n",
    "h = symbols(\"h\", positive=True)\n",
    "f = symbols(\"f\", cls=Function)"
   ]
  },
  {
   "cell_type": "markdown",
   "metadata": {},
   "source": [
    "`f`は関数を表す記号であり、`f(x)`は独立変数が`x`の関数です。以下ではその`diff()`メソッドを呼び出して、`x`に関する1階導関数を計算します："
   ]
  },
  {
   "cell_type": "code",
   "execution_count": 17,
   "metadata": {},
   "outputs": [
    {
     "data": {
      "text/latex": [
       "$\\displaystyle \\frac{d}{d x} f{\\left(x \\right)}$"
      ],
      "text/plain": [
       "Derivative(f(x), x)"
      ]
     },
     "execution_count": 17,
     "metadata": {},
     "output_type": "execute_result"
    }
   ],
   "source": [
    "f_diff = f(x).diff(x, 1)\n",
    "f_diff"
   ]
  },
  {
   "cell_type": "markdown",
   "metadata": {},
   "source": [
    "次に、その`as_finite_difference()`メソッドを呼び出して、1階導関数を`f(x)`、`f(x-h)`、`f(x-2*h)`、`f(x-3*h)`を使用した4点公式に変換します："
   ]
  },
  {
   "cell_type": "code",
   "execution_count": 18,
   "metadata": {},
   "outputs": [
    {
     "data": {
      "text/latex": [
       "$\\displaystyle \\frac{11 f{\\left(x \\right)}}{6 h} - \\frac{f{\\left(- 3 h + x \\right)}}{3 h} + \\frac{3 f{\\left(- 2 h + x \\right)}}{2 h} - \\frac{3 f{\\left(- h + x \\right)}}{h}$"
      ],
      "text/plain": [
       "11*f(x)/(6*h) - f(-3*h + x)/(3*h) + 3*f(-2*h + x)/(2*h) - 3*f(-h + x)/h"
      ]
     },
     "execution_count": 18,
     "metadata": {},
     "output_type": "execute_result"
    }
   ],
   "source": [
    "expr_diff = f_diff.as_finite_difference([x, x - h, x - 2 * h, x - 3 * h])\n",
    "expr_diff"
   ]
  },
  {
   "cell_type": "markdown",
   "metadata": {},
   "source": [
    "以下では$f(x)=x \\cdot e^{-x^2}$を例として、数値微分と記号微分の誤差を比較します。まず、`subs()`メソッドを使用して`expr_diff`の`f(x)`を目的の関数に置換し、その`doit()`メソッドを呼び出して導関数を計算します："
   ]
  },
  {
   "cell_type": "code",
   "execution_count": 19,
   "metadata": {},
   "outputs": [
    {
     "data": {
      "text/latex": [
       "$\\displaystyle - 2 x^{2} e^{- x^{2}} + e^{- x^{2}}$"
      ],
      "text/plain": [
       "-2*x**2*exp(-x**2) + exp(-x**2)"
      ]
     },
     "execution_count": 19,
     "metadata": {},
     "output_type": "execute_result"
    }
   ],
   "source": [
    "sym_dexpr = f_diff.subs(f(x), x * exp(-(x**2))).doit()\n",
    "sym_dexpr"
   ]
  },
  {
   "cell_type": "markdown",
   "metadata": {},
   "source": [
    "次に、`lambdify()`を呼び出して、上記の`sym_dexpr`式を数値演算の関数に変換します。最初のパラメータは独立変数のリスト、2番目のパラメータは演算式です。ここでは`modules`パラメータを\"numpy\"に設定しているため、`sym_dfunc()`は配列に対して演算を行うことができます："
   ]
  },
  {
   "cell_type": "code",
   "execution_count": 20,
   "metadata": {},
   "outputs": [
    {
     "data": {
      "text/plain": [
       "array([-0.36787944,  1.        , -0.36787944])"
      ]
     },
     "execution_count": 20,
     "metadata": {},
     "output_type": "execute_result"
    }
   ],
   "source": [
    "sym_dfunc = lambdify([x], sym_dexpr, modules=\"numpy\")\n",
    "sym_dfunc(np.array([-1, 0, 1]))"
   ]
  },
  {
   "cell_type": "markdown",
   "metadata": {},
   "source": [
    "`expr_diff`は加算式であるため、その`args`属性を使用してすべての加算項を取得できます："
   ]
  },
  {
   "cell_type": "code",
   "execution_count": 21,
   "metadata": {},
   "outputs": [
    {
     "name": "stdout",
     "output_type": "stream",
     "text": [
      "(-3*f(-h + x)/h, -f(-3*h + x)/(3*h), 3*f(-2*h + x)/(2*h), 11*f(x)/(6*h))\n"
     ]
    }
   ],
   "source": [
    "print(expr_diff.args)"
   ]
  },
  {
   "cell_type": "markdown",
   "metadata": {},
   "source": [
    "上記の加算項は独立変数の小さい順に並んでいません。以下では、ワイルドカード`w`と`c`で構成されるテンプレート`c * f(w)`を使用して各加算項をマッチングし、各項の係数と関数パラメータを抽出します："
   ]
  },
  {
   "cell_type": "code",
   "execution_count": 22,
   "metadata": {},
   "outputs": [],
   "source": [
    "w = Wild(\"w\")\n",
    "c = Wild(\"c\")\n",
    "patterns = [arg.match(c * f(w)) for arg in expr_diff.args]"
   ]
  },
  {
   "cell_type": "markdown",
   "metadata": {},
   "source": [
    "各マッチング結果はワイルドカードをキーとする辞書です。例えば、以下は最初の項のマッチング結果で、この項の係数が`-3 / h`、関数`f`のパラメータが`-h + x`であることを示しています。"
   ]
  },
  {
   "cell_type": "code",
   "execution_count": 23,
   "metadata": {},
   "outputs": [
    {
     "name": "stdout",
     "output_type": "stream",
     "text": [
      "{w_: -h + x, c_: -3/h}\n"
     ]
    }
   ],
   "source": [
    "print(patterns[0])"
   ]
  },
  {
   "cell_type": "markdown",
   "metadata": {},
   "source": [
    "以下では、ワイルドカード`w`のマッチング結果を使用してソート用のキー値を計算し、ソートされたリストから各マッチング結果のワイルドカード`c`に対応する式を選択します："
   ]
  },
  {
   "cell_type": "code",
   "execution_count": 24,
   "metadata": {},
   "outputs": [
    {
     "name": "stdout",
     "output_type": "stream",
     "text": [
      "[-1/(3*h), 3/(2*h), -3/h, 11/(6*h)]\n"
     ]
    }
   ],
   "source": [
    "coefficients = [t[c] for t in sorted(patterns, key=lambda t: t[w])]\n",
    "print(coefficients)"
   ]
  },
  {
   "cell_type": "markdown",
   "metadata": {},
   "source": [
    "以下では、係数式のリストの`h`を`0.001`に置換して、係数配列を取得します。SymPyの浮動小数点演算はSymPyの`Float`オブジェクトを返すため、Pythonの`float`オブジェクトに変換するために`float()`を呼び出す必要があります："
   ]
  },
  {
   "cell_type": "code",
   "execution_count": 25,
   "metadata": {},
   "outputs": [
    {
     "name": "stdout",
     "output_type": "stream",
     "text": [
      "[ -333.33333333  1500.         -3000.          1833.33333333]\n"
     ]
    }
   ],
   "source": [
    "coeff_arr = np.array([float(coeff.subs(h, 1e-3)) for coeff in coefficients])\n",
    "print(coeff_arr)"
   ]
  },
  {
   "cell_type": "markdown",
   "metadata": {},
   "source": [
    "次に、NumPyを使用して数値微分の値を計算し、`sym_dfunc()`の演算結果と比較して、最大絶対誤差を出力します："
   ]
  },
  {
   "cell_type": "code",
   "execution_count": 26,
   "metadata": {},
   "outputs": [
    {
     "name": "stdout",
     "output_type": "stream",
     "text": [
      "4.089441674182126e-09\n"
     ]
    }
   ],
   "source": [
    "def moving_window(x, size):\n",
    "    from numpy.lib.stride_tricks import as_strided\n",
    "\n",
    "    x = np.ascontiguousarray(x)\n",
    "    return as_strided(\n",
    "        x, shape=(x.shape[0] - size + 1, size), strides=(x.itemsize, x.itemsize)\n",
    "    )\n",
    "\n",
    "\n",
    "x_arr = np.arange(-2, 2, 1e-3)\n",
    "y_arr = x_arr * np.exp(-x_arr * x_arr)\n",
    "num_res = (moving_window(y_arr, 4) * coeff_arr).sum(axis=1)\n",
    "sym_res = sym_dfunc(x_arr[3:])\n",
    "print(np.max(abs(num_res - sym_res)))"
   ]
  },
  {
   "cell_type": "markdown",
   "metadata": {},
   "source": [
    "点数と誤差の関係を比較するために、以下の`finite_diff_coefficients()`関数で間隔`h`、点数`order`の係数を計算し、2、3、4点公式に対応する誤差曲線を描画します。結果は次のグラフに示す通りで、Y軸は対数軸であることに注意してください。"
   ]
  },
  {
   "cell_type": "code",
   "execution_count": 27,
   "metadata": {},
   "outputs": [],
   "source": [
    "def finite_diff_coefficients(f_diff, order, h):\n",
    "    v = f_diff.variables[0]\n",
    "    points = [x - i * h for i in range(order)]\n",
    "    expr_diff = f_diff.as_finite_difference(points)\n",
    "    w = Wild(\"w\")\n",
    "    c = Wild(\"c\")\n",
    "    patterns = [arg.match(c * f(w)) for arg in expr_diff.args]\n",
    "    coefficients = np.array([float(t[c]) for t in sorted(patterns, key=lambda t: t[w])])\n",
    "    return coefficients"
   ]
  },
  {
   "cell_type": "code",
   "execution_count": 28,
   "metadata": {},
   "outputs": [
    {
     "data": {
      "image/png": "[encoded data removed]",
      "text/plain": [
       "<Figure size 800x400 with 1 Axes>"
      ]
     },
     "metadata": {},
     "output_type": "display_data"
    }
   ],
   "source": [
    "fig, ax = plt.subplots(figsize=(8, 4))\n",
    "for order in [2, 3, 4]:\n",
    "    coeff_arr = finite_diff_coefficients(f_diff, order, 0.001)\n",
    "\n",
    "    x_arr = np.arange(-2, 2, 1e-3)\n",
    "    y_arr = x_arr * np.exp(-x_arr * x_arr)\n",
    "    num_res = (moving_window(y_arr, order) * coeff_arr).sum(axis=1)\n",
    "    sym_res = sym_dfunc(x_arr[order - 1 :])\n",
    "    error = np.abs(num_res - sym_res)\n",
    "    ax.semilogy(x_arr[order - 1 :], error, label=f\"order={order}\")\n",
    "\n",
    "ax.grid(True)\n",
    "ax.set_xlim(-2, 2)\n",
    "# print(np.max(abs(num_res - sym_res)))\n",
    "ax.legend(loc=\"lower right\");"
   ]
  },
  {
   "cell_type": "markdown",
   "metadata": {},
   "source": [
    "## 数学式\n",
    "\n",
    "このセクションでは、数学式の構造について詳しく説明します。この部分は少し退屈かもしれませんが、式の構造を理解することで、SymPyをより複雑な計算に活用することができます。"
   ]
  },
  {
   "cell_type": "markdown",
   "metadata": {},
   "source": [
    "### シンボル\n",
    "\n",
    "数学的なシンボルは`Symbol`オブジェクトで表されます。シンボルオブジェクトの`name`属性はシンボル名で、このシンボル名は式を表示する際に使用されます。`Symbol`オブジェクトのシンボル名とPythonの変数名には直接的な関係はありませんが、使いやすさのために、通常は変数名とシンボル名を同じにします。シンボルと同名の変数を素早く作成するために、`var()`を使用することができます。例えば："
   ]
  },
  {
   "cell_type": "code",
   "execution_count": 29,
   "metadata": {
    "collapsed": false,
    "jupyter": {
     "outputs_hidden": false
    }
   },
   "outputs": [
    {
     "data": {
      "text/plain": [
       "(x0, y0, x1, y1)"
      ]
     },
     "execution_count": 29,
     "metadata": {},
     "output_type": "execute_result"
    }
   ],
   "source": [
    "var(\"x0 y0 x1 y1\")"
   ]
  },
  {
   "cell_type": "markdown",
   "metadata": {},
   "source": [
    "上記のコードは、`x0`、`y0`、`x1`、`y1`という名前の4つの`Symbol`オブジェクトを作成し、同時に現在の名前空間にこれらの`Symbol`オブジェクトを表す4つの変数を作成します。シンボルオブジェクトは文字列に変換されるときに`name`属性を直接使用するため、インタラクティブ環境で変数`x0`を表示すると、その値は`x0`となります："
   ]
  },
  {
   "cell_type": "code",
   "execution_count": 30,
   "metadata": {
    "collapsed": false,
    "jupyter": {
     "outputs_hidden": false
    }
   },
   "outputs": [
    {
     "name": "stdout",
     "output_type": "stream",
     "text": [
      "        type(x0)          x0.name  type(x0.name)\n",
      "------------------------  -------  -------------\n",
      "sympy.core.symbol.Symbol  'x0'     str          \n"
     ]
    }
   ],
   "source": [
    "%C type(x0); x0.name; type(x0.name)"
   ]
  },
  {
   "cell_type": "markdown",
   "metadata": {},
   "source": [
    "インタラクティブ環境で`var()`を使用すると、変数と`Symbol`オブジェクトを素早く作成できますが、プログラム内で使用すると混乱を招く可能性があります。その場合は、`symbols()`を使用して`Symbol`オブジェクトを作成し、それらを明示的に変数に代入することができます："
   ]
  },
  {
   "cell_type": "code",
   "execution_count": 31,
   "metadata": {
    "collapsed": false,
    "jupyter": {
     "outputs_hidden": false
    }
   },
   "outputs": [
    {
     "data": {
      "text/plain": [
       "sympy.core.symbol.Symbol"
      ]
     },
     "execution_count": 31,
     "metadata": {},
     "output_type": "execute_result"
    }
   ],
   "source": [
    "x1, y1 = symbols(\"x1 y1\")\n",
    "type(x1)"
   ]
  },
  {
   "cell_type": "markdown",
   "metadata": {},
   "source": [
    "もちろん、手間を厭わなければ、直接`Symbol`クラスを使用してオブジェクトを作成することもできます："
   ]
  },
  {
   "cell_type": "code",
   "execution_count": 32,
   "metadata": {
    "collapsed": false,
    "jupyter": {
     "outputs_hidden": false
    }
   },
   "outputs": [],
   "source": [
    "x2 = Symbol(\"x2\")"
   ]
  },
  {
   "cell_type": "markdown",
   "metadata": {},
   "source": [
    "変数名とシンボル名は異なるものでも構いません。以下では、変数`t`を使用してシンボル`x0`を表し、`alpha`と`beta`という名前のシンボルを作成し、変数`a`と`b`でそれぞれ表します。シンボルがギリシャ文字名を使用する場合、ギリシャ文字として表示されます。"
   ]
  },
  {
   "cell_type": "code",
   "execution_count": 33,
   "metadata": {
    "collapsed": false,
    "jupyter": {
     "outputs_hidden": false
    }
   },
   "outputs": [
    {
     "data": {
      "text/latex": [
       "$\\displaystyle x_{0} + \\sin{\\left(\\alpha \\right)} + \\sin{\\left(\\beta \\right)}$"
      ],
      "text/plain": [
       "x0 + sin(alpha) + sin(beta)"
      ]
     },
     "execution_count": 33,
     "metadata": {},
     "output_type": "execute_result"
    }
   ],
   "source": [
    "t = x0\n",
    "a, b = symbols(\"alpha, beta\")\n",
    "sin(a) + sin(b) + x0"
   ]
  },
  {
   "cell_type": "markdown",
   "metadata": {},
   "source": [
    "数学式のシンボルには通常、特定の仮定があります。例えば、`m, n`は通常整数であり、`z`は複素数を表すために使用されます。`var()`、`symbols()`、または`Symbol()`を使用して`Symbol`オブジェクトを作成する際に、キーワード引数を使用して作成するシンボルの仮定条件を指定できます。これらの仮定条件は、それらが関与する計算に影響を与えます。例えば、以下では2つの整数シンボル`m`と`n`、および正数シンボル`x`を作成しています："
   ]
  },
  {
   "cell_type": "code",
   "execution_count": 34,
   "metadata": {
    "collapsed": false,
    "jupyter": {
     "outputs_hidden": false
    }
   },
   "outputs": [],
   "source": [
    "m, n = symbols(\"m, n\", integer=True)\n",
    "x = Symbol(\"x\", positive=True)"
   ]
  },
  {
   "cell_type": "markdown",
   "metadata": {},
   "source": [
    "各シンボルには多くの`is_*`属性があり、シンボルのさまざまな仮定条件を判断するために使用されます。IPythonでは、オートコンプリート機能を使用してこれらの仮定の名前を素早く確認できます。アンダースコアの後に大文字が続く属性はオブジェクトのタイプを判断するために使用され、すべて小文字の属性はシンボルの仮定条件を判断するために使用されます。"
   ]
  },
  {
   "cell_type": "code",
   "execution_count": 35,
   "metadata": {
    "collapsed": false,
    "jupyter": {
     "outputs_hidden": false
    }
   },
   "outputs": [
    {
     "name": "stdout",
     "output_type": "stream",
     "text": [
      "['is_algebraic',\n",
      " 'is_algebraic_expr',\n",
      " 'is_antihermitian',\n",
      " 'is_commutative',\n",
      "...\n"
     ]
    }
   ],
   "source": [
    "%omit [attr for attr in dir(x) if attr.startswith(\"is_\") and attr.lower() == attr]"
   ]
  },
  {
   "cell_type": "markdown",
   "metadata": {},
   "source": [
    "以下の判断では、`x`はシンボルオブジェクトであり、正数です。なぜなら、比較が可能であり、虚数ではありません。`x`は複素数です。なぜなら、複素数は実数を含み、実数は正数を含むからです。"
   ]
  },
  {
   "cell_type": "code",
   "execution_count": 36,
   "metadata": {
    "collapsed": false,
    "jupyter": {
     "outputs_hidden": false
    }
   },
   "outputs": [
    {
     "name": "stdout",
     "output_type": "stream",
     "text": [
      "x.is_Symbol  x.is_positive  x.is_imaginary  x.is_complex\n",
      "-----------  -------------  --------------  ------------\n",
      "True         True           False           True        \n"
     ]
    }
   ],
   "source": [
    "%C x.is_Symbol; x.is_positive; x.is_imaginary; x.is_complex"
   ]
  },
  {
   "cell_type": "markdown",
   "metadata": {},
   "source": [
    "`assumptions0`属性を使用すると、すべての仮定条件を素早く確認できます。`commutative`が`True`の場合、そのシンボルは交換法則を満たします。その他の仮定条件は、英語名からその意味を容易に理解できるため、ここでは詳細に説明しません。"
   ]
  },
  {
   "cell_type": "code",
   "execution_count": 37,
   "metadata": {
    "collapsed": false,
    "jupyter": {
     "outputs_hidden": false
    }
   },
   "outputs": [
    {
     "name": "stdout",
     "output_type": "stream",
     "text": [
      "{'positive': True,                 'extended_real': True,            'finite': True,                   'nonzero': True,                 \n",
      " 'extended_nonnegative': True,     'hermitian': True,                'extended_nonzero': True,         'nonnegative': True,             \n",
      " 'complex': True,                  'imaginary': False,               'infinite': False,                'nonpositive': False,            \n",
      " 'real': True,                     'negative': False,                'zero': False,                    'extended_nonpositive': False,   \n",
      " 'extended_positive': True,        'extended_negative': False,       'commutative': True}             \n"
     ]
    }
   ],
   "source": [
    "%col 4 x.assumptions0"
   ]
  },
  {
   "cell_type": "markdown",
   "metadata": {},
   "source": [
    "SymPyでは、すべてのオブジェクトが`Basic`クラスから継承されています。実際、これらの`is_*`属性と`assumptions0`属性は`Basic`クラスで定義されています："
   ]
  },
  {
   "cell_type": "code",
   "execution_count": 38,
   "metadata": {
    "collapsed": false,
    "jupyter": {
     "outputs_hidden": false
    }
   },
   "outputs": [
    {
     "data": {
      "text/plain": [
       "[sympy.core.symbol.Symbol,\n",
       " sympy.core.expr.AtomicExpr,\n",
       " sympy.core.basic.Atom,\n",
       " sympy.core.expr.Expr,\n",
       " sympy.logic.boolalg.Boolean,\n",
       " sympy.core.basic.Basic,\n",
       " sympy.printing.defaults.Printable,\n",
       " sympy.core.evalf.EvalfMixin,\n",
       " object]"
      ]
     },
     "execution_count": 38,
     "metadata": {},
     "output_type": "execute_result"
    }
   ],
   "source": [
    "Symbol.mro()"
   ]
  },
  {
   "cell_type": "markdown",
   "metadata": {},
   "source": [
    "### 数値\n",
    "\n",
    "シンボリック計算を実現するために、SymPy内部には数値計算システムが一通り用意されています。そのため、SymPyの数値はPythonの整数や浮動小数点数とは完全に異なるオブジェクトです。使いやすさのために、SymPyはPythonの数値型を自動的にSymPyの数値型に変換しようとします。SymPyは、Pythonの数値をSymPyの数値に素早く変換するために`S`オブジェクトを提供しています。以下の例では、SymPyの数値が計算に含まれる場合、結果もSymPyの数値オブジェクトとなります："
   ]
  },
  {
   "cell_type": "code",
   "execution_count": 39,
   "metadata": {
    "collapsed": false,
    "jupyter": {
     "outputs_hidden": false
    }
   },
   "outputs": [
    {
     "name": "stdout",
     "output_type": "stream",
     "text": [
      "    1/2 + 1/3       S(1)/2 + 1/S(3)\n",
      "------------------  ---------------\n",
      "0.8333333333333333  5/6            \n"
     ]
    }
   ],
   "source": [
    "%C 1/2 + 1/3; S(1)/2 + 1/S(3)"
   ]
  },
  {
   "cell_type": "markdown",
   "metadata": {},
   "source": [
    "`5/6`は`Rational`オブジェクトで、2つの整数の商として表されます。数学的には有理数と呼ばれます。`Rational`を直接使用して作成することもできます："
   ]
  },
  {
   "cell_type": "code",
   "execution_count": 40,
   "metadata": {
    "collapsed": false,
    "jupyter": {
     "outputs_hidden": false
    }
   },
   "outputs": [
    {
     "name": "stdout",
     "output_type": "stream",
     "text": [
      "<class 'sympy.core.numbers.Rational'>\n"
     ]
    },
    {
     "data": {
      "text/latex": [
       "$\\displaystyle \\frac{1}{2}$"
      ],
      "text/plain": [
       "1/2"
      ]
     },
     "execution_count": 40,
     "metadata": {},
     "output_type": "execute_result"
    }
   ],
   "source": [
    "print(type(S(5) / 6))\n",
    "Rational(5, 10)  # 有理数は自動的に約分されます"
   ]
  },
  {
   "cell_type": "markdown",
   "metadata": {},
   "source": [
    "実数は`Float`オブジェクトで表され、標準の浮動小数点数と似ていますが、その精度（有効数字）はパラメータで指定できます。浮動小数点数や`Float`オブジェクトは内部で2進数を使用して数値を表すため、10進数の正確な小数を正確に表すことができない場合があります。`N()`を使用して浮動小数点数の実際の数値を確認できます。例えば、以下のコードは浮動小数点数`0.1`と`10000.1`の60桁の有効数字を表示します。数値の絶対精度は数値が大きくなるにつれて減少することがわかります："
   ]
  },
  {
   "cell_type": "code",
   "execution_count": 41,
   "metadata": {
    "collapsed": false,
    "jupyter": {
     "outputs_hidden": false
    }
   },
   "outputs": [
    {
     "name": "stdout",
     "output_type": "stream",
     "text": [
      "0.100000000000000005551115123125782702118158340454101562500000\n",
      "10000.1000000000003637978807091712951660156250000000000000000\n"
     ]
    }
   ],
   "source": [
    "print(N(0.1, 60))\n",
    "print(N(10000.1, 60))"
   ]
  },
  {
   "cell_type": "markdown",
   "metadata": {},
   "source": [
    "浮動小数点数の精度は限られているため、`Float`オブジェクトを作成する際に精度パラメータを指定しても、理想値との誤差を縮めることはできません。その場合は、文字列を使用して数値を表すことができます："
   ]
  },
  {
   "cell_type": "code",
   "execution_count": 42,
   "metadata": {
    "collapsed": false,
    "jupyter": {
     "outputs_hidden": false
    }
   },
   "outputs": [
    {
     "name": "stdout",
     "output_type": "stream",
     "text": [
      "0.100000000000000005551115123125782702118158340454101562500000\n",
      "0.100000000000000000000000000000000000000000000000000000000000\n",
      "0.099999999999999999999999999999999999999999999999999999999999996111\n"
     ]
    }
   ],
   "source": [
    "print(\n",
    "    N(Float(0.1, 60), 60)\n",
    ")  # 浮動小数点数でRealオブジェクトを作成する場合、精度は浮動小数点数と同じです\n",
    "print(\n",
    "    N(Float(\"0.1\", 60), 60)\n",
    ")  # 文字列でRealオブジェクトを作成する場合、指定された精度が有効です\n",
    "print(N(Float(\"0.1\", 60), 65))  # 表示精度を上げると、完全に正確でないことがわかります"
   ]
  },
  {
   "cell_type": "markdown",
   "metadata": {},
   "source": [
    "`N()`は、数値式を指定された精度で`Float`オブジェクトに変換することができます。以下は、$\\pi$と$\\sqrt{2}$の50桁の精度の浮動小数点数値を計算します："
   ]
  },
  {
   "cell_type": "code",
   "execution_count": 43,
   "metadata": {
    "collapsed": false,
    "jupyter": {
     "outputs_hidden": false
    }
   },
   "outputs": [
    {
     "name": "stdout",
     "output_type": "stream",
     "text": [
      "3.1415926535897932384626433832795028841971693993751\n",
      "1.4142135623730950488016887242096980785696718753769\n"
     ]
    }
   ],
   "source": [
    "print(N(pi, 50))\n",
    "print(N(sqrt(2), 50))"
   ]
  },
  {
   "cell_type": "markdown",
   "metadata": {},
   "source": [
    "### 演算子と関数\n",
    "\n",
    "SymPyはすべての数学演算子と数学関数を再定義しています。例えば、`Add`クラスは加算を表し、`Mul`クラスは乗算を表し、`Pow`クラスは指数演算を表し、`sin`クラスは正弦関数を表します。`Symbol`オブジェクトと同様に、これらの演算子と関数はすべて`Basic`クラスから継承されています。IPythonでこれらの継承リストを確認してください。例えば、`Add.mro()`です。これらのクラスを使用して複雑な式を作成することができます："
   ]
  },
  {
   "cell_type": "code",
   "execution_count": 44,
   "metadata": {
    "collapsed": false,
    "jupyter": {
     "outputs_hidden": false
    }
   },
   "outputs": [
    {
     "data": {
      "text/latex": [
       "$\\displaystyle x + y + z$"
      ],
      "text/plain": [
       "x + y + z"
      ]
     },
     "execution_count": 44,
     "metadata": {},
     "output_type": "execute_result"
    }
   ],
   "source": [
    "var(\"x y z n\")\n",
    "Add(x, y, z)"
   ]
  },
  {
   "cell_type": "code",
   "execution_count": 45,
   "metadata": {
    "collapsed": false,
    "jupyter": {
     "outputs_hidden": false
    }
   },
   "outputs": [
    {
     "data": {
      "text/latex": [
       "$\\displaystyle x y z + x^{y} + \\sin{\\left(z \\right)}$"
      ],
      "text/plain": [
       "x*y*z + x**y + sin(z)"
      ]
     },
     "execution_count": 45,
     "metadata": {},
     "output_type": "execute_result"
    }
   ],
   "source": [
    "Add(Mul(x, y, z), Pow(x, y), sin(z))"
   ]
  },
  {
   "cell_type": "markdown",
   "metadata": {},
   "source": [
    "`Basic`クラスでは`__add__()`などの演算子に関連するマジックメソッドが再定義されているため、Pythonの式と同じ方法でSymPyの式を作成することができます："
   ]
  },
  {
   "cell_type": "code",
   "execution_count": 46,
   "metadata": {
    "collapsed": false,
    "jupyter": {
     "outputs_hidden": false
    }
   },
   "outputs": [
    {
     "data": {
      "text/latex": [
       "$\\displaystyle x y z + x^{y} + \\sin{\\left(z \\right)}$"
      ],
      "text/plain": [
       "x*y*z + x**y + sin(z)"
      ]
     },
     "execution_count": 46,
     "metadata": {},
     "output_type": "execute_result"
    }
   ],
   "source": [
    "x * y * z + x**y + sin(z)"
   ]
  },
  {
   "cell_type": "markdown",
   "metadata": {},
   "source": [
    "`Basic`クラスには2つの重要な属性があります：`func`と`args`です。`func`属性はオブジェクトのクラスを取得し、`args`はその引数を取得します。これらの属性を使用して、SymPyが作成した式を観察することができます。減算演算のクラスがないことに驚かれるかもしれませんが、以下の例で減算演算の式を見てみましょう："
   ]
  },
  {
   "cell_type": "code",
   "execution_count": 47,
   "metadata": {
    "collapsed": false,
    "jupyter": {
     "outputs_hidden": false
    }
   },
   "outputs": [
    {
     "name": "stdout",
     "output_type": "stream",
     "text": [
      "      t.func         t.args    t.args[1].func    t.args[1].args\n",
      "------------------  -------  ------------------  --------------\n",
      "sympy.core.add.Add  (x, -y)  sympy.core.mul.Mul  (-1, y)       \n"
     ]
    }
   ],
   "source": [
    "t = x - y\n",
    "%C t.func; t.args; t.args[1].func; t.args[1].args"
   ]
  },
  {
   "cell_type": "markdown",
   "metadata": {},
   "source": [
    "上記の例からわかるように、式`x - y`はSymPyでは`Add(x, Mul(-1, y))`として表されます。同様に、SymPyには除算クラスはありません。上記と同じ方法で`x / y`がSymPyでどのように表されるかを観察してください。\n",
    "\n",
    "SymPyの式は、実際には`Basic`クラスのさまざまなオブジェクトが多重にネストされたツリー構造です。`dotprint()`を使用すると、式をGraphvizのDOT言語で記述されたグラフに変換できます。本書で提供されている`%dot`コマンドを使用すると、Notebookに表示することができます。次のグラフは、式$x y \\frac{\\sqrt{x^{2} - y^{2}}}{x + y}$の構造を示しています："
   ]
  },
  {
   "cell_type": "code",
   "execution_count": 48,
   "metadata": {
    "collapsed": false,
    "jupyter": {
     "outputs_hidden": false
    }
   },
   "outputs": [
    {
     "data": {
      "image/svg+xml": [
       "<?xml version=\"1.0\" encoding=\"UTF-8\" standalone=\"no\"?>\n",
       "<!DOCTYPE svg PUBLIC \"-//W3C//DTD SVG 1.1//EN\"\n",
       " \"http://www.w3.org/Graphics/SVG/1.1/DTD/svg11.dtd\">\n",
       "<!-- Generated by graphviz version 12.2.1 (0)\n",
       " -->\n",
       "<!-- Pages: 1 -->\n",
       "<svg width=\"440pt\" height=\"404pt\"\n",
       " viewBox=\"0.00 0.00 440.00 404.00\" xmlns=\"http://www.w3.org/2000/svg\" xmlns:xlink=\"http://www.w3.org/1999/xlink\">\n",
       "<g id=\"graph0\" class=\"graph\" transform=\"scale(1 1) rotate(0) translate(4 400)\">\n",
       "<polygon fill=\"white\" stroke=\"none\" points=\"-4,4 -4,-400 436,-400 436,4 -4,4\"/>\n",
       "<!-- Mul(Symbol(&#39;x&#39;), Symbol(&#39;y&#39;), Pow(Add(Symbol(&#39;x&#39;), Symbol(&#39;y&#39;)), Integer(&#45;1)), Pow(Add(Pow(Symbol(&#39;x&#39;), Integer(2)), Mul(Integer(&#45;1), Pow(Symbol(&#39;y&#39;), Integer(2)))), Rational(1, 2)))_() -->\n",
       "<g id=\"node1\" class=\"node\">\n",
       "<title>Mul(Symbol(&#39;x&#39;), Symbol(&#39;y&#39;), Pow(Add(Symbol(&#39;x&#39;), Symbol(&#39;y&#39;)), Integer(&#45;1)), Pow(Add(Pow(Symbol(&#39;x&#39;), Integer(2)), Mul(Integer(&#45;1), Pow(Symbol(&#39;y&#39;), Integer(2)))), Rational(1, 2)))_()</title>\n",
       "<ellipse fill=\"none\" stroke=\"black\" cx=\"135\" cy=\"-378\" rx=\"27\" ry=\"18\"/>\n",
       "<text text-anchor=\"middle\" x=\"135\" y=\"-372.95\" font-family=\"Times New Roman,serif\" font-size=\"14.00\">Mul</text>\n",
       "</g>\n",
       "<!-- Symbol(&#39;x&#39;)_(0,) -->\n",
       "<g id=\"node2\" class=\"node\">\n",
       "<title>Symbol(&#39;x&#39;)_(0,)</title>\n",
       "<ellipse fill=\"none\" stroke=\"black\" cx=\"27\" cy=\"-306\" rx=\"27\" ry=\"18\"/>\n",
       "<text text-anchor=\"middle\" x=\"27\" y=\"-300.95\" font-family=\"Times New Roman,serif\" font-size=\"14.00\">x</text>\n",
       "</g>\n",
       "<!-- Mul(Symbol(&#39;x&#39;), Symbol(&#39;y&#39;), Pow(Add(Symbol(&#39;x&#39;), Symbol(&#39;y&#39;)), Integer(&#45;1)), Pow(Add(Pow(Symbol(&#39;x&#39;), Integer(2)), Mul(Integer(&#45;1), Pow(Symbol(&#39;y&#39;), Integer(2)))), Rational(1, 2)))_()&#45;&gt;Symbol(&#39;x&#39;)_(0,) -->\n",
       "<g id=\"edge1\" class=\"edge\">\n",
       "<title>Mul(Symbol(&#39;x&#39;), Symbol(&#39;y&#39;), Pow(Add(Symbol(&#39;x&#39;), Symbol(&#39;y&#39;)), Integer(&#45;1)), Pow(Add(Pow(Symbol(&#39;x&#39;), Integer(2)), Mul(Integer(&#45;1), Pow(Symbol(&#39;y&#39;), Integer(2)))), Rational(1, 2)))_()&#45;&gt;Symbol(&#39;x&#39;)_(0,)</title>\n",
       "<path fill=\"none\" stroke=\"black\" d=\"M116.19,-364.81C99.41,-353.93 74.61,-337.86 55.41,-325.42\"/>\n",
       "<polygon fill=\"black\" stroke=\"black\" points=\"57.52,-322.61 47.23,-320.11 53.72,-328.49 57.52,-322.61\"/>\n",
       "</g>\n",
       "<!-- Symbol(&#39;y&#39;)_(1,) -->\n",
       "<g id=\"node3\" class=\"node\">\n",
       "<title>Symbol(&#39;y&#39;)_(1,)</title>\n",
       "<ellipse fill=\"none\" stroke=\"black\" cx=\"99\" cy=\"-306\" rx=\"27\" ry=\"18\"/>\n",
       "<text text-anchor=\"middle\" x=\"99\" y=\"-300.95\" font-family=\"Times New Roman,serif\" font-size=\"14.00\">y</text>\n",
       "</g>\n",
       "<!-- Mul(Symbol(&#39;x&#39;), Symbol(&#39;y&#39;), Pow(Add(Symbol(&#39;x&#39;), Symbol(&#39;y&#39;)), Integer(&#45;1)), Pow(Add(Pow(Symbol(&#39;x&#39;), Integer(2)), Mul(Integer(&#45;1), Pow(Symbol(&#39;y&#39;), Integer(2)))), Rational(1, 2)))_()&#45;&gt;Symbol(&#39;y&#39;)_(1,) -->\n",
       "<g id=\"edge2\" class=\"edge\">\n",
       "<title>Mul(Symbol(&#39;x&#39;), Symbol(&#39;y&#39;), Pow(Add(Symbol(&#39;x&#39;), Symbol(&#39;y&#39;)), Integer(&#45;1)), Pow(Add(Pow(Symbol(&#39;x&#39;), Integer(2)), Mul(Integer(&#45;1), Pow(Symbol(&#39;y&#39;), Integer(2)))), Rational(1, 2)))_()&#45;&gt;Symbol(&#39;y&#39;)_(1,)</title>\n",
       "<path fill=\"none\" stroke=\"black\" d=\"M126.65,-360.76C122.42,-352.55 117.19,-342.37 112.42,-333.09\"/>\n",
       "<polygon fill=\"black\" stroke=\"black\" points=\"115.68,-331.79 108,-324.49 109.46,-334.99 115.68,-331.79\"/>\n",
       "</g>\n",
       "<!-- Pow(Add(Symbol(&#39;x&#39;), Symbol(&#39;y&#39;)), Integer(&#45;1))_(2,) -->\n",
       "<g id=\"node4\" class=\"node\">\n",
       "<title>Pow(Add(Symbol(&#39;x&#39;), Symbol(&#39;y&#39;)), Integer(&#45;1))_(2,)</title>\n",
       "<ellipse fill=\"none\" stroke=\"black\" cx=\"171\" cy=\"-306\" rx=\"27.3\" ry=\"18\"/>\n",
       "<text text-anchor=\"middle\" x=\"171\" y=\"-300.95\" font-family=\"Times New Roman,serif\" font-size=\"14.00\">Pow</text>\n",
       "</g>\n",
       "<!-- Mul(Symbol(&#39;x&#39;), Symbol(&#39;y&#39;), Pow(Add(Symbol(&#39;x&#39;), Symbol(&#39;y&#39;)), Integer(&#45;1)), Pow(Add(Pow(Symbol(&#39;x&#39;), Integer(2)), Mul(Integer(&#45;1), Pow(Symbol(&#39;y&#39;), Integer(2)))), Rational(1, 2)))_()&#45;&gt;Pow(Add(Symbol(&#39;x&#39;), Symbol(&#39;y&#39;)), Integer(&#45;1))_(2,) -->\n",
       "<g id=\"edge3\" class=\"edge\">\n",
       "<title>Mul(Symbol(&#39;x&#39;), Symbol(&#39;y&#39;), Pow(Add(Symbol(&#39;x&#39;), Symbol(&#39;y&#39;)), Integer(&#45;1)), Pow(Add(Pow(Symbol(&#39;x&#39;), Integer(2)), Mul(Integer(&#45;1), Pow(Symbol(&#39;y&#39;), Integer(2)))), Rational(1, 2)))_()&#45;&gt;Pow(Add(Symbol(&#39;x&#39;), Symbol(&#39;y&#39;)), Integer(&#45;1))_(2,)</title>\n",
       "<path fill=\"none\" stroke=\"black\" d=\"M143.35,-360.76C147.58,-352.55 152.81,-342.37 157.58,-333.09\"/>\n",
       "<polygon fill=\"black\" stroke=\"black\" points=\"160.54,-334.99 162,-324.49 154.32,-331.79 160.54,-334.99\"/>\n",
       "</g>\n",
       "<!-- Pow(Add(Pow(Symbol(&#39;x&#39;), Integer(2)), Mul(Integer(&#45;1), Pow(Symbol(&#39;y&#39;), Integer(2)))), Rational(1, 2))_(3,) -->\n",
       "<g id=\"node9\" class=\"node\">\n",
       "<title>Pow(Add(Pow(Symbol(&#39;x&#39;), Integer(2)), Mul(Integer(&#45;1), Pow(Symbol(&#39;y&#39;), Integer(2)))), Rational(1, 2))_(3,)</title>\n",
       "<ellipse fill=\"none\" stroke=\"black\" cx=\"244\" cy=\"-306\" rx=\"27.3\" ry=\"18\"/>\n",
       "<text text-anchor=\"middle\" x=\"244\" y=\"-300.95\" font-family=\"Times New Roman,serif\" font-size=\"14.00\">Pow</text>\n",
       "</g>\n",
       "<!-- Mul(Symbol(&#39;x&#39;), Symbol(&#39;y&#39;), Pow(Add(Symbol(&#39;x&#39;), Symbol(&#39;y&#39;)), Integer(&#45;1)), Pow(Add(Pow(Symbol(&#39;x&#39;), Integer(2)), Mul(Integer(&#45;1), Pow(Symbol(&#39;y&#39;), Integer(2)))), Rational(1, 2)))_()&#45;&gt;Pow(Add(Pow(Symbol(&#39;x&#39;), Integer(2)), Mul(Integer(&#45;1), Pow(Symbol(&#39;y&#39;), Integer(2)))), Rational(1, 2))_(3,) -->\n",
       "<g id=\"edge4\" class=\"edge\">\n",
       "<title>Mul(Symbol(&#39;x&#39;), Symbol(&#39;y&#39;), Pow(Add(Symbol(&#39;x&#39;), Symbol(&#39;y&#39;)), Integer(&#45;1)), Pow(Add(Pow(Symbol(&#39;x&#39;), Integer(2)), Mul(Integer(&#45;1), Pow(Symbol(&#39;y&#39;), Integer(2)))), Rational(1, 2)))_()&#45;&gt;Pow(Add(Pow(Symbol(&#39;x&#39;), Integer(2)), Mul(Integer(&#45;1), Pow(Symbol(&#39;y&#39;), Integer(2)))), Rational(1, 2))_(3,)</title>\n",
       "<path fill=\"none\" stroke=\"black\" d=\"M153.99,-364.81C170.92,-353.93 195.95,-337.86 215.32,-325.42\"/>\n",
       "<polygon fill=\"black\" stroke=\"black\" points=\"217.07,-328.45 223.59,-320.11 213.29,-322.56 217.07,-328.45\"/>\n",
       "</g>\n",
       "<!-- Add(Symbol(&#39;x&#39;), Symbol(&#39;y&#39;))_(2, 0) -->\n",
       "<g id=\"node5\" class=\"node\">\n",
       "<title>Add(Symbol(&#39;x&#39;), Symbol(&#39;y&#39;))_(2, 0)</title>\n",
       "<ellipse fill=\"none\" stroke=\"black\" cx=\"99\" cy=\"-234\" rx=\"27\" ry=\"18\"/>\n",
       "<text text-anchor=\"middle\" x=\"99\" y=\"-228.95\" font-family=\"Times New Roman,serif\" font-size=\"14.00\">Add</text>\n",
       "</g>\n",
       "<!-- Pow(Add(Symbol(&#39;x&#39;), Symbol(&#39;y&#39;)), Integer(&#45;1))_(2,)&#45;&gt;Add(Symbol(&#39;x&#39;), Symbol(&#39;y&#39;))_(2, 0) -->\n",
       "<g id=\"edge5\" class=\"edge\">\n",
       "<title>Pow(Add(Symbol(&#39;x&#39;), Symbol(&#39;y&#39;)), Integer(&#45;1))_(2,)&#45;&gt;Add(Symbol(&#39;x&#39;), Symbol(&#39;y&#39;))_(2, 0)</title>\n",
       "<path fill=\"none\" stroke=\"black\" d=\"M156.08,-290.5C146.23,-280.92 133.14,-268.19 121.97,-257.34\"/>\n",
       "<polygon fill=\"black\" stroke=\"black\" points=\"124.59,-255 114.98,-250.54 119.71,-260.02 124.59,-255\"/>\n",
       "</g>\n",
       "<!-- Integer(&#45;1)_(2, 1) -->\n",
       "<g id=\"node8\" class=\"node\">\n",
       "<title>Integer(&#45;1)_(2, 1)</title>\n",
       "<ellipse fill=\"none\" stroke=\"black\" cx=\"171\" cy=\"-234\" rx=\"27\" ry=\"18\"/>\n",
       "<text text-anchor=\"middle\" x=\"171\" y=\"-228.95\" font-family=\"Times New Roman,serif\" font-size=\"14.00\">&#45;1</text>\n",
       "</g>\n",
       "<!-- Pow(Add(Symbol(&#39;x&#39;), Symbol(&#39;y&#39;)), Integer(&#45;1))_(2,)&#45;&gt;Integer(&#45;1)_(2, 1) -->\n",
       "<g id=\"edge6\" class=\"edge\">\n",
       "<title>Pow(Add(Symbol(&#39;x&#39;), Symbol(&#39;y&#39;)), Integer(&#45;1))_(2,)&#45;&gt;Integer(&#45;1)_(2, 1)</title>\n",
       "<path fill=\"none\" stroke=\"black\" d=\"M171,-287.7C171,-280.41 171,-271.73 171,-263.54\"/>\n",
       "<polygon fill=\"black\" stroke=\"black\" points=\"174.5,-263.62 171,-253.62 167.5,-263.62 174.5,-263.62\"/>\n",
       "</g>\n",
       "<!-- Symbol(&#39;x&#39;)_(2, 0, 0) -->\n",
       "<g id=\"node6\" class=\"node\">\n",
       "<title>Symbol(&#39;x&#39;)_(2, 0, 0)</title>\n",
       "<ellipse fill=\"none\" stroke=\"black\" cx=\"45\" cy=\"-162\" rx=\"27\" ry=\"18\"/>\n",
       "<text text-anchor=\"middle\" x=\"45\" y=\"-156.95\" font-family=\"Times New Roman,serif\" font-size=\"14.00\">x</text>\n",
       "</g>\n",
       "<!-- Add(Symbol(&#39;x&#39;), Symbol(&#39;y&#39;))_(2, 0)&#45;&gt;Symbol(&#39;x&#39;)_(2, 0, 0) -->\n",
       "<g id=\"edge7\" class=\"edge\">\n",
       "<title>Add(Symbol(&#39;x&#39;), Symbol(&#39;y&#39;))_(2, 0)&#45;&gt;Symbol(&#39;x&#39;)_(2, 0, 0)</title>\n",
       "<path fill=\"none\" stroke=\"black\" d=\"M87.02,-217.46C80.23,-208.67 71.6,-197.48 63.92,-187.53\"/>\n",
       "<polygon fill=\"black\" stroke=\"black\" points=\"66.75,-185.47 57.88,-179.69 61.21,-189.75 66.75,-185.47\"/>\n",
       "</g>\n",
       "<!-- Symbol(&#39;y&#39;)_(2, 0, 1) -->\n",
       "<g id=\"node7\" class=\"node\">\n",
       "<title>Symbol(&#39;y&#39;)_(2, 0, 1)</title>\n",
       "<ellipse fill=\"none\" stroke=\"black\" cx=\"117\" cy=\"-162\" rx=\"27\" ry=\"18\"/>\n",
       "<text text-anchor=\"middle\" x=\"117\" y=\"-156.95\" font-family=\"Times New Roman,serif\" font-size=\"14.00\">y</text>\n",
       "</g>\n",
       "<!-- Add(Symbol(&#39;x&#39;), Symbol(&#39;y&#39;))_(2, 0)&#45;&gt;Symbol(&#39;y&#39;)_(2, 0, 1) -->\n",
       "<g id=\"edge8\" class=\"edge\">\n",
       "<title>Add(Symbol(&#39;x&#39;), Symbol(&#39;y&#39;))_(2, 0)&#45;&gt;Symbol(&#39;y&#39;)_(2, 0, 1)</title>\n",
       "<path fill=\"none\" stroke=\"black\" d=\"M103.36,-216.05C105.3,-208.49 107.65,-199.37 109.84,-190.85\"/>\n",
       "<polygon fill=\"black\" stroke=\"black\" points=\"113.21,-191.81 112.31,-181.25 106.43,-190.07 113.21,-191.81\"/>\n",
       "</g>\n",
       "<!-- Add(Pow(Symbol(&#39;x&#39;), Integer(2)), Mul(Integer(&#45;1), Pow(Symbol(&#39;y&#39;), Integer(2))))_(3, 0) -->\n",
       "<g id=\"node10\" class=\"node\">\n",
       "<title>Add(Pow(Symbol(&#39;x&#39;), Integer(2)), Mul(Integer(&#45;1), Pow(Symbol(&#39;y&#39;), Integer(2))))_(3, 0)</title>\n",
       "<ellipse fill=\"none\" stroke=\"black\" cx=\"243\" cy=\"-234\" rx=\"27\" ry=\"18\"/>\n",
       "<text text-anchor=\"middle\" x=\"243\" y=\"-228.95\" font-family=\"Times New Roman,serif\" font-size=\"14.00\">Add</text>\n",
       "</g>\n",
       "<!-- Pow(Add(Pow(Symbol(&#39;x&#39;), Integer(2)), Mul(Integer(&#45;1), Pow(Symbol(&#39;y&#39;), Integer(2)))), Rational(1, 2))_(3,)&#45;&gt;Add(Pow(Symbol(&#39;x&#39;), Integer(2)), Mul(Integer(&#45;1), Pow(Symbol(&#39;y&#39;), Integer(2))))_(3, 0) -->\n",
       "<g id=\"edge9\" class=\"edge\">\n",
       "<title>Pow(Add(Pow(Symbol(&#39;x&#39;), Integer(2)), Mul(Integer(&#45;1), Pow(Symbol(&#39;y&#39;), Integer(2)))), Rational(1, 2))_(3,)&#45;&gt;Add(Pow(Symbol(&#39;x&#39;), Integer(2)), Mul(Integer(&#45;1), Pow(Symbol(&#39;y&#39;), Integer(2))))_(3, 0)</title>\n",
       "<path fill=\"none\" stroke=\"black\" d=\"M243.75,-287.7C243.65,-280.41 243.52,-271.73 243.41,-263.54\"/>\n",
       "<polygon fill=\"black\" stroke=\"black\" points=\"246.91,-263.57 243.27,-253.62 239.91,-263.67 246.91,-263.57\"/>\n",
       "</g>\n",
       "<!-- Rational(1, 2)_(3, 1) -->\n",
       "<g id=\"node19\" class=\"node\">\n",
       "<title>Rational(1, 2)_(3, 1)</title>\n",
       "<ellipse fill=\"none\" stroke=\"black\" cx=\"315\" cy=\"-234\" rx=\"27\" ry=\"18\"/>\n",
       "<text text-anchor=\"middle\" x=\"315\" y=\"-228.95\" font-family=\"Times New Roman,serif\" font-size=\"14.00\">1/2</text>\n",
       "</g>\n",
       "<!-- Pow(Add(Pow(Symbol(&#39;x&#39;), Integer(2)), Mul(Integer(&#45;1), Pow(Symbol(&#39;y&#39;), Integer(2)))), Rational(1, 2))_(3,)&#45;&gt;Rational(1, 2)_(3, 1) -->\n",
       "<g id=\"edge10\" class=\"edge\">\n",
       "<title>Pow(Add(Pow(Symbol(&#39;x&#39;), Integer(2)), Mul(Integer(&#45;1), Pow(Symbol(&#39;y&#39;), Integer(2)))), Rational(1, 2))_(3,)&#45;&gt;Rational(1, 2)_(3, 1)</title>\n",
       "<path fill=\"none\" stroke=\"black\" d=\"M258.71,-290.5C268.42,-280.92 281.34,-268.19 292.34,-257.34\"/>\n",
       "<polygon fill=\"black\" stroke=\"black\" points=\"294.57,-260.06 299.23,-250.55 289.65,-255.08 294.57,-260.06\"/>\n",
       "</g>\n",
       "<!-- Pow(Symbol(&#39;x&#39;), Integer(2))_(3, 0, 0) -->\n",
       "<g id=\"node11\" class=\"node\">\n",
       "<title>Pow(Symbol(&#39;x&#39;), Integer(2))_(3, 0, 0)</title>\n",
       "<ellipse fill=\"none\" stroke=\"black\" cx=\"225\" cy=\"-162\" rx=\"27.3\" ry=\"18\"/>\n",
       "<text text-anchor=\"middle\" x=\"225\" y=\"-156.95\" font-family=\"Times New Roman,serif\" font-size=\"14.00\">Pow</text>\n",
       "</g>\n",
       "<!-- Add(Pow(Symbol(&#39;x&#39;), Integer(2)), Mul(Integer(&#45;1), Pow(Symbol(&#39;y&#39;), Integer(2))))_(3, 0)&#45;&gt;Pow(Symbol(&#39;x&#39;), Integer(2))_(3, 0, 0) -->\n",
       "<g id=\"edge11\" class=\"edge\">\n",
       "<title>Add(Pow(Symbol(&#39;x&#39;), Integer(2)), Mul(Integer(&#45;1), Pow(Symbol(&#39;y&#39;), Integer(2))))_(3, 0)&#45;&gt;Pow(Symbol(&#39;x&#39;), Integer(2))_(3, 0, 0)</title>\n",
       "<path fill=\"none\" stroke=\"black\" d=\"M238.64,-216.05C236.7,-208.49 234.35,-199.37 232.16,-190.85\"/>\n",
       "<polygon fill=\"black\" stroke=\"black\" points=\"235.57,-190.07 229.69,-181.25 228.79,-191.81 235.57,-190.07\"/>\n",
       "</g>\n",
       "<!-- Mul(Integer(&#45;1), Pow(Symbol(&#39;y&#39;), Integer(2)))_(3, 0, 1) -->\n",
       "<g id=\"node14\" class=\"node\">\n",
       "<title>Mul(Integer(&#45;1), Pow(Symbol(&#39;y&#39;), Integer(2)))_(3, 0, 1)</title>\n",
       "<ellipse fill=\"none\" stroke=\"black\" cx=\"297\" cy=\"-162\" rx=\"27\" ry=\"18\"/>\n",
       "<text text-anchor=\"middle\" x=\"297\" y=\"-156.95\" font-family=\"Times New Roman,serif\" font-size=\"14.00\">Mul</text>\n",
       "</g>\n",
       "<!-- Add(Pow(Symbol(&#39;x&#39;), Integer(2)), Mul(Integer(&#45;1), Pow(Symbol(&#39;y&#39;), Integer(2))))_(3, 0)&#45;&gt;Mul(Integer(&#45;1), Pow(Symbol(&#39;y&#39;), Integer(2)))_(3, 0, 1) -->\n",
       "<g id=\"edge12\" class=\"edge\">\n",
       "<title>Add(Pow(Symbol(&#39;x&#39;), Integer(2)), Mul(Integer(&#45;1), Pow(Symbol(&#39;y&#39;), Integer(2))))_(3, 0)&#45;&gt;Mul(Integer(&#45;1), Pow(Symbol(&#39;y&#39;), Integer(2)))_(3, 0, 1)</title>\n",
       "<path fill=\"none\" stroke=\"black\" d=\"M254.98,-217.46C261.77,-208.67 270.4,-197.48 278.08,-187.53\"/>\n",
       "<polygon fill=\"black\" stroke=\"black\" points=\"280.79,-189.75 284.12,-179.69 275.25,-185.47 280.79,-189.75\"/>\n",
       "</g>\n",
       "<!-- Symbol(&#39;x&#39;)_(3, 0, 0, 0) -->\n",
       "<g id=\"node12\" class=\"node\">\n",
       "<title>Symbol(&#39;x&#39;)_(3, 0, 0, 0)</title>\n",
       "<ellipse fill=\"none\" stroke=\"black\" cx=\"153\" cy=\"-90\" rx=\"27\" ry=\"18\"/>\n",
       "<text text-anchor=\"middle\" x=\"153\" y=\"-84.95\" font-family=\"Times New Roman,serif\" font-size=\"14.00\">x</text>\n",
       "</g>\n",
       "<!-- Pow(Symbol(&#39;x&#39;), Integer(2))_(3, 0, 0)&#45;&gt;Symbol(&#39;x&#39;)_(3, 0, 0, 0) -->\n",
       "<g id=\"edge13\" class=\"edge\">\n",
       "<title>Pow(Symbol(&#39;x&#39;), Integer(2))_(3, 0, 0)&#45;&gt;Symbol(&#39;x&#39;)_(3, 0, 0, 0)</title>\n",
       "<path fill=\"none\" stroke=\"black\" d=\"M210.08,-146.5C200.23,-136.92 187.14,-124.19 175.97,-113.34\"/>\n",
       "<polygon fill=\"black\" stroke=\"black\" points=\"178.59,-111 168.98,-106.54 173.71,-116.02 178.59,-111\"/>\n",
       "</g>\n",
       "<!-- Integer(2)_(3, 0, 0, 1) -->\n",
       "<g id=\"node13\" class=\"node\">\n",
       "<title>Integer(2)_(3, 0, 0, 1)</title>\n",
       "<ellipse fill=\"none\" stroke=\"black\" cx=\"225\" cy=\"-90\" rx=\"27\" ry=\"18\"/>\n",
       "<text text-anchor=\"middle\" x=\"225\" y=\"-84.95\" font-family=\"Times New Roman,serif\" font-size=\"14.00\">2</text>\n",
       "</g>\n",
       "<!-- Pow(Symbol(&#39;x&#39;), Integer(2))_(3, 0, 0)&#45;&gt;Integer(2)_(3, 0, 0, 1) -->\n",
       "<g id=\"edge14\" class=\"edge\">\n",
       "<title>Pow(Symbol(&#39;x&#39;), Integer(2))_(3, 0, 0)&#45;&gt;Integer(2)_(3, 0, 0, 1)</title>\n",
       "<path fill=\"none\" stroke=\"black\" d=\"M225,-143.7C225,-136.41 225,-127.73 225,-119.54\"/>\n",
       "<polygon fill=\"black\" stroke=\"black\" points=\"228.5,-119.62 225,-109.62 221.5,-119.62 228.5,-119.62\"/>\n",
       "</g>\n",
       "<!-- Integer(&#45;1)_(3, 0, 1, 0) -->\n",
       "<g id=\"node15\" class=\"node\">\n",
       "<title>Integer(&#45;1)_(3, 0, 1, 0)</title>\n",
       "<ellipse fill=\"none\" stroke=\"black\" cx=\"297\" cy=\"-90\" rx=\"27\" ry=\"18\"/>\n",
       "<text text-anchor=\"middle\" x=\"297\" y=\"-84.95\" font-family=\"Times New Roman,serif\" font-size=\"14.00\">&#45;1</text>\n",
       "</g>\n",
       "<!-- Mul(Integer(&#45;1), Pow(Symbol(&#39;y&#39;), Integer(2)))_(3, 0, 1)&#45;&gt;Integer(&#45;1)_(3, 0, 1, 0) -->\n",
       "<g id=\"edge15\" class=\"edge\">\n",
       "<title>Mul(Integer(&#45;1), Pow(Symbol(&#39;y&#39;), Integer(2)))_(3, 0, 1)&#45;&gt;Integer(&#45;1)_(3, 0, 1, 0)</title>\n",
       "<path fill=\"none\" stroke=\"black\" d=\"M297,-143.7C297,-136.41 297,-127.73 297,-119.54\"/>\n",
       "<polygon fill=\"black\" stroke=\"black\" points=\"300.5,-119.62 297,-109.62 293.5,-119.62 300.5,-119.62\"/>\n",
       "</g>\n",
       "<!-- Pow(Symbol(&#39;y&#39;), Integer(2))_(3, 0, 1, 1) -->\n",
       "<g id=\"node16\" class=\"node\">\n",
       "<title>Pow(Symbol(&#39;y&#39;), Integer(2))_(3, 0, 1, 1)</title>\n",
       "<ellipse fill=\"none\" stroke=\"black\" cx=\"369\" cy=\"-90\" rx=\"27.3\" ry=\"18\"/>\n",
       "<text text-anchor=\"middle\" x=\"369\" y=\"-84.95\" font-family=\"Times New Roman,serif\" font-size=\"14.00\">Pow</text>\n",
       "</g>\n",
       "<!-- Mul(Integer(&#45;1), Pow(Symbol(&#39;y&#39;), Integer(2)))_(3, 0, 1)&#45;&gt;Pow(Symbol(&#39;y&#39;), Integer(2))_(3, 0, 1, 1) -->\n",
       "<g id=\"edge16\" class=\"edge\">\n",
       "<title>Mul(Integer(&#45;1), Pow(Symbol(&#39;y&#39;), Integer(2)))_(3, 0, 1)&#45;&gt;Pow(Symbol(&#39;y&#39;), Integer(2))_(3, 0, 1, 1)</title>\n",
       "<path fill=\"none\" stroke=\"black\" d=\"M311.92,-146.5C321.77,-136.92 334.86,-124.19 346.03,-113.34\"/>\n",
       "<polygon fill=\"black\" stroke=\"black\" points=\"348.29,-116.02 353.02,-106.54 343.41,-111 348.29,-116.02\"/>\n",
       "</g>\n",
       "<!-- Symbol(&#39;y&#39;)_(3, 0, 1, 1, 0) -->\n",
       "<g id=\"node17\" class=\"node\">\n",
       "<title>Symbol(&#39;y&#39;)_(3, 0, 1, 1, 0)</title>\n",
       "<ellipse fill=\"none\" stroke=\"black\" cx=\"333\" cy=\"-18\" rx=\"27\" ry=\"18\"/>\n",
       "<text text-anchor=\"middle\" x=\"333\" y=\"-12.95\" font-family=\"Times New Roman,serif\" font-size=\"14.00\">y</text>\n",
       "</g>\n",
       "<!-- Pow(Symbol(&#39;y&#39;), Integer(2))_(3, 0, 1, 1)&#45;&gt;Symbol(&#39;y&#39;)_(3, 0, 1, 1, 0) -->\n",
       "<g id=\"edge17\" class=\"edge\">\n",
       "<title>Pow(Symbol(&#39;y&#39;), Integer(2))_(3, 0, 1, 1)&#45;&gt;Symbol(&#39;y&#39;)_(3, 0, 1, 1, 0)</title>\n",
       "<path fill=\"none\" stroke=\"black\" d=\"M360.47,-72.41C356.34,-64.39 351.29,-54.57 346.65,-45.54\"/>\n",
       "<polygon fill=\"black\" stroke=\"black\" points=\"349.85,-44.11 342.16,-36.82 343.62,-47.31 349.85,-44.11\"/>\n",
       "</g>\n",
       "<!-- Integer(2)_(3, 0, 1, 1, 1) -->\n",
       "<g id=\"node18\" class=\"node\">\n",
       "<title>Integer(2)_(3, 0, 1, 1, 1)</title>\n",
       "<ellipse fill=\"none\" stroke=\"black\" cx=\"405\" cy=\"-18\" rx=\"27\" ry=\"18\"/>\n",
       "<text text-anchor=\"middle\" x=\"405\" y=\"-12.95\" font-family=\"Times New Roman,serif\" font-size=\"14.00\">2</text>\n",
       "</g>\n",
       "<!-- Pow(Symbol(&#39;y&#39;), Integer(2))_(3, 0, 1, 1)&#45;&gt;Integer(2)_(3, 0, 1, 1, 1) -->\n",
       "<g id=\"edge18\" class=\"edge\">\n",
       "<title>Pow(Symbol(&#39;y&#39;), Integer(2))_(3, 0, 1, 1)&#45;&gt;Integer(2)_(3, 0, 1, 1, 1)</title>\n",
       "<path fill=\"none\" stroke=\"black\" d=\"M377.53,-72.41C381.66,-64.39 386.71,-54.57 391.35,-45.54\"/>\n",
       "<polygon fill=\"black\" stroke=\"black\" points=\"394.38,-47.31 395.84,-36.82 388.15,-44.11 394.38,-47.31\"/>\n",
       "</g>\n",
       "</g>\n",
       "</svg>\n"
      ],
      "text/plain": [
       "<graphviz.sources.Source at 0x21db4d66120>"
      ]
     },
     "execution_count": 48,
     "metadata": {},
     "output_type": "execute_result"
    }
   ],
   "source": [
    "from sympy.printing.dot import dotprint\n",
    "\n",
    "graph = dotprint(x * y * sqrt(x**2 - y**2) / (x + y))\n",
    "\n",
    "import graphviz\n",
    "\n",
    "graphviz.Source(graph, format=\"svg\")"
   ]
  },
  {
   "cell_type": "markdown",
   "metadata": {},
   "source": [
    "`Basic`オブジェクトの`args`属性のタイプはタプルであるため、式が作成されると変更できません。不変の構造を使用して式を表すことには多くの利点があります。例えば、式を辞書のキーとして使用することができます。\n",
    "\n",
    "SymPyで事前に定義された特別な演算意味を持つ数学関数を使用するだけでなく、`Function()`を使用してカスタムの数学関数シンボルを作成することもできます："
   ]
  },
  {
   "cell_type": "code",
   "execution_count": 49,
   "metadata": {
    "collapsed": false,
    "jupyter": {
     "outputs_hidden": false
    }
   },
   "outputs": [],
   "source": [
    "f = Function(\"f\")"
   ]
  },
  {
   "cell_type": "markdown",
   "metadata": {},
   "source": [
    "`Function`はクラスですが、上記のコードで得られる`f`は`Function`クラスのインスタンスではありません。事前定義された数学関数と同様に、`f`はクラスであり、`Function`クラスから継承されています："
   ]
  },
  {
   "cell_type": "code",
   "execution_count": 50,
   "metadata": {
    "collapsed": false,
    "jupyter": {
     "outputs_hidden": false
    }
   },
   "outputs": [
    {
     "data": {
      "text/plain": [
       "True"
      ]
     },
     "execution_count": 50,
     "metadata": {},
     "output_type": "execute_result"
    }
   ],
   "source": [
    "issubclass(f, Function)"
   ]
  },
  {
   "cell_type": "markdown",
   "metadata": {},
   "source": [
    "`f`を使用して式を作成すると、そのインスタンスが作成されます："
   ]
  },
  {
   "cell_type": "code",
   "execution_count": 51,
   "metadata": {
    "collapsed": false,
    "jupyter": {
     "outputs_hidden": false
    }
   },
   "outputs": [
    {
     "name": "stdout",
     "output_type": "stream",
     "text": [
      "type(t)  t.func  t.args\n",
      "-------  ------  ------\n",
      "f        f       (x, y)\n"
     ]
    }
   ],
   "source": [
    "t = f(x, y)\n",
    "%C type(t); t.func; t.args"
   ]
  },
  {
   "cell_type": "markdown",
   "metadata": {},
   "source": [
    "`f`のインスタンス`t`は式の演算に参加できます："
   ]
  },
  {
   "cell_type": "code",
   "execution_count": 52,
   "metadata": {
    "collapsed": false,
    "jupyter": {
     "outputs_hidden": false
    }
   },
   "outputs": [
    {
     "data": {
      "text/latex": [
       "$\\displaystyle f^{2}{\\left(x,y \\right)} + f{\\left(x,y \\right)}$"
      ],
      "text/plain": [
       "f(x, y)**2 + f(x, y)"
      ]
     },
     "execution_count": 52,
     "metadata": {},
     "output_type": "execute_result"
    }
   ],
   "source": [
    "t + t * t"
   ]
  },
  {
   "cell_type": "markdown",
   "metadata": {},
   "source": [
    "`symbols()`と`var()`を使用する際に、`cls`パラメータを`Function`に設定して関数シンボルを作成することができます："
   ]
  },
  {
   "cell_type": "code",
   "execution_count": 53,
   "metadata": {},
   "outputs": [
    {
     "data": {
      "text/latex": [
       "$\\displaystyle g{\\left(x,y \\right)} + h^{2}{\\left(y \\right)}$"
      ],
      "text/plain": [
       "g(x, y) + h(y)**2"
      ]
     },
     "execution_count": 53,
     "metadata": {},
     "output_type": "execute_result"
    }
   ],
   "source": [
    "g, h = symbols(\"g h\", cls=Function)\n",
    "g(x, y) + h(y) ** 2"
   ]
  },
  {
   "cell_type": "markdown",
   "metadata": {},
   "source": [
    "演算子と関数は通常自動的に評価されます。式を作成する際に`evaluate`パラメータを`False`に設定すると、自動的に評価されません。例えば、`x + 2*x`を直接計算すると`3*x`が得られますが、`Add`を使用して加算式を作成し、`evaluate`パラメータを`False`に設定すると、式は簡略化されません。"
   ]
  },
  {
   "cell_type": "code",
   "execution_count": 54,
   "metadata": {},
   "outputs": [
    {
     "data": {
      "text/latex": [
       "$\\displaystyle x + 2 x$"
      ],
      "text/plain": [
       "x + 2*x"
      ]
     },
     "execution_count": 54,
     "metadata": {},
     "output_type": "execute_result"
    }
   ],
   "source": [
    "Add(x, 2 * x, evaluate=False)"
   ]
  },
  {
   "cell_type": "markdown",
   "metadata": {},
   "source": [
    "一部の数学式はデフォルトで評価されません。例えば、`Integral`は積分式を表し、積分を計算するのではなく、積分記号を使用して式を表示します："
   ]
  },
  {
   "cell_type": "code",
   "execution_count": 55,
   "metadata": {},
   "outputs": [
    {
     "data": {
      "text/latex": [
       "$\\displaystyle \\int \\sin{\\left(x \\right)}\\, dx$"
      ],
      "text/plain": [
       "Integral(sin(x), x)"
      ]
     },
     "execution_count": 55,
     "metadata": {},
     "output_type": "execute_result"
    }
   ],
   "source": [
    "Integral(sin(x))"
   ]
  },
  {
   "cell_type": "markdown",
   "metadata": {},
   "source": [
    "シンボリック積分を計算するには、積分演算を行う関数`integrate()`を使用するか、積分式の`doit()`メソッドを呼び出します："
   ]
  },
  {
   "cell_type": "code",
   "execution_count": 56,
   "metadata": {},
   "outputs": [
    {
     "data": {
      "text/latex": [
       "$\\displaystyle - \\cos{\\left(x \\right)}$"
      ]
     },
     "metadata": {},
     "output_type": "display_data"
    },
    {
     "data": {
      "text/latex": [
       "$\\displaystyle - \\cos{\\left(x \\right)}$"
      ]
     },
     "metadata": {},
     "output_type": "display_data"
    }
   ],
   "source": [
    "from IPython.display import display_latex\n",
    "\n",
    "display_latex(integrate(sin(x), x))\n",
    "display_latex(Integral(sin(x), x).doit())"
   ]
  },
  {
   "cell_type": "markdown",
   "metadata": {},
   "source": [
    "SymPyが積分演算を実行できない場合、`integrate()`は積分式を返します。例えば："
   ]
  },
  {
   "cell_type": "code",
   "execution_count": 57,
   "metadata": {},
   "outputs": [
    {
     "data": {
      "text/latex": [
       "$\\displaystyle \\int x^{x}\\, dx$"
      ],
      "text/plain": [
       "Integral(x**x, x)"
      ]
     },
     "execution_count": 57,
     "metadata": {},
     "output_type": "execute_result"
    }
   ],
   "source": [
    "integrate(x**x, x)"
   ]
  },
  {
   "cell_type": "markdown",
   "metadata": {},
   "source": [
    "SymPyには多くの演算に対応する演算関数と式があります。例えば、`diff()`は微分演算を行う関数であり、`Derivative`は微分式です。`laplace_transform()`はラプラス変換を行う関数であり、`LaplaceTransform`はラプラス変換式です。"
   ]
  },
  {
   "cell_type": "markdown",
   "metadata": {},
   "source": [
    "### ワイルドカード"
   ]
  },
  {
   "cell_type": "markdown",
   "metadata": {},
   "source": [
    "ワイルドカードを使用すると、特定の式にマッチするテンプレートを作成できます。例えば、以下の例では、`a`と`b`は`Wild`ワイルドカードオブジェクトであり、`a * b ** 2`はこれらのワイルドカードを使用して作成された式テンプレートです。式オブジェクトの`match()`メソッドを呼び出して、指定されたテンプレートを使用して式をマッチさせることができます。これは、ワイルドカードをキーとし、そのワイルドカードにマッチするサブ式を値とする辞書を返します。"
   ]
  },
  {
   "cell_type": "markdown",
   "metadata": {},
   "source": [
    ":::{tip}\n",
    "SymPyが提供する`init_printing()`を実行すると、数学記号を使用して演算結果を表示できます。ただし、Pythonの組み込みオブジェクトもLaTeX表示に変換されます。本書では、組み込みオブジェクトを通常のテキストで表示し、本書で提供されている`%latex`マジックメソッドを使用して組み込みオブジェクトをLaTeXに変換します。\n",
    ":::"
   ]
  },
  {
   "cell_type": "code",
   "execution_count": 58,
   "metadata": {
    "collapsed": false,
    "jupyter": {
     "outputs_hidden": false
    }
   },
   "outputs": [
    {
     "data": {
      "text/latex": [
       "$$\\left\\{ a : 3 x, \\  b : x + y\\right\\}$$"
      ]
     },
     "metadata": {},
     "output_type": "display_data"
    }
   ],
   "source": [
    "x, y = symbols(\"x, y\")\n",
    "a = Wild(\"a\")\n",
    "b = Wild(\"b\")\n",
    "%latex (3 * x * (x + y)**2).match(a * b**2)"
   ]
  },
  {
   "cell_type": "markdown",
   "metadata": {},
   "source": [
    "`find()`メソッドは、式のツリー構造内でテンプレートにマッチするすべてのサブツリーを検索します。以下は、$(x + y)^3$の展開式でテンプレートにマッチするすべてのサブ式を検索します："
   ]
  },
  {
   "cell_type": "code",
   "execution_count": 59,
   "metadata": {
    "collapsed": false,
    "jupyter": {
     "outputs_hidden": false
    }
   },
   "outputs": [
    {
     "data": {
      "text/latex": [
       "$$x^{3} + 3 x^{2} y + 3 x y^{2} + y^{3}$$"
      ]
     },
     "metadata": {},
     "output_type": "display_data"
    },
    {
     "data": {
      "text/latex": [
       "$$\\left\\{2, 3, x, x^{2}, x^{3}, y, y^{2}, y^{3}, 3 x y^{2}, 3 x^{2} y, x^{3} + 3 x^{2} y + 3 x y^{2} + y^{3}\\right\\}$$"
      ]
     },
     "metadata": {},
     "output_type": "display_data"
    }
   ],
   "source": [
    "expr = expand((x + y) ** 3)\n",
    "%latex expr\n",
    "%latex expr.find(a * b**2)"
   ]
  },
  {
   "cell_type": "markdown",
   "metadata": {},
   "source": [
    "整数2がテンプレートにマッチするのは意外です。以下の`find_match()`を使用して、すべてのサブ式とテンプレートのマッチ結果を出力します。次の表に示すように："
   ]
  },
  {
   "cell_type": "code",
   "execution_count": 60,
   "metadata": {
    "collapsed": false,
    "jupyter": {
     "outputs_hidden": false
    }
   },
   "outputs": [
    {
     "data": {
      "text/html": [
       "<div id=\"gbvmevzehx\" style=\"padding-left:0px;padding-right:0px;padding-top:10px;padding-bottom:10px;overflow-x:auto;overflow-y:auto;width:auto;height:auto;\">\n",
       "<style>\n",
       "#gbvmevzehx table {\n",
       "          font-family: -apple-system, BlinkMacSystemFont, 'Segoe UI', Roboto, Oxygen, Ubuntu, Cantarell, 'Helvetica Neue', 'Fira Sans', 'Droid Sans', Arial, sans-serif;\n",
       "          -webkit-font-smoothing: antialiased;\n",
       "          -moz-osx-font-smoothing: grayscale;\n",
       "        }\n",
       "\n",
       "#gbvmevzehx thead, tbody, tfoot, tr, td, th { border-style: none; }\n",
       " tr { background-color: transparent; }\n",
       "#gbvmevzehx p { margin: 0; padding: 0; }\n",
       " #gbvmevzehx .gt_table { display: table; border-collapse: collapse; line-height: normal; margin-left: auto; margin-right: auto; color: #333333; font-size: 16px; font-weight: normal; font-style: normal; background-color: #FFFFFF; width: auto; border-top-style: solid; border-top-width: 2px; border-top-color: #A8A8A8; border-right-style: none; border-right-width: 2px; border-right-color: #D3D3D3; border-bottom-style: solid; border-bottom-width: 2px; border-bottom-color: #A8A8A8; border-left-style: none; border-left-width: 2px; border-left-color: #D3D3D3; }\n",
       " #gbvmevzehx .gt_caption { padding-top: 4px; padding-bottom: 4px; }\n",
       " #gbvmevzehx .gt_title { color: #333333; font-size: 125%; font-weight: initial; padding-top: 4px; padding-bottom: 4px; padding-left: 5px; padding-right: 5px; border-bottom-color: #FFFFFF; border-bottom-width: 0; }\n",
       " #gbvmevzehx .gt_subtitle { color: #333333; font-size: 85%; font-weight: initial; padding-top: 3px; padding-bottom: 5px; padding-left: 5px; padding-right: 5px; border-top-color: #FFFFFF; border-top-width: 0; }\n",
       " #gbvmevzehx .gt_heading { background-color: #FFFFFF; text-align: center; border-bottom-color: #FFFFFF; border-left-style: none; border-left-width: 1px; border-left-color: #D3D3D3; border-right-style: none; border-right-width: 1px; border-right-color: #D3D3D3; }\n",
       " #gbvmevzehx .gt_bottom_border { border-bottom-style: solid; border-bottom-width: 2px; border-bottom-color: #D3D3D3; }\n",
       " #gbvmevzehx .gt_col_headings { border-top-style: solid; border-top-width: 2px; border-top-color: #D3D3D3; border-bottom-style: solid; border-bottom-width: 2px; border-bottom-color: #D3D3D3; border-left-style: none; border-left-width: 1px; border-left-color: #D3D3D3; border-right-style: none; border-right-width: 1px; border-right-color: #D3D3D3; }\n",
       " #gbvmevzehx .gt_col_heading { color: #333333; background-color: #FFFFFF; font-size: 100%; font-weight: normal; text-transform: inherit; border-left-style: none; border-left-width: 1px; border-left-color: #D3D3D3; border-right-style: none; border-right-width: 1px; border-right-color: #D3D3D3; vertical-align: bottom; padding-top: 5px; padding-bottom: 5px; padding-left: 5px; padding-right: 5px; overflow-x: hidden; }\n",
       " #gbvmevzehx .gt_column_spanner_outer { color: #333333; background-color: #FFFFFF; font-size: 100%; font-weight: normal; text-transform: inherit; padding-top: 0; padding-bottom: 0; padding-left: 4px; padding-right: 4px; }\n",
       " #gbvmevzehx .gt_column_spanner_outer:first-child { padding-left: 0; }\n",
       " #gbvmevzehx .gt_column_spanner_outer:last-child { padding-right: 0; }\n",
       " #gbvmevzehx .gt_column_spanner { border-bottom-style: solid; border-bottom-width: 2px; border-bottom-color: #D3D3D3; vertical-align: bottom; padding-top: 5px; padding-bottom: 5px; overflow-x: hidden; display: inline-block; width: 100%; }\n",
       " #gbvmevzehx .gt_spanner_row { border-bottom-style: hidden; }\n",
       " #gbvmevzehx .gt_group_heading { padding-top: 8px; padding-bottom: 8px; padding-left: 5px; padding-right: 5px; color: #333333; background-color: #FFFFFF; font-size: 100%; font-weight: initial; text-transform: inherit; border-top-style: solid; border-top-width: 2px; border-top-color: #D3D3D3; border-bottom-style: solid; border-bottom-width: 2px; border-bottom-color: #D3D3D3; border-left-style: none; border-left-width: 1px; border-left-color: #D3D3D3; border-right-style: none; border-right-width: 1px; border-right-color: #D3D3D3; vertical-align: middle; text-align: left; }\n",
       " #gbvmevzehx .gt_empty_group_heading { padding: 0.5px; color: #333333; background-color: #FFFFFF; font-size: 100%; font-weight: initial; border-top-style: solid; border-top-width: 2px; border-top-color: #D3D3D3; border-bottom-style: solid; border-bottom-width: 2px; border-bottom-color: #D3D3D3; vertical-align: middle; }\n",
       " #gbvmevzehx .gt_from_md> :first-child { margin-top: 0; }\n",
       " #gbvmevzehx .gt_from_md> :last-child { margin-bottom: 0; }\n",
       " #gbvmevzehx .gt_row { padding-top: 8px; padding-bottom: 8px; padding-left: 5px; padding-right: 5px; margin: 10px; border-top-style: solid; border-top-width: 1px; border-top-color: #D3D3D3; border-left-style: none; border-left-width: 1px; border-left-color: #D3D3D3; border-right-style: none; border-right-width: 1px; border-right-color: #D3D3D3; vertical-align: middle; overflow-x: hidden; }\n",
       " #gbvmevzehx .gt_stub { color: #333333; background-color: #FFFFFF; font-size: 100%; font-weight: initial; text-transform: inherit; border-right-style: solid; border-right-width: 2px; border-right-color: #D3D3D3; padding-left: 5px; padding-right: 5px; }\n",
       " #gbvmevzehx .gt_stub_row_group { color: #333333; background-color: #FFFFFF; font-size: 100%; font-weight: initial; text-transform: inherit; border-right-style: solid; border-right-width: 2px; border-right-color: #D3D3D3; padding-left: 5px; padding-right: 5px; vertical-align: top; }\n",
       " #gbvmevzehx .gt_row_group_first td { border-top-width: 2px; }\n",
       " #gbvmevzehx .gt_row_group_first th { border-top-width: 2px; }\n",
       " #gbvmevzehx .gt_striped { background-color: rgba(128,128,128,0.05); }\n",
       " #gbvmevzehx .gt_table_body { border-top-style: solid; border-top-width: 2px; border-top-color: #D3D3D3; border-bottom-style: solid; border-bottom-width: 2px; border-bottom-color: #D3D3D3; }\n",
       " #gbvmevzehx .gt_sourcenotes { color: #333333; background-color: #FFFFFF; border-bottom-style: none; border-bottom-width: 2px; border-bottom-color: #D3D3D3; border-left-style: none; border-left-width: 2px; border-left-color: #D3D3D3; border-right-style: none; border-right-width: 2px; border-right-color: #D3D3D3; }\n",
       " #gbvmevzehx .gt_sourcenote { font-size: 90%; padding-top: 4px; padding-bottom: 4px; padding-left: 5px; padding-right: 5px; text-align: left; }\n",
       " #gbvmevzehx .gt_left { text-align: left; }\n",
       " #gbvmevzehx .gt_center { text-align: center; }\n",
       " #gbvmevzehx .gt_right { text-align: right; font-variant-numeric: tabular-nums; }\n",
       " #gbvmevzehx .gt_font_normal { font-weight: normal; }\n",
       " #gbvmevzehx .gt_font_bold { font-weight: bold; }\n",
       " #gbvmevzehx .gt_font_italic { font-style: italic; }\n",
       " #gbvmevzehx .gt_super { font-size: 65%; }\n",
       " #gbvmevzehx .gt_footnote_marks { font-size: 75%; vertical-align: 0.4em; position: initial; }\n",
       " #gbvmevzehx .gt_asterisk { font-size: 100%; vertical-align: 0; }\n",
       " \n",
       "</style>\n",
       "<table class=\"gt_table\" data-quarto-disable-processing=\"false\" data-quarto-bootstrap=\"false\">\n",
       "<thead>\n",
       "\n",
       "<tr class=\"gt_col_headings\">\n",
       "  <th class=\"gt_col_heading gt_columns_bottom_border gt_left\" rowspan=\"1\" colspan=\"1\" scope=\"col\" id=\"式\">式</th>\n",
       "  <th class=\"gt_col_heading gt_columns_bottom_border gt_left\" rowspan=\"1\" colspan=\"1\" scope=\"col\" id=\"マッチ結果\">マッチ結果</th>\n",
       "</tr>\n",
       "</thead>\n",
       "<tbody class=\"gt_table_body\">\n",
       "  <tr>\n",
       "    <td class=\"gt_row gt_left\"><div class=\"math\">\\[2\\]</div></td>\n",
       "    <td class=\"gt_row gt_left\"><div class=\"math\">\\[\\left\\{ a : 1, \\  b : \\sqrt{2}\\right\\}\\]</div></td>\n",
       "  </tr>\n",
       "  <tr>\n",
       "    <td class=\"gt_row gt_left\"><div class=\"math\">\\[3\\]</div></td>\n",
       "    <td class=\"gt_row gt_left\"><div class=\"math\">\\[\\left\\{ a : 1, \\  b : \\sqrt{3}\\right\\}\\]</div></td>\n",
       "  </tr>\n",
       "  <tr>\n",
       "    <td class=\"gt_row gt_left\"><div class=\"math\">\\[3 x y^{2}\\]</div></td>\n",
       "    <td class=\"gt_row gt_left\"><div class=\"math\">\\[\\left\\{ a : 3 x, \\  b : y\\right\\}\\]</div></td>\n",
       "  </tr>\n",
       "  <tr>\n",
       "    <td class=\"gt_row gt_left\"><div class=\"math\">\\[3 x^{2} y\\]</div></td>\n",
       "    <td class=\"gt_row gt_left\"><div class=\"math\">\\[\\left\\{ a : 3 y, \\  b : x\\right\\}\\]</div></td>\n",
       "  </tr>\n",
       "  <tr>\n",
       "    <td class=\"gt_row gt_left\"><div class=\"math\">\\[x\\]</div></td>\n",
       "    <td class=\"gt_row gt_left\"><div class=\"math\">\\[\\left\\{ a : 1, \\  b : \\sqrt{x}\\right\\}\\]</div></td>\n",
       "  </tr>\n",
       "  <tr>\n",
       "    <td class=\"gt_row gt_left\"><div class=\"math\">\\[y^{2}\\]</div></td>\n",
       "    <td class=\"gt_row gt_left\"><div class=\"math\">\\[\\left\\{ a : 1, \\  b : y\\right\\}\\]</div></td>\n",
       "  </tr>\n",
       "  <tr>\n",
       "    <td class=\"gt_row gt_left\"><div class=\"math\">\\[x^{3} + 3 x^{2} y + 3 x y^{2} + y^{3}\\]</div></td>\n",
       "    <td class=\"gt_row gt_left\"><div class=\"math\">\\[\\left\\{ a : 1, \\  b : \\sqrt{x^{3} + 3 x^{2} y + 3 x y^{2} + y^{3}}\\right\\}\\]</div></td>\n",
       "  </tr>\n",
       "  <tr>\n",
       "    <td class=\"gt_row gt_left\"><div class=\"math\">\\[x^{3}\\]</div></td>\n",
       "    <td class=\"gt_row gt_left\"><div class=\"math\">\\[\\left\\{ a : 1, \\  b : x^{\\frac{3}{2}}\\right\\}\\]</div></td>\n",
       "  </tr>\n",
       "  <tr>\n",
       "    <td class=\"gt_row gt_left\"><div class=\"math\">\\[x^{2}\\]</div></td>\n",
       "    <td class=\"gt_row gt_left\"><div class=\"math\">\\[\\left\\{ a : 1, \\  b : x\\right\\}\\]</div></td>\n",
       "  </tr>\n",
       "  <tr>\n",
       "    <td class=\"gt_row gt_left\"><div class=\"math\">\\[y\\]</div></td>\n",
       "    <td class=\"gt_row gt_left\"><div class=\"math\">\\[\\left\\{ a : 1, \\  b : \\sqrt{y}\\right\\}\\]</div></td>\n",
       "  </tr>\n",
       "  <tr>\n",
       "    <td class=\"gt_row gt_left\"><div class=\"math\">\\[y^{3}\\]</div></td>\n",
       "    <td class=\"gt_row gt_left\"><div class=\"math\">\\[\\left\\{ a : 1, \\  b : y^{\\frac{3}{2}}\\right\\}\\]</div></td>\n",
       "  </tr>\n",
       "</tbody>\n",
       "\n",
       "\n",
       "</table>\n",
       "\n",
       "</div>\n",
       "        "
      ],
      "text/plain": [
       "GT(_tbl_data=shape: (11, 2)\n",
       "┌─────────────────────────────────┬─────────────────────────────────┐\n",
       "│ 式                              ┆ マッチ結果                      │\n",
       "│ ---                             ┆ ---                             │\n",
       "│ str                             ┆ str                             │\n",
       "╞═════════════════════════════════╪═════════════════════════════════╡\n",
       "│ 2                               ┆ \\left\\{ a : 1, \\  b : \\sqrt{2}… │\n",
       "│ 3                               ┆ \\left\\{ a : 1, \\  b : \\sqrt{3}… │\n",
       "│ 3 x y^{2}                       ┆ \\left\\{ a : 3 x, \\  b : y\\righ… │\n",
       "│ 3 x^{2} y                       ┆ \\left\\{ a : 3 y, \\  b : x\\righ… │\n",
       "│ x                               ┆ \\left\\{ a : 1, \\  b : \\sqrt{x}… │\n",
       "│ …                               ┆ …                               │\n",
       "│ x^{3} + 3 x^{2} y + 3 x y^{2} … ┆ \\left\\{ a : 1, \\  b : \\sqrt{x^… │\n",
       "│ x^{3}                           ┆ \\left\\{ a : 1, \\  b : x^{\\frac… │\n",
       "│ x^{2}                           ┆ \\left\\{ a : 1, \\  b : x\\right\\… │\n",
       "│ y                               ┆ \\left\\{ a : 1, \\  b : \\sqrt{y}… │\n",
       "│ y^{3}                           ┆ \\left\\{ a : 1, \\  b : y^{\\frac… │\n",
       "└─────────────────────────────────┴─────────────────────────────────┘, _body=<great_tables._gt_data.Body object at 0x0000021DB785DFD0>, _boxhead=Boxhead([ColInfo(var='式', type=<ColInfoTypeEnum.default: 1>, column_label='式', column_align='left', column_width=None), ColInfo(var='マッチ結果', type=<ColInfoTypeEnum.default: 1>, column_label='マッチ結果', column_align='left', column_width=None)]), _stub=<great_tables._gt_data.Stub object at 0x0000021DB785DD30>, _spanners=Spanners([]), _heading=Heading(title=None, subtitle=None, preheader=None), _stubhead=None, _source_notes=[], _footnotes=[], _styles=[], _locale=<great_tables._gt_data.Locale object at 0x0000021DB785E3C0>, _formats=[<great_tables._gt_data.FormatInfo object at 0x0000021DB785E660>], _substitutions=[], _options=Options(table_id=OptionsInfo(scss=False, category='table', type='value', value=None), table_caption=OptionsInfo(scss=False, category='table', type='value', value=None), table_width=OptionsInfo(scss=True, category='table', type='px', value='auto'), table_layout=OptionsInfo(scss=True, category='table', type='value', value='fixed'), table_margin_left=OptionsInfo(scss=True, category='table', type='px', value='auto'), table_margin_right=OptionsInfo(scss=True, category='table', type='px', value='auto'), table_background_color=OptionsInfo(scss=True, category='table', type='value', value='#FFFFFF'), table_additional_css=OptionsInfo(scss=False, category='table', type='values', value=[]), table_font_names=OptionsInfo(scss=False, category='table', type='values', value=['-apple-system', 'BlinkMacSystemFont', 'Segoe UI', 'Roboto', 'Oxygen', 'Ubuntu', 'Cantarell', 'Helvetica Neue', 'Fira Sans', 'Droid Sans', 'Arial', 'sans-serif']), table_font_size=OptionsInfo(scss=True, category='table', type='px', value='16px'), table_font_weight=OptionsInfo(scss=True, category='table', type='value', value='normal'), table_font_style=OptionsInfo(scss=True, category='table', type='value', value='normal'), table_font_color=OptionsInfo(scss=True, category='table', type='value', value='#333333'), table_font_color_light=OptionsInfo(scss=True, category='table', type='value', value='#FFFFFF'), table_border_top_include=OptionsInfo(scss=False, category='table', type='boolean', value=True), table_border_top_style=OptionsInfo(scss=True, category='table', type='value', value='solid'), table_border_top_width=OptionsInfo(scss=True, category='table', type='px', value='2px'), table_border_top_color=OptionsInfo(scss=True, category='table', type='value', value='#A8A8A8'), table_border_right_style=OptionsInfo(scss=True, category='table', type='value', value='none'), table_border_right_width=OptionsInfo(scss=True, category='table', type='px', value='2px'), table_border_right_color=OptionsInfo(scss=True, category='table', type='value', value='#D3D3D3'), table_border_bottom_include=OptionsInfo(scss=False, category='table', type='boolean', value=True), table_border_bottom_style=OptionsInfo(scss=True, category='table', type='value', value='solid'), table_border_bottom_width=OptionsInfo(scss=True, category='table', type='px', value='2px'), table_border_bottom_color=OptionsInfo(scss=True, category='table', type='value', value='#A8A8A8'), table_border_left_style=OptionsInfo(scss=True, category='table', type='value', value='none'), table_border_left_width=OptionsInfo(scss=True, category='table', type='px', value='2px'), table_border_left_color=OptionsInfo(scss=True, category='table', type='value', value='#D3D3D3'), heading_background_color=OptionsInfo(scss=True, category='heading', type='value', value=None), heading_align=OptionsInfo(scss=True, category='heading', type='value', value='center'), heading_title_font_size=OptionsInfo(scss=True, category='heading', type='px', value='125%'), heading_title_font_weight=OptionsInfo(scss=True, category='heading', type='value', value='initial'), heading_subtitle_font_size=OptionsInfo(scss=True, category='heading', type='px', value='85%'), heading_subtitle_font_weight=OptionsInfo(scss=True, category='heading', type='value', value='initial'), heading_padding=OptionsInfo(scss=True, category='heading', type='px', value='4px'), heading_padding_horizontal=OptionsInfo(scss=True, category='heading', type='px', value='5px'), heading_border_bottom_style=OptionsInfo(scss=True, category='heading', type='value', value='solid'), heading_border_bottom_width=OptionsInfo(scss=True, category='heading', type='px', value='2px'), heading_border_bottom_color=OptionsInfo(scss=True, category='heading', type='value', value='#D3D3D3'), heading_border_lr_style=OptionsInfo(scss=True, category='heading', type='value', value='none'), heading_border_lr_width=OptionsInfo(scss=True, category='heading', type='px', value='1px'), heading_border_lr_color=OptionsInfo(scss=True, category='heading', type='value', value='#D3D3D3'), column_labels_background_color=OptionsInfo(scss=True, category='column_labels', type='value', value=None), column_labels_font_size=OptionsInfo(scss=True, category='column_labels', type='px', value='100%'), column_labels_font_weight=OptionsInfo(scss=True, category='column_labels', type='value', value='normal'), column_labels_text_transform=OptionsInfo(scss=True, category='column_labels', type='value', value='inherit'), column_labels_padding=OptionsInfo(scss=True, category='column_labels', type='px', value='5px'), column_labels_padding_horizontal=OptionsInfo(scss=True, category='column_labels', type='px', value='5px'), column_labels_vlines_style=OptionsInfo(scss=True, category='table_body', type='value', value='none'), column_labels_vlines_width=OptionsInfo(scss=True, category='table_body', type='px', value='1px'), column_labels_vlines_color=OptionsInfo(scss=True, category='table_body', type='value', value='#D3D3D3'), column_labels_border_top_style=OptionsInfo(scss=True, category='column_labels', type='value', value='solid'), column_labels_border_top_width=OptionsInfo(scss=True, category='column_labels', type='px', value='2px'), column_labels_border_top_color=OptionsInfo(scss=True, category='column_labels', type='value', value='#D3D3D3'), column_labels_border_bottom_style=OptionsInfo(scss=True, category='column_labels', type='value', value='solid'), column_labels_border_bottom_width=OptionsInfo(scss=True, category='column_labels', type='px', value='2px'), column_labels_border_bottom_color=OptionsInfo(scss=True, category='column_labels', type='value', value='#D3D3D3'), column_labels_border_lr_style=OptionsInfo(scss=True, category='column_labels', type='value', value='none'), column_labels_border_lr_width=OptionsInfo(scss=True, category='column_labels', type='px', value='1px'), column_labels_border_lr_color=OptionsInfo(scss=True, category='column_labels', type='value', value='#D3D3D3'), column_labels_hidden=OptionsInfo(scss=False, category='column_labels', type='boolean', value=False), row_group_background_color=OptionsInfo(scss=True, category='row_group', type='value', value=None), row_group_font_size=OptionsInfo(scss=True, category='row_group', type='px', value='100%'), row_group_font_weight=OptionsInfo(scss=True, category='row_group', type='value', value='initial'), row_group_text_transform=OptionsInfo(scss=True, category='row_group', type='value', value='inherit'), row_group_padding=OptionsInfo(scss=True, category='row_group', type='px', value='8px'), row_group_padding_horizontal=OptionsInfo(scss=True, category='row_group', type='px', value='5px'), row_group_border_top_style=OptionsInfo(scss=True, category='row_group', type='value', value='solid'), row_group_border_top_width=OptionsInfo(scss=True, category='row_group', type='px', value='2px'), row_group_border_top_color=OptionsInfo(scss=True, category='row_group', type='value', value='#D3D3D3'), row_group_border_right_style=OptionsInfo(scss=True, category='row_group', type='value', value='none'), row_group_border_right_width=OptionsInfo(scss=True, category='row_group', type='px', value='1px'), row_group_border_right_color=OptionsInfo(scss=True, category='row_group', type='value', value='#D3D3D3'), row_group_border_bottom_style=OptionsInfo(scss=True, category='row_group', type='value', value='solid'), row_group_border_bottom_width=OptionsInfo(scss=True, category='row_group', type='px', value='2px'), row_group_border_bottom_color=OptionsInfo(scss=True, category='row_group', type='value', value='#D3D3D3'), row_group_border_left_style=OptionsInfo(scss=True, category='row_group', type='value', value='none'), row_group_border_left_width=OptionsInfo(scss=True, category='row_group', type='px', value='1px'), row_group_border_left_color=OptionsInfo(scss=True, category='row_group', type='value', value='#D3D3D3'), row_group_as_column=OptionsInfo(scss=False, category='row_group', type='boolean', value=False), table_body_hlines_style=OptionsInfo(scss=True, category='table_body', type='value', value='solid'), table_body_hlines_width=OptionsInfo(scss=True, category='table_body', type='px', value='1px'), table_body_hlines_color=OptionsInfo(scss=True, category='table_body', type='value', value='#D3D3D3'), table_body_vlines_style=OptionsInfo(scss=True, category='table_body', type='value', value='none'), table_body_vlines_width=OptionsInfo(scss=True, category='table_body', type='px', value='1px'), table_body_vlines_color=OptionsInfo(scss=True, category='table_body', type='value', value='#D3D3D3'), table_body_border_top_style=OptionsInfo(scss=True, category='table_body', type='value', value='solid'), table_body_border_top_width=OptionsInfo(scss=True, category='table_body', type='px', value='2px'), table_body_border_top_color=OptionsInfo(scss=True, category='table_body', type='value', value='#D3D3D3'), table_body_border_bottom_style=OptionsInfo(scss=True, category='table_body', type='value', value='solid'), table_body_border_bottom_width=OptionsInfo(scss=True, category='table_body', type='px', value='2px'), table_body_border_bottom_color=OptionsInfo(scss=True, category='table_body', type='value', value='#D3D3D3'), data_row_padding=OptionsInfo(scss=True, category='data_row', type='px', value='8px'), data_row_padding_horizontal=OptionsInfo(scss=True, category='data_row', type='px', value='5px'), stub_background_color=OptionsInfo(scss=True, category='stub', type='value', value=None), stub_font_size=OptionsInfo(scss=True, category='stub', type='px', value='100%'), stub_font_weight=OptionsInfo(scss=True, category='stub', type='value', value='initial'), stub_text_transform=OptionsInfo(scss=True, category='stub', type='value', value='inherit'), stub_border_style=OptionsInfo(scss=True, category='stub', type='value', value='solid'), stub_border_width=OptionsInfo(scss=True, category='stub', type='px', value='2px'), stub_border_color=OptionsInfo(scss=True, category='stub', type='value', value='#D3D3D3'), stub_row_group_background_color=OptionsInfo(scss=True, category='stub', type='value', value=None), stub_row_group_font_size=OptionsInfo(scss=True, category='stub', type='px', value='100%'), stub_row_group_font_weight=OptionsInfo(scss=True, category='stub', type='value', value='initial'), stub_row_group_text_transform=OptionsInfo(scss=True, category='stub', type='value', value='inherit'), stub_row_group_border_style=OptionsInfo(scss=True, category='stub', type='value', value='solid'), stub_row_group_border_width=OptionsInfo(scss=True, category='stub', type='px', value='2px'), stub_row_group_border_color=OptionsInfo(scss=True, category='stub', type='value', value='#D3D3D3'), source_notes_padding=OptionsInfo(scss=True, category='source_notes', type='px', value='4px'), source_notes_padding_horizontal=OptionsInfo(scss=True, category='source_notes', type='px', value='5px'), source_notes_background_color=OptionsInfo(scss=True, category='source_notes', type='value', value=None), source_notes_font_size=OptionsInfo(scss=True, category='source_notes', type='px', value='90%'), source_notes_border_bottom_style=OptionsInfo(scss=True, category='source_notes', type='value', value='none'), source_notes_border_bottom_width=OptionsInfo(scss=True, category='source_notes', type='px', value='2px'), source_notes_border_bottom_color=OptionsInfo(scss=True, category='source_notes', type='value', value='#D3D3D3'), source_notes_border_lr_style=OptionsInfo(scss=True, category='source_notes', type='value', value='none'), source_notes_border_lr_width=OptionsInfo(scss=True, category='source_notes', type='px', value='2px'), source_notes_border_lr_color=OptionsInfo(scss=True, category='source_notes', type='value', value='#D3D3D3'), source_notes_multiline=OptionsInfo(scss=False, category='source_notes', type='boolean', value=True), source_notes_sep=OptionsInfo(scss=False, category='source_notes', type='value', value=' '), row_striping_background_color=OptionsInfo(scss=True, category='row', type='value', value='rgba(128,128,128,0.05)'), row_striping_include_stub=OptionsInfo(scss=False, category='row', type='boolean', value=False), row_striping_include_table_body=OptionsInfo(scss=False, category='row', type='boolean', value=False), container_width=OptionsInfo(scss=False, category='container', type='px', value='auto'), container_height=OptionsInfo(scss=False, category='container', type='px', value='auto'), container_padding_x=OptionsInfo(scss=False, category='container', type='px', value='0px'), container_padding_y=OptionsInfo(scss=False, category='container', type='px', value='10px'), container_overflow_x=OptionsInfo(scss=False, category='container', type='overflow', value='auto'), container_overflow_y=OptionsInfo(scss=False, category='container', type='overflow', value='auto'), quarto_disable_processing=OptionsInfo(scss=False, category='quarto', type='logical', value=False), quarto_use_bootstrap=OptionsInfo(scss=False, category='quarto', type='logical', value=False)), _has_built=False)"
      ]
     },
     "execution_count": 60,
     "metadata": {},
     "output_type": "execute_result"
    }
   ],
   "source": [
    "from helper.html import latex_table\n",
    "\n",
    "def find_match(expr, pattern):\n",
    "    return [e.match(pattern) for e in expr.find(pattern)]\n",
    "\n",
    "\n",
    "def display_match_table(expr, pattern):\n",
    "    sub_exprs = expr.find(pattern)\n",
    "    rows = [\n",
    "        (f\"{latex(sub_expr)}\", f\"{latex(sub_expr.match(pattern))}\")\n",
    "        for sub_expr in sub_exprs\n",
    "    ]\n",
    "    columns = [\"式\", \"マッチ結果\"]\n",
    "    return latex_table(rows, columns, columns)\n",
    "\n",
    "find_match(expr, a * b**2)\n",
    "display_match_table(expr, a * b**2)"
   ]
  },
  {
   "cell_type": "markdown",
   "metadata": {},
   "source": [
    "上記の結果から、テンプレートと式のマッチングプロセスでSymPyは式を変換し、数学的に正しいマッチング結果を見つけることがわかります。これらの式変換によって得られた結果を除外するために、ワイルドカードを定義する際に`exclude`パラメータを使用して、マッチできないオブジェクトのリストを指定できます。ワイルドカードにマッチする式にこのパラメータ内のオブジェクトが含まれている場合、マッチングは失敗します。以下のワイルドカード`a`と`b`はどちらも整数1を含むことができず、`b`は指数演算を含むことができません。SymPyでは平方根は指数式で表されることに注意してください。次の表を参照してください。"
   ]
  },
  {
   "cell_type": "code",
   "execution_count": 61,
   "metadata": {
    "collapsed": false,
    "jupyter": {
     "outputs_hidden": false
    }
   },
   "outputs": [
    {
     "data": {
      "text/html": [
       "<div id=\"ksanqbnbyv\" style=\"padding-left:0px;padding-right:0px;padding-top:10px;padding-bottom:10px;overflow-x:auto;overflow-y:auto;width:auto;height:auto;\">\n",
       "<style>\n",
       "#ksanqbnbyv table {\n",
       "          font-family: -apple-system, BlinkMacSystemFont, 'Segoe UI', Roboto, Oxygen, Ubuntu, Cantarell, 'Helvetica Neue', 'Fira Sans', 'Droid Sans', Arial, sans-serif;\n",
       "          -webkit-font-smoothing: antialiased;\n",
       "          -moz-osx-font-smoothing: grayscale;\n",
       "        }\n",
       "\n",
       "#ksanqbnbyv thead, tbody, tfoot, tr, td, th { border-style: none; }\n",
       " tr { background-color: transparent; }\n",
       "#ksanqbnbyv p { margin: 0; padding: 0; }\n",
       " #ksanqbnbyv .gt_table { display: table; border-collapse: collapse; line-height: normal; margin-left: auto; margin-right: auto; color: #333333; font-size: 16px; font-weight: normal; font-style: normal; background-color: #FFFFFF; width: auto; border-top-style: solid; border-top-width: 2px; border-top-color: #A8A8A8; border-right-style: none; border-right-width: 2px; border-right-color: #D3D3D3; border-bottom-style: solid; border-bottom-width: 2px; border-bottom-color: #A8A8A8; border-left-style: none; border-left-width: 2px; border-left-color: #D3D3D3; }\n",
       " #ksanqbnbyv .gt_caption { padding-top: 4px; padding-bottom: 4px; }\n",
       " #ksanqbnbyv .gt_title { color: #333333; font-size: 125%; font-weight: initial; padding-top: 4px; padding-bottom: 4px; padding-left: 5px; padding-right: 5px; border-bottom-color: #FFFFFF; border-bottom-width: 0; }\n",
       " #ksanqbnbyv .gt_subtitle { color: #333333; font-size: 85%; font-weight: initial; padding-top: 3px; padding-bottom: 5px; padding-left: 5px; padding-right: 5px; border-top-color: #FFFFFF; border-top-width: 0; }\n",
       " #ksanqbnbyv .gt_heading { background-color: #FFFFFF; text-align: center; border-bottom-color: #FFFFFF; border-left-style: none; border-left-width: 1px; border-left-color: #D3D3D3; border-right-style: none; border-right-width: 1px; border-right-color: #D3D3D3; }\n",
       " #ksanqbnbyv .gt_bottom_border { border-bottom-style: solid; border-bottom-width: 2px; border-bottom-color: #D3D3D3; }\n",
       " #ksanqbnbyv .gt_col_headings { border-top-style: solid; border-top-width: 2px; border-top-color: #D3D3D3; border-bottom-style: solid; border-bottom-width: 2px; border-bottom-color: #D3D3D3; border-left-style: none; border-left-width: 1px; border-left-color: #D3D3D3; border-right-style: none; border-right-width: 1px; border-right-color: #D3D3D3; }\n",
       " #ksanqbnbyv .gt_col_heading { color: #333333; background-color: #FFFFFF; font-size: 100%; font-weight: normal; text-transform: inherit; border-left-style: none; border-left-width: 1px; border-left-color: #D3D3D3; border-right-style: none; border-right-width: 1px; border-right-color: #D3D3D3; vertical-align: bottom; padding-top: 5px; padding-bottom: 5px; padding-left: 5px; padding-right: 5px; overflow-x: hidden; }\n",
       " #ksanqbnbyv .gt_column_spanner_outer { color: #333333; background-color: #FFFFFF; font-size: 100%; font-weight: normal; text-transform: inherit; padding-top: 0; padding-bottom: 0; padding-left: 4px; padding-right: 4px; }\n",
       " #ksanqbnbyv .gt_column_spanner_outer:first-child { padding-left: 0; }\n",
       " #ksanqbnbyv .gt_column_spanner_outer:last-child { padding-right: 0; }\n",
       " #ksanqbnbyv .gt_column_spanner { border-bottom-style: solid; border-bottom-width: 2px; border-bottom-color: #D3D3D3; vertical-align: bottom; padding-top: 5px; padding-bottom: 5px; overflow-x: hidden; display: inline-block; width: 100%; }\n",
       " #ksanqbnbyv .gt_spanner_row { border-bottom-style: hidden; }\n",
       " #ksanqbnbyv .gt_group_heading { padding-top: 8px; padding-bottom: 8px; padding-left: 5px; padding-right: 5px; color: #333333; background-color: #FFFFFF; font-size: 100%; font-weight: initial; text-transform: inherit; border-top-style: solid; border-top-width: 2px; border-top-color: #D3D3D3; border-bottom-style: solid; border-bottom-width: 2px; border-bottom-color: #D3D3D3; border-left-style: none; border-left-width: 1px; border-left-color: #D3D3D3; border-right-style: none; border-right-width: 1px; border-right-color: #D3D3D3; vertical-align: middle; text-align: left; }\n",
       " #ksanqbnbyv .gt_empty_group_heading { padding: 0.5px; color: #333333; background-color: #FFFFFF; font-size: 100%; font-weight: initial; border-top-style: solid; border-top-width: 2px; border-top-color: #D3D3D3; border-bottom-style: solid; border-bottom-width: 2px; border-bottom-color: #D3D3D3; vertical-align: middle; }\n",
       " #ksanqbnbyv .gt_from_md> :first-child { margin-top: 0; }\n",
       " #ksanqbnbyv .gt_from_md> :last-child { margin-bottom: 0; }\n",
       " #ksanqbnbyv .gt_row { padding-top: 8px; padding-bottom: 8px; padding-left: 5px; padding-right: 5px; margin: 10px; border-top-style: solid; border-top-width: 1px; border-top-color: #D3D3D3; border-left-style: none; border-left-width: 1px; border-left-color: #D3D3D3; border-right-style: none; border-right-width: 1px; border-right-color: #D3D3D3; vertical-align: middle; overflow-x: hidden; }\n",
       " #ksanqbnbyv .gt_stub { color: #333333; background-color: #FFFFFF; font-size: 100%; font-weight: initial; text-transform: inherit; border-right-style: solid; border-right-width: 2px; border-right-color: #D3D3D3; padding-left: 5px; padding-right: 5px; }\n",
       " #ksanqbnbyv .gt_stub_row_group { color: #333333; background-color: #FFFFFF; font-size: 100%; font-weight: initial; text-transform: inherit; border-right-style: solid; border-right-width: 2px; border-right-color: #D3D3D3; padding-left: 5px; padding-right: 5px; vertical-align: top; }\n",
       " #ksanqbnbyv .gt_row_group_first td { border-top-width: 2px; }\n",
       " #ksanqbnbyv .gt_row_group_first th { border-top-width: 2px; }\n",
       " #ksanqbnbyv .gt_striped { background-color: rgba(128,128,128,0.05); }\n",
       " #ksanqbnbyv .gt_table_body { border-top-style: solid; border-top-width: 2px; border-top-color: #D3D3D3; border-bottom-style: solid; border-bottom-width: 2px; border-bottom-color: #D3D3D3; }\n",
       " #ksanqbnbyv .gt_sourcenotes { color: #333333; background-color: #FFFFFF; border-bottom-style: none; border-bottom-width: 2px; border-bottom-color: #D3D3D3; border-left-style: none; border-left-width: 2px; border-left-color: #D3D3D3; border-right-style: none; border-right-width: 2px; border-right-color: #D3D3D3; }\n",
       " #ksanqbnbyv .gt_sourcenote { font-size: 90%; padding-top: 4px; padding-bottom: 4px; padding-left: 5px; padding-right: 5px; text-align: left; }\n",
       " #ksanqbnbyv .gt_left { text-align: left; }\n",
       " #ksanqbnbyv .gt_center { text-align: center; }\n",
       " #ksanqbnbyv .gt_right { text-align: right; font-variant-numeric: tabular-nums; }\n",
       " #ksanqbnbyv .gt_font_normal { font-weight: normal; }\n",
       " #ksanqbnbyv .gt_font_bold { font-weight: bold; }\n",
       " #ksanqbnbyv .gt_font_italic { font-style: italic; }\n",
       " #ksanqbnbyv .gt_super { font-size: 65%; }\n",
       " #ksanqbnbyv .gt_footnote_marks { font-size: 75%; vertical-align: 0.4em; position: initial; }\n",
       " #ksanqbnbyv .gt_asterisk { font-size: 100%; vertical-align: 0; }\n",
       " \n",
       "</style>\n",
       "<table class=\"gt_table\" data-quarto-disable-processing=\"false\" data-quarto-bootstrap=\"false\">\n",
       "<thead>\n",
       "\n",
       "<tr class=\"gt_col_headings\">\n",
       "  <th class=\"gt_col_heading gt_columns_bottom_border gt_left\" rowspan=\"1\" colspan=\"1\" scope=\"col\" id=\"式\">式</th>\n",
       "  <th class=\"gt_col_heading gt_columns_bottom_border gt_left\" rowspan=\"1\" colspan=\"1\" scope=\"col\" id=\"マッチ結果\">マッチ結果</th>\n",
       "</tr>\n",
       "</thead>\n",
       "<tbody class=\"gt_table_body\">\n",
       "  <tr>\n",
       "    <td class=\"gt_row gt_left\"><div class=\"math\">\\[3 x y^{2}\\]</div></td>\n",
       "    <td class=\"gt_row gt_left\"><div class=\"math\">\\[\\left\\{ a : 3 x, \\  b : y\\right\\}\\]</div></td>\n",
       "  </tr>\n",
       "  <tr>\n",
       "    <td class=\"gt_row gt_left\"><div class=\"math\">\\[3 x^{2} y\\]</div></td>\n",
       "    <td class=\"gt_row gt_left\"><div class=\"math\">\\[\\left\\{ a : 3 y, \\  b : x\\right\\}\\]</div></td>\n",
       "  </tr>\n",
       "  <tr>\n",
       "    <td class=\"gt_row gt_left\"><div class=\"math\">\\[y^{3}\\]</div></td>\n",
       "    <td class=\"gt_row gt_left\"><div class=\"math\">\\[\\left\\{ a : y, \\  b : y\\right\\}\\]</div></td>\n",
       "  </tr>\n",
       "  <tr>\n",
       "    <td class=\"gt_row gt_left\"><div class=\"math\">\\[x^{3}\\]</div></td>\n",
       "    <td class=\"gt_row gt_left\"><div class=\"math\">\\[\\left\\{ a : x, \\  b : x\\right\\}\\]</div></td>\n",
       "  </tr>\n",
       "</tbody>\n",
       "\n",
       "\n",
       "</table>\n",
       "\n",
       "</div>\n",
       "        "
      ],
      "text/plain": [
       "GT(_tbl_data=shape: (4, 2)\n",
       "┌───────────┬─────────────────────────────────┐\n",
       "│ 式        ┆ マッチ結果                      │\n",
       "│ ---       ┆ ---                             │\n",
       "│ str       ┆ str                             │\n",
       "╞═══════════╪═════════════════════════════════╡\n",
       "│ 3 x y^{2} ┆ \\left\\{ a : 3 x, \\  b : y\\righ… │\n",
       "│ 3 x^{2} y ┆ \\left\\{ a : 3 y, \\  b : x\\righ… │\n",
       "│ y^{3}     ┆ \\left\\{ a : y, \\  b : y\\right\\… │\n",
       "│ x^{3}     ┆ \\left\\{ a : x, \\  b : x\\right\\… │\n",
       "└───────────┴─────────────────────────────────┘, _body=<great_tables._gt_data.Body object at 0x0000021DB7833360>, _boxhead=Boxhead([ColInfo(var='式', type=<ColInfoTypeEnum.default: 1>, column_label='式', column_align='left', column_width=None), ColInfo(var='マッチ結果', type=<ColInfoTypeEnum.default: 1>, column_label='マッチ結果', column_align='left', column_width=None)]), _stub=<great_tables._gt_data.Stub object at 0x0000021DB784E850>, _spanners=Spanners([]), _heading=Heading(title=None, subtitle=None, preheader=None), _stubhead=None, _source_notes=[], _footnotes=[], _styles=[], _locale=<great_tables._gt_data.Locale object at 0x0000021DB784E990>, _formats=[<great_tables._gt_data.FormatInfo object at 0x0000021DB784EFD0>], _substitutions=[], _options=Options(table_id=OptionsInfo(scss=False, category='table', type='value', value=None), table_caption=OptionsInfo(scss=False, category='table', type='value', value=None), table_width=OptionsInfo(scss=True, category='table', type='px', value='auto'), table_layout=OptionsInfo(scss=True, category='table', type='value', value='fixed'), table_margin_left=OptionsInfo(scss=True, category='table', type='px', value='auto'), table_margin_right=OptionsInfo(scss=True, category='table', type='px', value='auto'), table_background_color=OptionsInfo(scss=True, category='table', type='value', value='#FFFFFF'), table_additional_css=OptionsInfo(scss=False, category='table', type='values', value=[]), table_font_names=OptionsInfo(scss=False, category='table', type='values', value=['-apple-system', 'BlinkMacSystemFont', 'Segoe UI', 'Roboto', 'Oxygen', 'Ubuntu', 'Cantarell', 'Helvetica Neue', 'Fira Sans', 'Droid Sans', 'Arial', 'sans-serif']), table_font_size=OptionsInfo(scss=True, category='table', type='px', value='16px'), table_font_weight=OptionsInfo(scss=True, category='table', type='value', value='normal'), table_font_style=OptionsInfo(scss=True, category='table', type='value', value='normal'), table_font_color=OptionsInfo(scss=True, category='table', type='value', value='#333333'), table_font_color_light=OptionsInfo(scss=True, category='table', type='value', value='#FFFFFF'), table_border_top_include=OptionsInfo(scss=False, category='table', type='boolean', value=True), table_border_top_style=OptionsInfo(scss=True, category='table', type='value', value='solid'), table_border_top_width=OptionsInfo(scss=True, category='table', type='px', value='2px'), table_border_top_color=OptionsInfo(scss=True, category='table', type='value', value='#A8A8A8'), table_border_right_style=OptionsInfo(scss=True, category='table', type='value', value='none'), table_border_right_width=OptionsInfo(scss=True, category='table', type='px', value='2px'), table_border_right_color=OptionsInfo(scss=True, category='table', type='value', value='#D3D3D3'), table_border_bottom_include=OptionsInfo(scss=False, category='table', type='boolean', value=True), table_border_bottom_style=OptionsInfo(scss=True, category='table', type='value', value='solid'), table_border_bottom_width=OptionsInfo(scss=True, category='table', type='px', value='2px'), table_border_bottom_color=OptionsInfo(scss=True, category='table', type='value', value='#A8A8A8'), table_border_left_style=OptionsInfo(scss=True, category='table', type='value', value='none'), table_border_left_width=OptionsInfo(scss=True, category='table', type='px', value='2px'), table_border_left_color=OptionsInfo(scss=True, category='table', type='value', value='#D3D3D3'), heading_background_color=OptionsInfo(scss=True, category='heading', type='value', value=None), heading_align=OptionsInfo(scss=True, category='heading', type='value', value='center'), heading_title_font_size=OptionsInfo(scss=True, category='heading', type='px', value='125%'), heading_title_font_weight=OptionsInfo(scss=True, category='heading', type='value', value='initial'), heading_subtitle_font_size=OptionsInfo(scss=True, category='heading', type='px', value='85%'), heading_subtitle_font_weight=OptionsInfo(scss=True, category='heading', type='value', value='initial'), heading_padding=OptionsInfo(scss=True, category='heading', type='px', value='4px'), heading_padding_horizontal=OptionsInfo(scss=True, category='heading', type='px', value='5px'), heading_border_bottom_style=OptionsInfo(scss=True, category='heading', type='value', value='solid'), heading_border_bottom_width=OptionsInfo(scss=True, category='heading', type='px', value='2px'), heading_border_bottom_color=OptionsInfo(scss=True, category='heading', type='value', value='#D3D3D3'), heading_border_lr_style=OptionsInfo(scss=True, category='heading', type='value', value='none'), heading_border_lr_width=OptionsInfo(scss=True, category='heading', type='px', value='1px'), heading_border_lr_color=OptionsInfo(scss=True, category='heading', type='value', value='#D3D3D3'), column_labels_background_color=OptionsInfo(scss=True, category='column_labels', type='value', value=None), column_labels_font_size=OptionsInfo(scss=True, category='column_labels', type='px', value='100%'), column_labels_font_weight=OptionsInfo(scss=True, category='column_labels', type='value', value='normal'), column_labels_text_transform=OptionsInfo(scss=True, category='column_labels', type='value', value='inherit'), column_labels_padding=OptionsInfo(scss=True, category='column_labels', type='px', value='5px'), column_labels_padding_horizontal=OptionsInfo(scss=True, category='column_labels', type='px', value='5px'), column_labels_vlines_style=OptionsInfo(scss=True, category='table_body', type='value', value='none'), column_labels_vlines_width=OptionsInfo(scss=True, category='table_body', type='px', value='1px'), column_labels_vlines_color=OptionsInfo(scss=True, category='table_body', type='value', value='#D3D3D3'), column_labels_border_top_style=OptionsInfo(scss=True, category='column_labels', type='value', value='solid'), column_labels_border_top_width=OptionsInfo(scss=True, category='column_labels', type='px', value='2px'), column_labels_border_top_color=OptionsInfo(scss=True, category='column_labels', type='value', value='#D3D3D3'), column_labels_border_bottom_style=OptionsInfo(scss=True, category='column_labels', type='value', value='solid'), column_labels_border_bottom_width=OptionsInfo(scss=True, category='column_labels', type='px', value='2px'), column_labels_border_bottom_color=OptionsInfo(scss=True, category='column_labels', type='value', value='#D3D3D3'), column_labels_border_lr_style=OptionsInfo(scss=True, category='column_labels', type='value', value='none'), column_labels_border_lr_width=OptionsInfo(scss=True, category='column_labels', type='px', value='1px'), column_labels_border_lr_color=OptionsInfo(scss=True, category='column_labels', type='value', value='#D3D3D3'), column_labels_hidden=OptionsInfo(scss=False, category='column_labels', type='boolean', value=False), row_group_background_color=OptionsInfo(scss=True, category='row_group', type='value', value=None), row_group_font_size=OptionsInfo(scss=True, category='row_group', type='px', value='100%'), row_group_font_weight=OptionsInfo(scss=True, category='row_group', type='value', value='initial'), row_group_text_transform=OptionsInfo(scss=True, category='row_group', type='value', value='inherit'), row_group_padding=OptionsInfo(scss=True, category='row_group', type='px', value='8px'), row_group_padding_horizontal=OptionsInfo(scss=True, category='row_group', type='px', value='5px'), row_group_border_top_style=OptionsInfo(scss=True, category='row_group', type='value', value='solid'), row_group_border_top_width=OptionsInfo(scss=True, category='row_group', type='px', value='2px'), row_group_border_top_color=OptionsInfo(scss=True, category='row_group', type='value', value='#D3D3D3'), row_group_border_right_style=OptionsInfo(scss=True, category='row_group', type='value', value='none'), row_group_border_right_width=OptionsInfo(scss=True, category='row_group', type='px', value='1px'), row_group_border_right_color=OptionsInfo(scss=True, category='row_group', type='value', value='#D3D3D3'), row_group_border_bottom_style=OptionsInfo(scss=True, category='row_group', type='value', value='solid'), row_group_border_bottom_width=OptionsInfo(scss=True, category='row_group', type='px', value='2px'), row_group_border_bottom_color=OptionsInfo(scss=True, category='row_group', type='value', value='#D3D3D3'), row_group_border_left_style=OptionsInfo(scss=True, category='row_group', type='value', value='none'), row_group_border_left_width=OptionsInfo(scss=True, category='row_group', type='px', value='1px'), row_group_border_left_color=OptionsInfo(scss=True, category='row_group', type='value', value='#D3D3D3'), row_group_as_column=OptionsInfo(scss=False, category='row_group', type='boolean', value=False), table_body_hlines_style=OptionsInfo(scss=True, category='table_body', type='value', value='solid'), table_body_hlines_width=OptionsInfo(scss=True, category='table_body', type='px', value='1px'), table_body_hlines_color=OptionsInfo(scss=True, category='table_body', type='value', value='#D3D3D3'), table_body_vlines_style=OptionsInfo(scss=True, category='table_body', type='value', value='none'), table_body_vlines_width=OptionsInfo(scss=True, category='table_body', type='px', value='1px'), table_body_vlines_color=OptionsInfo(scss=True, category='table_body', type='value', value='#D3D3D3'), table_body_border_top_style=OptionsInfo(scss=True, category='table_body', type='value', value='solid'), table_body_border_top_width=OptionsInfo(scss=True, category='table_body', type='px', value='2px'), table_body_border_top_color=OptionsInfo(scss=True, category='table_body', type='value', value='#D3D3D3'), table_body_border_bottom_style=OptionsInfo(scss=True, category='table_body', type='value', value='solid'), table_body_border_bottom_width=OptionsInfo(scss=True, category='table_body', type='px', value='2px'), table_body_border_bottom_color=OptionsInfo(scss=True, category='table_body', type='value', value='#D3D3D3'), data_row_padding=OptionsInfo(scss=True, category='data_row', type='px', value='8px'), data_row_padding_horizontal=OptionsInfo(scss=True, category='data_row', type='px', value='5px'), stub_background_color=OptionsInfo(scss=True, category='stub', type='value', value=None), stub_font_size=OptionsInfo(scss=True, category='stub', type='px', value='100%'), stub_font_weight=OptionsInfo(scss=True, category='stub', type='value', value='initial'), stub_text_transform=OptionsInfo(scss=True, category='stub', type='value', value='inherit'), stub_border_style=OptionsInfo(scss=True, category='stub', type='value', value='solid'), stub_border_width=OptionsInfo(scss=True, category='stub', type='px', value='2px'), stub_border_color=OptionsInfo(scss=True, category='stub', type='value', value='#D3D3D3'), stub_row_group_background_color=OptionsInfo(scss=True, category='stub', type='value', value=None), stub_row_group_font_size=OptionsInfo(scss=True, category='stub', type='px', value='100%'), stub_row_group_font_weight=OptionsInfo(scss=True, category='stub', type='value', value='initial'), stub_row_group_text_transform=OptionsInfo(scss=True, category='stub', type='value', value='inherit'), stub_row_group_border_style=OptionsInfo(scss=True, category='stub', type='value', value='solid'), stub_row_group_border_width=OptionsInfo(scss=True, category='stub', type='px', value='2px'), stub_row_group_border_color=OptionsInfo(scss=True, category='stub', type='value', value='#D3D3D3'), source_notes_padding=OptionsInfo(scss=True, category='source_notes', type='px', value='4px'), source_notes_padding_horizontal=OptionsInfo(scss=True, category='source_notes', type='px', value='5px'), source_notes_background_color=OptionsInfo(scss=True, category='source_notes', type='value', value=None), source_notes_font_size=OptionsInfo(scss=True, category='source_notes', type='px', value='90%'), source_notes_border_bottom_style=OptionsInfo(scss=True, category='source_notes', type='value', value='none'), source_notes_border_bottom_width=OptionsInfo(scss=True, category='source_notes', type='px', value='2px'), source_notes_border_bottom_color=OptionsInfo(scss=True, category='source_notes', type='value', value='#D3D3D3'), source_notes_border_lr_style=OptionsInfo(scss=True, category='source_notes', type='value', value='none'), source_notes_border_lr_width=OptionsInfo(scss=True, category='source_notes', type='px', value='2px'), source_notes_border_lr_color=OptionsInfo(scss=True, category='source_notes', type='value', value='#D3D3D3'), source_notes_multiline=OptionsInfo(scss=False, category='source_notes', type='boolean', value=True), source_notes_sep=OptionsInfo(scss=False, category='source_notes', type='value', value=' '), row_striping_background_color=OptionsInfo(scss=True, category='row', type='value', value='rgba(128,128,128,0.05)'), row_striping_include_stub=OptionsInfo(scss=False, category='row', type='boolean', value=False), row_striping_include_table_body=OptionsInfo(scss=False, category='row', type='boolean', value=False), container_width=OptionsInfo(scss=False, category='container', type='px', value='auto'), container_height=OptionsInfo(scss=False, category='container', type='px', value='auto'), container_padding_x=OptionsInfo(scss=False, category='container', type='px', value='0px'), container_padding_y=OptionsInfo(scss=False, category='container', type='px', value='10px'), container_overflow_x=OptionsInfo(scss=False, category='container', type='overflow', value='auto'), container_overflow_y=OptionsInfo(scss=False, category='container', type='overflow', value='auto'), quarto_disable_processing=OptionsInfo(scss=False, category='quarto', type='logical', value=False), quarto_use_bootstrap=OptionsInfo(scss=False, category='quarto', type='logical', value=False)), _has_built=False)"
      ]
     },
     "execution_count": 61,
     "metadata": {},
     "output_type": "execute_result"
    }
   ],
   "source": [
    "a = Wild(\"a\", exclude=[1])\n",
    "b = Wild(\"b\", exclude=[1, Pow])\n",
    "\n",
    "find_match(expr, a * b**2)\n",
    "display_match_table(expr, a * b**2)"
   ]
  },
  {
   "cell_type": "markdown",
   "metadata": {},
   "source": [
    "`replace()`メソッドを使用して、式内の部分式を置換することができます。例えば、以下のように`a * b**2`にマッチするすべての部分式を`(a + b)**2`に置換します："
   ]
  },
  {
   "cell_type": "code",
   "execution_count": 62,
   "metadata": {
    "collapsed": false,
    "jupyter": {
     "outputs_hidden": false
    }
   },
   "outputs": [
    {
     "data": {
      "text/latex": [
       "$\\displaystyle 4 x^{2} + 4 y^{2} + \\left(x + 3 y\\right)^{2} + \\left(3 x + y\\right)^{2}$"
      ],
      "text/plain": [
       "4*x**2 + 4*y**2 + (x + 3*y)**2 + (3*x + y)**2"
      ]
     },
     "execution_count": 62,
     "metadata": {},
     "output_type": "execute_result"
    }
   ],
   "source": [
    "expr.replace(a * b**2, (a + b) ** 2)"
   ]
  },
  {
   "cell_type": "markdown",
   "metadata": {},
   "source": [
    "`WildFunction`を使用すると、任意の関数にマッチするワイルドカードを定義できます。以下の例では、`f`は`exp`、`sin`、`abs`の3つの関数にマッチし、そのマッチ結果には関数の引数が含まれます。指数演算は演算子として扱われ、`sqrt`は実際には指数演算で表されるため、これらは`f`にマッチしません。詳細は次の表を参照してください："
   ]
  },
  {
   "cell_type": "code",
   "execution_count": 63,
   "metadata": {
    "collapsed": false,
    "jupyter": {
     "outputs_hidden": false
    }
   },
   "outputs": [
    {
     "data": {
      "text/html": [
       "<div id=\"dokwdsequy\" style=\"padding-left:0px;padding-right:0px;padding-top:10px;padding-bottom:10px;overflow-x:auto;overflow-y:auto;width:auto;height:auto;\">\n",
       "<style>\n",
       "#dokwdsequy table {\n",
       "          font-family: -apple-system, BlinkMacSystemFont, 'Segoe UI', Roboto, Oxygen, Ubuntu, Cantarell, 'Helvetica Neue', 'Fira Sans', 'Droid Sans', Arial, sans-serif;\n",
       "          -webkit-font-smoothing: antialiased;\n",
       "          -moz-osx-font-smoothing: grayscale;\n",
       "        }\n",
       "\n",
       "#dokwdsequy thead, tbody, tfoot, tr, td, th { border-style: none; }\n",
       " tr { background-color: transparent; }\n",
       "#dokwdsequy p { margin: 0; padding: 0; }\n",
       " #dokwdsequy .gt_table { display: table; border-collapse: collapse; line-height: normal; margin-left: auto; margin-right: auto; color: #333333; font-size: 16px; font-weight: normal; font-style: normal; background-color: #FFFFFF; width: auto; border-top-style: solid; border-top-width: 2px; border-top-color: #A8A8A8; border-right-style: none; border-right-width: 2px; border-right-color: #D3D3D3; border-bottom-style: solid; border-bottom-width: 2px; border-bottom-color: #A8A8A8; border-left-style: none; border-left-width: 2px; border-left-color: #D3D3D3; }\n",
       " #dokwdsequy .gt_caption { padding-top: 4px; padding-bottom: 4px; }\n",
       " #dokwdsequy .gt_title { color: #333333; font-size: 125%; font-weight: initial; padding-top: 4px; padding-bottom: 4px; padding-left: 5px; padding-right: 5px; border-bottom-color: #FFFFFF; border-bottom-width: 0; }\n",
       " #dokwdsequy .gt_subtitle { color: #333333; font-size: 85%; font-weight: initial; padding-top: 3px; padding-bottom: 5px; padding-left: 5px; padding-right: 5px; border-top-color: #FFFFFF; border-top-width: 0; }\n",
       " #dokwdsequy .gt_heading { background-color: #FFFFFF; text-align: center; border-bottom-color: #FFFFFF; border-left-style: none; border-left-width: 1px; border-left-color: #D3D3D3; border-right-style: none; border-right-width: 1px; border-right-color: #D3D3D3; }\n",
       " #dokwdsequy .gt_bottom_border { border-bottom-style: solid; border-bottom-width: 2px; border-bottom-color: #D3D3D3; }\n",
       " #dokwdsequy .gt_col_headings { border-top-style: solid; border-top-width: 2px; border-top-color: #D3D3D3; border-bottom-style: solid; border-bottom-width: 2px; border-bottom-color: #D3D3D3; border-left-style: none; border-left-width: 1px; border-left-color: #D3D3D3; border-right-style: none; border-right-width: 1px; border-right-color: #D3D3D3; }\n",
       " #dokwdsequy .gt_col_heading { color: #333333; background-color: #FFFFFF; font-size: 100%; font-weight: normal; text-transform: inherit; border-left-style: none; border-left-width: 1px; border-left-color: #D3D3D3; border-right-style: none; border-right-width: 1px; border-right-color: #D3D3D3; vertical-align: bottom; padding-top: 5px; padding-bottom: 5px; padding-left: 5px; padding-right: 5px; overflow-x: hidden; }\n",
       " #dokwdsequy .gt_column_spanner_outer { color: #333333; background-color: #FFFFFF; font-size: 100%; font-weight: normal; text-transform: inherit; padding-top: 0; padding-bottom: 0; padding-left: 4px; padding-right: 4px; }\n",
       " #dokwdsequy .gt_column_spanner_outer:first-child { padding-left: 0; }\n",
       " #dokwdsequy .gt_column_spanner_outer:last-child { padding-right: 0; }\n",
       " #dokwdsequy .gt_column_spanner { border-bottom-style: solid; border-bottom-width: 2px; border-bottom-color: #D3D3D3; vertical-align: bottom; padding-top: 5px; padding-bottom: 5px; overflow-x: hidden; display: inline-block; width: 100%; }\n",
       " #dokwdsequy .gt_spanner_row { border-bottom-style: hidden; }\n",
       " #dokwdsequy .gt_group_heading { padding-top: 8px; padding-bottom: 8px; padding-left: 5px; padding-right: 5px; color: #333333; background-color: #FFFFFF; font-size: 100%; font-weight: initial; text-transform: inherit; border-top-style: solid; border-top-width: 2px; border-top-color: #D3D3D3; border-bottom-style: solid; border-bottom-width: 2px; border-bottom-color: #D3D3D3; border-left-style: none; border-left-width: 1px; border-left-color: #D3D3D3; border-right-style: none; border-right-width: 1px; border-right-color: #D3D3D3; vertical-align: middle; text-align: left; }\n",
       " #dokwdsequy .gt_empty_group_heading { padding: 0.5px; color: #333333; background-color: #FFFFFF; font-size: 100%; font-weight: initial; border-top-style: solid; border-top-width: 2px; border-top-color: #D3D3D3; border-bottom-style: solid; border-bottom-width: 2px; border-bottom-color: #D3D3D3; vertical-align: middle; }\n",
       " #dokwdsequy .gt_from_md> :first-child { margin-top: 0; }\n",
       " #dokwdsequy .gt_from_md> :last-child { margin-bottom: 0; }\n",
       " #dokwdsequy .gt_row { padding-top: 8px; padding-bottom: 8px; padding-left: 5px; padding-right: 5px; margin: 10px; border-top-style: solid; border-top-width: 1px; border-top-color: #D3D3D3; border-left-style: none; border-left-width: 1px; border-left-color: #D3D3D3; border-right-style: none; border-right-width: 1px; border-right-color: #D3D3D3; vertical-align: middle; overflow-x: hidden; }\n",
       " #dokwdsequy .gt_stub { color: #333333; background-color: #FFFFFF; font-size: 100%; font-weight: initial; text-transform: inherit; border-right-style: solid; border-right-width: 2px; border-right-color: #D3D3D3; padding-left: 5px; padding-right: 5px; }\n",
       " #dokwdsequy .gt_stub_row_group { color: #333333; background-color: #FFFFFF; font-size: 100%; font-weight: initial; text-transform: inherit; border-right-style: solid; border-right-width: 2px; border-right-color: #D3D3D3; padding-left: 5px; padding-right: 5px; vertical-align: top; }\n",
       " #dokwdsequy .gt_row_group_first td { border-top-width: 2px; }\n",
       " #dokwdsequy .gt_row_group_first th { border-top-width: 2px; }\n",
       " #dokwdsequy .gt_striped { background-color: rgba(128,128,128,0.05); }\n",
       " #dokwdsequy .gt_table_body { border-top-style: solid; border-top-width: 2px; border-top-color: #D3D3D3; border-bottom-style: solid; border-bottom-width: 2px; border-bottom-color: #D3D3D3; }\n",
       " #dokwdsequy .gt_sourcenotes { color: #333333; background-color: #FFFFFF; border-bottom-style: none; border-bottom-width: 2px; border-bottom-color: #D3D3D3; border-left-style: none; border-left-width: 2px; border-left-color: #D3D3D3; border-right-style: none; border-right-width: 2px; border-right-color: #D3D3D3; }\n",
       " #dokwdsequy .gt_sourcenote { font-size: 90%; padding-top: 4px; padding-bottom: 4px; padding-left: 5px; padding-right: 5px; text-align: left; }\n",
       " #dokwdsequy .gt_left { text-align: left; }\n",
       " #dokwdsequy .gt_center { text-align: center; }\n",
       " #dokwdsequy .gt_right { text-align: right; font-variant-numeric: tabular-nums; }\n",
       " #dokwdsequy .gt_font_normal { font-weight: normal; }\n",
       " #dokwdsequy .gt_font_bold { font-weight: bold; }\n",
       " #dokwdsequy .gt_font_italic { font-style: italic; }\n",
       " #dokwdsequy .gt_super { font-size: 65%; }\n",
       " #dokwdsequy .gt_footnote_marks { font-size: 75%; vertical-align: 0.4em; position: initial; }\n",
       " #dokwdsequy .gt_asterisk { font-size: 100%; vertical-align: 0; }\n",
       " \n",
       "</style>\n",
       "<table class=\"gt_table\" data-quarto-disable-processing=\"false\" data-quarto-bootstrap=\"false\">\n",
       "<thead>\n",
       "\n",
       "<tr class=\"gt_col_headings\">\n",
       "  <th class=\"gt_col_heading gt_columns_bottom_border gt_left\" rowspan=\"1\" colspan=\"1\" scope=\"col\" id=\"式\">式</th>\n",
       "  <th class=\"gt_col_heading gt_columns_bottom_border gt_left\" rowspan=\"1\" colspan=\"1\" scope=\"col\" id=\"マッチ結果\">マッチ結果</th>\n",
       "</tr>\n",
       "</thead>\n",
       "<tbody class=\"gt_table_body\">\n",
       "  <tr>\n",
       "    <td class=\"gt_row gt_left\"><div class=\"math\">\\[\\sin{\\left(y^{2} \\right)}\\]</div></td>\n",
       "    <td class=\"gt_row gt_left\"><div class=\"math\">\\[\\left\\{ \\operatorname{WildFunction}{\\left(f \\right)} : \\sin{\\left(y^{2} \\right)}\\right\\}\\]</div></td>\n",
       "  </tr>\n",
       "  <tr>\n",
       "    <td class=\"gt_row gt_left\"><div class=\"math\">\\[e^{x}\\]</div></td>\n",
       "    <td class=\"gt_row gt_left\"><div class=\"math\">\\[\\left\\{ \\operatorname{WildFunction}{\\left(f \\right)} : e^{x}\\right\\}\\]</div></td>\n",
       "  </tr>\n",
       "  <tr>\n",
       "    <td class=\"gt_row gt_left\"><div class=\"math\">\\[\\left|{x}\\right|\\]</div></td>\n",
       "    <td class=\"gt_row gt_left\"><div class=\"math\">\\[\\left\\{ \\operatorname{WildFunction}{\\left(f \\right)} : \\left|{x}\\right|\\right\\}\\]</div></td>\n",
       "  </tr>\n",
       "</tbody>\n",
       "\n",
       "\n",
       "</table>\n",
       "\n",
       "</div>\n",
       "        "
      ],
      "text/plain": [
       "GT(_tbl_data=shape: (3, 2)\n",
       "┌───────────────────────────┬─────────────────────────────────┐\n",
       "│ 式                        ┆ マッチ結果                      │\n",
       "│ ---                       ┆ ---                             │\n",
       "│ str                       ┆ str                             │\n",
       "╞═══════════════════════════╪═════════════════════════════════╡\n",
       "│ \\sin{\\left(y^{2} \\right)} ┆ \\left\\{ \\operatorname{WildFunc… │\n",
       "│ e^{x}                     ┆ \\left\\{ \\operatorname{WildFunc… │\n",
       "│ \\left|{x}\\right|          ┆ \\left\\{ \\operatorname{WildFunc… │\n",
       "└───────────────────────────┴─────────────────────────────────┘, _body=<great_tables._gt_data.Body object at 0x0000021DB22B4490>, _boxhead=Boxhead([ColInfo(var='式', type=<ColInfoTypeEnum.default: 1>, column_label='式', column_align='left', column_width=None), ColInfo(var='マッチ結果', type=<ColInfoTypeEnum.default: 1>, column_label='マッチ結果', column_align='left', column_width=None)]), _stub=<great_tables._gt_data.Stub object at 0x0000021DB784F250>, _spanners=Spanners([]), _heading=Heading(title=None, subtitle=None, preheader=None), _stubhead=None, _source_notes=[], _footnotes=[], _styles=[], _locale=<great_tables._gt_data.Locale object at 0x0000021DB784F610>, _formats=[<great_tables._gt_data.FormatInfo object at 0x0000021DB784F9D0>], _substitutions=[], _options=Options(table_id=OptionsInfo(scss=False, category='table', type='value', value=None), table_caption=OptionsInfo(scss=False, category='table', type='value', value=None), table_width=OptionsInfo(scss=True, category='table', type='px', value='auto'), table_layout=OptionsInfo(scss=True, category='table', type='value', value='fixed'), table_margin_left=OptionsInfo(scss=True, category='table', type='px', value='auto'), table_margin_right=OptionsInfo(scss=True, category='table', type='px', value='auto'), table_background_color=OptionsInfo(scss=True, category='table', type='value', value='#FFFFFF'), table_additional_css=OptionsInfo(scss=False, category='table', type='values', value=[]), table_font_names=OptionsInfo(scss=False, category='table', type='values', value=['-apple-system', 'BlinkMacSystemFont', 'Segoe UI', 'Roboto', 'Oxygen', 'Ubuntu', 'Cantarell', 'Helvetica Neue', 'Fira Sans', 'Droid Sans', 'Arial', 'sans-serif']), table_font_size=OptionsInfo(scss=True, category='table', type='px', value='16px'), table_font_weight=OptionsInfo(scss=True, category='table', type='value', value='normal'), table_font_style=OptionsInfo(scss=True, category='table', type='value', value='normal'), table_font_color=OptionsInfo(scss=True, category='table', type='value', value='#333333'), table_font_color_light=OptionsInfo(scss=True, category='table', type='value', value='#FFFFFF'), table_border_top_include=OptionsInfo(scss=False, category='table', type='boolean', value=True), table_border_top_style=OptionsInfo(scss=True, category='table', type='value', value='solid'), table_border_top_width=OptionsInfo(scss=True, category='table', type='px', value='2px'), table_border_top_color=OptionsInfo(scss=True, category='table', type='value', value='#A8A8A8'), table_border_right_style=OptionsInfo(scss=True, category='table', type='value', value='none'), table_border_right_width=OptionsInfo(scss=True, category='table', type='px', value='2px'), table_border_right_color=OptionsInfo(scss=True, category='table', type='value', value='#D3D3D3'), table_border_bottom_include=OptionsInfo(scss=False, category='table', type='boolean', value=True), table_border_bottom_style=OptionsInfo(scss=True, category='table', type='value', value='solid'), table_border_bottom_width=OptionsInfo(scss=True, category='table', type='px', value='2px'), table_border_bottom_color=OptionsInfo(scss=True, category='table', type='value', value='#A8A8A8'), table_border_left_style=OptionsInfo(scss=True, category='table', type='value', value='none'), table_border_left_width=OptionsInfo(scss=True, category='table', type='px', value='2px'), table_border_left_color=OptionsInfo(scss=True, category='table', type='value', value='#D3D3D3'), heading_background_color=OptionsInfo(scss=True, category='heading', type='value', value=None), heading_align=OptionsInfo(scss=True, category='heading', type='value', value='center'), heading_title_font_size=OptionsInfo(scss=True, category='heading', type='px', value='125%'), heading_title_font_weight=OptionsInfo(scss=True, category='heading', type='value', value='initial'), heading_subtitle_font_size=OptionsInfo(scss=True, category='heading', type='px', value='85%'), heading_subtitle_font_weight=OptionsInfo(scss=True, category='heading', type='value', value='initial'), heading_padding=OptionsInfo(scss=True, category='heading', type='px', value='4px'), heading_padding_horizontal=OptionsInfo(scss=True, category='heading', type='px', value='5px'), heading_border_bottom_style=OptionsInfo(scss=True, category='heading', type='value', value='solid'), heading_border_bottom_width=OptionsInfo(scss=True, category='heading', type='px', value='2px'), heading_border_bottom_color=OptionsInfo(scss=True, category='heading', type='value', value='#D3D3D3'), heading_border_lr_style=OptionsInfo(scss=True, category='heading', type='value', value='none'), heading_border_lr_width=OptionsInfo(scss=True, category='heading', type='px', value='1px'), heading_border_lr_color=OptionsInfo(scss=True, category='heading', type='value', value='#D3D3D3'), column_labels_background_color=OptionsInfo(scss=True, category='column_labels', type='value', value=None), column_labels_font_size=OptionsInfo(scss=True, category='column_labels', type='px', value='100%'), column_labels_font_weight=OptionsInfo(scss=True, category='column_labels', type='value', value='normal'), column_labels_text_transform=OptionsInfo(scss=True, category='column_labels', type='value', value='inherit'), column_labels_padding=OptionsInfo(scss=True, category='column_labels', type='px', value='5px'), column_labels_padding_horizontal=OptionsInfo(scss=True, category='column_labels', type='px', value='5px'), column_labels_vlines_style=OptionsInfo(scss=True, category='table_body', type='value', value='none'), column_labels_vlines_width=OptionsInfo(scss=True, category='table_body', type='px', value='1px'), column_labels_vlines_color=OptionsInfo(scss=True, category='table_body', type='value', value='#D3D3D3'), column_labels_border_top_style=OptionsInfo(scss=True, category='column_labels', type='value', value='solid'), column_labels_border_top_width=OptionsInfo(scss=True, category='column_labels', type='px', value='2px'), column_labels_border_top_color=OptionsInfo(scss=True, category='column_labels', type='value', value='#D3D3D3'), column_labels_border_bottom_style=OptionsInfo(scss=True, category='column_labels', type='value', value='solid'), column_labels_border_bottom_width=OptionsInfo(scss=True, category='column_labels', type='px', value='2px'), column_labels_border_bottom_color=OptionsInfo(scss=True, category='column_labels', type='value', value='#D3D3D3'), column_labels_border_lr_style=OptionsInfo(scss=True, category='column_labels', type='value', value='none'), column_labels_border_lr_width=OptionsInfo(scss=True, category='column_labels', type='px', value='1px'), column_labels_border_lr_color=OptionsInfo(scss=True, category='column_labels', type='value', value='#D3D3D3'), column_labels_hidden=OptionsInfo(scss=False, category='column_labels', type='boolean', value=False), row_group_background_color=OptionsInfo(scss=True, category='row_group', type='value', value=None), row_group_font_size=OptionsInfo(scss=True, category='row_group', type='px', value='100%'), row_group_font_weight=OptionsInfo(scss=True, category='row_group', type='value', value='initial'), row_group_text_transform=OptionsInfo(scss=True, category='row_group', type='value', value='inherit'), row_group_padding=OptionsInfo(scss=True, category='row_group', type='px', value='8px'), row_group_padding_horizontal=OptionsInfo(scss=True, category='row_group', type='px', value='5px'), row_group_border_top_style=OptionsInfo(scss=True, category='row_group', type='value', value='solid'), row_group_border_top_width=OptionsInfo(scss=True, category='row_group', type='px', value='2px'), row_group_border_top_color=OptionsInfo(scss=True, category='row_group', type='value', value='#D3D3D3'), row_group_border_right_style=OptionsInfo(scss=True, category='row_group', type='value', value='none'), row_group_border_right_width=OptionsInfo(scss=True, category='row_group', type='px', value='1px'), row_group_border_right_color=OptionsInfo(scss=True, category='row_group', type='value', value='#D3D3D3'), row_group_border_bottom_style=OptionsInfo(scss=True, category='row_group', type='value', value='solid'), row_group_border_bottom_width=OptionsInfo(scss=True, category='row_group', type='px', value='2px'), row_group_border_bottom_color=OptionsInfo(scss=True, category='row_group', type='value', value='#D3D3D3'), row_group_border_left_style=OptionsInfo(scss=True, category='row_group', type='value', value='none'), row_group_border_left_width=OptionsInfo(scss=True, category='row_group', type='px', value='1px'), row_group_border_left_color=OptionsInfo(scss=True, category='row_group', type='value', value='#D3D3D3'), row_group_as_column=OptionsInfo(scss=False, category='row_group', type='boolean', value=False), table_body_hlines_style=OptionsInfo(scss=True, category='table_body', type='value', value='solid'), table_body_hlines_width=OptionsInfo(scss=True, category='table_body', type='px', value='1px'), table_body_hlines_color=OptionsInfo(scss=True, category='table_body', type='value', value='#D3D3D3'), table_body_vlines_style=OptionsInfo(scss=True, category='table_body', type='value', value='none'), table_body_vlines_width=OptionsInfo(scss=True, category='table_body', type='px', value='1px'), table_body_vlines_color=OptionsInfo(scss=True, category='table_body', type='value', value='#D3D3D3'), table_body_border_top_style=OptionsInfo(scss=True, category='table_body', type='value', value='solid'), table_body_border_top_width=OptionsInfo(scss=True, category='table_body', type='px', value='2px'), table_body_border_top_color=OptionsInfo(scss=True, category='table_body', type='value', value='#D3D3D3'), table_body_border_bottom_style=OptionsInfo(scss=True, category='table_body', type='value', value='solid'), table_body_border_bottom_width=OptionsInfo(scss=True, category='table_body', type='px', value='2px'), table_body_border_bottom_color=OptionsInfo(scss=True, category='table_body', type='value', value='#D3D3D3'), data_row_padding=OptionsInfo(scss=True, category='data_row', type='px', value='8px'), data_row_padding_horizontal=OptionsInfo(scss=True, category='data_row', type='px', value='5px'), stub_background_color=OptionsInfo(scss=True, category='stub', type='value', value=None), stub_font_size=OptionsInfo(scss=True, category='stub', type='px', value='100%'), stub_font_weight=OptionsInfo(scss=True, category='stub', type='value', value='initial'), stub_text_transform=OptionsInfo(scss=True, category='stub', type='value', value='inherit'), stub_border_style=OptionsInfo(scss=True, category='stub', type='value', value='solid'), stub_border_width=OptionsInfo(scss=True, category='stub', type='px', value='2px'), stub_border_color=OptionsInfo(scss=True, category='stub', type='value', value='#D3D3D3'), stub_row_group_background_color=OptionsInfo(scss=True, category='stub', type='value', value=None), stub_row_group_font_size=OptionsInfo(scss=True, category='stub', type='px', value='100%'), stub_row_group_font_weight=OptionsInfo(scss=True, category='stub', type='value', value='initial'), stub_row_group_text_transform=OptionsInfo(scss=True, category='stub', type='value', value='inherit'), stub_row_group_border_style=OptionsInfo(scss=True, category='stub', type='value', value='solid'), stub_row_group_border_width=OptionsInfo(scss=True, category='stub', type='px', value='2px'), stub_row_group_border_color=OptionsInfo(scss=True, category='stub', type='value', value='#D3D3D3'), source_notes_padding=OptionsInfo(scss=True, category='source_notes', type='px', value='4px'), source_notes_padding_horizontal=OptionsInfo(scss=True, category='source_notes', type='px', value='5px'), source_notes_background_color=OptionsInfo(scss=True, category='source_notes', type='value', value=None), source_notes_font_size=OptionsInfo(scss=True, category='source_notes', type='px', value='90%'), source_notes_border_bottom_style=OptionsInfo(scss=True, category='source_notes', type='value', value='none'), source_notes_border_bottom_width=OptionsInfo(scss=True, category='source_notes', type='px', value='2px'), source_notes_border_bottom_color=OptionsInfo(scss=True, category='source_notes', type='value', value='#D3D3D3'), source_notes_border_lr_style=OptionsInfo(scss=True, category='source_notes', type='value', value='none'), source_notes_border_lr_width=OptionsInfo(scss=True, category='source_notes', type='px', value='2px'), source_notes_border_lr_color=OptionsInfo(scss=True, category='source_notes', type='value', value='#D3D3D3'), source_notes_multiline=OptionsInfo(scss=False, category='source_notes', type='boolean', value=True), source_notes_sep=OptionsInfo(scss=False, category='source_notes', type='value', value=' '), row_striping_background_color=OptionsInfo(scss=True, category='row', type='value', value='rgba(128,128,128,0.05)'), row_striping_include_stub=OptionsInfo(scss=False, category='row', type='boolean', value=False), row_striping_include_table_body=OptionsInfo(scss=False, category='row', type='boolean', value=False), container_width=OptionsInfo(scss=False, category='container', type='px', value='auto'), container_height=OptionsInfo(scss=False, category='container', type='px', value='auto'), container_padding_x=OptionsInfo(scss=False, category='container', type='px', value='0px'), container_padding_y=OptionsInfo(scss=False, category='container', type='px', value='10px'), container_overflow_x=OptionsInfo(scss=False, category='container', type='overflow', value='auto'), container_overflow_y=OptionsInfo(scss=False, category='container', type='overflow', value='auto'), quarto_disable_processing=OptionsInfo(scss=False, category='quarto', type='logical', value=False), quarto_use_bootstrap=OptionsInfo(scss=False, category='quarto', type='logical', value=False)), _has_built=False)"
      ]
     },
     "execution_count": 63,
     "metadata": {},
     "output_type": "execute_result"
    }
   ],
   "source": [
    "f = WildFunction(\"f\")\n",
    "x = symbols(\"x\", real=True)\n",
    "expr = sqrt(x) / sin(y**2) + abs(exp(x) * x)\n",
    "\n",
    "find_match(expr, f)\n",
    "display_match_table(expr, f)"
   ]
  },
  {
   "cell_type": "markdown",
   "metadata": {},
   "source": [
    "## 記号計算\n",
    "\n",
    "SymPyが提供する記号計算機能は非常に豊富です。本節では、SymPyの一般的な記号計算機能の一部を簡単に紹介します。"
   ]
  },
  {
   "cell_type": "markdown",
   "metadata": {},
   "source": [
    "### 式の変換と簡略化\n",
    "\n",
    "`simplify()`は数学的な式を簡略化します。例えば："
   ]
  },
  {
   "cell_type": "code",
   "execution_count": 64,
   "metadata": {
    "collapsed": false,
    "jupyter": {
     "outputs_hidden": false
    }
   },
   "outputs": [
    {
     "data": {
      "text/latex": [
       "$\\displaystyle 2 x + 3$"
      ],
      "text/plain": [
       "2*x + 3"
      ]
     },
     "execution_count": 64,
     "metadata": {},
     "output_type": "execute_result"
    }
   ],
   "source": [
    "simplify((x + 2) ** 2 - (x + 1) ** 2)"
   ]
  },
  {
   "cell_type": "markdown",
   "metadata": {},
   "source": [
    "`simplify()`はSymPy内部の複数の式変換関数を呼び出して式を簡略化します。しかし、数学的な式の簡略化は非常に複雑な作業であり、同じ式でも使用目的に応じて複数の簡略化方法が存在します。本節では、SymPyが提供する様々な式変換関数を紹介し、これらの関数を活用して式の変換と簡略化を行う方法を説明します。\n",
    "\n",
    "`radsimp()`は式の分母を有理化し、結果の分母部分に無理数が含まれないようにします。例えば："
   ]
  },
  {
   "cell_type": "code",
   "execution_count": 65,
   "metadata": {
    "collapsed": false,
    "jupyter": {
     "outputs_hidden": false
    }
   },
   "outputs": [
    {
     "data": {
      "text/latex": [
       "$\\displaystyle \\frac{- \\sqrt{5} + 2 \\sqrt{2}}{3}$"
      ],
      "text/plain": [
       "(-sqrt(5) + 2*sqrt(2))/3"
      ]
     },
     "execution_count": 65,
     "metadata": {},
     "output_type": "execute_result"
    }
   ],
   "source": [
    "radsimp(1 / (sqrt(5) + 2 * sqrt(2)))"
   ]
  },
  {
   "cell_type": "markdown",
   "metadata": {},
   "source": [
    "シンボルを含む式も処理できます："
   ]
  },
  {
   "cell_type": "code",
   "execution_count": 66,
   "metadata": {
    "collapsed": false,
    "jupyter": {
     "outputs_hidden": false
    }
   },
   "outputs": [
    {
     "data": {
      "text/latex": [
       "$\\displaystyle \\frac{- \\sqrt{x} y + x \\sqrt{y}}{x y \\left(x - y\\right)}$"
      ],
      "text/plain": [
       "(-sqrt(x)*y + x*sqrt(y))/(x*y*(x - y))"
      ]
     },
     "execution_count": 66,
     "metadata": {},
     "output_type": "execute_result"
    }
   ],
   "source": [
    "radsimp(1 / (y * sqrt(x) + x * sqrt(y)))"
   ]
  },
  {
   "cell_type": "markdown",
   "metadata": {},
   "source": [
    "`sqrtdenest()`はネストされた根号を簡略化するために使用されます。例えば："
   ]
  },
  {
   "cell_type": "code",
   "execution_count": 67,
   "metadata": {},
   "outputs": [
    {
     "data": {
      "text/latex": [
       "$$\\sqrt{2 \\sqrt{6} + 5}, \\sqrt{2} + \\sqrt{3}$$"
      ]
     },
     "metadata": {},
     "output_type": "display_data"
    }
   ],
   "source": [
    "expr = sqrt(2 * sqrt(6) + 5)\n",
    "%latex expr, sqrtdenest(expr)"
   ]
  },
  {
   "cell_type": "markdown",
   "metadata": {},
   "source": [
    "`ratsimp()`は式の分母を通分し、式を分子を分母で割った形式に変換します："
   ]
  },
  {
   "cell_type": "code",
   "execution_count": 68,
   "metadata": {
    "collapsed": false,
    "jupyter": {
     "outputs_hidden": false
    }
   },
   "outputs": [
    {
     "data": {
      "text/latex": [
       "$\\displaystyle \\frac{2 y^{2}}{x^{2} - y^{2}} + 1$"
      ],
      "text/plain": [
       "2*y**2/(x**2 - y**2) + 1"
      ]
     },
     "execution_count": 68,
     "metadata": {},
     "output_type": "execute_result"
    }
   ],
   "source": [
    "ratsimp(x / (x + y) + y / (x - y))"
   ]
  },
  {
   "cell_type": "markdown",
   "metadata": {},
   "source": [
    "`fraction()`は式の分子と分母を含むタプルを返します。これを使用して`ratsimp()`で通分された後の分子または分母を取得できます："
   ]
  },
  {
   "cell_type": "code",
   "execution_count": 69,
   "metadata": {
    "collapsed": false,
    "jupyter": {
     "outputs_hidden": false
    }
   },
   "outputs": [
    {
     "data": {
      "text/latex": [
       "$$x + y, x y$$"
      ]
     },
     "metadata": {},
     "output_type": "display_data"
    }
   ],
   "source": [
    "%latex fraction(ratsimp(1 / x + 1 / y))"
   ]
  },
  {
   "cell_type": "markdown",
   "metadata": {},
   "source": [
    "`fraction()`は自動的に式を通分しないため、以下のようになります："
   ]
  },
  {
   "cell_type": "code",
   "execution_count": 70,
   "metadata": {
    "collapsed": false,
    "jupyter": {
     "outputs_hidden": false
    }
   },
   "outputs": [
    {
     "data": {
      "text/latex": [
       "$$\\frac{1}{y} + \\frac{1}{x}, 1$$"
      ]
     },
     "metadata": {},
     "output_type": "display_data"
    }
   ],
   "source": [
    "%latex fraction(1 / x + 1 / y)"
   ]
  },
  {
   "cell_type": "markdown",
   "metadata": {},
   "source": [
    "`cancel()`は分数式の分子と分母を約分し、それらの共通因数を取り除きます："
   ]
  },
  {
   "cell_type": "code",
   "execution_count": 71,
   "metadata": {
    "collapsed": false,
    "jupyter": {
     "outputs_hidden": false
    }
   },
   "outputs": [
    {
     "data": {
      "text/latex": [
       "$\\displaystyle x - 1$"
      ],
      "text/plain": [
       "x - 1"
      ]
     },
     "execution_count": 71,
     "metadata": {},
     "output_type": "execute_result"
    }
   ],
   "source": [
    "cancel((x**2 - 1) / (1 + x))"
   ]
  },
  {
   "cell_type": "markdown",
   "metadata": {},
   "source": [
    "`apart()`は式を部分分数分解します。これにより、有理関数を分子と分母の次数が小さい複数の有理関数に分解します。以下の例では、多項式分数を2つの次数が小さい分数の和に分解します："
   ]
  },
  {
   "cell_type": "code",
   "execution_count": 72,
   "metadata": {},
   "outputs": [
    {
     "data": {
      "text/latex": [
       "$\\displaystyle - \\frac{s - 1}{2 \\left(s^{2} + 1\\right)} + \\frac{1}{2 \\left(s + 1\\right)}$"
      ],
      "text/plain": [
       "-(s - 1)/(2*(s**2 + 1)) + 1/(2*(s + 1))"
      ]
     },
     "execution_count": 72,
     "metadata": {},
     "output_type": "execute_result"
    }
   ],
   "source": [
    "s = symbols(\"s\")\n",
    "trans_func = 1 / (s**3 + s**2 + s + 1)\n",
    "apart(trans_func)"
   ]
  },
  {
   "cell_type": "markdown",
   "metadata": {},
   "source": [
    "`trigsimp()`は式の中の三角関数を簡略化します。`method`パラメータを使用して簡略化アルゴリズムを選択できます："
   ]
  },
  {
   "cell_type": "code",
   "execution_count": 73,
   "metadata": {
    "collapsed": false,
    "jupyter": {
     "outputs_hidden": false
    }
   },
   "outputs": [
    {
     "data": {
      "text/latex": [
       "$\\displaystyle \\sin{\\left(2 x \\right)} + 1$"
      ],
      "text/plain": [
       "sin(2*x) + 1"
      ]
     },
     "execution_count": 73,
     "metadata": {},
     "output_type": "execute_result"
    }
   ],
   "source": [
    "trigsimp(sin(x) ** 2 + 2 * sin(x) * cos(x) + cos(x) ** 2)"
   ]
  },
  {
   "cell_type": "markdown",
   "metadata": {},
   "source": [
    "`expand_trig()`は三角関数の式を展開します："
   ]
  },
  {
   "cell_type": "code",
   "execution_count": 74,
   "metadata": {
    "collapsed": false,
    "jupyter": {
     "outputs_hidden": false
    }
   },
   "outputs": [
    {
     "data": {
      "text/latex": [
       "$\\displaystyle \\left(2 \\cos^{2}{\\left(x \\right)} - 1\\right) \\sin{\\left(y \\right)} + 2 \\sin{\\left(x \\right)} \\cos{\\left(x \\right)} \\cos{\\left(y \\right)}$"
      ],
      "text/plain": [
       "(2*cos(x)**2 - 1)*sin(y) + 2*sin(x)*cos(x)*cos(y)"
      ]
     },
     "execution_count": 74,
     "metadata": {},
     "output_type": "execute_result"
    }
   ],
   "source": [
    "expand_trig(sin(2 * x + y))"
   ]
  },
  {
   "cell_type": "markdown",
   "metadata": {},
   "source": [
    "`expand()`はフラグパラメータに基づいて式を展開します。デフォルトでは、次の表のフラグパラメータは`True`です："
   ]
  },
  {
   "cell_type": "code",
   "execution_count": 75,
   "metadata": {
    "collapsed": false,
    "jupyter": {
     "outputs_hidden": false
    }
   },
   "outputs": [
    {
     "data": {
      "text/html": [
       "<div id=\"oesiazspew\" style=\"padding-left:0px;padding-right:0px;padding-top:10px;padding-bottom:10px;overflow-x:auto;overflow-y:auto;width:auto;height:auto;\">\n",
       "<style>\n",
       "#oesiazspew table {\n",
       "          font-family: -apple-system, BlinkMacSystemFont, 'Segoe UI', Roboto, Oxygen, Ubuntu, Cantarell, 'Helvetica Neue', 'Fira Sans', 'Droid Sans', Arial, sans-serif;\n",
       "          -webkit-font-smoothing: antialiased;\n",
       "          -moz-osx-font-smoothing: grayscale;\n",
       "        }\n",
       "\n",
       "#oesiazspew thead, tbody, tfoot, tr, td, th { border-style: none; }\n",
       " tr { background-color: transparent; }\n",
       "#oesiazspew p { margin: 0; padding: 0; }\n",
       " #oesiazspew .gt_table { display: table; border-collapse: collapse; line-height: normal; margin-left: auto; margin-right: auto; color: #333333; font-size: 16px; font-weight: normal; font-style: normal; background-color: #FFFFFF; width: auto; border-top-style: solid; border-top-width: 2px; border-top-color: #A8A8A8; border-right-style: none; border-right-width: 2px; border-right-color: #D3D3D3; border-bottom-style: solid; border-bottom-width: 2px; border-bottom-color: #A8A8A8; border-left-style: none; border-left-width: 2px; border-left-color: #D3D3D3; }\n",
       " #oesiazspew .gt_caption { padding-top: 4px; padding-bottom: 4px; }\n",
       " #oesiazspew .gt_title { color: #333333; font-size: 125%; font-weight: initial; padding-top: 4px; padding-bottom: 4px; padding-left: 5px; padding-right: 5px; border-bottom-color: #FFFFFF; border-bottom-width: 0; }\n",
       " #oesiazspew .gt_subtitle { color: #333333; font-size: 85%; font-weight: initial; padding-top: 3px; padding-bottom: 5px; padding-left: 5px; padding-right: 5px; border-top-color: #FFFFFF; border-top-width: 0; }\n",
       " #oesiazspew .gt_heading { background-color: #FFFFFF; text-align: center; border-bottom-color: #FFFFFF; border-left-style: none; border-left-width: 1px; border-left-color: #D3D3D3; border-right-style: none; border-right-width: 1px; border-right-color: #D3D3D3; }\n",
       " #oesiazspew .gt_bottom_border { border-bottom-style: solid; border-bottom-width: 2px; border-bottom-color: #D3D3D3; }\n",
       " #oesiazspew .gt_col_headings { border-top-style: solid; border-top-width: 2px; border-top-color: #D3D3D3; border-bottom-style: solid; border-bottom-width: 2px; border-bottom-color: #D3D3D3; border-left-style: none; border-left-width: 1px; border-left-color: #D3D3D3; border-right-style: none; border-right-width: 1px; border-right-color: #D3D3D3; }\n",
       " #oesiazspew .gt_col_heading { color: #333333; background-color: #FFFFFF; font-size: 100%; font-weight: normal; text-transform: inherit; border-left-style: none; border-left-width: 1px; border-left-color: #D3D3D3; border-right-style: none; border-right-width: 1px; border-right-color: #D3D3D3; vertical-align: bottom; padding-top: 5px; padding-bottom: 5px; padding-left: 5px; padding-right: 5px; overflow-x: hidden; }\n",
       " #oesiazspew .gt_column_spanner_outer { color: #333333; background-color: #FFFFFF; font-size: 100%; font-weight: normal; text-transform: inherit; padding-top: 0; padding-bottom: 0; padding-left: 4px; padding-right: 4px; }\n",
       " #oesiazspew .gt_column_spanner_outer:first-child { padding-left: 0; }\n",
       " #oesiazspew .gt_column_spanner_outer:last-child { padding-right: 0; }\n",
       " #oesiazspew .gt_column_spanner { border-bottom-style: solid; border-bottom-width: 2px; border-bottom-color: #D3D3D3; vertical-align: bottom; padding-top: 5px; padding-bottom: 5px; overflow-x: hidden; display: inline-block; width: 100%; }\n",
       " #oesiazspew .gt_spanner_row { border-bottom-style: hidden; }\n",
       " #oesiazspew .gt_group_heading { padding-top: 8px; padding-bottom: 8px; padding-left: 5px; padding-right: 5px; color: #333333; background-color: #FFFFFF; font-size: 100%; font-weight: initial; text-transform: inherit; border-top-style: solid; border-top-width: 2px; border-top-color: #D3D3D3; border-bottom-style: solid; border-bottom-width: 2px; border-bottom-color: #D3D3D3; border-left-style: none; border-left-width: 1px; border-left-color: #D3D3D3; border-right-style: none; border-right-width: 1px; border-right-color: #D3D3D3; vertical-align: middle; text-align: left; }\n",
       " #oesiazspew .gt_empty_group_heading { padding: 0.5px; color: #333333; background-color: #FFFFFF; font-size: 100%; font-weight: initial; border-top-style: solid; border-top-width: 2px; border-top-color: #D3D3D3; border-bottom-style: solid; border-bottom-width: 2px; border-bottom-color: #D3D3D3; vertical-align: middle; }\n",
       " #oesiazspew .gt_from_md> :first-child { margin-top: 0; }\n",
       " #oesiazspew .gt_from_md> :last-child { margin-bottom: 0; }\n",
       " #oesiazspew .gt_row { padding-top: 8px; padding-bottom: 8px; padding-left: 5px; padding-right: 5px; margin: 10px; border-top-style: solid; border-top-width: 1px; border-top-color: #D3D3D3; border-left-style: none; border-left-width: 1px; border-left-color: #D3D3D3; border-right-style: none; border-right-width: 1px; border-right-color: #D3D3D3; vertical-align: middle; overflow-x: hidden; }\n",
       " #oesiazspew .gt_stub { color: #333333; background-color: #FFFFFF; font-size: 100%; font-weight: initial; text-transform: inherit; border-right-style: solid; border-right-width: 2px; border-right-color: #D3D3D3; padding-left: 5px; padding-right: 5px; }\n",
       " #oesiazspew .gt_stub_row_group { color: #333333; background-color: #FFFFFF; font-size: 100%; font-weight: initial; text-transform: inherit; border-right-style: solid; border-right-width: 2px; border-right-color: #D3D3D3; padding-left: 5px; padding-right: 5px; vertical-align: top; }\n",
       " #oesiazspew .gt_row_group_first td { border-top-width: 2px; }\n",
       " #oesiazspew .gt_row_group_first th { border-top-width: 2px; }\n",
       " #oesiazspew .gt_striped { background-color: rgba(128,128,128,0.05); }\n",
       " #oesiazspew .gt_table_body { border-top-style: solid; border-top-width: 2px; border-top-color: #D3D3D3; border-bottom-style: solid; border-bottom-width: 2px; border-bottom-color: #D3D3D3; }\n",
       " #oesiazspew .gt_sourcenotes { color: #333333; background-color: #FFFFFF; border-bottom-style: none; border-bottom-width: 2px; border-bottom-color: #D3D3D3; border-left-style: none; border-left-width: 2px; border-left-color: #D3D3D3; border-right-style: none; border-right-width: 2px; border-right-color: #D3D3D3; }\n",
       " #oesiazspew .gt_sourcenote { font-size: 90%; padding-top: 4px; padding-bottom: 4px; padding-left: 5px; padding-right: 5px; text-align: left; }\n",
       " #oesiazspew .gt_left { text-align: left; }\n",
       " #oesiazspew .gt_center { text-align: center; }\n",
       " #oesiazspew .gt_right { text-align: right; font-variant-numeric: tabular-nums; }\n",
       " #oesiazspew .gt_font_normal { font-weight: normal; }\n",
       " #oesiazspew .gt_font_bold { font-weight: bold; }\n",
       " #oesiazspew .gt_font_italic { font-style: italic; }\n",
       " #oesiazspew .gt_super { font-size: 65%; }\n",
       " #oesiazspew .gt_footnote_marks { font-size: 75%; vertical-align: 0.4em; position: initial; }\n",
       " #oesiazspew .gt_asterisk { font-size: 100%; vertical-align: 0; }\n",
       " \n",
       "</style>\n",
       "<table class=\"gt_table\" data-quarto-disable-processing=\"false\" data-quarto-bootstrap=\"false\">\n",
       "<thead>\n",
       "\n",
       "<tr class=\"gt_col_headings\">\n",
       "  <th class=\"gt_col_heading gt_columns_bottom_border gt_left\" rowspan=\"1\" colspan=\"1\" scope=\"col\" id=\"フラグ\">フラグ</th>\n",
       "  <th class=\"gt_col_heading gt_columns_bottom_border gt_left\" rowspan=\"1\" colspan=\"1\" scope=\"col\" id=\"式\">式</th>\n",
       "  <th class=\"gt_col_heading gt_columns_bottom_border gt_left\" rowspan=\"1\" colspan=\"1\" scope=\"col\" id=\"結果\">結果</th>\n",
       "  <th class=\"gt_col_heading gt_columns_bottom_border gt_left\" rowspan=\"1\" colspan=\"1\" scope=\"col\" id=\"説明\">説明</th>\n",
       "</tr>\n",
       "</thead>\n",
       "<tbody class=\"gt_table_body\">\n",
       "  <tr>\n",
       "    <td class=\"gt_row gt_left\">mul</td>\n",
       "    <td class=\"gt_row gt_left\">expand(x*(y + z))</td>\n",
       "    <td class=\"gt_row gt_left\"><div class=\"math\">\\[x y + x z\\]</div></td>\n",
       "    <td class=\"gt_row gt_left\">乗算の展開</td>\n",
       "  </tr>\n",
       "  <tr>\n",
       "    <td class=\"gt_row gt_left\">log</td>\n",
       "    <td class=\"gt_row gt_left\">expand(log(x*y**2))</td>\n",
       "    <td class=\"gt_row gt_left\"><div class=\"math\">\\[\\log{\\left(x y^{2} \\right)}\\]</div></td>\n",
       "    <td class=\"gt_row gt_left\">対数関数の引数内の積とべき乗の展開</td>\n",
       "  </tr>\n",
       "  <tr>\n",
       "    <td class=\"gt_row gt_left\">multinomial</td>\n",
       "    <td class=\"gt_row gt_left\">expand((x + y)**3)</td>\n",
       "    <td class=\"gt_row gt_left\"><div class=\"math\">\\[x^{3} + 3 x^{2} y + 3 x y^{2} + y^{3}\\]</div></td>\n",
       "    <td class=\"gt_row gt_left\">加減算式の整数べき乗の展開</td>\n",
       "  </tr>\n",
       "  <tr>\n",
       "    <td class=\"gt_row gt_left\">power_base</td>\n",
       "    <td class=\"gt_row gt_left\">expand((x*y)**z)</td>\n",
       "    <td class=\"gt_row gt_left\"><div class=\"math\">\\[\\left(x y\\right)^{z}\\]</div></td>\n",
       "    <td class=\"gt_row gt_left\">べき関数の底の積の展開</td>\n",
       "  </tr>\n",
       "  <tr>\n",
       "    <td class=\"gt_row gt_left\">power_exp</td>\n",
       "    <td class=\"gt_row gt_left\">expand(x**(y + z))</td>\n",
       "    <td class=\"gt_row gt_left\"><div class=\"math\">\\[x^{y + z}\\]</div></td>\n",
       "    <td class=\"gt_row gt_left\">べき関数の指数和の展開</td>\n",
       "  </tr>\n",
       "</tbody>\n",
       "\n",
       "\n",
       "</table>\n",
       "\n",
       "</div>\n",
       "        "
      ],
      "text/plain": [
       "GT(_tbl_data=shape: (5, 4)\n",
       "┌─────────────┬─────────────────────┬─────────────────────────────────┬─────────────────────────────────┐\n",
       "│ フラグ      ┆ 式                  ┆ 結果                            ┆ 説明                            │\n",
       "│ ---         ┆ ---                 ┆ ---                             ┆ ---                             │\n",
       "│ str         ┆ str                 ┆ str                             ┆ str                             │\n",
       "╞═════════════╪═════════════════════╪═════════════════════════════════╪═════════════════════════════════╡\n",
       "│ mul         ┆ expand(x*(y + z))   ┆ x y + x z                       ┆ 乗算の展開                      │\n",
       "│ log         ┆ expand(log(x*y**2)) ┆ \\log{\\left(x y^{2} \\right)}     ┆ 対数関数の引数内の積とべき乗の  │\n",
       "│             ┆                     ┆                                 ┆ 展開                            │\n",
       "│ multinomial ┆ expand((x + y)**3)  ┆ x^{3} + 3 x^{2} y + 3 x y^{2} … ┆ 加減算式の整数べき乗の展開      │\n",
       "│ power_base  ┆ expand((x*y)**z)    ┆ \\left(x y\\right)^{z}            ┆ べき関数の底の積の展開          │\n",
       "│ power_exp   ┆ expand(x**(y + z))  ┆ x^{y + z}                       ┆ べき関数の指数和の展開          │\n",
       "└─────────────┴─────────────────────┴─────────────────────────────────┴─────────────────────────────────┘, _body=<great_tables._gt_data.Body object at 0x0000021DB7FBC150>, _boxhead=Boxhead([ColInfo(var='フラグ', type=<ColInfoTypeEnum.default: 1>, column_label='フラグ', column_align='left', column_width=None), ColInfo(var='式', type=<ColInfoTypeEnum.default: 1>, column_label='式', column_align='left', column_width=None), ColInfo(var='結果', type=<ColInfoTypeEnum.default: 1>, column_label='結果', column_align='left', column_width=None), ColInfo(var='説明', type=<ColInfoTypeEnum.default: 1>, column_label='説明', column_align='left', column_width=None)]), _stub=<great_tables._gt_data.Stub object at 0x0000021DB7833A80>, _spanners=Spanners([]), _heading=Heading(title=None, subtitle=None, preheader=None), _stubhead=None, _source_notes=[], _footnotes=[], _styles=[], _locale=<great_tables._gt_data.Locale object at 0x0000021DB7833E10>, _formats=[<great_tables._gt_data.FormatInfo object at 0x0000021DB7FC4180>], _substitutions=[], _options=Options(table_id=OptionsInfo(scss=False, category='table', type='value', value=None), table_caption=OptionsInfo(scss=False, category='table', type='value', value=None), table_width=OptionsInfo(scss=True, category='table', type='px', value='auto'), table_layout=OptionsInfo(scss=True, category='table', type='value', value='fixed'), table_margin_left=OptionsInfo(scss=True, category='table', type='px', value='auto'), table_margin_right=OptionsInfo(scss=True, category='table', type='px', value='auto'), table_background_color=OptionsInfo(scss=True, category='table', type='value', value='#FFFFFF'), table_additional_css=OptionsInfo(scss=False, category='table', type='values', value=[]), table_font_names=OptionsInfo(scss=False, category='table', type='values', value=['-apple-system', 'BlinkMacSystemFont', 'Segoe UI', 'Roboto', 'Oxygen', 'Ubuntu', 'Cantarell', 'Helvetica Neue', 'Fira Sans', 'Droid Sans', 'Arial', 'sans-serif']), table_font_size=OptionsInfo(scss=True, category='table', type='px', value='16px'), table_font_weight=OptionsInfo(scss=True, category='table', type='value', value='normal'), table_font_style=OptionsInfo(scss=True, category='table', type='value', value='normal'), table_font_color=OptionsInfo(scss=True, category='table', type='value', value='#333333'), table_font_color_light=OptionsInfo(scss=True, category='table', type='value', value='#FFFFFF'), table_border_top_include=OptionsInfo(scss=False, category='table', type='boolean', value=True), table_border_top_style=OptionsInfo(scss=True, category='table', type='value', value='solid'), table_border_top_width=OptionsInfo(scss=True, category='table', type='px', value='2px'), table_border_top_color=OptionsInfo(scss=True, category='table', type='value', value='#A8A8A8'), table_border_right_style=OptionsInfo(scss=True, category='table', type='value', value='none'), table_border_right_width=OptionsInfo(scss=True, category='table', type='px', value='2px'), table_border_right_color=OptionsInfo(scss=True, category='table', type='value', value='#D3D3D3'), table_border_bottom_include=OptionsInfo(scss=False, category='table', type='boolean', value=True), table_border_bottom_style=OptionsInfo(scss=True, category='table', type='value', value='solid'), table_border_bottom_width=OptionsInfo(scss=True, category='table', type='px', value='2px'), table_border_bottom_color=OptionsInfo(scss=True, category='table', type='value', value='#A8A8A8'), table_border_left_style=OptionsInfo(scss=True, category='table', type='value', value='none'), table_border_left_width=OptionsInfo(scss=True, category='table', type='px', value='2px'), table_border_left_color=OptionsInfo(scss=True, category='table', type='value', value='#D3D3D3'), heading_background_color=OptionsInfo(scss=True, category='heading', type='value', value=None), heading_align=OptionsInfo(scss=True, category='heading', type='value', value='center'), heading_title_font_size=OptionsInfo(scss=True, category='heading', type='px', value='125%'), heading_title_font_weight=OptionsInfo(scss=True, category='heading', type='value', value='initial'), heading_subtitle_font_size=OptionsInfo(scss=True, category='heading', type='px', value='85%'), heading_subtitle_font_weight=OptionsInfo(scss=True, category='heading', type='value', value='initial'), heading_padding=OptionsInfo(scss=True, category='heading', type='px', value='4px'), heading_padding_horizontal=OptionsInfo(scss=True, category='heading', type='px', value='5px'), heading_border_bottom_style=OptionsInfo(scss=True, category='heading', type='value', value='solid'), heading_border_bottom_width=OptionsInfo(scss=True, category='heading', type='px', value='2px'), heading_border_bottom_color=OptionsInfo(scss=True, category='heading', type='value', value='#D3D3D3'), heading_border_lr_style=OptionsInfo(scss=True, category='heading', type='value', value='none'), heading_border_lr_width=OptionsInfo(scss=True, category='heading', type='px', value='1px'), heading_border_lr_color=OptionsInfo(scss=True, category='heading', type='value', value='#D3D3D3'), column_labels_background_color=OptionsInfo(scss=True, category='column_labels', type='value', value=None), column_labels_font_size=OptionsInfo(scss=True, category='column_labels', type='px', value='100%'), column_labels_font_weight=OptionsInfo(scss=True, category='column_labels', type='value', value='normal'), column_labels_text_transform=OptionsInfo(scss=True, category='column_labels', type='value', value='inherit'), column_labels_padding=OptionsInfo(scss=True, category='column_labels', type='px', value='5px'), column_labels_padding_horizontal=OptionsInfo(scss=True, category='column_labels', type='px', value='5px'), column_labels_vlines_style=OptionsInfo(scss=True, category='table_body', type='value', value='none'), column_labels_vlines_width=OptionsInfo(scss=True, category='table_body', type='px', value='1px'), column_labels_vlines_color=OptionsInfo(scss=True, category='table_body', type='value', value='#D3D3D3'), column_labels_border_top_style=OptionsInfo(scss=True, category='column_labels', type='value', value='solid'), column_labels_border_top_width=OptionsInfo(scss=True, category='column_labels', type='px', value='2px'), column_labels_border_top_color=OptionsInfo(scss=True, category='column_labels', type='value', value='#D3D3D3'), column_labels_border_bottom_style=OptionsInfo(scss=True, category='column_labels', type='value', value='solid'), column_labels_border_bottom_width=OptionsInfo(scss=True, category='column_labels', type='px', value='2px'), column_labels_border_bottom_color=OptionsInfo(scss=True, category='column_labels', type='value', value='#D3D3D3'), column_labels_border_lr_style=OptionsInfo(scss=True, category='column_labels', type='value', value='none'), column_labels_border_lr_width=OptionsInfo(scss=True, category='column_labels', type='px', value='1px'), column_labels_border_lr_color=OptionsInfo(scss=True, category='column_labels', type='value', value='#D3D3D3'), column_labels_hidden=OptionsInfo(scss=False, category='column_labels', type='boolean', value=False), row_group_background_color=OptionsInfo(scss=True, category='row_group', type='value', value=None), row_group_font_size=OptionsInfo(scss=True, category='row_group', type='px', value='100%'), row_group_font_weight=OptionsInfo(scss=True, category='row_group', type='value', value='initial'), row_group_text_transform=OptionsInfo(scss=True, category='row_group', type='value', value='inherit'), row_group_padding=OptionsInfo(scss=True, category='row_group', type='px', value='8px'), row_group_padding_horizontal=OptionsInfo(scss=True, category='row_group', type='px', value='5px'), row_group_border_top_style=OptionsInfo(scss=True, category='row_group', type='value', value='solid'), row_group_border_top_width=OptionsInfo(scss=True, category='row_group', type='px', value='2px'), row_group_border_top_color=OptionsInfo(scss=True, category='row_group', type='value', value='#D3D3D3'), row_group_border_right_style=OptionsInfo(scss=True, category='row_group', type='value', value='none'), row_group_border_right_width=OptionsInfo(scss=True, category='row_group', type='px', value='1px'), row_group_border_right_color=OptionsInfo(scss=True, category='row_group', type='value', value='#D3D3D3'), row_group_border_bottom_style=OptionsInfo(scss=True, category='row_group', type='value', value='solid'), row_group_border_bottom_width=OptionsInfo(scss=True, category='row_group', type='px', value='2px'), row_group_border_bottom_color=OptionsInfo(scss=True, category='row_group', type='value', value='#D3D3D3'), row_group_border_left_style=OptionsInfo(scss=True, category='row_group', type='value', value='none'), row_group_border_left_width=OptionsInfo(scss=True, category='row_group', type='px', value='1px'), row_group_border_left_color=OptionsInfo(scss=True, category='row_group', type='value', value='#D3D3D3'), row_group_as_column=OptionsInfo(scss=False, category='row_group', type='boolean', value=False), table_body_hlines_style=OptionsInfo(scss=True, category='table_body', type='value', value='solid'), table_body_hlines_width=OptionsInfo(scss=True, category='table_body', type='px', value='1px'), table_body_hlines_color=OptionsInfo(scss=True, category='table_body', type='value', value='#D3D3D3'), table_body_vlines_style=OptionsInfo(scss=True, category='table_body', type='value', value='none'), table_body_vlines_width=OptionsInfo(scss=True, category='table_body', type='px', value='1px'), table_body_vlines_color=OptionsInfo(scss=True, category='table_body', type='value', value='#D3D3D3'), table_body_border_top_style=OptionsInfo(scss=True, category='table_body', type='value', value='solid'), table_body_border_top_width=OptionsInfo(scss=True, category='table_body', type='px', value='2px'), table_body_border_top_color=OptionsInfo(scss=True, category='table_body', type='value', value='#D3D3D3'), table_body_border_bottom_style=OptionsInfo(scss=True, category='table_body', type='value', value='solid'), table_body_border_bottom_width=OptionsInfo(scss=True, category='table_body', type='px', value='2px'), table_body_border_bottom_color=OptionsInfo(scss=True, category='table_body', type='value', value='#D3D3D3'), data_row_padding=OptionsInfo(scss=True, category='data_row', type='px', value='8px'), data_row_padding_horizontal=OptionsInfo(scss=True, category='data_row', type='px', value='5px'), stub_background_color=OptionsInfo(scss=True, category='stub', type='value', value=None), stub_font_size=OptionsInfo(scss=True, category='stub', type='px', value='100%'), stub_font_weight=OptionsInfo(scss=True, category='stub', type='value', value='initial'), stub_text_transform=OptionsInfo(scss=True, category='stub', type='value', value='inherit'), stub_border_style=OptionsInfo(scss=True, category='stub', type='value', value='solid'), stub_border_width=OptionsInfo(scss=True, category='stub', type='px', value='2px'), stub_border_color=OptionsInfo(scss=True, category='stub', type='value', value='#D3D3D3'), stub_row_group_background_color=OptionsInfo(scss=True, category='stub', type='value', value=None), stub_row_group_font_size=OptionsInfo(scss=True, category='stub', type='px', value='100%'), stub_row_group_font_weight=OptionsInfo(scss=True, category='stub', type='value', value='initial'), stub_row_group_text_transform=OptionsInfo(scss=True, category='stub', type='value', value='inherit'), stub_row_group_border_style=OptionsInfo(scss=True, category='stub', type='value', value='solid'), stub_row_group_border_width=OptionsInfo(scss=True, category='stub', type='px', value='2px'), stub_row_group_border_color=OptionsInfo(scss=True, category='stub', type='value', value='#D3D3D3'), source_notes_padding=OptionsInfo(scss=True, category='source_notes', type='px', value='4px'), source_notes_padding_horizontal=OptionsInfo(scss=True, category='source_notes', type='px', value='5px'), source_notes_background_color=OptionsInfo(scss=True, category='source_notes', type='value', value=None), source_notes_font_size=OptionsInfo(scss=True, category='source_notes', type='px', value='90%'), source_notes_border_bottom_style=OptionsInfo(scss=True, category='source_notes', type='value', value='none'), source_notes_border_bottom_width=OptionsInfo(scss=True, category='source_notes', type='px', value='2px'), source_notes_border_bottom_color=OptionsInfo(scss=True, category='source_notes', type='value', value='#D3D3D3'), source_notes_border_lr_style=OptionsInfo(scss=True, category='source_notes', type='value', value='none'), source_notes_border_lr_width=OptionsInfo(scss=True, category='source_notes', type='px', value='2px'), source_notes_border_lr_color=OptionsInfo(scss=True, category='source_notes', type='value', value='#D3D3D3'), source_notes_multiline=OptionsInfo(scss=False, category='source_notes', type='boolean', value=True), source_notes_sep=OptionsInfo(scss=False, category='source_notes', type='value', value=' '), row_striping_background_color=OptionsInfo(scss=True, category='row', type='value', value='rgba(128,128,128,0.05)'), row_striping_include_stub=OptionsInfo(scss=False, category='row', type='boolean', value=False), row_striping_include_table_body=OptionsInfo(scss=False, category='row', type='boolean', value=False), container_width=OptionsInfo(scss=False, category='container', type='px', value='auto'), container_height=OptionsInfo(scss=False, category='container', type='px', value='auto'), container_padding_x=OptionsInfo(scss=False, category='container', type='px', value='0px'), container_padding_y=OptionsInfo(scss=False, category='container', type='px', value='10px'), container_overflow_x=OptionsInfo(scss=False, category='container', type='overflow', value='auto'), container_overflow_y=OptionsInfo(scss=False, category='container', type='overflow', value='auto'), quarto_disable_processing=OptionsInfo(scss=False, category='quarto', type='logical', value=False), quarto_use_bootstrap=OptionsInfo(scss=False, category='quarto', type='logical', value=False)), _has_built=False)"
      ]
     },
     "execution_count": 75,
     "metadata": {},
     "output_type": "execute_result"
    }
   ],
   "source": [
    "flags = [\"mul\", \"log\", \"multinomial\", \"power_base\", \"power_exp\"]\n",
    "x, y, z = symbols(\"x y z\")\n",
    "expressions = [x * (y + z), log(x * y**2), (x + y) ** 3, (x * y) ** z, x ** (y + z)]\n",
    "infos = [\n",
    "    \"乗算の展開\",\n",
    "    \"対数関数の引数内の積とべき乗の展開\",\n",
    "    \"加減算式の整数べき乗の展開\",\n",
    "    \"べき関数の底の積の展開\",\n",
    "    \"べき関数の指数和の展開\",\n",
    "]\n",
    "table = []\n",
    "for flag, expression, info in zip(flags, expressions, infos):\n",
    "    table.append(\n",
    "        [f\"{flag}\", f\"expand({expression})\", f\"{latex(expand(expression))}\", info]\n",
    "    )\n",
    "\n",
    "latex_table(table, [\"フラグ\", \"式\", \"結果\", \"説明\"], \"結果\")"
   ]
  },
  {
   "cell_type": "markdown",
   "metadata": {},
   "source": [
    "デフォルトで`True`のフラグパラメータを`False`に設定することで、対応する式を展開しないようにできます。以下の例では、`mul`を`False`に設定しているため、乗算を展開しません："
   ]
  },
  {
   "cell_type": "code",
   "execution_count": 76,
   "metadata": {
    "collapsed": false,
    "jupyter": {
     "outputs_hidden": false
    }
   },
   "outputs": [
    {
     "data": {
      "text/latex": [
       "$\\displaystyle x \\left(\\log{\\left(y \\right)} + \\log{\\left(z \\right)}\\right)$"
      ],
      "text/plain": [
       "x*(log(y) + log(z))"
      ]
     },
     "execution_count": 76,
     "metadata": {},
     "output_type": "execute_result"
    }
   ],
   "source": [
    "x, y, z = symbols(\"x,y,z\", positive=True)\n",
    "expand(x * log(y * z), mul=False)"
   ]
  },
  {
   "cell_type": "markdown",
   "metadata": {},
   "source": [
    "次の表のフラグパラメータはデフォルトで`False`です："
   ]
  },
  {
   "cell_type": "code",
   "execution_count": 77,
   "metadata": {},
   "outputs": [
    {
     "data": {
      "text/html": [
       "<div id=\"emexgzdrjk\" style=\"padding-left:0px;padding-right:0px;padding-top:10px;padding-bottom:10px;overflow-x:auto;overflow-y:auto;width:auto;height:auto;\">\n",
       "<style>\n",
       "#emexgzdrjk table {\n",
       "          font-family: -apple-system, BlinkMacSystemFont, 'Segoe UI', Roboto, Oxygen, Ubuntu, Cantarell, 'Helvetica Neue', 'Fira Sans', 'Droid Sans', Arial, sans-serif;\n",
       "          -webkit-font-smoothing: antialiased;\n",
       "          -moz-osx-font-smoothing: grayscale;\n",
       "        }\n",
       "\n",
       "#emexgzdrjk thead, tbody, tfoot, tr, td, th { border-style: none; }\n",
       " tr { background-color: transparent; }\n",
       "#emexgzdrjk p { margin: 0; padding: 0; }\n",
       " #emexgzdrjk .gt_table { display: table; border-collapse: collapse; line-height: normal; margin-left: auto; margin-right: auto; color: #333333; font-size: 16px; font-weight: normal; font-style: normal; background-color: #FFFFFF; width: auto; border-top-style: solid; border-top-width: 2px; border-top-color: #A8A8A8; border-right-style: none; border-right-width: 2px; border-right-color: #D3D3D3; border-bottom-style: solid; border-bottom-width: 2px; border-bottom-color: #A8A8A8; border-left-style: none; border-left-width: 2px; border-left-color: #D3D3D3; }\n",
       " #emexgzdrjk .gt_caption { padding-top: 4px; padding-bottom: 4px; }\n",
       " #emexgzdrjk .gt_title { color: #333333; font-size: 125%; font-weight: initial; padding-top: 4px; padding-bottom: 4px; padding-left: 5px; padding-right: 5px; border-bottom-color: #FFFFFF; border-bottom-width: 0; }\n",
       " #emexgzdrjk .gt_subtitle { color: #333333; font-size: 85%; font-weight: initial; padding-top: 3px; padding-bottom: 5px; padding-left: 5px; padding-right: 5px; border-top-color: #FFFFFF; border-top-width: 0; }\n",
       " #emexgzdrjk .gt_heading { background-color: #FFFFFF; text-align: center; border-bottom-color: #FFFFFF; border-left-style: none; border-left-width: 1px; border-left-color: #D3D3D3; border-right-style: none; border-right-width: 1px; border-right-color: #D3D3D3; }\n",
       " #emexgzdrjk .gt_bottom_border { border-bottom-style: solid; border-bottom-width: 2px; border-bottom-color: #D3D3D3; }\n",
       " #emexgzdrjk .gt_col_headings { border-top-style: solid; border-top-width: 2px; border-top-color: #D3D3D3; border-bottom-style: solid; border-bottom-width: 2px; border-bottom-color: #D3D3D3; border-left-style: none; border-left-width: 1px; border-left-color: #D3D3D3; border-right-style: none; border-right-width: 1px; border-right-color: #D3D3D3; }\n",
       " #emexgzdrjk .gt_col_heading { color: #333333; background-color: #FFFFFF; font-size: 100%; font-weight: normal; text-transform: inherit; border-left-style: none; border-left-width: 1px; border-left-color: #D3D3D3; border-right-style: none; border-right-width: 1px; border-right-color: #D3D3D3; vertical-align: bottom; padding-top: 5px; padding-bottom: 5px; padding-left: 5px; padding-right: 5px; overflow-x: hidden; }\n",
       " #emexgzdrjk .gt_column_spanner_outer { color: #333333; background-color: #FFFFFF; font-size: 100%; font-weight: normal; text-transform: inherit; padding-top: 0; padding-bottom: 0; padding-left: 4px; padding-right: 4px; }\n",
       " #emexgzdrjk .gt_column_spanner_outer:first-child { padding-left: 0; }\n",
       " #emexgzdrjk .gt_column_spanner_outer:last-child { padding-right: 0; }\n",
       " #emexgzdrjk .gt_column_spanner { border-bottom-style: solid; border-bottom-width: 2px; border-bottom-color: #D3D3D3; vertical-align: bottom; padding-top: 5px; padding-bottom: 5px; overflow-x: hidden; display: inline-block; width: 100%; }\n",
       " #emexgzdrjk .gt_spanner_row { border-bottom-style: hidden; }\n",
       " #emexgzdrjk .gt_group_heading { padding-top: 8px; padding-bottom: 8px; padding-left: 5px; padding-right: 5px; color: #333333; background-color: #FFFFFF; font-size: 100%; font-weight: initial; text-transform: inherit; border-top-style: solid; border-top-width: 2px; border-top-color: #D3D3D3; border-bottom-style: solid; border-bottom-width: 2px; border-bottom-color: #D3D3D3; border-left-style: none; border-left-width: 1px; border-left-color: #D3D3D3; border-right-style: none; border-right-width: 1px; border-right-color: #D3D3D3; vertical-align: middle; text-align: left; }\n",
       " #emexgzdrjk .gt_empty_group_heading { padding: 0.5px; color: #333333; background-color: #FFFFFF; font-size: 100%; font-weight: initial; border-top-style: solid; border-top-width: 2px; border-top-color: #D3D3D3; border-bottom-style: solid; border-bottom-width: 2px; border-bottom-color: #D3D3D3; vertical-align: middle; }\n",
       " #emexgzdrjk .gt_from_md> :first-child { margin-top: 0; }\n",
       " #emexgzdrjk .gt_from_md> :last-child { margin-bottom: 0; }\n",
       " #emexgzdrjk .gt_row { padding-top: 8px; padding-bottom: 8px; padding-left: 5px; padding-right: 5px; margin: 10px; border-top-style: solid; border-top-width: 1px; border-top-color: #D3D3D3; border-left-style: none; border-left-width: 1px; border-left-color: #D3D3D3; border-right-style: none; border-right-width: 1px; border-right-color: #D3D3D3; vertical-align: middle; overflow-x: hidden; }\n",
       " #emexgzdrjk .gt_stub { color: #333333; background-color: #FFFFFF; font-size: 100%; font-weight: initial; text-transform: inherit; border-right-style: solid; border-right-width: 2px; border-right-color: #D3D3D3; padding-left: 5px; padding-right: 5px; }\n",
       " #emexgzdrjk .gt_stub_row_group { color: #333333; background-color: #FFFFFF; font-size: 100%; font-weight: initial; text-transform: inherit; border-right-style: solid; border-right-width: 2px; border-right-color: #D3D3D3; padding-left: 5px; padding-right: 5px; vertical-align: top; }\n",
       " #emexgzdrjk .gt_row_group_first td { border-top-width: 2px; }\n",
       " #emexgzdrjk .gt_row_group_first th { border-top-width: 2px; }\n",
       " #emexgzdrjk .gt_striped { background-color: rgba(128,128,128,0.05); }\n",
       " #emexgzdrjk .gt_table_body { border-top-style: solid; border-top-width: 2px; border-top-color: #D3D3D3; border-bottom-style: solid; border-bottom-width: 2px; border-bottom-color: #D3D3D3; }\n",
       " #emexgzdrjk .gt_sourcenotes { color: #333333; background-color: #FFFFFF; border-bottom-style: none; border-bottom-width: 2px; border-bottom-color: #D3D3D3; border-left-style: none; border-left-width: 2px; border-left-color: #D3D3D3; border-right-style: none; border-right-width: 2px; border-right-color: #D3D3D3; }\n",
       " #emexgzdrjk .gt_sourcenote { font-size: 90%; padding-top: 4px; padding-bottom: 4px; padding-left: 5px; padding-right: 5px; text-align: left; }\n",
       " #emexgzdrjk .gt_left { text-align: left; }\n",
       " #emexgzdrjk .gt_center { text-align: center; }\n",
       " #emexgzdrjk .gt_right { text-align: right; font-variant-numeric: tabular-nums; }\n",
       " #emexgzdrjk .gt_font_normal { font-weight: normal; }\n",
       " #emexgzdrjk .gt_font_bold { font-weight: bold; }\n",
       " #emexgzdrjk .gt_font_italic { font-style: italic; }\n",
       " #emexgzdrjk .gt_super { font-size: 65%; }\n",
       " #emexgzdrjk .gt_footnote_marks { font-size: 75%; vertical-align: 0.4em; position: initial; }\n",
       " #emexgzdrjk .gt_asterisk { font-size: 100%; vertical-align: 0; }\n",
       " \n",
       "</style>\n",
       "<table class=\"gt_table\" data-quarto-disable-processing=\"false\" data-quarto-bootstrap=\"false\">\n",
       "<thead>\n",
       "\n",
       "<tr class=\"gt_col_headings\">\n",
       "  <th class=\"gt_col_heading gt_columns_bottom_border gt_left\" rowspan=\"1\" colspan=\"1\" scope=\"col\" id=\"フラグ\">フラグ</th>\n",
       "  <th class=\"gt_col_heading gt_columns_bottom_border gt_left\" rowspan=\"1\" colspan=\"1\" scope=\"col\" id=\"式\">式</th>\n",
       "  <th class=\"gt_col_heading gt_columns_bottom_border gt_left\" rowspan=\"1\" colspan=\"1\" scope=\"col\" id=\"結果\">結果</th>\n",
       "  <th class=\"gt_col_heading gt_columns_bottom_border gt_left\" rowspan=\"1\" colspan=\"1\" scope=\"col\" id=\"説明\">説明</th>\n",
       "</tr>\n",
       "</thead>\n",
       "<tbody class=\"gt_table_body\">\n",
       "  <tr>\n",
       "    <td class=\"gt_row gt_left\">complex</td>\n",
       "    <td class=\"gt_row gt_left\">expand(x*y)</td>\n",
       "    <td class=\"gt_row gt_left\"><div class=\"math\">\\[x y\\]</div></td>\n",
       "    <td class=\"gt_row gt_left\">複素数の展開</td>\n",
       "  </tr>\n",
       "  <tr>\n",
       "    <td class=\"gt_row gt_left\">func</td>\n",
       "    <td class=\"gt_row gt_left\">expand(gamma(x + 1))</td>\n",
       "    <td class=\"gt_row gt_left\"><div class=\"math\">\\[\\Gamma\\left(x + 1\\right)\\]</div></td>\n",
       "    <td class=\"gt_row gt_left\">特殊関数の展開</td>\n",
       "  </tr>\n",
       "  <tr>\n",
       "    <td class=\"gt_row gt_left\">trig</td>\n",
       "    <td class=\"gt_row gt_left\">expand(sin(x + y))</td>\n",
       "    <td class=\"gt_row gt_left\"><div class=\"math\">\\[\\sin{\\left(x + y \\right)}\\]</div></td>\n",
       "    <td class=\"gt_row gt_left\">三角関数の展開</td>\n",
       "  </tr>\n",
       "</tbody>\n",
       "\n",
       "\n",
       "</table>\n",
       "\n",
       "</div>\n",
       "        "
      ],
      "text/plain": [
       "GT(_tbl_data=shape: (3, 4)\n",
       "┌─────────┬──────────────────────┬───────────────────────────┬────────────────┐\n",
       "│ フラグ  ┆ 式                   ┆ 結果                      ┆ 説明           │\n",
       "│ ---     ┆ ---                  ┆ ---                       ┆ ---            │\n",
       "│ str     ┆ str                  ┆ str                       ┆ str            │\n",
       "╞═════════╪══════════════════════╪═══════════════════════════╪════════════════╡\n",
       "│ complex ┆ expand(x*y)          ┆ x y                       ┆ 複素数の展開   │\n",
       "│ func    ┆ expand(gamma(x + 1)) ┆ \\Gamma\\left(x + 1\\right)  ┆ 特殊関数の展開 │\n",
       "│ trig    ┆ expand(sin(x + y))   ┆ \\sin{\\left(x + y \\right)} ┆ 三角関数の展開 │\n",
       "└─────────┴──────────────────────┴───────────────────────────┴────────────────┘, _body=<great_tables._gt_data.Body object at 0x0000021DB7F2D710>, _boxhead=Boxhead([ColInfo(var='フラグ', type=<ColInfoTypeEnum.default: 1>, column_label='フラグ', column_align='left', column_width=None), ColInfo(var='式', type=<ColInfoTypeEnum.default: 1>, column_label='式', column_align='left', column_width=None), ColInfo(var='結果', type=<ColInfoTypeEnum.default: 1>, column_label='結果', column_align='left', column_width=None), ColInfo(var='説明', type=<ColInfoTypeEnum.default: 1>, column_label='説明', column_align='left', column_width=None)]), _stub=<great_tables._gt_data.Stub object at 0x0000021DB7FC4770>, _spanners=Spanners([]), _heading=Heading(title=None, subtitle=None, preheader=None), _stubhead=None, _source_notes=[], _footnotes=[], _styles=[], _locale=<great_tables._gt_data.Locale object at 0x0000021DB7FC4640>, _formats=[<great_tables._gt_data.FormatInfo object at 0x0000021DB7FC49D0>], _substitutions=[], _options=Options(table_id=OptionsInfo(scss=False, category='table', type='value', value=None), table_caption=OptionsInfo(scss=False, category='table', type='value', value=None), table_width=OptionsInfo(scss=True, category='table', type='px', value='auto'), table_layout=OptionsInfo(scss=True, category='table', type='value', value='fixed'), table_margin_left=OptionsInfo(scss=True, category='table', type='px', value='auto'), table_margin_right=OptionsInfo(scss=True, category='table', type='px', value='auto'), table_background_color=OptionsInfo(scss=True, category='table', type='value', value='#FFFFFF'), table_additional_css=OptionsInfo(scss=False, category='table', type='values', value=[]), table_font_names=OptionsInfo(scss=False, category='table', type='values', value=['-apple-system', 'BlinkMacSystemFont', 'Segoe UI', 'Roboto', 'Oxygen', 'Ubuntu', 'Cantarell', 'Helvetica Neue', 'Fira Sans', 'Droid Sans', 'Arial', 'sans-serif']), table_font_size=OptionsInfo(scss=True, category='table', type='px', value='16px'), table_font_weight=OptionsInfo(scss=True, category='table', type='value', value='normal'), table_font_style=OptionsInfo(scss=True, category='table', type='value', value='normal'), table_font_color=OptionsInfo(scss=True, category='table', type='value', value='#333333'), table_font_color_light=OptionsInfo(scss=True, category='table', type='value', value='#FFFFFF'), table_border_top_include=OptionsInfo(scss=False, category='table', type='boolean', value=True), table_border_top_style=OptionsInfo(scss=True, category='table', type='value', value='solid'), table_border_top_width=OptionsInfo(scss=True, category='table', type='px', value='2px'), table_border_top_color=OptionsInfo(scss=True, category='table', type='value', value='#A8A8A8'), table_border_right_style=OptionsInfo(scss=True, category='table', type='value', value='none'), table_border_right_width=OptionsInfo(scss=True, category='table', type='px', value='2px'), table_border_right_color=OptionsInfo(scss=True, category='table', type='value', value='#D3D3D3'), table_border_bottom_include=OptionsInfo(scss=False, category='table', type='boolean', value=True), table_border_bottom_style=OptionsInfo(scss=True, category='table', type='value', value='solid'), table_border_bottom_width=OptionsInfo(scss=True, category='table', type='px', value='2px'), table_border_bottom_color=OptionsInfo(scss=True, category='table', type='value', value='#A8A8A8'), table_border_left_style=OptionsInfo(scss=True, category='table', type='value', value='none'), table_border_left_width=OptionsInfo(scss=True, category='table', type='px', value='2px'), table_border_left_color=OptionsInfo(scss=True, category='table', type='value', value='#D3D3D3'), heading_background_color=OptionsInfo(scss=True, category='heading', type='value', value=None), heading_align=OptionsInfo(scss=True, category='heading', type='value', value='center'), heading_title_font_size=OptionsInfo(scss=True, category='heading', type='px', value='125%'), heading_title_font_weight=OptionsInfo(scss=True, category='heading', type='value', value='initial'), heading_subtitle_font_size=OptionsInfo(scss=True, category='heading', type='px', value='85%'), heading_subtitle_font_weight=OptionsInfo(scss=True, category='heading', type='value', value='initial'), heading_padding=OptionsInfo(scss=True, category='heading', type='px', value='4px'), heading_padding_horizontal=OptionsInfo(scss=True, category='heading', type='px', value='5px'), heading_border_bottom_style=OptionsInfo(scss=True, category='heading', type='value', value='solid'), heading_border_bottom_width=OptionsInfo(scss=True, category='heading', type='px', value='2px'), heading_border_bottom_color=OptionsInfo(scss=True, category='heading', type='value', value='#D3D3D3'), heading_border_lr_style=OptionsInfo(scss=True, category='heading', type='value', value='none'), heading_border_lr_width=OptionsInfo(scss=True, category='heading', type='px', value='1px'), heading_border_lr_color=OptionsInfo(scss=True, category='heading', type='value', value='#D3D3D3'), column_labels_background_color=OptionsInfo(scss=True, category='column_labels', type='value', value=None), column_labels_font_size=OptionsInfo(scss=True, category='column_labels', type='px', value='100%'), column_labels_font_weight=OptionsInfo(scss=True, category='column_labels', type='value', value='normal'), column_labels_text_transform=OptionsInfo(scss=True, category='column_labels', type='value', value='inherit'), column_labels_padding=OptionsInfo(scss=True, category='column_labels', type='px', value='5px'), column_labels_padding_horizontal=OptionsInfo(scss=True, category='column_labels', type='px', value='5px'), column_labels_vlines_style=OptionsInfo(scss=True, category='table_body', type='value', value='none'), column_labels_vlines_width=OptionsInfo(scss=True, category='table_body', type='px', value='1px'), column_labels_vlines_color=OptionsInfo(scss=True, category='table_body', type='value', value='#D3D3D3'), column_labels_border_top_style=OptionsInfo(scss=True, category='column_labels', type='value', value='solid'), column_labels_border_top_width=OptionsInfo(scss=True, category='column_labels', type='px', value='2px'), column_labels_border_top_color=OptionsInfo(scss=True, category='column_labels', type='value', value='#D3D3D3'), column_labels_border_bottom_style=OptionsInfo(scss=True, category='column_labels', type='value', value='solid'), column_labels_border_bottom_width=OptionsInfo(scss=True, category='column_labels', type='px', value='2px'), column_labels_border_bottom_color=OptionsInfo(scss=True, category='column_labels', type='value', value='#D3D3D3'), column_labels_border_lr_style=OptionsInfo(scss=True, category='column_labels', type='value', value='none'), column_labels_border_lr_width=OptionsInfo(scss=True, category='column_labels', type='px', value='1px'), column_labels_border_lr_color=OptionsInfo(scss=True, category='column_labels', type='value', value='#D3D3D3'), column_labels_hidden=OptionsInfo(scss=False, category='column_labels', type='boolean', value=False), row_group_background_color=OptionsInfo(scss=True, category='row_group', type='value', value=None), row_group_font_size=OptionsInfo(scss=True, category='row_group', type='px', value='100%'), row_group_font_weight=OptionsInfo(scss=True, category='row_group', type='value', value='initial'), row_group_text_transform=OptionsInfo(scss=True, category='row_group', type='value', value='inherit'), row_group_padding=OptionsInfo(scss=True, category='row_group', type='px', value='8px'), row_group_padding_horizontal=OptionsInfo(scss=True, category='row_group', type='px', value='5px'), row_group_border_top_style=OptionsInfo(scss=True, category='row_group', type='value', value='solid'), row_group_border_top_width=OptionsInfo(scss=True, category='row_group', type='px', value='2px'), row_group_border_top_color=OptionsInfo(scss=True, category='row_group', type='value', value='#D3D3D3'), row_group_border_right_style=OptionsInfo(scss=True, category='row_group', type='value', value='none'), row_group_border_right_width=OptionsInfo(scss=True, category='row_group', type='px', value='1px'), row_group_border_right_color=OptionsInfo(scss=True, category='row_group', type='value', value='#D3D3D3'), row_group_border_bottom_style=OptionsInfo(scss=True, category='row_group', type='value', value='solid'), row_group_border_bottom_width=OptionsInfo(scss=True, category='row_group', type='px', value='2px'), row_group_border_bottom_color=OptionsInfo(scss=True, category='row_group', type='value', value='#D3D3D3'), row_group_border_left_style=OptionsInfo(scss=True, category='row_group', type='value', value='none'), row_group_border_left_width=OptionsInfo(scss=True, category='row_group', type='px', value='1px'), row_group_border_left_color=OptionsInfo(scss=True, category='row_group', type='value', value='#D3D3D3'), row_group_as_column=OptionsInfo(scss=False, category='row_group', type='boolean', value=False), table_body_hlines_style=OptionsInfo(scss=True, category='table_body', type='value', value='solid'), table_body_hlines_width=OptionsInfo(scss=True, category='table_body', type='px', value='1px'), table_body_hlines_color=OptionsInfo(scss=True, category='table_body', type='value', value='#D3D3D3'), table_body_vlines_style=OptionsInfo(scss=True, category='table_body', type='value', value='none'), table_body_vlines_width=OptionsInfo(scss=True, category='table_body', type='px', value='1px'), table_body_vlines_color=OptionsInfo(scss=True, category='table_body', type='value', value='#D3D3D3'), table_body_border_top_style=OptionsInfo(scss=True, category='table_body', type='value', value='solid'), table_body_border_top_width=OptionsInfo(scss=True, category='table_body', type='px', value='2px'), table_body_border_top_color=OptionsInfo(scss=True, category='table_body', type='value', value='#D3D3D3'), table_body_border_bottom_style=OptionsInfo(scss=True, category='table_body', type='value', value='solid'), table_body_border_bottom_width=OptionsInfo(scss=True, category='table_body', type='px', value='2px'), table_body_border_bottom_color=OptionsInfo(scss=True, category='table_body', type='value', value='#D3D3D3'), data_row_padding=OptionsInfo(scss=True, category='data_row', type='px', value='8px'), data_row_padding_horizontal=OptionsInfo(scss=True, category='data_row', type='px', value='5px'), stub_background_color=OptionsInfo(scss=True, category='stub', type='value', value=None), stub_font_size=OptionsInfo(scss=True, category='stub', type='px', value='100%'), stub_font_weight=OptionsInfo(scss=True, category='stub', type='value', value='initial'), stub_text_transform=OptionsInfo(scss=True, category='stub', type='value', value='inherit'), stub_border_style=OptionsInfo(scss=True, category='stub', type='value', value='solid'), stub_border_width=OptionsInfo(scss=True, category='stub', type='px', value='2px'), stub_border_color=OptionsInfo(scss=True, category='stub', type='value', value='#D3D3D3'), stub_row_group_background_color=OptionsInfo(scss=True, category='stub', type='value', value=None), stub_row_group_font_size=OptionsInfo(scss=True, category='stub', type='px', value='100%'), stub_row_group_font_weight=OptionsInfo(scss=True, category='stub', type='value', value='initial'), stub_row_group_text_transform=OptionsInfo(scss=True, category='stub', type='value', value='inherit'), stub_row_group_border_style=OptionsInfo(scss=True, category='stub', type='value', value='solid'), stub_row_group_border_width=OptionsInfo(scss=True, category='stub', type='px', value='2px'), stub_row_group_border_color=OptionsInfo(scss=True, category='stub', type='value', value='#D3D3D3'), source_notes_padding=OptionsInfo(scss=True, category='source_notes', type='px', value='4px'), source_notes_padding_horizontal=OptionsInfo(scss=True, category='source_notes', type='px', value='5px'), source_notes_background_color=OptionsInfo(scss=True, category='source_notes', type='value', value=None), source_notes_font_size=OptionsInfo(scss=True, category='source_notes', type='px', value='90%'), source_notes_border_bottom_style=OptionsInfo(scss=True, category='source_notes', type='value', value='none'), source_notes_border_bottom_width=OptionsInfo(scss=True, category='source_notes', type='px', value='2px'), source_notes_border_bottom_color=OptionsInfo(scss=True, category='source_notes', type='value', value='#D3D3D3'), source_notes_border_lr_style=OptionsInfo(scss=True, category='source_notes', type='value', value='none'), source_notes_border_lr_width=OptionsInfo(scss=True, category='source_notes', type='px', value='2px'), source_notes_border_lr_color=OptionsInfo(scss=True, category='source_notes', type='value', value='#D3D3D3'), source_notes_multiline=OptionsInfo(scss=False, category='source_notes', type='boolean', value=True), source_notes_sep=OptionsInfo(scss=False, category='source_notes', type='value', value=' '), row_striping_background_color=OptionsInfo(scss=True, category='row', type='value', value='rgba(128,128,128,0.05)'), row_striping_include_stub=OptionsInfo(scss=False, category='row', type='boolean', value=False), row_striping_include_table_body=OptionsInfo(scss=False, category='row', type='boolean', value=False), container_width=OptionsInfo(scss=False, category='container', type='px', value='auto'), container_height=OptionsInfo(scss=False, category='container', type='px', value='auto'), container_padding_x=OptionsInfo(scss=False, category='container', type='px', value='0px'), container_padding_y=OptionsInfo(scss=False, category='container', type='px', value='10px'), container_overflow_x=OptionsInfo(scss=False, category='container', type='overflow', value='auto'), container_overflow_y=OptionsInfo(scss=False, category='container', type='overflow', value='auto'), quarto_disable_processing=OptionsInfo(scss=False, category='quarto', type='logical', value=False), quarto_use_bootstrap=OptionsInfo(scss=False, category='quarto', type='logical', value=False)), _has_built=False)"
      ]
     },
     "execution_count": 77,
     "metadata": {},
     "output_type": "execute_result"
    }
   ],
   "source": [
    "flags = [\"complex\", \"func\", \"trig\"]\n",
    "expressions = [x * y, gamma(1 + x), sin(x + y)]\n",
    "infos = [\"複素数の展開\", \"特殊関数の展開\", \"三角関数の展開\"]\n",
    "table = []\n",
    "for flag, expression, info in zip(flags, expressions, infos):\n",
    "    table.append(\n",
    "        [f\"{flag}\", f\"expand({expression})\", f\"{latex(expand(expression))}\", info]\n",
    "    )\n",
    "latex_table(table, [\"フラグ\", \"式\", \"結果\", \"説明\"], \"結果\")"
   ]
  },
  {
   "cell_type": "markdown",
   "metadata": {},
   "source": [
    "* `complex`：複素数の実部と虚部を展開します。"
   ]
  },
  {
   "cell_type": "code",
   "execution_count": 89,
   "metadata": {
    "collapsed": false,
    "jupyter": {
     "outputs_hidden": false
    }
   },
   "outputs": [
    {
     "data": {
      "text/latex": [
       "$\\displaystyle \\operatorname{re}{\\left(x\\right)} \\operatorname{re}{\\left(y\\right)} + i \\operatorname{re}{\\left(x\\right)} \\operatorname{im}{\\left(y\\right)} + i \\operatorname{re}{\\left(y\\right)} \\operatorname{im}{\\left(x\\right)} - \\operatorname{im}{\\left(x\\right)} \\operatorname{im}{\\left(y\\right)}$"
      ],
      "text/plain": [
       "re(x)*re(y) + I*re(x)*im(y) + I*re(y)*im(x) - im(x)*im(y)"
      ]
     },
     "execution_count": 89,
     "metadata": {},
     "output_type": "execute_result"
    }
   ],
   "source": [
    "x, y = symbols(\"x,y\", complex=True)\n",
    "expand(x * y, complex=True)"
   ]
  },
  {
   "cell_type": "markdown",
   "metadata": {},
   "source": [
    "* `func`：特殊関数を展開します。"
   ]
  },
  {
   "cell_type": "code",
   "execution_count": 90,
   "metadata": {
    "collapsed": false,
    "jupyter": {
     "outputs_hidden": false
    }
   },
   "outputs": [
    {
     "data": {
      "text/latex": [
       "$\\displaystyle x \\Gamma\\left(x\\right)$"
      ],
      "text/plain": [
       "x*gamma(x)"
      ]
     },
     "execution_count": 90,
     "metadata": {},
     "output_type": "execute_result"
    }
   ],
   "source": [
    "expand(gamma(1 + x), func=True)"
   ]
  },
  {
   "cell_type": "markdown",
   "metadata": {},
   "source": [
    "* `trig`：三角関数を展開します。"
   ]
  },
  {
   "cell_type": "code",
   "execution_count": 91,
   "metadata": {
    "collapsed": false,
    "jupyter": {
     "outputs_hidden": false
    }
   },
   "outputs": [
    {
     "data": {
      "text/latex": [
       "$\\displaystyle \\sin{\\left(x \\right)} \\cos{\\left(y \\right)} + \\sin{\\left(y \\right)} \\cos{\\left(x \\right)}$"
      ],
      "text/plain": [
       "sin(x)*cos(y) + sin(y)*cos(x)"
      ]
     },
     "execution_count": 91,
     "metadata": {},
     "output_type": "execute_result"
    }
   ],
   "source": [
    "expand(sin(x + y), trig=True)"
   ]
  },
  {
   "cell_type": "markdown",
   "metadata": {},
   "source": [
    "`expand_log()`、`expand_mul()`、`expand_complex()`、`expand_trig()`、`expand_func()`などの関数は、対応するフラグパラメータを`True`に設定することで`expand()`をラップします。\n",
    "\n",
    "`factor()`は多項式を因数分解できます："
   ]
  },
  {
   "cell_type": "code",
   "execution_count": 92,
   "metadata": {
    "collapsed": false,
    "jupyter": {
     "outputs_hidden": false
    }
   },
   "outputs": [
    {
     "data": {
      "text/latex": [
       "$\\displaystyle \\left(3 x - 2 y\\right) \\left(5 x - 1\\right)$"
      ],
      "text/plain": [
       "(3*x - 2*y)*(5*x - 1)"
      ]
     },
     "execution_count": 92,
     "metadata": {},
     "output_type": "execute_result"
    }
   ],
   "source": [
    "factor(15 * x**2 + 2 * y - 3 * x - 10 * x * y)"
   ]
  },
  {
   "cell_type": "markdown",
   "metadata": {},
   "source": [
    "`collect()`は指定されたシンボルの有理指数べき乗の係数を収集します。以下の例では、式`eq`中の`x`の各べき乗の係数を取得します。まず、式を展開して一連の乗算の和を得てから、`collect()`を呼び出して`x`の各べき乗の係数を収集します："
   ]
  },
  {
   "cell_type": "code",
   "execution_count": 93,
   "metadata": {
    "collapsed": false,
    "jupyter": {
     "outputs_hidden": false
    }
   },
   "outputs": [
    {
     "data": {
      "text/latex": [
       "$\\displaystyle x^{3} a^{3} + x^{2} \\left(3 a^{2} + b^{2}\\right) + x \\left(3 a + 2 b\\right) + 2$"
      ],
      "text/plain": [
       "x**3*a_**3 + x**2*(3*a_**2 + b_**2) + x*(3*a_ + 2*b_) + 2"
      ]
     },
     "execution_count": 93,
     "metadata": {},
     "output_type": "execute_result"
    }
   ],
   "source": [
    "eq = (1 + a * x) ** 3 + (1 + b * x) ** 2\n",
    "eq2 = expand(eq)\n",
    "collect(eq2, x)"
   ]
  },
  {
   "cell_type": "markdown",
   "metadata": {},
   "source": [
    "デフォルトのパラメータでは、`collect()`は整理された式を返します。`x`の各べき乗の係数を取得したい場合は、パラメータ`evaluate`を`False`に設定して、`x`のべき乗をキーとし、係数を値とする辞書を返すようにします。"
   ]
  },
  {
   "cell_type": "code",
   "execution_count": 94,
   "metadata": {
    "collapsed": false,
    "jupyter": {
     "outputs_hidden": false
    }
   },
   "outputs": [
    {
     "data": {
      "text/plain": [
       "{x**2: 3*a_**2 + b_**2, x**3: a_**3, x: 3*a_ + 2*b_, 1: 2}"
      ]
     },
     "execution_count": 94,
     "metadata": {},
     "output_type": "execute_result"
    }
   ],
   "source": [
    "p = collect(eq2, x, evaluate=False)\n",
    "p"
   ]
  },
  {
   "cell_type": "markdown",
   "metadata": {},
   "source": [
    "`coeff()`メソッドを使用して係数を取得することもできます。以下の例では、定数項と$x^2$の係数を取得します："
   ]
  },
  {
   "cell_type": "code",
   "execution_count": 95,
   "metadata": {
    "collapsed": false,
    "jupyter": {
     "outputs_hidden": false
    }
   },
   "outputs": [
    {
     "data": {
      "text/latex": [
       "$$2, 3 a^{2} + b^{2}$$"
      ]
     },
     "metadata": {},
     "output_type": "display_data"
    }
   ],
   "source": [
    "%latex eq2.coeff(x, 0), eq2.coeff(x, 2)"
   ]
  },
  {
   "cell_type": "markdown",
   "metadata": {},
   "source": [
    "`collect()`は式の各べき乗の係数を収集することもできます。以下のプログラムは、式$\\sin 2x$の係数を収集します："
   ]
  },
  {
   "cell_type": "code",
   "execution_count": 96,
   "metadata": {
    "collapsed": false,
    "jupyter": {
     "outputs_hidden": false
    }
   },
   "outputs": [
    {
     "data": {
      "text/latex": [
       "$\\displaystyle \\left(a + b\\right) \\sin{\\left(2 x \\right)}$"
      ],
      "text/plain": [
       "(a_ + b_)*sin(2*x)"
      ]
     },
     "execution_count": 96,
     "metadata": {},
     "output_type": "execute_result"
    }
   ],
   "source": [
    "collect(a * sin(2 * x) + b * sin(2 * x), sin(2 * x))"
   ]
  },
  {
   "cell_type": "markdown",
   "metadata": {},
   "source": [
    "### 方程式\n",
    "\n",
    "SymPyでは、式は直接的に値が0の方程式を表すことができます。また、`Eq()`を使用して方程式を作成することもできます。`solve()`は方程式をシンボリックに解くことができます。最初のパラメータは方程式を表す式で、その後のパラメータは方程式中の未知の変数を表すシンボルです。以下の例では、`solve()`を使用して二次方程式を解きます："
   ]
  },
  {
   "cell_type": "code",
   "execution_count": 97,
   "metadata": {
    "collapsed": false,
    "jupyter": {
     "outputs_hidden": false
    }
   },
   "outputs": [
    {
     "data": {
      "text/latex": [
       "$$\\left[ \\frac{- b - \\sqrt{- 4 a c + b^{2}}}{2 a}, \\  \\frac{- b + \\sqrt{- 4 a c + b^{2}}}{2 a}\\right]$$"
      ]
     },
     "metadata": {},
     "output_type": "display_data"
    }
   ],
   "source": [
    "a, b, c = symbols(\"a,b,c\")\n",
    "%latex solve(a * x ** 2 + b * x + c, x)"
   ]
  },
  {
   "cell_type": "markdown",
   "metadata": {},
   "source": [
    "方程式の解が複数ある場合、`solve()`はすべての解を含むリストを返します。複数の式を含むリストを渡すことで、`solve()`に連立方程式を解かせることができます。得られる解は二重にネストされたリストで、各タプルが連立方程式の一組の解を表します："
   ]
  },
  {
   "cell_type": "code",
   "execution_count": 98,
   "metadata": {
    "collapsed": false,
    "jupyter": {
     "outputs_hidden": false
    }
   },
   "outputs": [
    {
     "data": {
      "text/latex": [
       "$$\\left[ \\left( - \\frac{\\sqrt{3} i}{3}, \\  - \\frac{2 \\sqrt{3} i}{3}\\right), \\  \\left( \\frac{\\sqrt{3} i}{3}, \\  \\frac{2 \\sqrt{3} i}{3}\\right)\\right]$$"
      ]
     },
     "metadata": {},
     "output_type": "display_data"
    }
   ],
   "source": [
    "%latex solve((x ** 2 + x * y + 1, y ** 2 + x * y + 2), x, y)"
   ]
  },
  {
   "cell_type": "markdown",
   "metadata": {},
   "source": [
    "`roots()`は単変数多項式の根を計算できます："
   ]
  },
  {
   "cell_type": "code",
   "execution_count": 99,
   "metadata": {
    "collapsed": false,
    "jupyter": {
     "outputs_hidden": false
    }
   },
   "outputs": [
    {
     "data": {
      "text/latex": [
       "$$\\left\\{ 1 : 1, \\  1 - \\sqrt{2} : 1, \\  1 + \\sqrt{2} : 1\\right\\}$$"
      ]
     },
     "metadata": {},
     "output_type": "display_data"
    }
   ],
   "source": [
    "%latex roots(x**3 - 3*x**2 + x + 1)"
   ]
  },
  {
   "cell_type": "markdown",
   "metadata": {},
   "source": [
    "### 微分\n",
    "\n",
    "`Derivative`は導関数を表すクラスです。最初のパラメータは微分する式で、2番目のパラメータは微分する変数です。`Derivative`は導関数を表すだけで、実際に微分を計算しません："
   ]
  },
  {
   "cell_type": "code",
   "execution_count": 100,
   "metadata": {
    "collapsed": false,
    "jupyter": {
     "outputs_hidden": false
    }
   },
   "outputs": [
    {
     "data": {
      "text/latex": [
       "$\\displaystyle \\frac{d}{d x} \\sin{\\left(x \\right)}$"
      ],
      "text/plain": [
       "Derivative(sin(x), x)"
      ]
     },
     "execution_count": 100,
     "metadata": {},
     "output_type": "execute_result"
    }
   ],
   "source": [
    "t = Derivative(sin(x), x)\n",
    "t"
   ]
  },
  {
   "cell_type": "markdown",
   "metadata": {},
   "source": [
    "`doit()`メソッドを呼び出すことで微分の結果を計算できます："
   ]
  },
  {
   "cell_type": "code",
   "execution_count": 101,
   "metadata": {
    "collapsed": false,
    "jupyter": {
     "outputs_hidden": false
    }
   },
   "outputs": [
    {
     "data": {
      "text/latex": [
       "$\\displaystyle \\cos{\\left(x \\right)}$"
      ],
      "text/plain": [
       "cos(x)"
      ]
     },
     "execution_count": 101,
     "metadata": {},
     "output_type": "execute_result"
    }
   ],
   "source": [
    "t.doit()"
   ]
  },
  {
   "cell_type": "markdown",
   "metadata": {},
   "source": [
    "`diff()`関数または式の`diff()`メソッドを使用して直接導関数を計算することもできます："
   ]
  },
  {
   "cell_type": "code",
   "execution_count": 140,
   "metadata": {
    "collapsed": false,
    "jupyter": {
     "outputs_hidden": false
    }
   },
   "outputs": [
    {
     "data": {
      "text/latex": [
       "$\\displaystyle 2 \\cos{\\left(2 x \\right)}$"
      ],
      "text/plain": [
       "2*cos(2*x)"
      ]
     },
     "execution_count": 140,
     "metadata": {},
     "output_type": "execute_result"
    }
   ],
   "source": [
    "diff(sin(2 * x), x)"
   ]
  },
  {
   "cell_type": "markdown",
   "metadata": {},
   "source": [
    "`Derivative`オブジェクトを使用して、カスタムの数学関数の導関数を表すことができます。例えば："
   ]
  },
  {
   "cell_type": "code",
   "execution_count": 141,
   "metadata": {
    "collapsed": false,
    "jupyter": {
     "outputs_hidden": false
    }
   },
   "outputs": [
    {
     "data": {
      "text/latex": [
       "$\\displaystyle \\frac{d}{d x} f{\\left(x \\right)}$"
      ],
      "text/plain": [
       "Derivative(f(x), x)"
      ]
     },
     "execution_count": 141,
     "metadata": {},
     "output_type": "execute_result"
    }
   ],
   "source": [
    "f = Function(\"f\")\n",
    "Derivative(f(x), x)"
   ]
  },
  {
   "cell_type": "markdown",
   "metadata": {},
   "source": [
    "SymPyはカスタムの数学関数を微分する方法を知らないため、`diff()`は`Derivative`オブジェクトを返します。追加の変数シンボルパラメータを指定することで、高階導関数を表すことができます。例えば："
   ]
  },
  {
   "cell_type": "code",
   "execution_count": 142,
   "metadata": {
    "collapsed": false,
    "jupyter": {
     "outputs_hidden": false
    }
   },
   "outputs": [
    {
     "data": {
      "text/latex": [
       "$\\displaystyle \\frac{d^{3}}{d x^{3}} f{\\left(x \\right)}$"
      ],
      "text/plain": [
       "Derivative(f(x), (x, 3))"
      ]
     },
     "execution_count": 142,
     "metadata": {},
     "output_type": "execute_result"
    }
   ],
   "source": [
    "Derivative(f(x), x, x, x)  # またはDerivative(f(x), x, 3)"
   ]
  },
  {
   "cell_type": "markdown",
   "metadata": {},
   "source": [
    "異なる変数シンボルに対して偏微分を計算することもできます："
   ]
  },
  {
   "cell_type": "code",
   "execution_count": 143,
   "metadata": {
    "collapsed": false,
    "jupyter": {
     "outputs_hidden": false
    }
   },
   "outputs": [
    {
     "data": {
      "text/latex": [
       "$\\displaystyle \\frac{\\partial^{5}}{\\partial y^{3}\\partial x^{2}} f{\\left(x,y \\right)}$"
      ],
      "text/plain": [
       "Derivative(f(x, y), (x, 2), (y, 3))"
      ]
     },
     "execution_count": 143,
     "metadata": {},
     "output_type": "execute_result"
    }
   ],
   "source": [
    "Derivative(f(x, y), x, 2, y, 3)"
   ]
  },
  {
   "cell_type": "markdown",
   "metadata": {},
   "source": [
    "`diff()`のパラメータは`Derivative`と同じです。以下のプログラムは、関数$\\sin\\left(x y\\right)$を$x$で2回、$y$で3回微分した結果を計算します："
   ]
  },
  {
   "cell_type": "code",
   "execution_count": 144,
   "metadata": {
    "collapsed": false,
    "jupyter": {
     "outputs_hidden": false
    }
   },
   "outputs": [
    {
     "data": {
      "text/latex": [
       "$\\displaystyle x \\left(x^{2} y^{2} \\cos{\\left(x y \\right)} + 6 x y \\sin{\\left(x y \\right)} - 6 \\cos{\\left(x y \\right)}\\right)$"
      ],
      "text/plain": [
       "x*(x**2*y**2*cos(x*y) + 6*x*y*sin(x*y) - 6*cos(x*y))"
      ]
     },
     "execution_count": 144,
     "metadata": {},
     "output_type": "execute_result"
    }
   ],
   "source": [
    "diff(sin(x * y), x, 2, y, 3)"
   ]
  },
  {
   "cell_type": "markdown",
   "metadata": {},
   "source": [
    "### 微分方程式\n",
    "\n",
    "`dsolve()`は微分方程式をシンボリックに解くことができます。最初のパラメータは未知の関数を含む式で、2番目のパラメータは解くべき未知の関数です。例えば、以下のプログラムは微分方程式${f}^{'}\\left(x\\right) - {f}\\left(x\\right)=0$を解きます。得られる結果は自然指数関数で、未定係数$C_{1}$を持ちます。"
   ]
  },
  {
   "cell_type": "code",
   "execution_count": 145,
   "metadata": {
    "collapsed": false,
    "jupyter": {
     "outputs_hidden": false
    }
   },
   "outputs": [
    {
     "data": {
      "text/latex": [
       "$\\displaystyle f{\\left(x \\right)} = C_{1} e^{x}$"
      ],
      "text/plain": [
       "Eq(f(x), C1*exp(x))"
      ]
     },
     "execution_count": 145,
     "metadata": {},
     "output_type": "execute_result"
    }
   ],
   "source": [
    "x = symbols(\"x\")\n",
    "f = symbols(\"f\", cls=Function)\n",
    "dsolve(Derivative(f(x), x) - f(x), f(x))"
   ]
  },
  {
   "cell_type": "markdown",
   "metadata": {},
   "source": [
    "異なる形式の微分方程式は異なる解法を必要とします。`classify_ode()`を使用して、指定された微分方程式に対応する解法のリストを確認できます。以下の例では、方程式$f^{'}(x) + f(x) = (\\cos(x)- \\sin(x)) \\, f(x)^2$に対応する解法を確認します："
   ]
  },
  {
   "cell_type": "code",
   "execution_count": 146,
   "metadata": {
    "collapsed": false,
    "jupyter": {
     "outputs_hidden": false
    }
   },
   "outputs": [
    {
     "data": {
      "text/plain": [
       "('factorable',\n",
       " 'Bernoulli',\n",
       " '1st_power_series',\n",
       " 'lie_group',\n",
       " 'Bernoulli_Integral')"
      ]
     },
     "execution_count": 146,
     "metadata": {},
     "output_type": "execute_result"
    }
   ],
   "source": [
    "eq = Eq(f(x).diff(x) + f(x), (cos(x) - sin(x)) * f(x) ** 2)\n",
    "classify_ode(eq, f(x))"
   ]
  },
  {
   "cell_type": "markdown",
   "metadata": {},
   "source": [
    "`dsolve()`の`hint`パラメータを使用して解法を指定できます。デフォルト値は`'default'`で、`classify_ode()`の戻り値の最初の解法を使用します："
   ]
  },
  {
   "cell_type": "code",
   "execution_count": 147,
   "metadata": {
    "collapsed": false,
    "jupyter": {
     "outputs_hidden": false
    }
   },
   "outputs": [
    {
     "data": {
      "text/latex": [
       "$\\displaystyle f{\\left(x \\right)} = \\frac{1}{C_{1} e^{x} - \\sin{\\left(x \\right)}}$"
      ],
      "text/plain": [
       "Eq(f(x), 1/(C1*exp(x) - sin(x)))"
      ]
     },
     "execution_count": 147,
     "metadata": {},
     "output_type": "execute_result"
    }
   ],
   "source": [
    "sol1 = dsolve(eq, f(x))\n",
    "sol1"
   ]
  },
  {
   "cell_type": "markdown",
   "metadata": {},
   "source": [
    "`dsolve()`は`Equality`オブジェクトを返し、その`rhs`属性を使用して等号の右側の式を取得できます："
   ]
  },
  {
   "cell_type": "code",
   "execution_count": 148,
   "metadata": {},
   "outputs": [
    {
     "data": {
      "text/latex": [
       "$\\displaystyle \\frac{1}{C_{1} e^{x} - \\sin{\\left(x \\right)}}$"
      ],
      "text/plain": [
       "1/(C1*exp(x) - sin(x))"
      ]
     },
     "execution_count": 148,
     "metadata": {},
     "output_type": "execute_result"
    }
   ],
   "source": [
    "sol1.rhs"
   ]
  },
  {
   "cell_type": "markdown",
   "metadata": {},
   "source": [
    "以下の例では、`'1st_power_series'`解法を使用して、解関数のテイラー展開の最初の4項を取得します。項数はパラメータ`n`で指定します。ここでは、`collect()`と`simplify()`を使用して`dsolve()`が返す式を簡略化します："
   ]
  },
  {
   "cell_type": "code",
   "execution_count": 149,
   "metadata": {},
   "outputs": [
    {
     "data": {
      "text/latex": [
       "$\\displaystyle x \\left(C_{1}^{2} - C_{1}\\right) + x^{2} \\left(C_{1}^{3} - 2 C_{1}^{2} + \\frac{C_{1}}{2}\\right) + x^{3} \\left(C_{1}^{4} - 3 C_{1}^{3} + \\frac{11 C_{1}^{2}}{6} - \\frac{C_{1}}{6}\\right) + C_{1} + O\\left(x^{4}\\right)$"
      ],
      "text/plain": [
       "x*(C1**2 - C1) + x**2*(C1**3 - 2*C1**2 + C1/2) + x**3*(C1**4 - 3*C1**3 + 11*C1**2/6 - C1/6) + C1 + O(x**4)"
      ]
     },
     "execution_count": 149,
     "metadata": {},
     "output_type": "execute_result"
    }
   ],
   "source": [
    "sol2 = dsolve(eq, f(x), hint=\"1st_power_series\", n=4)\n",
    "collect(simplify(sol2.rhs), x)"
   ]
  },
  {
   "cell_type": "markdown",
   "metadata": {},
   "source": [
    "以下の例では、`series()`メソッドを使用して`sol1`のテイラー展開を取得します。上記の結果と一致していることがわかりますが、2つの結果の未定係数$C_1$が互いに逆数になっています。"
   ]
  },
  {
   "cell_type": "code",
   "execution_count": 150,
   "metadata": {},
   "outputs": [
    {
     "data": {
      "text/latex": [
       "$\\displaystyle \\frac{1}{C_{1}} + \\frac{x \\left(-1 + \\frac{1}{C_{1}}\\right)}{C_{1}} + \\frac{x^{2} \\left(\\left(1 - \\frac{1}{C_{1}}\\right)^{2} - \\frac{1}{2}\\right)}{C_{1}} + \\frac{x^{3} \\left(- \\left(1 - \\frac{1}{C_{1}}\\right)^{3} + \\frac{5}{6} - \\frac{7}{6 C_{1}}\\right)}{C_{1}} + O\\left(x^{4}\\right)$"
      ],
      "text/plain": [
       "1/C1 + x*(-1 + 1/C1)/C1 + x**2*((1 - 1/C1)**2 - 1/2)/C1 + x**3*(-(1 - 1/C1)**3 + 5/6 - 7/(6*C1))/C1 + O(x**4)"
      ]
     },
     "execution_count": 150,
     "metadata": {},
     "output_type": "execute_result"
    }
   ],
   "source": [
    "sol1.rhs.series(x, n=4)"
   ]
  },
  {
   "cell_type": "markdown",
   "metadata": {},
   "source": [
    "`hint`を`'all'`に設定することで、`dsolve()`に`classify_ode()`が返すすべての解法を試させることができます："
   ]
  },
  {
   "cell_type": "code",
   "execution_count": 151,
   "metadata": {
    "collapsed": false,
    "jupyter": {
     "outputs_hidden": false
    }
   },
   "outputs": [
    {
     "data": {
      "text/plain": [
       "{'Bernoulli_Integral': Eq(f(x), 1/(C1*exp(x) - sqrt(2)*sin(x + pi/4)/2 + sqrt(2)*cos(x + pi/4)/2)),\n",
       " 'Bernoulli': Eq(f(x), 1/(C1*exp(x) - sin(x))),\n",
       " 'lie_group': Eq(f(x), 1/(C1*exp(x) - sin(x))),\n",
       " '1st_power_series': Eq(f(x), C1 + C1*x*(C1 - 1) + C1*x**2*(-C1 + (C1 - 1)*(2*C1 - 1))/2 + O(x**3)),\n",
       " 'factorable': Eq(f(x), 1/(C1*exp(x) - sin(x))),\n",
       " 'best': Eq(f(x), 1/(C1*exp(x) - sqrt(2)*sin(x + pi/4)/2 + sqrt(2)*cos(x + pi/4)/2)),\n",
       " 'best_hint': 'Bernoulli_Integral',\n",
       " 'default': 'factorable',\n",
       " 'order': 1}"
      ]
     },
     "execution_count": 151,
     "metadata": {},
     "output_type": "execute_result"
    }
   ],
   "source": [
    "dsolve(eq, f(x), hint=\"all\", n=3)"
   ]
  },
  {
   "cell_type": "markdown",
   "metadata": {},
   "source": [
    "`sympy.ode.allhints`を使用して、システムがサポートするすべての解法を確認できます："
   ]
  },
  {
   "cell_type": "code",
   "execution_count": 152,
   "metadata": {
    "collapsed": false,
    "jupyter": {
     "outputs_hidden": false
    }
   },
   "outputs": [
    {
     "name": "stdout",
     "output_type": "stream",
     "text": [
      "('factorable',\n",
      " 'nth_algebraic',\n",
      " 'separable',\n",
      " '1st_exact',\n",
      "...\n"
     ]
    }
   ],
   "source": [
    "from sympy.solvers.ode import allhints\n",
    "\n",
    "%omit allhints"
   ]
  },
  {
   "cell_type": "markdown",
   "metadata": {},
   "source": [
    "### 積分\n",
    "\n",
    "`integrate()`は定積分と不定積分を計算できます：\n",
    "\n",
    "* `integrate(f, x)`：不定積分$\\int f dx$ を計算します\n",
    "\n",
    "* `integrate(f, (x, a, b))`：定積分$\\int_{a}^{b} f dx$ を計算します\n",
    "\n",
    "複数の変数に対して多重積分を計算する場合は、積分する変数を順に列挙するだけです：\n",
    "\n",
    "* `integrate(f, x, y)`：二重不定積分$\\int\\int f dx dy$ を計算します\n",
    "\n",
    "* `integrate(f, (x, a, b), (y, c, d))`：二重定積分$\\int_{c}^{d}\\int_{a}^{b} f dx dy$ を計算します\n",
    "\n",
    "`Derivative`オブジェクトが微分式を表すのと同様に、`Integral`オブジェクトは積分式を表します。そのパラメータは`integrate()`と同様です。例えば："
   ]
  },
  {
   "cell_type": "code",
   "execution_count": 153,
   "metadata": {
    "collapsed": false,
    "jupyter": {
     "outputs_hidden": false
    }
   },
   "outputs": [
    {
     "data": {
      "text/latex": [
       "$\\displaystyle \\int x \\sin{\\left(x \\right)}\\, dx$"
      ],
      "text/plain": [
       "Integral(x*sin(x), x)"
      ]
     },
     "execution_count": 153,
     "metadata": {},
     "output_type": "execute_result"
    }
   ],
   "source": [
    "e = Integral(x * sin(x), x)\n",
    "e"
   ]
  },
  {
   "cell_type": "markdown",
   "metadata": {},
   "source": [
    "積分オブジェクトの`doit()`メソッドを呼び出すことで積分を計算できます："
   ]
  },
  {
   "cell_type": "code",
   "execution_count": 154,
   "metadata": {
    "collapsed": false,
    "jupyter": {
     "outputs_hidden": false
    }
   },
   "outputs": [
    {
     "data": {
      "text/latex": [
       "$\\displaystyle - x \\cos{\\left(x \\right)} + \\sin{\\left(x \\right)}$"
      ],
      "text/plain": [
       "-x*cos(x) + sin(x)"
      ]
     },
     "execution_count": 154,
     "metadata": {},
     "output_type": "execute_result"
    }
   ],
   "source": [
    "e.doit()"
   ]
  },
  {
   "cell_type": "markdown",
   "metadata": {},
   "source": [
    "一部の積分式はシンボリックに簡略化できません。その場合、評価メソッド`evalf()`または評価関数`N()`を呼び出して数値積分を行うことができます："
   ]
  },
  {
   "cell_type": "code",
   "execution_count": 155,
   "metadata": {
    "collapsed": false,
    "jupyter": {
     "outputs_hidden": false
    }
   },
   "outputs": [
    {
     "data": {
      "text/latex": [
       "$\\displaystyle \\operatorname{Si}{\\left(1 \\right)}$"
      ],
      "text/plain": [
       "Si(1)"
      ]
     },
     "execution_count": 155,
     "metadata": {},
     "output_type": "execute_result"
    }
   ],
   "source": [
    "e2 = Integral(sin(x) / x, (x, 0, 1))\n",
    "e2.doit()"
   ]
  },
  {
   "cell_type": "markdown",
   "metadata": {},
   "source": [
    "`doit()`は特殊関数で表された値を返します。以下の例では、`evalf()`を使用してその数値を計算します："
   ]
  },
  {
   "cell_type": "code",
   "execution_count": 156,
   "metadata": {
    "collapsed": false,
    "jupyter": {
     "outputs_hidden": false
    }
   },
   "outputs": [
    {
     "name": "stdout",
     "output_type": "stream",
     "text": [
      "0.946083070367183\n",
      "0.9460830703671830149413533138231796578123379547381117904714547735666870365407979180887021330817407112\n"
     ]
    }
   ],
   "source": [
    "print(e2.evalf())\n",
    "print(e2.evalf(100))  # 精度を指定できます"
   ]
  },
  {
   "cell_type": "markdown",
   "metadata": {},
   "source": [
    "$\\frac{\\sin\\left(x\\right)}{x}$の積分は特殊関数として定義されており、0から無限大までの定積分の値は$\\pi/2$です。つまり：\n",
    "\n",
    "$$\\int_{0}^{\\infty} \\frac{\\sin\\left(x\\right)}{x} dx = \\pi/2$$\n",
    "\n",
    "しかし、SymPyの数値計算機能はまだ十分に強力ではなく、このような定積分に対応できません："
   ]
  },
  {
   "cell_type": "code",
   "execution_count": 157,
   "metadata": {
    "collapsed": false,
    "jupyter": {
     "outputs_hidden": false
    }
   },
   "outputs": [
    {
     "data": {
      "text/latex": [
       "$\\displaystyle -4.0$"
      ],
      "text/plain": [
       "-0.e+0"
      ]
     },
     "execution_count": 157,
     "metadata": {},
     "output_type": "execute_result"
    }
   ],
   "source": [
    "e3 = Integral(sin(x) / x, (x, 0, oo))\n",
    "e3.evalf()"
   ]
  },
  {
   "cell_type": "markdown",
   "metadata": {},
   "source": [
    "`doit()`を呼び出すことで、正確なシンボリックな結果を計算できます："
   ]
  },
  {
   "cell_type": "code",
   "execution_count": 158,
   "metadata": {
    "collapsed": false,
    "jupyter": {
     "outputs_hidden": false
    }
   },
   "outputs": [
    {
     "data": {
      "text/latex": [
       "$\\displaystyle \\frac{\\pi}{2}$"
      ],
      "text/plain": [
       "pi/2"
      ]
     },
     "execution_count": 158,
     "metadata": {},
     "output_type": "execute_result"
    }
   ],
   "source": [
    "e3.doit()"
   ]
  }
 ],
 "metadata": {
  "kernelspec": {
   "display_name": "Python 3 (ipykernel)",
   "language": "python",
   "name": "python3"
  },
  "language_info": {
   "codemirror_mode": {
    "name": "ipython",
    "version": 3
   },
   "file_extension": ".py",
   "mimetype": "text/x-python",
   "name": "python",
   "nbconvert_exporter": "python",
   "pygments_lexer": "ipython3",
   "version": "3.13.2"
  },
  "widgets": {
   "application/vnd.jupyter.widget-state+json": {
    "state": {},
    "version_major": 2,
    "version_minor": 0
   }
  }
 },
 "nbformat": 4,
 "nbformat_minor": 4
}
